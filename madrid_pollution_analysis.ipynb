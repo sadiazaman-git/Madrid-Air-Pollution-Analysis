{
 "cells": [
  {
   "cell_type": "code",
   "execution_count": 1,
   "id": "3be7cfc0",
   "metadata": {
    "ExecuteTime": {
     "end_time": "2025-05-17T08:19:10.530050Z",
     "start_time": "2025-05-17T08:19:08.135984Z"
    }
   },
   "outputs": [
    {
     "name": "stderr",
     "output_type": "stream",
     "text": [
      "<frozen importlib._bootstrap>:228: RuntimeWarning: scipy._lib.messagestream.MessageStream size changed, may indicate binary incompatibility. Expected 56 from C header, got 64 from PyObject\n"
     ]
    }
   ],
   "source": [
    "import pandas as pd\n",
    "import glob\n",
    "from sklearn.preprocessing import StandardScaler\n",
    "import seaborn as sns\n",
    "import numpy as np\n",
    "import math\n",
    "import matplotlib.pyplot as plt\n",
    "import plotly.graph_objects as go\n",
    "from dash import Dash, dcc, html, Input, Output\n"
   ]
  },
  {
   "cell_type": "code",
   "execution_count": 2,
   "id": "a5a667c2",
   "metadata": {
    "ExecuteTime": {
     "end_time": "2025-05-17T08:19:10.929359Z",
     "start_time": "2025-05-17T08:19:10.532168Z"
    }
   },
   "outputs": [
    {
     "data": {
      "text/html": [
       "        <script type=\"text/javascript\">\n",
       "        window.PlotlyConfig = {MathJaxConfig: 'local'};\n",
       "        if (window.MathJax && window.MathJax.Hub && window.MathJax.Hub.Config) {window.MathJax.Hub.Config({SVG: {font: \"STIX-Web\"}});}\n",
       "        if (typeof require !== 'undefined') {\n",
       "        require.undef(\"plotly\");\n",
       "        requirejs.config({\n",
       "            paths: {\n",
       "                'plotly': ['https://cdn.plot.ly/plotly-2.30.0.min']\n",
       "            }\n",
       "        });\n",
       "        require(['plotly'], function(Plotly) {\n",
       "            window._Plotly = Plotly;\n",
       "        });\n",
       "        }\n",
       "        </script>\n",
       "        "
      ]
     },
     "metadata": {},
     "output_type": "display_data"
    }
   ],
   "source": [
    "import re\n",
    "import plotly\n",
    "import plotly.io as pio\n",
    "import plotly.express as px\n",
    "pio.renderers.default = 'notebook'\n",
    "plotly.offline.init_notebook_mode(connected=True)"
   ]
  },
  {
   "cell_type": "code",
   "execution_count": 3,
   "id": "09b1f3c6",
   "metadata": {
    "ExecuteTime": {
     "end_time": "2025-05-17T08:19:17.462435Z",
     "start_time": "2025-05-17T08:19:10.931361Z"
    }
   },
   "outputs": [
    {
     "data": {
      "text/html": [
       "<div>\n",
       "<style scoped>\n",
       "    .dataframe tbody tr th:only-of-type {\n",
       "        vertical-align: middle;\n",
       "    }\n",
       "\n",
       "    .dataframe tbody tr th {\n",
       "        vertical-align: top;\n",
       "    }\n",
       "\n",
       "    .dataframe thead th {\n",
       "        text-align: right;\n",
       "    }\n",
       "</style>\n",
       "<table border=\"1\" class=\"dataframe\">\n",
       "  <thead>\n",
       "    <tr style=\"text-align: right;\">\n",
       "      <th></th>\n",
       "      <th>date</th>\n",
       "      <th>BEN</th>\n",
       "      <th>CO</th>\n",
       "      <th>EBE</th>\n",
       "      <th>MXY</th>\n",
       "      <th>NMHC</th>\n",
       "      <th>NO_2</th>\n",
       "      <th>NOx</th>\n",
       "      <th>OXY</th>\n",
       "      <th>O_3</th>\n",
       "      <th>PM10</th>\n",
       "      <th>PM25</th>\n",
       "      <th>PXY</th>\n",
       "      <th>SO_2</th>\n",
       "      <th>TCH</th>\n",
       "      <th>TOL</th>\n",
       "      <th>station</th>\n",
       "      <th>year</th>\n",
       "      <th>CH4</th>\n",
       "      <th>NO</th>\n",
       "    </tr>\n",
       "  </thead>\n",
       "  <tbody>\n",
       "    <tr>\n",
       "      <th>0</th>\n",
       "      <td>2009-10-01 01:00:00</td>\n",
       "      <td>NaN</td>\n",
       "      <td>0.27</td>\n",
       "      <td>NaN</td>\n",
       "      <td>NaN</td>\n",
       "      <td>NaN</td>\n",
       "      <td>39.889999</td>\n",
       "      <td>48.150002</td>\n",
       "      <td>NaN</td>\n",
       "      <td>50.680000</td>\n",
       "      <td>18.260000</td>\n",
       "      <td>NaN</td>\n",
       "      <td>NaN</td>\n",
       "      <td>5.55</td>\n",
       "      <td>NaN</td>\n",
       "      <td>NaN</td>\n",
       "      <td>28079003</td>\n",
       "      <td>2009</td>\n",
       "      <td>NaN</td>\n",
       "      <td>NaN</td>\n",
       "    </tr>\n",
       "    <tr>\n",
       "      <th>1</th>\n",
       "      <td>2009-10-01 01:00:00</td>\n",
       "      <td>NaN</td>\n",
       "      <td>0.22</td>\n",
       "      <td>NaN</td>\n",
       "      <td>NaN</td>\n",
       "      <td>NaN</td>\n",
       "      <td>21.230000</td>\n",
       "      <td>24.260000</td>\n",
       "      <td>NaN</td>\n",
       "      <td>55.880001</td>\n",
       "      <td>10.580000</td>\n",
       "      <td>NaN</td>\n",
       "      <td>NaN</td>\n",
       "      <td>8.84</td>\n",
       "      <td>NaN</td>\n",
       "      <td>NaN</td>\n",
       "      <td>28079004</td>\n",
       "      <td>2009</td>\n",
       "      <td>NaN</td>\n",
       "      <td>NaN</td>\n",
       "    </tr>\n",
       "    <tr>\n",
       "      <th>2</th>\n",
       "      <td>2009-10-01 01:00:00</td>\n",
       "      <td>NaN</td>\n",
       "      <td>0.18</td>\n",
       "      <td>NaN</td>\n",
       "      <td>NaN</td>\n",
       "      <td>NaN</td>\n",
       "      <td>31.230000</td>\n",
       "      <td>34.880001</td>\n",
       "      <td>NaN</td>\n",
       "      <td>49.060001</td>\n",
       "      <td>25.190001</td>\n",
       "      <td>NaN</td>\n",
       "      <td>NaN</td>\n",
       "      <td>6.98</td>\n",
       "      <td>NaN</td>\n",
       "      <td>NaN</td>\n",
       "      <td>28079039</td>\n",
       "      <td>2009</td>\n",
       "      <td>NaN</td>\n",
       "      <td>NaN</td>\n",
       "    </tr>\n",
       "    <tr>\n",
       "      <th>3</th>\n",
       "      <td>2009-10-01 01:00:00</td>\n",
       "      <td>0.95</td>\n",
       "      <td>0.33</td>\n",
       "      <td>1.43</td>\n",
       "      <td>2.68</td>\n",
       "      <td>0.25</td>\n",
       "      <td>55.180000</td>\n",
       "      <td>81.360001</td>\n",
       "      <td>1.57</td>\n",
       "      <td>36.669998</td>\n",
       "      <td>26.530001</td>\n",
       "      <td>6.820000</td>\n",
       "      <td>1.3</td>\n",
       "      <td>8.88</td>\n",
       "      <td>1.38</td>\n",
       "      <td>4.62</td>\n",
       "      <td>28079006</td>\n",
       "      <td>2009</td>\n",
       "      <td>NaN</td>\n",
       "      <td>NaN</td>\n",
       "    </tr>\n",
       "    <tr>\n",
       "      <th>4</th>\n",
       "      <td>2009-10-01 01:00:00</td>\n",
       "      <td>NaN</td>\n",
       "      <td>0.41</td>\n",
       "      <td>NaN</td>\n",
       "      <td>NaN</td>\n",
       "      <td>0.12</td>\n",
       "      <td>61.349998</td>\n",
       "      <td>76.260002</td>\n",
       "      <td>NaN</td>\n",
       "      <td>38.090000</td>\n",
       "      <td>23.760000</td>\n",
       "      <td>NaN</td>\n",
       "      <td>NaN</td>\n",
       "      <td>7.82</td>\n",
       "      <td>1.41</td>\n",
       "      <td>NaN</td>\n",
       "      <td>28079007</td>\n",
       "      <td>2009</td>\n",
       "      <td>NaN</td>\n",
       "      <td>NaN</td>\n",
       "    </tr>\n",
       "    <tr>\n",
       "      <th>...</th>\n",
       "      <td>...</td>\n",
       "      <td>...</td>\n",
       "      <td>...</td>\n",
       "      <td>...</td>\n",
       "      <td>...</td>\n",
       "      <td>...</td>\n",
       "      <td>...</td>\n",
       "      <td>...</td>\n",
       "      <td>...</td>\n",
       "      <td>...</td>\n",
       "      <td>...</td>\n",
       "      <td>...</td>\n",
       "      <td>...</td>\n",
       "      <td>...</td>\n",
       "      <td>...</td>\n",
       "      <td>...</td>\n",
       "      <td>...</td>\n",
       "      <td>...</td>\n",
       "      <td>...</td>\n",
       "      <td>...</td>\n",
       "    </tr>\n",
       "    <tr>\n",
       "      <th>3808219</th>\n",
       "      <td>2010-08-01 00:00:00</td>\n",
       "      <td>NaN</td>\n",
       "      <td>0.55</td>\n",
       "      <td>NaN</td>\n",
       "      <td>NaN</td>\n",
       "      <td>NaN</td>\n",
       "      <td>125.000000</td>\n",
       "      <td>219.899994</td>\n",
       "      <td>NaN</td>\n",
       "      <td>25.379999</td>\n",
       "      <td>NaN</td>\n",
       "      <td>NaN</td>\n",
       "      <td>NaN</td>\n",
       "      <td>NaN</td>\n",
       "      <td>NaN</td>\n",
       "      <td>NaN</td>\n",
       "      <td>28079056</td>\n",
       "      <td>2010</td>\n",
       "      <td>NaN</td>\n",
       "      <td>NaN</td>\n",
       "    </tr>\n",
       "    <tr>\n",
       "      <th>3808220</th>\n",
       "      <td>2010-08-01 00:00:00</td>\n",
       "      <td>NaN</td>\n",
       "      <td>0.27</td>\n",
       "      <td>NaN</td>\n",
       "      <td>NaN</td>\n",
       "      <td>NaN</td>\n",
       "      <td>45.709999</td>\n",
       "      <td>47.410000</td>\n",
       "      <td>NaN</td>\n",
       "      <td>NaN</td>\n",
       "      <td>51.259998</td>\n",
       "      <td>NaN</td>\n",
       "      <td>NaN</td>\n",
       "      <td>7.26</td>\n",
       "      <td>NaN</td>\n",
       "      <td>NaN</td>\n",
       "      <td>28079057</td>\n",
       "      <td>2010</td>\n",
       "      <td>NaN</td>\n",
       "      <td>NaN</td>\n",
       "    </tr>\n",
       "    <tr>\n",
       "      <th>3808221</th>\n",
       "      <td>2010-08-01 00:00:00</td>\n",
       "      <td>NaN</td>\n",
       "      <td>NaN</td>\n",
       "      <td>NaN</td>\n",
       "      <td>NaN</td>\n",
       "      <td>0.24</td>\n",
       "      <td>46.560001</td>\n",
       "      <td>49.040001</td>\n",
       "      <td>NaN</td>\n",
       "      <td>46.250000</td>\n",
       "      <td>NaN</td>\n",
       "      <td>NaN</td>\n",
       "      <td>NaN</td>\n",
       "      <td>NaN</td>\n",
       "      <td>1.47</td>\n",
       "      <td>NaN</td>\n",
       "      <td>28079058</td>\n",
       "      <td>2010</td>\n",
       "      <td>NaN</td>\n",
       "      <td>NaN</td>\n",
       "    </tr>\n",
       "    <tr>\n",
       "      <th>3808222</th>\n",
       "      <td>2010-08-01 00:00:00</td>\n",
       "      <td>NaN</td>\n",
       "      <td>NaN</td>\n",
       "      <td>NaN</td>\n",
       "      <td>NaN</td>\n",
       "      <td>NaN</td>\n",
       "      <td>46.770000</td>\n",
       "      <td>50.119999</td>\n",
       "      <td>NaN</td>\n",
       "      <td>77.709999</td>\n",
       "      <td>NaN</td>\n",
       "      <td>NaN</td>\n",
       "      <td>NaN</td>\n",
       "      <td>NaN</td>\n",
       "      <td>NaN</td>\n",
       "      <td>NaN</td>\n",
       "      <td>28079059</td>\n",
       "      <td>2010</td>\n",
       "      <td>NaN</td>\n",
       "      <td>NaN</td>\n",
       "    </tr>\n",
       "    <tr>\n",
       "      <th>3808223</th>\n",
       "      <td>2010-08-01 00:00:00</td>\n",
       "      <td>0.92</td>\n",
       "      <td>0.43</td>\n",
       "      <td>0.71</td>\n",
       "      <td>NaN</td>\n",
       "      <td>0.25</td>\n",
       "      <td>76.330002</td>\n",
       "      <td>88.190002</td>\n",
       "      <td>NaN</td>\n",
       "      <td>52.259998</td>\n",
       "      <td>47.150002</td>\n",
       "      <td>26.860001</td>\n",
       "      <td>NaN</td>\n",
       "      <td>7.03</td>\n",
       "      <td>1.44</td>\n",
       "      <td>2.87</td>\n",
       "      <td>28079099</td>\n",
       "      <td>2010</td>\n",
       "      <td>NaN</td>\n",
       "      <td>NaN</td>\n",
       "    </tr>\n",
       "  </tbody>\n",
       "</table>\n",
       "<p>3808224 rows × 20 columns</p>\n",
       "</div>"
      ],
      "text/plain": [
       "                       date   BEN    CO   EBE   MXY  NMHC        NO_2  \\\n",
       "0       2009-10-01 01:00:00   NaN  0.27   NaN   NaN   NaN   39.889999   \n",
       "1       2009-10-01 01:00:00   NaN  0.22   NaN   NaN   NaN   21.230000   \n",
       "2       2009-10-01 01:00:00   NaN  0.18   NaN   NaN   NaN   31.230000   \n",
       "3       2009-10-01 01:00:00  0.95  0.33  1.43  2.68  0.25   55.180000   \n",
       "4       2009-10-01 01:00:00   NaN  0.41   NaN   NaN  0.12   61.349998   \n",
       "...                     ...   ...   ...   ...   ...   ...         ...   \n",
       "3808219 2010-08-01 00:00:00   NaN  0.55   NaN   NaN   NaN  125.000000   \n",
       "3808220 2010-08-01 00:00:00   NaN  0.27   NaN   NaN   NaN   45.709999   \n",
       "3808221 2010-08-01 00:00:00   NaN   NaN   NaN   NaN  0.24   46.560001   \n",
       "3808222 2010-08-01 00:00:00   NaN   NaN   NaN   NaN   NaN   46.770000   \n",
       "3808223 2010-08-01 00:00:00  0.92  0.43  0.71   NaN  0.25   76.330002   \n",
       "\n",
       "                NOx   OXY        O_3       PM10       PM25  PXY  SO_2   TCH  \\\n",
       "0         48.150002   NaN  50.680000  18.260000        NaN  NaN  5.55   NaN   \n",
       "1         24.260000   NaN  55.880001  10.580000        NaN  NaN  8.84   NaN   \n",
       "2         34.880001   NaN  49.060001  25.190001        NaN  NaN  6.98   NaN   \n",
       "3         81.360001  1.57  36.669998  26.530001   6.820000  1.3  8.88  1.38   \n",
       "4         76.260002   NaN  38.090000  23.760000        NaN  NaN  7.82  1.41   \n",
       "...             ...   ...        ...        ...        ...  ...   ...   ...   \n",
       "3808219  219.899994   NaN  25.379999        NaN        NaN  NaN   NaN   NaN   \n",
       "3808220   47.410000   NaN        NaN  51.259998        NaN  NaN  7.26   NaN   \n",
       "3808221   49.040001   NaN  46.250000        NaN        NaN  NaN   NaN  1.47   \n",
       "3808222   50.119999   NaN  77.709999        NaN        NaN  NaN   NaN   NaN   \n",
       "3808223   88.190002   NaN  52.259998  47.150002  26.860001  NaN  7.03  1.44   \n",
       "\n",
       "          TOL   station  year  CH4  NO  \n",
       "0         NaN  28079003  2009  NaN NaN  \n",
       "1         NaN  28079004  2009  NaN NaN  \n",
       "2         NaN  28079039  2009  NaN NaN  \n",
       "3        4.62  28079006  2009  NaN NaN  \n",
       "4         NaN  28079007  2009  NaN NaN  \n",
       "...       ...       ...   ...  ...  ..  \n",
       "3808219   NaN  28079056  2010  NaN NaN  \n",
       "3808220   NaN  28079057  2010  NaN NaN  \n",
       "3808221   NaN  28079058  2010  NaN NaN  \n",
       "3808222   NaN  28079059  2010  NaN NaN  \n",
       "3808223  2.87  28079099  2010  NaN NaN  \n",
       "\n",
       "[3808224 rows x 20 columns]"
      ]
     },
     "execution_count": 3,
     "metadata": {},
     "output_type": "execute_result"
    }
   ],
   "source": [
    "# Step 1: Load and concatenate all files with year column added\n",
    "files = glob.glob('data/madrid_*.csv')\n",
    "df_list = []\n",
    "for file in files:\n",
    "    year_match = re.search(r'madrid_(\\d{4})\\.csv', file)\n",
    "    if year_match:\n",
    "        year = int(year_match.group(1))\n",
    "        df = pd.read_csv(file, parse_dates=['date'])\n",
    "        df['year'] = year  # Add year from filename\n",
    "        df_list.append(df)\n",
    "\n",
    "# Step 2: Combine them into one DataFrame\n",
    "data = pd.concat(df_list, ignore_index=True)\n",
    "data"
   ]
  },
  {
   "cell_type": "code",
   "execution_count": 4,
   "id": "de58b5c7",
   "metadata": {
    "ExecuteTime": {
     "end_time": "2025-05-17T08:19:17.476598Z",
     "start_time": "2025-05-17T08:19:17.465725Z"
    }
   },
   "outputs": [
    {
     "name": "stdout",
     "output_type": "stream",
     "text": [
      "<class 'pandas.core.frame.DataFrame'>\n",
      "RangeIndex: 3808224 entries, 0 to 3808223\n",
      "Data columns (total 20 columns):\n",
      " #   Column   Dtype         \n",
      "---  ------   -----         \n",
      " 0   date     datetime64[ns]\n",
      " 1   BEN      float64       \n",
      " 2   CO       float64       \n",
      " 3   EBE      float64       \n",
      " 4   MXY      float64       \n",
      " 5   NMHC     float64       \n",
      " 6   NO_2     float64       \n",
      " 7   NOx      float64       \n",
      " 8   OXY      float64       \n",
      " 9   O_3      float64       \n",
      " 10  PM10     float64       \n",
      " 11  PM25     float64       \n",
      " 12  PXY      float64       \n",
      " 13  SO_2     float64       \n",
      " 14  TCH      float64       \n",
      " 15  TOL      float64       \n",
      " 16  station  int64         \n",
      " 17  year     int64         \n",
      " 18  CH4      float64       \n",
      " 19  NO       float64       \n",
      "dtypes: datetime64[ns](1), float64(17), int64(2)\n",
      "memory usage: 581.1 MB\n"
     ]
    }
   ],
   "source": [
    "data.info()"
   ]
  },
  {
   "cell_type": "code",
   "execution_count": 5,
   "id": "4b21a38d",
   "metadata": {
    "ExecuteTime": {
     "end_time": "2025-05-17T08:19:22.075133Z",
     "start_time": "2025-05-17T08:19:17.478120Z"
    }
   },
   "outputs": [
    {
     "data": {
      "text/html": [
       "<div>\n",
       "<style scoped>\n",
       "    .dataframe tbody tr th:only-of-type {\n",
       "        vertical-align: middle;\n",
       "    }\n",
       "\n",
       "    .dataframe tbody tr th {\n",
       "        vertical-align: top;\n",
       "    }\n",
       "\n",
       "    .dataframe thead th {\n",
       "        text-align: right;\n",
       "    }\n",
       "</style>\n",
       "<table border=\"1\" class=\"dataframe\">\n",
       "  <thead>\n",
       "    <tr style=\"text-align: right;\">\n",
       "      <th></th>\n",
       "      <th>date</th>\n",
       "      <th>BEN</th>\n",
       "      <th>CO</th>\n",
       "      <th>EBE</th>\n",
       "      <th>MXY</th>\n",
       "      <th>NMHC</th>\n",
       "      <th>NO_2</th>\n",
       "      <th>NOx</th>\n",
       "      <th>OXY</th>\n",
       "      <th>O_3</th>\n",
       "      <th>PM10</th>\n",
       "      <th>PM25</th>\n",
       "      <th>PXY</th>\n",
       "      <th>SO_2</th>\n",
       "      <th>TCH</th>\n",
       "      <th>TOL</th>\n",
       "      <th>station</th>\n",
       "      <th>year</th>\n",
       "      <th>CH4</th>\n",
       "      <th>NO</th>\n",
       "    </tr>\n",
       "  </thead>\n",
       "  <tbody>\n",
       "    <tr>\n",
       "      <th>count</th>\n",
       "      <td>3808224</td>\n",
       "      <td>1.041684e+06</td>\n",
       "      <td>2.651012e+06</td>\n",
       "      <td>1.001724e+06</td>\n",
       "      <td>315415.000000</td>\n",
       "      <td>1.085312e+06</td>\n",
       "      <td>3.787050e+06</td>\n",
       "      <td>2.376275e+06</td>\n",
       "      <td>315695.000000</td>\n",
       "      <td>2.991732e+06</td>\n",
       "      <td>2.861255e+06</td>\n",
       "      <td>816424.000000</td>\n",
       "      <td>315584.000000</td>\n",
       "      <td>2.775960e+06</td>\n",
       "      <td>1.086441e+06</td>\n",
       "      <td>1.038929e+06</td>\n",
       "      <td>3.808224e+06</td>\n",
       "      <td>3.808224e+06</td>\n",
       "      <td>14850.000000</td>\n",
       "      <td>1.532397e+06</td>\n",
       "    </tr>\n",
       "    <tr>\n",
       "      <th>mean</th>\n",
       "      <td>2009-06-21 04:25:17.401496064</td>\n",
       "      <td>1.257431e+00</td>\n",
       "      <td>5.503838e-01</td>\n",
       "      <td>1.407927e+00</td>\n",
       "      <td>4.650394</td>\n",
       "      <td>1.873865e-01</td>\n",
       "      <td>5.047151e+01</td>\n",
       "      <td>1.093188e+02</td>\n",
       "      <td>2.280912</td>\n",
       "      <td>3.982616e+01</td>\n",
       "      <td>2.893654e+01</td>\n",
       "      <td>13.738292</td>\n",
       "      <td>2.056178</td>\n",
       "      <td>1.065539e+01</td>\n",
       "      <td>1.435882e+00</td>\n",
       "      <td>5.876842e+00</td>\n",
       "      <td>2.807903e+07</td>\n",
       "      <td>2.008976e+03</td>\n",
       "      <td>1.300849</td>\n",
       "      <td>2.343886e+01</td>\n",
       "    </tr>\n",
       "    <tr>\n",
       "      <th>min</th>\n",
       "      <td>2001-01-01 01:00:00</td>\n",
       "      <td>0.000000e+00</td>\n",
       "      <td>0.000000e+00</td>\n",
       "      <td>0.000000e+00</td>\n",
       "      <td>0.000000</td>\n",
       "      <td>0.000000e+00</td>\n",
       "      <td>0.000000e+00</td>\n",
       "      <td>0.000000e+00</td>\n",
       "      <td>0.000000</td>\n",
       "      <td>0.000000e+00</td>\n",
       "      <td>0.000000e+00</td>\n",
       "      <td>-31.000000</td>\n",
       "      <td>0.000000</td>\n",
       "      <td>0.000000e+00</td>\n",
       "      <td>0.000000e+00</td>\n",
       "      <td>0.000000e+00</td>\n",
       "      <td>2.807900e+07</td>\n",
       "      <td>2.001000e+03</td>\n",
       "      <td>0.020000</td>\n",
       "      <td>0.000000e+00</td>\n",
       "    </tr>\n",
       "    <tr>\n",
       "      <th>25%</th>\n",
       "      <td>2005-02-10 19:00:00</td>\n",
       "      <td>2.100000e-01</td>\n",
       "      <td>2.600000e-01</td>\n",
       "      <td>3.500000e-01</td>\n",
       "      <td>1.200000</td>\n",
       "      <td>9.000000e-02</td>\n",
       "      <td>2.400000e+01</td>\n",
       "      <td>4.000000e+01</td>\n",
       "      <td>0.960000</td>\n",
       "      <td>1.271000e+01</td>\n",
       "      <td>1.150000e+01</td>\n",
       "      <td>6.450000</td>\n",
       "      <td>0.800000</td>\n",
       "      <td>5.840000e+00</td>\n",
       "      <td>1.300000e+00</td>\n",
       "      <td>1.100000e+00</td>\n",
       "      <td>2.807901e+07</td>\n",
       "      <td>2.005000e+03</td>\n",
       "      <td>1.170000</td>\n",
       "      <td>2.000000e+00</td>\n",
       "    </tr>\n",
       "    <tr>\n",
       "      <th>50%</th>\n",
       "      <td>2009-04-11 17:00:00</td>\n",
       "      <td>6.000000e-01</td>\n",
       "      <td>4.000000e-01</td>\n",
       "      <td>8.800000e-01</td>\n",
       "      <td>2.800000</td>\n",
       "      <td>1.500000e-01</td>\n",
       "      <td>4.400000e+01</td>\n",
       "      <td>7.615000e+01</td>\n",
       "      <td>1.320000</td>\n",
       "      <td>3.486000e+01</td>\n",
       "      <td>2.149000e+01</td>\n",
       "      <td>11.000000</td>\n",
       "      <td>1.280000</td>\n",
       "      <td>8.150000e+00</td>\n",
       "      <td>1.380000e+00</td>\n",
       "      <td>3.160000e+00</td>\n",
       "      <td>2.807902e+07</td>\n",
       "      <td>2.009000e+03</td>\n",
       "      <td>1.250000</td>\n",
       "      <td>6.000000e+00</td>\n",
       "    </tr>\n",
       "    <tr>\n",
       "      <th>75%</th>\n",
       "      <td>2013-10-17 23:15:00</td>\n",
       "      <td>1.500000e+00</td>\n",
       "      <td>6.500000e-01</td>\n",
       "      <td>1.580000e+00</td>\n",
       "      <td>5.890000</td>\n",
       "      <td>2.400000e-01</td>\n",
       "      <td>6.958000e+01</td>\n",
       "      <td>1.397000e+02</td>\n",
       "      <td>2.740000</td>\n",
       "      <td>5.999000e+01</td>\n",
       "      <td>3.775000e+01</td>\n",
       "      <td>17.670000</td>\n",
       "      <td>2.510000</td>\n",
       "      <td>1.230000e+01</td>\n",
       "      <td>1.510000e+00</td>\n",
       "      <td>6.990000e+00</td>\n",
       "      <td>2.807904e+07</td>\n",
       "      <td>2.013000e+03</td>\n",
       "      <td>1.400000</td>\n",
       "      <td>2.000000e+01</td>\n",
       "    </tr>\n",
       "    <tr>\n",
       "      <th>max</th>\n",
       "      <td>2018-05-01 00:00:00</td>\n",
       "      <td>6.639000e+01</td>\n",
       "      <td>1.804000e+01</td>\n",
       "      <td>1.622000e+02</td>\n",
       "      <td>177.600006</td>\n",
       "      <td>9.070000e+00</td>\n",
       "      <td>6.286000e+02</td>\n",
       "      <td>2.537000e+03</td>\n",
       "      <td>103.000000</td>\n",
       "      <td>2.360000e+02</td>\n",
       "      <td>6.950000e+02</td>\n",
       "      <td>506.899994</td>\n",
       "      <td>106.000000</td>\n",
       "      <td>1.991000e+02</td>\n",
       "      <td>1.048000e+01</td>\n",
       "      <td>2.429000e+02</td>\n",
       "      <td>2.807910e+07</td>\n",
       "      <td>2.018000e+03</td>\n",
       "      <td>3.920000</td>\n",
       "      <td>1.146000e+03</td>\n",
       "    </tr>\n",
       "    <tr>\n",
       "      <th>std</th>\n",
       "      <td>NaN</td>\n",
       "      <td>1.910831e+00</td>\n",
       "      <td>5.354483e-01</td>\n",
       "      <td>2.146109e+00</td>\n",
       "      <td>5.599223</td>\n",
       "      <td>1.539529e-01</td>\n",
       "      <td>3.455288e+01</td>\n",
       "      <td>1.102871e+02</td>\n",
       "      <td>2.639609</td>\n",
       "      <td>3.039249e+01</td>\n",
       "      <td>2.594859e+01</td>\n",
       "      <td>11.214146</td>\n",
       "      <td>2.395130</td>\n",
       "      <td>9.121267e+00</td>\n",
       "      <td>2.332228e-01</td>\n",
       "      <td>8.524460e+00</td>\n",
       "      <td>2.028574e+01</td>\n",
       "      <td>4.992798e+00</td>\n",
       "      <td>0.195550</td>\n",
       "      <td>5.021504e+01</td>\n",
       "    </tr>\n",
       "  </tbody>\n",
       "</table>\n",
       "</div>"
      ],
      "text/plain": [
       "                                date           BEN            CO  \\\n",
       "count                        3808224  1.041684e+06  2.651012e+06   \n",
       "mean   2009-06-21 04:25:17.401496064  1.257431e+00  5.503838e-01   \n",
       "min              2001-01-01 01:00:00  0.000000e+00  0.000000e+00   \n",
       "25%              2005-02-10 19:00:00  2.100000e-01  2.600000e-01   \n",
       "50%              2009-04-11 17:00:00  6.000000e-01  4.000000e-01   \n",
       "75%              2013-10-17 23:15:00  1.500000e+00  6.500000e-01   \n",
       "max              2018-05-01 00:00:00  6.639000e+01  1.804000e+01   \n",
       "std                              NaN  1.910831e+00  5.354483e-01   \n",
       "\n",
       "                EBE            MXY          NMHC          NO_2           NOx  \\\n",
       "count  1.001724e+06  315415.000000  1.085312e+06  3.787050e+06  2.376275e+06   \n",
       "mean   1.407927e+00       4.650394  1.873865e-01  5.047151e+01  1.093188e+02   \n",
       "min    0.000000e+00       0.000000  0.000000e+00  0.000000e+00  0.000000e+00   \n",
       "25%    3.500000e-01       1.200000  9.000000e-02  2.400000e+01  4.000000e+01   \n",
       "50%    8.800000e-01       2.800000  1.500000e-01  4.400000e+01  7.615000e+01   \n",
       "75%    1.580000e+00       5.890000  2.400000e-01  6.958000e+01  1.397000e+02   \n",
       "max    1.622000e+02     177.600006  9.070000e+00  6.286000e+02  2.537000e+03   \n",
       "std    2.146109e+00       5.599223  1.539529e-01  3.455288e+01  1.102871e+02   \n",
       "\n",
       "                 OXY           O_3          PM10           PM25  \\\n",
       "count  315695.000000  2.991732e+06  2.861255e+06  816424.000000   \n",
       "mean        2.280912  3.982616e+01  2.893654e+01      13.738292   \n",
       "min         0.000000  0.000000e+00  0.000000e+00     -31.000000   \n",
       "25%         0.960000  1.271000e+01  1.150000e+01       6.450000   \n",
       "50%         1.320000  3.486000e+01  2.149000e+01      11.000000   \n",
       "75%         2.740000  5.999000e+01  3.775000e+01      17.670000   \n",
       "max       103.000000  2.360000e+02  6.950000e+02     506.899994   \n",
       "std         2.639609  3.039249e+01  2.594859e+01      11.214146   \n",
       "\n",
       "                 PXY          SO_2           TCH           TOL       station  \\\n",
       "count  315584.000000  2.775960e+06  1.086441e+06  1.038929e+06  3.808224e+06   \n",
       "mean        2.056178  1.065539e+01  1.435882e+00  5.876842e+00  2.807903e+07   \n",
       "min         0.000000  0.000000e+00  0.000000e+00  0.000000e+00  2.807900e+07   \n",
       "25%         0.800000  5.840000e+00  1.300000e+00  1.100000e+00  2.807901e+07   \n",
       "50%         1.280000  8.150000e+00  1.380000e+00  3.160000e+00  2.807902e+07   \n",
       "75%         2.510000  1.230000e+01  1.510000e+00  6.990000e+00  2.807904e+07   \n",
       "max       106.000000  1.991000e+02  1.048000e+01  2.429000e+02  2.807910e+07   \n",
       "std         2.395130  9.121267e+00  2.332228e-01  8.524460e+00  2.028574e+01   \n",
       "\n",
       "               year           CH4            NO  \n",
       "count  3.808224e+06  14850.000000  1.532397e+06  \n",
       "mean   2.008976e+03      1.300849  2.343886e+01  \n",
       "min    2.001000e+03      0.020000  0.000000e+00  \n",
       "25%    2.005000e+03      1.170000  2.000000e+00  \n",
       "50%    2.009000e+03      1.250000  6.000000e+00  \n",
       "75%    2.013000e+03      1.400000  2.000000e+01  \n",
       "max    2.018000e+03      3.920000  1.146000e+03  \n",
       "std    4.992798e+00      0.195550  5.021504e+01  "
      ]
     },
     "execution_count": 5,
     "metadata": {},
     "output_type": "execute_result"
    }
   ],
   "source": [
    "data.describe()"
   ]
  },
  {
   "cell_type": "code",
   "execution_count": 6,
   "id": "9bc53505",
   "metadata": {
    "ExecuteTime": {
     "end_time": "2025-05-17T08:19:22.087959Z",
     "start_time": "2025-05-17T08:19:22.077801Z"
    }
   },
   "outputs": [
    {
     "data": {
      "text/html": [
       "<div>\n",
       "<style scoped>\n",
       "    .dataframe tbody tr th:only-of-type {\n",
       "        vertical-align: middle;\n",
       "    }\n",
       "\n",
       "    .dataframe tbody tr th {\n",
       "        vertical-align: top;\n",
       "    }\n",
       "\n",
       "    .dataframe thead th {\n",
       "        text-align: right;\n",
       "    }\n",
       "</style>\n",
       "<table border=\"1\" class=\"dataframe\">\n",
       "  <thead>\n",
       "    <tr style=\"text-align: right;\">\n",
       "      <th></th>\n",
       "      <th>id</th>\n",
       "      <th>name</th>\n",
       "      <th>address</th>\n",
       "      <th>lon</th>\n",
       "      <th>lat</th>\n",
       "      <th>elevation</th>\n",
       "    </tr>\n",
       "  </thead>\n",
       "  <tbody>\n",
       "    <tr>\n",
       "      <th>0</th>\n",
       "      <td>28079004</td>\n",
       "      <td>Pza. de España</td>\n",
       "      <td>Plaza de España</td>\n",
       "      <td>-3.712247</td>\n",
       "      <td>40.423853</td>\n",
       "      <td>635</td>\n",
       "    </tr>\n",
       "    <tr>\n",
       "      <th>1</th>\n",
       "      <td>28079008</td>\n",
       "      <td>Escuelas Aguirre</td>\n",
       "      <td>Entre C/ Alcalá y C/ O’ Donell</td>\n",
       "      <td>-3.682319</td>\n",
       "      <td>40.421564</td>\n",
       "      <td>670</td>\n",
       "    </tr>\n",
       "    <tr>\n",
       "      <th>2</th>\n",
       "      <td>28079011</td>\n",
       "      <td>Avda. Ramón y Cajal</td>\n",
       "      <td>Avda. Ramón y Cajal  esq. C/ Príncipe de Vergara</td>\n",
       "      <td>-3.677356</td>\n",
       "      <td>40.451475</td>\n",
       "      <td>708</td>\n",
       "    </tr>\n",
       "    <tr>\n",
       "      <th>3</th>\n",
       "      <td>28079016</td>\n",
       "      <td>Arturo Soria</td>\n",
       "      <td>C/ Arturo Soria  esq. C/  Vizconde de los Asilos</td>\n",
       "      <td>-3.639233</td>\n",
       "      <td>40.440047</td>\n",
       "      <td>693</td>\n",
       "    </tr>\n",
       "    <tr>\n",
       "      <th>4</th>\n",
       "      <td>28079017</td>\n",
       "      <td>Villaverde</td>\n",
       "      <td>C/. Juan Peñalver</td>\n",
       "      <td>-3.713322</td>\n",
       "      <td>40.347139</td>\n",
       "      <td>604</td>\n",
       "    </tr>\n",
       "  </tbody>\n",
       "</table>\n",
       "</div>"
      ],
      "text/plain": [
       "         id                 name  \\\n",
       "0  28079004       Pza. de España   \n",
       "1  28079008     Escuelas Aguirre   \n",
       "2  28079011  Avda. Ramón y Cajal   \n",
       "3  28079016         Arturo Soria   \n",
       "4  28079017           Villaverde   \n",
       "\n",
       "                                             address       lon        lat  \\\n",
       "0                                    Plaza de España -3.712247  40.423853   \n",
       "1                    Entre C/ Alcalá y C/ O’ Donell  -3.682319  40.421564   \n",
       "2   Avda. Ramón y Cajal  esq. C/ Príncipe de Vergara -3.677356  40.451475   \n",
       "3  C/ Arturo Soria  esq. C/  Vizconde de los Asilos  -3.639233  40.440047   \n",
       "4                                  C/. Juan Peñalver -3.713322  40.347139   \n",
       "\n",
       "   elevation  \n",
       "0        635  \n",
       "1        670  \n",
       "2        708  \n",
       "3        693  \n",
       "4        604  "
      ]
     },
     "execution_count": 6,
     "metadata": {},
     "output_type": "execute_result"
    }
   ],
   "source": [
    "# Step 3: Merge with station info\n",
    "stations = pd.read_csv('data/stations.csv')\n",
    "stations.head()"
   ]
  },
  {
   "cell_type": "code",
   "execution_count": 7,
   "id": "cc490bbc",
   "metadata": {
    "ExecuteTime": {
     "end_time": "2025-05-17T08:19:22.103560Z",
     "start_time": "2025-05-17T08:19:22.089566Z"
    }
   },
   "outputs": [
    {
     "data": {
      "text/html": [
       "<div>\n",
       "<style scoped>\n",
       "    .dataframe tbody tr th:only-of-type {\n",
       "        vertical-align: middle;\n",
       "    }\n",
       "\n",
       "    .dataframe tbody tr th {\n",
       "        vertical-align: top;\n",
       "    }\n",
       "\n",
       "    .dataframe thead th {\n",
       "        text-align: right;\n",
       "    }\n",
       "</style>\n",
       "<table border=\"1\" class=\"dataframe\">\n",
       "  <thead>\n",
       "    <tr style=\"text-align: right;\">\n",
       "      <th></th>\n",
       "      <th>date</th>\n",
       "      <th>BEN</th>\n",
       "      <th>CO</th>\n",
       "      <th>EBE</th>\n",
       "      <th>MXY</th>\n",
       "      <th>NMHC</th>\n",
       "      <th>NO_2</th>\n",
       "      <th>NOx</th>\n",
       "      <th>OXY</th>\n",
       "      <th>O_3</th>\n",
       "      <th>PM10</th>\n",
       "      <th>PM25</th>\n",
       "      <th>PXY</th>\n",
       "      <th>SO_2</th>\n",
       "      <th>TCH</th>\n",
       "      <th>TOL</th>\n",
       "      <th>station</th>\n",
       "      <th>year</th>\n",
       "      <th>CH4</th>\n",
       "      <th>NO</th>\n",
       "    </tr>\n",
       "  </thead>\n",
       "  <tbody>\n",
       "    <tr>\n",
       "      <th>0</th>\n",
       "      <td>2009-10-01 01:00:00</td>\n",
       "      <td>NaN</td>\n",
       "      <td>0.27</td>\n",
       "      <td>NaN</td>\n",
       "      <td>NaN</td>\n",
       "      <td>NaN</td>\n",
       "      <td>39.889999</td>\n",
       "      <td>48.150002</td>\n",
       "      <td>NaN</td>\n",
       "      <td>50.680000</td>\n",
       "      <td>18.260000</td>\n",
       "      <td>NaN</td>\n",
       "      <td>NaN</td>\n",
       "      <td>5.55</td>\n",
       "      <td>NaN</td>\n",
       "      <td>NaN</td>\n",
       "      <td>28079003</td>\n",
       "      <td>2009</td>\n",
       "      <td>NaN</td>\n",
       "      <td>NaN</td>\n",
       "    </tr>\n",
       "    <tr>\n",
       "      <th>1</th>\n",
       "      <td>2009-10-01 01:00:00</td>\n",
       "      <td>NaN</td>\n",
       "      <td>0.22</td>\n",
       "      <td>NaN</td>\n",
       "      <td>NaN</td>\n",
       "      <td>NaN</td>\n",
       "      <td>21.230000</td>\n",
       "      <td>24.260000</td>\n",
       "      <td>NaN</td>\n",
       "      <td>55.880001</td>\n",
       "      <td>10.580000</td>\n",
       "      <td>NaN</td>\n",
       "      <td>NaN</td>\n",
       "      <td>8.84</td>\n",
       "      <td>NaN</td>\n",
       "      <td>NaN</td>\n",
       "      <td>28079004</td>\n",
       "      <td>2009</td>\n",
       "      <td>NaN</td>\n",
       "      <td>NaN</td>\n",
       "    </tr>\n",
       "    <tr>\n",
       "      <th>2</th>\n",
       "      <td>2009-10-01 01:00:00</td>\n",
       "      <td>NaN</td>\n",
       "      <td>0.18</td>\n",
       "      <td>NaN</td>\n",
       "      <td>NaN</td>\n",
       "      <td>NaN</td>\n",
       "      <td>31.230000</td>\n",
       "      <td>34.880001</td>\n",
       "      <td>NaN</td>\n",
       "      <td>49.060001</td>\n",
       "      <td>25.190001</td>\n",
       "      <td>NaN</td>\n",
       "      <td>NaN</td>\n",
       "      <td>6.98</td>\n",
       "      <td>NaN</td>\n",
       "      <td>NaN</td>\n",
       "      <td>28079039</td>\n",
       "      <td>2009</td>\n",
       "      <td>NaN</td>\n",
       "      <td>NaN</td>\n",
       "    </tr>\n",
       "    <tr>\n",
       "      <th>3</th>\n",
       "      <td>2009-10-01 01:00:00</td>\n",
       "      <td>0.95</td>\n",
       "      <td>0.33</td>\n",
       "      <td>1.43</td>\n",
       "      <td>2.68</td>\n",
       "      <td>0.25</td>\n",
       "      <td>55.180000</td>\n",
       "      <td>81.360001</td>\n",
       "      <td>1.57</td>\n",
       "      <td>36.669998</td>\n",
       "      <td>26.530001</td>\n",
       "      <td>6.82</td>\n",
       "      <td>1.3</td>\n",
       "      <td>8.88</td>\n",
       "      <td>1.38</td>\n",
       "      <td>4.62</td>\n",
       "      <td>28079006</td>\n",
       "      <td>2009</td>\n",
       "      <td>NaN</td>\n",
       "      <td>NaN</td>\n",
       "    </tr>\n",
       "    <tr>\n",
       "      <th>4</th>\n",
       "      <td>2009-10-01 01:00:00</td>\n",
       "      <td>NaN</td>\n",
       "      <td>0.41</td>\n",
       "      <td>NaN</td>\n",
       "      <td>NaN</td>\n",
       "      <td>0.12</td>\n",
       "      <td>61.349998</td>\n",
       "      <td>76.260002</td>\n",
       "      <td>NaN</td>\n",
       "      <td>38.090000</td>\n",
       "      <td>23.760000</td>\n",
       "      <td>NaN</td>\n",
       "      <td>NaN</td>\n",
       "      <td>7.82</td>\n",
       "      <td>1.41</td>\n",
       "      <td>NaN</td>\n",
       "      <td>28079007</td>\n",
       "      <td>2009</td>\n",
       "      <td>NaN</td>\n",
       "      <td>NaN</td>\n",
       "    </tr>\n",
       "  </tbody>\n",
       "</table>\n",
       "</div>"
      ],
      "text/plain": [
       "                 date   BEN    CO   EBE   MXY  NMHC       NO_2        NOx  \\\n",
       "0 2009-10-01 01:00:00   NaN  0.27   NaN   NaN   NaN  39.889999  48.150002   \n",
       "1 2009-10-01 01:00:00   NaN  0.22   NaN   NaN   NaN  21.230000  24.260000   \n",
       "2 2009-10-01 01:00:00   NaN  0.18   NaN   NaN   NaN  31.230000  34.880001   \n",
       "3 2009-10-01 01:00:00  0.95  0.33  1.43  2.68  0.25  55.180000  81.360001   \n",
       "4 2009-10-01 01:00:00   NaN  0.41   NaN   NaN  0.12  61.349998  76.260002   \n",
       "\n",
       "    OXY        O_3       PM10  PM25  PXY  SO_2   TCH   TOL   station  year  \\\n",
       "0   NaN  50.680000  18.260000   NaN  NaN  5.55   NaN   NaN  28079003  2009   \n",
       "1   NaN  55.880001  10.580000   NaN  NaN  8.84   NaN   NaN  28079004  2009   \n",
       "2   NaN  49.060001  25.190001   NaN  NaN  6.98   NaN   NaN  28079039  2009   \n",
       "3  1.57  36.669998  26.530001  6.82  1.3  8.88  1.38  4.62  28079006  2009   \n",
       "4   NaN  38.090000  23.760000   NaN  NaN  7.82  1.41   NaN  28079007  2009   \n",
       "\n",
       "   CH4  NO  \n",
       "0  NaN NaN  \n",
       "1  NaN NaN  \n",
       "2  NaN NaN  \n",
       "3  NaN NaN  \n",
       "4  NaN NaN  "
      ]
     },
     "execution_count": 7,
     "metadata": {},
     "output_type": "execute_result"
    }
   ],
   "source": [
    "data.head()"
   ]
  },
  {
   "cell_type": "code",
   "execution_count": 8,
   "id": "3191c6d7",
   "metadata": {
    "ExecuteTime": {
     "end_time": "2025-05-17T08:19:27.699524Z",
     "start_time": "2025-05-17T08:19:22.108296Z"
    }
   },
   "outputs": [],
   "source": [
    "# Step 3: Normalize pollutant columns\n",
    "pollutants = ['BEN', 'CO', 'EBE', 'NMHC', 'NOx', 'NO_2', 'O_3', 'PM10', 'SO_2', 'TCH', 'TOL', 'MXY', 'OXY', 'PXY', 'PM25', 'CH4', 'NO']\n",
    "scaler = StandardScaler()\n",
    "scaled_data = data.copy()\n",
    "scaled_data[pollutants] = scaler.fit_transform(scaled_data[pollutants])"
   ]
  },
  {
   "cell_type": "code",
   "execution_count": 17,
   "id": "8b999247",
   "metadata": {
    "ExecuteTime": {
     "end_time": "2025-05-17T08:20:45.706372Z",
     "start_time": "2025-05-17T08:20:43.733138Z"
    }
   },
   "outputs": [
    {
     "data": {
      "application/vnd.plotly.v1+json": {
       "config": {
        "plotlyServerURL": "https://plot.ly"
       },
       "data": [
        {
         "hovertemplate": "Pollutant=BEN<br>year=2001<br>Month=%{x}<br>Average Value=%{y}<extra></extra>",
         "legendgroup": "BEN",
         "line": {
          "color": "#636efa",
          "dash": "solid"
         },
         "marker": {
          "symbol": "circle"
         },
         "mode": "lines",
         "name": "BEN",
         "orientation": "v",
         "showlegend": true,
         "type": "scatter",
         "x": [
          1,
          2,
          3,
          4,
          5,
          6,
          7,
          8,
          9,
          10,
          11,
          12
         ],
         "xaxis": "x",
         "y": [
          1.5782545676380642,
          1.6470837272808847,
          0.975809045095784,
          0.6904499128299236,
          0.7531014233887571,
          0.7785613787828608,
          0.5576199216126959,
          0.30677819438880144,
          0.609157303350478,
          0.9024115472458126,
          1.2751020885286264,
          2.457970306000788
         ],
         "yaxis": "y"
        },
        {
         "hovertemplate": "Pollutant=CO<br>year=2001<br>Month=%{x}<br>Average Value=%{y}<extra></extra>",
         "legendgroup": "CO",
         "line": {
          "color": "#EF553B",
          "dash": "solid"
         },
         "marker": {
          "symbol": "circle"
         },
         "mode": "lines",
         "name": "CO",
         "orientation": "v",
         "showlegend": true,
         "type": "scatter",
         "x": [
          1,
          2,
          3,
          4,
          5,
          6,
          7,
          8,
          9,
          10,
          11,
          12
         ],
         "xaxis": "x",
         "y": [
          1.1357445899927594,
          1.2730215326625935,
          0.5318138507421778,
          0.2491420143922465,
          0.416352776724105,
          0.33076667400258203,
          0.1412566651259353,
          0.002660644096839578,
          0.3602000478893393,
          0.7436734437224333,
          1.0907943551622166,
          1.9613486277546186
         ],
         "yaxis": "y"
        },
        {
         "hovertemplate": "Pollutant=EBE<br>year=2001<br>Month=%{x}<br>Average Value=%{y}<extra></extra>",
         "legendgroup": "EBE",
         "line": {
          "color": "#00cc96",
          "dash": "solid"
         },
         "marker": {
          "symbol": "circle"
         },
         "mode": "lines",
         "name": "EBE",
         "orientation": "v",
         "showlegend": true,
         "type": "scatter",
         "x": [
          1,
          2,
          3,
          4,
          5,
          6,
          7,
          8,
          9,
          10,
          11,
          12
         ],
         "xaxis": "x",
         "y": [
          1.1767756032464318,
          1.3043467116348748,
          0.7311853799024974,
          0.629900177254116,
          0.7422770217453528,
          0.8432039768865783,
          0.6654399273481474,
          0.3881743906747961,
          0.4647346716274252,
          0.785967288623179,
          0.8772029981297057,
          1.9789537270071331
         ],
         "yaxis": "y"
        },
        {
         "hovertemplate": "Pollutant=NMHC<br>year=2001<br>Month=%{x}<br>Average Value=%{y}<extra></extra>",
         "legendgroup": "NMHC",
         "line": {
          "color": "#ab63fa",
          "dash": "solid"
         },
         "marker": {
          "symbol": "circle"
         },
         "mode": "lines",
         "name": "NMHC",
         "orientation": "v",
         "showlegend": true,
         "type": "scatter",
         "x": [
          1,
          2,
          3,
          4,
          5,
          6,
          7,
          8,
          9,
          10,
          11,
          12
         ],
         "xaxis": "x",
         "y": [
          0.3335919778442109,
          0.4687907775855641,
          -0.0834005413611285,
          -0.4280719255509795,
          -0.2126960342658916,
          -0.03600191942401798,
          -0.2204459793048815,
          -0.2289227448955801,
          -0.019714154844527258,
          0.22266807148504775,
          0.17643736851266903,
          0.6817056052715126
         ],
         "yaxis": "y"
        },
        {
         "hovertemplate": "Pollutant=NOx<br>year=2001<br>Month=%{x}<br>Average Value=%{y}<extra></extra>",
         "legendgroup": "NOx",
         "line": {
          "color": "#FFA15A",
          "dash": "solid"
         },
         "marker": {
          "symbol": "circle"
         },
         "mode": "lines",
         "name": "NOx",
         "orientation": "v",
         "showlegend": true,
         "type": "scatter",
         "x": [
          1,
          2,
          3,
          4,
          5,
          6,
          7,
          8,
          9,
          10,
          11,
          12
         ],
         "xaxis": "x",
         "y": [
          0.3633797832901175,
          0.5726070367264139,
          -0.03189140333205281,
          -0.12406854348034567,
          0.00986684516557275,
          0.06113644277439797,
          -0.05531255705645726,
          -0.1148423364514462,
          0.1096063538350456,
          0.3188457686202897,
          0.6851670881062114,
          1.467156928231212
         ],
         "yaxis": "y"
        },
        {
         "hovertemplate": "Pollutant=NO_2<br>year=2001<br>Month=%{x}<br>Average Value=%{y}<extra></extra>",
         "legendgroup": "NO_2",
         "line": {
          "color": "#19d3f3",
          "dash": "solid"
         },
         "marker": {
          "symbol": "circle"
         },
         "mode": "lines",
         "name": "NO_2",
         "orientation": "v",
         "showlegend": true,
         "type": "scatter",
         "x": [
          1,
          2,
          3,
          4,
          5,
          6,
          7,
          8,
          9,
          10,
          11,
          12
         ],
         "xaxis": "x",
         "y": [
          0.19057571530364512,
          0.4113795400906759,
          -0.02905038839898754,
          0.07653770053588257,
          0.39355231601256696,
          0.4921964699338466,
          0.3240505937565022,
          0.1516060011743617,
          0.4278544671530045,
          0.25110678504687306,
          0.5278468547329892,
          1.109715850699898
         ],
         "yaxis": "y"
        },
        {
         "hovertemplate": "Pollutant=O_3<br>year=2001<br>Month=%{x}<br>Average Value=%{y}<extra></extra>",
         "legendgroup": "O_3",
         "line": {
          "color": "#FF6692",
          "dash": "solid"
         },
         "marker": {
          "symbol": "circle"
         },
         "mode": "lines",
         "name": "O_3",
         "orientation": "v",
         "showlegend": true,
         "type": "scatter",
         "x": [
          1,
          2,
          3,
          4,
          5,
          6,
          7,
          8,
          9,
          10,
          11,
          12
         ],
         "xaxis": "x",
         "y": [
          -0.6692846191881066,
          -0.6350638311460066,
          -0.3558432413725236,
          0.020007619941212945,
          0.04003442078833762,
          0.20424593944375924,
          0.2410088649436234,
          0.23897108232951939,
          -0.031668264876682437,
          -0.5805488804952393,
          -0.6699550517805339,
          -1.0023204113688373
         ],
         "yaxis": "y"
        },
        {
         "hovertemplate": "Pollutant=PM10<br>year=2001<br>Month=%{x}<br>Average Value=%{y}<extra></extra>",
         "legendgroup": "PM10",
         "line": {
          "color": "#B6E880",
          "dash": "solid"
         },
         "marker": {
          "symbol": "circle"
         },
         "mode": "lines",
         "name": "PM10",
         "orientation": "v",
         "showlegend": true,
         "type": "scatter",
         "x": [
          1,
          2,
          3,
          4,
          5,
          6,
          7,
          8,
          9,
          10,
          11,
          12
         ],
         "xaxis": "x",
         "y": [
          0.021795305919301598,
          0.32009720685618936,
          -0.15012870621395377,
          -0.12452837426927067,
          -0.004509958618003475,
          0.39345134461262354,
          0.2812953698736327,
          0.3755862696319706,
          0.30363332448802766,
          0.13021876221234116,
          0.2337560213570064,
          0.8728041028525254
         ],
         "yaxis": "y"
        },
        {
         "hovertemplate": "Pollutant=SO_2<br>year=2001<br>Month=%{x}<br>Average Value=%{y}<extra></extra>",
         "legendgroup": "SO_2",
         "line": {
          "color": "#FF97FF",
          "dash": "solid"
         },
         "marker": {
          "symbol": "circle"
         },
         "mode": "lines",
         "name": "SO_2",
         "orientation": "v",
         "showlegend": true,
         "type": "scatter",
         "x": [
          1,
          2,
          3,
          4,
          5,
          6,
          7,
          8,
          9,
          10,
          11,
          12
         ],
         "xaxis": "x",
         "y": [
          1.5731760660092144,
          2.0229228043095664,
          0.861572870002908,
          0.4923912943623938,
          0.44564369854706287,
          0.49910022022511547,
          0.14367292479408256,
          -0.04282614601878837,
          0.10030881028383151,
          0.23522496167776152,
          1.62469749728869,
          2.2734170198503767
         ],
         "yaxis": "y"
        },
        {
         "hovertemplate": "Pollutant=TCH<br>year=2001<br>Month=%{x}<br>Average Value=%{y}<extra></extra>",
         "legendgroup": "TCH",
         "line": {
          "color": "#FECB52",
          "dash": "solid"
         },
         "marker": {
          "symbol": "circle"
         },
         "mode": "lines",
         "name": "TCH",
         "orientation": "v",
         "showlegend": true,
         "type": "scatter",
         "x": [
          1,
          2,
          3,
          4,
          5,
          6,
          7,
          8,
          9,
          10,
          11,
          12
         ],
         "xaxis": "x",
         "y": [
          0.45323232790937257,
          0.48623874074267737,
          0.0020947650293684705,
          -0.3916731507317389,
          -0.1975208229320988,
          -0.1655229079033182,
          -0.2890127184921358,
          -0.24176892096210675,
          -0.017815603292076616,
          0.26260352705717566,
          0.27500987637683816,
          1.0787889429203863
         ],
         "yaxis": "y"
        },
        {
         "hovertemplate": "Pollutant=TOL<br>year=2001<br>Month=%{x}<br>Average Value=%{y}<extra></extra>",
         "legendgroup": "TOL",
         "line": {
          "color": "#636efa",
          "dash": "solid"
         },
         "marker": {
          "symbol": "circle"
         },
         "mode": "lines",
         "name": "TOL",
         "orientation": "v",
         "showlegend": true,
         "type": "scatter",
         "x": [
          1,
          2,
          3,
          4,
          5,
          6,
          7,
          8,
          9,
          10,
          11,
          12
         ],
         "xaxis": "x",
         "y": [
          1.1837063016486264,
          1.2363033400829162,
          0.620354587016765,
          0.3913671370593672,
          0.6559197094967063,
          0.8004730123830522,
          0.8004763818014211,
          0.7831163196412737,
          1.0890701889541243,
          1.3680534528341222,
          1.4115807178039954,
          2.581286163134444
         ],
         "yaxis": "y"
        },
        {
         "hovertemplate": "Pollutant=MXY<br>year=2001<br>Month=%{x}<br>Average Value=%{y}<extra></extra>",
         "legendgroup": "MXY",
         "line": {
          "color": "#EF553B",
          "dash": "solid"
         },
         "marker": {
          "symbol": "circle"
         },
         "mode": "lines",
         "name": "MXY",
         "orientation": "v",
         "showlegend": true,
         "type": "scatter",
         "x": [
          1,
          2,
          3,
          4,
          5,
          6,
          7,
          8,
          9,
          10,
          11,
          12
         ],
         "xaxis": "x",
         "y": [
          0.34979848421969656,
          0.5381044048802491,
          0.23921889206237287,
          0.04208156713033709,
          0.14444993852611637,
          0.22368795470969488,
          0.14126626280336774,
          0.0519646134755083,
          0.20626491255937682,
          0.6230582320187179,
          0.6691342013250929,
          1.6112771585775598
         ],
         "yaxis": "y"
        },
        {
         "hovertemplate": "Pollutant=OXY<br>year=2001<br>Month=%{x}<br>Average Value=%{y}<extra></extra>",
         "legendgroup": "OXY",
         "line": {
          "color": "#00cc96",
          "dash": "solid"
         },
         "marker": {
          "symbol": "circle"
         },
         "mode": "lines",
         "name": "OXY",
         "orientation": "v",
         "showlegend": true,
         "type": "scatter",
         "x": [
          1,
          2,
          3,
          4,
          5,
          6,
          7,
          8,
          9,
          10,
          11,
          12
         ],
         "xaxis": "x",
         "y": [
          0.28311610243406826,
          0.4221651454428784,
          0.15935535849631974,
          -0.04865691704908203,
          0.06390697898968034,
          0.15191447823467544,
          0.09282836701700768,
          -0.015015117334711182,
          0.09278000527359702,
          0.4549250065988632,
          0.5343172408045465,
          1.3296045638089222
         ],
         "yaxis": "y"
        },
        {
         "hovertemplate": "Pollutant=PXY<br>year=2001<br>Month=%{x}<br>Average Value=%{y}<extra></extra>",
         "legendgroup": "PXY",
         "line": {
          "color": "#ab63fa",
          "dash": "solid"
         },
         "marker": {
          "symbol": "circle"
         },
         "mode": "lines",
         "name": "PXY",
         "orientation": "v",
         "showlegend": true,
         "type": "scatter",
         "x": [
          1,
          2,
          3,
          4,
          5,
          6,
          7,
          8,
          9,
          10,
          11,
          12
         ],
         "xaxis": "x",
         "y": [
          0.21482588440830724,
          0.43511049608289004,
          0.09897292329030927,
          -0.06063493673282269,
          0.026198589804917773,
          0.13513939404092232,
          0.06613154098074811,
          -0.04918050906869785,
          0.10376204645633069,
          0.42976898770294536,
          0.6332204203962227,
          1.6143403533314846
         ],
         "yaxis": "y"
        },
        {
         "hovertemplate": "Pollutant=PM25<br>year=2001<br>Month=%{x}<br>Average Value=%{y}<extra></extra>",
         "legendgroup": "PM25",
         "line": {
          "color": "#FFA15A",
          "dash": "solid"
         },
         "marker": {
          "symbol": "circle"
         },
         "mode": "lines",
         "name": "PM25",
         "orientation": "v",
         "showlegend": true,
         "type": "scatter",
         "x": [
          1,
          2,
          3,
          4,
          5,
          6,
          7,
          8,
          9,
          10,
          11,
          12
         ],
         "xaxis": "x",
         "y": [
          null,
          null,
          null,
          null,
          null,
          null,
          null,
          null,
          null,
          null,
          null,
          null
         ],
         "yaxis": "y"
        },
        {
         "hovertemplate": "Pollutant=CH4<br>year=2001<br>Month=%{x}<br>Average Value=%{y}<extra></extra>",
         "legendgroup": "CH4",
         "line": {
          "color": "#19d3f3",
          "dash": "solid"
         },
         "marker": {
          "symbol": "circle"
         },
         "mode": "lines",
         "name": "CH4",
         "orientation": "v",
         "showlegend": true,
         "type": "scatter",
         "x": [
          1,
          2,
          3,
          4,
          5,
          6,
          7,
          8,
          9,
          10,
          11,
          12
         ],
         "xaxis": "x",
         "y": [
          null,
          null,
          null,
          null,
          null,
          null,
          null,
          null,
          null,
          null,
          null,
          null
         ],
         "yaxis": "y"
        },
        {
         "hovertemplate": "Pollutant=NO<br>year=2001<br>Month=%{x}<br>Average Value=%{y}<extra></extra>",
         "legendgroup": "NO",
         "line": {
          "color": "#FF6692",
          "dash": "solid"
         },
         "marker": {
          "symbol": "circle"
         },
         "mode": "lines",
         "name": "NO",
         "orientation": "v",
         "showlegend": true,
         "type": "scatter",
         "x": [
          1,
          2,
          3,
          4,
          5,
          6,
          7,
          8,
          9,
          10,
          11,
          12
         ],
         "xaxis": "x",
         "y": [
          null,
          null,
          null,
          null,
          null,
          null,
          null,
          null,
          null,
          null,
          null,
          null
         ],
         "yaxis": "y"
        }
       ],
       "frames": [
        {
         "data": [
          {
           "hovertemplate": "Pollutant=BEN<br>year=2001<br>Month=%{x}<br>Average Value=%{y}<extra></extra>",
           "legendgroup": "BEN",
           "line": {
            "color": "#636efa",
            "dash": "solid"
           },
           "marker": {
            "symbol": "circle"
           },
           "mode": "lines",
           "name": "BEN",
           "orientation": "v",
           "showlegend": true,
           "type": "scatter",
           "x": [
            1,
            2,
            3,
            4,
            5,
            6,
            7,
            8,
            9,
            10,
            11,
            12
           ],
           "xaxis": "x",
           "y": [
            1.5782545676380642,
            1.6470837272808847,
            0.975809045095784,
            0.6904499128299236,
            0.7531014233887571,
            0.7785613787828608,
            0.5576199216126959,
            0.30677819438880144,
            0.609157303350478,
            0.9024115472458126,
            1.2751020885286264,
            2.457970306000788
           ],
           "yaxis": "y"
          },
          {
           "hovertemplate": "Pollutant=CO<br>year=2001<br>Month=%{x}<br>Average Value=%{y}<extra></extra>",
           "legendgroup": "CO",
           "line": {
            "color": "#EF553B",
            "dash": "solid"
           },
           "marker": {
            "symbol": "circle"
           },
           "mode": "lines",
           "name": "CO",
           "orientation": "v",
           "showlegend": true,
           "type": "scatter",
           "x": [
            1,
            2,
            3,
            4,
            5,
            6,
            7,
            8,
            9,
            10,
            11,
            12
           ],
           "xaxis": "x",
           "y": [
            1.1357445899927594,
            1.2730215326625935,
            0.5318138507421778,
            0.2491420143922465,
            0.416352776724105,
            0.33076667400258203,
            0.1412566651259353,
            0.002660644096839578,
            0.3602000478893393,
            0.7436734437224333,
            1.0907943551622166,
            1.9613486277546186
           ],
           "yaxis": "y"
          },
          {
           "hovertemplate": "Pollutant=EBE<br>year=2001<br>Month=%{x}<br>Average Value=%{y}<extra></extra>",
           "legendgroup": "EBE",
           "line": {
            "color": "#00cc96",
            "dash": "solid"
           },
           "marker": {
            "symbol": "circle"
           },
           "mode": "lines",
           "name": "EBE",
           "orientation": "v",
           "showlegend": true,
           "type": "scatter",
           "x": [
            1,
            2,
            3,
            4,
            5,
            6,
            7,
            8,
            9,
            10,
            11,
            12
           ],
           "xaxis": "x",
           "y": [
            1.1767756032464318,
            1.3043467116348748,
            0.7311853799024974,
            0.629900177254116,
            0.7422770217453528,
            0.8432039768865783,
            0.6654399273481474,
            0.3881743906747961,
            0.4647346716274252,
            0.785967288623179,
            0.8772029981297057,
            1.9789537270071331
           ],
           "yaxis": "y"
          },
          {
           "hovertemplate": "Pollutant=NMHC<br>year=2001<br>Month=%{x}<br>Average Value=%{y}<extra></extra>",
           "legendgroup": "NMHC",
           "line": {
            "color": "#ab63fa",
            "dash": "solid"
           },
           "marker": {
            "symbol": "circle"
           },
           "mode": "lines",
           "name": "NMHC",
           "orientation": "v",
           "showlegend": true,
           "type": "scatter",
           "x": [
            1,
            2,
            3,
            4,
            5,
            6,
            7,
            8,
            9,
            10,
            11,
            12
           ],
           "xaxis": "x",
           "y": [
            0.3335919778442109,
            0.4687907775855641,
            -0.0834005413611285,
            -0.4280719255509795,
            -0.2126960342658916,
            -0.03600191942401798,
            -0.2204459793048815,
            -0.2289227448955801,
            -0.019714154844527258,
            0.22266807148504775,
            0.17643736851266903,
            0.6817056052715126
           ],
           "yaxis": "y"
          },
          {
           "hovertemplate": "Pollutant=NOx<br>year=2001<br>Month=%{x}<br>Average Value=%{y}<extra></extra>",
           "legendgroup": "NOx",
           "line": {
            "color": "#FFA15A",
            "dash": "solid"
           },
           "marker": {
            "symbol": "circle"
           },
           "mode": "lines",
           "name": "NOx",
           "orientation": "v",
           "showlegend": true,
           "type": "scatter",
           "x": [
            1,
            2,
            3,
            4,
            5,
            6,
            7,
            8,
            9,
            10,
            11,
            12
           ],
           "xaxis": "x",
           "y": [
            0.3633797832901175,
            0.5726070367264139,
            -0.03189140333205281,
            -0.12406854348034567,
            0.00986684516557275,
            0.06113644277439797,
            -0.05531255705645726,
            -0.1148423364514462,
            0.1096063538350456,
            0.3188457686202897,
            0.6851670881062114,
            1.467156928231212
           ],
           "yaxis": "y"
          },
          {
           "hovertemplate": "Pollutant=NO_2<br>year=2001<br>Month=%{x}<br>Average Value=%{y}<extra></extra>",
           "legendgroup": "NO_2",
           "line": {
            "color": "#19d3f3",
            "dash": "solid"
           },
           "marker": {
            "symbol": "circle"
           },
           "mode": "lines",
           "name": "NO_2",
           "orientation": "v",
           "showlegend": true,
           "type": "scatter",
           "x": [
            1,
            2,
            3,
            4,
            5,
            6,
            7,
            8,
            9,
            10,
            11,
            12
           ],
           "xaxis": "x",
           "y": [
            0.19057571530364512,
            0.4113795400906759,
            -0.02905038839898754,
            0.07653770053588257,
            0.39355231601256696,
            0.4921964699338466,
            0.3240505937565022,
            0.1516060011743617,
            0.4278544671530045,
            0.25110678504687306,
            0.5278468547329892,
            1.109715850699898
           ],
           "yaxis": "y"
          },
          {
           "hovertemplate": "Pollutant=O_3<br>year=2001<br>Month=%{x}<br>Average Value=%{y}<extra></extra>",
           "legendgroup": "O_3",
           "line": {
            "color": "#FF6692",
            "dash": "solid"
           },
           "marker": {
            "symbol": "circle"
           },
           "mode": "lines",
           "name": "O_3",
           "orientation": "v",
           "showlegend": true,
           "type": "scatter",
           "x": [
            1,
            2,
            3,
            4,
            5,
            6,
            7,
            8,
            9,
            10,
            11,
            12
           ],
           "xaxis": "x",
           "y": [
            -0.6692846191881066,
            -0.6350638311460066,
            -0.3558432413725236,
            0.020007619941212945,
            0.04003442078833762,
            0.20424593944375924,
            0.2410088649436234,
            0.23897108232951939,
            -0.031668264876682437,
            -0.5805488804952393,
            -0.6699550517805339,
            -1.0023204113688373
           ],
           "yaxis": "y"
          },
          {
           "hovertemplate": "Pollutant=PM10<br>year=2001<br>Month=%{x}<br>Average Value=%{y}<extra></extra>",
           "legendgroup": "PM10",
           "line": {
            "color": "#B6E880",
            "dash": "solid"
           },
           "marker": {
            "symbol": "circle"
           },
           "mode": "lines",
           "name": "PM10",
           "orientation": "v",
           "showlegend": true,
           "type": "scatter",
           "x": [
            1,
            2,
            3,
            4,
            5,
            6,
            7,
            8,
            9,
            10,
            11,
            12
           ],
           "xaxis": "x",
           "y": [
            0.021795305919301598,
            0.32009720685618936,
            -0.15012870621395377,
            -0.12452837426927067,
            -0.004509958618003475,
            0.39345134461262354,
            0.2812953698736327,
            0.3755862696319706,
            0.30363332448802766,
            0.13021876221234116,
            0.2337560213570064,
            0.8728041028525254
           ],
           "yaxis": "y"
          },
          {
           "hovertemplate": "Pollutant=SO_2<br>year=2001<br>Month=%{x}<br>Average Value=%{y}<extra></extra>",
           "legendgroup": "SO_2",
           "line": {
            "color": "#FF97FF",
            "dash": "solid"
           },
           "marker": {
            "symbol": "circle"
           },
           "mode": "lines",
           "name": "SO_2",
           "orientation": "v",
           "showlegend": true,
           "type": "scatter",
           "x": [
            1,
            2,
            3,
            4,
            5,
            6,
            7,
            8,
            9,
            10,
            11,
            12
           ],
           "xaxis": "x",
           "y": [
            1.5731760660092144,
            2.0229228043095664,
            0.861572870002908,
            0.4923912943623938,
            0.44564369854706287,
            0.49910022022511547,
            0.14367292479408256,
            -0.04282614601878837,
            0.10030881028383151,
            0.23522496167776152,
            1.62469749728869,
            2.2734170198503767
           ],
           "yaxis": "y"
          },
          {
           "hovertemplate": "Pollutant=TCH<br>year=2001<br>Month=%{x}<br>Average Value=%{y}<extra></extra>",
           "legendgroup": "TCH",
           "line": {
            "color": "#FECB52",
            "dash": "solid"
           },
           "marker": {
            "symbol": "circle"
           },
           "mode": "lines",
           "name": "TCH",
           "orientation": "v",
           "showlegend": true,
           "type": "scatter",
           "x": [
            1,
            2,
            3,
            4,
            5,
            6,
            7,
            8,
            9,
            10,
            11,
            12
           ],
           "xaxis": "x",
           "y": [
            0.45323232790937257,
            0.48623874074267737,
            0.0020947650293684705,
            -0.3916731507317389,
            -0.1975208229320988,
            -0.1655229079033182,
            -0.2890127184921358,
            -0.24176892096210675,
            -0.017815603292076616,
            0.26260352705717566,
            0.27500987637683816,
            1.0787889429203863
           ],
           "yaxis": "y"
          },
          {
           "hovertemplate": "Pollutant=TOL<br>year=2001<br>Month=%{x}<br>Average Value=%{y}<extra></extra>",
           "legendgroup": "TOL",
           "line": {
            "color": "#636efa",
            "dash": "solid"
           },
           "marker": {
            "symbol": "circle"
           },
           "mode": "lines",
           "name": "TOL",
           "orientation": "v",
           "showlegend": true,
           "type": "scatter",
           "x": [
            1,
            2,
            3,
            4,
            5,
            6,
            7,
            8,
            9,
            10,
            11,
            12
           ],
           "xaxis": "x",
           "y": [
            1.1837063016486264,
            1.2363033400829162,
            0.620354587016765,
            0.3913671370593672,
            0.6559197094967063,
            0.8004730123830522,
            0.8004763818014211,
            0.7831163196412737,
            1.0890701889541243,
            1.3680534528341222,
            1.4115807178039954,
            2.581286163134444
           ],
           "yaxis": "y"
          },
          {
           "hovertemplate": "Pollutant=MXY<br>year=2001<br>Month=%{x}<br>Average Value=%{y}<extra></extra>",
           "legendgroup": "MXY",
           "line": {
            "color": "#EF553B",
            "dash": "solid"
           },
           "marker": {
            "symbol": "circle"
           },
           "mode": "lines",
           "name": "MXY",
           "orientation": "v",
           "showlegend": true,
           "type": "scatter",
           "x": [
            1,
            2,
            3,
            4,
            5,
            6,
            7,
            8,
            9,
            10,
            11,
            12
           ],
           "xaxis": "x",
           "y": [
            0.34979848421969656,
            0.5381044048802491,
            0.23921889206237287,
            0.04208156713033709,
            0.14444993852611637,
            0.22368795470969488,
            0.14126626280336774,
            0.0519646134755083,
            0.20626491255937682,
            0.6230582320187179,
            0.6691342013250929,
            1.6112771585775598
           ],
           "yaxis": "y"
          },
          {
           "hovertemplate": "Pollutant=OXY<br>year=2001<br>Month=%{x}<br>Average Value=%{y}<extra></extra>",
           "legendgroup": "OXY",
           "line": {
            "color": "#00cc96",
            "dash": "solid"
           },
           "marker": {
            "symbol": "circle"
           },
           "mode": "lines",
           "name": "OXY",
           "orientation": "v",
           "showlegend": true,
           "type": "scatter",
           "x": [
            1,
            2,
            3,
            4,
            5,
            6,
            7,
            8,
            9,
            10,
            11,
            12
           ],
           "xaxis": "x",
           "y": [
            0.28311610243406826,
            0.4221651454428784,
            0.15935535849631974,
            -0.04865691704908203,
            0.06390697898968034,
            0.15191447823467544,
            0.09282836701700768,
            -0.015015117334711182,
            0.09278000527359702,
            0.4549250065988632,
            0.5343172408045465,
            1.3296045638089222
           ],
           "yaxis": "y"
          },
          {
           "hovertemplate": "Pollutant=PXY<br>year=2001<br>Month=%{x}<br>Average Value=%{y}<extra></extra>",
           "legendgroup": "PXY",
           "line": {
            "color": "#ab63fa",
            "dash": "solid"
           },
           "marker": {
            "symbol": "circle"
           },
           "mode": "lines",
           "name": "PXY",
           "orientation": "v",
           "showlegend": true,
           "type": "scatter",
           "x": [
            1,
            2,
            3,
            4,
            5,
            6,
            7,
            8,
            9,
            10,
            11,
            12
           ],
           "xaxis": "x",
           "y": [
            0.21482588440830724,
            0.43511049608289004,
            0.09897292329030927,
            -0.06063493673282269,
            0.026198589804917773,
            0.13513939404092232,
            0.06613154098074811,
            -0.04918050906869785,
            0.10376204645633069,
            0.42976898770294536,
            0.6332204203962227,
            1.6143403533314846
           ],
           "yaxis": "y"
          },
          {
           "hovertemplate": "Pollutant=PM25<br>year=2001<br>Month=%{x}<br>Average Value=%{y}<extra></extra>",
           "legendgroup": "PM25",
           "line": {
            "color": "#FFA15A",
            "dash": "solid"
           },
           "marker": {
            "symbol": "circle"
           },
           "mode": "lines",
           "name": "PM25",
           "orientation": "v",
           "showlegend": true,
           "type": "scatter",
           "x": [
            1,
            2,
            3,
            4,
            5,
            6,
            7,
            8,
            9,
            10,
            11,
            12
           ],
           "xaxis": "x",
           "y": [
            null,
            null,
            null,
            null,
            null,
            null,
            null,
            null,
            null,
            null,
            null,
            null
           ],
           "yaxis": "y"
          },
          {
           "hovertemplate": "Pollutant=CH4<br>year=2001<br>Month=%{x}<br>Average Value=%{y}<extra></extra>",
           "legendgroup": "CH4",
           "line": {
            "color": "#19d3f3",
            "dash": "solid"
           },
           "marker": {
            "symbol": "circle"
           },
           "mode": "lines",
           "name": "CH4",
           "orientation": "v",
           "showlegend": true,
           "type": "scatter",
           "x": [
            1,
            2,
            3,
            4,
            5,
            6,
            7,
            8,
            9,
            10,
            11,
            12
           ],
           "xaxis": "x",
           "y": [
            null,
            null,
            null,
            null,
            null,
            null,
            null,
            null,
            null,
            null,
            null,
            null
           ],
           "yaxis": "y"
          },
          {
           "hovertemplate": "Pollutant=NO<br>year=2001<br>Month=%{x}<br>Average Value=%{y}<extra></extra>",
           "legendgroup": "NO",
           "line": {
            "color": "#FF6692",
            "dash": "solid"
           },
           "marker": {
            "symbol": "circle"
           },
           "mode": "lines",
           "name": "NO",
           "orientation": "v",
           "showlegend": true,
           "type": "scatter",
           "x": [
            1,
            2,
            3,
            4,
            5,
            6,
            7,
            8,
            9,
            10,
            11,
            12
           ],
           "xaxis": "x",
           "y": [
            null,
            null,
            null,
            null,
            null,
            null,
            null,
            null,
            null,
            null,
            null,
            null
           ],
           "yaxis": "y"
          }
         ],
         "name": "2001"
        },
        {
         "data": [
          {
           "hovertemplate": "Pollutant=BEN<br>year=2002<br>Month=%{x}<br>Average Value=%{y}<extra></extra>",
           "legendgroup": "BEN",
           "line": {
            "color": "#636efa",
            "dash": "solid"
           },
           "marker": {
            "symbol": "circle"
           },
           "mode": "lines",
           "name": "BEN",
           "orientation": "v",
           "showlegend": true,
           "type": "scatter",
           "x": [
            1,
            2,
            3,
            4,
            5,
            6,
            7,
            8,
            9,
            10,
            11,
            12
           ],
           "xaxis": "x",
           "y": [
            1.6093835169714874,
            1.0273276626055958,
            0.6884557909996161,
            0.31849249956374703,
            0.105327172370594,
            0.20035732531982717,
            0.24569330290790733,
            0.1078236545701328,
            0.5956780827915954,
            0.6592299349133787,
            0.45633870679720234,
            0.8434449706369845
           ],
           "yaxis": "y"
          },
          {
           "hovertemplate": "Pollutant=CO<br>year=2002<br>Month=%{x}<br>Average Value=%{y}<extra></extra>",
           "legendgroup": "CO",
           "line": {
            "color": "#EF553B",
            "dash": "solid"
           },
           "marker": {
            "symbol": "circle"
           },
           "mode": "lines",
           "name": "CO",
           "orientation": "v",
           "showlegend": true,
           "type": "scatter",
           "x": [
            1,
            2,
            3,
            4,
            5,
            6,
            7,
            8,
            9,
            10,
            11,
            12
           ],
           "xaxis": "x",
           "y": [
            1.1393285230583559,
            0.7866475446906847,
            0.42045829905413185,
            0.253560989875224,
            0.0011236818038544254,
            -0.009856241599570175,
            -0.028137455143081226,
            -0.16289763169045865,
            0.3394467725362494,
            0.6016210567605214,
            0.6474878763904706,
            0.7478619457865271
           ],
           "yaxis": "y"
          },
          {
           "hovertemplate": "Pollutant=EBE<br>year=2002<br>Month=%{x}<br>Average Value=%{y}<extra></extra>",
           "legendgroup": "EBE",
           "line": {
            "color": "#00cc96",
            "dash": "solid"
           },
           "marker": {
            "symbol": "circle"
           },
           "mode": "lines",
           "name": "EBE",
           "orientation": "v",
           "showlegend": true,
           "type": "scatter",
           "x": [
            1,
            2,
            3,
            4,
            5,
            6,
            7,
            8,
            9,
            10,
            11,
            12
           ],
           "xaxis": "x",
           "y": [
            1.3687067710938523,
            0.8090297230404414,
            0.5401881608566366,
            0.32474364914301646,
            0.2561834706851243,
            0.19943010125056634,
            0.36067857282580423,
            0.2415996542963415,
            0.6995392575059038,
            0.5842250353660172,
            0.3363630792331005,
            0.5277837286654156
           ],
           "yaxis": "y"
          },
          {
           "hovertemplate": "Pollutant=NMHC<br>year=2002<br>Month=%{x}<br>Average Value=%{y}<extra></extra>",
           "legendgroup": "NMHC",
           "line": {
            "color": "#ab63fa",
            "dash": "solid"
           },
           "marker": {
            "symbol": "circle"
           },
           "mode": "lines",
           "name": "NMHC",
           "orientation": "v",
           "showlegend": true,
           "type": "scatter",
           "x": [
            1,
            2,
            3,
            4,
            5,
            6,
            7,
            8,
            9,
            10,
            11,
            12
           ],
           "xaxis": "x",
           "y": [
            0.269690817393207,
            0.030874131451877073,
            -0.011833267885851269,
            -0.12941660583676468,
            -0.2886877935594723,
            -0.1500238613876092,
            -0.20354009984669053,
            -0.5498855378774556,
            -0.14260248841758053,
            0.021010318401641335,
            0.019354953109524148,
            0.1477703258081273
           ],
           "yaxis": "y"
          },
          {
           "hovertemplate": "Pollutant=NOx<br>year=2002<br>Month=%{x}<br>Average Value=%{y}<extra></extra>",
           "legendgroup": "NOx",
           "line": {
            "color": "#FFA15A",
            "dash": "solid"
           },
           "marker": {
            "symbol": "circle"
           },
           "mode": "lines",
           "name": "NOx",
           "orientation": "v",
           "showlegend": true,
           "type": "scatter",
           "x": [
            1,
            2,
            3,
            4,
            5,
            6,
            7,
            8,
            9,
            10,
            11,
            12
           ],
           "xaxis": "x",
           "y": [
            0.8224861408317764,
            0.5274156386499629,
            0.15922818352041637,
            0.07283653792806126,
            -0.18129234191835453,
            -0.1849820895159144,
            -0.1848063374150166,
            -0.2687829567740602,
            0.08074546143081175,
            0.2264550597666477,
            0.222874872086216,
            0.2364385312516068
           ],
           "yaxis": "y"
          },
          {
           "hovertemplate": "Pollutant=NO_2<br>year=2002<br>Month=%{x}<br>Average Value=%{y}<extra></extra>",
           "legendgroup": "NO_2",
           "line": {
            "color": "#19d3f3",
            "dash": "solid"
           },
           "marker": {
            "symbol": "circle"
           },
           "mode": "lines",
           "name": "NO_2",
           "orientation": "v",
           "showlegend": true,
           "type": "scatter",
           "x": [
            1,
            2,
            3,
            4,
            5,
            6,
            7,
            8,
            9,
            10,
            11,
            12
           ],
           "xaxis": "x",
           "y": [
            0.67783551474017,
            0.5579997996088292,
            0.432877629388118,
            0.5345307015724319,
            0.07496919440087932,
            0.18472379030023922,
            0.15360752168917513,
            0.059640771739795116,
            0.3971264197846717,
            0.35263080063073815,
            0.29975059374199803,
            0.1845230019434443
           ],
           "yaxis": "y"
          },
          {
           "hovertemplate": "Pollutant=O_3<br>year=2002<br>Month=%{x}<br>Average Value=%{y}<extra></extra>",
           "legendgroup": "O_3",
           "line": {
            "color": "#FF6692",
            "dash": "solid"
           },
           "marker": {
            "symbol": "circle"
           },
           "mode": "lines",
           "name": "O_3",
           "orientation": "v",
           "showlegend": true,
           "type": "scatter",
           "x": [
            1,
            2,
            3,
            4,
            5,
            6,
            7,
            8,
            9,
            10,
            11,
            12
           ],
           "xaxis": "x",
           "y": [
            -0.9351223440500365,
            -0.6811092557635792,
            -0.2797029805193121,
            0.09872751687716573,
            0.17648174239700234,
            0.2898892402407016,
            0.40368158687847566,
            0.35147552073365484,
            -0.17929987060237149,
            -0.5847749302307673,
            -0.6948152049469021,
            -0.7309125730976954
           ],
           "yaxis": "y"
          },
          {
           "hovertemplate": "Pollutant=PM10<br>year=2002<br>Month=%{x}<br>Average Value=%{y}<extra></extra>",
           "legendgroup": "PM10",
           "line": {
            "color": "#B6E880",
            "dash": "solid"
           },
           "marker": {
            "symbol": "circle"
           },
           "mode": "lines",
           "name": "PM10",
           "orientation": "v",
           "showlegend": true,
           "type": "scatter",
           "x": [
            1,
            2,
            3,
            4,
            5,
            6,
            7,
            8,
            9,
            10,
            11,
            12
           ],
           "xaxis": "x",
           "y": [
            0.2935858055439732,
            0.3321806821123267,
            0.09944451056360824,
            0.12913845086325088,
            -0.11549617802875727,
            0.5654674111878512,
            0.3644185602969049,
            0.19661846791447193,
            0.20418772174776406,
            0.06955892306678774,
            -0.05467578877480746,
            -0.058624063813075465
           ],
           "yaxis": "y"
          },
          {
           "hovertemplate": "Pollutant=SO_2<br>year=2002<br>Month=%{x}<br>Average Value=%{y}<extra></extra>",
           "legendgroup": "SO_2",
           "line": {
            "color": "#FF97FF",
            "dash": "solid"
           },
           "marker": {
            "symbol": "circle"
           },
           "mode": "lines",
           "name": "SO_2",
           "orientation": "v",
           "showlegend": true,
           "type": "scatter",
           "x": [
            1,
            2,
            3,
            4,
            5,
            6,
            7,
            8,
            9,
            10,
            11,
            12
           ],
           "xaxis": "x",
           "y": [
            1.4724112222469623,
            1.1402357498850193,
            0.48107140229722745,
            0.12890343597007506,
            -0.19206765045487276,
            -0.2579349170751468,
            -0.2971279741732557,
            -0.3290492418625829,
            -0.13165060634887543,
            0.02587865025640807,
            0.42360802484139576,
            0.7253218949247382
           ],
           "yaxis": "y"
          },
          {
           "hovertemplate": "Pollutant=TCH<br>year=2002<br>Month=%{x}<br>Average Value=%{y}<extra></extra>",
           "legendgroup": "TCH",
           "line": {
            "color": "#FECB52",
            "dash": "solid"
           },
           "marker": {
            "symbol": "circle"
           },
           "mode": "lines",
           "name": "TCH",
           "orientation": "v",
           "showlegend": true,
           "type": "scatter",
           "x": [
            1,
            2,
            3,
            4,
            5,
            6,
            7,
            8,
            9,
            10,
            11,
            12
           ],
           "xaxis": "x",
           "y": [
            0.5257453544900875,
            0.19666401842948653,
            0.09346529131999953,
            -0.02560418871697504,
            -0.2496817182573284,
            -0.3069410791372831,
            -0.3920412926622237,
            -0.48810022568157097,
            -0.10859993496016397,
            0.031769215795963486,
            0.10042399302830468,
            0.27260423253490434
           ],
           "yaxis": "y"
          },
          {
           "hovertemplate": "Pollutant=TOL<br>year=2002<br>Month=%{x}<br>Average Value=%{y}<extra></extra>",
           "legendgroup": "TOL",
           "line": {
            "color": "#636efa",
            "dash": "solid"
           },
           "marker": {
            "symbol": "circle"
           },
           "mode": "lines",
           "name": "TOL",
           "orientation": "v",
           "showlegend": true,
           "type": "scatter",
           "x": [
            1,
            2,
            3,
            4,
            5,
            6,
            7,
            8,
            9,
            10,
            11,
            12
           ],
           "xaxis": "x",
           "y": [
            1.6385825103118175,
            0.9510318055803557,
            0.5667067097141028,
            0.37618191933341844,
            0.24108489816431058,
            0.3292132581345665,
            0.30816753367208566,
            0.18326004235239993,
            0.8020716874944368,
            0.8014890364397035,
            0.5889099844244738,
            0.5552817280183601
           ],
           "yaxis": "y"
          },
          {
           "hovertemplate": "Pollutant=MXY<br>year=2002<br>Month=%{x}<br>Average Value=%{y}<extra></extra>",
           "legendgroup": "MXY",
           "line": {
            "color": "#EF553B",
            "dash": "solid"
           },
           "marker": {
            "symbol": "circle"
           },
           "mode": "lines",
           "name": "MXY",
           "orientation": "v",
           "showlegend": true,
           "type": "scatter",
           "x": [
            1,
            2,
            3,
            4,
            5,
            6,
            7,
            8,
            9,
            10,
            11,
            12
           ],
           "xaxis": "x",
           "y": [
            1.196627945819205,
            0.5844796054598904,
            0.35809390998780705,
            0.18934050295994376,
            0.09579935361889332,
            0.025901044972187644,
            0.14308890639004423,
            -0.014204456483294237,
            0.4339185056491347,
            0.4988088955667871,
            0.19435937639074602,
            0.19185107614988872
           ],
           "yaxis": "y"
          },
          {
           "hovertemplate": "Pollutant=OXY<br>year=2002<br>Month=%{x}<br>Average Value=%{y}<extra></extra>",
           "legendgroup": "OXY",
           "line": {
            "color": "#00cc96",
            "dash": "solid"
           },
           "marker": {
            "symbol": "circle"
           },
           "mode": "lines",
           "name": "OXY",
           "orientation": "v",
           "showlegend": true,
           "type": "scatter",
           "x": [
            1,
            2,
            3,
            4,
            5,
            6,
            7,
            8,
            9,
            10,
            11,
            12
           ],
           "xaxis": "x",
           "y": [
            0.9238874067545884,
            0.4034102340450074,
            0.1945379003376136,
            0.08394301411231239,
            0.2092388038737984,
            0.023460368802525944,
            0.1143444814945094,
            -0.09877923683946828,
            0.16233559004106565,
            0.32563292598812543,
            0.019700899780861765,
            0.0613606078060118
           ],
           "yaxis": "y"
          },
          {
           "hovertemplate": "Pollutant=PXY<br>year=2002<br>Month=%{x}<br>Average Value=%{y}<extra></extra>",
           "legendgroup": "PXY",
           "line": {
            "color": "#ab63fa",
            "dash": "solid"
           },
           "marker": {
            "symbol": "circle"
           },
           "mode": "lines",
           "name": "PXY",
           "orientation": "v",
           "showlegend": true,
           "type": "scatter",
           "x": [
            1,
            2,
            3,
            4,
            5,
            6,
            7,
            8,
            9,
            10,
            11,
            12
           ],
           "xaxis": "x",
           "y": [
            0.9990802222796195,
            0.45677597369233575,
            0.21734775333357548,
            0.1150539713164617,
            0.16224267153712915,
            0.013166255162862663,
            0.28742360130019207,
            -0.014319004043855471,
            0.3277298198705041,
            0.45371188139863194,
            0.15040272455343087,
            0.11781992845158978
           ],
           "yaxis": "y"
          },
          {
           "hovertemplate": "Pollutant=PM25<br>year=2002<br>Month=%{x}<br>Average Value=%{y}<extra></extra>",
           "legendgroup": "PM25",
           "line": {
            "color": "#FFA15A",
            "dash": "solid"
           },
           "marker": {
            "symbol": "circle"
           },
           "mode": "lines",
           "name": "PM25",
           "orientation": "v",
           "showlegend": true,
           "type": "scatter",
           "x": [
            1,
            2,
            3,
            4,
            5,
            6,
            7,
            8,
            9,
            10,
            11,
            12
           ],
           "xaxis": "x",
           "y": [
            null,
            null,
            null,
            null,
            null,
            null,
            null,
            null,
            null,
            null,
            null,
            null
           ],
           "yaxis": "y"
          },
          {
           "hovertemplate": "Pollutant=CH4<br>year=2002<br>Month=%{x}<br>Average Value=%{y}<extra></extra>",
           "legendgroup": "CH4",
           "line": {
            "color": "#19d3f3",
            "dash": "solid"
           },
           "marker": {
            "symbol": "circle"
           },
           "mode": "lines",
           "name": "CH4",
           "orientation": "v",
           "showlegend": true,
           "type": "scatter",
           "x": [
            1,
            2,
            3,
            4,
            5,
            6,
            7,
            8,
            9,
            10,
            11,
            12
           ],
           "xaxis": "x",
           "y": [
            null,
            null,
            null,
            null,
            null,
            null,
            null,
            null,
            null,
            null,
            null,
            null
           ],
           "yaxis": "y"
          },
          {
           "hovertemplate": "Pollutant=NO<br>year=2002<br>Month=%{x}<br>Average Value=%{y}<extra></extra>",
           "legendgroup": "NO",
           "line": {
            "color": "#FF6692",
            "dash": "solid"
           },
           "marker": {
            "symbol": "circle"
           },
           "mode": "lines",
           "name": "NO",
           "orientation": "v",
           "showlegend": true,
           "type": "scatter",
           "x": [
            1,
            2,
            3,
            4,
            5,
            6,
            7,
            8,
            9,
            10,
            11,
            12
           ],
           "xaxis": "x",
           "y": [
            null,
            null,
            null,
            null,
            null,
            null,
            null,
            null,
            null,
            null,
            null,
            null
           ],
           "yaxis": "y"
          }
         ],
         "name": "2002"
        },
        {
         "data": [
          {
           "hovertemplate": "Pollutant=BEN<br>year=2003<br>Month=%{x}<br>Average Value=%{y}<extra></extra>",
           "legendgroup": "BEN",
           "line": {
            "color": "#636efa",
            "dash": "solid"
           },
           "marker": {
            "symbol": "circle"
           },
           "mode": "lines",
           "name": "BEN",
           "orientation": "v",
           "showlegend": true,
           "type": "scatter",
           "x": [
            1,
            2,
            3,
            4,
            5,
            6,
            7,
            8,
            9,
            10,
            11,
            12
           ],
           "xaxis": "x",
           "y": [
            0.7106168020639271,
            0.7017002061200079,
            0.5001942531626826,
            0.17316240090475032,
            0.3871020239933627,
            0.2577321262930617,
            0.2633999831282699,
            0.18271112611024104,
            0.34463799378340243,
            0.35616361468427044,
            0.6317030888328394,
            0.9382886610404821
           ],
           "yaxis": "y"
          },
          {
           "hovertemplate": "Pollutant=CO<br>year=2003<br>Month=%{x}<br>Average Value=%{y}<extra></extra>",
           "legendgroup": "CO",
           "line": {
            "color": "#EF553B",
            "dash": "solid"
           },
           "marker": {
            "symbol": "circle"
           },
           "mode": "lines",
           "name": "CO",
           "orientation": "v",
           "showlegend": true,
           "type": "scatter",
           "x": [
            1,
            2,
            3,
            4,
            5,
            6,
            7,
            8,
            9,
            10,
            11,
            12
           ],
           "xaxis": "x",
           "y": [
            0.7585540977113934,
            0.5932368093512896,
            0.4700772739523352,
            0.10917473849048386,
            -0.007102219193820847,
            -0.04546889746440663,
            -0.05161224423125295,
            -0.18238962367382178,
            0.06049677642386427,
            0.2396520679919369,
            0.5662678931896798,
            0.9265077866812748
           ],
           "yaxis": "y"
          },
          {
           "hovertemplate": "Pollutant=EBE<br>year=2003<br>Month=%{x}<br>Average Value=%{y}<extra></extra>",
           "legendgroup": "EBE",
           "line": {
            "color": "#00cc96",
            "dash": "solid"
           },
           "marker": {
            "symbol": "circle"
           },
           "mode": "lines",
           "name": "EBE",
           "orientation": "v",
           "showlegend": true,
           "type": "scatter",
           "x": [
            1,
            2,
            3,
            4,
            5,
            6,
            7,
            8,
            9,
            10,
            11,
            12
           ],
           "xaxis": "x",
           "y": [
            0.24574370792122374,
            0.49466710451162604,
            0.42148543964187124,
            0.21123645708432096,
            0.40616114946771403,
            0.23004747497899475,
            0.36809686906246064,
            0.3199968636087893,
            0.4737781597595472,
            0.6120613061702149,
            0.9881308680668088,
            1.0724391196825265
           ],
           "yaxis": "y"
          },
          {
           "hovertemplate": "Pollutant=NMHC<br>year=2003<br>Month=%{x}<br>Average Value=%{y}<extra></extra>",
           "legendgroup": "NMHC",
           "line": {
            "color": "#ab63fa",
            "dash": "solid"
           },
           "marker": {
            "symbol": "circle"
           },
           "mode": "lines",
           "name": "NMHC",
           "orientation": "v",
           "showlegend": true,
           "type": "scatter",
           "x": [
            1,
            2,
            3,
            4,
            5,
            6,
            7,
            8,
            9,
            10,
            11,
            12
           ],
           "xaxis": "x",
           "y": [
            0.0018682878835001196,
            -0.1816880101314546,
            -0.1921069367716735,
            -0.4722898993463118,
            -0.5068311082987966,
            -0.3342457913427656,
            -0.34643928332261453,
            -0.3017100427075205,
            -0.2539964188604659,
            -0.3429567562174841,
            -0.07004736571951156,
            0.3622997958432294
           ],
           "yaxis": "y"
          },
          {
           "hovertemplate": "Pollutant=NOx<br>year=2003<br>Month=%{x}<br>Average Value=%{y}<extra></extra>",
           "legendgroup": "NOx",
           "line": {
            "color": "#FFA15A",
            "dash": "solid"
           },
           "marker": {
            "symbol": "circle"
           },
           "mode": "lines",
           "name": "NOx",
           "orientation": "v",
           "showlegend": true,
           "type": "scatter",
           "x": [
            1,
            2,
            3,
            4,
            5,
            6,
            7,
            8,
            9,
            10,
            11,
            12
           ],
           "xaxis": "x",
           "y": [
            0.2628380980762328,
            0.15573371279217454,
            0.10481273882923464,
            -0.20667778031904407,
            -0.17812659210975207,
            -0.1441422550332493,
            -0.10906254990772106,
            -0.2254071960566097,
            -0.06095467133413347,
            -0.007976427800313839,
            0.32819061829363194,
            0.7002192411591978
           ],
           "yaxis": "y"
          },
          {
           "hovertemplate": "Pollutant=NO_2<br>year=2003<br>Month=%{x}<br>Average Value=%{y}<extra></extra>",
           "legendgroup": "NO_2",
           "line": {
            "color": "#19d3f3",
            "dash": "solid"
           },
           "marker": {
            "symbol": "circle"
           },
           "mode": "lines",
           "name": "NO_2",
           "orientation": "v",
           "showlegend": true,
           "type": "scatter",
           "x": [
            1,
            2,
            3,
            4,
            5,
            6,
            7,
            8,
            9,
            10,
            11,
            12
           ],
           "xaxis": "x",
           "y": [
            0.27512952597916956,
            0.2943173913515083,
            0.3432009165029919,
            0.02367116501149064,
            0.09919907223172712,
            0.21730790216725387,
            0.2817645967955402,
            0.12407611856646927,
            0.21384909912488612,
            0.10643122940256303,
            0.28532129445736465,
            0.48914340346711654
           ],
           "yaxis": "y"
          },
          {
           "hovertemplate": "Pollutant=O_3<br>year=2003<br>Month=%{x}<br>Average Value=%{y}<extra></extra>",
           "legendgroup": "O_3",
           "line": {
            "color": "#FF6692",
            "dash": "solid"
           },
           "marker": {
            "symbol": "circle"
           },
           "mode": "lines",
           "name": "O_3",
           "orientation": "v",
           "showlegend": true,
           "type": "scatter",
           "x": [
            1,
            2,
            3,
            4,
            5,
            6,
            7,
            8,
            9,
            10,
            11,
            12
           ],
           "xaxis": "x",
           "y": [
            -0.5798577937705081,
            -0.5614288847647008,
            -0.2409495679700203,
            0.20062044269290064,
            0.3038552421066444,
            0.4016009682392808,
            0.5037864825952595,
            0.6783260201773507,
            0.09079231217385951,
            -0.45256710255486116,
            -0.7079855941901412,
            -0.8368976753415075
           ],
           "yaxis": "y"
          },
          {
           "hovertemplate": "Pollutant=PM10<br>year=2003<br>Month=%{x}<br>Average Value=%{y}<extra></extra>",
           "legendgroup": "PM10",
           "line": {
            "color": "#B6E880",
            "dash": "solid"
           },
           "marker": {
            "symbol": "circle"
           },
           "mode": "lines",
           "name": "PM10",
           "orientation": "v",
           "showlegend": true,
           "type": "scatter",
           "x": [
            1,
            2,
            3,
            4,
            5,
            6,
            7,
            8,
            9,
            10,
            11,
            12
           ],
           "xaxis": "x",
           "y": [
            -0.05703073093834392,
            -0.07736570180007522,
            0.442824718185252,
            -0.03222081331756007,
            0.18833895939544992,
            0.7236855007242191,
            0.5174730690999118,
            0.5512060924661523,
            0.4073604123713287,
            -0.1827085535389401,
            0.19491606440945294,
            0.3420029526370706
           ],
           "yaxis": "y"
          },
          {
           "hovertemplate": "Pollutant=SO_2<br>year=2003<br>Month=%{x}<br>Average Value=%{y}<extra></extra>",
           "legendgroup": "SO_2",
           "line": {
            "color": "#FF97FF",
            "dash": "solid"
           },
           "marker": {
            "symbol": "circle"
           },
           "mode": "lines",
           "name": "SO_2",
           "orientation": "v",
           "showlegend": true,
           "type": "scatter",
           "x": [
            1,
            2,
            3,
            4,
            5,
            6,
            7,
            8,
            9,
            10,
            11,
            12
           ],
           "xaxis": "x",
           "y": [
            0.7981010996191799,
            0.6772328240801792,
            0.42295595629441013,
            -0.04911932324184836,
            -0.16789551227722257,
            -0.1468173230066344,
            -0.11512557168457659,
            -0.14061416770425572,
            -0.10491018943393414,
            -0.17160917985242757,
            0.39895696723891777,
            0.8845527350714968
           ],
           "yaxis": "y"
          },
          {
           "hovertemplate": "Pollutant=TCH<br>year=2003<br>Month=%{x}<br>Average Value=%{y}<extra></extra>",
           "legendgroup": "TCH",
           "line": {
            "color": "#FECB52",
            "dash": "solid"
           },
           "marker": {
            "symbol": "circle"
           },
           "mode": "lines",
           "name": "TCH",
           "orientation": "v",
           "showlegend": true,
           "type": "scatter",
           "x": [
            1,
            2,
            3,
            4,
            5,
            6,
            7,
            8,
            9,
            10,
            11,
            12
           ],
           "xaxis": "x",
           "y": [
            0.1287855039213618,
            0.004474781658724504,
            -0.11085057763266441,
            -0.17252576732137814,
            -0.3546855266172465,
            -0.17559989316080268,
            -0.10959938736993906,
            -0.024608397086067685,
            -0.030022660745199232,
            -0.030760556232825968,
            0.3886428074890231,
            0.7740756231293029
           ],
           "yaxis": "y"
          },
          {
           "hovertemplate": "Pollutant=TOL<br>year=2003<br>Month=%{x}<br>Average Value=%{y}<extra></extra>",
           "legendgroup": "TOL",
           "line": {
            "color": "#636efa",
            "dash": "solid"
           },
           "marker": {
            "symbol": "circle"
           },
           "mode": "lines",
           "name": "TOL",
           "orientation": "v",
           "showlegend": true,
           "type": "scatter",
           "x": [
            1,
            2,
            3,
            4,
            5,
            6,
            7,
            8,
            9,
            10,
            11,
            12
           ],
           "xaxis": "x",
           "y": [
            0.3315688110775418,
            0.48511003536611624,
            0.4604181882998887,
            0.07515324044706895,
            0.2959885732252656,
            0.2604845426079835,
            0.37837970423684847,
            0.1342350163921952,
            0.48980876109065413,
            0.4935244917051046,
            0.8369915132475139,
            1.0482455266991526
           ],
           "yaxis": "y"
          },
          {
           "hovertemplate": "Pollutant=MXY<br>year=2003<br>Month=%{x}<br>Average Value=%{y}<extra></extra>",
           "legendgroup": "MXY",
           "line": {
            "color": "#EF553B",
            "dash": "solid"
           },
           "marker": {
            "symbol": "circle"
           },
           "mode": "lines",
           "name": "MXY",
           "orientation": "v",
           "showlegend": true,
           "type": "scatter",
           "x": [
            1,
            2,
            3,
            4,
            5,
            6,
            7,
            8,
            9,
            10,
            11,
            12
           ],
           "xaxis": "x",
           "y": [
            -0.07883892703748427,
            0.026187871906565133,
            0.1389990459061367,
            -0.1757785417052226,
            -0.1476033111505542,
            -0.0012238525630641004,
            0.015102868516462722,
            -0.11698629851081487,
            0.189292203303847,
            0.2620496831951708,
            0.6614968369162453,
            0.6767588793368196
           ],
           "yaxis": "y"
          },
          {
           "hovertemplate": "Pollutant=OXY<br>year=2003<br>Month=%{x}<br>Average Value=%{y}<extra></extra>",
           "legendgroup": "OXY",
           "line": {
            "color": "#00cc96",
            "dash": "solid"
           },
           "marker": {
            "symbol": "circle"
           },
           "mode": "lines",
           "name": "OXY",
           "orientation": "v",
           "showlegend": true,
           "type": "scatter",
           "x": [
            1,
            2,
            3,
            4,
            5,
            6,
            7,
            8,
            9,
            10,
            11,
            12
           ],
           "xaxis": "x",
           "y": [
            -0.21771275373406715,
            -0.14563068575485472,
            0.014087542100285209,
            -0.257491679113647,
            -0.2102862979742,
            -0.020630732877560315,
            0.14672118626388356,
            -0.1280487380698139,
            -0.058883904226885234,
            0.05121115099253357,
            0.5425412679158998,
            1.3859480773914956
           ],
           "yaxis": "y"
          },
          {
           "hovertemplate": "Pollutant=PXY<br>year=2003<br>Month=%{x}<br>Average Value=%{y}<extra></extra>",
           "legendgroup": "PXY",
           "line": {
            "color": "#ab63fa",
            "dash": "solid"
           },
           "marker": {
            "symbol": "circle"
           },
           "mode": "lines",
           "name": "PXY",
           "orientation": "v",
           "showlegend": true,
           "type": "scatter",
           "x": [
            1,
            2,
            3,
            4,
            5,
            6,
            7,
            8,
            9,
            10,
            11,
            12
           ],
           "xaxis": "x",
           "y": [
            -0.13262659354046494,
            0.03385623298795015,
            0.14849987813993323,
            -0.21718352456471307,
            -0.1973095504488563,
            0.020650197493748884,
            0.052560476842389174,
            -0.08494463922612908,
            0.08186313602536976,
            0.11566306562981053,
            0.43734745692070404,
            0.5140435905432504
           ],
           "yaxis": "y"
          },
          {
           "hovertemplate": "Pollutant=PM25<br>year=2003<br>Month=%{x}<br>Average Value=%{y}<extra></extra>",
           "legendgroup": "PM25",
           "line": {
            "color": "#FFA15A",
            "dash": "solid"
           },
           "marker": {
            "symbol": "circle"
           },
           "mode": "lines",
           "name": "PM25",
           "orientation": "v",
           "showlegend": true,
           "type": "scatter",
           "x": [
            1,
            2,
            3,
            4,
            5,
            6,
            7,
            8,
            9,
            10,
            11,
            12
           ],
           "xaxis": "x",
           "y": [
            null,
            null,
            null,
            null,
            null,
            null,
            null,
            null,
            null,
            null,
            null,
            null
           ],
           "yaxis": "y"
          },
          {
           "hovertemplate": "Pollutant=CH4<br>year=2003<br>Month=%{x}<br>Average Value=%{y}<extra></extra>",
           "legendgroup": "CH4",
           "line": {
            "color": "#19d3f3",
            "dash": "solid"
           },
           "marker": {
            "symbol": "circle"
           },
           "mode": "lines",
           "name": "CH4",
           "orientation": "v",
           "showlegend": true,
           "type": "scatter",
           "x": [
            1,
            2,
            3,
            4,
            5,
            6,
            7,
            8,
            9,
            10,
            11,
            12
           ],
           "xaxis": "x",
           "y": [
            null,
            null,
            null,
            null,
            null,
            null,
            null,
            null,
            null,
            null,
            null,
            null
           ],
           "yaxis": "y"
          },
          {
           "hovertemplate": "Pollutant=NO<br>year=2003<br>Month=%{x}<br>Average Value=%{y}<extra></extra>",
           "legendgroup": "NO",
           "line": {
            "color": "#FF6692",
            "dash": "solid"
           },
           "marker": {
            "symbol": "circle"
           },
           "mode": "lines",
           "name": "NO",
           "orientation": "v",
           "showlegend": true,
           "type": "scatter",
           "x": [
            1,
            2,
            3,
            4,
            5,
            6,
            7,
            8,
            9,
            10,
            11,
            12
           ],
           "xaxis": "x",
           "y": [
            null,
            null,
            null,
            null,
            null,
            null,
            null,
            null,
            null,
            null,
            null,
            null
           ],
           "yaxis": "y"
          }
         ],
         "name": "2003"
        },
        {
         "data": [
          {
           "hovertemplate": "Pollutant=BEN<br>year=2004<br>Month=%{x}<br>Average Value=%{y}<extra></extra>",
           "legendgroup": "BEN",
           "line": {
            "color": "#636efa",
            "dash": "solid"
           },
           "marker": {
            "symbol": "circle"
           },
           "mode": "lines",
           "name": "BEN",
           "orientation": "v",
           "showlegend": true,
           "type": "scatter",
           "x": [
            1,
            2,
            3,
            4,
            5,
            6,
            7,
            8,
            9,
            10,
            11,
            12
           ],
           "xaxis": "x",
           "y": [
            0.7420113626597289,
            0.5756212562606224,
            0.3142445992839977,
            0.14126077473028845,
            0.23373200454306162,
            0.44322191710087555,
            0.24639108145302,
            0.08713664459384765,
            0.41963679603499937,
            0.6405593449801714,
            1.1850264603697098,
            0.5855742028901048
           ],
           "yaxis": "y"
          },
          {
           "hovertemplate": "Pollutant=CO<br>year=2004<br>Month=%{x}<br>Average Value=%{y}<extra></extra>",
           "legendgroup": "CO",
           "line": {
            "color": "#EF553B",
            "dash": "solid"
           },
           "marker": {
            "symbol": "circle"
           },
           "mode": "lines",
           "name": "CO",
           "orientation": "v",
           "showlegend": true,
           "type": "scatter",
           "x": [
            1,
            2,
            3,
            4,
            5,
            6,
            7,
            8,
            9,
            10,
            11,
            12
           ],
           "xaxis": "x",
           "y": [
            0.6924210406920857,
            0.6087597778502268,
            0.11620852554493354,
            -0.0631034360072355,
            -0.12811822107250628,
            -0.21026189457568084,
            -0.1973019298684792,
            -0.2837819780016153,
            0.07410407780233645,
            0.2391079883701461,
            0.926161716022164,
            0.568889662012154
           ],
           "yaxis": "y"
          },
          {
           "hovertemplate": "Pollutant=EBE<br>year=2004<br>Month=%{x}<br>Average Value=%{y}<extra></extra>",
           "legendgroup": "EBE",
           "line": {
            "color": "#00cc96",
            "dash": "solid"
           },
           "marker": {
            "symbol": "circle"
           },
           "mode": "lines",
           "name": "EBE",
           "orientation": "v",
           "showlegend": true,
           "type": "scatter",
           "x": [
            1,
            2,
            3,
            4,
            5,
            6,
            7,
            8,
            9,
            10,
            11,
            12
           ],
           "xaxis": "x",
           "y": [
            0.8975328376341949,
            0.8717409772324088,
            0.3379428341868415,
            0.18524917519622136,
            0.29668405247443197,
            0.39960825655482346,
            0.311846456882682,
            0.15139559276677036,
            0.9496833981912342,
            1.1748229479116743,
            1.599929486357074,
            0.6313492580932666
           ],
           "yaxis": "y"
          },
          {
           "hovertemplate": "Pollutant=NMHC<br>year=2004<br>Month=%{x}<br>Average Value=%{y}<extra></extra>",
           "legendgroup": "NMHC",
           "line": {
            "color": "#ab63fa",
            "dash": "solid"
           },
           "marker": {
            "symbol": "circle"
           },
           "mode": "lines",
           "name": "NMHC",
           "orientation": "v",
           "showlegend": true,
           "type": "scatter",
           "x": [
            1,
            2,
            3,
            4,
            5,
            6,
            7,
            8,
            9,
            10,
            11,
            12
           ],
           "xaxis": "x",
           "y": [
            0.33910325000296704,
            0.07421136538984578,
            -0.23750788460306269,
            -0.4009789100149522,
            -0.5644196170229596,
            -0.37566035608708237,
            -0.22478506681849458,
            -0.19420976985778343,
            0.0844789343920641,
            0.027399315760531825,
            0.1462128638206997,
            -0.11848283052228041
           ],
           "yaxis": "y"
          },
          {
           "hovertemplate": "Pollutant=NOx<br>year=2004<br>Month=%{x}<br>Average Value=%{y}<extra></extra>",
           "legendgroup": "NOx",
           "line": {
            "color": "#FFA15A",
            "dash": "solid"
           },
           "marker": {
            "symbol": "circle"
           },
           "mode": "lines",
           "name": "NOx",
           "orientation": "v",
           "showlegend": true,
           "type": "scatter",
           "x": [
            1,
            2,
            3,
            4,
            5,
            6,
            7,
            8,
            9,
            10,
            11,
            12
           ],
           "xaxis": "x",
           "y": [
            0.5697407031324844,
            0.4634015599380385,
            -0.020737579647990587,
            -0.20053563918641729,
            -0.17928180131272112,
            -0.17121526000635764,
            -0.16640981199434624,
            -0.27166277045142717,
            0.07083008770867952,
            0.15283354462239496,
            0.816696293143681,
            0.41900563064307533
           ],
           "yaxis": "y"
          },
          {
           "hovertemplate": "Pollutant=NO_2<br>year=2004<br>Month=%{x}<br>Average Value=%{y}<extra></extra>",
           "legendgroup": "NO_2",
           "line": {
            "color": "#19d3f3",
            "dash": "solid"
           },
           "marker": {
            "symbol": "circle"
           },
           "mode": "lines",
           "name": "NO_2",
           "orientation": "v",
           "showlegend": true,
           "type": "scatter",
           "x": [
            1,
            2,
            3,
            4,
            5,
            6,
            7,
            8,
            9,
            10,
            11,
            12
           ],
           "xaxis": "x",
           "y": [
            0.35176447217533563,
            0.44040934756700956,
            0.18261715192640848,
            0.004846725681828943,
            0.18714063263274447,
            0.237648984047032,
            0.2740435519473688,
            0.05727830508870873,
            0.4132782805813256,
            0.3502790885696394,
            0.7078117894663946,
            0.37940530938984396
           ],
           "yaxis": "y"
          },
          {
           "hovertemplate": "Pollutant=O_3<br>year=2004<br>Month=%{x}<br>Average Value=%{y}<extra></extra>",
           "legendgroup": "O_3",
           "line": {
            "color": "#FF6692",
            "dash": "solid"
           },
           "marker": {
            "symbol": "circle"
           },
           "mode": "lines",
           "name": "O_3",
           "orientation": "v",
           "showlegend": true,
           "type": "scatter",
           "x": [
            1,
            2,
            3,
            4,
            5,
            6,
            7,
            8,
            9,
            10,
            11,
            12
           ],
           "xaxis": "x",
           "y": [
            -0.8302438177039584,
            -0.7032017146705954,
            -0.18566203763020192,
            0.26099027752252185,
            0.13492533823719105,
            0.3404682720264805,
            0.38613940754087533,
            0.22571532296017677,
            -0.18657057160752755,
            -0.4844731019626719,
            -0.89014675351091,
            -0.7205722689094501
           ],
           "yaxis": "y"
          },
          {
           "hovertemplate": "Pollutant=PM10<br>year=2004<br>Month=%{x}<br>Average Value=%{y}<extra></extra>",
           "legendgroup": "PM10",
           "line": {
            "color": "#B6E880",
            "dash": "solid"
           },
           "marker": {
            "symbol": "circle"
           },
           "mode": "lines",
           "name": "PM10",
           "orientation": "v",
           "showlegend": true,
           "type": "scatter",
           "x": [
            1,
            2,
            3,
            4,
            5,
            6,
            7,
            8,
            9,
            10,
            11,
            12
           ],
           "xaxis": "x",
           "y": [
            0.18152332189795228,
            0.247460764548234,
            0.09897393624848264,
            -0.18395624284767353,
            -0.21010487610791947,
            0.23700755802849252,
            0.5115038792731936,
            0.11056949063647298,
            0.6094370810956924,
            0.15996261495721845,
            0.4452863941433008,
            -0.06799160956639096
           ],
           "yaxis": "y"
          },
          {
           "hovertemplate": "Pollutant=SO_2<br>year=2004<br>Month=%{x}<br>Average Value=%{y}<extra></extra>",
           "legendgroup": "SO_2",
           "line": {
            "color": "#FF97FF",
            "dash": "solid"
           },
           "marker": {
            "symbol": "circle"
           },
           "mode": "lines",
           "name": "SO_2",
           "orientation": "v",
           "showlegend": true,
           "type": "scatter",
           "x": [
            1,
            2,
            3,
            4,
            5,
            6,
            7,
            8,
            9,
            10,
            11,
            12
           ],
           "xaxis": "x",
           "y": [
            0.7360197578569824,
            0.602093100932997,
            0.21833991242436945,
            -0.15683356790310563,
            -0.3450325215206425,
            -0.4086990847666705,
            -0.36946469968871504,
            -0.4305117156508824,
            -0.22808842395726647,
            -0.19334258404498386,
            0.7895195286428468,
            0.7271601320069553
           ],
           "yaxis": "y"
          },
          {
           "hovertemplate": "Pollutant=TCH<br>year=2004<br>Month=%{x}<br>Average Value=%{y}<extra></extra>",
           "legendgroup": "TCH",
           "line": {
            "color": "#FECB52",
            "dash": "solid"
           },
           "marker": {
            "symbol": "circle"
           },
           "mode": "lines",
           "name": "TCH",
           "orientation": "v",
           "showlegend": true,
           "type": "scatter",
           "x": [
            1,
            2,
            3,
            4,
            5,
            6,
            7,
            8,
            9,
            10,
            11,
            12
           ],
           "xaxis": "x",
           "y": [
            0.6319675275233694,
            0.23441950492693076,
            -0.1043690030793674,
            -0.14970413179925338,
            -0.23482527415851737,
            -0.14645710215884367,
            -0.1576575511002176,
            -0.0965412670220468,
            0.04775482730706053,
            0.10649770195958182,
            0.4438371753267932,
            0.18224985318319264
           ],
           "yaxis": "y"
          },
          {
           "hovertemplate": "Pollutant=TOL<br>year=2004<br>Month=%{x}<br>Average Value=%{y}<extra></extra>",
           "legendgroup": "TOL",
           "line": {
            "color": "#636efa",
            "dash": "solid"
           },
           "marker": {
            "symbol": "circle"
           },
           "mode": "lines",
           "name": "TOL",
           "orientation": "v",
           "showlegend": true,
           "type": "scatter",
           "x": [
            1,
            2,
            3,
            4,
            5,
            6,
            7,
            8,
            9,
            10,
            11,
            12
           ],
           "xaxis": "x",
           "y": [
            0.8493685105848064,
            0.8494662723581566,
            0.2273609636702502,
            0.14431012548604585,
            0.27320350577191216,
            0.31100884873585577,
            0.24239598337005736,
            0.12909057346059905,
            0.5977327184572802,
            0.7738964881730669,
            1.1475791959790913,
            0.5129069240954464
           ],
           "yaxis": "y"
          },
          {
           "hovertemplate": "Pollutant=MXY<br>year=2004<br>Month=%{x}<br>Average Value=%{y}<extra></extra>",
           "legendgroup": "MXY",
           "line": {
            "color": "#EF553B",
            "dash": "solid"
           },
           "marker": {
            "symbol": "circle"
           },
           "mode": "lines",
           "name": "MXY",
           "orientation": "v",
           "showlegend": true,
           "type": "scatter",
           "x": [
            1,
            2,
            3,
            4,
            5,
            6,
            7,
            8,
            9,
            10,
            11,
            12
           ],
           "xaxis": "x",
           "y": [
            0.3689625114946142,
            0.4008345900141306,
            -0.04778036424383131,
            -0.13215388468839778,
            -0.056566055778264665,
            -0.06751530260438196,
            -0.0950754312717631,
            -0.20271364314932094,
            0.06828554720957107,
            0.3656699913467082,
            0.6336902783164822,
            0.2146234507169055
           ],
           "yaxis": "y"
          },
          {
           "hovertemplate": "Pollutant=OXY<br>year=2004<br>Month=%{x}<br>Average Value=%{y}<extra></extra>",
           "legendgroup": "OXY",
           "line": {
            "color": "#00cc96",
            "dash": "solid"
           },
           "marker": {
            "symbol": "circle"
           },
           "mode": "lines",
           "name": "OXY",
           "orientation": "v",
           "showlegend": true,
           "type": "scatter",
           "x": [
            1,
            2,
            3,
            4,
            5,
            6,
            7,
            8,
            9,
            10,
            11,
            12
           ],
           "xaxis": "x",
           "y": [
            0.7066004671281739,
            0.4658557670005415,
            0.022199814485497026,
            -0.132953024709753,
            -0.05644092440480209,
            0.046335238814063165,
            -0.002129293433391248,
            -0.08664737578154828,
            0.07295003726462877,
            0.35006940628184274,
            0.5078344843169706,
            0.16857682667604854
           ],
           "yaxis": "y"
          },
          {
           "hovertemplate": "Pollutant=PXY<br>year=2004<br>Month=%{x}<br>Average Value=%{y}<extra></extra>",
           "legendgroup": "PXY",
           "line": {
            "color": "#ab63fa",
            "dash": "solid"
           },
           "marker": {
            "symbol": "circle"
           },
           "mode": "lines",
           "name": "PXY",
           "orientation": "v",
           "showlegend": true,
           "type": "scatter",
           "x": [
            1,
            2,
            3,
            4,
            5,
            6,
            7,
            8,
            9,
            10,
            11,
            12
           ],
           "xaxis": "x",
           "y": [
            0.614907811378472,
            0.38516830133452074,
            -0.10635032874899762,
            -0.17241330266107782,
            -0.09892880247090288,
            0.06222046842101566,
            -0.035975847112982566,
            -0.07134981056218319,
            0.13260016113436582,
            0.2654011415142615,
            0.40263134556265817,
            0.06735917082088587
           ],
           "yaxis": "y"
          },
          {
           "hovertemplate": "Pollutant=PM25<br>year=2004<br>Month=%{x}<br>Average Value=%{y}<extra></extra>",
           "legendgroup": "PM25",
           "line": {
            "color": "#FFA15A",
            "dash": "solid"
           },
           "marker": {
            "symbol": "circle"
           },
           "mode": "lines",
           "name": "PM25",
           "orientation": "v",
           "showlegend": true,
           "type": "scatter",
           "x": [
            1,
            2,
            3,
            4,
            5,
            6,
            7,
            8,
            9,
            10,
            11,
            12
           ],
           "xaxis": "x",
           "y": [
            2.499898274775836,
            0.4147736843690053,
            0.314796533391649,
            0.03629970258887884,
            0.09412724635888671,
            0.48331347945007297,
            0.9357724963733435,
            0.3001478809623054,
            0.7880271697875644,
            0.45516999193209856,
            1.2806931496622693,
            0.3428502863841656
           ],
           "yaxis": "y"
          },
          {
           "hovertemplate": "Pollutant=CH4<br>year=2004<br>Month=%{x}<br>Average Value=%{y}<extra></extra>",
           "legendgroup": "CH4",
           "line": {
            "color": "#19d3f3",
            "dash": "solid"
           },
           "marker": {
            "symbol": "circle"
           },
           "mode": "lines",
           "name": "CH4",
           "orientation": "v",
           "showlegend": true,
           "type": "scatter",
           "x": [
            1,
            2,
            3,
            4,
            5,
            6,
            7,
            8,
            9,
            10,
            11,
            12
           ],
           "xaxis": "x",
           "y": [
            null,
            null,
            null,
            null,
            null,
            null,
            null,
            null,
            null,
            null,
            null,
            null
           ],
           "yaxis": "y"
          },
          {
           "hovertemplate": "Pollutant=NO<br>year=2004<br>Month=%{x}<br>Average Value=%{y}<extra></extra>",
           "legendgroup": "NO",
           "line": {
            "color": "#FF6692",
            "dash": "solid"
           },
           "marker": {
            "symbol": "circle"
           },
           "mode": "lines",
           "name": "NO",
           "orientation": "v",
           "showlegend": true,
           "type": "scatter",
           "x": [
            1,
            2,
            3,
            4,
            5,
            6,
            7,
            8,
            9,
            10,
            11,
            12
           ],
           "xaxis": "x",
           "y": [
            null,
            null,
            null,
            null,
            null,
            null,
            null,
            null,
            null,
            null,
            null,
            null
           ],
           "yaxis": "y"
          }
         ],
         "name": "2004"
        },
        {
         "data": [
          {
           "hovertemplate": "Pollutant=BEN<br>year=2005<br>Month=%{x}<br>Average Value=%{y}<extra></extra>",
           "legendgroup": "BEN",
           "line": {
            "color": "#636efa",
            "dash": "solid"
           },
           "marker": {
            "symbol": "circle"
           },
           "mode": "lines",
           "name": "BEN",
           "orientation": "v",
           "showlegend": true,
           "type": "scatter",
           "x": [
            1,
            2,
            3,
            4,
            5,
            6,
            7,
            8,
            9,
            10,
            11,
            12
           ],
           "xaxis": "x",
           "y": [
            1.032133223674706,
            0.3238525186594332,
            0.14777132735541226,
            -0.11321102182129021,
            -0.21767341589626457,
            -0.2530217341092119,
            -0.2564486290797249,
            -0.22835966536233096,
            -0.11767686315723316,
            -0.039879691121117646,
            0.06456724361169863,
            0.08472472249060152
           ],
           "yaxis": "y"
          },
          {
           "hovertemplate": "Pollutant=CO<br>year=2005<br>Month=%{x}<br>Average Value=%{y}<extra></extra>",
           "legendgroup": "CO",
           "line": {
            "color": "#EF553B",
            "dash": "solid"
           },
           "marker": {
            "symbol": "circle"
           },
           "mode": "lines",
           "name": "CO",
           "orientation": "v",
           "showlegend": true,
           "type": "scatter",
           "x": [
            1,
            2,
            3,
            4,
            5,
            6,
            7,
            8,
            9,
            10,
            11,
            12
           ],
           "xaxis": "x",
           "y": [
            1.0364222776916292,
            0.3458057658416695,
            0.13841649668841877,
            -0.03784208112485406,
            -0.1529473389328316,
            -0.2352679235334764,
            -0.16221206996156345,
            -0.1607533445231138,
            0.13274035086007147,
            0.26223499473416856,
            0.5078542806702965,
            0.5793581068861962
           ],
           "yaxis": "y"
          },
          {
           "hovertemplate": "Pollutant=EBE<br>year=2005<br>Month=%{x}<br>Average Value=%{y}<extra></extra>",
           "legendgroup": "EBE",
           "line": {
            "color": "#00cc96",
            "dash": "solid"
           },
           "marker": {
            "symbol": "circle"
           },
           "mode": "lines",
           "name": "EBE",
           "orientation": "v",
           "showlegend": true,
           "type": "scatter",
           "x": [
            1,
            2,
            3,
            4,
            5,
            6,
            7,
            8,
            9,
            10,
            11,
            12
           ],
           "xaxis": "x",
           "y": [
            1.1244025350909526,
            0.11219757960192181,
            0.08599036166591237,
            -0.05929392978318938,
            -0.139546385836544,
            -0.07443616336327531,
            -0.1361915784381854,
            -0.09153956679927719,
            0.06888327490460748,
            0.13778366150685575,
            0.21443928921914907,
            0.2743948058754366
           ],
           "yaxis": "y"
          },
          {
           "hovertemplate": "Pollutant=NMHC<br>year=2005<br>Month=%{x}<br>Average Value=%{y}<extra></extra>",
           "legendgroup": "NMHC",
           "line": {
            "color": "#ab63fa",
            "dash": "solid"
           },
           "marker": {
            "symbol": "circle"
           },
           "mode": "lines",
           "name": "NMHC",
           "orientation": "v",
           "showlegend": true,
           "type": "scatter",
           "x": [
            1,
            2,
            3,
            4,
            5,
            6,
            7,
            8,
            9,
            10,
            11,
            12
           ],
           "xaxis": "x",
           "y": [
            0.307962630451705,
            -0.19833861203009093,
            -0.2240433121564463,
            -0.4128596508410749,
            -0.40964379691154007,
            -0.4309770148768633,
            -0.3025395558690989,
            -0.2287389208300641,
            0.04575517518990592,
            0.12528616456494374,
            0.4570334390233704,
            0.3902586552218175
           ],
           "yaxis": "y"
          },
          {
           "hovertemplate": "Pollutant=NOx<br>year=2005<br>Month=%{x}<br>Average Value=%{y}<extra></extra>",
           "legendgroup": "NOx",
           "line": {
            "color": "#FFA15A",
            "dash": "solid"
           },
           "marker": {
            "symbol": "circle"
           },
           "mode": "lines",
           "name": "NOx",
           "orientation": "v",
           "showlegend": true,
           "type": "scatter",
           "x": [
            1,
            2,
            3,
            4,
            5,
            6,
            7,
            8,
            9,
            10,
            11,
            12
           ],
           "xaxis": "x",
           "y": [
            0.933635774349207,
            0.15635254664104178,
            -0.0010180451969606884,
            -0.2136733763215057,
            -0.26345629300460316,
            -0.2550443917632978,
            -0.27761835544008406,
            -0.24200009094480907,
            0.07023816173285667,
            0.20252857828669116,
            0.43731870305792814,
            0.5261880921041644
           ],
           "yaxis": "y"
          },
          {
           "hovertemplate": "Pollutant=NO_2<br>year=2005<br>Month=%{x}<br>Average Value=%{y}<extra></extra>",
           "legendgroup": "NO_2",
           "line": {
            "color": "#19d3f3",
            "dash": "solid"
           },
           "marker": {
            "symbol": "circle"
           },
           "mode": "lines",
           "name": "NO_2",
           "orientation": "v",
           "showlegend": true,
           "type": "scatter",
           "x": [
            1,
            2,
            3,
            4,
            5,
            6,
            7,
            8,
            9,
            10,
            11,
            12
           ],
           "xaxis": "x",
           "y": [
            0.8755743877292635,
            0.48777169633994394,
            0.3168847120624826,
            0.07023118699695585,
            0.038800990487783224,
            0.12962063460398673,
            0.06462220523286233,
            0.01853958642663583,
            0.3543953682294503,
            0.3831908460694589,
            0.5301214054664101,
            0.6689456329543796
           ],
           "yaxis": "y"
          },
          {
           "hovertemplate": "Pollutant=O_3<br>year=2005<br>Month=%{x}<br>Average Value=%{y}<extra></extra>",
           "legendgroup": "O_3",
           "line": {
            "color": "#FF6692",
            "dash": "solid"
           },
           "marker": {
            "symbol": "circle"
           },
           "mode": "lines",
           "name": "O_3",
           "orientation": "v",
           "showlegend": true,
           "type": "scatter",
           "x": [
            1,
            2,
            3,
            4,
            5,
            6,
            7,
            8,
            9,
            10,
            11,
            12
           ],
           "xaxis": "x",
           "y": [
            -0.786203065076701,
            -0.36214594841858955,
            -0.1937389337019237,
            0.2617634352773764,
            0.26019625645367533,
            0.3442696024558578,
            0.5613727975923627,
            0.21125635570493137,
            -0.20460560544267758,
            -0.6413283974988333,
            -0.7395623558370173,
            -0.772322206969159
           ],
           "yaxis": "y"
          },
          {
           "hovertemplate": "Pollutant=PM10<br>year=2005<br>Month=%{x}<br>Average Value=%{y}<extra></extra>",
           "legendgroup": "PM10",
           "line": {
            "color": "#B6E880",
            "dash": "solid"
           },
           "marker": {
            "symbol": "circle"
           },
           "mode": "lines",
           "name": "PM10",
           "orientation": "v",
           "showlegend": true,
           "type": "scatter",
           "x": [
            1,
            2,
            3,
            4,
            5,
            6,
            7,
            8,
            9,
            10,
            11,
            12
           ],
           "xaxis": "x",
           "y": [
            0.49331100939976286,
            -0.11964672399944931,
            0.3200092888427068,
            -0.17232500950980054,
            0.04235700781805828,
            0.2097672606830944,
            0.2974546612911204,
            0.4369652423797274,
            0.4245391515434735,
            0.22411131749168198,
            0.1736851737620886,
            0.08915759278146797
           ],
           "yaxis": "y"
          },
          {
           "hovertemplate": "Pollutant=SO_2<br>year=2005<br>Month=%{x}<br>Average Value=%{y}<extra></extra>",
           "legendgroup": "SO_2",
           "line": {
            "color": "#FF97FF",
            "dash": "solid"
           },
           "marker": {
            "symbol": "circle"
           },
           "mode": "lines",
           "name": "SO_2",
           "orientation": "v",
           "showlegend": true,
           "type": "scatter",
           "x": [
            1,
            2,
            3,
            4,
            5,
            6,
            7,
            8,
            9,
            10,
            11,
            12
           ],
           "xaxis": "x",
           "y": [
            1.3207895960376455,
            0.5432620561407794,
            0.3040757905550436,
            -0.18549147669103083,
            -0.2910090974531889,
            -0.2886322354655854,
            -0.26613729412809906,
            -0.26629008369604357,
            -0.16473082295040306,
            -0.22669750653916917,
            0.31875820977987995,
            0.6803896809835123
           ],
           "yaxis": "y"
          },
          {
           "hovertemplate": "Pollutant=TCH<br>year=2005<br>Month=%{x}<br>Average Value=%{y}<extra></extra>",
           "legendgroup": "TCH",
           "line": {
            "color": "#FECB52",
            "dash": "solid"
           },
           "marker": {
            "symbol": "circle"
           },
           "mode": "lines",
           "name": "TCH",
           "orientation": "v",
           "showlegend": true,
           "type": "scatter",
           "x": [
            1,
            2,
            3,
            4,
            5,
            6,
            7,
            8,
            9,
            10,
            11,
            12
           ],
           "xaxis": "x",
           "y": [
            0.5318828823380661,
            -0.03535545381153634,
            -0.15139081441809144,
            -0.3606996892554774,
            -0.26961128014007396,
            -0.29392655005319945,
            -0.21963625554577265,
            -0.2644032429116688,
            -0.04889867204407916,
            0.11920001530186078,
            0.3705396354092218,
            0.26378991930923246
           ],
           "yaxis": "y"
          },
          {
           "hovertemplate": "Pollutant=TOL<br>year=2005<br>Month=%{x}<br>Average Value=%{y}<extra></extra>",
           "legendgroup": "TOL",
           "line": {
            "color": "#636efa",
            "dash": "solid"
           },
           "marker": {
            "symbol": "circle"
           },
           "mode": "lines",
           "name": "TOL",
           "orientation": "v",
           "showlegend": true,
           "type": "scatter",
           "x": [
            1,
            2,
            3,
            4,
            5,
            6,
            7,
            8,
            9,
            10,
            11,
            12
           ],
           "xaxis": "x",
           "y": [
            0.770362427358338,
            0.13618801056097493,
            0.07941119494960364,
            -0.05812411247111642,
            -0.10555466308524601,
            -0.09999943582855615,
            -0.1669253107717837,
            -0.08937782353493096,
            0.16522801073492766,
            0.2388853375892136,
            0.30677584195758023,
            0.15092600394188113
           ],
           "yaxis": "y"
          },
          {
           "hovertemplate": "Pollutant=MXY<br>year=2005<br>Month=%{x}<br>Average Value=%{y}<extra></extra>",
           "legendgroup": "MXY",
           "line": {
            "color": "#EF553B",
            "dash": "solid"
           },
           "marker": {
            "symbol": "circle"
           },
           "mode": "lines",
           "name": "MXY",
           "orientation": "v",
           "showlegend": true,
           "type": "scatter",
           "x": [
            1,
            2,
            3,
            4,
            5,
            6,
            7,
            8,
            9,
            10,
            11,
            12
           ],
           "xaxis": "x",
           "y": [
            0.3987486178192418,
            -0.08833646747253422,
            -0.070334834415861,
            -0.14504963425915737,
            -0.0642623897956773,
            0.09513969800241248,
            -0.17851439972008754,
            -0.1089377199172522,
            0.11714492363493853,
            0.15126543407095042,
            0.2541164204921298,
            0.05929750519635474
           ],
           "yaxis": "y"
          },
          {
           "hovertemplate": "Pollutant=OXY<br>year=2005<br>Month=%{x}<br>Average Value=%{y}<extra></extra>",
           "legendgroup": "OXY",
           "line": {
            "color": "#00cc96",
            "dash": "solid"
           },
           "marker": {
            "symbol": "circle"
           },
           "mode": "lines",
           "name": "OXY",
           "orientation": "v",
           "showlegend": true,
           "type": "scatter",
           "x": [
            1,
            2,
            3,
            4,
            5,
            6,
            7,
            8,
            9,
            10,
            11,
            12
           ],
           "xaxis": "x",
           "y": [
            0.3886005578362637,
            -0.06773427812243653,
            -0.16891724612487252,
            -0.14272220129456933,
            0.021114801751751514,
            0.17275071098321793,
            -0.002795675744416691,
            -0.10689507689229599,
            0.1385563553668241,
            0.12725031606015383,
            0.27248851656450823,
            0.3031039770571977
           ],
           "yaxis": "y"
          },
          {
           "hovertemplate": "Pollutant=PXY<br>year=2005<br>Month=%{x}<br>Average Value=%{y}<extra></extra>",
           "legendgroup": "PXY",
           "line": {
            "color": "#ab63fa",
            "dash": "solid"
           },
           "marker": {
            "symbol": "circle"
           },
           "mode": "lines",
           "name": "PXY",
           "orientation": "v",
           "showlegend": true,
           "type": "scatter",
           "x": [
            1,
            2,
            3,
            4,
            5,
            6,
            7,
            8,
            9,
            10,
            11,
            12
           ],
           "xaxis": "x",
           "y": [
            0.28327944325823956,
            -0.01809791068662112,
            -0.06508662562840391,
            -0.18661172011675548,
            -0.07729874071360285,
            0.2574761157449571,
            0.3107897515182157,
            -0.10433781239426361,
            0.16912834484396602,
            0.32893490479827275,
            0.2123180252331144,
            0.10758068577864192
           ],
           "yaxis": "y"
          },
          {
           "hovertemplate": "Pollutant=PM25<br>year=2005<br>Month=%{x}<br>Average Value=%{y}<extra></extra>",
           "legendgroup": "PM25",
           "line": {
            "color": "#FFA15A",
            "dash": "solid"
           },
           "marker": {
            "symbol": "circle"
           },
           "mode": "lines",
           "name": "PM25",
           "orientation": "v",
           "showlegend": true,
           "type": "scatter",
           "x": [
            1,
            2,
            3,
            4,
            5,
            6,
            7,
            8,
            9,
            10,
            11,
            12
           ],
           "xaxis": "x",
           "y": [
            0.9799426910168197,
            0.2191297438454008,
            0.5663728894236592,
            0.04567386622427959,
            0.17508826094429641,
            0.4240900262217331,
            0.5659150630919535,
            0.6464471989272885,
            0.4990575884156627,
            0.4206678304782178,
            0.4353014924213584,
            0.34282834628482656
           ],
           "yaxis": "y"
          },
          {
           "hovertemplate": "Pollutant=CH4<br>year=2005<br>Month=%{x}<br>Average Value=%{y}<extra></extra>",
           "legendgroup": "CH4",
           "line": {
            "color": "#19d3f3",
            "dash": "solid"
           },
           "marker": {
            "symbol": "circle"
           },
           "mode": "lines",
           "name": "CH4",
           "orientation": "v",
           "showlegend": true,
           "type": "scatter",
           "x": [
            1,
            2,
            3,
            4,
            5,
            6,
            7,
            8,
            9,
            10,
            11,
            12
           ],
           "xaxis": "x",
           "y": [
            null,
            null,
            null,
            null,
            null,
            null,
            null,
            null,
            null,
            null,
            null,
            null
           ],
           "yaxis": "y"
          },
          {
           "hovertemplate": "Pollutant=NO<br>year=2005<br>Month=%{x}<br>Average Value=%{y}<extra></extra>",
           "legendgroup": "NO",
           "line": {
            "color": "#FF6692",
            "dash": "solid"
           },
           "marker": {
            "symbol": "circle"
           },
           "mode": "lines",
           "name": "NO",
           "orientation": "v",
           "showlegend": true,
           "type": "scatter",
           "x": [
            1,
            2,
            3,
            4,
            5,
            6,
            7,
            8,
            9,
            10,
            11,
            12
           ],
           "xaxis": "x",
           "y": [
            null,
            null,
            null,
            null,
            null,
            null,
            null,
            null,
            null,
            null,
            null,
            null
           ],
           "yaxis": "y"
          }
         ],
         "name": "2005"
        },
        {
         "data": [
          {
           "hovertemplate": "Pollutant=BEN<br>year=2006<br>Month=%{x}<br>Average Value=%{y}<extra></extra>",
           "legendgroup": "BEN",
           "line": {
            "color": "#636efa",
            "dash": "solid"
           },
           "marker": {
            "symbol": "circle"
           },
           "mode": "lines",
           "name": "BEN",
           "orientation": "v",
           "showlegend": true,
           "type": "scatter",
           "x": [
            1,
            2,
            3,
            4,
            5,
            6,
            7,
            8,
            9,
            10,
            11,
            12
           ],
           "xaxis": "x",
           "y": [
            -0.029472351464755648,
            -0.037790421258210236,
            -0.2729440208322348,
            -0.3989665567418981,
            -0.3158735334738242,
            -0.2046384601990201,
            -0.27462699911579663,
            -0.39165757742672597,
            -0.21317843381092674,
            0.0072860522825712514,
            -0.005174240742995365,
            0.010701691713992188
           ],
           "yaxis": "y"
          },
          {
           "hovertemplate": "Pollutant=CO<br>year=2006<br>Month=%{x}<br>Average Value=%{y}<extra></extra>",
           "legendgroup": "CO",
           "line": {
            "color": "#EF553B",
            "dash": "solid"
           },
           "marker": {
            "symbol": "circle"
           },
           "mode": "lines",
           "name": "CO",
           "orientation": "v",
           "showlegend": true,
           "type": "scatter",
           "x": [
            1,
            2,
            3,
            4,
            5,
            6,
            7,
            8,
            9,
            10,
            11,
            12
           ],
           "xaxis": "x",
           "y": [
            0.48128211347318073,
            0.6495827938386753,
            0.08548536257441826,
            -0.09635925863372424,
            -0.14640355838316385,
            -0.265375656285776,
            -0.24801294680475403,
            -0.32529418538752825,
            -0.14746004149926192,
            0.040670866015434494,
            0.22692980046190098,
            0.429098417113315
           ],
           "yaxis": "y"
          },
          {
           "hovertemplate": "Pollutant=EBE<br>year=2006<br>Month=%{x}<br>Average Value=%{y}<extra></extra>",
           "legendgroup": "EBE",
           "line": {
            "color": "#00cc96",
            "dash": "solid"
           },
           "marker": {
            "symbol": "circle"
           },
           "mode": "lines",
           "name": "EBE",
           "orientation": "v",
           "showlegend": true,
           "type": "scatter",
           "x": [
            1,
            2,
            3,
            4,
            5,
            6,
            7,
            8,
            9,
            10,
            11,
            12
           ],
           "xaxis": "x",
           "y": [
            0.17157191442362302,
            0.041810632926723525,
            -0.16850003679316572,
            -0.26702636084414144,
            -0.16024896292436808,
            0.006582904289040042,
            -0.032140547520060236,
            -0.20692271209145852,
            0.018808557298334413,
            0.22848774419631554,
            0.1842815113435668,
            0.08339824927194296
           ],
           "yaxis": "y"
          },
          {
           "hovertemplate": "Pollutant=NMHC<br>year=2006<br>Month=%{x}<br>Average Value=%{y}<extra></extra>",
           "legendgroup": "NMHC",
           "line": {
            "color": "#ab63fa",
            "dash": "solid"
           },
           "marker": {
            "symbol": "circle"
           },
           "mode": "lines",
           "name": "NMHC",
           "orientation": "v",
           "showlegend": true,
           "type": "scatter",
           "x": [
            1,
            2,
            3,
            4,
            5,
            6,
            7,
            8,
            9,
            10,
            11,
            12
           ],
           "xaxis": "x",
           "y": [
            0.07158519995013375,
            0.15274252461713236,
            -0.17866769662666238,
            -0.28296026018683434,
            -0.18439558861629737,
            -0.17449241740438326,
            -0.3146550207754214,
            -0.2813263537788907,
            0.1690524477592708,
            0.17815826869345314,
            0.5107775173895845,
            0.7530678011231006
           ],
           "yaxis": "y"
          },
          {
           "hovertemplate": "Pollutant=NOx<br>year=2006<br>Month=%{x}<br>Average Value=%{y}<extra></extra>",
           "legendgroup": "NOx",
           "line": {
            "color": "#FFA15A",
            "dash": "solid"
           },
           "marker": {
            "symbol": "circle"
           },
           "mode": "lines",
           "name": "NOx",
           "orientation": "v",
           "showlegend": true,
           "type": "scatter",
           "x": [
            1,
            2,
            3,
            4,
            5,
            6,
            7,
            8,
            9,
            10,
            11,
            12
           ],
           "xaxis": "x",
           "y": [
            0.41948141576244335,
            0.5593069558024885,
            -0.10983222597981859,
            -0.23821525794469853,
            -0.1920978533152298,
            -0.19297723905153752,
            -0.19673655139004773,
            -0.3593526078964224,
            -0.0408402695672009,
            0.10842840293211263,
            0.2736051527427956,
            0.5065176939267358
           ],
           "yaxis": "y"
          },
          {
           "hovertemplate": "Pollutant=NO_2<br>year=2006<br>Month=%{x}<br>Average Value=%{y}<extra></extra>",
           "legendgroup": "NO_2",
           "line": {
            "color": "#19d3f3",
            "dash": "solid"
           },
           "marker": {
            "symbol": "circle"
           },
           "mode": "lines",
           "name": "NO_2",
           "orientation": "v",
           "showlegend": true,
           "type": "scatter",
           "x": [
            1,
            2,
            3,
            4,
            5,
            6,
            7,
            8,
            9,
            10,
            11,
            12
           ],
           "xaxis": "x",
           "y": [
            0.5848173010461981,
            0.7248415425010715,
            0.02598649717295052,
            0.06714085064659343,
            0.20334484475576445,
            0.2550879505135864,
            0.26115473010149887,
            -0.11692779905882351,
            0.3006099566869157,
            0.27038970990430994,
            0.4150365627214284,
            0.5920899419373793
           ],
           "yaxis": "y"
          },
          {
           "hovertemplate": "Pollutant=O_3<br>year=2006<br>Month=%{x}<br>Average Value=%{y}<extra></extra>",
           "legendgroup": "O_3",
           "line": {
            "color": "#FF6692",
            "dash": "solid"
           },
           "marker": {
            "symbol": "circle"
           },
           "mode": "lines",
           "name": "O_3",
           "orientation": "v",
           "showlegend": true,
           "type": "scatter",
           "x": [
            1,
            2,
            3,
            4,
            5,
            6,
            7,
            8,
            9,
            10,
            11,
            12
           ],
           "xaxis": "x",
           "y": [
            -0.7601058116123826,
            -0.6697454912865639,
            -0.3151992990847252,
            -0.018200756895762657,
            0.10787088832464956,
            0.496175397036969,
            0.5510256912598896,
            0.571312149029391,
            -0.10403123982325989,
            -0.4963002929944606,
            -0.7361182078587454,
            -0.7716701573655725
           ],
           "yaxis": "y"
          },
          {
           "hovertemplate": "Pollutant=PM10<br>year=2006<br>Month=%{x}<br>Average Value=%{y}<extra></extra>",
           "legendgroup": "PM10",
           "line": {
            "color": "#B6E880",
            "dash": "solid"
           },
           "marker": {
            "symbol": "circle"
           },
           "mode": "lines",
           "name": "PM10",
           "orientation": "v",
           "showlegend": true,
           "type": "scatter",
           "x": [
            1,
            2,
            3,
            4,
            5,
            6,
            7,
            8,
            9,
            10,
            11,
            12
           ],
           "xaxis": "x",
           "y": [
            0.02357122442478946,
            0.4791477112575918,
            0.08333781980823192,
            0.004810147227812783,
            0.486996911013625,
            0.5542218739236434,
            0.6395782054688218,
            0.20041782299579444,
            0.4647502544976961,
            0.34944938406060294,
            0.14573344914572134,
            0.2445983054388457
           ],
           "yaxis": "y"
          },
          {
           "hovertemplate": "Pollutant=SO_2<br>year=2006<br>Month=%{x}<br>Average Value=%{y}<extra></extra>",
           "legendgroup": "SO_2",
           "line": {
            "color": "#FF97FF",
            "dash": "solid"
           },
           "marker": {
            "symbol": "circle"
           },
           "mode": "lines",
           "name": "SO_2",
           "orientation": "v",
           "showlegend": true,
           "type": "scatter",
           "x": [
            1,
            2,
            3,
            4,
            5,
            6,
            7,
            8,
            9,
            10,
            11,
            12
           ],
           "xaxis": "x",
           "y": [
            0.4946790830621954,
            0.777512218033872,
            0.1073098607100783,
            -0.22708502772729477,
            -0.29383776831991454,
            -0.2712230601013478,
            -0.21757632826586296,
            -0.269726498563444,
            -0.17097946674408138,
            -0.21131172005677257,
            -0.021520138209023695,
            0.568621198035969
           ],
           "yaxis": "y"
          },
          {
           "hovertemplate": "Pollutant=TCH<br>year=2006<br>Month=%{x}<br>Average Value=%{y}<extra></extra>",
           "legendgroup": "TCH",
           "line": {
            "color": "#FECB52",
            "dash": "solid"
           },
           "marker": {
            "symbol": "circle"
           },
           "mode": "lines",
           "name": "TCH",
           "orientation": "v",
           "showlegend": true,
           "type": "scatter",
           "x": [
            1,
            2,
            3,
            4,
            5,
            6,
            7,
            8,
            9,
            10,
            11,
            12
           ],
           "xaxis": "x",
           "y": [
            0.30893382561600585,
            0.4310693158049402,
            -0.027965319759654172,
            -0.17029601404454905,
            -0.1804362526565268,
            -0.20801835476548827,
            -0.37299510319361157,
            -0.406039314015389,
            0.09152302460654221,
            -0.09432125840579722,
            0.1534879409869264,
            0.3195895201034409
           ],
           "yaxis": "y"
          },
          {
           "hovertemplate": "Pollutant=TOL<br>year=2006<br>Month=%{x}<br>Average Value=%{y}<extra></extra>",
           "legendgroup": "TOL",
           "line": {
            "color": "#636efa",
            "dash": "solid"
           },
           "marker": {
            "symbol": "circle"
           },
           "mode": "lines",
           "name": "TOL",
           "orientation": "v",
           "showlegend": true,
           "type": "scatter",
           "x": [
            1,
            2,
            3,
            4,
            5,
            6,
            7,
            8,
            9,
            10,
            11,
            12
           ],
           "xaxis": "x",
           "y": [
            0.00581822324909886,
            0.06943784286236797,
            -0.26546541140240265,
            -0.3713476707014184,
            -0.15768500741749494,
            -0.09778070875193343,
            -0.07095002812144435,
            -0.25530891201664335,
            0.036835524824505736,
            0.14372307123502603,
            0.24515322385379146,
            0.13607660280663073
           ],
           "yaxis": "y"
          },
          {
           "hovertemplate": "Pollutant=MXY<br>year=2006<br>Month=%{x}<br>Average Value=%{y}<extra></extra>",
           "legendgroup": "MXY",
           "line": {
            "color": "#EF553B",
            "dash": "solid"
           },
           "marker": {
            "symbol": "circle"
           },
           "mode": "lines",
           "name": "MXY",
           "orientation": "v",
           "showlegend": true,
           "type": "scatter",
           "x": [
            1,
            2,
            3,
            4,
            5,
            6,
            7,
            8,
            9,
            10,
            11,
            12
           ],
           "xaxis": "x",
           "y": [
            -0.048372487582601556,
            0.1413674671868863,
            -0.200783566197988,
            -0.48735038301699485,
            -0.30274617255585984,
            -0.19154910258239738,
            -0.19615627412820055,
            -0.4222775265715889,
            -0.09078199181758344,
            0.014341543217142769,
            0.02554413324929107,
            -0.12336196934100903
           ],
           "yaxis": "y"
          },
          {
           "hovertemplate": "Pollutant=OXY<br>year=2006<br>Month=%{x}<br>Average Value=%{y}<extra></extra>",
           "legendgroup": "OXY",
           "line": {
            "color": "#00cc96",
            "dash": "solid"
           },
           "marker": {
            "symbol": "circle"
           },
           "mode": "lines",
           "name": "OXY",
           "orientation": "v",
           "showlegend": true,
           "type": "scatter",
           "x": [
            1,
            2,
            3,
            4,
            5,
            6,
            7,
            8,
            9,
            10,
            11,
            12
           ],
           "xaxis": "x",
           "y": [
            0.027996924709461305,
            0.17034752610319112,
            -0.1371513934737487,
            -0.40212400758717953,
            -0.27147660516806876,
            -0.18906149891482085,
            -0.18801078799304552,
            -0.3841010874865661,
            -0.06330065992777473,
            0.02605061274487982,
            0.020905708877978872,
            -0.1271190147435682
           ],
           "yaxis": "y"
          },
          {
           "hovertemplate": "Pollutant=PXY<br>year=2006<br>Month=%{x}<br>Average Value=%{y}<extra></extra>",
           "legendgroup": "PXY",
           "line": {
            "color": "#ab63fa",
            "dash": "solid"
           },
           "marker": {
            "symbol": "circle"
           },
           "mode": "lines",
           "name": "PXY",
           "orientation": "v",
           "showlegend": true,
           "type": "scatter",
           "x": [
            1,
            2,
            3,
            4,
            5,
            6,
            7,
            8,
            9,
            10,
            11,
            12
           ],
           "xaxis": "x",
           "y": [
            -0.06518200535881935,
            0.09151386150207318,
            -0.17233500409647023,
            -0.3330872189520306,
            -0.2986419497869522,
            -0.06189148842986127,
            -0.21251962422055592,
            -0.40337904633126287,
            -0.11610579089478022,
            -0.01573086675960632,
            -0.03808117370344026,
            -0.1470925852437681
           ],
           "yaxis": "y"
          },
          {
           "hovertemplate": "Pollutant=PM25<br>year=2006<br>Month=%{x}<br>Average Value=%{y}<extra></extra>",
           "legendgroup": "PM25",
           "line": {
            "color": "#FFA15A",
            "dash": "solid"
           },
           "marker": {
            "symbol": "circle"
           },
           "mode": "lines",
           "name": "PM25",
           "orientation": "v",
           "showlegend": true,
           "type": "scatter",
           "x": [
            1,
            2,
            3,
            4,
            5,
            6,
            7,
            8,
            9,
            10,
            11,
            12
           ],
           "xaxis": "x",
           "y": [
            0.3249680745504088,
            0.691722349417919,
            0.1865905726578046,
            0.09565893707513771,
            0.5154441550535336,
            0.7404211690515005,
            0.8076102913283754,
            0.19851784011207227,
            0.5613840866573145,
            0.41643164409917016,
            0.3416085772834157,
            0.4260397317381553
           ],
           "yaxis": "y"
          },
          {
           "hovertemplate": "Pollutant=CH4<br>year=2006<br>Month=%{x}<br>Average Value=%{y}<extra></extra>",
           "legendgroup": "CH4",
           "line": {
            "color": "#19d3f3",
            "dash": "solid"
           },
           "marker": {
            "symbol": "circle"
           },
           "mode": "lines",
           "name": "CH4",
           "orientation": "v",
           "showlegend": true,
           "type": "scatter",
           "x": [
            1,
            2,
            3,
            4,
            5,
            6,
            7,
            8,
            9,
            10,
            11,
            12
           ],
           "xaxis": "x",
           "y": [
            null,
            null,
            null,
            null,
            null,
            null,
            null,
            null,
            null,
            null,
            null,
            null
           ],
           "yaxis": "y"
          },
          {
           "hovertemplate": "Pollutant=NO<br>year=2006<br>Month=%{x}<br>Average Value=%{y}<extra></extra>",
           "legendgroup": "NO",
           "line": {
            "color": "#FF6692",
            "dash": "solid"
           },
           "marker": {
            "symbol": "circle"
           },
           "mode": "lines",
           "name": "NO",
           "orientation": "v",
           "showlegend": true,
           "type": "scatter",
           "x": [
            1,
            2,
            3,
            4,
            5,
            6,
            7,
            8,
            9,
            10,
            11,
            12
           ],
           "xaxis": "x",
           "y": [
            null,
            null,
            null,
            null,
            null,
            null,
            null,
            null,
            null,
            null,
            null,
            null
           ],
           "yaxis": "y"
          }
         ],
         "name": "2006"
        },
        {
         "data": [
          {
           "hovertemplate": "Pollutant=BEN<br>year=2007<br>Month=%{x}<br>Average Value=%{y}<extra></extra>",
           "legendgroup": "BEN",
           "line": {
            "color": "#636efa",
            "dash": "solid"
           },
           "marker": {
            "symbol": "circle"
           },
           "mode": "lines",
           "name": "BEN",
           "orientation": "v",
           "showlegend": true,
           "type": "scatter",
           "x": [
            1,
            2,
            3,
            4,
            5,
            6,
            7,
            8,
            9,
            10,
            11,
            12
           ],
           "xaxis": "x",
           "y": [
            0.12262682004079008,
            -0.1897311977402995,
            -0.19858930680292694,
            -0.28118287134369396,
            -0.3390011676514671,
            -0.32780429685547346,
            -0.345931705153103,
            -0.36030363921891845,
            -0.2522555047825908,
            -0.11214981507517761,
            0.13592009128876947,
            0.08370567365266743
           ],
           "yaxis": "y"
          },
          {
           "hovertemplate": "Pollutant=CO<br>year=2007<br>Month=%{x}<br>Average Value=%{y}<extra></extra>",
           "legendgroup": "CO",
           "line": {
            "color": "#EF553B",
            "dash": "solid"
           },
           "marker": {
            "symbol": "circle"
           },
           "mode": "lines",
           "name": "CO",
           "orientation": "v",
           "showlegend": true,
           "type": "scatter",
           "x": [
            1,
            2,
            3,
            4,
            5,
            6,
            7,
            8,
            9,
            10,
            11,
            12
           ],
           "xaxis": "x",
           "y": [
            0.5531033733690237,
            0.144917614190343,
            -0.07745932760327777,
            -0.1640986739973388,
            -0.26715586374015704,
            -0.3389749772774707,
            -0.43739016089372473,
            -0.5139693686274583,
            -0.37559129822376414,
            -0.19267420197305377,
            0.27424308462284097,
            0.2521507469494793
           ],
           "yaxis": "y"
          },
          {
           "hovertemplate": "Pollutant=EBE<br>year=2007<br>Month=%{x}<br>Average Value=%{y}<extra></extra>",
           "legendgroup": "EBE",
           "line": {
            "color": "#00cc96",
            "dash": "solid"
           },
           "marker": {
            "symbol": "circle"
           },
           "mode": "lines",
           "name": "EBE",
           "orientation": "v",
           "showlegend": true,
           "type": "scatter",
           "x": [
            1,
            2,
            3,
            4,
            5,
            6,
            7,
            8,
            9,
            10,
            11,
            12
           ],
           "xaxis": "x",
           "y": [
            0.20113196495017557,
            -0.07854458763404107,
            -0.08100810538754029,
            -0.11017783653773044,
            -0.10734955839245937,
            -0.10810912583931769,
            -0.15916608058194723,
            -0.094011011751219,
            -0.0016973194452080502,
            0.04883550292010707,
            0.24293516563832054,
            0.07693814234987939
           ],
           "yaxis": "y"
          },
          {
           "hovertemplate": "Pollutant=NMHC<br>year=2007<br>Month=%{x}<br>Average Value=%{y}<extra></extra>",
           "legendgroup": "NMHC",
           "line": {
            "color": "#ab63fa",
            "dash": "solid"
           },
           "marker": {
            "symbol": "circle"
           },
           "mode": "lines",
           "name": "NMHC",
           "orientation": "v",
           "showlegend": true,
           "type": "scatter",
           "x": [
            1,
            2,
            3,
            4,
            5,
            6,
            7,
            8,
            9,
            10,
            11,
            12
           ],
           "xaxis": "x",
           "y": [
            0.6404839579916365,
            -0.04586586815538223,
            0.14695686103649847,
            -0.1208573247146605,
            -0.3208271819986731,
            -0.2543804343806648,
            0.0222293575868972,
            0.1772437998886359,
            0.3561782576639534,
            0.5876683022720842,
            1.002612148585689,
            0.8210499799646007
           ],
           "yaxis": "y"
          },
          {
           "hovertemplate": "Pollutant=NOx<br>year=2007<br>Month=%{x}<br>Average Value=%{y}<extra></extra>",
           "legendgroup": "NOx",
           "line": {
            "color": "#FFA15A",
            "dash": "solid"
           },
           "marker": {
            "symbol": "circle"
           },
           "mode": "lines",
           "name": "NOx",
           "orientation": "v",
           "showlegend": true,
           "type": "scatter",
           "x": [
            1,
            2,
            3,
            4,
            5,
            6,
            7,
            8,
            9,
            10,
            11,
            12
           ],
           "xaxis": "x",
           "y": [
            0.6265917852882354,
            0.03328042587744911,
            -0.10700118977382438,
            -0.15463692960369904,
            -0.16553682851422913,
            -0.22401101959385963,
            -0.34873518005968085,
            -0.4434946492798355,
            -0.2270165930790929,
            0.013277856139466566,
            0.6569045708367621,
            0.5932027155199633
           ],
           "yaxis": "y"
          },
          {
           "hovertemplate": "Pollutant=NO_2<br>year=2007<br>Month=%{x}<br>Average Value=%{y}<extra></extra>",
           "legendgroup": "NO_2",
           "line": {
            "color": "#19d3f3",
            "dash": "solid"
           },
           "marker": {
            "symbol": "circle"
           },
           "mode": "lines",
           "name": "NO_2",
           "orientation": "v",
           "showlegend": true,
           "type": "scatter",
           "x": [
            1,
            2,
            3,
            4,
            5,
            6,
            7,
            8,
            9,
            10,
            11,
            12
           ],
           "xaxis": "x",
           "y": [
            0.5381447586053567,
            0.1260846128104779,
            0.170339583831303,
            0.2569311186017941,
            0.21090218040994174,
            0.18212257489625092,
            -0.06956825585304266,
            -0.24419897209754277,
            0.1424163391912665,
            0.363655518208782,
            0.9316684700500867,
            0.7117943939246579
           ],
           "yaxis": "y"
          },
          {
           "hovertemplate": "Pollutant=O_3<br>year=2007<br>Month=%{x}<br>Average Value=%{y}<extra></extra>",
           "legendgroup": "O_3",
           "line": {
            "color": "#FF6692",
            "dash": "solid"
           },
           "marker": {
            "symbol": "circle"
           },
           "mode": "lines",
           "name": "O_3",
           "orientation": "v",
           "showlegend": true,
           "type": "scatter",
           "x": [
            1,
            2,
            3,
            4,
            5,
            6,
            7,
            8,
            9,
            10,
            11,
            12
           ],
           "xaxis": "x",
           "y": [
            -0.8665009150650768,
            -0.5036355387152684,
            -0.012680549126872722,
            0.12057299943293968,
            0.09222444993169829,
            0.16808466744858086,
            0.3919923942085585,
            0.49657688225087754,
            0.06636826668554979,
            -0.48739047028600613,
            -0.767714639304845,
            -0.8799011183222282
           ],
           "yaxis": "y"
          },
          {
           "hovertemplate": "Pollutant=PM10<br>year=2007<br>Month=%{x}<br>Average Value=%{y}<extra></extra>",
           "legendgroup": "PM10",
           "line": {
            "color": "#B6E880",
            "dash": "solid"
           },
           "marker": {
            "symbol": "circle"
           },
           "mode": "lines",
           "name": "PM10",
           "orientation": "v",
           "showlegend": true,
           "type": "scatter",
           "x": [
            1,
            2,
            3,
            4,
            5,
            6,
            7,
            8,
            9,
            10,
            11,
            12
           ],
           "xaxis": "x",
           "y": [
            0.5462716918415755,
            0.06907303175460602,
            -0.01667017859141855,
            0.02083797059808133,
            -0.05070115718450013,
            -0.08385865513336249,
            0.15309552344461505,
            0.2708295414867318,
            0.23086000779120275,
            0.0762062461920415,
            0.4789731255376596,
            0.25336822969193373
           ],
           "yaxis": "y"
          },
          {
           "hovertemplate": "Pollutant=SO_2<br>year=2007<br>Month=%{x}<br>Average Value=%{y}<extra></extra>",
           "legendgroup": "SO_2",
           "line": {
            "color": "#FF97FF",
            "dash": "solid"
           },
           "marker": {
            "symbol": "circle"
           },
           "mode": "lines",
           "name": "SO_2",
           "orientation": "v",
           "showlegend": true,
           "type": "scatter",
           "x": [
            1,
            2,
            3,
            4,
            5,
            6,
            7,
            8,
            9,
            10,
            11,
            12
           ],
           "xaxis": "x",
           "y": [
            0.6494743578187376,
            0.31650815788366726,
            0.18206022987082038,
            -0.2146093300439168,
            -0.4162654896821324,
            -0.38816493117914946,
            -0.35059204034682234,
            -0.38579395082191364,
            -0.4416420253260755,
            -0.2745080408958716,
            0.8210262439579313,
            0.9196536874010391
           ],
           "yaxis": "y"
          },
          {
           "hovertemplate": "Pollutant=TCH<br>year=2007<br>Month=%{x}<br>Average Value=%{y}<extra></extra>",
           "legendgroup": "TCH",
           "line": {
            "color": "#FECB52",
            "dash": "solid"
           },
           "marker": {
            "symbol": "circle"
           },
           "mode": "lines",
           "name": "TCH",
           "orientation": "v",
           "showlegend": true,
           "type": "scatter",
           "x": [
            1,
            2,
            3,
            4,
            5,
            6,
            7,
            8,
            9,
            10,
            11,
            12
           ],
           "xaxis": "x",
           "y": [
            0.5482623814279936,
            0.06486661548671108,
            -0.12754570952298874,
            -0.187755783161127,
            -0.3558786964616932,
            -0.34400494443931534,
            -0.4431991594751048,
            -0.41112330576133527,
            -0.18788287207212953,
            0.10608729161047764,
            0.4541795674980729,
            0.6251902523614357
           ],
           "yaxis": "y"
          },
          {
           "hovertemplate": "Pollutant=TOL<br>year=2007<br>Month=%{x}<br>Average Value=%{y}<extra></extra>",
           "legendgroup": "TOL",
           "line": {
            "color": "#636efa",
            "dash": "solid"
           },
           "marker": {
            "symbol": "circle"
           },
           "mode": "lines",
           "name": "TOL",
           "orientation": "v",
           "showlegend": true,
           "type": "scatter",
           "x": [
            1,
            2,
            3,
            4,
            5,
            6,
            7,
            8,
            9,
            10,
            11,
            12
           ],
           "xaxis": "x",
           "y": [
            0.21784515228469364,
            -0.2214737775249469,
            -0.24863829526799994,
            -0.2835449364075193,
            -0.31088886656390846,
            -0.3251594430561009,
            -0.3399638986196765,
            -0.3473823750328052,
            -0.1920463019849379,
            0.10435427898466304,
            0.3070375286292044,
            0.21980440199196427
           ],
           "yaxis": "y"
          },
          {
           "hovertemplate": "Pollutant=MXY<br>year=2007<br>Month=%{x}<br>Average Value=%{y}<extra></extra>",
           "legendgroup": "MXY",
           "line": {
            "color": "#EF553B",
            "dash": "solid"
           },
           "marker": {
            "symbol": "circle"
           },
           "mode": "lines",
           "name": "MXY",
           "orientation": "v",
           "showlegend": true,
           "type": "scatter",
           "x": [
            1,
            2,
            3,
            4,
            5,
            6,
            7,
            8,
            9,
            10,
            11,
            12
           ],
           "xaxis": "x",
           "y": [
            0.039067693108633665,
            -0.4218336345096456,
            -0.3713168855208101,
            -0.4622505542646746,
            -0.5836204032599833,
            -0.5740995387131259,
            -0.5834970622899325,
            -0.5698620009687554,
            -0.5025937251578857,
            -0.3891184525634566,
            -0.14570427847262304,
            -0.30110461990811066
           ],
           "yaxis": "y"
          },
          {
           "hovertemplate": "Pollutant=OXY<br>year=2007<br>Month=%{x}<br>Average Value=%{y}<extra></extra>",
           "legendgroup": "OXY",
           "line": {
            "color": "#00cc96",
            "dash": "solid"
           },
           "marker": {
            "symbol": "circle"
           },
           "mode": "lines",
           "name": "OXY",
           "orientation": "v",
           "showlegend": true,
           "type": "scatter",
           "x": [
            1,
            2,
            3,
            4,
            5,
            6,
            7,
            8,
            9,
            10,
            11,
            12
           ],
           "xaxis": "x",
           "y": [
            -0.0026847396480384703,
            -0.39925001031332374,
            -0.3074162963861673,
            -0.4214387625832629,
            -0.5337792102535323,
            -0.5031481668725919,
            -0.5227180241640943,
            -0.4612002953769901,
            -0.45107568817158805,
            -0.3881780211974369,
            -0.2583599017831117,
            -0.3653032879150449
           ],
           "yaxis": "y"
          },
          {
           "hovertemplate": "Pollutant=PXY<br>year=2007<br>Month=%{x}<br>Average Value=%{y}<extra></extra>",
           "legendgroup": "PXY",
           "line": {
            "color": "#ab63fa",
            "dash": "solid"
           },
           "marker": {
            "symbol": "circle"
           },
           "mode": "lines",
           "name": "PXY",
           "orientation": "v",
           "showlegend": true,
           "type": "scatter",
           "x": [
            1,
            2,
            3,
            4,
            5,
            6,
            7,
            8,
            9,
            10,
            11,
            12
           ],
           "xaxis": "x",
           "y": [
            -0.04477632883957909,
            -0.3957060752430974,
            -0.3184648922385773,
            -0.4178944508496536,
            -0.5050569490257782,
            -0.43531379297118694,
            -0.49883010132672256,
            -0.5191096446330211,
            -0.48826626826479813,
            -0.3668410879946332,
            -0.21068913240382384,
            -0.3381522672427158
           ],
           "yaxis": "y"
          },
          {
           "hovertemplate": "Pollutant=PM25<br>year=2007<br>Month=%{x}<br>Average Value=%{y}<extra></extra>",
           "legendgroup": "PM25",
           "line": {
            "color": "#FFA15A",
            "dash": "solid"
           },
           "marker": {
            "symbol": "circle"
           },
           "mode": "lines",
           "name": "PM25",
           "orientation": "v",
           "showlegend": true,
           "type": "scatter",
           "x": [
            1,
            2,
            3,
            4,
            5,
            6,
            7,
            8,
            9,
            10,
            11,
            12
           ],
           "xaxis": "x",
           "y": [
            0.7739388590674728,
            0.18332279887649902,
            0.05333609455512074,
            0.2672100722279422,
            0.15891592546423394,
            0.10038963457842867,
            0.10650673092661665,
            0.2610509945928691,
            0.37823824109835524,
            0.39628307747837266,
            0.7433645626302343,
            0.533574912152344
           ],
           "yaxis": "y"
          },
          {
           "hovertemplate": "Pollutant=CH4<br>year=2007<br>Month=%{x}<br>Average Value=%{y}<extra></extra>",
           "legendgroup": "CH4",
           "line": {
            "color": "#19d3f3",
            "dash": "solid"
           },
           "marker": {
            "symbol": "circle"
           },
           "mode": "lines",
           "name": "CH4",
           "orientation": "v",
           "showlegend": true,
           "type": "scatter",
           "x": [
            1,
            2,
            3,
            4,
            5,
            6,
            7,
            8,
            9,
            10,
            11,
            12
           ],
           "xaxis": "x",
           "y": [
            null,
            null,
            null,
            null,
            null,
            null,
            null,
            null,
            null,
            null,
            null,
            null
           ],
           "yaxis": "y"
          },
          {
           "hovertemplate": "Pollutant=NO<br>year=2007<br>Month=%{x}<br>Average Value=%{y}<extra></extra>",
           "legendgroup": "NO",
           "line": {
            "color": "#FF6692",
            "dash": "solid"
           },
           "marker": {
            "symbol": "circle"
           },
           "mode": "lines",
           "name": "NO",
           "orientation": "v",
           "showlegend": true,
           "type": "scatter",
           "x": [
            1,
            2,
            3,
            4,
            5,
            6,
            7,
            8,
            9,
            10,
            11,
            12
           ],
           "xaxis": "x",
           "y": [
            null,
            null,
            null,
            null,
            null,
            null,
            null,
            null,
            null,
            null,
            null,
            null
           ],
           "yaxis": "y"
          }
         ],
         "name": "2007"
        },
        {
         "data": [
          {
           "hovertemplate": "Pollutant=BEN<br>year=2008<br>Month=%{x}<br>Average Value=%{y}<extra></extra>",
           "legendgroup": "BEN",
           "line": {
            "color": "#636efa",
            "dash": "solid"
           },
           "marker": {
            "symbol": "circle"
           },
           "mode": "lines",
           "name": "BEN",
           "orientation": "v",
           "showlegend": true,
           "type": "scatter",
           "x": [
            1,
            2,
            3,
            4,
            5,
            6,
            7,
            8,
            9,
            10,
            11,
            12
           ],
           "xaxis": "x",
           "y": [
            0.01062211374261426,
            -0.06886594654549252,
            -0.22295827321618397,
            -0.2450088199196545,
            -0.2855461865871188,
            -0.26856647561560176,
            -0.27680251865597083,
            -0.2832048267693788,
            -0.22484422016853103,
            -0.16555463052241293,
            -0.18326620333916022,
            -0.05938731169762929
           ],
           "yaxis": "y"
          },
          {
           "hovertemplate": "Pollutant=CO<br>year=2008<br>Month=%{x}<br>Average Value=%{y}<extra></extra>",
           "legendgroup": "CO",
           "line": {
            "color": "#EF553B",
            "dash": "solid"
           },
           "marker": {
            "symbol": "circle"
           },
           "mode": "lines",
           "name": "CO",
           "orientation": "v",
           "showlegend": true,
           "type": "scatter",
           "x": [
            1,
            2,
            3,
            4,
            5,
            6,
            7,
            8,
            9,
            10,
            11,
            12
           ],
           "xaxis": "x",
           "y": [
            0.057702193384181304,
            -0.05624525252531531,
            -0.2796486612649722,
            -0.3436717129722945,
            -0.4074404151389002,
            -0.4225763475617837,
            -0.45254009542421236,
            -0.48838719264379077,
            -0.38755369068779827,
            -0.27381956728046114,
            -0.09221050844972146,
            0.07239955222340234
           ],
           "yaxis": "y"
          },
          {
           "hovertemplate": "Pollutant=EBE<br>year=2008<br>Month=%{x}<br>Average Value=%{y}<extra></extra>",
           "legendgroup": "EBE",
           "line": {
            "color": "#00cc96",
            "dash": "solid"
           },
           "marker": {
            "symbol": "circle"
           },
           "mode": "lines",
           "name": "EBE",
           "orientation": "v",
           "showlegend": true,
           "type": "scatter",
           "x": [
            1,
            2,
            3,
            4,
            5,
            6,
            7,
            8,
            9,
            10,
            11,
            12
           ],
           "xaxis": "x",
           "y": [
            0.04520867802823238,
            -0.023436995927131516,
            -0.10296947996780566,
            -0.12402955266456141,
            -0.16261263376544982,
            -0.15698479975085036,
            -0.14713881495961045,
            -0.14349680046511887,
            0.019419719578051005,
            0.048850010834778086,
            -0.03410185527994637,
            0.04727453304179985
           ],
           "yaxis": "y"
          },
          {
           "hovertemplate": "Pollutant=NMHC<br>year=2008<br>Month=%{x}<br>Average Value=%{y}<extra></extra>",
           "legendgroup": "NMHC",
           "line": {
            "color": "#ab63fa",
            "dash": "solid"
           },
           "marker": {
            "symbol": "circle"
           },
           "mode": "lines",
           "name": "NMHC",
           "orientation": "v",
           "showlegend": true,
           "type": "scatter",
           "x": [
            1,
            2,
            3,
            4,
            5,
            6,
            7,
            8,
            9,
            10,
            11,
            12
           ],
           "xaxis": "x",
           "y": [
            0.6946012639850012,
            0.5760812999852539,
            -0.32937854442811937,
            -0.28838100845982517,
            -0.08139718330360125,
            -0.13880813942495146,
            -0.21085748635068938,
            -0.28802617586684126,
            -0.009885251871842998,
            -0.02432058348886021,
            0.3153088406625255,
            0.24115661497722402
           ],
           "yaxis": "y"
          },
          {
           "hovertemplate": "Pollutant=NOx<br>year=2008<br>Month=%{x}<br>Average Value=%{y}<extra></extra>",
           "legendgroup": "NOx",
           "line": {
            "color": "#FFA15A",
            "dash": "solid"
           },
           "marker": {
            "symbol": "circle"
           },
           "mode": "lines",
           "name": "NOx",
           "orientation": "v",
           "showlegend": true,
           "type": "scatter",
           "x": [
            1,
            2,
            3,
            4,
            5,
            6,
            7,
            8,
            9,
            10,
            11,
            12
           ],
           "xaxis": "x",
           "y": [
            0.31421335144442386,
            0.11906865362696169,
            -0.27104707914038445,
            -0.3003839164611377,
            -0.34279986351811925,
            -0.3522396793931526,
            -0.36502619974406747,
            -0.41775829149439025,
            -0.24553328069141891,
            -0.06623213192808797,
            0.08602019353911633,
            0.3580528153608121
           ],
           "yaxis": "y"
          },
          {
           "hovertemplate": "Pollutant=NO_2<br>year=2008<br>Month=%{x}<br>Average Value=%{y}<extra></extra>",
           "legendgroup": "NO_2",
           "line": {
            "color": "#19d3f3",
            "dash": "solid"
           },
           "marker": {
            "symbol": "circle"
           },
           "mode": "lines",
           "name": "NO_2",
           "orientation": "v",
           "showlegend": true,
           "type": "scatter",
           "x": [
            1,
            2,
            3,
            4,
            5,
            6,
            7,
            8,
            9,
            10,
            11,
            12
           ],
           "xaxis": "x",
           "y": [
            0.4499879914456425,
            0.4067968050574118,
            -0.08685890232907824,
            0.013368764733080081,
            -0.04970467919257222,
            -0.03403752759610658,
            -0.043765916535563824,
            -0.14344195971439333,
            0.10283670685679895,
            0.2695714542285306,
            0.2841463658321426,
            0.5611823459461953
           ],
           "yaxis": "y"
          },
          {
           "hovertemplate": "Pollutant=O_3<br>year=2008<br>Month=%{x}<br>Average Value=%{y}<extra></extra>",
           "legendgroup": "O_3",
           "line": {
            "color": "#FF6692",
            "dash": "solid"
           },
           "marker": {
            "symbol": "circle"
           },
           "mode": "lines",
           "name": "O_3",
           "orientation": "v",
           "showlegend": true,
           "type": "scatter",
           "x": [
            1,
            2,
            3,
            4,
            5,
            6,
            7,
            8,
            9,
            10,
            11,
            12
           ],
           "xaxis": "x",
           "y": [
            -0.7526630955399942,
            -0.5705027497888315,
            0.0928715714646722,
            0.26282781108508596,
            0.2822571182812281,
            0.6059819259668062,
            0.6020222793636995,
            0.6265080173070764,
            0.0521593197121068,
            -0.37799211560136725,
            -0.5426973624059049,
            -0.6864267771732935
           ],
           "yaxis": "y"
          },
          {
           "hovertemplate": "Pollutant=PM10<br>year=2008<br>Month=%{x}<br>Average Value=%{y}<extra></extra>",
           "legendgroup": "PM10",
           "line": {
            "color": "#B6E880",
            "dash": "solid"
           },
           "marker": {
            "symbol": "circle"
           },
           "mode": "lines",
           "name": "PM10",
           "orientation": "v",
           "showlegend": true,
           "type": "scatter",
           "x": [
            1,
            2,
            3,
            4,
            5,
            6,
            7,
            8,
            9,
            10,
            11,
            12
           ],
           "xaxis": "x",
           "y": [
            0.15213084077262998,
            0.03172290146117341,
            -0.27519866421950084,
            -0.24679244695717137,
            -0.2750484899852313,
            -0.16300212470813438,
            0.05420945708211545,
            0.00573038378562947,
            -0.07412853423369324,
            0.19484543297391352,
            -0.3098825532165295,
            -0.18398880983216997
           ],
           "yaxis": "y"
          },
          {
           "hovertemplate": "Pollutant=SO_2<br>year=2008<br>Month=%{x}<br>Average Value=%{y}<extra></extra>",
           "legendgroup": "SO_2",
           "line": {
            "color": "#FF97FF",
            "dash": "solid"
           },
           "marker": {
            "symbol": "circle"
           },
           "mode": "lines",
           "name": "SO_2",
           "orientation": "v",
           "showlegend": true,
           "type": "scatter",
           "x": [
            1,
            2,
            3,
            4,
            5,
            6,
            7,
            8,
            9,
            10,
            11,
            12
           ],
           "xaxis": "x",
           "y": [
            0.6373388161094878,
            0.4302344756098439,
            0.01852482266770779,
            -0.3001902946479218,
            -0.3935433161785373,
            -0.38807893993008863,
            -0.35051123664944833,
            -0.3197644291845364,
            -0.28221708185296507,
            -0.18843572717770576,
            0.35535016157007404,
            0.717252769175626
           ],
           "yaxis": "y"
          },
          {
           "hovertemplate": "Pollutant=TCH<br>year=2008<br>Month=%{x}<br>Average Value=%{y}<extra></extra>",
           "legendgroup": "TCH",
           "line": {
            "color": "#FECB52",
            "dash": "solid"
           },
           "marker": {
            "symbol": "circle"
           },
           "mode": "lines",
           "name": "TCH",
           "orientation": "v",
           "showlegend": true,
           "type": "scatter",
           "x": [
            1,
            2,
            3,
            4,
            5,
            6,
            7,
            8,
            9,
            10,
            11,
            12
           ],
           "xaxis": "x",
           "y": [
            0.2915509188635328,
            0.11028028480944442,
            -0.24713923749986627,
            -0.23267091036312673,
            -0.2654853241429613,
            -0.32168234266085405,
            -0.15749910169490455,
            -0.22279945559256925,
            0.029771767764234312,
            0.09483306168759667,
            0.39520883233576454,
            0.5069784765559776
           ],
           "yaxis": "y"
          },
          {
           "hovertemplate": "Pollutant=TOL<br>year=2008<br>Month=%{x}<br>Average Value=%{y}<extra></extra>",
           "legendgroup": "TOL",
           "line": {
            "color": "#636efa",
            "dash": "solid"
           },
           "marker": {
            "symbol": "circle"
           },
           "mode": "lines",
           "name": "TOL",
           "orientation": "v",
           "showlegend": true,
           "type": "scatter",
           "x": [
            1,
            2,
            3,
            4,
            5,
            6,
            7,
            8,
            9,
            10,
            11,
            12
           ],
           "xaxis": "x",
           "y": [
            0.013178296785980169,
            -0.04741251315385466,
            -0.28024889464457087,
            -0.26243752451083463,
            -0.282296289327457,
            -0.2722694658941492,
            -0.22027479529612387,
            -0.200402672217511,
            -0.1357499666153311,
            -0.04819025449127506,
            -0.14125668743776995,
            -0.1298490250964943
           ],
           "yaxis": "y"
          },
          {
           "hovertemplate": "Pollutant=MXY<br>year=2008<br>Month=%{x}<br>Average Value=%{y}<extra></extra>",
           "legendgroup": "MXY",
           "line": {
            "color": "#EF553B",
            "dash": "solid"
           },
           "marker": {
            "symbol": "circle"
           },
           "mode": "lines",
           "name": "MXY",
           "orientation": "v",
           "showlegend": true,
           "type": "scatter",
           "x": [
            1,
            2,
            3,
            4,
            5,
            6,
            7,
            8,
            9,
            10,
            11,
            12
           ],
           "xaxis": "x",
           "y": [
            -0.29641595659409953,
            -0.4411191336112423,
            -0.5114987881121219,
            -0.47080929536345845,
            -0.45657183067081053,
            -0.4382313017633761,
            -0.441331177409705,
            -0.47164603630853186,
            -0.35622642289038114,
            -0.26378478035815783,
            -0.35410122078708695,
            -0.23957889301603333
           ],
           "yaxis": "y"
          },
          {
           "hovertemplate": "Pollutant=OXY<br>year=2008<br>Month=%{x}<br>Average Value=%{y}<extra></extra>",
           "legendgroup": "OXY",
           "line": {
            "color": "#00cc96",
            "dash": "solid"
           },
           "marker": {
            "symbol": "circle"
           },
           "mode": "lines",
           "name": "OXY",
           "orientation": "v",
           "showlegend": true,
           "type": "scatter",
           "x": [
            1,
            2,
            3,
            4,
            5,
            6,
            7,
            8,
            9,
            10,
            11,
            12
           ],
           "xaxis": "x",
           "y": [
            -0.22680102948642536,
            -0.4259650131838936,
            -0.4290720871651359,
            -0.36180187280373877,
            -0.3494125203531947,
            -0.31936729327571334,
            -0.33567407434428925,
            -0.3578970357955925,
            -0.2459892381125089,
            0.007764146533620827,
            -0.30728770253834714,
            -0.3023237590396139
           ],
           "yaxis": "y"
          },
          {
           "hovertemplate": "Pollutant=PXY<br>year=2008<br>Month=%{x}<br>Average Value=%{y}<extra></extra>",
           "legendgroup": "PXY",
           "line": {
            "color": "#ab63fa",
            "dash": "solid"
           },
           "marker": {
            "symbol": "circle"
           },
           "mode": "lines",
           "name": "PXY",
           "orientation": "v",
           "showlegend": true,
           "type": "scatter",
           "x": [
            1,
            2,
            3,
            4,
            5,
            6,
            7,
            8,
            9,
            10,
            11,
            12
           ],
           "xaxis": "x",
           "y": [
            -0.2685420297405941,
            -0.4374323314182055,
            -0.4144334857278371,
            -0.35458162392815823,
            -0.3598370586593994,
            -0.3583828397170078,
            -0.3506503620720195,
            -0.3820290064922225,
            -0.25082782143686827,
            -0.10014455474505868,
            -0.2286166977878519,
            -0.19996794572010132
           ],
           "yaxis": "y"
          },
          {
           "hovertemplate": "Pollutant=PM25<br>year=2008<br>Month=%{x}<br>Average Value=%{y}<extra></extra>",
           "legendgroup": "PM25",
           "line": {
            "color": "#FFA15A",
            "dash": "solid"
           },
           "marker": {
            "symbol": "circle"
           },
           "mode": "lines",
           "name": "PM25",
           "orientation": "v",
           "showlegend": true,
           "type": "scatter",
           "x": [
            1,
            2,
            3,
            4,
            5,
            6,
            7,
            8,
            9,
            10,
            11,
            12
           ],
           "xaxis": "x",
           "y": [
            0.3703353196616913,
            0.21071279200618565,
            -0.20301054604922786,
            -0.1884363250956703,
            -0.17503383161319042,
            0.0886661337557006,
            0.08642945482428684,
            -0.042718749944532876,
            0.03463972775167499,
            0.31258851687368727,
            0.005433131054469293,
            0.238203225093374
           ],
           "yaxis": "y"
          },
          {
           "hovertemplate": "Pollutant=CH4<br>year=2008<br>Month=%{x}<br>Average Value=%{y}<extra></extra>",
           "legendgroup": "CH4",
           "line": {
            "color": "#19d3f3",
            "dash": "solid"
           },
           "marker": {
            "symbol": "circle"
           },
           "mode": "lines",
           "name": "CH4",
           "orientation": "v",
           "showlegend": true,
           "type": "scatter",
           "x": [
            1,
            2,
            3,
            4,
            5,
            6,
            7,
            8,
            9,
            10,
            11,
            12
           ],
           "xaxis": "x",
           "y": [
            null,
            null,
            null,
            null,
            null,
            null,
            null,
            null,
            null,
            null,
            null,
            null
           ],
           "yaxis": "y"
          },
          {
           "hovertemplate": "Pollutant=NO<br>year=2008<br>Month=%{x}<br>Average Value=%{y}<extra></extra>",
           "legendgroup": "NO",
           "line": {
            "color": "#FF6692",
            "dash": "solid"
           },
           "marker": {
            "symbol": "circle"
           },
           "mode": "lines",
           "name": "NO",
           "orientation": "v",
           "showlegend": true,
           "type": "scatter",
           "x": [
            1,
            2,
            3,
            4,
            5,
            6,
            7,
            8,
            9,
            10,
            11,
            12
           ],
           "xaxis": "x",
           "y": [
            null,
            null,
            null,
            null,
            null,
            null,
            null,
            null,
            null,
            null,
            null,
            null
           ],
           "yaxis": "y"
          }
         ],
         "name": "2008"
        },
        {
         "data": [
          {
           "hovertemplate": "Pollutant=BEN<br>year=2009<br>Month=%{x}<br>Average Value=%{y}<extra></extra>",
           "legendgroup": "BEN",
           "line": {
            "color": "#636efa",
            "dash": "solid"
           },
           "marker": {
            "symbol": "circle"
           },
           "mode": "lines",
           "name": "BEN",
           "orientation": "v",
           "showlegend": true,
           "type": "scatter",
           "x": [
            1,
            2,
            3,
            4,
            5,
            6,
            7,
            8,
            9,
            10,
            11,
            12
           ],
           "xaxis": "x",
           "y": [
            -0.18409805278790742,
            -0.16660573638118087,
            -0.23686152210968472,
            -0.3238972222985846,
            -0.3268972617965174,
            -0.3655907334354119,
            -0.36359549085581977,
            -0.4004491903879285,
            -0.3696573375445281,
            -0.1746120443033232,
            -0.1520082265251898,
            -0.05857005314521212
           ],
           "yaxis": "y"
          },
          {
           "hovertemplate": "Pollutant=CO<br>year=2009<br>Month=%{x}<br>Average Value=%{y}<extra></extra>",
           "legendgroup": "CO",
           "line": {
            "color": "#EF553B",
            "dash": "solid"
           },
           "marker": {
            "symbol": "circle"
           },
           "mode": "lines",
           "name": "CO",
           "orientation": "v",
           "showlegend": true,
           "type": "scatter",
           "x": [
            1,
            2,
            3,
            4,
            5,
            6,
            7,
            8,
            9,
            10,
            11,
            12
           ],
           "xaxis": "x",
           "y": [
            -0.15782203703134273,
            -0.0862211542152661,
            -0.2157893379495586,
            -0.3305819265906873,
            -0.41834159649537855,
            -0.4708493444767493,
            -0.4826392395169713,
            -0.48175363658511466,
            -0.4090342077298143,
            -0.17168132313362194,
            -0.11405233536395588,
            -0.1342152641325686
           ],
           "yaxis": "y"
          },
          {
           "hovertemplate": "Pollutant=EBE<br>year=2009<br>Month=%{x}<br>Average Value=%{y}<extra></extra>",
           "legendgroup": "EBE",
           "line": {
            "color": "#00cc96",
            "dash": "solid"
           },
           "marker": {
            "symbol": "circle"
           },
           "mode": "lines",
           "name": "EBE",
           "orientation": "v",
           "showlegend": true,
           "type": "scatter",
           "x": [
            1,
            2,
            3,
            4,
            5,
            6,
            7,
            8,
            9,
            10,
            11,
            12
           ],
           "xaxis": "x",
           "y": [
            -0.049473549033638285,
            -0.016452516426640904,
            -0.10762292094201908,
            -0.1346403372123492,
            -0.0797530221764611,
            -0.11353351222803955,
            -0.10262536980193235,
            -0.203387228744518,
            -0.2459339335061219,
            -0.04763588864874744,
            0.015059010931545474,
            0.04927734358353544
           ],
           "yaxis": "y"
          },
          {
           "hovertemplate": "Pollutant=NMHC<br>year=2009<br>Month=%{x}<br>Average Value=%{y}<extra></extra>",
           "legendgroup": "NMHC",
           "line": {
            "color": "#ab63fa",
            "dash": "solid"
           },
           "marker": {
            "symbol": "circle"
           },
           "mode": "lines",
           "name": "NMHC",
           "orientation": "v",
           "showlegend": true,
           "type": "scatter",
           "x": [
            1,
            2,
            3,
            4,
            5,
            6,
            7,
            8,
            9,
            10,
            11,
            12
           ],
           "xaxis": "x",
           "y": [
            0.03684764008069797,
            0.30012807506780437,
            0.12494865337063897,
            -0.05550244624899561,
            -0.11932938250508723,
            -0.1187795403257264,
            0.12058328944151105,
            0.00888971487605163,
            0.09411126348626352,
            0.47696144771877974,
            0.5227551767691246,
            0.13648004115092283
           ],
           "yaxis": "y"
          },
          {
           "hovertemplate": "Pollutant=NOx<br>year=2009<br>Month=%{x}<br>Average Value=%{y}<extra></extra>",
           "legendgroup": "NOx",
           "line": {
            "color": "#FFA15A",
            "dash": "solid"
           },
           "marker": {
            "symbol": "circle"
           },
           "mode": "lines",
           "name": "NOx",
           "orientation": "v",
           "showlegend": true,
           "type": "scatter",
           "x": [
            1,
            2,
            3,
            4,
            5,
            6,
            7,
            8,
            9,
            10,
            11,
            12
           ],
           "xaxis": "x",
           "y": [
            -0.012333925425643209,
            0.0921085375607529,
            -0.15055010399183477,
            -0.313152331961366,
            -0.3894954597980649,
            -0.3917254188149124,
            -0.37530240659099706,
            -0.3857712793213164,
            -0.3479258985829391,
            0.06797663487404103,
            0.12714690878236454,
            -0.08602455043740824
           ],
           "yaxis": "y"
          },
          {
           "hovertemplate": "Pollutant=NO_2<br>year=2009<br>Month=%{x}<br>Average Value=%{y}<extra></extra>",
           "legendgroup": "NO_2",
           "line": {
            "color": "#19d3f3",
            "dash": "solid"
           },
           "marker": {
            "symbol": "circle"
           },
           "mode": "lines",
           "name": "NO_2",
           "orientation": "v",
           "showlegend": true,
           "type": "scatter",
           "x": [
            1,
            2,
            3,
            4,
            5,
            6,
            7,
            8,
            9,
            10,
            11,
            12
           ],
           "xaxis": "x",
           "y": [
            0.1968472851986598,
            0.43155052603279626,
            0.2516579840635266,
            0.027915116418868055,
            -0.12009609481468912,
            -0.1502125422791602,
            -0.0993152450925343,
            -0.05573047930189177,
            -0.005390472085896666,
            0.4310935957577243,
            0.3558640127226323,
            0.09672904501396529
           ],
           "yaxis": "y"
          },
          {
           "hovertemplate": "Pollutant=O_3<br>year=2009<br>Month=%{x}<br>Average Value=%{y}<extra></extra>",
           "legendgroup": "O_3",
           "line": {
            "color": "#FF6692",
            "dash": "solid"
           },
           "marker": {
            "symbol": "circle"
           },
           "mode": "lines",
           "name": "O_3",
           "orientation": "v",
           "showlegend": true,
           "type": "scatter",
           "x": [
            1,
            2,
            3,
            4,
            5,
            6,
            7,
            8,
            9,
            10,
            11,
            12
           ],
           "xaxis": "x",
           "y": [
            -0.4975692532763901,
            -0.40896172870160336,
            0.1046964883488436,
            0.4448948079770652,
            0.4930274355851019,
            0.7039914325346264,
            0.7201807298155161,
            0.8541334752208883,
            0.5839717342939494,
            -0.3301458255650532,
            -0.40279791663855885,
            -0.4669325132305846
           ],
           "yaxis": "y"
          },
          {
           "hovertemplate": "Pollutant=PM10<br>year=2009<br>Month=%{x}<br>Average Value=%{y}<extra></extra>",
           "legendgroup": "PM10",
           "line": {
            "color": "#B6E880",
            "dash": "solid"
           },
           "marker": {
            "symbol": "circle"
           },
           "mode": "lines",
           "name": "PM10",
           "orientation": "v",
           "showlegend": true,
           "type": "scatter",
           "x": [
            1,
            2,
            3,
            4,
            5,
            6,
            7,
            8,
            9,
            10,
            11,
            12
           ],
           "xaxis": "x",
           "y": [
            -0.3714444567007646,
            -0.20294556264585623,
            -0.14030487895297555,
            -0.3557619228124056,
            -0.1467889332031513,
            -0.13230250246707526,
            0.006822572821505647,
            0.0024954986974007995,
            -0.11380923245403429,
            -0.08234303965202398,
            -0.09761812459432541,
            -0.4588309380260524
           ],
           "yaxis": "y"
          },
          {
           "hovertemplate": "Pollutant=SO_2<br>year=2009<br>Month=%{x}<br>Average Value=%{y}<extra></extra>",
           "legendgroup": "SO_2",
           "line": {
            "color": "#FF97FF",
            "dash": "solid"
           },
           "marker": {
            "symbol": "circle"
           },
           "mode": "lines",
           "name": "SO_2",
           "orientation": "v",
           "showlegend": true,
           "type": "scatter",
           "x": [
            1,
            2,
            3,
            4,
            5,
            6,
            7,
            8,
            9,
            10,
            11,
            12
           ],
           "xaxis": "x",
           "y": [
            0.4524418285186791,
            0.5471975303924713,
            0.2386891889240486,
            -0.09354518556587678,
            -0.29489118040195245,
            -0.3621703511549596,
            -0.3228855722420582,
            -0.322951897053,
            -0.32547302024930425,
            -0.2020312532297068,
            0.11910393972272677,
            0.1321990876332564
           ],
           "yaxis": "y"
          },
          {
           "hovertemplate": "Pollutant=TCH<br>year=2009<br>Month=%{x}<br>Average Value=%{y}<extra></extra>",
           "legendgroup": "TCH",
           "line": {
            "color": "#FECB52",
            "dash": "solid"
           },
           "marker": {
            "symbol": "circle"
           },
           "mode": "lines",
           "name": "TCH",
           "orientation": "v",
           "showlegend": true,
           "type": "scatter",
           "x": [
            1,
            2,
            3,
            4,
            5,
            6,
            7,
            8,
            9,
            10,
            11,
            12
           ],
           "xaxis": "x",
           "y": [
            0.44523774446505754,
            0.3709401514943672,
            0.21499261672218728,
            0.010924860414496185,
            -0.0028705722600501147,
            -0.26570866302974677,
            0.035158370038093995,
            -0.05020563216149408,
            -0.05326085994028068,
            0.29370199194141744,
            0.4544349753293401,
            0.10545352989000138
           ],
           "yaxis": "y"
          },
          {
           "hovertemplate": "Pollutant=TOL<br>year=2009<br>Month=%{x}<br>Average Value=%{y}<extra></extra>",
           "legendgroup": "TOL",
           "line": {
            "color": "#636efa",
            "dash": "solid"
           },
           "marker": {
            "symbol": "circle"
           },
           "mode": "lines",
           "name": "TOL",
           "orientation": "v",
           "showlegend": true,
           "type": "scatter",
           "x": [
            1,
            2,
            3,
            4,
            5,
            6,
            7,
            8,
            9,
            10,
            11,
            12
           ],
           "xaxis": "x",
           "y": [
            -0.2726684615600518,
            -0.18871581833053364,
            -0.25839276577132303,
            -0.35777879299693105,
            -0.31513171941550544,
            -0.3281983482594041,
            -0.2931872002086471,
            -0.2925120547324392,
            -0.3090047066234615,
            -0.05004381374736397,
            -0.0034125315573440874,
            -0.14300528716753322
           ],
           "yaxis": "y"
          },
          {
           "hovertemplate": "Pollutant=MXY<br>year=2009<br>Month=%{x}<br>Average Value=%{y}<extra></extra>",
           "legendgroup": "MXY",
           "line": {
            "color": "#EF553B",
            "dash": "solid"
           },
           "marker": {
            "symbol": "circle"
           },
           "mode": "lines",
           "name": "MXY",
           "orientation": "v",
           "showlegend": true,
           "type": "scatter",
           "x": [
            1,
            2,
            3,
            4,
            5,
            6,
            7,
            8,
            9,
            10,
            11,
            12
           ],
           "xaxis": "x",
           "y": [
            -0.4273791221769187,
            -0.3893887189432007,
            -0.4273008624953087,
            -0.5251945422733415,
            -0.44742901488360837,
            -0.4654819441739353,
            -0.45647235096170463,
            -0.4903895542438406,
            -0.44736110484568853,
            -0.2302972935580568,
            -0.29035218360661535,
            -0.5969880004653508
           ],
           "yaxis": "y"
          },
          {
           "hovertemplate": "Pollutant=OXY<br>year=2009<br>Month=%{x}<br>Average Value=%{y}<extra></extra>",
           "legendgroup": "OXY",
           "line": {
            "color": "#00cc96",
            "dash": "solid"
           },
           "marker": {
            "symbol": "circle"
           },
           "mode": "lines",
           "name": "OXY",
           "orientation": "v",
           "showlegend": true,
           "type": "scatter",
           "x": [
            1,
            2,
            3,
            4,
            5,
            6,
            7,
            8,
            9,
            10,
            11,
            12
           ],
           "xaxis": "x",
           "y": [
            -0.42354348594867813,
            -0.32395411745244496,
            -0.37978228179517254,
            -0.4315944482501351,
            -0.3343962248171132,
            -0.33969515565757763,
            -0.33522788277795323,
            -0.3979847694437619,
            -0.352783986218831,
            -0.175174337603876,
            -0.22213444877092475,
            -0.5027968025227444
           ],
           "yaxis": "y"
          },
          {
           "hovertemplate": "Pollutant=PXY<br>year=2009<br>Month=%{x}<br>Average Value=%{y}<extra></extra>",
           "legendgroup": "PXY",
           "line": {
            "color": "#ab63fa",
            "dash": "solid"
           },
           "marker": {
            "symbol": "circle"
           },
           "mode": "lines",
           "name": "PXY",
           "orientation": "v",
           "showlegend": true,
           "type": "scatter",
           "x": [
            1,
            2,
            3,
            4,
            5,
            6,
            7,
            8,
            9,
            10,
            11,
            12
           ],
           "xaxis": "x",
           "y": [
            -0.36387465825203696,
            -0.31969736536948584,
            -0.38566375065401426,
            -0.45670844271099387,
            -0.35824140215962536,
            -0.34306026966144537,
            -0.35138320539237716,
            -0.3916599530888804,
            -0.3805864749211085,
            -0.17002767035242902,
            -0.20455382828891727,
            -0.3765679235839496
           ],
           "yaxis": "y"
          },
          {
           "hovertemplate": "Pollutant=PM25<br>year=2009<br>Month=%{x}<br>Average Value=%{y}<extra></extra>",
           "legendgroup": "PM25",
           "line": {
            "color": "#FFA15A",
            "dash": "solid"
           },
           "marker": {
            "symbol": "circle"
           },
           "mode": "lines",
           "name": "PM25",
           "orientation": "v",
           "showlegend": true,
           "type": "scatter",
           "x": [
            1,
            2,
            3,
            4,
            5,
            6,
            7,
            8,
            9,
            10,
            11,
            12
           ],
           "xaxis": "x",
           "y": [
            -0.10797653775632826,
            0.01801725360771275,
            -0.021219197827505584,
            -0.2350599476892623,
            -0.21087298326220386,
            -0.1295785768778404,
            -0.07955462039969594,
            -0.00897140291918951,
            -0.04039928796701323,
            0.003013587690934403,
            0.057363796064242314,
            -0.27480717715948383
           ],
           "yaxis": "y"
          },
          {
           "hovertemplate": "Pollutant=CH4<br>year=2009<br>Month=%{x}<br>Average Value=%{y}<extra></extra>",
           "legendgroup": "CH4",
           "line": {
            "color": "#19d3f3",
            "dash": "solid"
           },
           "marker": {
            "symbol": "circle"
           },
           "mode": "lines",
           "name": "CH4",
           "orientation": "v",
           "showlegend": true,
           "type": "scatter",
           "x": [
            1,
            2,
            3,
            4,
            5,
            6,
            7,
            8,
            9,
            10,
            11,
            12
           ],
           "xaxis": "x",
           "y": [
            null,
            null,
            null,
            null,
            null,
            null,
            null,
            null,
            null,
            null,
            null,
            null
           ],
           "yaxis": "y"
          },
          {
           "hovertemplate": "Pollutant=NO<br>year=2009<br>Month=%{x}<br>Average Value=%{y}<extra></extra>",
           "legendgroup": "NO",
           "line": {
            "color": "#FF6692",
            "dash": "solid"
           },
           "marker": {
            "symbol": "circle"
           },
           "mode": "lines",
           "name": "NO",
           "orientation": "v",
           "showlegend": true,
           "type": "scatter",
           "x": [
            1,
            2,
            3,
            4,
            5,
            6,
            7,
            8,
            9,
            10,
            11,
            12
           ],
           "xaxis": "x",
           "y": [
            null,
            null,
            null,
            null,
            null,
            null,
            null,
            null,
            null,
            null,
            null,
            null
           ],
           "yaxis": "y"
          }
         ],
         "name": "2009"
        },
        {
         "data": [
          {
           "hovertemplate": "Pollutant=BEN<br>year=2010<br>Month=%{x}<br>Average Value=%{y}<extra></extra>",
           "legendgroup": "BEN",
           "line": {
            "color": "#636efa",
            "dash": "solid"
           },
           "marker": {
            "symbol": "circle"
           },
           "mode": "lines",
           "name": "BEN",
           "orientation": "v",
           "showlegend": true,
           "type": "scatter",
           "x": [
            1,
            2,
            3,
            4,
            5,
            6,
            7,
            8,
            9,
            10,
            11,
            12
           ],
           "xaxis": "x",
           "y": [
            -0.12532704701104438,
            -0.1754136995184806,
            -0.23403870214648678,
            -0.33858337873269134,
            -0.3974742774230856,
            -0.387681766198387,
            -0.33394745383782665,
            -0.3870725512343126,
            -0.2589327576571431,
            -0.16737514441505907,
            -0.1468982284387458,
            -0.07580351732131804
           ],
           "yaxis": "y"
          },
          {
           "hovertemplate": "Pollutant=CO<br>year=2010<br>Month=%{x}<br>Average Value=%{y}<extra></extra>",
           "legendgroup": "CO",
           "line": {
            "color": "#EF553B",
            "dash": "solid"
           },
           "marker": {
            "symbol": "circle"
           },
           "mode": "lines",
           "name": "CO",
           "orientation": "v",
           "showlegend": true,
           "type": "scatter",
           "x": [
            1,
            2,
            3,
            4,
            5,
            6,
            7,
            8,
            9,
            10,
            11,
            12
           ],
           "xaxis": "x",
           "y": [
            -0.2407947034356429,
            -0.31015059033429687,
            -0.36213185722094504,
            -0.41345720408562886,
            -0.517965909340544,
            -0.5298094127357839,
            -0.501142262016119,
            -0.5226173733204937,
            -0.40476569073602103,
            -0.2195342910169066,
            -0.2122084125357628,
            -0.09406211642149713
           ],
           "yaxis": "y"
          },
          {
           "hovertemplate": "Pollutant=EBE<br>year=2010<br>Month=%{x}<br>Average Value=%{y}<extra></extra>",
           "legendgroup": "EBE",
           "line": {
            "color": "#00cc96",
            "dash": "solid"
           },
           "marker": {
            "symbol": "circle"
           },
           "mode": "lines",
           "name": "EBE",
           "orientation": "v",
           "showlegend": true,
           "type": "scatter",
           "x": [
            1,
            2,
            3,
            4,
            5,
            6,
            7,
            8,
            9,
            10,
            11,
            12
           ],
           "xaxis": "x",
           "y": [
            0.046810652754549,
            -0.045759617641009775,
            -0.14075572525703325,
            -0.27618683134570793,
            -0.367203945473837,
            -0.2934487890415644,
            -0.2639007794506896,
            -0.26755423097135045,
            -0.08425309877597566,
            0.014783994794944147,
            0.0012767674808656026,
            -0.1584186291647342
           ],
           "yaxis": "y"
          },
          {
           "hovertemplate": "Pollutant=NMHC<br>year=2010<br>Month=%{x}<br>Average Value=%{y}<extra></extra>",
           "legendgroup": "NMHC",
           "line": {
            "color": "#ab63fa",
            "dash": "solid"
           },
           "marker": {
            "symbol": "circle"
           },
           "mode": "lines",
           "name": "NMHC",
           "orientation": "v",
           "showlegend": true,
           "type": "scatter",
           "x": [
            1,
            2,
            3,
            4,
            5,
            6,
            7,
            8,
            9,
            10,
            11,
            12
           ],
           "xaxis": "x",
           "y": [
            0.18062383169081195,
            0.15311403892571707,
            0.1659011292900762,
            0.0334970926022874,
            0.13491626598564158,
            0.06133141377898745,
            0.01332681256737526,
            0.008636755125492834,
            0.17724749517365748,
            0.3072119020525748,
            0.28961416013871405,
            0.2032484414955922
           ],
           "yaxis": "y"
          },
          {
           "hovertemplate": "Pollutant=NOx<br>year=2010<br>Month=%{x}<br>Average Value=%{y}<extra></extra>",
           "legendgroup": "NOx",
           "line": {
            "color": "#FFA15A",
            "dash": "solid"
           },
           "marker": {
            "symbol": "circle"
           },
           "mode": "lines",
           "name": "NOx",
           "orientation": "v",
           "showlegend": true,
           "type": "scatter",
           "x": [
            1,
            2,
            3,
            4,
            5,
            6,
            7,
            8,
            9,
            10,
            11,
            12
           ],
           "xaxis": "x",
           "y": [
            -0.2604476513211404,
            -0.36383252211669703,
            -0.44086819544978245,
            -0.5260788099173479,
            -0.6337321666439627,
            -0.5709007712007,
            -0.5076949186974408,
            -0.5834086711710004,
            -0.3699938979568391,
            -0.10620826977970442,
            -0.14594342414691172,
            -0.004277195073785926
           ],
           "yaxis": "y"
          },
          {
           "hovertemplate": "Pollutant=NO_2<br>year=2010<br>Month=%{x}<br>Average Value=%{y}<extra></extra>",
           "legendgroup": "NO_2",
           "line": {
            "color": "#19d3f3",
            "dash": "solid"
           },
           "marker": {
            "symbol": "circle"
           },
           "mode": "lines",
           "name": "NO_2",
           "orientation": "v",
           "showlegend": true,
           "type": "scatter",
           "x": [
            1,
            2,
            3,
            4,
            5,
            6,
            7,
            8,
            9,
            10,
            11,
            12
           ],
           "xaxis": "x",
           "y": [
            -0.09735753496269735,
            -0.144356569798698,
            -0.26382055617289873,
            -0.36735054951817925,
            -0.6437311941277426,
            -0.4501195775660503,
            -0.25907229709771046,
            -0.44897511402613477,
            -0.05393496263614376,
            0.2460302033802139,
            0.0831329317392332,
            0.23008115840943125
           ],
           "yaxis": "y"
          },
          {
           "hovertemplate": "Pollutant=O_3<br>year=2010<br>Month=%{x}<br>Average Value=%{y}<extra></extra>",
           "legendgroup": "O_3",
           "line": {
            "color": "#FF6692",
            "dash": "solid"
           },
           "marker": {
            "symbol": "circle"
           },
           "mode": "lines",
           "name": "O_3",
           "orientation": "v",
           "showlegend": true,
           "type": "scatter",
           "x": [
            1,
            2,
            3,
            4,
            5,
            6,
            7,
            8,
            9,
            10,
            11,
            12
           ],
           "xaxis": "x",
           "y": [
            -0.28610931786622856,
            0.025984767856206,
            0.36776030910078394,
            0.7510323225816862,
            0.8659486934697029,
            0.6644326177046564,
            0.9294296284312572,
            0.783406961730123,
            0.20731242124377633,
            -0.2352051387551702,
            -0.3520341715378616,
            -0.6626526501567896
           ],
           "yaxis": "y"
          },
          {
           "hovertemplate": "Pollutant=PM10<br>year=2010<br>Month=%{x}<br>Average Value=%{y}<extra></extra>",
           "legendgroup": "PM10",
           "line": {
            "color": "#B6E880",
            "dash": "solid"
           },
           "marker": {
            "symbol": "circle"
           },
           "mode": "lines",
           "name": "PM10",
           "orientation": "v",
           "showlegend": true,
           "type": "scatter",
           "x": [
            1,
            2,
            3,
            4,
            5,
            6,
            7,
            8,
            9,
            10,
            11,
            12
           ],
           "xaxis": "x",
           "y": [
            -0.48318368507853376,
            -0.5316661650082705,
            -0.14135534289413873,
            -0.39201878125454137,
            -0.3529074773220908,
            -0.385340456038171,
            -0.05533787610917581,
            0.05152702384426314,
            -0.11444215149803429,
            -0.13732415382088548,
            -0.4207507669884077,
            -0.36949529411986365
           ],
           "yaxis": "y"
          },
          {
           "hovertemplate": "Pollutant=SO_2<br>year=2010<br>Month=%{x}<br>Average Value=%{y}<extra></extra>",
           "legendgroup": "SO_2",
           "line": {
            "color": "#FF97FF",
            "dash": "solid"
           },
           "marker": {
            "symbol": "circle"
           },
           "mode": "lines",
           "name": "SO_2",
           "orientation": "v",
           "showlegend": true,
           "type": "scatter",
           "x": [
            1,
            2,
            3,
            4,
            5,
            6,
            7,
            8,
            9,
            10,
            11,
            12
           ],
           "xaxis": "x",
           "y": [
            0.15537150312596706,
            0.15021441969010538,
            0.1815549197868143,
            -0.046184940846019984,
            -0.11788818516612988,
            -0.3894091035547253,
            -0.411066065813741,
            -0.4094405494584763,
            -0.3731317289404382,
            -0.1467845651897712,
            -0.03491916474957975,
            0.14409679241112924
           ],
           "yaxis": "y"
          },
          {
           "hovertemplate": "Pollutant=TCH<br>year=2010<br>Month=%{x}<br>Average Value=%{y}<extra></extra>",
           "legendgroup": "TCH",
           "line": {
            "color": "#FECB52",
            "dash": "solid"
           },
           "marker": {
            "symbol": "circle"
           },
           "mode": "lines",
           "name": "TCH",
           "orientation": "v",
           "showlegend": true,
           "type": "scatter",
           "x": [
            1,
            2,
            3,
            4,
            5,
            6,
            7,
            8,
            9,
            10,
            11,
            12
           ],
           "xaxis": "x",
           "y": [
            0.09625024686043446,
            0.14216869907987564,
            0.1826997023057417,
            0.08294274760752943,
            -0.20008161937802166,
            -0.3565760753431548,
            -0.29667164708213717,
            -0.260194977291892,
            -0.1478999792417268,
            -0.02215063141518454,
            -0.0031763803013209295,
            0.2857523728014648
           ],
           "yaxis": "y"
          },
          {
           "hovertemplate": "Pollutant=TOL<br>year=2010<br>Month=%{x}<br>Average Value=%{y}<extra></extra>",
           "legendgroup": "TOL",
           "line": {
            "color": "#636efa",
            "dash": "solid"
           },
           "marker": {
            "symbol": "circle"
           },
           "mode": "lines",
           "name": "TOL",
           "orientation": "v",
           "showlegend": true,
           "type": "scatter",
           "x": [
            1,
            2,
            3,
            4,
            5,
            6,
            7,
            8,
            9,
            10,
            11,
            12
           ],
           "xaxis": "x",
           "y": [
            -0.18772737893504093,
            -0.30614067809498197,
            -0.35421007220284645,
            -0.380223773242968,
            -0.42226319656211037,
            -0.38047997152941143,
            -0.3487392824411892,
            -0.3938789009202114,
            -0.2807241961260414,
            -0.20053347519004894,
            -0.2402450830348378,
            -0.26700168821861686
           ],
           "yaxis": "y"
          },
          {
           "hovertemplate": "Pollutant=MXY<br>year=2010<br>Month=%{x}<br>Average Value=%{y}<extra></extra>",
           "legendgroup": "MXY",
           "line": {
            "color": "#EF553B",
            "dash": "solid"
           },
           "marker": {
            "symbol": "circle"
           },
           "mode": "lines",
           "name": "MXY",
           "orientation": "v",
           "showlegend": true,
           "type": "scatter",
           "x": [
            1,
            2,
            3,
            4,
            5,
            6,
            7,
            8,
            9,
            10,
            11,
            12
           ],
           "xaxis": "x",
           "y": [
            -0.6363189738714108,
            -0.6792074657402528,
            -0.6849707154120996,
            -0.682301290116041,
            -0.7156219088403013,
            -0.669360721778361,
            null,
            null,
            null,
            null,
            null,
            null
           ],
           "yaxis": "y"
          },
          {
           "hovertemplate": "Pollutant=OXY<br>year=2010<br>Month=%{x}<br>Average Value=%{y}<extra></extra>",
           "legendgroup": "OXY",
           "line": {
            "color": "#00cc96",
            "dash": "solid"
           },
           "marker": {
            "symbol": "circle"
           },
           "mode": "lines",
           "name": "OXY",
           "orientation": "v",
           "showlegend": true,
           "type": "scatter",
           "x": [
            1,
            2,
            3,
            4,
            5,
            6,
            7,
            8,
            9,
            10,
            11,
            12
           ],
           "xaxis": "x",
           "y": [
            -0.5171004068111282,
            -0.5122741564833829,
            -0.5107868667374772,
            -0.5355749469832572,
            -0.5094766444538451,
            -0.5023147766948464,
            null,
            null,
            null,
            null,
            null,
            null
           ],
           "yaxis": "y"
          },
          {
           "hovertemplate": "Pollutant=PXY<br>year=2010<br>Month=%{x}<br>Average Value=%{y}<extra></extra>",
           "legendgroup": "PXY",
           "line": {
            "color": "#ab63fa",
            "dash": "solid"
           },
           "marker": {
            "symbol": "circle"
           },
           "mode": "lines",
           "name": "PXY",
           "orientation": "v",
           "showlegend": true,
           "type": "scatter",
           "x": [
            1,
            2,
            3,
            4,
            5,
            6,
            7,
            8,
            9,
            10,
            11,
            12
           ],
           "xaxis": "x",
           "y": [
            -0.45310248365802247,
            -0.504057185160469,
            -0.5856647878462246,
            -0.5977948739179099,
            -0.4808031579120664,
            -0.44096969271504133,
            null,
            null,
            null,
            null,
            null,
            null
           ],
           "yaxis": "y"
          },
          {
           "hovertemplate": "Pollutant=PM25<br>year=2010<br>Month=%{x}<br>Average Value=%{y}<extra></extra>",
           "legendgroup": "PM25",
           "line": {
            "color": "#FFA15A",
            "dash": "solid"
           },
           "marker": {
            "symbol": "circle"
           },
           "mode": "lines",
           "name": "PM25",
           "orientation": "v",
           "showlegend": true,
           "type": "scatter",
           "x": [
            1,
            2,
            3,
            4,
            5,
            6,
            7,
            8,
            9,
            10,
            11,
            12
           ],
           "xaxis": "x",
           "y": [
            -0.28016767016673,
            -0.38315925710633086,
            0.014460929413848658,
            -0.3152087453643187,
            -0.18871298006485093,
            -0.2899960205746529,
            0.036585063299204634,
            0.07189236985524826,
            -0.13844610902787807,
            -0.05446703983712579,
            -0.2256412039421562,
            -0.1890647059423588
           ],
           "yaxis": "y"
          },
          {
           "hovertemplate": "Pollutant=CH4<br>year=2010<br>Month=%{x}<br>Average Value=%{y}<extra></extra>",
           "legendgroup": "CH4",
           "line": {
            "color": "#19d3f3",
            "dash": "solid"
           },
           "marker": {
            "symbol": "circle"
           },
           "mode": "lines",
           "name": "CH4",
           "orientation": "v",
           "showlegend": true,
           "type": "scatter",
           "x": [
            1,
            2,
            3,
            4,
            5,
            6,
            7,
            8,
            9,
            10,
            11,
            12
           ],
           "xaxis": "x",
           "y": [
            null,
            null,
            null,
            null,
            null,
            null,
            null,
            null,
            null,
            null,
            null,
            null
           ],
           "yaxis": "y"
          },
          {
           "hovertemplate": "Pollutant=NO<br>year=2010<br>Month=%{x}<br>Average Value=%{y}<extra></extra>",
           "legendgroup": "NO",
           "line": {
            "color": "#FF6692",
            "dash": "solid"
           },
           "marker": {
            "symbol": "circle"
           },
           "mode": "lines",
           "name": "NO",
           "orientation": "v",
           "showlegend": true,
           "type": "scatter",
           "x": [
            1,
            2,
            3,
            4,
            5,
            6,
            7,
            8,
            9,
            10,
            11,
            12
           ],
           "xaxis": "x",
           "y": [
            null,
            null,
            null,
            null,
            null,
            null,
            null,
            null,
            null,
            null,
            null,
            null
           ],
           "yaxis": "y"
          }
         ],
         "name": "2010"
        },
        {
         "data": [
          {
           "hovertemplate": "Pollutant=BEN<br>year=2011<br>Month=%{x}<br>Average Value=%{y}<extra></extra>",
           "legendgroup": "BEN",
           "line": {
            "color": "#636efa",
            "dash": "solid"
           },
           "marker": {
            "symbol": "circle"
           },
           "mode": "lines",
           "name": "BEN",
           "orientation": "v",
           "showlegend": true,
           "type": "scatter",
           "x": [
            1,
            2,
            3,
            4,
            5,
            6,
            7,
            8,
            9,
            10,
            11,
            12
           ],
           "xaxis": "x",
           "y": [
            -0.04212492461646614,
            -0.06149335022640187,
            -0.24771485120077225,
            -0.3245842460304869,
            -0.3914535530762671,
            -0.3543071256630806,
            -0.4066125131622175,
            -0.39947808276191854,
            -0.23352297621894103,
            -0.17746830806868283,
            -0.1517941326745401,
            0.027588737470907426
           ],
           "yaxis": "y"
          },
          {
           "hovertemplate": "Pollutant=CO<br>year=2011<br>Month=%{x}<br>Average Value=%{y}<extra></extra>",
           "legendgroup": "CO",
           "line": {
            "color": "#EF553B",
            "dash": "solid"
           },
           "marker": {
            "symbol": "circle"
           },
           "mode": "lines",
           "name": "CO",
           "orientation": "v",
           "showlegend": true,
           "type": "scatter",
           "x": [
            1,
            2,
            3,
            4,
            5,
            6,
            7,
            8,
            9,
            10,
            11,
            12
           ],
           "xaxis": "x",
           "y": [
            -0.1228711624640063,
            -0.11325411977034244,
            -0.3819844666098258,
            -0.45009116684301276,
            -0.5668416414166607,
            -0.5199631535715106,
            -0.585695948273613,
            -0.59565736387705,
            -0.3973418708153091,
            -0.25286959851663654,
            -0.16723264741534558,
            0.07109930772783639
           ],
           "yaxis": "y"
          },
          {
           "hovertemplate": "Pollutant=EBE<br>year=2011<br>Month=%{x}<br>Average Value=%{y}<extra></extra>",
           "legendgroup": "EBE",
           "line": {
            "color": "#00cc96",
            "dash": "solid"
           },
           "marker": {
            "symbol": "circle"
           },
           "mode": "lines",
           "name": "EBE",
           "orientation": "v",
           "showlegend": true,
           "type": "scatter",
           "x": [
            1,
            2,
            3,
            4,
            5,
            6,
            7,
            8,
            9,
            10,
            11,
            12
           ],
           "xaxis": "x",
           "y": [
            -0.11194480149661008,
            -0.08138160805499633,
            -0.2814830198396968,
            -0.20569657526238203,
            -0.27890666523516283,
            -0.27038659529149406,
            -0.34765959932446017,
            -0.3319775029627046,
            -0.1744280865736293,
            -0.060360564069745076,
            -0.1516444450171673,
            -0.14087620048140329
           ],
           "yaxis": "y"
          },
          {
           "hovertemplate": "Pollutant=NMHC<br>year=2011<br>Month=%{x}<br>Average Value=%{y}<extra></extra>",
           "legendgroup": "NMHC",
           "line": {
            "color": "#ab63fa",
            "dash": "solid"
           },
           "marker": {
            "symbol": "circle"
           },
           "mode": "lines",
           "name": "NMHC",
           "orientation": "v",
           "showlegend": true,
           "type": "scatter",
           "x": [
            1,
            2,
            3,
            4,
            5,
            6,
            7,
            8,
            9,
            10,
            11,
            12
           ],
           "xaxis": "x",
           "y": [
            0.2000881507767614,
            0.2342619186691646,
            0.02443558241420972,
            0.07658192855259051,
            -0.027861159124258558,
            -0.11082222520800727,
            -0.20867000793131119,
            -0.1549296927904059,
            -0.05927868076126505,
            -0.046771280350406126,
            0.08479208489587928,
            0.5038387500560342
           ],
           "yaxis": "y"
          },
          {
           "hovertemplate": "Pollutant=NOx<br>year=2011<br>Month=%{x}<br>Average Value=%{y}<extra></extra>",
           "legendgroup": "NOx",
           "line": {
            "color": "#FFA15A",
            "dash": "solid"
           },
           "marker": {
            "symbol": "circle"
           },
           "mode": "lines",
           "name": "NOx",
           "orientation": "v",
           "showlegend": true,
           "type": "scatter",
           "x": [
            1,
            2,
            3,
            4,
            5,
            6,
            7,
            8,
            9,
            10,
            11,
            12
           ],
           "xaxis": "x",
           "y": [
            null,
            null,
            null,
            null,
            null,
            null,
            null,
            null,
            null,
            null,
            null,
            null
           ],
           "yaxis": "y"
          },
          {
           "hovertemplate": "Pollutant=NO_2<br>year=2011<br>Month=%{x}<br>Average Value=%{y}<extra></extra>",
           "legendgroup": "NO_2",
           "line": {
            "color": "#19d3f3",
            "dash": "solid"
           },
           "marker": {
            "symbol": "circle"
           },
           "mode": "lines",
           "name": "NO_2",
           "orientation": "v",
           "showlegend": true,
           "type": "scatter",
           "x": [
            1,
            2,
            3,
            4,
            5,
            6,
            7,
            8,
            9,
            10,
            11,
            12
           ],
           "xaxis": "x",
           "y": [
            0.14924683105211906,
            0.32103259285611335,
            -0.281245853491382,
            -0.2996678094439613,
            -0.40303946397416196,
            -0.3884135699964199,
            -0.5811415308287898,
            -0.4764389684236437,
            -0.01092676760045022,
            -0.006161478364188772,
            -0.08214290139151542,
            0.15023306438867995
           ],
           "yaxis": "y"
          },
          {
           "hovertemplate": "Pollutant=O_3<br>year=2011<br>Month=%{x}<br>Average Value=%{y}<extra></extra>",
           "legendgroup": "O_3",
           "line": {
            "color": "#FF6692",
            "dash": "solid"
           },
           "marker": {
            "symbol": "circle"
           },
           "mode": "lines",
           "name": "O_3",
           "orientation": "v",
           "showlegend": true,
           "type": "scatter",
           "x": [
            1,
            2,
            3,
            4,
            5,
            6,
            7,
            8,
            9,
            10,
            11,
            12
           ],
           "xaxis": "x",
           "y": [
            -0.6109012241920613,
            -0.3438035497462203,
            0.31977985155990407,
            0.6600206196660278,
            0.6448418028568984,
            0.8482464744199053,
            0.9592888469740535,
            0.7684505115264182,
            0.3479141180755003,
            -0.19157425036217704,
            -0.6066627490151748,
            -0.7694680448809109
           ],
           "yaxis": "y"
          },
          {
           "hovertemplate": "Pollutant=PM10<br>year=2011<br>Month=%{x}<br>Average Value=%{y}<extra></extra>",
           "legendgroup": "PM10",
           "line": {
            "color": "#B6E880",
            "dash": "solid"
           },
           "marker": {
            "symbol": "circle"
           },
           "mode": "lines",
           "name": "PM10",
           "orientation": "v",
           "showlegend": true,
           "type": "scatter",
           "x": [
            1,
            2,
            3,
            4,
            5,
            6,
            7,
            8,
            9,
            10,
            11,
            12
           ],
           "xaxis": "x",
           "y": [
            -0.3401946064596027,
            -0.2018536439572489,
            -0.3900540518752679,
            -0.06418271134229851,
            -0.33840465523818347,
            -0.19599147976175244,
            -0.2696283691789535,
            -0.13965288562063236,
            -0.06694838759173473,
            -0.008823529591715094,
            -0.3483250679524719,
            -0.23469967004067097
           ],
           "yaxis": "y"
          },
          {
           "hovertemplate": "Pollutant=SO_2<br>year=2011<br>Month=%{x}<br>Average Value=%{y}<extra></extra>",
           "legendgroup": "SO_2",
           "line": {
            "color": "#FF97FF",
            "dash": "solid"
           },
           "marker": {
            "symbol": "circle"
           },
           "mode": "lines",
           "name": "SO_2",
           "orientation": "v",
           "showlegend": true,
           "type": "scatter",
           "x": [
            1,
            2,
            3,
            4,
            5,
            6,
            7,
            8,
            9,
            10,
            11,
            12
           ],
           "xaxis": "x",
           "y": [
            0.12447869133403512,
            0.03596560210333798,
            -0.2639384254034702,
            -0.4384081484540445,
            -0.49426145707557223,
            -0.48391719000511424,
            -0.5452508802326989,
            -0.5540906668717305,
            -0.5983461173611728,
            -0.7444461814639989,
            -0.5520306938528873,
            -0.3654987367445783
           ],
           "yaxis": "y"
          },
          {
           "hovertemplate": "Pollutant=TCH<br>year=2011<br>Month=%{x}<br>Average Value=%{y}<extra></extra>",
           "legendgroup": "TCH",
           "line": {
            "color": "#FECB52",
            "dash": "solid"
           },
           "marker": {
            "symbol": "circle"
           },
           "mode": "lines",
           "name": "TCH",
           "orientation": "v",
           "showlegend": true,
           "type": "scatter",
           "x": [
            1,
            2,
            3,
            4,
            5,
            6,
            7,
            8,
            9,
            10,
            11,
            12
           ],
           "xaxis": "x",
           "y": [
            0.21789446607902432,
            -0.13571071133687262,
            -0.21167685228323066,
            -0.052106012261086666,
            -0.08171538470817671,
            -0.2273139825572056,
            -0.3159766024569752,
            -0.1663643891998091,
            0.005643896035182885,
            -0.18605409023210784,
            0.16772839502173978,
            0.8126005029093355
           ],
           "yaxis": "y"
          },
          {
           "hovertemplate": "Pollutant=TOL<br>year=2011<br>Month=%{x}<br>Average Value=%{y}<extra></extra>",
           "legendgroup": "TOL",
           "line": {
            "color": "#636efa",
            "dash": "solid"
           },
           "marker": {
            "symbol": "circle"
           },
           "mode": "lines",
           "name": "TOL",
           "orientation": "v",
           "showlegend": true,
           "type": "scatter",
           "x": [
            1,
            2,
            3,
            4,
            5,
            6,
            7,
            8,
            9,
            10,
            11,
            12
           ],
           "xaxis": "x",
           "y": [
            -0.23826618322819815,
            -0.2273388751047009,
            -0.40922827423823815,
            -0.34001246650170375,
            -0.3680448090190396,
            -0.3546391774650895,
            -0.41905094882391886,
            -0.3745831919711485,
            -0.1958702586724799,
            -0.10499388819534552,
            -0.18302759312852698,
            -0.05153735119023252
           ],
           "yaxis": "y"
          },
          {
           "hovertemplate": "Pollutant=MXY<br>year=2011<br>Month=%{x}<br>Average Value=%{y}<extra></extra>",
           "legendgroup": "MXY",
           "line": {
            "color": "#EF553B",
            "dash": "solid"
           },
           "marker": {
            "symbol": "circle"
           },
           "mode": "lines",
           "name": "MXY",
           "orientation": "v",
           "showlegend": true,
           "type": "scatter",
           "x": [
            1,
            2,
            3,
            4,
            5,
            6,
            7,
            8,
            9,
            10,
            11,
            12
           ],
           "xaxis": "x",
           "y": [
            null,
            null,
            null,
            null,
            null,
            null,
            null,
            null,
            null,
            null,
            null,
            null
           ],
           "yaxis": "y"
          },
          {
           "hovertemplate": "Pollutant=OXY<br>year=2011<br>Month=%{x}<br>Average Value=%{y}<extra></extra>",
           "legendgroup": "OXY",
           "line": {
            "color": "#00cc96",
            "dash": "solid"
           },
           "marker": {
            "symbol": "circle"
           },
           "mode": "lines",
           "name": "OXY",
           "orientation": "v",
           "showlegend": true,
           "type": "scatter",
           "x": [
            1,
            2,
            3,
            4,
            5,
            6,
            7,
            8,
            9,
            10,
            11,
            12
           ],
           "xaxis": "x",
           "y": [
            null,
            null,
            null,
            null,
            null,
            null,
            null,
            null,
            null,
            null,
            null,
            null
           ],
           "yaxis": "y"
          },
          {
           "hovertemplate": "Pollutant=PXY<br>year=2011<br>Month=%{x}<br>Average Value=%{y}<extra></extra>",
           "legendgroup": "PXY",
           "line": {
            "color": "#ab63fa",
            "dash": "solid"
           },
           "marker": {
            "symbol": "circle"
           },
           "mode": "lines",
           "name": "PXY",
           "orientation": "v",
           "showlegend": true,
           "type": "scatter",
           "x": [
            1,
            2,
            3,
            4,
            5,
            6,
            7,
            8,
            9,
            10,
            11,
            12
           ],
           "xaxis": "x",
           "y": [
            null,
            null,
            null,
            null,
            null,
            null,
            null,
            null,
            null,
            null,
            null,
            null
           ],
           "yaxis": "y"
          },
          {
           "hovertemplate": "Pollutant=PM25<br>year=2011<br>Month=%{x}<br>Average Value=%{y}<extra></extra>",
           "legendgroup": "PM25",
           "line": {
            "color": "#FFA15A",
            "dash": "solid"
           },
           "marker": {
            "symbol": "circle"
           },
           "mode": "lines",
           "name": "PM25",
           "orientation": "v",
           "showlegend": true,
           "type": "scatter",
           "x": [
            1,
            2,
            3,
            4,
            5,
            6,
            7,
            8,
            9,
            10,
            11,
            12
           ],
           "xaxis": "x",
           "y": [
            -0.1413238517395598,
            -0.048742617760845854,
            -0.3030057701469842,
            -0.02388303796091309,
            -0.23401621506818981,
            -0.12802451494547346,
            -0.24714191646885475,
            -0.10028587292716394,
            -0.0926046303453783,
            -0.05241509435099586,
            -0.15626926177395267,
            -0.017696318268504593
           ],
           "yaxis": "y"
          },
          {
           "hovertemplate": "Pollutant=CH4<br>year=2011<br>Month=%{x}<br>Average Value=%{y}<extra></extra>",
           "legendgroup": "CH4",
           "line": {
            "color": "#19d3f3",
            "dash": "solid"
           },
           "marker": {
            "symbol": "circle"
           },
           "mode": "lines",
           "name": "CH4",
           "orientation": "v",
           "showlegend": true,
           "type": "scatter",
           "x": [
            1,
            2,
            3,
            4,
            5,
            6,
            7,
            8,
            9,
            10,
            11,
            12
           ],
           "xaxis": "x",
           "y": [
            null,
            null,
            null,
            null,
            null,
            null,
            null,
            null,
            null,
            null,
            null,
            null
           ],
           "yaxis": "y"
          },
          {
           "hovertemplate": "Pollutant=NO<br>year=2011<br>Month=%{x}<br>Average Value=%{y}<extra></extra>",
           "legendgroup": "NO",
           "line": {
            "color": "#FF6692",
            "dash": "solid"
           },
           "marker": {
            "symbol": "circle"
           },
           "mode": "lines",
           "name": "NO",
           "orientation": "v",
           "showlegend": true,
           "type": "scatter",
           "x": [
            1,
            2,
            3,
            4,
            5,
            6,
            7,
            8,
            9,
            10,
            11,
            12
           ],
           "xaxis": "x",
           "y": [
            0.5210161775426244,
            0.6043110348591844,
            -0.15428170596332494,
            -0.16188053959736293,
            -0.249429206003589,
            -0.2510914638495903,
            -0.3031149273451401,
            -0.2735721841125502,
            -0.03423315080861058,
            0.17562172007643062,
            0.32413372092032416,
            0.9479581681013075
           ],
           "yaxis": "y"
          }
         ],
         "name": "2011"
        },
        {
         "data": [
          {
           "hovertemplate": "Pollutant=BEN<br>year=2012<br>Month=%{x}<br>Average Value=%{y}<extra></extra>",
           "legendgroup": "BEN",
           "line": {
            "color": "#636efa",
            "dash": "solid"
           },
           "marker": {
            "symbol": "circle"
           },
           "mode": "lines",
           "name": "BEN",
           "orientation": "v",
           "showlegend": true,
           "type": "scatter",
           "x": [
            1,
            2,
            3,
            4,
            5,
            6,
            7,
            8,
            9,
            10,
            11,
            12
           ],
           "xaxis": "x",
           "y": [
            0.08017644909917429,
            -0.1585429297169265,
            -0.28158778986158844,
            -0.40535626351979465,
            -0.3692112201562338,
            -0.36347763834804325,
            -0.353371606360991,
            -0.3254578247468408,
            -0.28382270060827264,
            -0.09977368889928753,
            -0.15444250859217276,
            0.02038945957313964
           ],
           "yaxis": "y"
          },
          {
           "hovertemplate": "Pollutant=CO<br>year=2012<br>Month=%{x}<br>Average Value=%{y}<extra></extra>",
           "legendgroup": "CO",
           "line": {
            "color": "#EF553B",
            "dash": "solid"
           },
           "marker": {
            "symbol": "circle"
           },
           "mode": "lines",
           "name": "CO",
           "orientation": "v",
           "showlegend": true,
           "type": "scatter",
           "x": [
            1,
            2,
            3,
            4,
            5,
            6,
            7,
            8,
            9,
            10,
            11,
            12
           ],
           "xaxis": "x",
           "y": [
            0.12800197123550347,
            -0.17374385324537994,
            -0.3128314293922175,
            -0.4881078673738913,
            -0.4868464750941551,
            -0.5854913376369759,
            -0.574860297182995,
            -0.542582470987972,
            -0.4765534105535571,
            -0.35685093444445143,
            -0.3583481128606246,
            -0.15547803216309083
           ],
           "yaxis": "y"
          },
          {
           "hovertemplate": "Pollutant=EBE<br>year=2012<br>Month=%{x}<br>Average Value=%{y}<extra></extra>",
           "legendgroup": "EBE",
           "line": {
            "color": "#00cc96",
            "dash": "solid"
           },
           "marker": {
            "symbol": "circle"
           },
           "mode": "lines",
           "name": "EBE",
           "orientation": "v",
           "showlegend": true,
           "type": "scatter",
           "x": [
            1,
            2,
            3,
            4,
            5,
            6,
            7,
            8,
            9,
            10,
            11,
            12
           ],
           "xaxis": "x",
           "y": [
            -0.11625344323108087,
            -0.2193980247551166,
            -0.2311870991680959,
            -0.2549852320288219,
            -0.2574779778090166,
            -0.29781820684846455,
            -0.24030866467786932,
            -0.18437875221297775,
            -0.19195009066057525,
            -0.09714999708320526,
            -0.23538988325634164,
            -0.22876811633058394
           ],
           "yaxis": "y"
          },
          {
           "hovertemplate": "Pollutant=NMHC<br>year=2012<br>Month=%{x}<br>Average Value=%{y}<extra></extra>",
           "legendgroup": "NMHC",
           "line": {
            "color": "#ab63fa",
            "dash": "solid"
           },
           "marker": {
            "symbol": "circle"
           },
           "mode": "lines",
           "name": "NMHC",
           "orientation": "v",
           "showlegend": true,
           "type": "scatter",
           "x": [
            1,
            2,
            3,
            4,
            5,
            6,
            7,
            8,
            9,
            10,
            11,
            12
           ],
           "xaxis": "x",
           "y": [
            0.44825742256236406,
            0.10459146985643472,
            -0.06878569346636368,
            -0.46305244301431636,
            -0.4460901875067203,
            -0.18315885774358728,
            -0.07812464858528922,
            0.0013019959727573595,
            -0.06281972438909786,
            0.10512080973662154,
            0.06112937531957072,
            0.263577291428068
           ],
           "yaxis": "y"
          },
          {
           "hovertemplate": "Pollutant=NOx<br>year=2012<br>Month=%{x}<br>Average Value=%{y}<extra></extra>",
           "legendgroup": "NOx",
           "line": {
            "color": "#FFA15A",
            "dash": "solid"
           },
           "marker": {
            "symbol": "circle"
           },
           "mode": "lines",
           "name": "NOx",
           "orientation": "v",
           "showlegend": true,
           "type": "scatter",
           "x": [
            1,
            2,
            3,
            4,
            5,
            6,
            7,
            8,
            9,
            10,
            11,
            12
           ],
           "xaxis": "x",
           "y": [
            null,
            null,
            null,
            null,
            null,
            null,
            null,
            null,
            null,
            null,
            null,
            null
           ],
           "yaxis": "y"
          },
          {
           "hovertemplate": "Pollutant=NO_2<br>year=2012<br>Month=%{x}<br>Average Value=%{y}<extra></extra>",
           "legendgroup": "NO_2",
           "line": {
            "color": "#19d3f3",
            "dash": "solid"
           },
           "marker": {
            "symbol": "circle"
           },
           "mode": "lines",
           "name": "NO_2",
           "orientation": "v",
           "showlegend": true,
           "type": "scatter",
           "x": [
            1,
            2,
            3,
            4,
            5,
            6,
            7,
            8,
            9,
            10,
            11,
            12
           ],
           "xaxis": "x",
           "y": [
            0.24340042450796082,
            -0.07037700202231947,
            -0.21577361989481275,
            -0.6954269013738222,
            -0.5218368617499491,
            -0.6862648230837354,
            -0.6292424757144172,
            -0.6199906988309734,
            -0.48787758617238647,
            -0.1265845357122529,
            -0.29079264500282226,
            -0.012574929207187646
           ],
           "yaxis": "y"
          },
          {
           "hovertemplate": "Pollutant=O_3<br>year=2012<br>Month=%{x}<br>Average Value=%{y}<extra></extra>",
           "legendgroup": "O_3",
           "line": {
            "color": "#FF6692",
            "dash": "solid"
           },
           "marker": {
            "symbol": "circle"
           },
           "mode": "lines",
           "name": "O_3",
           "orientation": "v",
           "showlegend": true,
           "type": "scatter",
           "x": [
            1,
            2,
            3,
            4,
            5,
            6,
            7,
            8,
            9,
            10,
            11,
            12
           ],
           "xaxis": "x",
           "y": [
            -0.8124878313716747,
            -0.18881492728221597,
            0.10717971640062526,
            0.5443739091960964,
            0.4506948619503429,
            0.5787928768592637,
            0.820002322933677,
            0.45597332525159423,
            0.27529025764798754,
            -0.4457236767325884,
            -0.5177141257903866,
            -0.7277883172542352
           ],
           "yaxis": "y"
          },
          {
           "hovertemplate": "Pollutant=PM10<br>year=2012<br>Month=%{x}<br>Average Value=%{y}<extra></extra>",
           "legendgroup": "PM10",
           "line": {
            "color": "#B6E880",
            "dash": "solid"
           },
           "marker": {
            "symbol": "circle"
           },
           "mode": "lines",
           "name": "PM10",
           "orientation": "v",
           "showlegend": true,
           "type": "scatter",
           "x": [
            1,
            2,
            3,
            4,
            5,
            6,
            7,
            8,
            9,
            10,
            11,
            12
           ],
           "xaxis": "x",
           "y": [
            -0.30768932704581015,
            -0.49304894269990496,
            -0.25821841266683204,
            -0.5867069734787844,
            -0.253714910319608,
            0.3847835432926923,
            0.07219218422480533,
            0.5115176604004225,
            -0.23874617299335402,
            -0.34113029857376553,
            -0.47151248190900374,
            -0.507973229944101
           ],
           "yaxis": "y"
          },
          {
           "hovertemplate": "Pollutant=SO_2<br>year=2012<br>Month=%{x}<br>Average Value=%{y}<extra></extra>",
           "legendgroup": "SO_2",
           "line": {
            "color": "#FF97FF",
            "dash": "solid"
           },
           "marker": {
            "symbol": "circle"
           },
           "mode": "lines",
           "name": "SO_2",
           "orientation": "v",
           "showlegend": true,
           "type": "scatter",
           "x": [
            1,
            2,
            3,
            4,
            5,
            6,
            7,
            8,
            9,
            10,
            11,
            12
           ],
           "xaxis": "x",
           "y": [
            -0.1461572703254234,
            -0.2354269867533654,
            -0.5155097451432719,
            -0.8658504485347952,
            -0.8767572180887953,
            -0.8757066381958339,
            -0.8675592771340486,
            -0.9040202435502388,
            -0.9157971093938486,
            -0.8377254859985361,
            -0.6644155297185445,
            -0.5473019413774405
           ],
           "yaxis": "y"
          },
          {
           "hovertemplate": "Pollutant=TCH<br>year=2012<br>Month=%{x}<br>Average Value=%{y}<extra></extra>",
           "legendgroup": "TCH",
           "line": {
            "color": "#FECB52",
            "dash": "solid"
           },
           "marker": {
            "symbol": "circle"
           },
           "mode": "lines",
           "name": "TCH",
           "orientation": "v",
           "showlegend": true,
           "type": "scatter",
           "x": [
            1,
            2,
            3,
            4,
            5,
            6,
            7,
            8,
            9,
            10,
            11,
            12
           ],
           "xaxis": "x",
           "y": [
            0.6999733985754257,
            -0.19350279382916064,
            -0.5016247063688966,
            -0.677947283520389,
            -0.6338816488348131,
            -0.6296197131365734,
            -0.5266382081296029,
            -0.3586929210643559,
            -0.34621307911498284,
            -0.08261512579504128,
            -0.05327109999023228,
            0.3452866195259739
           ],
           "yaxis": "y"
          },
          {
           "hovertemplate": "Pollutant=TOL<br>year=2012<br>Month=%{x}<br>Average Value=%{y}<extra></extra>",
           "legendgroup": "TOL",
           "line": {
            "color": "#636efa",
            "dash": "solid"
           },
           "marker": {
            "symbol": "circle"
           },
           "mode": "lines",
           "name": "TOL",
           "orientation": "v",
           "showlegend": true,
           "type": "scatter",
           "x": [
            1,
            2,
            3,
            4,
            5,
            6,
            7,
            8,
            9,
            10,
            11,
            12
           ],
           "xaxis": "x",
           "y": [
            -0.03732237885780317,
            -0.31760510936317277,
            -0.3548251156331952,
            -0.4702813246644486,
            -0.37517256178665953,
            -0.38441040598975407,
            -0.3596190759439048,
            -0.3212027058762148,
            -0.32450583327957067,
            -0.10394488847387814,
            -0.25648184897439363,
            -0.1778188751680601
           ],
           "yaxis": "y"
          },
          {
           "hovertemplate": "Pollutant=MXY<br>year=2012<br>Month=%{x}<br>Average Value=%{y}<extra></extra>",
           "legendgroup": "MXY",
           "line": {
            "color": "#EF553B",
            "dash": "solid"
           },
           "marker": {
            "symbol": "circle"
           },
           "mode": "lines",
           "name": "MXY",
           "orientation": "v",
           "showlegend": true,
           "type": "scatter",
           "x": [
            1,
            2,
            3,
            4,
            5,
            6,
            7,
            8,
            9,
            10,
            11,
            12
           ],
           "xaxis": "x",
           "y": [
            null,
            null,
            null,
            null,
            null,
            null,
            null,
            null,
            null,
            null,
            null,
            null
           ],
           "yaxis": "y"
          },
          {
           "hovertemplate": "Pollutant=OXY<br>year=2012<br>Month=%{x}<br>Average Value=%{y}<extra></extra>",
           "legendgroup": "OXY",
           "line": {
            "color": "#00cc96",
            "dash": "solid"
           },
           "marker": {
            "symbol": "circle"
           },
           "mode": "lines",
           "name": "OXY",
           "orientation": "v",
           "showlegend": true,
           "type": "scatter",
           "x": [
            1,
            2,
            3,
            4,
            5,
            6,
            7,
            8,
            9,
            10,
            11,
            12
           ],
           "xaxis": "x",
           "y": [
            null,
            null,
            null,
            null,
            null,
            null,
            null,
            null,
            null,
            null,
            null,
            null
           ],
           "yaxis": "y"
          },
          {
           "hovertemplate": "Pollutant=PXY<br>year=2012<br>Month=%{x}<br>Average Value=%{y}<extra></extra>",
           "legendgroup": "PXY",
           "line": {
            "color": "#ab63fa",
            "dash": "solid"
           },
           "marker": {
            "symbol": "circle"
           },
           "mode": "lines",
           "name": "PXY",
           "orientation": "v",
           "showlegend": true,
           "type": "scatter",
           "x": [
            1,
            2,
            3,
            4,
            5,
            6,
            7,
            8,
            9,
            10,
            11,
            12
           ],
           "xaxis": "x",
           "y": [
            null,
            null,
            null,
            null,
            null,
            null,
            null,
            null,
            null,
            null,
            null,
            null
           ],
           "yaxis": "y"
          },
          {
           "hovertemplate": "Pollutant=PM25<br>year=2012<br>Month=%{x}<br>Average Value=%{y}<extra></extra>",
           "legendgroup": "PM25",
           "line": {
            "color": "#FFA15A",
            "dash": "solid"
           },
           "marker": {
            "symbol": "circle"
           },
           "mode": "lines",
           "name": "PM25",
           "orientation": "v",
           "showlegend": true,
           "type": "scatter",
           "x": [
            1,
            2,
            3,
            4,
            5,
            6,
            7,
            8,
            9,
            10,
            11,
            12
           ],
           "xaxis": "x",
           "y": [
            0.0536766559515616,
            -0.28798527617515723,
            -0.26064511506273036,
            -0.5373322109823484,
            -0.2643874063410806,
            -0.023006901947917033,
            -0.10516123563515922,
            0.1381522743993198,
            -0.15633235466573336,
            -0.19689025291746254,
            -0.3320549434189626,
            -0.11036241376256284
           ],
           "yaxis": "y"
          },
          {
           "hovertemplate": "Pollutant=CH4<br>year=2012<br>Month=%{x}<br>Average Value=%{y}<extra></extra>",
           "legendgroup": "CH4",
           "line": {
            "color": "#19d3f3",
            "dash": "solid"
           },
           "marker": {
            "symbol": "circle"
           },
           "mode": "lines",
           "name": "CH4",
           "orientation": "v",
           "showlegend": true,
           "type": "scatter",
           "x": [
            1,
            2,
            3,
            4,
            5,
            6,
            7,
            8,
            9,
            10,
            11,
            12
           ],
           "xaxis": "x",
           "y": [
            null,
            null,
            null,
            null,
            null,
            null,
            null,
            null,
            null,
            null,
            null,
            null
           ],
           "yaxis": "y"
          },
          {
           "hovertemplate": "Pollutant=NO<br>year=2012<br>Month=%{x}<br>Average Value=%{y}<extra></extra>",
           "legendgroup": "NO",
           "line": {
            "color": "#FF6692",
            "dash": "solid"
           },
           "marker": {
            "symbol": "circle"
           },
           "mode": "lines",
           "name": "NO",
           "orientation": "v",
           "showlegend": true,
           "type": "scatter",
           "x": [
            1,
            2,
            3,
            4,
            5,
            6,
            7,
            8,
            9,
            10,
            11,
            12
           ],
           "xaxis": "x",
           "y": [
            1.0363077377674894,
            0.21815367043020964,
            -0.06738002325892198,
            -0.2904769870448841,
            -0.23496979497241832,
            -0.29952138662901506,
            -0.29927562851901757,
            -0.2546242890963551,
            -0.1874643142499035,
            0.1084341532124641,
            0.03621556738765927,
            0.5307949094183088
           ],
           "yaxis": "y"
          }
         ],
         "name": "2012"
        },
        {
         "data": [
          {
           "hovertemplate": "Pollutant=BEN<br>year=2013<br>Month=%{x}<br>Average Value=%{y}<extra></extra>",
           "legendgroup": "BEN",
           "line": {
            "color": "#636efa",
            "dash": "solid"
           },
           "marker": {
            "symbol": "circle"
           },
           "mode": "lines",
           "name": "BEN",
           "orientation": "v",
           "showlegend": true,
           "type": "scatter",
           "x": [
            1,
            2,
            3,
            4,
            5,
            6,
            7,
            8,
            9,
            10,
            11,
            12
           ],
           "xaxis": "x",
           "y": [
            -0.04183549129159024,
            -0.19095131232593568,
            -0.3462711732696433,
            -0.38467804288854,
            -0.41060162566912967,
            -0.4195826709599057,
            -0.38200122808932874,
            -0.4132662517183652,
            -0.30599678034390687,
            -0.22641962803630494,
            -0.1938584497238183,
            -0.06950372340777668
           ],
           "yaxis": "y"
          },
          {
           "hovertemplate": "Pollutant=CO<br>year=2013<br>Month=%{x}<br>Average Value=%{y}<extra></extra>",
           "legendgroup": "CO",
           "line": {
            "color": "#EF553B",
            "dash": "solid"
           },
           "marker": {
            "symbol": "circle"
           },
           "mode": "lines",
           "name": "CO",
           "orientation": "v",
           "showlegend": true,
           "type": "scatter",
           "x": [
            1,
            2,
            3,
            4,
            5,
            6,
            7,
            8,
            9,
            10,
            11,
            12
           ],
           "xaxis": "x",
           "y": [
            -0.213112377118661,
            -0.32021034795668846,
            -0.4553423931323981,
            -0.49104464619599947,
            -0.5363936308062233,
            -0.5896293626379431,
            -0.572629785916761,
            -0.596668875958082,
            -0.48530036153720196,
            -0.3744994800678568,
            -0.3167230618586249,
            -0.00820722544401855
           ],
           "yaxis": "y"
          },
          {
           "hovertemplate": "Pollutant=EBE<br>year=2013<br>Month=%{x}<br>Average Value=%{y}<extra></extra>",
           "legendgroup": "EBE",
           "line": {
            "color": "#00cc96",
            "dash": "solid"
           },
           "marker": {
            "symbol": "circle"
           },
           "mode": "lines",
           "name": "EBE",
           "orientation": "v",
           "showlegend": true,
           "type": "scatter",
           "x": [
            1,
            2,
            3,
            4,
            5,
            6,
            7,
            8,
            9,
            10,
            11,
            12
           ],
           "xaxis": "x",
           "y": [
            -0.2230077649432703,
            -0.2950003744058305,
            -0.3228927350117712,
            -0.3191537303150659,
            -0.31180527735014935,
            -0.309440144221432,
            -0.26995012879469116,
            -0.27707560520017693,
            -0.2025490503512321,
            -0.22413407007857525,
            -0.3055543779935986,
            -0.27758142151143017
           ],
           "yaxis": "y"
          },
          {
           "hovertemplate": "Pollutant=NMHC<br>year=2013<br>Month=%{x}<br>Average Value=%{y}<extra></extra>",
           "legendgroup": "NMHC",
           "line": {
            "color": "#ab63fa",
            "dash": "solid"
           },
           "marker": {
            "symbol": "circle"
           },
           "mode": "lines",
           "name": "NMHC",
           "orientation": "v",
           "showlegend": true,
           "type": "scatter",
           "x": [
            1,
            2,
            3,
            4,
            5,
            6,
            7,
            8,
            9,
            10,
            11,
            12
           ],
           "xaxis": "x",
           "y": [
            0.2327151272479051,
            0.13353856976172188,
            -0.02723684585287812,
            -0.01799979973045289,
            -0.035252545032596574,
            -0.20415526423260028,
            -0.16771819808765911,
            -0.20009506125901516,
            -0.0695200547978486,
            0.12327131432568156,
            0.17916208347802606,
            0.4565096074047869
           ],
           "yaxis": "y"
          },
          {
           "hovertemplate": "Pollutant=NOx<br>year=2013<br>Month=%{x}<br>Average Value=%{y}<extra></extra>",
           "legendgroup": "NOx",
           "line": {
            "color": "#FFA15A",
            "dash": "solid"
           },
           "marker": {
            "symbol": "circle"
           },
           "mode": "lines",
           "name": "NOx",
           "orientation": "v",
           "showlegend": true,
           "type": "scatter",
           "x": [
            1,
            2,
            3,
            4,
            5,
            6,
            7,
            8,
            9,
            10,
            11,
            12
           ],
           "xaxis": "x",
           "y": [
            null,
            null,
            null,
            null,
            null,
            null,
            null,
            null,
            null,
            null,
            null,
            null
           ],
           "yaxis": "y"
          },
          {
           "hovertemplate": "Pollutant=NO_2<br>year=2013<br>Month=%{x}<br>Average Value=%{y}<extra></extra>",
           "legendgroup": "NO_2",
           "line": {
            "color": "#19d3f3",
            "dash": "solid"
           },
           "marker": {
            "symbol": "circle"
           },
           "mode": "lines",
           "name": "NO_2",
           "orientation": "v",
           "showlegend": true,
           "type": "scatter",
           "x": [
            1,
            2,
            3,
            4,
            5,
            6,
            7,
            8,
            9,
            10,
            11,
            12
           ],
           "xaxis": "x",
           "y": [
            -0.1797388764131828,
            -0.35109209138084635,
            -0.6343950149783174,
            -0.6902062310444682,
            -0.7175261707085652,
            -0.765735795567039,
            -0.6261797578928413,
            -0.7219815114656347,
            -0.3791755054903702,
            -0.2652892623599249,
            -0.3199457464973651,
            0.17908754672986207
           ],
           "yaxis": "y"
          },
          {
           "hovertemplate": "Pollutant=O_3<br>year=2013<br>Month=%{x}<br>Average Value=%{y}<extra></extra>",
           "legendgroup": "O_3",
           "line": {
            "color": "#FF6692",
            "dash": "solid"
           },
           "marker": {
            "symbol": "circle"
           },
           "mode": "lines",
           "name": "O_3",
           "orientation": "v",
           "showlegend": true,
           "type": "scatter",
           "x": [
            1,
            2,
            3,
            4,
            5,
            6,
            7,
            8,
            9,
            10,
            11,
            12
           ],
           "xaxis": "x",
           "y": [
            -0.4297509152355803,
            -0.13906771188872322,
            0.27797686560586443,
            0.6250628339488242,
            0.8264818039762185,
            1.1296526057785732,
            1.4139777757898442,
            1.1235056225725684,
            0.4504304742156345,
            -0.35293367094625827,
            -0.34302320332943004,
            -0.5996640191461032
           ],
           "yaxis": "y"
          },
          {
           "hovertemplate": "Pollutant=PM10<br>year=2013<br>Month=%{x}<br>Average Value=%{y}<extra></extra>",
           "legendgroup": "PM10",
           "line": {
            "color": "#B6E880",
            "dash": "solid"
           },
           "marker": {
            "symbol": "circle"
           },
           "mode": "lines",
           "name": "PM10",
           "orientation": "v",
           "showlegend": true,
           "type": "scatter",
           "x": [
            1,
            2,
            3,
            4,
            5,
            6,
            7,
            8,
            9,
            10,
            11,
            12
           ],
           "xaxis": "x",
           "y": [
            -0.5683070191350091,
            -0.6696776272564242,
            -0.6614421857480065,
            -0.4771202331930348,
            -0.5690045460918833,
            -0.27654339787791066,
            0.0529606919124907,
            -0.021873846911223023,
            -0.26712626568503345,
            -0.3777951441192784,
            -0.5723788224504952,
            -0.5028794350828382
           ],
           "yaxis": "y"
          },
          {
           "hovertemplate": "Pollutant=SO_2<br>year=2013<br>Month=%{x}<br>Average Value=%{y}<extra></extra>",
           "legendgroup": "SO_2",
           "line": {
            "color": "#FF97FF",
            "dash": "solid"
           },
           "marker": {
            "symbol": "circle"
           },
           "mode": "lines",
           "name": "SO_2",
           "orientation": "v",
           "showlegend": true,
           "type": "scatter",
           "x": [
            1,
            2,
            3,
            4,
            5,
            6,
            7,
            8,
            9,
            10,
            11,
            12
           ],
           "xaxis": "x",
           "y": [
            -0.5830540488830598,
            -0.5984757339061065,
            -0.7310739734577008,
            -0.7905860983089757,
            -0.8491560776798208,
            -0.8524793662279163,
            -0.8141567419270117,
            -0.8010482223569845,
            -0.7735862063030573,
            -0.7398513610986682,
            -0.4865436985575619,
            -0.17844297315034047
           ],
           "yaxis": "y"
          },
          {
           "hovertemplate": "Pollutant=TCH<br>year=2013<br>Month=%{x}<br>Average Value=%{y}<extra></extra>",
           "legendgroup": "TCH",
           "line": {
            "color": "#FECB52",
            "dash": "solid"
           },
           "marker": {
            "symbol": "circle"
           },
           "mode": "lines",
           "name": "TCH",
           "orientation": "v",
           "showlegend": true,
           "type": "scatter",
           "x": [
            1,
            2,
            3,
            4,
            5,
            6,
            7,
            8,
            9,
            10,
            11,
            12
           ],
           "xaxis": "x",
           "y": [
            0.3331377242570995,
            0.03448749149976263,
            -0.14668699280535158,
            -0.21753915035842233,
            -0.24073288555525268,
            -0.43149552551561665,
            -0.35501040955728047,
            -0.3186400924654643,
            -0.12147048513777309,
            0.14947373373531142,
            0.12756017524424382,
            0.5179465587269141
           ],
           "yaxis": "y"
          },
          {
           "hovertemplate": "Pollutant=TOL<br>year=2013<br>Month=%{x}<br>Average Value=%{y}<extra></extra>",
           "legendgroup": "TOL",
           "line": {
            "color": "#636efa",
            "dash": "solid"
           },
           "marker": {
            "symbol": "circle"
           },
           "mode": "lines",
           "name": "TOL",
           "orientation": "v",
           "showlegend": true,
           "type": "scatter",
           "x": [
            1,
            2,
            3,
            4,
            5,
            6,
            7,
            8,
            9,
            10,
            11,
            12
           ],
           "xaxis": "x",
           "y": [
            -0.27837790031780457,
            -0.40699416798009275,
            -0.5148426484672987,
            -0.49270271501925966,
            -0.4781990448158712,
            -0.46852456097454476,
            -0.4229122595016542,
            -0.46104706585449406,
            -0.3236813714894305,
            -0.2545451525307081,
            -0.3100557714750542,
            -0.23113602756469195
           ],
           "yaxis": "y"
          },
          {
           "hovertemplate": "Pollutant=MXY<br>year=2013<br>Month=%{x}<br>Average Value=%{y}<extra></extra>",
           "legendgroup": "MXY",
           "line": {
            "color": "#EF553B",
            "dash": "solid"
           },
           "marker": {
            "symbol": "circle"
           },
           "mode": "lines",
           "name": "MXY",
           "orientation": "v",
           "showlegend": true,
           "type": "scatter",
           "x": [
            1,
            2,
            3,
            4,
            5,
            6,
            7,
            8,
            9,
            10,
            11,
            12
           ],
           "xaxis": "x",
           "y": [
            null,
            null,
            null,
            null,
            null,
            null,
            null,
            null,
            null,
            null,
            null,
            null
           ],
           "yaxis": "y"
          },
          {
           "hovertemplate": "Pollutant=OXY<br>year=2013<br>Month=%{x}<br>Average Value=%{y}<extra></extra>",
           "legendgroup": "OXY",
           "line": {
            "color": "#00cc96",
            "dash": "solid"
           },
           "marker": {
            "symbol": "circle"
           },
           "mode": "lines",
           "name": "OXY",
           "orientation": "v",
           "showlegend": true,
           "type": "scatter",
           "x": [
            1,
            2,
            3,
            4,
            5,
            6,
            7,
            8,
            9,
            10,
            11,
            12
           ],
           "xaxis": "x",
           "y": [
            null,
            null,
            null,
            null,
            null,
            null,
            null,
            null,
            null,
            null,
            null,
            null
           ],
           "yaxis": "y"
          },
          {
           "hovertemplate": "Pollutant=PXY<br>year=2013<br>Month=%{x}<br>Average Value=%{y}<extra></extra>",
           "legendgroup": "PXY",
           "line": {
            "color": "#ab63fa",
            "dash": "solid"
           },
           "marker": {
            "symbol": "circle"
           },
           "mode": "lines",
           "name": "PXY",
           "orientation": "v",
           "showlegend": true,
           "type": "scatter",
           "x": [
            1,
            2,
            3,
            4,
            5,
            6,
            7,
            8,
            9,
            10,
            11,
            12
           ],
           "xaxis": "x",
           "y": [
            null,
            null,
            null,
            null,
            null,
            null,
            null,
            null,
            null,
            null,
            null,
            null
           ],
           "yaxis": "y"
          },
          {
           "hovertemplate": "Pollutant=PM25<br>year=2013<br>Month=%{x}<br>Average Value=%{y}<extra></extra>",
           "legendgroup": "PM25",
           "line": {
            "color": "#FFA15A",
            "dash": "solid"
           },
           "marker": {
            "symbol": "circle"
           },
           "mode": "lines",
           "name": "PM25",
           "orientation": "v",
           "showlegend": true,
           "type": "scatter",
           "x": [
            1,
            2,
            3,
            4,
            5,
            6,
            7,
            8,
            9,
            10,
            11,
            12
           ],
           "xaxis": "x",
           "y": [
            -0.2844779738647593,
            -0.42491551857671006,
            -0.5529853428846413,
            -0.4231497623805229,
            -0.5170422701421369,
            -0.3788208920120816,
            -0.08448310429024238,
            -0.20059610161131183,
            -0.24716348337944796,
            -0.31792022490075994,
            -0.48760624962882737,
            -0.16053204802729848
           ],
           "yaxis": "y"
          },
          {
           "hovertemplate": "Pollutant=CH4<br>year=2013<br>Month=%{x}<br>Average Value=%{y}<extra></extra>",
           "legendgroup": "CH4",
           "line": {
            "color": "#19d3f3",
            "dash": "solid"
           },
           "marker": {
            "symbol": "circle"
           },
           "mode": "lines",
           "name": "CH4",
           "orientation": "v",
           "showlegend": true,
           "type": "scatter",
           "x": [
            1,
            2,
            3,
            4,
            5,
            6,
            7,
            8,
            9,
            10,
            11,
            12
           ],
           "xaxis": "x",
           "y": [
            null,
            null,
            null,
            null,
            null,
            null,
            null,
            null,
            null,
            null,
            null,
            null
           ],
           "yaxis": "y"
          },
          {
           "hovertemplate": "Pollutant=NO<br>year=2013<br>Month=%{x}<br>Average Value=%{y}<extra></extra>",
           "legendgroup": "NO",
           "line": {
            "color": "#FF6692",
            "dash": "solid"
           },
           "marker": {
            "symbol": "circle"
           },
           "mode": "lines",
           "name": "NO",
           "orientation": "v",
           "showlegend": true,
           "type": "scatter",
           "x": [
            1,
            2,
            3,
            4,
            5,
            6,
            7,
            8,
            9,
            10,
            11,
            12
           ],
           "xaxis": "x",
           "y": [
            0.38439158735558393,
            0.06718169899435152,
            -0.26041601288219685,
            -0.2821889930556761,
            -0.29519646076980094,
            -0.3202348060320002,
            -0.32234241621098714,
            -0.3394943627976128,
            -0.15889805148309474,
            0.05359035370945667,
            0.05611433530991759,
            0.6394320456939299
           ],
           "yaxis": "y"
          }
         ],
         "name": "2013"
        },
        {
         "data": [
          {
           "hovertemplate": "Pollutant=BEN<br>year=2014<br>Month=%{x}<br>Average Value=%{y}<extra></extra>",
           "legendgroup": "BEN",
           "line": {
            "color": "#636efa",
            "dash": "solid"
           },
           "marker": {
            "symbol": "circle"
           },
           "mode": "lines",
           "name": "BEN",
           "orientation": "v",
           "showlegend": true,
           "type": "scatter",
           "x": [
            1,
            2,
            3,
            4,
            5,
            6,
            7,
            8,
            9,
            10,
            11,
            12
           ],
           "xaxis": "x",
           "y": [
            -0.22955303897734275,
            -0.2829288836985049,
            -0.28535038659711726,
            -0.4025504718274979,
            -0.4302543020901635,
            -0.42819102733690795,
            -0.4344043391736332,
            -0.45652992937300724,
            -0.3622968183984458,
            -0.16126888250003654,
            -0.1902122410843572,
            -0.024582681225832907
           ],
           "yaxis": "y"
          },
          {
           "hovertemplate": "Pollutant=CO<br>year=2014<br>Month=%{x}<br>Average Value=%{y}<extra></extra>",
           "legendgroup": "CO",
           "line": {
            "color": "#EF553B",
            "dash": "solid"
           },
           "marker": {
            "symbol": "circle"
           },
           "mode": "lines",
           "name": "CO",
           "orientation": "v",
           "showlegend": true,
           "type": "scatter",
           "x": [
            1,
            2,
            3,
            4,
            5,
            6,
            7,
            8,
            9,
            10,
            11,
            12
           ],
           "xaxis": "x",
           "y": [
            -0.23967264116529202,
            -0.30631548068913983,
            -0.26192857365768374,
            -0.39664984202010706,
            -0.47648229217116084,
            -0.5057724087372115,
            -0.5414898166838862,
            -0.5492986865795048,
            -0.4224105578289739,
            -0.2215115253087223,
            -0.1764419244243862,
            0.02277378982859219
           ],
           "yaxis": "y"
          },
          {
           "hovertemplate": "Pollutant=EBE<br>year=2014<br>Month=%{x}<br>Average Value=%{y}<extra></extra>",
           "legendgroup": "EBE",
           "line": {
            "color": "#00cc96",
            "dash": "solid"
           },
           "marker": {
            "symbol": "circle"
           },
           "mode": "lines",
           "name": "EBE",
           "orientation": "v",
           "showlegend": true,
           "type": "scatter",
           "x": [
            1,
            2,
            3,
            4,
            5,
            6,
            7,
            8,
            9,
            10,
            11,
            12
           ],
           "xaxis": "x",
           "y": [
            -0.32073014577584,
            -0.5166511337266998,
            -0.49710981667013326,
            -0.5220709283274834,
            -0.5363055072569779,
            -0.5249827181083958,
            -0.517906500370272,
            -0.5377274897685044,
            -0.4673733768023913,
            -0.25590046959483587,
            -0.3282991653717541,
            -0.26049368254253275
           ],
           "yaxis": "y"
          },
          {
           "hovertemplate": "Pollutant=NMHC<br>year=2014<br>Month=%{x}<br>Average Value=%{y}<extra></extra>",
           "legendgroup": "NMHC",
           "line": {
            "color": "#ab63fa",
            "dash": "solid"
           },
           "marker": {
            "symbol": "circle"
           },
           "mode": "lines",
           "name": "NMHC",
           "orientation": "v",
           "showlegend": true,
           "type": "scatter",
           "x": [
            1,
            2,
            3,
            4,
            5,
            6,
            7,
            8,
            9,
            10,
            11,
            12
           ],
           "xaxis": "x",
           "y": [
            0.19510422929536425,
            0.1837540146880052,
            0.15870685067628845,
            0.352571503093465,
            0.5076126551718568,
            0.33579641172855995,
            0.30857330369277064,
            0.5623858292114814,
            0.6242443284672801,
            1.0775063623358112,
            0.8843949681318061,
            1.5563820368954857
           ],
           "yaxis": "y"
          },
          {
           "hovertemplate": "Pollutant=NOx<br>year=2014<br>Month=%{x}<br>Average Value=%{y}<extra></extra>",
           "legendgroup": "NOx",
           "line": {
            "color": "#FFA15A",
            "dash": "solid"
           },
           "marker": {
            "symbol": "circle"
           },
           "mode": "lines",
           "name": "NOx",
           "orientation": "v",
           "showlegend": true,
           "type": "scatter",
           "x": [
            1,
            2,
            3,
            4,
            5,
            6,
            7,
            8,
            9,
            10,
            11,
            12
           ],
           "xaxis": "x",
           "y": [
            null,
            null,
            null,
            null,
            null,
            null,
            null,
            null,
            null,
            null,
            null,
            null
           ],
           "yaxis": "y"
          },
          {
           "hovertemplate": "Pollutant=NO_2<br>year=2014<br>Month=%{x}<br>Average Value=%{y}<extra></extra>",
           "legendgroup": "NO_2",
           "line": {
            "color": "#19d3f3",
            "dash": "solid"
           },
           "marker": {
            "symbol": "circle"
           },
           "mode": "lines",
           "name": "NO_2",
           "orientation": "v",
           "showlegend": true,
           "type": "scatter",
           "x": [
            1,
            2,
            3,
            4,
            5,
            6,
            7,
            8,
            9,
            10,
            11,
            12
           ],
           "xaxis": "x",
           "y": [
            -0.3490173413845568,
            -0.43669386443266484,
            -0.35204124314999546,
            -0.6039135023084442,
            -0.7447174398716168,
            -0.717947265891039,
            -0.666098438320907,
            -0.7930054354299598,
            -0.5058286314203282,
            -0.17769864944221295,
            -0.2587130495096749,
            0.25362835954411084
           ],
           "yaxis": "y"
          },
          {
           "hovertemplate": "Pollutant=O_3<br>year=2014<br>Month=%{x}<br>Average Value=%{y}<extra></extra>",
           "legendgroup": "O_3",
           "line": {
            "color": "#FF6692",
            "dash": "solid"
           },
           "marker": {
            "symbol": "circle"
           },
           "mode": "lines",
           "name": "O_3",
           "orientation": "v",
           "showlegend": true,
           "type": "scatter",
           "x": [
            1,
            2,
            3,
            4,
            5,
            6,
            7,
            8,
            9,
            10,
            11,
            12
           ],
           "xaxis": "x",
           "y": [
            -0.1811619006029074,
            0.03820485536459949,
            0.35327668275355,
            0.4521122252766644,
            1.0656311373714498,
            1.195088343797484,
            1.199049713220592,
            1.0491278121127838,
            0.42317321855145645,
            -0.16143937196103827,
            -0.2161956895000547,
            -0.590755306260917
           ],
           "yaxis": "y"
          },
          {
           "hovertemplate": "Pollutant=PM10<br>year=2014<br>Month=%{x}<br>Average Value=%{y}<extra></extra>",
           "legendgroup": "PM10",
           "line": {
            "color": "#B6E880",
            "dash": "solid"
           },
           "marker": {
            "symbol": "circle"
           },
           "mode": "lines",
           "name": "PM10",
           "orientation": "v",
           "showlegend": true,
           "type": "scatter",
           "x": [
            1,
            2,
            3,
            4,
            5,
            6,
            7,
            8,
            9,
            10,
            11,
            12
           ],
           "xaxis": "x",
           "y": [
            -0.610988243108407,
            -0.6368114815237877,
            -0.383448845054102,
            -0.44980833422973504,
            -0.45369160055839597,
            -0.3359983191600235,
            -0.29185565295831534,
            -0.2580443173514242,
            -0.3368173272087338,
            -0.08050096909224452,
            -0.2933665469620167,
            -0.34980786630809924
           ],
           "yaxis": "y"
          },
          {
           "hovertemplate": "Pollutant=SO_2<br>year=2014<br>Month=%{x}<br>Average Value=%{y}<extra></extra>",
           "legendgroup": "SO_2",
           "line": {
            "color": "#FF97FF",
            "dash": "solid"
           },
           "marker": {
            "symbol": "circle"
           },
           "mode": "lines",
           "name": "SO_2",
           "orientation": "v",
           "showlegend": true,
           "type": "scatter",
           "x": [
            1,
            2,
            3,
            4,
            5,
            6,
            7,
            8,
            9,
            10,
            11,
            12
           ],
           "xaxis": "x",
           "y": [
            -0.5248396687841421,
            -0.6014037550103849,
            -0.4623257116205595,
            -0.6519989369836009,
            -0.7683149623473131,
            -0.7486466720721399,
            -0.7133955148967299,
            -0.7089066671290521,
            -0.751383881449371,
            -0.7497873996281392,
            -0.5720067415071737,
            -0.16410446856980315
           ],
           "yaxis": "y"
          },
          {
           "hovertemplate": "Pollutant=TCH<br>year=2014<br>Month=%{x}<br>Average Value=%{y}<extra></extra>",
           "legendgroup": "TCH",
           "line": {
            "color": "#FECB52",
            "dash": "solid"
           },
           "marker": {
            "symbol": "circle"
           },
           "mode": "lines",
           "name": "TCH",
           "orientation": "v",
           "showlegend": true,
           "type": "scatter",
           "x": [
            1,
            2,
            3,
            4,
            5,
            6,
            7,
            8,
            9,
            10,
            11,
            12
           ],
           "xaxis": "x",
           "y": [
            0.14193326971770934,
            0.10586295848787636,
            -0.4076259531837926,
            -0.1621070449106698,
            -0.37135110317111214,
            -0.5246061101580565,
            -0.538343402256996,
            -0.7448821463616515,
            -0.6257252851331074,
            -0.009298959793587837,
            0.4727747511947212,
            1.1760020175820949
           ],
           "yaxis": "y"
          },
          {
           "hovertemplate": "Pollutant=TOL<br>year=2014<br>Month=%{x}<br>Average Value=%{y}<extra></extra>",
           "legendgroup": "TOL",
           "line": {
            "color": "#636efa",
            "dash": "solid"
           },
           "marker": {
            "symbol": "circle"
           },
           "mode": "lines",
           "name": "TOL",
           "orientation": "v",
           "showlegend": true,
           "type": "scatter",
           "x": [
            1,
            2,
            3,
            4,
            5,
            6,
            7,
            8,
            9,
            10,
            11,
            12
           ],
           "xaxis": "x",
           "y": [
            -0.3974306573564265,
            -0.4650056297891127,
            -0.4361040826908599,
            -0.4648055468815224,
            -0.4739530500658629,
            -0.44974700500849396,
            -0.4313772860458787,
            -0.43893092608418904,
            -0.37274210491718307,
            -0.08914811943230024,
            -0.2958961142205965,
            -0.14480292254498064
           ],
           "yaxis": "y"
          },
          {
           "hovertemplate": "Pollutant=MXY<br>year=2014<br>Month=%{x}<br>Average Value=%{y}<extra></extra>",
           "legendgroup": "MXY",
           "line": {
            "color": "#EF553B",
            "dash": "solid"
           },
           "marker": {
            "symbol": "circle"
           },
           "mode": "lines",
           "name": "MXY",
           "orientation": "v",
           "showlegend": true,
           "type": "scatter",
           "x": [
            1,
            2,
            3,
            4,
            5,
            6,
            7,
            8,
            9,
            10,
            11,
            12
           ],
           "xaxis": "x",
           "y": [
            null,
            null,
            null,
            null,
            null,
            null,
            null,
            null,
            null,
            null,
            null,
            null
           ],
           "yaxis": "y"
          },
          {
           "hovertemplate": "Pollutant=OXY<br>year=2014<br>Month=%{x}<br>Average Value=%{y}<extra></extra>",
           "legendgroup": "OXY",
           "line": {
            "color": "#00cc96",
            "dash": "solid"
           },
           "marker": {
            "symbol": "circle"
           },
           "mode": "lines",
           "name": "OXY",
           "orientation": "v",
           "showlegend": true,
           "type": "scatter",
           "x": [
            1,
            2,
            3,
            4,
            5,
            6,
            7,
            8,
            9,
            10,
            11,
            12
           ],
           "xaxis": "x",
           "y": [
            null,
            null,
            null,
            null,
            null,
            null,
            null,
            null,
            null,
            null,
            null,
            null
           ],
           "yaxis": "y"
          },
          {
           "hovertemplate": "Pollutant=PXY<br>year=2014<br>Month=%{x}<br>Average Value=%{y}<extra></extra>",
           "legendgroup": "PXY",
           "line": {
            "color": "#ab63fa",
            "dash": "solid"
           },
           "marker": {
            "symbol": "circle"
           },
           "mode": "lines",
           "name": "PXY",
           "orientation": "v",
           "showlegend": true,
           "type": "scatter",
           "x": [
            1,
            2,
            3,
            4,
            5,
            6,
            7,
            8,
            9,
            10,
            11,
            12
           ],
           "xaxis": "x",
           "y": [
            null,
            null,
            null,
            null,
            null,
            null,
            null,
            null,
            null,
            null,
            null,
            null
           ],
           "yaxis": "y"
          },
          {
           "hovertemplate": "Pollutant=PM25<br>year=2014<br>Month=%{x}<br>Average Value=%{y}<extra></extra>",
           "legendgroup": "PM25",
           "line": {
            "color": "#FFA15A",
            "dash": "solid"
           },
           "marker": {
            "symbol": "circle"
           },
           "mode": "lines",
           "name": "PM25",
           "orientation": "v",
           "showlegend": true,
           "type": "scatter",
           "x": [
            1,
            2,
            3,
            4,
            5,
            6,
            7,
            8,
            9,
            10,
            11,
            12
           ],
           "xaxis": "x",
           "y": [
            -0.45590812925543484,
            -0.5284006556667974,
            -0.2532690101299526,
            -0.3657855610286901,
            -0.33947790689127755,
            -0.284235467173144,
            -0.22585115061234123,
            -0.29491293784427497,
            -0.2486813489448797,
            -0.010085004751688414,
            -0.22323846537680575,
            -0.12006156023631687
           ],
           "yaxis": "y"
          },
          {
           "hovertemplate": "Pollutant=CH4<br>year=2014<br>Month=%{x}<br>Average Value=%{y}<extra></extra>",
           "legendgroup": "CH4",
           "line": {
            "color": "#19d3f3",
            "dash": "solid"
           },
           "marker": {
            "symbol": "circle"
           },
           "mode": "lines",
           "name": "CH4",
           "orientation": "v",
           "showlegend": true,
           "type": "scatter",
           "x": [
            1,
            2,
            3,
            4,
            5,
            6,
            7,
            8,
            9,
            10,
            11,
            12
           ],
           "xaxis": "x",
           "y": [
            null,
            null,
            null,
            null,
            null,
            null,
            null,
            null,
            null,
            null,
            null,
            null
           ],
           "yaxis": "y"
          },
          {
           "hovertemplate": "Pollutant=NO<br>year=2014<br>Month=%{x}<br>Average Value=%{y}<extra></extra>",
           "legendgroup": "NO",
           "line": {
            "color": "#FF6692",
            "dash": "solid"
           },
           "marker": {
            "symbol": "circle"
           },
           "mode": "lines",
           "name": "NO",
           "orientation": "v",
           "showlegend": true,
           "type": "scatter",
           "x": [
            1,
            2,
            3,
            4,
            5,
            6,
            7,
            8,
            9,
            10,
            11,
            12
           ],
           "xaxis": "x",
           "y": [
            0.06518891573305453,
            -0.11932817415333796,
            -0.11863338670188252,
            -0.22785311131962957,
            -0.32035028567530155,
            -0.32675895870347077,
            -0.31856127399068435,
            -0.33873108065983987,
            -0.2094892688865938,
            0.1798619098814405,
            0.01934412001700292,
            0.8826745755003069
           ],
           "yaxis": "y"
          }
         ],
         "name": "2014"
        },
        {
         "data": [
          {
           "hovertemplate": "Pollutant=BEN<br>year=2015<br>Month=%{x}<br>Average Value=%{y}<extra></extra>",
           "legendgroup": "BEN",
           "line": {
            "color": "#636efa",
            "dash": "solid"
           },
           "marker": {
            "symbol": "circle"
           },
           "mode": "lines",
           "name": "BEN",
           "orientation": "v",
           "showlegend": true,
           "type": "scatter",
           "x": [
            1,
            2,
            3,
            4,
            5,
            6,
            7,
            8,
            9,
            10,
            11,
            12
           ],
           "xaxis": "x",
           "y": [
            0.02989965758207178,
            -0.28968013315947944,
            -0.2790917424800045,
            -0.4213019719460338,
            -0.44245213677389367,
            -0.44012064812580415,
            -0.3796825662186815,
            -0.4424086683868743,
            -0.38495358220930864,
            -0.2108007784421735,
            0.038179052813096005,
            0.06769781865393457
           ],
           "yaxis": "y"
          },
          {
           "hovertemplate": "Pollutant=CO<br>year=2015<br>Month=%{x}<br>Average Value=%{y}<extra></extra>",
           "legendgroup": "CO",
           "line": {
            "color": "#EF553B",
            "dash": "solid"
           },
           "marker": {
            "symbol": "circle"
           },
           "mode": "lines",
           "name": "CO",
           "orientation": "v",
           "showlegend": true,
           "type": "scatter",
           "x": [
            1,
            2,
            3,
            4,
            5,
            6,
            7,
            8,
            9,
            10,
            11,
            12
           ],
           "xaxis": "x",
           "y": [
            0.08292514347958935,
            -0.3340078990693587,
            -0.31617507327348054,
            -0.48075536003314046,
            -0.5417597769676146,
            -0.5681639818603137,
            -0.5590386827707997,
            -0.5843052002599697,
            -0.5080724631983067,
            -0.3668469160017948,
            -0.05815397482025457,
            0.10239816956275573
           ],
           "yaxis": "y"
          },
          {
           "hovertemplate": "Pollutant=EBE<br>year=2015<br>Month=%{x}<br>Average Value=%{y}<extra></extra>",
           "legendgroup": "EBE",
           "line": {
            "color": "#00cc96",
            "dash": "solid"
           },
           "marker": {
            "symbol": "circle"
           },
           "mode": "lines",
           "name": "EBE",
           "orientation": "v",
           "showlegend": true,
           "type": "scatter",
           "x": [
            1,
            2,
            3,
            4,
            5,
            6,
            7,
            8,
            9,
            10,
            11,
            12
           ],
           "xaxis": "x",
           "y": [
            -0.20330861053377572,
            -0.46771811484349646,
            -0.41726508283601577,
            -0.5192571967389085,
            -0.5142709586580224,
            -0.5223044667587018,
            -0.5505644527617081,
            -0.5546017254103341,
            -0.4982441922310604,
            -0.3990549472681422,
            -0.20370181217040925,
            -0.26206513701480966
           ],
           "yaxis": "y"
          },
          {
           "hovertemplate": "Pollutant=NMHC<br>year=2015<br>Month=%{x}<br>Average Value=%{y}<extra></extra>",
           "legendgroup": "NMHC",
           "line": {
            "color": "#ab63fa",
            "dash": "solid"
           },
           "marker": {
            "symbol": "circle"
           },
           "mode": "lines",
           "name": "NMHC",
           "orientation": "v",
           "showlegend": true,
           "type": "scatter",
           "x": [
            1,
            2,
            3,
            4,
            5,
            6,
            7,
            8,
            9,
            10,
            11,
            12
           ],
           "xaxis": "x",
           "y": [
            2.2295652705330915,
            1.1646566964069043,
            1.2736891989234627,
            1.2538673012509938,
            -0.24689999307569904,
            0.28701831005546175,
            0.47166083360370464,
            0.18533714171611504,
            -0.14965306491967875,
            -0.09804142711411423,
            -0.30402283942255337,
            -0.284062013589819
           ],
           "yaxis": "y"
          },
          {
           "hovertemplate": "Pollutant=NOx<br>year=2015<br>Month=%{x}<br>Average Value=%{y}<extra></extra>",
           "legendgroup": "NOx",
           "line": {
            "color": "#FFA15A",
            "dash": "solid"
           },
           "marker": {
            "symbol": "circle"
           },
           "mode": "lines",
           "name": "NOx",
           "orientation": "v",
           "showlegend": true,
           "type": "scatter",
           "x": [
            1,
            2,
            3,
            4,
            5,
            6,
            7,
            8,
            9,
            10,
            11,
            12
           ],
           "xaxis": "x",
           "y": [
            null,
            null,
            null,
            null,
            null,
            null,
            null,
            null,
            null,
            null,
            null,
            null
           ],
           "yaxis": "y"
          },
          {
           "hovertemplate": "Pollutant=NO_2<br>year=2015<br>Month=%{x}<br>Average Value=%{y}<extra></extra>",
           "legendgroup": "NO_2",
           "line": {
            "color": "#19d3f3",
            "dash": "solid"
           },
           "marker": {
            "symbol": "circle"
           },
           "mode": "lines",
           "name": "NO_2",
           "orientation": "v",
           "showlegend": true,
           "type": "scatter",
           "x": [
            1,
            2,
            3,
            4,
            5,
            6,
            7,
            8,
            9,
            10,
            11,
            12
           ],
           "xaxis": "x",
           "y": [
            0.452502870424277,
            -0.4156605967251359,
            -0.25655008220182424,
            -0.6139443905544664,
            -0.63833358246066,
            -0.5719072601955061,
            -0.49724855585410566,
            -0.6998492823494014,
            -0.4298211301186035,
            -0.23936511636192923,
            0.1734156739225364,
            0.41093213980541476
           ],
           "yaxis": "y"
          },
          {
           "hovertemplate": "Pollutant=O_3<br>year=2015<br>Month=%{x}<br>Average Value=%{y}<extra></extra>",
           "legendgroup": "O_3",
           "line": {
            "color": "#FF6692",
            "dash": "solid"
           },
           "marker": {
            "symbol": "circle"
           },
           "mode": "lines",
           "name": "O_3",
           "orientation": "v",
           "showlegend": true,
           "type": "scatter",
           "x": [
            1,
            2,
            3,
            4,
            5,
            6,
            7,
            8,
            9,
            10,
            11,
            12
           ],
           "xaxis": "x",
           "y": [
            -0.5630367677782827,
            0.2624704124949843,
            0.18302835564605424,
            0.81737164425411,
            1.006476239259388,
            1.3953608705082998,
            1.2477519815170002,
            0.9691949623415755,
            0.5524122704200516,
            -0.2517329330329312,
            -0.5168382273919959,
            -0.8335511274071159
           ],
           "yaxis": "y"
          },
          {
           "hovertemplate": "Pollutant=PM10<br>year=2015<br>Month=%{x}<br>Average Value=%{y}<extra></extra>",
           "legendgroup": "PM10",
           "line": {
            "color": "#B6E880",
            "dash": "solid"
           },
           "marker": {
            "symbol": "circle"
           },
           "mode": "lines",
           "name": "PM10",
           "orientation": "v",
           "showlegend": true,
           "type": "scatter",
           "x": [
            1,
            2,
            3,
            4,
            5,
            6,
            7,
            8,
            9,
            10,
            11,
            12
           ],
           "xaxis": "x",
           "y": [
            -0.41459390572870225,
            -0.651333884732138,
            -0.4602978202335905,
            -0.4210201486666593,
            -0.31326299341282887,
            -0.24289784203552267,
            -0.007402985804419582,
            -0.12202650058138907,
            -0.48523238548569275,
            -0.4281239262037012,
            -0.26877946263415664,
            0.12265685042525674
           ],
           "yaxis": "y"
          },
          {
           "hovertemplate": "Pollutant=SO_2<br>year=2015<br>Month=%{x}<br>Average Value=%{y}<extra></extra>",
           "legendgroup": "SO_2",
           "line": {
            "color": "#FF97FF",
            "dash": "solid"
           },
           "marker": {
            "symbol": "circle"
           },
           "mode": "lines",
           "name": "SO_2",
           "orientation": "v",
           "showlegend": true,
           "type": "scatter",
           "x": [
            1,
            2,
            3,
            4,
            5,
            6,
            7,
            8,
            9,
            10,
            11,
            12
           ],
           "xaxis": "x",
           "y": [
            -0.10457868192731362,
            -0.46347053407778654,
            -0.3828408977817026,
            -0.5836397889288406,
            -0.5966148947139531,
            -0.585509695266035,
            -0.6296198099032946,
            -0.55461216409981,
            -0.5015680489717455,
            -0.4379538950619204,
            -0.1918402641011633,
            0.050833120759452045
           ],
           "yaxis": "y"
          },
          {
           "hovertemplate": "Pollutant=TCH<br>year=2015<br>Month=%{x}<br>Average Value=%{y}<extra></extra>",
           "legendgroup": "TCH",
           "line": {
            "color": "#FECB52",
            "dash": "solid"
           },
           "marker": {
            "symbol": "circle"
           },
           "mode": "lines",
           "name": "TCH",
           "orientation": "v",
           "showlegend": true,
           "type": "scatter",
           "x": [
            1,
            2,
            3,
            4,
            5,
            6,
            7,
            8,
            9,
            10,
            11,
            12
           ],
           "xaxis": "x",
           "y": [
            1.3726857457853272,
            0.36798274989314844,
            0.3692877093141369,
            0.12624567770722564,
            0.10192902747027983,
            0.1887052413287356,
            0.2802587944068401,
            0.2790904984370564,
            0.38076694122013965,
            0.497007515255719,
            -0.15067654407462935,
            0.11591651421900524
           ],
           "yaxis": "y"
          },
          {
           "hovertemplate": "Pollutant=TOL<br>year=2015<br>Month=%{x}<br>Average Value=%{y}<extra></extra>",
           "legendgroup": "TOL",
           "line": {
            "color": "#636efa",
            "dash": "solid"
           },
           "marker": {
            "symbol": "circle"
           },
           "mode": "lines",
           "name": "TOL",
           "orientation": "v",
           "showlegend": true,
           "type": "scatter",
           "x": [
            1,
            2,
            3,
            4,
            5,
            6,
            7,
            8,
            9,
            10,
            11,
            12
           ],
           "xaxis": "x",
           "y": [
            -0.060110049090679483,
            -0.40574565868715823,
            -0.42180862399177604,
            -0.49310229647483517,
            -0.4526503049284322,
            -0.43726503454002036,
            -0.41110853865875746,
            -0.4886238165239,
            -0.41403297654966326,
            -0.27510393142338085,
            0.02568697318161563,
            -0.03845898715738527
           ],
           "yaxis": "y"
          },
          {
           "hovertemplate": "Pollutant=MXY<br>year=2015<br>Month=%{x}<br>Average Value=%{y}<extra></extra>",
           "legendgroup": "MXY",
           "line": {
            "color": "#EF553B",
            "dash": "solid"
           },
           "marker": {
            "symbol": "circle"
           },
           "mode": "lines",
           "name": "MXY",
           "orientation": "v",
           "showlegend": true,
           "type": "scatter",
           "x": [
            1,
            2,
            3,
            4,
            5,
            6,
            7,
            8,
            9,
            10,
            11,
            12
           ],
           "xaxis": "x",
           "y": [
            null,
            null,
            null,
            null,
            null,
            null,
            null,
            null,
            null,
            null,
            null,
            null
           ],
           "yaxis": "y"
          },
          {
           "hovertemplate": "Pollutant=OXY<br>year=2015<br>Month=%{x}<br>Average Value=%{y}<extra></extra>",
           "legendgroup": "OXY",
           "line": {
            "color": "#00cc96",
            "dash": "solid"
           },
           "marker": {
            "symbol": "circle"
           },
           "mode": "lines",
           "name": "OXY",
           "orientation": "v",
           "showlegend": true,
           "type": "scatter",
           "x": [
            1,
            2,
            3,
            4,
            5,
            6,
            7,
            8,
            9,
            10,
            11,
            12
           ],
           "xaxis": "x",
           "y": [
            null,
            null,
            null,
            null,
            null,
            null,
            null,
            null,
            null,
            null,
            null,
            null
           ],
           "yaxis": "y"
          },
          {
           "hovertemplate": "Pollutant=PXY<br>year=2015<br>Month=%{x}<br>Average Value=%{y}<extra></extra>",
           "legendgroup": "PXY",
           "line": {
            "color": "#ab63fa",
            "dash": "solid"
           },
           "marker": {
            "symbol": "circle"
           },
           "mode": "lines",
           "name": "PXY",
           "orientation": "v",
           "showlegend": true,
           "type": "scatter",
           "x": [
            1,
            2,
            3,
            4,
            5,
            6,
            7,
            8,
            9,
            10,
            11,
            12
           ],
           "xaxis": "x",
           "y": [
            null,
            null,
            null,
            null,
            null,
            null,
            null,
            null,
            null,
            null,
            null,
            null
           ],
           "yaxis": "y"
          },
          {
           "hovertemplate": "Pollutant=PM25<br>year=2015<br>Month=%{x}<br>Average Value=%{y}<extra></extra>",
           "legendgroup": "PM25",
           "line": {
            "color": "#FFA15A",
            "dash": "solid"
           },
           "marker": {
            "symbol": "circle"
           },
           "mode": "lines",
           "name": "PM25",
           "orientation": "v",
           "showlegend": true,
           "type": "scatter",
           "x": [
            1,
            2,
            3,
            4,
            5,
            6,
            7,
            8,
            9,
            10,
            11,
            12
           ],
           "xaxis": "x",
           "y": [
            -0.15001082932070922,
            -0.4835216374481765,
            -0.31574460474976,
            -0.4641867799467674,
            -0.452279914654837,
            -0.20652191215772805,
            -0.13347956093321225,
            -0.3084281417758571,
            -0.49983386258149043,
            -0.2883735326125606,
            0.0707960772676655,
            0.7782402856934316
           ],
           "yaxis": "y"
          },
          {
           "hovertemplate": "Pollutant=CH4<br>year=2015<br>Month=%{x}<br>Average Value=%{y}<extra></extra>",
           "legendgroup": "CH4",
           "line": {
            "color": "#19d3f3",
            "dash": "solid"
           },
           "marker": {
            "symbol": "circle"
           },
           "mode": "lines",
           "name": "CH4",
           "orientation": "v",
           "showlegend": true,
           "type": "scatter",
           "x": [
            1,
            2,
            3,
            4,
            5,
            6,
            7,
            8,
            9,
            10,
            11,
            12
           ],
           "xaxis": "x",
           "y": [
            null,
            null,
            null,
            null,
            null,
            null,
            null,
            null,
            null,
            null,
            null,
            null
           ],
           "yaxis": "y"
          },
          {
           "hovertemplate": "Pollutant=NO<br>year=2015<br>Month=%{x}<br>Average Value=%{y}<extra></extra>",
           "legendgroup": "NO",
           "line": {
            "color": "#FF6692",
            "dash": "solid"
           },
           "marker": {
            "symbol": "circle"
           },
           "mode": "lines",
           "name": "NO",
           "orientation": "v",
           "showlegend": true,
           "type": "scatter",
           "x": [
            1,
            2,
            3,
            4,
            5,
            6,
            7,
            8,
            9,
            10,
            11,
            12
           ],
           "xaxis": "x",
           "y": [
            0.9002884681629135,
            -0.15405937536116043,
            -0.014452279656055727,
            -0.29597108685275947,
            -0.30078367204200995,
            -0.3404297040368554,
            -0.32319698224968224,
            -0.3333803663887594,
            -0.22365836291240837,
            0.03992711712169499,
            0.7667803909847597,
            1.0290813874766849
           ],
           "yaxis": "y"
          }
         ],
         "name": "2015"
        },
        {
         "data": [
          {
           "hovertemplate": "Pollutant=BEN<br>year=2016<br>Month=%{x}<br>Average Value=%{y}<extra></extra>",
           "legendgroup": "BEN",
           "line": {
            "color": "#636efa",
            "dash": "solid"
           },
           "marker": {
            "symbol": "circle"
           },
           "mode": "lines",
           "name": "BEN",
           "orientation": "v",
           "showlegend": true,
           "type": "scatter",
           "x": [
            1,
            2,
            3,
            4,
            5,
            6,
            7,
            8,
            9,
            10,
            11,
            12
           ],
           "xaxis": "x",
           "y": [
            -0.21946507657939418,
            -0.2864148634730113,
            -0.3644740907016762,
            -0.4662562599816866,
            -0.4986756040897126,
            -0.44403639766194436,
            -0.4490800268486209,
            -0.4626050289229107,
            -0.3451032519274691,
            -0.20607561234481622,
            -0.1819293824740263,
            0.07177801157239364
           ],
           "yaxis": "y"
          },
          {
           "hovertemplate": "Pollutant=CO<br>year=2016<br>Month=%{x}<br>Average Value=%{y}<extra></extra>",
           "legendgroup": "CO",
           "line": {
            "color": "#EF553B",
            "dash": "solid"
           },
           "marker": {
            "symbol": "circle"
           },
           "mode": "lines",
           "name": "CO",
           "orientation": "v",
           "showlegend": true,
           "type": "scatter",
           "x": [
            1,
            2,
            3,
            4,
            5,
            6,
            7,
            8,
            9,
            10,
            11,
            12
           ],
           "xaxis": "x",
           "y": [
            -0.2763118506155273,
            -0.33236181834813183,
            -0.369217340028606,
            -0.4543106053657941,
            -0.49490239531830676,
            -0.5431199182563252,
            -0.5601867515710474,
            -0.5573621053943418,
            -0.4315261466422899,
            -0.2510038387803875,
            -0.12097685422154154,
            0.08848957709850591
           ],
           "yaxis": "y"
          },
          {
           "hovertemplate": "Pollutant=EBE<br>year=2016<br>Month=%{x}<br>Average Value=%{y}<extra></extra>",
           "legendgroup": "EBE",
           "line": {
            "color": "#00cc96",
            "dash": "solid"
           },
           "marker": {
            "symbol": "circle"
           },
           "mode": "lines",
           "name": "EBE",
           "orientation": "v",
           "showlegend": true,
           "type": "scatter",
           "x": [
            1,
            2,
            3,
            4,
            5,
            6,
            7,
            8,
            9,
            10,
            11,
            12
           ],
           "xaxis": "x",
           "y": [
            -0.4635272228469834,
            -0.5020059280055246,
            -0.5379173729817048,
            -0.5608635768787538,
            -0.546474240827923,
            -0.5308180947727505,
            -0.5266487994403029,
            -0.5196811790525941,
            -0.4478155128957453,
            -0.34643254164642007,
            -0.39281541952206067,
            -0.36969107019386604
           ],
           "yaxis": "y"
          },
          {
           "hovertemplate": "Pollutant=NMHC<br>year=2016<br>Month=%{x}<br>Average Value=%{y}<extra></extra>",
           "legendgroup": "NMHC",
           "line": {
            "color": "#ab63fa",
            "dash": "solid"
           },
           "marker": {
            "symbol": "circle"
           },
           "mode": "lines",
           "name": "NMHC",
           "orientation": "v",
           "showlegend": true,
           "type": "scatter",
           "x": [
            1,
            2,
            3,
            4,
            5,
            6,
            7,
            8,
            9,
            10,
            11,
            12
           ],
           "xaxis": "x",
           "y": [
            -0.5910108207682505,
            -0.5901239468631772,
            -0.49107110023870854,
            -0.11541943829759264,
            -0.5256748396447699,
            -0.49199916704346314,
            -0.5940490313252295,
            -0.5457724911043852,
            -0.34839956788511256,
            -0.2834628637044382,
            -0.2637708742079517,
            -0.07591503242848076
           ],
           "yaxis": "y"
          },
          {
           "hovertemplate": "Pollutant=NOx<br>year=2016<br>Month=%{x}<br>Average Value=%{y}<extra></extra>",
           "legendgroup": "NOx",
           "line": {
            "color": "#FFA15A",
            "dash": "solid"
           },
           "marker": {
            "symbol": "circle"
           },
           "mode": "lines",
           "name": "NOx",
           "orientation": "v",
           "showlegend": true,
           "type": "scatter",
           "x": [
            1,
            2,
            3,
            4,
            5,
            6,
            7,
            8,
            9,
            10,
            11,
            12
           ],
           "xaxis": "x",
           "y": [
            null,
            null,
            null,
            null,
            null,
            null,
            null,
            null,
            null,
            null,
            null,
            null
           ],
           "yaxis": "y"
          },
          {
           "hovertemplate": "Pollutant=NO_2<br>year=2016<br>Month=%{x}<br>Average Value=%{y}<extra></extra>",
           "legendgroup": "NO_2",
           "line": {
            "color": "#19d3f3",
            "dash": "solid"
           },
           "marker": {
            "symbol": "circle"
           },
           "mode": "lines",
           "name": "NO_2",
           "orientation": "v",
           "showlegend": true,
           "type": "scatter",
           "x": [
            1,
            2,
            3,
            4,
            5,
            6,
            7,
            8,
            9,
            10,
            11,
            12
           ],
           "xaxis": "x",
           "y": [
            -0.24394232683534103,
            -0.43057334274743564,
            -0.41309320651662046,
            -0.5234403146690494,
            -0.5675453928523092,
            -0.5903287728536211,
            -0.5656839921321843,
            -0.6336907549383504,
            -0.20494734876094198,
            -0.03967773200212192,
            -0.045787669607350215,
            0.15093798841760747
           ],
           "yaxis": "y"
          },
          {
           "hovertemplate": "Pollutant=O_3<br>year=2016<br>Month=%{x}<br>Average Value=%{y}<extra></extra>",
           "legendgroup": "O_3",
           "line": {
            "color": "#FF6692",
            "dash": "solid"
           },
           "marker": {
            "symbol": "circle"
           },
           "mode": "lines",
           "name": "O_3",
           "orientation": "v",
           "showlegend": true,
           "type": "scatter",
           "x": [
            1,
            2,
            3,
            4,
            5,
            6,
            7,
            8,
            9,
            10,
            11,
            12
           ],
           "xaxis": "x",
           "y": [
            -0.3032994208099378,
            0.10461775634573023,
            0.4196759467162285,
            0.46867877610768804,
            0.6951505029291165,
            0.8851879274940649,
            1.2763091665378679,
            1.0353669995740076,
            0.4048014634126133,
            -0.2405505258047931,
            -0.5136372846536736,
            -0.6924059731391509
           ],
           "yaxis": "y"
          },
          {
           "hovertemplate": "Pollutant=PM10<br>year=2016<br>Month=%{x}<br>Average Value=%{y}<extra></extra>",
           "legendgroup": "PM10",
           "line": {
            "color": "#B6E880",
            "dash": "solid"
           },
           "marker": {
            "symbol": "circle"
           },
           "mode": "lines",
           "name": "PM10",
           "orientation": "v",
           "showlegend": true,
           "type": "scatter",
           "x": [
            1,
            2,
            3,
            4,
            5,
            6,
            7,
            8,
            9,
            10,
            11,
            12
           ],
           "xaxis": "x",
           "y": [
            -0.5509260528633291,
            -0.2965450936957225,
            -0.5858459793969156,
            -0.7054970556114659,
            -0.6165875286704514,
            -0.3002277676826082,
            -0.1256726678526065,
            -0.17141463313062533,
            -0.20172424787432086,
            -0.19580578300241686,
            -0.42531443636351257,
            -0.3413455106090571
           ],
           "yaxis": "y"
          },
          {
           "hovertemplate": "Pollutant=SO_2<br>year=2016<br>Month=%{x}<br>Average Value=%{y}<extra></extra>",
           "legendgroup": "SO_2",
           "line": {
            "color": "#FF97FF",
            "dash": "solid"
           },
           "marker": {
            "symbol": "circle"
           },
           "mode": "lines",
           "name": "SO_2",
           "orientation": "v",
           "showlegend": true,
           "type": "scatter",
           "x": [
            1,
            2,
            3,
            4,
            5,
            6,
            7,
            8,
            9,
            10,
            11,
            12
           ],
           "xaxis": "x",
           "y": [
            -0.20409621926016022,
            -0.24093575990022476,
            -0.23102270122686802,
            -0.31940291689804967,
            -0.3720075415198814,
            -0.2969225123264125,
            -0.5331493691871068,
            -0.5188787314136706,
            -0.414602397740805,
            -0.3498259003497275,
            -0.30663546436923783,
            -0.06928298665987419
           ],
           "yaxis": "y"
          },
          {
           "hovertemplate": "Pollutant=TCH<br>year=2016<br>Month=%{x}<br>Average Value=%{y}<extra></extra>",
           "legendgroup": "TCH",
           "line": {
            "color": "#FECB52",
            "dash": "solid"
           },
           "marker": {
            "symbol": "circle"
           },
           "mode": "lines",
           "name": "TCH",
           "orientation": "v",
           "showlegend": true,
           "type": "scatter",
           "x": [
            1,
            2,
            3,
            4,
            5,
            6,
            7,
            8,
            9,
            10,
            11,
            12
           ],
           "xaxis": "x",
           "y": [
            -0.3068407267052848,
            -0.5582362986335282,
            -0.43121270198573913,
            -0.43820857379709244,
            -0.6555191524310696,
            -0.6001860038322507,
            -0.5527388231083392,
            -0.4046010567119624,
            -0.18168819074554265,
            0.0018449683319486589,
            0.16428984643946523,
            0.6126167433716213
           ],
           "yaxis": "y"
          },
          {
           "hovertemplate": "Pollutant=TOL<br>year=2016<br>Month=%{x}<br>Average Value=%{y}<extra></extra>",
           "legendgroup": "TOL",
           "line": {
            "color": "#636efa",
            "dash": "solid"
           },
           "marker": {
            "symbol": "circle"
           },
           "mode": "lines",
           "name": "TOL",
           "orientation": "v",
           "showlegend": true,
           "type": "scatter",
           "x": [
            1,
            2,
            3,
            4,
            5,
            6,
            7,
            8,
            9,
            10,
            11,
            12
           ],
           "xaxis": "x",
           "y": [
            -0.3869907052023187,
            -0.4540147683804261,
            -0.49401335796149265,
            -0.5260933206727216,
            -0.5106586095615978,
            -0.45057234023694737,
            -0.4434109421566086,
            -0.4479717235900001,
            -0.3385235886327993,
            -0.19359022384865462,
            -0.26602911307881455,
            -0.09848381238095524
           ],
           "yaxis": "y"
          },
          {
           "hovertemplate": "Pollutant=MXY<br>year=2016<br>Month=%{x}<br>Average Value=%{y}<extra></extra>",
           "legendgroup": "MXY",
           "line": {
            "color": "#EF553B",
            "dash": "solid"
           },
           "marker": {
            "symbol": "circle"
           },
           "mode": "lines",
           "name": "MXY",
           "orientation": "v",
           "showlegend": true,
           "type": "scatter",
           "x": [
            1,
            2,
            3,
            4,
            5,
            6,
            7,
            8,
            9,
            10,
            11,
            12
           ],
           "xaxis": "x",
           "y": [
            null,
            null,
            null,
            null,
            null,
            null,
            null,
            null,
            null,
            null,
            null,
            null
           ],
           "yaxis": "y"
          },
          {
           "hovertemplate": "Pollutant=OXY<br>year=2016<br>Month=%{x}<br>Average Value=%{y}<extra></extra>",
           "legendgroup": "OXY",
           "line": {
            "color": "#00cc96",
            "dash": "solid"
           },
           "marker": {
            "symbol": "circle"
           },
           "mode": "lines",
           "name": "OXY",
           "orientation": "v",
           "showlegend": true,
           "type": "scatter",
           "x": [
            1,
            2,
            3,
            4,
            5,
            6,
            7,
            8,
            9,
            10,
            11,
            12
           ],
           "xaxis": "x",
           "y": [
            null,
            null,
            null,
            null,
            null,
            null,
            null,
            null,
            null,
            null,
            null,
            null
           ],
           "yaxis": "y"
          },
          {
           "hovertemplate": "Pollutant=PXY<br>year=2016<br>Month=%{x}<br>Average Value=%{y}<extra></extra>",
           "legendgroup": "PXY",
           "line": {
            "color": "#ab63fa",
            "dash": "solid"
           },
           "marker": {
            "symbol": "circle"
           },
           "mode": "lines",
           "name": "PXY",
           "orientation": "v",
           "showlegend": true,
           "type": "scatter",
           "x": [
            1,
            2,
            3,
            4,
            5,
            6,
            7,
            8,
            9,
            10,
            11,
            12
           ],
           "xaxis": "x",
           "y": [
            null,
            null,
            null,
            null,
            null,
            null,
            null,
            null,
            null,
            null,
            null,
            null
           ],
           "yaxis": "y"
          },
          {
           "hovertemplate": "Pollutant=PM25<br>year=2016<br>Month=%{x}<br>Average Value=%{y}<extra></extra>",
           "legendgroup": "PM25",
           "line": {
            "color": "#FFA15A",
            "dash": "solid"
           },
           "marker": {
            "symbol": "circle"
           },
           "mode": "lines",
           "name": "PM25",
           "orientation": "v",
           "showlegend": true,
           "type": "scatter",
           "x": [
            1,
            2,
            3,
            4,
            5,
            6,
            7,
            8,
            9,
            10,
            11,
            12
           ],
           "xaxis": "x",
           "y": [
            -0.14732367352113987,
            -0.3244658101452196,
            -0.4379648716785147,
            -0.6680504698395519,
            -0.5943841701168412,
            -0.40412085473982534,
            -0.24438282362880817,
            -0.3451721178183353,
            -0.19753189141529362,
            -0.12299445132388481,
            -0.23463385794392705,
            0.12322655769333841
           ],
           "yaxis": "y"
          },
          {
           "hovertemplate": "Pollutant=CH4<br>year=2016<br>Month=%{x}<br>Average Value=%{y}<extra></extra>",
           "legendgroup": "CH4",
           "line": {
            "color": "#19d3f3",
            "dash": "solid"
           },
           "marker": {
            "symbol": "circle"
           },
           "mode": "lines",
           "name": "CH4",
           "orientation": "v",
           "showlegend": true,
           "type": "scatter",
           "x": [
            1,
            2,
            3,
            4,
            5,
            6,
            7,
            8,
            9,
            10,
            11,
            12
           ],
           "xaxis": "x",
           "y": [
            null,
            null,
            null,
            null,
            null,
            null,
            null,
            null,
            null,
            null,
            null,
            null
           ],
           "yaxis": "y"
          },
          {
           "hovertemplate": "Pollutant=NO<br>year=2016<br>Month=%{x}<br>Average Value=%{y}<extra></extra>",
           "legendgroup": "NO",
           "line": {
            "color": "#FF6692",
            "dash": "solid"
           },
           "marker": {
            "symbol": "circle"
           },
           "mode": "lines",
           "name": "NO",
           "orientation": "v",
           "showlegend": true,
           "type": "scatter",
           "x": [
            1,
            2,
            3,
            4,
            5,
            6,
            7,
            8,
            9,
            10,
            11,
            12
           ],
           "xaxis": "x",
           "y": [
            0.1604628617040544,
            -0.017836422459438166,
            -0.16623876042767852,
            -0.24816702764568355,
            -0.27202494555826545,
            -0.291964700432086,
            -0.3211452721321201,
            -0.329445065036764,
            -0.1478967760211444,
            0.17302973304882568,
            0.31858540656625683,
            0.8638521642721236
           ],
           "yaxis": "y"
          }
         ],
         "name": "2016"
        },
        {
         "data": [
          {
           "hovertemplate": "Pollutant=BEN<br>year=2017<br>Month=%{x}<br>Average Value=%{y}<extra></extra>",
           "legendgroup": "BEN",
           "line": {
            "color": "#636efa",
            "dash": "solid"
           },
           "marker": {
            "symbol": "circle"
           },
           "mode": "lines",
           "name": "BEN",
           "orientation": "v",
           "showlegend": true,
           "type": "scatter",
           "x": [
            1,
            2,
            3,
            4,
            5,
            6,
            7,
            8,
            9,
            10,
            11,
            12
           ],
           "xaxis": "x",
           "y": [
            -0.062387371013479534,
            -0.31746912953295514,
            -0.36136285805025886,
            -0.45643063406199785,
            -0.47108476342932215,
            -0.4905857628774952,
            -0.4831029950662196,
            -0.5050149094997849,
            -0.39960204653619347,
            -0.2762910160443073,
            -0.10582302265040157,
            -0.17813067576157454
           ],
           "yaxis": "y"
          },
          {
           "hovertemplate": "Pollutant=CO<br>year=2017<br>Month=%{x}<br>Average Value=%{y}<extra></extra>",
           "legendgroup": "CO",
           "line": {
            "color": "#EF553B",
            "dash": "solid"
           },
           "marker": {
            "symbol": "circle"
           },
           "mode": "lines",
           "name": "CO",
           "orientation": "v",
           "showlegend": true,
           "type": "scatter",
           "x": [
            1,
            2,
            3,
            4,
            5,
            6,
            7,
            8,
            9,
            10,
            11,
            12
           ],
           "xaxis": "x",
           "y": [
            -0.04628664610536257,
            -0.2745014286886837,
            -0.3358223679150594,
            -0.40322984533820194,
            -0.48242464081959135,
            -0.5268460154439596,
            -0.567274127429562,
            -0.5762291294648632,
            -0.41985481631887295,
            -0.30452319683124035,
            -0.07144158618625124,
            -0.1688605158956084
           ],
           "yaxis": "y"
          },
          {
           "hovertemplate": "Pollutant=EBE<br>year=2017<br>Month=%{x}<br>Average Value=%{y}<extra></extra>",
           "legendgroup": "EBE",
           "line": {
            "color": "#00cc96",
            "dash": "solid"
           },
           "marker": {
            "symbol": "circle"
           },
           "mode": "lines",
           "name": "EBE",
           "orientation": "v",
           "showlegend": true,
           "type": "scatter",
           "x": [
            1,
            2,
            3,
            4,
            5,
            6,
            7,
            8,
            9,
            10,
            11,
            12
           ],
           "xaxis": "x",
           "y": [
            -0.44455054563362684,
            -0.4933495068515607,
            -0.48512626749361365,
            -0.537393728272252,
            -0.5420905848364966,
            -0.5122130146117072,
            -0.5282187529148078,
            -0.5329321421733617,
            -0.472823504531098,
            -0.36345905819588975,
            -0.31196177897564276,
            -0.43221268849100525
           ],
           "yaxis": "y"
          },
          {
           "hovertemplate": "Pollutant=NMHC<br>year=2017<br>Month=%{x}<br>Average Value=%{y}<extra></extra>",
           "legendgroup": "NMHC",
           "line": {
            "color": "#ab63fa",
            "dash": "solid"
           },
           "marker": {
            "symbol": "circle"
           },
           "mode": "lines",
           "name": "NMHC",
           "orientation": "v",
           "showlegend": true,
           "type": "scatter",
           "x": [
            1,
            2,
            3,
            4,
            5,
            6,
            7,
            8,
            9,
            10,
            11,
            12
           ],
           "xaxis": "x",
           "y": [
            -0.048095733947050114,
            -0.24662303644793185,
            -0.255096127092016,
            -0.3200250197306072,
            -0.3098454638985594,
            -0.4568833256532777,
            -0.5978125453283826,
            -0.44779323362668383,
            -0.424616706945988,
            -0.3466342962701008,
            -0.47187808460812536,
            -0.7222721118364789
           ],
           "yaxis": "y"
          },
          {
           "hovertemplate": "Pollutant=NOx<br>year=2017<br>Month=%{x}<br>Average Value=%{y}<extra></extra>",
           "legendgroup": "NOx",
           "line": {
            "color": "#FFA15A",
            "dash": "solid"
           },
           "marker": {
            "symbol": "circle"
           },
           "mode": "lines",
           "name": "NOx",
           "orientation": "v",
           "showlegend": true,
           "type": "scatter",
           "x": [
            1,
            2,
            3,
            4,
            5,
            6,
            7,
            8,
            9,
            10,
            11,
            12
           ],
           "xaxis": "x",
           "y": [
            -0.8786354559870663,
            null,
            null,
            null,
            null,
            null,
            null,
            null,
            null,
            -0.08630612887870254,
            0.3699621177120963,
            0.15814107409965203
           ],
           "yaxis": "y"
          },
          {
           "hovertemplate": "Pollutant=NO_2<br>year=2017<br>Month=%{x}<br>Average Value=%{y}<extra></extra>",
           "legendgroup": "NO_2",
           "line": {
            "color": "#19d3f3",
            "dash": "solid"
           },
           "marker": {
            "symbol": "circle"
           },
           "mode": "lines",
           "name": "NO_2",
           "orientation": "v",
           "showlegend": true,
           "type": "scatter",
           "x": [
            1,
            2,
            3,
            4,
            5,
            6,
            7,
            8,
            9,
            10,
            11,
            12
           ],
           "xaxis": "x",
           "y": [
            0.07662622773690446,
            -0.23017769966522805,
            -0.27538763357510604,
            -0.5735696543996119,
            -0.5807764345450498,
            -0.5508314262667945,
            -0.5078073714113142,
            -0.651429619693312,
            -0.3052210667473888,
            0.07417348750884764,
            0.34680172444566915,
            0.08381942835091238
           ],
           "yaxis": "y"
          },
          {
           "hovertemplate": "Pollutant=O_3<br>year=2017<br>Month=%{x}<br>Average Value=%{y}<extra></extra>",
           "legendgroup": "O_3",
           "line": {
            "color": "#FF6692",
            "dash": "solid"
           },
           "marker": {
            "symbol": "circle"
           },
           "mode": "lines",
           "name": "O_3",
           "orientation": "v",
           "showlegend": true,
           "type": "scatter",
           "x": [
            1,
            2,
            3,
            4,
            5,
            6,
            7,
            8,
            9,
            10,
            11,
            12
           ],
           "xaxis": "x",
           "y": [
            -0.45630221347134925,
            -0.09225815611882075,
            0.285808504774996,
            0.9532894705562059,
            0.8881975791412687,
            1.0691516739815237,
            0.8149064368094457,
            0.8523522262965149,
            0.3911326493935342,
            -0.2053948919498014,
            -0.6041251085903381,
            -0.5439473381248628
           ],
           "yaxis": "y"
          },
          {
           "hovertemplate": "Pollutant=PM10<br>year=2017<br>Month=%{x}<br>Average Value=%{y}<extra></extra>",
           "legendgroup": "PM10",
           "line": {
            "color": "#B6E880",
            "dash": "solid"
           },
           "marker": {
            "symbol": "circle"
           },
           "mode": "lines",
           "name": "PM10",
           "orientation": "v",
           "showlegend": true,
           "type": "scatter",
           "x": [
            1,
            2,
            3,
            4,
            5,
            6,
            7,
            8,
            9,
            10,
            11,
            12
           ],
           "xaxis": "x",
           "y": [
            -0.35882774073848295,
            -0.11713589500766373,
            -0.4580355491044229,
            -0.4506027583473365,
            -0.47550533996995675,
            -0.19393927689452897,
            -0.2325066965848489,
            -0.2145842325110254,
            -0.46588628994894504,
            -0.3365845994054802,
            -0.332170881230564,
            -0.5010363674539989
           ],
           "yaxis": "y"
          },
          {
           "hovertemplate": "Pollutant=SO_2<br>year=2017<br>Month=%{x}<br>Average Value=%{y}<extra></extra>",
           "legendgroup": "SO_2",
           "line": {
            "color": "#FF97FF",
            "dash": "solid"
           },
           "marker": {
            "symbol": "circle"
           },
           "mode": "lines",
           "name": "SO_2",
           "orientation": "v",
           "showlegend": true,
           "type": "scatter",
           "x": [
            1,
            2,
            3,
            4,
            5,
            6,
            7,
            8,
            9,
            10,
            11,
            12
           ],
           "xaxis": "x",
           "y": [
            -0.03216183951256519,
            -0.20537206690136064,
            -0.2683764821279537,
            -0.5781958379702816,
            -0.6081472241153885,
            -0.5608541246646142,
            -0.5845621947547853,
            -0.48610087989361245,
            -0.40947630800099005,
            -0.6130652703047104,
            -0.28386082041247973,
            -0.3632640132598953
           ],
           "yaxis": "y"
          },
          {
           "hovertemplate": "Pollutant=TCH<br>year=2017<br>Month=%{x}<br>Average Value=%{y}<extra></extra>",
           "legendgroup": "TCH",
           "line": {
            "color": "#FECB52",
            "dash": "solid"
           },
           "marker": {
            "symbol": "circle"
           },
           "mode": "lines",
           "name": "TCH",
           "orientation": "v",
           "showlegend": true,
           "type": "scatter",
           "x": [
            1,
            2,
            3,
            4,
            5,
            6,
            7,
            8,
            9,
            10,
            11,
            12
           ],
           "xaxis": "x",
           "y": [
            0.5244243321183966,
            0.012454845702321088,
            0.04620839755087504,
            -0.2779324434016468,
            -0.9656661928273815,
            -0.5540636693118651,
            -0.283718564471376,
            -0.2613400331122331,
            -0.2008007843487412,
            -0.06633994759703468,
            0.04564530379643825,
            -0.06618570200784159
           ],
           "yaxis": "y"
          },
          {
           "hovertemplate": "Pollutant=TOL<br>year=2017<br>Month=%{x}<br>Average Value=%{y}<extra></extra>",
           "legendgroup": "TOL",
           "line": {
            "color": "#636efa",
            "dash": "solid"
           },
           "marker": {
            "symbol": "circle"
           },
           "mode": "lines",
           "name": "TOL",
           "orientation": "v",
           "showlegend": true,
           "type": "scatter",
           "x": [
            1,
            2,
            3,
            4,
            5,
            6,
            7,
            8,
            9,
            10,
            11,
            12
           ],
           "xaxis": "x",
           "y": [
            -0.28781352076945926,
            -0.4409460880019055,
            -0.42916901178456385,
            -0.511335663711419,
            -0.503874908203806,
            -0.502687237608486,
            -0.48916061099580194,
            -0.5023601852563954,
            -0.3829433290733754,
            -0.21559538419305993,
            -0.048661299825774836,
            -0.2969035471318667
           ],
           "yaxis": "y"
          },
          {
           "hovertemplate": "Pollutant=MXY<br>year=2017<br>Month=%{x}<br>Average Value=%{y}<extra></extra>",
           "legendgroup": "MXY",
           "line": {
            "color": "#EF553B",
            "dash": "solid"
           },
           "marker": {
            "symbol": "circle"
           },
           "mode": "lines",
           "name": "MXY",
           "orientation": "v",
           "showlegend": true,
           "type": "scatter",
           "x": [
            1,
            2,
            3,
            4,
            5,
            6,
            7,
            8,
            9,
            10,
            11,
            12
           ],
           "xaxis": "x",
           "y": [
            null,
            null,
            null,
            null,
            null,
            null,
            null,
            null,
            null,
            null,
            null,
            null
           ],
           "yaxis": "y"
          },
          {
           "hovertemplate": "Pollutant=OXY<br>year=2017<br>Month=%{x}<br>Average Value=%{y}<extra></extra>",
           "legendgroup": "OXY",
           "line": {
            "color": "#00cc96",
            "dash": "solid"
           },
           "marker": {
            "symbol": "circle"
           },
           "mode": "lines",
           "name": "OXY",
           "orientation": "v",
           "showlegend": true,
           "type": "scatter",
           "x": [
            1,
            2,
            3,
            4,
            5,
            6,
            7,
            8,
            9,
            10,
            11,
            12
           ],
           "xaxis": "x",
           "y": [
            null,
            null,
            null,
            null,
            null,
            null,
            null,
            null,
            null,
            null,
            null,
            null
           ],
           "yaxis": "y"
          },
          {
           "hovertemplate": "Pollutant=PXY<br>year=2017<br>Month=%{x}<br>Average Value=%{y}<extra></extra>",
           "legendgroup": "PXY",
           "line": {
            "color": "#ab63fa",
            "dash": "solid"
           },
           "marker": {
            "symbol": "circle"
           },
           "mode": "lines",
           "name": "PXY",
           "orientation": "v",
           "showlegend": true,
           "type": "scatter",
           "x": [
            1,
            2,
            3,
            4,
            5,
            6,
            7,
            8,
            9,
            10,
            11,
            12
           ],
           "xaxis": "x",
           "y": [
            null,
            null,
            null,
            null,
            null,
            null,
            null,
            null,
            null,
            null,
            null,
            null
           ],
           "yaxis": "y"
          },
          {
           "hovertemplate": "Pollutant=PM25<br>year=2017<br>Month=%{x}<br>Average Value=%{y}<extra></extra>",
           "legendgroup": "PM25",
           "line": {
            "color": "#FFA15A",
            "dash": "solid"
           },
           "marker": {
            "symbol": "circle"
           },
           "mode": "lines",
           "name": "PM25",
           "orientation": "v",
           "showlegend": true,
           "type": "scatter",
           "x": [
            1,
            2,
            3,
            4,
            5,
            6,
            7,
            8,
            9,
            10,
            11,
            12
           ],
           "xaxis": "x",
           "y": [
            -0.03412175736271186,
            -0.1681114730525076,
            -0.4065089794491679,
            -0.5241466624874153,
            -0.5263515001337853,
            -0.2933979650614294,
            -0.4076222762714243,
            -0.37985764679924006,
            -0.4858226393151155,
            -0.3862409214256509,
            -0.19805516641481613,
            -0.23556796071430638
           ],
           "yaxis": "y"
          },
          {
           "hovertemplate": "Pollutant=CH4<br>year=2017<br>Month=%{x}<br>Average Value=%{y}<extra></extra>",
           "legendgroup": "CH4",
           "line": {
            "color": "#19d3f3",
            "dash": "solid"
           },
           "marker": {
            "symbol": "circle"
           },
           "mode": "lines",
           "name": "CH4",
           "orientation": "v",
           "showlegend": true,
           "type": "scatter",
           "x": [
            1,
            2,
            3,
            4,
            5,
            6,
            7,
            8,
            9,
            10,
            11,
            12
           ],
           "xaxis": "x",
           "y": [
            -0.4816456120966608,
            null,
            null,
            null,
            null,
            null,
            null,
            null,
            null,
            -0.06975317090430459,
            0.1616991748789254,
            0.22571288996655337
           ],
           "yaxis": "y"
          },
          {
           "hovertemplate": "Pollutant=NO<br>year=2017<br>Month=%{x}<br>Average Value=%{y}<extra></extra>",
           "legendgroup": "NO",
           "line": {
            "color": "#FF6692",
            "dash": "solid"
           },
           "marker": {
            "symbol": "circle"
           },
           "mode": "lines",
           "name": "NO",
           "orientation": "v",
           "showlegend": true,
           "type": "scatter",
           "x": [
            1,
            2,
            3,
            4,
            5,
            6,
            7,
            8,
            9,
            10,
            11,
            12
           ],
           "xaxis": "x",
           "y": [
            0.44604811014399975,
            0.015531895544786258,
            -0.04307012227640734,
            -0.29038710105056337,
            -0.30889331326343844,
            -0.31841728459230173,
            -0.3027395671266186,
            -0.34604460010652793,
            -0.1678803688797265,
            0.14002461558120813,
            0.6719495033913347,
            0.48655400844097957
           ],
           "yaxis": "y"
          }
         ],
         "name": "2017"
        },
        {
         "data": [
          {
           "hovertemplate": "Pollutant=BEN<br>year=2018<br>Month=%{x}<br>Average Value=%{y}<extra></extra>",
           "legendgroup": "BEN",
           "line": {
            "color": "#636efa",
            "dash": "solid"
           },
           "marker": {
            "symbol": "circle"
           },
           "mode": "lines",
           "name": "BEN",
           "orientation": "v",
           "showlegend": true,
           "type": "scatter",
           "x": [
            1,
            2,
            3,
            4,
            5
           ],
           "xaxis": "x",
           "y": [
            -0.27611365771128266,
            -0.31091550692532915,
            -0.43111087031007755,
            -0.44691064842686923,
            -0.45744387082175564
           ],
           "yaxis": "y"
          },
          {
           "hovertemplate": "Pollutant=CO<br>year=2018<br>Month=%{x}<br>Average Value=%{y}<extra></extra>",
           "legendgroup": "CO",
           "line": {
            "color": "#EF553B",
            "dash": "solid"
           },
           "marker": {
            "symbol": "circle"
           },
           "mode": "lines",
           "name": "CO",
           "orientation": "v",
           "showlegend": true,
           "type": "scatter",
           "x": [
            1,
            2,
            3,
            4,
            5
           ],
           "xaxis": "x",
           "y": [
            -0.2547206674783085,
            -0.2994035184942848,
            -0.4835258399207729,
            -0.49707179315963657,
            -0.560995011132411
           ],
           "yaxis": "y"
          },
          {
           "hovertemplate": "Pollutant=EBE<br>year=2018<br>Month=%{x}<br>Average Value=%{y}<extra></extra>",
           "legendgroup": "EBE",
           "line": {
            "color": "#00cc96",
            "dash": "solid"
           },
           "marker": {
            "symbol": "circle"
           },
           "mode": "lines",
           "name": "EBE",
           "orientation": "v",
           "showlegend": true,
           "type": "scatter",
           "x": [
            1,
            2,
            3,
            4,
            5
           ],
           "xaxis": "x",
           "y": [
            -0.4682226826177031,
            -0.5063645365077235,
            -0.5566451187634784,
            -0.5316781529577689,
            -0.5628452185973242
           ],
           "yaxis": "y"
          },
          {
           "hovertemplate": "Pollutant=NMHC<br>year=2018<br>Month=%{x}<br>Average Value=%{y}<extra></extra>",
           "legendgroup": "NMHC",
           "line": {
            "color": "#ab63fa",
            "dash": "solid"
           },
           "marker": {
            "symbol": "circle"
           },
           "mode": "lines",
           "name": "NMHC",
           "orientation": "v",
           "showlegend": true,
           "type": "scatter",
           "x": [
            1,
            2,
            3,
            4,
            5
           ],
           "xaxis": "x",
           "y": [
            -0.8064285037431068,
            -0.6748399582042686,
            -0.8444967847092721,
            -0.8386527122229659,
            -0.8274387934675982
           ],
           "yaxis": "y"
          },
          {
           "hovertemplate": "Pollutant=NOx<br>year=2018<br>Month=%{x}<br>Average Value=%{y}<extra></extra>",
           "legendgroup": "NOx",
           "line": {
            "color": "#FFA15A",
            "dash": "solid"
           },
           "marker": {
            "symbol": "circle"
           },
           "mode": "lines",
           "name": "NOx",
           "orientation": "v",
           "showlegend": true,
           "type": "scatter",
           "x": [
            1,
            2,
            3,
            4,
            5
           ],
           "xaxis": "x",
           "y": [
            -0.01764604500699079,
            -0.24614753895973032,
            -0.599301911030426,
            -0.5900783866629128,
            -0.6852008553590667
           ],
           "yaxis": "y"
          },
          {
           "hovertemplate": "Pollutant=NO_2<br>year=2018<br>Month=%{x}<br>Average Value=%{y}<extra></extra>",
           "legendgroup": "NO_2",
           "line": {
            "color": "#19d3f3",
            "dash": "solid"
           },
           "marker": {
            "symbol": "circle"
           },
           "mode": "lines",
           "name": "NO_2",
           "orientation": "v",
           "showlegend": true,
           "type": "scatter",
           "x": [
            1,
            2,
            3,
            4,
            5
           ],
           "xaxis": "x",
           "y": [
            -0.054631424251669024,
            -0.13212388776054654,
            -0.6075554880798141,
            -0.5632180623188437,
            -0.6177925824870281
           ],
           "yaxis": "y"
          },
          {
           "hovertemplate": "Pollutant=O_3<br>year=2018<br>Month=%{x}<br>Average Value=%{y}<extra></extra>",
           "legendgroup": "O_3",
           "line": {
            "color": "#FF6692",
            "dash": "solid"
           },
           "marker": {
            "symbol": "circle"
           },
           "mode": "lines",
           "name": "O_3",
           "orientation": "v",
           "showlegend": true,
           "type": "scatter",
           "x": [
            1,
            2,
            3,
            4,
            5
           ],
           "xaxis": "x",
           "y": [
            -0.4742056701454328,
            -0.14164381890932262,
            0.6298191039188966,
            0.6363101587537027,
            0.5439166443477828
           ],
           "yaxis": "y"
          },
          {
           "hovertemplate": "Pollutant=PM10<br>year=2018<br>Month=%{x}<br>Average Value=%{y}<extra></extra>",
           "legendgroup": "PM10",
           "line": {
            "color": "#B6E880",
            "dash": "solid"
           },
           "marker": {
            "symbol": "circle"
           },
           "mode": "lines",
           "name": "PM10",
           "orientation": "v",
           "showlegend": true,
           "type": "scatter",
           "x": [
            1,
            2,
            3,
            4,
            5
           ],
           "xaxis": "x",
           "y": [
            -0.5306259518941167,
            -0.5855552744065833,
            -0.8056949075360212,
            -0.4482565771826397,
            -0.9432113918501963
           ],
           "yaxis": "y"
          },
          {
           "hovertemplate": "Pollutant=SO_2<br>year=2018<br>Month=%{x}<br>Average Value=%{y}<extra></extra>",
           "legendgroup": "SO_2",
           "line": {
            "color": "#FF97FF",
            "dash": "solid"
           },
           "marker": {
            "symbol": "circle"
           },
           "mode": "lines",
           "name": "SO_2",
           "orientation": "v",
           "showlegend": true,
           "type": "scatter",
           "x": [
            1,
            2,
            3,
            4,
            5
           ],
           "xaxis": "x",
           "y": [
            -0.46832015524303006,
            -0.4879347042991094,
            -0.6813018888275768,
            -0.6661718620016752,
            -0.6748393359651635
           ],
           "yaxis": "y"
          },
          {
           "hovertemplate": "Pollutant=TCH<br>year=2018<br>Month=%{x}<br>Average Value=%{y}<extra></extra>",
           "legendgroup": "TCH",
           "line": {
            "color": "#FECB52",
            "dash": "solid"
           },
           "marker": {
            "symbol": "circle"
           },
           "mode": "lines",
           "name": "TCH",
           "orientation": "v",
           "showlegend": true,
           "type": "scatter",
           "x": [
            1,
            2,
            3,
            4,
            5
           ],
           "xaxis": "x",
           "y": [
            -0.31178025535338755,
            -0.24668968527650764,
            -0.4957908941419081,
            -0.4057578275036591,
            -0.48257974983328156
           ],
           "yaxis": "y"
          },
          {
           "hovertemplate": "Pollutant=TOL<br>year=2018<br>Month=%{x}<br>Average Value=%{y}<extra></extra>",
           "legendgroup": "TOL",
           "line": {
            "color": "#636efa",
            "dash": "solid"
           },
           "marker": {
            "symbol": "circle"
           },
           "mode": "lines",
           "name": "TOL",
           "orientation": "v",
           "showlegend": true,
           "type": "scatter",
           "x": [
            1,
            2,
            3,
            4,
            5
           ],
           "xaxis": "x",
           "y": [
            -0.3846539694070821,
            -0.46952997535066293,
            -0.5759598004280739,
            -0.5425822444695371,
            -0.5896965229701471
           ],
           "yaxis": "y"
          },
          {
           "hovertemplate": "Pollutant=MXY<br>year=2018<br>Month=%{x}<br>Average Value=%{y}<extra></extra>",
           "legendgroup": "MXY",
           "line": {
            "color": "#EF553B",
            "dash": "solid"
           },
           "marker": {
            "symbol": "circle"
           },
           "mode": "lines",
           "name": "MXY",
           "orientation": "v",
           "showlegend": true,
           "type": "scatter",
           "x": [
            1,
            2,
            3,
            4,
            5
           ],
           "xaxis": "x",
           "y": [
            null,
            null,
            null,
            null,
            null
           ],
           "yaxis": "y"
          },
          {
           "hovertemplate": "Pollutant=OXY<br>year=2018<br>Month=%{x}<br>Average Value=%{y}<extra></extra>",
           "legendgroup": "OXY",
           "line": {
            "color": "#00cc96",
            "dash": "solid"
           },
           "marker": {
            "symbol": "circle"
           },
           "mode": "lines",
           "name": "OXY",
           "orientation": "v",
           "showlegend": true,
           "type": "scatter",
           "x": [
            1,
            2,
            3,
            4,
            5
           ],
           "xaxis": "x",
           "y": [
            null,
            null,
            null,
            null,
            null
           ],
           "yaxis": "y"
          },
          {
           "hovertemplate": "Pollutant=PXY<br>year=2018<br>Month=%{x}<br>Average Value=%{y}<extra></extra>",
           "legendgroup": "PXY",
           "line": {
            "color": "#ab63fa",
            "dash": "solid"
           },
           "marker": {
            "symbol": "circle"
           },
           "mode": "lines",
           "name": "PXY",
           "orientation": "v",
           "showlegend": true,
           "type": "scatter",
           "x": [
            1,
            2,
            3,
            4,
            5
           ],
           "xaxis": "x",
           "y": [
            null,
            null,
            null,
            null,
            null
           ],
           "yaxis": "y"
          },
          {
           "hovertemplate": "Pollutant=PM25<br>year=2018<br>Month=%{x}<br>Average Value=%{y}<extra></extra>",
           "legendgroup": "PM25",
           "line": {
            "color": "#FFA15A",
            "dash": "solid"
           },
           "marker": {
            "symbol": "circle"
           },
           "mode": "lines",
           "name": "PM25",
           "orientation": "v",
           "showlegend": true,
           "type": "scatter",
           "x": [
            1,
            2,
            3,
            4,
            5
           ],
           "xaxis": "x",
           "y": [
            -0.36305030398048427,
            -0.4372917311889276,
            -0.8121753862223897,
            -0.5376031688446439,
            -0.9872915450575356
           ],
           "yaxis": "y"
          },
          {
           "hovertemplate": "Pollutant=CH4<br>year=2018<br>Month=%{x}<br>Average Value=%{y}<extra></extra>",
           "legendgroup": "CH4",
           "line": {
            "color": "#19d3f3",
            "dash": "solid"
           },
           "marker": {
            "symbol": "circle"
           },
           "mode": "lines",
           "name": "CH4",
           "orientation": "v",
           "showlegend": true,
           "type": "scatter",
           "x": [
            1,
            2,
            3,
            4,
            5
           ],
           "xaxis": "x",
           "y": [
            -0.0011661852033950635,
            -0.027513601171546696,
            -0.19010371016307742,
            -0.0884575565022566,
            -0.19185454478901118
           ],
           "yaxis": "y"
          },
          {
           "hovertemplate": "Pollutant=NO<br>year=2018<br>Month=%{x}<br>Average Value=%{y}<extra></extra>",
           "legendgroup": "NO",
           "line": {
            "color": "#FF6692",
            "dash": "solid"
           },
           "marker": {
            "symbol": "circle"
           },
           "mode": "lines",
           "name": "NO",
           "orientation": "v",
           "showlegend": true,
           "type": "scatter",
           "x": [
            1,
            2,
            3,
            4,
            5
           ],
           "xaxis": "x",
           "y": [
            0.2968017182909044,
            0.004203088621736744,
            -0.2882850808831452,
            -0.2949880189408531,
            -0.409516143076446
           ],
           "yaxis": "y"
          }
         ],
         "name": "2018"
        }
       ],
       "layout": {
        "legend": {
         "title": {
          "text": "Pollutant"
         },
         "tracegroupgap": 0
        },
        "sliders": [
         {
          "active": 0,
          "currentvalue": {
           "prefix": "year="
          },
          "len": 0.9,
          "pad": {
           "b": 10,
           "t": 60
          },
          "steps": [
           {
            "args": [
             [
              "2001"
             ],
             {
              "frame": {
               "duration": 0,
               "redraw": false
              },
              "fromcurrent": true,
              "mode": "immediate",
              "transition": {
               "duration": 0,
               "easing": "linear"
              }
             }
            ],
            "label": "2001",
            "method": "animate"
           },
           {
            "args": [
             [
              "2002"
             ],
             {
              "frame": {
               "duration": 0,
               "redraw": false
              },
              "fromcurrent": true,
              "mode": "immediate",
              "transition": {
               "duration": 0,
               "easing": "linear"
              }
             }
            ],
            "label": "2002",
            "method": "animate"
           },
           {
            "args": [
             [
              "2003"
             ],
             {
              "frame": {
               "duration": 0,
               "redraw": false
              },
              "fromcurrent": true,
              "mode": "immediate",
              "transition": {
               "duration": 0,
               "easing": "linear"
              }
             }
            ],
            "label": "2003",
            "method": "animate"
           },
           {
            "args": [
             [
              "2004"
             ],
             {
              "frame": {
               "duration": 0,
               "redraw": false
              },
              "fromcurrent": true,
              "mode": "immediate",
              "transition": {
               "duration": 0,
               "easing": "linear"
              }
             }
            ],
            "label": "2004",
            "method": "animate"
           },
           {
            "args": [
             [
              "2005"
             ],
             {
              "frame": {
               "duration": 0,
               "redraw": false
              },
              "fromcurrent": true,
              "mode": "immediate",
              "transition": {
               "duration": 0,
               "easing": "linear"
              }
             }
            ],
            "label": "2005",
            "method": "animate"
           },
           {
            "args": [
             [
              "2006"
             ],
             {
              "frame": {
               "duration": 0,
               "redraw": false
              },
              "fromcurrent": true,
              "mode": "immediate",
              "transition": {
               "duration": 0,
               "easing": "linear"
              }
             }
            ],
            "label": "2006",
            "method": "animate"
           },
           {
            "args": [
             [
              "2007"
             ],
             {
              "frame": {
               "duration": 0,
               "redraw": false
              },
              "fromcurrent": true,
              "mode": "immediate",
              "transition": {
               "duration": 0,
               "easing": "linear"
              }
             }
            ],
            "label": "2007",
            "method": "animate"
           },
           {
            "args": [
             [
              "2008"
             ],
             {
              "frame": {
               "duration": 0,
               "redraw": false
              },
              "fromcurrent": true,
              "mode": "immediate",
              "transition": {
               "duration": 0,
               "easing": "linear"
              }
             }
            ],
            "label": "2008",
            "method": "animate"
           },
           {
            "args": [
             [
              "2009"
             ],
             {
              "frame": {
               "duration": 0,
               "redraw": false
              },
              "fromcurrent": true,
              "mode": "immediate",
              "transition": {
               "duration": 0,
               "easing": "linear"
              }
             }
            ],
            "label": "2009",
            "method": "animate"
           },
           {
            "args": [
             [
              "2010"
             ],
             {
              "frame": {
               "duration": 0,
               "redraw": false
              },
              "fromcurrent": true,
              "mode": "immediate",
              "transition": {
               "duration": 0,
               "easing": "linear"
              }
             }
            ],
            "label": "2010",
            "method": "animate"
           },
           {
            "args": [
             [
              "2011"
             ],
             {
              "frame": {
               "duration": 0,
               "redraw": false
              },
              "fromcurrent": true,
              "mode": "immediate",
              "transition": {
               "duration": 0,
               "easing": "linear"
              }
             }
            ],
            "label": "2011",
            "method": "animate"
           },
           {
            "args": [
             [
              "2012"
             ],
             {
              "frame": {
               "duration": 0,
               "redraw": false
              },
              "fromcurrent": true,
              "mode": "immediate",
              "transition": {
               "duration": 0,
               "easing": "linear"
              }
             }
            ],
            "label": "2012",
            "method": "animate"
           },
           {
            "args": [
             [
              "2013"
             ],
             {
              "frame": {
               "duration": 0,
               "redraw": false
              },
              "fromcurrent": true,
              "mode": "immediate",
              "transition": {
               "duration": 0,
               "easing": "linear"
              }
             }
            ],
            "label": "2013",
            "method": "animate"
           },
           {
            "args": [
             [
              "2014"
             ],
             {
              "frame": {
               "duration": 0,
               "redraw": false
              },
              "fromcurrent": true,
              "mode": "immediate",
              "transition": {
               "duration": 0,
               "easing": "linear"
              }
             }
            ],
            "label": "2014",
            "method": "animate"
           },
           {
            "args": [
             [
              "2015"
             ],
             {
              "frame": {
               "duration": 0,
               "redraw": false
              },
              "fromcurrent": true,
              "mode": "immediate",
              "transition": {
               "duration": 0,
               "easing": "linear"
              }
             }
            ],
            "label": "2015",
            "method": "animate"
           },
           {
            "args": [
             [
              "2016"
             ],
             {
              "frame": {
               "duration": 0,
               "redraw": false
              },
              "fromcurrent": true,
              "mode": "immediate",
              "transition": {
               "duration": 0,
               "easing": "linear"
              }
             }
            ],
            "label": "2016",
            "method": "animate"
           },
           {
            "args": [
             [
              "2017"
             ],
             {
              "frame": {
               "duration": 0,
               "redraw": false
              },
              "fromcurrent": true,
              "mode": "immediate",
              "transition": {
               "duration": 0,
               "easing": "linear"
              }
             }
            ],
            "label": "2017",
            "method": "animate"
           },
           {
            "args": [
             [
              "2018"
             ],
             {
              "frame": {
               "duration": 0,
               "redraw": false
              },
              "fromcurrent": true,
              "mode": "immediate",
              "transition": {
               "duration": 0,
               "easing": "linear"
              }
             }
            ],
            "label": "2018",
            "method": "animate"
           }
          ],
          "x": 0.1,
          "xanchor": "left",
          "y": 0,
          "yanchor": "top"
         }
        ],
        "template": {
         "data": {
          "bar": [
           {
            "error_x": {
             "color": "#2a3f5f"
            },
            "error_y": {
             "color": "#2a3f5f"
            },
            "marker": {
             "line": {
              "color": "white",
              "width": 0.5
             },
             "pattern": {
              "fillmode": "overlay",
              "size": 10,
              "solidity": 0.2
             }
            },
            "type": "bar"
           }
          ],
          "barpolar": [
           {
            "marker": {
             "line": {
              "color": "white",
              "width": 0.5
             },
             "pattern": {
              "fillmode": "overlay",
              "size": 10,
              "solidity": 0.2
             }
            },
            "type": "barpolar"
           }
          ],
          "carpet": [
           {
            "aaxis": {
             "endlinecolor": "#2a3f5f",
             "gridcolor": "#C8D4E3",
             "linecolor": "#C8D4E3",
             "minorgridcolor": "#C8D4E3",
             "startlinecolor": "#2a3f5f"
            },
            "baxis": {
             "endlinecolor": "#2a3f5f",
             "gridcolor": "#C8D4E3",
             "linecolor": "#C8D4E3",
             "minorgridcolor": "#C8D4E3",
             "startlinecolor": "#2a3f5f"
            },
            "type": "carpet"
           }
          ],
          "choropleth": [
           {
            "colorbar": {
             "outlinewidth": 0,
             "ticks": ""
            },
            "type": "choropleth"
           }
          ],
          "contour": [
           {
            "colorbar": {
             "outlinewidth": 0,
             "ticks": ""
            },
            "colorscale": [
             [
              0,
              "#0d0887"
             ],
             [
              0.1111111111111111,
              "#46039f"
             ],
             [
              0.2222222222222222,
              "#7201a8"
             ],
             [
              0.3333333333333333,
              "#9c179e"
             ],
             [
              0.4444444444444444,
              "#bd3786"
             ],
             [
              0.5555555555555556,
              "#d8576b"
             ],
             [
              0.6666666666666666,
              "#ed7953"
             ],
             [
              0.7777777777777778,
              "#fb9f3a"
             ],
             [
              0.8888888888888888,
              "#fdca26"
             ],
             [
              1,
              "#f0f921"
             ]
            ],
            "type": "contour"
           }
          ],
          "contourcarpet": [
           {
            "colorbar": {
             "outlinewidth": 0,
             "ticks": ""
            },
            "type": "contourcarpet"
           }
          ],
          "heatmap": [
           {
            "colorbar": {
             "outlinewidth": 0,
             "ticks": ""
            },
            "colorscale": [
             [
              0,
              "#0d0887"
             ],
             [
              0.1111111111111111,
              "#46039f"
             ],
             [
              0.2222222222222222,
              "#7201a8"
             ],
             [
              0.3333333333333333,
              "#9c179e"
             ],
             [
              0.4444444444444444,
              "#bd3786"
             ],
             [
              0.5555555555555556,
              "#d8576b"
             ],
             [
              0.6666666666666666,
              "#ed7953"
             ],
             [
              0.7777777777777778,
              "#fb9f3a"
             ],
             [
              0.8888888888888888,
              "#fdca26"
             ],
             [
              1,
              "#f0f921"
             ]
            ],
            "type": "heatmap"
           }
          ],
          "heatmapgl": [
           {
            "colorbar": {
             "outlinewidth": 0,
             "ticks": ""
            },
            "colorscale": [
             [
              0,
              "#0d0887"
             ],
             [
              0.1111111111111111,
              "#46039f"
             ],
             [
              0.2222222222222222,
              "#7201a8"
             ],
             [
              0.3333333333333333,
              "#9c179e"
             ],
             [
              0.4444444444444444,
              "#bd3786"
             ],
             [
              0.5555555555555556,
              "#d8576b"
             ],
             [
              0.6666666666666666,
              "#ed7953"
             ],
             [
              0.7777777777777778,
              "#fb9f3a"
             ],
             [
              0.8888888888888888,
              "#fdca26"
             ],
             [
              1,
              "#f0f921"
             ]
            ],
            "type": "heatmapgl"
           }
          ],
          "histogram": [
           {
            "marker": {
             "pattern": {
              "fillmode": "overlay",
              "size": 10,
              "solidity": 0.2
             }
            },
            "type": "histogram"
           }
          ],
          "histogram2d": [
           {
            "colorbar": {
             "outlinewidth": 0,
             "ticks": ""
            },
            "colorscale": [
             [
              0,
              "#0d0887"
             ],
             [
              0.1111111111111111,
              "#46039f"
             ],
             [
              0.2222222222222222,
              "#7201a8"
             ],
             [
              0.3333333333333333,
              "#9c179e"
             ],
             [
              0.4444444444444444,
              "#bd3786"
             ],
             [
              0.5555555555555556,
              "#d8576b"
             ],
             [
              0.6666666666666666,
              "#ed7953"
             ],
             [
              0.7777777777777778,
              "#fb9f3a"
             ],
             [
              0.8888888888888888,
              "#fdca26"
             ],
             [
              1,
              "#f0f921"
             ]
            ],
            "type": "histogram2d"
           }
          ],
          "histogram2dcontour": [
           {
            "colorbar": {
             "outlinewidth": 0,
             "ticks": ""
            },
            "colorscale": [
             [
              0,
              "#0d0887"
             ],
             [
              0.1111111111111111,
              "#46039f"
             ],
             [
              0.2222222222222222,
              "#7201a8"
             ],
             [
              0.3333333333333333,
              "#9c179e"
             ],
             [
              0.4444444444444444,
              "#bd3786"
             ],
             [
              0.5555555555555556,
              "#d8576b"
             ],
             [
              0.6666666666666666,
              "#ed7953"
             ],
             [
              0.7777777777777778,
              "#fb9f3a"
             ],
             [
              0.8888888888888888,
              "#fdca26"
             ],
             [
              1,
              "#f0f921"
             ]
            ],
            "type": "histogram2dcontour"
           }
          ],
          "mesh3d": [
           {
            "colorbar": {
             "outlinewidth": 0,
             "ticks": ""
            },
            "type": "mesh3d"
           }
          ],
          "parcoords": [
           {
            "line": {
             "colorbar": {
              "outlinewidth": 0,
              "ticks": ""
             }
            },
            "type": "parcoords"
           }
          ],
          "pie": [
           {
            "automargin": true,
            "type": "pie"
           }
          ],
          "scatter": [
           {
            "fillpattern": {
             "fillmode": "overlay",
             "size": 10,
             "solidity": 0.2
            },
            "type": "scatter"
           }
          ],
          "scatter3d": [
           {
            "line": {
             "colorbar": {
              "outlinewidth": 0,
              "ticks": ""
             }
            },
            "marker": {
             "colorbar": {
              "outlinewidth": 0,
              "ticks": ""
             }
            },
            "type": "scatter3d"
           }
          ],
          "scattercarpet": [
           {
            "marker": {
             "colorbar": {
              "outlinewidth": 0,
              "ticks": ""
             }
            },
            "type": "scattercarpet"
           }
          ],
          "scattergeo": [
           {
            "marker": {
             "colorbar": {
              "outlinewidth": 0,
              "ticks": ""
             }
            },
            "type": "scattergeo"
           }
          ],
          "scattergl": [
           {
            "marker": {
             "colorbar": {
              "outlinewidth": 0,
              "ticks": ""
             }
            },
            "type": "scattergl"
           }
          ],
          "scattermapbox": [
           {
            "marker": {
             "colorbar": {
              "outlinewidth": 0,
              "ticks": ""
             }
            },
            "type": "scattermapbox"
           }
          ],
          "scatterpolar": [
           {
            "marker": {
             "colorbar": {
              "outlinewidth": 0,
              "ticks": ""
             }
            },
            "type": "scatterpolar"
           }
          ],
          "scatterpolargl": [
           {
            "marker": {
             "colorbar": {
              "outlinewidth": 0,
              "ticks": ""
             }
            },
            "type": "scatterpolargl"
           }
          ],
          "scatterternary": [
           {
            "marker": {
             "colorbar": {
              "outlinewidth": 0,
              "ticks": ""
             }
            },
            "type": "scatterternary"
           }
          ],
          "surface": [
           {
            "colorbar": {
             "outlinewidth": 0,
             "ticks": ""
            },
            "colorscale": [
             [
              0,
              "#0d0887"
             ],
             [
              0.1111111111111111,
              "#46039f"
             ],
             [
              0.2222222222222222,
              "#7201a8"
             ],
             [
              0.3333333333333333,
              "#9c179e"
             ],
             [
              0.4444444444444444,
              "#bd3786"
             ],
             [
              0.5555555555555556,
              "#d8576b"
             ],
             [
              0.6666666666666666,
              "#ed7953"
             ],
             [
              0.7777777777777778,
              "#fb9f3a"
             ],
             [
              0.8888888888888888,
              "#fdca26"
             ],
             [
              1,
              "#f0f921"
             ]
            ],
            "type": "surface"
           }
          ],
          "table": [
           {
            "cells": {
             "fill": {
              "color": "#EBF0F8"
             },
             "line": {
              "color": "white"
             }
            },
            "header": {
             "fill": {
              "color": "#C8D4E3"
             },
             "line": {
              "color": "white"
             }
            },
            "type": "table"
           }
          ]
         },
         "layout": {
          "annotationdefaults": {
           "arrowcolor": "#2a3f5f",
           "arrowhead": 0,
           "arrowwidth": 1
          },
          "autotypenumbers": "strict",
          "coloraxis": {
           "colorbar": {
            "outlinewidth": 0,
            "ticks": ""
           }
          },
          "colorscale": {
           "diverging": [
            [
             0,
             "#8e0152"
            ],
            [
             0.1,
             "#c51b7d"
            ],
            [
             0.2,
             "#de77ae"
            ],
            [
             0.3,
             "#f1b6da"
            ],
            [
             0.4,
             "#fde0ef"
            ],
            [
             0.5,
             "#f7f7f7"
            ],
            [
             0.6,
             "#e6f5d0"
            ],
            [
             0.7,
             "#b8e186"
            ],
            [
             0.8,
             "#7fbc41"
            ],
            [
             0.9,
             "#4d9221"
            ],
            [
             1,
             "#276419"
            ]
           ],
           "sequential": [
            [
             0,
             "#0d0887"
            ],
            [
             0.1111111111111111,
             "#46039f"
            ],
            [
             0.2222222222222222,
             "#7201a8"
            ],
            [
             0.3333333333333333,
             "#9c179e"
            ],
            [
             0.4444444444444444,
             "#bd3786"
            ],
            [
             0.5555555555555556,
             "#d8576b"
            ],
            [
             0.6666666666666666,
             "#ed7953"
            ],
            [
             0.7777777777777778,
             "#fb9f3a"
            ],
            [
             0.8888888888888888,
             "#fdca26"
            ],
            [
             1,
             "#f0f921"
            ]
           ],
           "sequentialminus": [
            [
             0,
             "#0d0887"
            ],
            [
             0.1111111111111111,
             "#46039f"
            ],
            [
             0.2222222222222222,
             "#7201a8"
            ],
            [
             0.3333333333333333,
             "#9c179e"
            ],
            [
             0.4444444444444444,
             "#bd3786"
            ],
            [
             0.5555555555555556,
             "#d8576b"
            ],
            [
             0.6666666666666666,
             "#ed7953"
            ],
            [
             0.7777777777777778,
             "#fb9f3a"
            ],
            [
             0.8888888888888888,
             "#fdca26"
            ],
            [
             1,
             "#f0f921"
            ]
           ]
          },
          "colorway": [
           "#636efa",
           "#EF553B",
           "#00cc96",
           "#ab63fa",
           "#FFA15A",
           "#19d3f3",
           "#FF6692",
           "#B6E880",
           "#FF97FF",
           "#FECB52"
          ],
          "font": {
           "color": "#2a3f5f"
          },
          "geo": {
           "bgcolor": "white",
           "lakecolor": "white",
           "landcolor": "white",
           "showlakes": true,
           "showland": true,
           "subunitcolor": "#C8D4E3"
          },
          "hoverlabel": {
           "align": "left"
          },
          "hovermode": "closest",
          "mapbox": {
           "style": "light"
          },
          "paper_bgcolor": "white",
          "plot_bgcolor": "white",
          "polar": {
           "angularaxis": {
            "gridcolor": "#EBF0F8",
            "linecolor": "#EBF0F8",
            "ticks": ""
           },
           "bgcolor": "white",
           "radialaxis": {
            "gridcolor": "#EBF0F8",
            "linecolor": "#EBF0F8",
            "ticks": ""
           }
          },
          "scene": {
           "xaxis": {
            "backgroundcolor": "white",
            "gridcolor": "#DFE8F3",
            "gridwidth": 2,
            "linecolor": "#EBF0F8",
            "showbackground": true,
            "ticks": "",
            "zerolinecolor": "#EBF0F8"
           },
           "yaxis": {
            "backgroundcolor": "white",
            "gridcolor": "#DFE8F3",
            "gridwidth": 2,
            "linecolor": "#EBF0F8",
            "showbackground": true,
            "ticks": "",
            "zerolinecolor": "#EBF0F8"
           },
           "zaxis": {
            "backgroundcolor": "white",
            "gridcolor": "#DFE8F3",
            "gridwidth": 2,
            "linecolor": "#EBF0F8",
            "showbackground": true,
            "ticks": "",
            "zerolinecolor": "#EBF0F8"
           }
          },
          "shapedefaults": {
           "line": {
            "color": "#2a3f5f"
           }
          },
          "ternary": {
           "aaxis": {
            "gridcolor": "#DFE8F3",
            "linecolor": "#A2B1C6",
            "ticks": ""
           },
           "baxis": {
            "gridcolor": "#DFE8F3",
            "linecolor": "#A2B1C6",
            "ticks": ""
           },
           "bgcolor": "white",
           "caxis": {
            "gridcolor": "#DFE8F3",
            "linecolor": "#A2B1C6",
            "ticks": ""
           }
          },
          "title": {
           "x": 0.05
          },
          "xaxis": {
           "automargin": true,
           "gridcolor": "#EBF0F8",
           "linecolor": "#EBF0F8",
           "ticks": "",
           "title": {
            "standoff": 15
           },
           "zerolinecolor": "#EBF0F8",
           "zerolinewidth": 2
          },
          "yaxis": {
           "automargin": true,
           "gridcolor": "#EBF0F8",
           "linecolor": "#EBF0F8",
           "ticks": "",
           "title": {
            "standoff": 15
           },
           "zerolinecolor": "#EBF0F8",
           "zerolinewidth": 2
          }
         }
        },
        "title": {
         "text": "Monthly Average of Pollutants Over Years (Animated)"
        },
        "updatemenus": [
         {
          "buttons": [
           {
            "args": [
             null,
             {
              "frame": {
               "duration": 500,
               "redraw": false
              },
              "fromcurrent": true,
              "mode": "immediate",
              "transition": {
               "duration": 500,
               "easing": "linear"
              }
             }
            ],
            "label": "&#9654;",
            "method": "animate"
           },
           {
            "args": [
             [
              null
             ],
             {
              "frame": {
               "duration": 0,
               "redraw": false
              },
              "fromcurrent": true,
              "mode": "immediate",
              "transition": {
               "duration": 0,
               "easing": "linear"
              }
             }
            ],
            "label": "&#9724;",
            "method": "animate"
           }
          ],
          "direction": "left",
          "pad": {
           "r": 10,
           "t": 70
          },
          "showactive": false,
          "type": "buttons",
          "x": 0.1,
          "xanchor": "right",
          "y": 0,
          "yanchor": "top"
         }
        ],
        "xaxis": {
         "anchor": "y",
         "domain": [
          0,
          1
         ],
         "title": {
          "text": "Month"
         }
        },
        "yaxis": {
         "anchor": "x",
         "domain": [
          0,
          1
         ],
         "title": {
          "text": "Average Value"
         }
        }
       }
      },
      "text/html": [
       "<div>                            <div id=\"56cea037-3da1-407f-8ef6-b837502bab36\" class=\"plotly-graph-div\" style=\"height:525px; width:100%;\"></div>            <script type=\"text/javascript\">                require([\"plotly\"], function(Plotly) {                    window.PLOTLYENV=window.PLOTLYENV || {};                                    if (document.getElementById(\"56cea037-3da1-407f-8ef6-b837502bab36\")) {                    Plotly.newPlot(                        \"56cea037-3da1-407f-8ef6-b837502bab36\",                        [{\"hovertemplate\":\"Pollutant=BEN\\u003cbr\\u003eyear=2001\\u003cbr\\u003eMonth=%{x}\\u003cbr\\u003eAverage Value=%{y}\\u003cextra\\u003e\\u003c\\u002fextra\\u003e\",\"legendgroup\":\"BEN\",\"line\":{\"color\":\"#636efa\",\"dash\":\"solid\"},\"marker\":{\"symbol\":\"circle\"},\"mode\":\"lines\",\"name\":\"BEN\",\"orientation\":\"v\",\"showlegend\":true,\"x\":[1,2,3,4,5,6,7,8,9,10,11,12],\"xaxis\":\"x\",\"y\":[1.5782545676380642,1.6470837272808847,0.975809045095784,0.6904499128299236,0.7531014233887571,0.7785613787828608,0.5576199216126959,0.30677819438880144,0.609157303350478,0.9024115472458126,1.2751020885286264,2.457970306000788],\"yaxis\":\"y\",\"type\":\"scatter\"},{\"hovertemplate\":\"Pollutant=CO\\u003cbr\\u003eyear=2001\\u003cbr\\u003eMonth=%{x}\\u003cbr\\u003eAverage Value=%{y}\\u003cextra\\u003e\\u003c\\u002fextra\\u003e\",\"legendgroup\":\"CO\",\"line\":{\"color\":\"#EF553B\",\"dash\":\"solid\"},\"marker\":{\"symbol\":\"circle\"},\"mode\":\"lines\",\"name\":\"CO\",\"orientation\":\"v\",\"showlegend\":true,\"x\":[1,2,3,4,5,6,7,8,9,10,11,12],\"xaxis\":\"x\",\"y\":[1.1357445899927594,1.2730215326625935,0.5318138507421778,0.2491420143922465,0.416352776724105,0.33076667400258203,0.1412566651259353,0.002660644096839578,0.3602000478893393,0.7436734437224333,1.0907943551622166,1.9613486277546186],\"yaxis\":\"y\",\"type\":\"scatter\"},{\"hovertemplate\":\"Pollutant=EBE\\u003cbr\\u003eyear=2001\\u003cbr\\u003eMonth=%{x}\\u003cbr\\u003eAverage Value=%{y}\\u003cextra\\u003e\\u003c\\u002fextra\\u003e\",\"legendgroup\":\"EBE\",\"line\":{\"color\":\"#00cc96\",\"dash\":\"solid\"},\"marker\":{\"symbol\":\"circle\"},\"mode\":\"lines\",\"name\":\"EBE\",\"orientation\":\"v\",\"showlegend\":true,\"x\":[1,2,3,4,5,6,7,8,9,10,11,12],\"xaxis\":\"x\",\"y\":[1.1767756032464318,1.3043467116348748,0.7311853799024974,0.629900177254116,0.7422770217453528,0.8432039768865783,0.6654399273481474,0.3881743906747961,0.4647346716274252,0.785967288623179,0.8772029981297057,1.9789537270071331],\"yaxis\":\"y\",\"type\":\"scatter\"},{\"hovertemplate\":\"Pollutant=NMHC\\u003cbr\\u003eyear=2001\\u003cbr\\u003eMonth=%{x}\\u003cbr\\u003eAverage Value=%{y}\\u003cextra\\u003e\\u003c\\u002fextra\\u003e\",\"legendgroup\":\"NMHC\",\"line\":{\"color\":\"#ab63fa\",\"dash\":\"solid\"},\"marker\":{\"symbol\":\"circle\"},\"mode\":\"lines\",\"name\":\"NMHC\",\"orientation\":\"v\",\"showlegend\":true,\"x\":[1,2,3,4,5,6,7,8,9,10,11,12],\"xaxis\":\"x\",\"y\":[0.3335919778442109,0.4687907775855641,-0.0834005413611285,-0.4280719255509795,-0.2126960342658916,-0.03600191942401798,-0.2204459793048815,-0.2289227448955801,-0.019714154844527258,0.22266807148504775,0.17643736851266903,0.6817056052715126],\"yaxis\":\"y\",\"type\":\"scatter\"},{\"hovertemplate\":\"Pollutant=NOx\\u003cbr\\u003eyear=2001\\u003cbr\\u003eMonth=%{x}\\u003cbr\\u003eAverage Value=%{y}\\u003cextra\\u003e\\u003c\\u002fextra\\u003e\",\"legendgroup\":\"NOx\",\"line\":{\"color\":\"#FFA15A\",\"dash\":\"solid\"},\"marker\":{\"symbol\":\"circle\"},\"mode\":\"lines\",\"name\":\"NOx\",\"orientation\":\"v\",\"showlegend\":true,\"x\":[1,2,3,4,5,6,7,8,9,10,11,12],\"xaxis\":\"x\",\"y\":[0.3633797832901175,0.5726070367264139,-0.03189140333205281,-0.12406854348034567,0.00986684516557275,0.06113644277439797,-0.05531255705645726,-0.1148423364514462,0.1096063538350456,0.3188457686202897,0.6851670881062114,1.467156928231212],\"yaxis\":\"y\",\"type\":\"scatter\"},{\"hovertemplate\":\"Pollutant=NO_2\\u003cbr\\u003eyear=2001\\u003cbr\\u003eMonth=%{x}\\u003cbr\\u003eAverage Value=%{y}\\u003cextra\\u003e\\u003c\\u002fextra\\u003e\",\"legendgroup\":\"NO_2\",\"line\":{\"color\":\"#19d3f3\",\"dash\":\"solid\"},\"marker\":{\"symbol\":\"circle\"},\"mode\":\"lines\",\"name\":\"NO_2\",\"orientation\":\"v\",\"showlegend\":true,\"x\":[1,2,3,4,5,6,7,8,9,10,11,12],\"xaxis\":\"x\",\"y\":[0.19057571530364512,0.4113795400906759,-0.02905038839898754,0.07653770053588257,0.39355231601256696,0.4921964699338466,0.3240505937565022,0.1516060011743617,0.4278544671530045,0.25110678504687306,0.5278468547329892,1.109715850699898],\"yaxis\":\"y\",\"type\":\"scatter\"},{\"hovertemplate\":\"Pollutant=O_3\\u003cbr\\u003eyear=2001\\u003cbr\\u003eMonth=%{x}\\u003cbr\\u003eAverage Value=%{y}\\u003cextra\\u003e\\u003c\\u002fextra\\u003e\",\"legendgroup\":\"O_3\",\"line\":{\"color\":\"#FF6692\",\"dash\":\"solid\"},\"marker\":{\"symbol\":\"circle\"},\"mode\":\"lines\",\"name\":\"O_3\",\"orientation\":\"v\",\"showlegend\":true,\"x\":[1,2,3,4,5,6,7,8,9,10,11,12],\"xaxis\":\"x\",\"y\":[-0.6692846191881066,-0.6350638311460066,-0.3558432413725236,0.020007619941212945,0.04003442078833762,0.20424593944375924,0.2410088649436234,0.23897108232951939,-0.031668264876682437,-0.5805488804952393,-0.6699550517805339,-1.0023204113688373],\"yaxis\":\"y\",\"type\":\"scatter\"},{\"hovertemplate\":\"Pollutant=PM10\\u003cbr\\u003eyear=2001\\u003cbr\\u003eMonth=%{x}\\u003cbr\\u003eAverage Value=%{y}\\u003cextra\\u003e\\u003c\\u002fextra\\u003e\",\"legendgroup\":\"PM10\",\"line\":{\"color\":\"#B6E880\",\"dash\":\"solid\"},\"marker\":{\"symbol\":\"circle\"},\"mode\":\"lines\",\"name\":\"PM10\",\"orientation\":\"v\",\"showlegend\":true,\"x\":[1,2,3,4,5,6,7,8,9,10,11,12],\"xaxis\":\"x\",\"y\":[0.021795305919301598,0.32009720685618936,-0.15012870621395377,-0.12452837426927067,-0.004509958618003475,0.39345134461262354,0.2812953698736327,0.3755862696319706,0.30363332448802766,0.13021876221234116,0.2337560213570064,0.8728041028525254],\"yaxis\":\"y\",\"type\":\"scatter\"},{\"hovertemplate\":\"Pollutant=SO_2\\u003cbr\\u003eyear=2001\\u003cbr\\u003eMonth=%{x}\\u003cbr\\u003eAverage Value=%{y}\\u003cextra\\u003e\\u003c\\u002fextra\\u003e\",\"legendgroup\":\"SO_2\",\"line\":{\"color\":\"#FF97FF\",\"dash\":\"solid\"},\"marker\":{\"symbol\":\"circle\"},\"mode\":\"lines\",\"name\":\"SO_2\",\"orientation\":\"v\",\"showlegend\":true,\"x\":[1,2,3,4,5,6,7,8,9,10,11,12],\"xaxis\":\"x\",\"y\":[1.5731760660092144,2.0229228043095664,0.861572870002908,0.4923912943623938,0.44564369854706287,0.49910022022511547,0.14367292479408256,-0.04282614601878837,0.10030881028383151,0.23522496167776152,1.62469749728869,2.2734170198503767],\"yaxis\":\"y\",\"type\":\"scatter\"},{\"hovertemplate\":\"Pollutant=TCH\\u003cbr\\u003eyear=2001\\u003cbr\\u003eMonth=%{x}\\u003cbr\\u003eAverage Value=%{y}\\u003cextra\\u003e\\u003c\\u002fextra\\u003e\",\"legendgroup\":\"TCH\",\"line\":{\"color\":\"#FECB52\",\"dash\":\"solid\"},\"marker\":{\"symbol\":\"circle\"},\"mode\":\"lines\",\"name\":\"TCH\",\"orientation\":\"v\",\"showlegend\":true,\"x\":[1,2,3,4,5,6,7,8,9,10,11,12],\"xaxis\":\"x\",\"y\":[0.45323232790937257,0.48623874074267737,0.0020947650293684705,-0.3916731507317389,-0.1975208229320988,-0.1655229079033182,-0.2890127184921358,-0.24176892096210675,-0.017815603292076616,0.26260352705717566,0.27500987637683816,1.0787889429203863],\"yaxis\":\"y\",\"type\":\"scatter\"},{\"hovertemplate\":\"Pollutant=TOL\\u003cbr\\u003eyear=2001\\u003cbr\\u003eMonth=%{x}\\u003cbr\\u003eAverage Value=%{y}\\u003cextra\\u003e\\u003c\\u002fextra\\u003e\",\"legendgroup\":\"TOL\",\"line\":{\"color\":\"#636efa\",\"dash\":\"solid\"},\"marker\":{\"symbol\":\"circle\"},\"mode\":\"lines\",\"name\":\"TOL\",\"orientation\":\"v\",\"showlegend\":true,\"x\":[1,2,3,4,5,6,7,8,9,10,11,12],\"xaxis\":\"x\",\"y\":[1.1837063016486264,1.2363033400829162,0.620354587016765,0.3913671370593672,0.6559197094967063,0.8004730123830522,0.8004763818014211,0.7831163196412737,1.0890701889541243,1.3680534528341222,1.4115807178039954,2.581286163134444],\"yaxis\":\"y\",\"type\":\"scatter\"},{\"hovertemplate\":\"Pollutant=MXY\\u003cbr\\u003eyear=2001\\u003cbr\\u003eMonth=%{x}\\u003cbr\\u003eAverage Value=%{y}\\u003cextra\\u003e\\u003c\\u002fextra\\u003e\",\"legendgroup\":\"MXY\",\"line\":{\"color\":\"#EF553B\",\"dash\":\"solid\"},\"marker\":{\"symbol\":\"circle\"},\"mode\":\"lines\",\"name\":\"MXY\",\"orientation\":\"v\",\"showlegend\":true,\"x\":[1,2,3,4,5,6,7,8,9,10,11,12],\"xaxis\":\"x\",\"y\":[0.34979848421969656,0.5381044048802491,0.23921889206237287,0.04208156713033709,0.14444993852611637,0.22368795470969488,0.14126626280336774,0.0519646134755083,0.20626491255937682,0.6230582320187179,0.6691342013250929,1.6112771585775598],\"yaxis\":\"y\",\"type\":\"scatter\"},{\"hovertemplate\":\"Pollutant=OXY\\u003cbr\\u003eyear=2001\\u003cbr\\u003eMonth=%{x}\\u003cbr\\u003eAverage Value=%{y}\\u003cextra\\u003e\\u003c\\u002fextra\\u003e\",\"legendgroup\":\"OXY\",\"line\":{\"color\":\"#00cc96\",\"dash\":\"solid\"},\"marker\":{\"symbol\":\"circle\"},\"mode\":\"lines\",\"name\":\"OXY\",\"orientation\":\"v\",\"showlegend\":true,\"x\":[1,2,3,4,5,6,7,8,9,10,11,12],\"xaxis\":\"x\",\"y\":[0.28311610243406826,0.4221651454428784,0.15935535849631974,-0.04865691704908203,0.06390697898968034,0.15191447823467544,0.09282836701700768,-0.015015117334711182,0.09278000527359702,0.4549250065988632,0.5343172408045465,1.3296045638089222],\"yaxis\":\"y\",\"type\":\"scatter\"},{\"hovertemplate\":\"Pollutant=PXY\\u003cbr\\u003eyear=2001\\u003cbr\\u003eMonth=%{x}\\u003cbr\\u003eAverage Value=%{y}\\u003cextra\\u003e\\u003c\\u002fextra\\u003e\",\"legendgroup\":\"PXY\",\"line\":{\"color\":\"#ab63fa\",\"dash\":\"solid\"},\"marker\":{\"symbol\":\"circle\"},\"mode\":\"lines\",\"name\":\"PXY\",\"orientation\":\"v\",\"showlegend\":true,\"x\":[1,2,3,4,5,6,7,8,9,10,11,12],\"xaxis\":\"x\",\"y\":[0.21482588440830724,0.43511049608289004,0.09897292329030927,-0.06063493673282269,0.026198589804917773,0.13513939404092232,0.06613154098074811,-0.04918050906869785,0.10376204645633069,0.42976898770294536,0.6332204203962227,1.6143403533314846],\"yaxis\":\"y\",\"type\":\"scatter\"},{\"hovertemplate\":\"Pollutant=PM25\\u003cbr\\u003eyear=2001\\u003cbr\\u003eMonth=%{x}\\u003cbr\\u003eAverage Value=%{y}\\u003cextra\\u003e\\u003c\\u002fextra\\u003e\",\"legendgroup\":\"PM25\",\"line\":{\"color\":\"#FFA15A\",\"dash\":\"solid\"},\"marker\":{\"symbol\":\"circle\"},\"mode\":\"lines\",\"name\":\"PM25\",\"orientation\":\"v\",\"showlegend\":true,\"x\":[1,2,3,4,5,6,7,8,9,10,11,12],\"xaxis\":\"x\",\"y\":[null,null,null,null,null,null,null,null,null,null,null,null],\"yaxis\":\"y\",\"type\":\"scatter\"},{\"hovertemplate\":\"Pollutant=CH4\\u003cbr\\u003eyear=2001\\u003cbr\\u003eMonth=%{x}\\u003cbr\\u003eAverage Value=%{y}\\u003cextra\\u003e\\u003c\\u002fextra\\u003e\",\"legendgroup\":\"CH4\",\"line\":{\"color\":\"#19d3f3\",\"dash\":\"solid\"},\"marker\":{\"symbol\":\"circle\"},\"mode\":\"lines\",\"name\":\"CH4\",\"orientation\":\"v\",\"showlegend\":true,\"x\":[1,2,3,4,5,6,7,8,9,10,11,12],\"xaxis\":\"x\",\"y\":[null,null,null,null,null,null,null,null,null,null,null,null],\"yaxis\":\"y\",\"type\":\"scatter\"},{\"hovertemplate\":\"Pollutant=NO\\u003cbr\\u003eyear=2001\\u003cbr\\u003eMonth=%{x}\\u003cbr\\u003eAverage Value=%{y}\\u003cextra\\u003e\\u003c\\u002fextra\\u003e\",\"legendgroup\":\"NO\",\"line\":{\"color\":\"#FF6692\",\"dash\":\"solid\"},\"marker\":{\"symbol\":\"circle\"},\"mode\":\"lines\",\"name\":\"NO\",\"orientation\":\"v\",\"showlegend\":true,\"x\":[1,2,3,4,5,6,7,8,9,10,11,12],\"xaxis\":\"x\",\"y\":[null,null,null,null,null,null,null,null,null,null,null,null],\"yaxis\":\"y\",\"type\":\"scatter\"}],                        {\"template\":{\"data\":{\"barpolar\":[{\"marker\":{\"line\":{\"color\":\"white\",\"width\":0.5},\"pattern\":{\"fillmode\":\"overlay\",\"size\":10,\"solidity\":0.2}},\"type\":\"barpolar\"}],\"bar\":[{\"error_x\":{\"color\":\"#2a3f5f\"},\"error_y\":{\"color\":\"#2a3f5f\"},\"marker\":{\"line\":{\"color\":\"white\",\"width\":0.5},\"pattern\":{\"fillmode\":\"overlay\",\"size\":10,\"solidity\":0.2}},\"type\":\"bar\"}],\"carpet\":[{\"aaxis\":{\"endlinecolor\":\"#2a3f5f\",\"gridcolor\":\"#C8D4E3\",\"linecolor\":\"#C8D4E3\",\"minorgridcolor\":\"#C8D4E3\",\"startlinecolor\":\"#2a3f5f\"},\"baxis\":{\"endlinecolor\":\"#2a3f5f\",\"gridcolor\":\"#C8D4E3\",\"linecolor\":\"#C8D4E3\",\"minorgridcolor\":\"#C8D4E3\",\"startlinecolor\":\"#2a3f5f\"},\"type\":\"carpet\"}],\"choropleth\":[{\"colorbar\":{\"outlinewidth\":0,\"ticks\":\"\"},\"type\":\"choropleth\"}],\"contourcarpet\":[{\"colorbar\":{\"outlinewidth\":0,\"ticks\":\"\"},\"type\":\"contourcarpet\"}],\"contour\":[{\"colorbar\":{\"outlinewidth\":0,\"ticks\":\"\"},\"colorscale\":[[0.0,\"#0d0887\"],[0.1111111111111111,\"#46039f\"],[0.2222222222222222,\"#7201a8\"],[0.3333333333333333,\"#9c179e\"],[0.4444444444444444,\"#bd3786\"],[0.5555555555555556,\"#d8576b\"],[0.6666666666666666,\"#ed7953\"],[0.7777777777777778,\"#fb9f3a\"],[0.8888888888888888,\"#fdca26\"],[1.0,\"#f0f921\"]],\"type\":\"contour\"}],\"heatmapgl\":[{\"colorbar\":{\"outlinewidth\":0,\"ticks\":\"\"},\"colorscale\":[[0.0,\"#0d0887\"],[0.1111111111111111,\"#46039f\"],[0.2222222222222222,\"#7201a8\"],[0.3333333333333333,\"#9c179e\"],[0.4444444444444444,\"#bd3786\"],[0.5555555555555556,\"#d8576b\"],[0.6666666666666666,\"#ed7953\"],[0.7777777777777778,\"#fb9f3a\"],[0.8888888888888888,\"#fdca26\"],[1.0,\"#f0f921\"]],\"type\":\"heatmapgl\"}],\"heatmap\":[{\"colorbar\":{\"outlinewidth\":0,\"ticks\":\"\"},\"colorscale\":[[0.0,\"#0d0887\"],[0.1111111111111111,\"#46039f\"],[0.2222222222222222,\"#7201a8\"],[0.3333333333333333,\"#9c179e\"],[0.4444444444444444,\"#bd3786\"],[0.5555555555555556,\"#d8576b\"],[0.6666666666666666,\"#ed7953\"],[0.7777777777777778,\"#fb9f3a\"],[0.8888888888888888,\"#fdca26\"],[1.0,\"#f0f921\"]],\"type\":\"heatmap\"}],\"histogram2dcontour\":[{\"colorbar\":{\"outlinewidth\":0,\"ticks\":\"\"},\"colorscale\":[[0.0,\"#0d0887\"],[0.1111111111111111,\"#46039f\"],[0.2222222222222222,\"#7201a8\"],[0.3333333333333333,\"#9c179e\"],[0.4444444444444444,\"#bd3786\"],[0.5555555555555556,\"#d8576b\"],[0.6666666666666666,\"#ed7953\"],[0.7777777777777778,\"#fb9f3a\"],[0.8888888888888888,\"#fdca26\"],[1.0,\"#f0f921\"]],\"type\":\"histogram2dcontour\"}],\"histogram2d\":[{\"colorbar\":{\"outlinewidth\":0,\"ticks\":\"\"},\"colorscale\":[[0.0,\"#0d0887\"],[0.1111111111111111,\"#46039f\"],[0.2222222222222222,\"#7201a8\"],[0.3333333333333333,\"#9c179e\"],[0.4444444444444444,\"#bd3786\"],[0.5555555555555556,\"#d8576b\"],[0.6666666666666666,\"#ed7953\"],[0.7777777777777778,\"#fb9f3a\"],[0.8888888888888888,\"#fdca26\"],[1.0,\"#f0f921\"]],\"type\":\"histogram2d\"}],\"histogram\":[{\"marker\":{\"pattern\":{\"fillmode\":\"overlay\",\"size\":10,\"solidity\":0.2}},\"type\":\"histogram\"}],\"mesh3d\":[{\"colorbar\":{\"outlinewidth\":0,\"ticks\":\"\"},\"type\":\"mesh3d\"}],\"parcoords\":[{\"line\":{\"colorbar\":{\"outlinewidth\":0,\"ticks\":\"\"}},\"type\":\"parcoords\"}],\"pie\":[{\"automargin\":true,\"type\":\"pie\"}],\"scatter3d\":[{\"line\":{\"colorbar\":{\"outlinewidth\":0,\"ticks\":\"\"}},\"marker\":{\"colorbar\":{\"outlinewidth\":0,\"ticks\":\"\"}},\"type\":\"scatter3d\"}],\"scattercarpet\":[{\"marker\":{\"colorbar\":{\"outlinewidth\":0,\"ticks\":\"\"}},\"type\":\"scattercarpet\"}],\"scattergeo\":[{\"marker\":{\"colorbar\":{\"outlinewidth\":0,\"ticks\":\"\"}},\"type\":\"scattergeo\"}],\"scattergl\":[{\"marker\":{\"colorbar\":{\"outlinewidth\":0,\"ticks\":\"\"}},\"type\":\"scattergl\"}],\"scattermapbox\":[{\"marker\":{\"colorbar\":{\"outlinewidth\":0,\"ticks\":\"\"}},\"type\":\"scattermapbox\"}],\"scatterpolargl\":[{\"marker\":{\"colorbar\":{\"outlinewidth\":0,\"ticks\":\"\"}},\"type\":\"scatterpolargl\"}],\"scatterpolar\":[{\"marker\":{\"colorbar\":{\"outlinewidth\":0,\"ticks\":\"\"}},\"type\":\"scatterpolar\"}],\"scatter\":[{\"fillpattern\":{\"fillmode\":\"overlay\",\"size\":10,\"solidity\":0.2},\"type\":\"scatter\"}],\"scatterternary\":[{\"marker\":{\"colorbar\":{\"outlinewidth\":0,\"ticks\":\"\"}},\"type\":\"scatterternary\"}],\"surface\":[{\"colorbar\":{\"outlinewidth\":0,\"ticks\":\"\"},\"colorscale\":[[0.0,\"#0d0887\"],[0.1111111111111111,\"#46039f\"],[0.2222222222222222,\"#7201a8\"],[0.3333333333333333,\"#9c179e\"],[0.4444444444444444,\"#bd3786\"],[0.5555555555555556,\"#d8576b\"],[0.6666666666666666,\"#ed7953\"],[0.7777777777777778,\"#fb9f3a\"],[0.8888888888888888,\"#fdca26\"],[1.0,\"#f0f921\"]],\"type\":\"surface\"}],\"table\":[{\"cells\":{\"fill\":{\"color\":\"#EBF0F8\"},\"line\":{\"color\":\"white\"}},\"header\":{\"fill\":{\"color\":\"#C8D4E3\"},\"line\":{\"color\":\"white\"}},\"type\":\"table\"}]},\"layout\":{\"annotationdefaults\":{\"arrowcolor\":\"#2a3f5f\",\"arrowhead\":0,\"arrowwidth\":1},\"autotypenumbers\":\"strict\",\"coloraxis\":{\"colorbar\":{\"outlinewidth\":0,\"ticks\":\"\"}},\"colorscale\":{\"diverging\":[[0,\"#8e0152\"],[0.1,\"#c51b7d\"],[0.2,\"#de77ae\"],[0.3,\"#f1b6da\"],[0.4,\"#fde0ef\"],[0.5,\"#f7f7f7\"],[0.6,\"#e6f5d0\"],[0.7,\"#b8e186\"],[0.8,\"#7fbc41\"],[0.9,\"#4d9221\"],[1,\"#276419\"]],\"sequential\":[[0.0,\"#0d0887\"],[0.1111111111111111,\"#46039f\"],[0.2222222222222222,\"#7201a8\"],[0.3333333333333333,\"#9c179e\"],[0.4444444444444444,\"#bd3786\"],[0.5555555555555556,\"#d8576b\"],[0.6666666666666666,\"#ed7953\"],[0.7777777777777778,\"#fb9f3a\"],[0.8888888888888888,\"#fdca26\"],[1.0,\"#f0f921\"]],\"sequentialminus\":[[0.0,\"#0d0887\"],[0.1111111111111111,\"#46039f\"],[0.2222222222222222,\"#7201a8\"],[0.3333333333333333,\"#9c179e\"],[0.4444444444444444,\"#bd3786\"],[0.5555555555555556,\"#d8576b\"],[0.6666666666666666,\"#ed7953\"],[0.7777777777777778,\"#fb9f3a\"],[0.8888888888888888,\"#fdca26\"],[1.0,\"#f0f921\"]]},\"colorway\":[\"#636efa\",\"#EF553B\",\"#00cc96\",\"#ab63fa\",\"#FFA15A\",\"#19d3f3\",\"#FF6692\",\"#B6E880\",\"#FF97FF\",\"#FECB52\"],\"font\":{\"color\":\"#2a3f5f\"},\"geo\":{\"bgcolor\":\"white\",\"lakecolor\":\"white\",\"landcolor\":\"white\",\"showlakes\":true,\"showland\":true,\"subunitcolor\":\"#C8D4E3\"},\"hoverlabel\":{\"align\":\"left\"},\"hovermode\":\"closest\",\"mapbox\":{\"style\":\"light\"},\"paper_bgcolor\":\"white\",\"plot_bgcolor\":\"white\",\"polar\":{\"angularaxis\":{\"gridcolor\":\"#EBF0F8\",\"linecolor\":\"#EBF0F8\",\"ticks\":\"\"},\"bgcolor\":\"white\",\"radialaxis\":{\"gridcolor\":\"#EBF0F8\",\"linecolor\":\"#EBF0F8\",\"ticks\":\"\"}},\"scene\":{\"xaxis\":{\"backgroundcolor\":\"white\",\"gridcolor\":\"#DFE8F3\",\"gridwidth\":2,\"linecolor\":\"#EBF0F8\",\"showbackground\":true,\"ticks\":\"\",\"zerolinecolor\":\"#EBF0F8\"},\"yaxis\":{\"backgroundcolor\":\"white\",\"gridcolor\":\"#DFE8F3\",\"gridwidth\":2,\"linecolor\":\"#EBF0F8\",\"showbackground\":true,\"ticks\":\"\",\"zerolinecolor\":\"#EBF0F8\"},\"zaxis\":{\"backgroundcolor\":\"white\",\"gridcolor\":\"#DFE8F3\",\"gridwidth\":2,\"linecolor\":\"#EBF0F8\",\"showbackground\":true,\"ticks\":\"\",\"zerolinecolor\":\"#EBF0F8\"}},\"shapedefaults\":{\"line\":{\"color\":\"#2a3f5f\"}},\"ternary\":{\"aaxis\":{\"gridcolor\":\"#DFE8F3\",\"linecolor\":\"#A2B1C6\",\"ticks\":\"\"},\"baxis\":{\"gridcolor\":\"#DFE8F3\",\"linecolor\":\"#A2B1C6\",\"ticks\":\"\"},\"bgcolor\":\"white\",\"caxis\":{\"gridcolor\":\"#DFE8F3\",\"linecolor\":\"#A2B1C6\",\"ticks\":\"\"}},\"title\":{\"x\":0.05},\"xaxis\":{\"automargin\":true,\"gridcolor\":\"#EBF0F8\",\"linecolor\":\"#EBF0F8\",\"ticks\":\"\",\"title\":{\"standoff\":15},\"zerolinecolor\":\"#EBF0F8\",\"zerolinewidth\":2},\"yaxis\":{\"automargin\":true,\"gridcolor\":\"#EBF0F8\",\"linecolor\":\"#EBF0F8\",\"ticks\":\"\",\"title\":{\"standoff\":15},\"zerolinecolor\":\"#EBF0F8\",\"zerolinewidth\":2}}},\"xaxis\":{\"anchor\":\"y\",\"domain\":[0.0,1.0],\"title\":{\"text\":\"Month\"}},\"yaxis\":{\"anchor\":\"x\",\"domain\":[0.0,1.0],\"title\":{\"text\":\"Average Value\"}},\"legend\":{\"title\":{\"text\":\"Pollutant\"},\"tracegroupgap\":0},\"title\":{\"text\":\"Monthly Average of Pollutants Over Years (Animated)\"},\"updatemenus\":[{\"buttons\":[{\"args\":[null,{\"frame\":{\"duration\":500,\"redraw\":false},\"mode\":\"immediate\",\"fromcurrent\":true,\"transition\":{\"duration\":500,\"easing\":\"linear\"}}],\"label\":\"&#9654;\",\"method\":\"animate\"},{\"args\":[[null],{\"frame\":{\"duration\":0,\"redraw\":false},\"mode\":\"immediate\",\"fromcurrent\":true,\"transition\":{\"duration\":0,\"easing\":\"linear\"}}],\"label\":\"&#9724;\",\"method\":\"animate\"}],\"direction\":\"left\",\"pad\":{\"r\":10,\"t\":70},\"showactive\":false,\"type\":\"buttons\",\"x\":0.1,\"xanchor\":\"right\",\"y\":0,\"yanchor\":\"top\"}],\"sliders\":[{\"active\":0,\"currentvalue\":{\"prefix\":\"year=\"},\"len\":0.9,\"pad\":{\"b\":10,\"t\":60},\"steps\":[{\"args\":[[\"2001\"],{\"frame\":{\"duration\":0,\"redraw\":false},\"mode\":\"immediate\",\"fromcurrent\":true,\"transition\":{\"duration\":0,\"easing\":\"linear\"}}],\"label\":\"2001\",\"method\":\"animate\"},{\"args\":[[\"2002\"],{\"frame\":{\"duration\":0,\"redraw\":false},\"mode\":\"immediate\",\"fromcurrent\":true,\"transition\":{\"duration\":0,\"easing\":\"linear\"}}],\"label\":\"2002\",\"method\":\"animate\"},{\"args\":[[\"2003\"],{\"frame\":{\"duration\":0,\"redraw\":false},\"mode\":\"immediate\",\"fromcurrent\":true,\"transition\":{\"duration\":0,\"easing\":\"linear\"}}],\"label\":\"2003\",\"method\":\"animate\"},{\"args\":[[\"2004\"],{\"frame\":{\"duration\":0,\"redraw\":false},\"mode\":\"immediate\",\"fromcurrent\":true,\"transition\":{\"duration\":0,\"easing\":\"linear\"}}],\"label\":\"2004\",\"method\":\"animate\"},{\"args\":[[\"2005\"],{\"frame\":{\"duration\":0,\"redraw\":false},\"mode\":\"immediate\",\"fromcurrent\":true,\"transition\":{\"duration\":0,\"easing\":\"linear\"}}],\"label\":\"2005\",\"method\":\"animate\"},{\"args\":[[\"2006\"],{\"frame\":{\"duration\":0,\"redraw\":false},\"mode\":\"immediate\",\"fromcurrent\":true,\"transition\":{\"duration\":0,\"easing\":\"linear\"}}],\"label\":\"2006\",\"method\":\"animate\"},{\"args\":[[\"2007\"],{\"frame\":{\"duration\":0,\"redraw\":false},\"mode\":\"immediate\",\"fromcurrent\":true,\"transition\":{\"duration\":0,\"easing\":\"linear\"}}],\"label\":\"2007\",\"method\":\"animate\"},{\"args\":[[\"2008\"],{\"frame\":{\"duration\":0,\"redraw\":false},\"mode\":\"immediate\",\"fromcurrent\":true,\"transition\":{\"duration\":0,\"easing\":\"linear\"}}],\"label\":\"2008\",\"method\":\"animate\"},{\"args\":[[\"2009\"],{\"frame\":{\"duration\":0,\"redraw\":false},\"mode\":\"immediate\",\"fromcurrent\":true,\"transition\":{\"duration\":0,\"easing\":\"linear\"}}],\"label\":\"2009\",\"method\":\"animate\"},{\"args\":[[\"2010\"],{\"frame\":{\"duration\":0,\"redraw\":false},\"mode\":\"immediate\",\"fromcurrent\":true,\"transition\":{\"duration\":0,\"easing\":\"linear\"}}],\"label\":\"2010\",\"method\":\"animate\"},{\"args\":[[\"2011\"],{\"frame\":{\"duration\":0,\"redraw\":false},\"mode\":\"immediate\",\"fromcurrent\":true,\"transition\":{\"duration\":0,\"easing\":\"linear\"}}],\"label\":\"2011\",\"method\":\"animate\"},{\"args\":[[\"2012\"],{\"frame\":{\"duration\":0,\"redraw\":false},\"mode\":\"immediate\",\"fromcurrent\":true,\"transition\":{\"duration\":0,\"easing\":\"linear\"}}],\"label\":\"2012\",\"method\":\"animate\"},{\"args\":[[\"2013\"],{\"frame\":{\"duration\":0,\"redraw\":false},\"mode\":\"immediate\",\"fromcurrent\":true,\"transition\":{\"duration\":0,\"easing\":\"linear\"}}],\"label\":\"2013\",\"method\":\"animate\"},{\"args\":[[\"2014\"],{\"frame\":{\"duration\":0,\"redraw\":false},\"mode\":\"immediate\",\"fromcurrent\":true,\"transition\":{\"duration\":0,\"easing\":\"linear\"}}],\"label\":\"2014\",\"method\":\"animate\"},{\"args\":[[\"2015\"],{\"frame\":{\"duration\":0,\"redraw\":false},\"mode\":\"immediate\",\"fromcurrent\":true,\"transition\":{\"duration\":0,\"easing\":\"linear\"}}],\"label\":\"2015\",\"method\":\"animate\"},{\"args\":[[\"2016\"],{\"frame\":{\"duration\":0,\"redraw\":false},\"mode\":\"immediate\",\"fromcurrent\":true,\"transition\":{\"duration\":0,\"easing\":\"linear\"}}],\"label\":\"2016\",\"method\":\"animate\"},{\"args\":[[\"2017\"],{\"frame\":{\"duration\":0,\"redraw\":false},\"mode\":\"immediate\",\"fromcurrent\":true,\"transition\":{\"duration\":0,\"easing\":\"linear\"}}],\"label\":\"2017\",\"method\":\"animate\"},{\"args\":[[\"2018\"],{\"frame\":{\"duration\":0,\"redraw\":false},\"mode\":\"immediate\",\"fromcurrent\":true,\"transition\":{\"duration\":0,\"easing\":\"linear\"}}],\"label\":\"2018\",\"method\":\"animate\"}],\"x\":0.1,\"xanchor\":\"left\",\"y\":0,\"yanchor\":\"top\"}]},                        {\"responsive\": true}                    ).then(function(){\n",
       "                            Plotly.addFrames('56cea037-3da1-407f-8ef6-b837502bab36', [{\"data\":[{\"hovertemplate\":\"Pollutant=BEN\\u003cbr\\u003eyear=2001\\u003cbr\\u003eMonth=%{x}\\u003cbr\\u003eAverage Value=%{y}\\u003cextra\\u003e\\u003c\\u002fextra\\u003e\",\"legendgroup\":\"BEN\",\"line\":{\"color\":\"#636efa\",\"dash\":\"solid\"},\"marker\":{\"symbol\":\"circle\"},\"mode\":\"lines\",\"name\":\"BEN\",\"orientation\":\"v\",\"showlegend\":true,\"x\":[1,2,3,4,5,6,7,8,9,10,11,12],\"xaxis\":\"x\",\"y\":[1.5782545676380642,1.6470837272808847,0.975809045095784,0.6904499128299236,0.7531014233887571,0.7785613787828608,0.5576199216126959,0.30677819438880144,0.609157303350478,0.9024115472458126,1.2751020885286264,2.457970306000788],\"yaxis\":\"y\",\"type\":\"scatter\"},{\"hovertemplate\":\"Pollutant=CO\\u003cbr\\u003eyear=2001\\u003cbr\\u003eMonth=%{x}\\u003cbr\\u003eAverage Value=%{y}\\u003cextra\\u003e\\u003c\\u002fextra\\u003e\",\"legendgroup\":\"CO\",\"line\":{\"color\":\"#EF553B\",\"dash\":\"solid\"},\"marker\":{\"symbol\":\"circle\"},\"mode\":\"lines\",\"name\":\"CO\",\"orientation\":\"v\",\"showlegend\":true,\"x\":[1,2,3,4,5,6,7,8,9,10,11,12],\"xaxis\":\"x\",\"y\":[1.1357445899927594,1.2730215326625935,0.5318138507421778,0.2491420143922465,0.416352776724105,0.33076667400258203,0.1412566651259353,0.002660644096839578,0.3602000478893393,0.7436734437224333,1.0907943551622166,1.9613486277546186],\"yaxis\":\"y\",\"type\":\"scatter\"},{\"hovertemplate\":\"Pollutant=EBE\\u003cbr\\u003eyear=2001\\u003cbr\\u003eMonth=%{x}\\u003cbr\\u003eAverage Value=%{y}\\u003cextra\\u003e\\u003c\\u002fextra\\u003e\",\"legendgroup\":\"EBE\",\"line\":{\"color\":\"#00cc96\",\"dash\":\"solid\"},\"marker\":{\"symbol\":\"circle\"},\"mode\":\"lines\",\"name\":\"EBE\",\"orientation\":\"v\",\"showlegend\":true,\"x\":[1,2,3,4,5,6,7,8,9,10,11,12],\"xaxis\":\"x\",\"y\":[1.1767756032464318,1.3043467116348748,0.7311853799024974,0.629900177254116,0.7422770217453528,0.8432039768865783,0.6654399273481474,0.3881743906747961,0.4647346716274252,0.785967288623179,0.8772029981297057,1.9789537270071331],\"yaxis\":\"y\",\"type\":\"scatter\"},{\"hovertemplate\":\"Pollutant=NMHC\\u003cbr\\u003eyear=2001\\u003cbr\\u003eMonth=%{x}\\u003cbr\\u003eAverage Value=%{y}\\u003cextra\\u003e\\u003c\\u002fextra\\u003e\",\"legendgroup\":\"NMHC\",\"line\":{\"color\":\"#ab63fa\",\"dash\":\"solid\"},\"marker\":{\"symbol\":\"circle\"},\"mode\":\"lines\",\"name\":\"NMHC\",\"orientation\":\"v\",\"showlegend\":true,\"x\":[1,2,3,4,5,6,7,8,9,10,11,12],\"xaxis\":\"x\",\"y\":[0.3335919778442109,0.4687907775855641,-0.0834005413611285,-0.4280719255509795,-0.2126960342658916,-0.03600191942401798,-0.2204459793048815,-0.2289227448955801,-0.019714154844527258,0.22266807148504775,0.17643736851266903,0.6817056052715126],\"yaxis\":\"y\",\"type\":\"scatter\"},{\"hovertemplate\":\"Pollutant=NOx\\u003cbr\\u003eyear=2001\\u003cbr\\u003eMonth=%{x}\\u003cbr\\u003eAverage Value=%{y}\\u003cextra\\u003e\\u003c\\u002fextra\\u003e\",\"legendgroup\":\"NOx\",\"line\":{\"color\":\"#FFA15A\",\"dash\":\"solid\"},\"marker\":{\"symbol\":\"circle\"},\"mode\":\"lines\",\"name\":\"NOx\",\"orientation\":\"v\",\"showlegend\":true,\"x\":[1,2,3,4,5,6,7,8,9,10,11,12],\"xaxis\":\"x\",\"y\":[0.3633797832901175,0.5726070367264139,-0.03189140333205281,-0.12406854348034567,0.00986684516557275,0.06113644277439797,-0.05531255705645726,-0.1148423364514462,0.1096063538350456,0.3188457686202897,0.6851670881062114,1.467156928231212],\"yaxis\":\"y\",\"type\":\"scatter\"},{\"hovertemplate\":\"Pollutant=NO_2\\u003cbr\\u003eyear=2001\\u003cbr\\u003eMonth=%{x}\\u003cbr\\u003eAverage Value=%{y}\\u003cextra\\u003e\\u003c\\u002fextra\\u003e\",\"legendgroup\":\"NO_2\",\"line\":{\"color\":\"#19d3f3\",\"dash\":\"solid\"},\"marker\":{\"symbol\":\"circle\"},\"mode\":\"lines\",\"name\":\"NO_2\",\"orientation\":\"v\",\"showlegend\":true,\"x\":[1,2,3,4,5,6,7,8,9,10,11,12],\"xaxis\":\"x\",\"y\":[0.19057571530364512,0.4113795400906759,-0.02905038839898754,0.07653770053588257,0.39355231601256696,0.4921964699338466,0.3240505937565022,0.1516060011743617,0.4278544671530045,0.25110678504687306,0.5278468547329892,1.109715850699898],\"yaxis\":\"y\",\"type\":\"scatter\"},{\"hovertemplate\":\"Pollutant=O_3\\u003cbr\\u003eyear=2001\\u003cbr\\u003eMonth=%{x}\\u003cbr\\u003eAverage Value=%{y}\\u003cextra\\u003e\\u003c\\u002fextra\\u003e\",\"legendgroup\":\"O_3\",\"line\":{\"color\":\"#FF6692\",\"dash\":\"solid\"},\"marker\":{\"symbol\":\"circle\"},\"mode\":\"lines\",\"name\":\"O_3\",\"orientation\":\"v\",\"showlegend\":true,\"x\":[1,2,3,4,5,6,7,8,9,10,11,12],\"xaxis\":\"x\",\"y\":[-0.6692846191881066,-0.6350638311460066,-0.3558432413725236,0.020007619941212945,0.04003442078833762,0.20424593944375924,0.2410088649436234,0.23897108232951939,-0.031668264876682437,-0.5805488804952393,-0.6699550517805339,-1.0023204113688373],\"yaxis\":\"y\",\"type\":\"scatter\"},{\"hovertemplate\":\"Pollutant=PM10\\u003cbr\\u003eyear=2001\\u003cbr\\u003eMonth=%{x}\\u003cbr\\u003eAverage Value=%{y}\\u003cextra\\u003e\\u003c\\u002fextra\\u003e\",\"legendgroup\":\"PM10\",\"line\":{\"color\":\"#B6E880\",\"dash\":\"solid\"},\"marker\":{\"symbol\":\"circle\"},\"mode\":\"lines\",\"name\":\"PM10\",\"orientation\":\"v\",\"showlegend\":true,\"x\":[1,2,3,4,5,6,7,8,9,10,11,12],\"xaxis\":\"x\",\"y\":[0.021795305919301598,0.32009720685618936,-0.15012870621395377,-0.12452837426927067,-0.004509958618003475,0.39345134461262354,0.2812953698736327,0.3755862696319706,0.30363332448802766,0.13021876221234116,0.2337560213570064,0.8728041028525254],\"yaxis\":\"y\",\"type\":\"scatter\"},{\"hovertemplate\":\"Pollutant=SO_2\\u003cbr\\u003eyear=2001\\u003cbr\\u003eMonth=%{x}\\u003cbr\\u003eAverage Value=%{y}\\u003cextra\\u003e\\u003c\\u002fextra\\u003e\",\"legendgroup\":\"SO_2\",\"line\":{\"color\":\"#FF97FF\",\"dash\":\"solid\"},\"marker\":{\"symbol\":\"circle\"},\"mode\":\"lines\",\"name\":\"SO_2\",\"orientation\":\"v\",\"showlegend\":true,\"x\":[1,2,3,4,5,6,7,8,9,10,11,12],\"xaxis\":\"x\",\"y\":[1.5731760660092144,2.0229228043095664,0.861572870002908,0.4923912943623938,0.44564369854706287,0.49910022022511547,0.14367292479408256,-0.04282614601878837,0.10030881028383151,0.23522496167776152,1.62469749728869,2.2734170198503767],\"yaxis\":\"y\",\"type\":\"scatter\"},{\"hovertemplate\":\"Pollutant=TCH\\u003cbr\\u003eyear=2001\\u003cbr\\u003eMonth=%{x}\\u003cbr\\u003eAverage Value=%{y}\\u003cextra\\u003e\\u003c\\u002fextra\\u003e\",\"legendgroup\":\"TCH\",\"line\":{\"color\":\"#FECB52\",\"dash\":\"solid\"},\"marker\":{\"symbol\":\"circle\"},\"mode\":\"lines\",\"name\":\"TCH\",\"orientation\":\"v\",\"showlegend\":true,\"x\":[1,2,3,4,5,6,7,8,9,10,11,12],\"xaxis\":\"x\",\"y\":[0.45323232790937257,0.48623874074267737,0.0020947650293684705,-0.3916731507317389,-0.1975208229320988,-0.1655229079033182,-0.2890127184921358,-0.24176892096210675,-0.017815603292076616,0.26260352705717566,0.27500987637683816,1.0787889429203863],\"yaxis\":\"y\",\"type\":\"scatter\"},{\"hovertemplate\":\"Pollutant=TOL\\u003cbr\\u003eyear=2001\\u003cbr\\u003eMonth=%{x}\\u003cbr\\u003eAverage Value=%{y}\\u003cextra\\u003e\\u003c\\u002fextra\\u003e\",\"legendgroup\":\"TOL\",\"line\":{\"color\":\"#636efa\",\"dash\":\"solid\"},\"marker\":{\"symbol\":\"circle\"},\"mode\":\"lines\",\"name\":\"TOL\",\"orientation\":\"v\",\"showlegend\":true,\"x\":[1,2,3,4,5,6,7,8,9,10,11,12],\"xaxis\":\"x\",\"y\":[1.1837063016486264,1.2363033400829162,0.620354587016765,0.3913671370593672,0.6559197094967063,0.8004730123830522,0.8004763818014211,0.7831163196412737,1.0890701889541243,1.3680534528341222,1.4115807178039954,2.581286163134444],\"yaxis\":\"y\",\"type\":\"scatter\"},{\"hovertemplate\":\"Pollutant=MXY\\u003cbr\\u003eyear=2001\\u003cbr\\u003eMonth=%{x}\\u003cbr\\u003eAverage Value=%{y}\\u003cextra\\u003e\\u003c\\u002fextra\\u003e\",\"legendgroup\":\"MXY\",\"line\":{\"color\":\"#EF553B\",\"dash\":\"solid\"},\"marker\":{\"symbol\":\"circle\"},\"mode\":\"lines\",\"name\":\"MXY\",\"orientation\":\"v\",\"showlegend\":true,\"x\":[1,2,3,4,5,6,7,8,9,10,11,12],\"xaxis\":\"x\",\"y\":[0.34979848421969656,0.5381044048802491,0.23921889206237287,0.04208156713033709,0.14444993852611637,0.22368795470969488,0.14126626280336774,0.0519646134755083,0.20626491255937682,0.6230582320187179,0.6691342013250929,1.6112771585775598],\"yaxis\":\"y\",\"type\":\"scatter\"},{\"hovertemplate\":\"Pollutant=OXY\\u003cbr\\u003eyear=2001\\u003cbr\\u003eMonth=%{x}\\u003cbr\\u003eAverage Value=%{y}\\u003cextra\\u003e\\u003c\\u002fextra\\u003e\",\"legendgroup\":\"OXY\",\"line\":{\"color\":\"#00cc96\",\"dash\":\"solid\"},\"marker\":{\"symbol\":\"circle\"},\"mode\":\"lines\",\"name\":\"OXY\",\"orientation\":\"v\",\"showlegend\":true,\"x\":[1,2,3,4,5,6,7,8,9,10,11,12],\"xaxis\":\"x\",\"y\":[0.28311610243406826,0.4221651454428784,0.15935535849631974,-0.04865691704908203,0.06390697898968034,0.15191447823467544,0.09282836701700768,-0.015015117334711182,0.09278000527359702,0.4549250065988632,0.5343172408045465,1.3296045638089222],\"yaxis\":\"y\",\"type\":\"scatter\"},{\"hovertemplate\":\"Pollutant=PXY\\u003cbr\\u003eyear=2001\\u003cbr\\u003eMonth=%{x}\\u003cbr\\u003eAverage Value=%{y}\\u003cextra\\u003e\\u003c\\u002fextra\\u003e\",\"legendgroup\":\"PXY\",\"line\":{\"color\":\"#ab63fa\",\"dash\":\"solid\"},\"marker\":{\"symbol\":\"circle\"},\"mode\":\"lines\",\"name\":\"PXY\",\"orientation\":\"v\",\"showlegend\":true,\"x\":[1,2,3,4,5,6,7,8,9,10,11,12],\"xaxis\":\"x\",\"y\":[0.21482588440830724,0.43511049608289004,0.09897292329030927,-0.06063493673282269,0.026198589804917773,0.13513939404092232,0.06613154098074811,-0.04918050906869785,0.10376204645633069,0.42976898770294536,0.6332204203962227,1.6143403533314846],\"yaxis\":\"y\",\"type\":\"scatter\"},{\"hovertemplate\":\"Pollutant=PM25\\u003cbr\\u003eyear=2001\\u003cbr\\u003eMonth=%{x}\\u003cbr\\u003eAverage Value=%{y}\\u003cextra\\u003e\\u003c\\u002fextra\\u003e\",\"legendgroup\":\"PM25\",\"line\":{\"color\":\"#FFA15A\",\"dash\":\"solid\"},\"marker\":{\"symbol\":\"circle\"},\"mode\":\"lines\",\"name\":\"PM25\",\"orientation\":\"v\",\"showlegend\":true,\"x\":[1,2,3,4,5,6,7,8,9,10,11,12],\"xaxis\":\"x\",\"y\":[null,null,null,null,null,null,null,null,null,null,null,null],\"yaxis\":\"y\",\"type\":\"scatter\"},{\"hovertemplate\":\"Pollutant=CH4\\u003cbr\\u003eyear=2001\\u003cbr\\u003eMonth=%{x}\\u003cbr\\u003eAverage Value=%{y}\\u003cextra\\u003e\\u003c\\u002fextra\\u003e\",\"legendgroup\":\"CH4\",\"line\":{\"color\":\"#19d3f3\",\"dash\":\"solid\"},\"marker\":{\"symbol\":\"circle\"},\"mode\":\"lines\",\"name\":\"CH4\",\"orientation\":\"v\",\"showlegend\":true,\"x\":[1,2,3,4,5,6,7,8,9,10,11,12],\"xaxis\":\"x\",\"y\":[null,null,null,null,null,null,null,null,null,null,null,null],\"yaxis\":\"y\",\"type\":\"scatter\"},{\"hovertemplate\":\"Pollutant=NO\\u003cbr\\u003eyear=2001\\u003cbr\\u003eMonth=%{x}\\u003cbr\\u003eAverage Value=%{y}\\u003cextra\\u003e\\u003c\\u002fextra\\u003e\",\"legendgroup\":\"NO\",\"line\":{\"color\":\"#FF6692\",\"dash\":\"solid\"},\"marker\":{\"symbol\":\"circle\"},\"mode\":\"lines\",\"name\":\"NO\",\"orientation\":\"v\",\"showlegend\":true,\"x\":[1,2,3,4,5,6,7,8,9,10,11,12],\"xaxis\":\"x\",\"y\":[null,null,null,null,null,null,null,null,null,null,null,null],\"yaxis\":\"y\",\"type\":\"scatter\"}],\"name\":\"2001\"},{\"data\":[{\"hovertemplate\":\"Pollutant=BEN\\u003cbr\\u003eyear=2002\\u003cbr\\u003eMonth=%{x}\\u003cbr\\u003eAverage Value=%{y}\\u003cextra\\u003e\\u003c\\u002fextra\\u003e\",\"legendgroup\":\"BEN\",\"line\":{\"color\":\"#636efa\",\"dash\":\"solid\"},\"marker\":{\"symbol\":\"circle\"},\"mode\":\"lines\",\"name\":\"BEN\",\"orientation\":\"v\",\"showlegend\":true,\"x\":[1,2,3,4,5,6,7,8,9,10,11,12],\"xaxis\":\"x\",\"y\":[1.6093835169714874,1.0273276626055958,0.6884557909996161,0.31849249956374703,0.105327172370594,0.20035732531982717,0.24569330290790733,0.1078236545701328,0.5956780827915954,0.6592299349133787,0.45633870679720234,0.8434449706369845],\"yaxis\":\"y\",\"type\":\"scatter\"},{\"hovertemplate\":\"Pollutant=CO\\u003cbr\\u003eyear=2002\\u003cbr\\u003eMonth=%{x}\\u003cbr\\u003eAverage Value=%{y}\\u003cextra\\u003e\\u003c\\u002fextra\\u003e\",\"legendgroup\":\"CO\",\"line\":{\"color\":\"#EF553B\",\"dash\":\"solid\"},\"marker\":{\"symbol\":\"circle\"},\"mode\":\"lines\",\"name\":\"CO\",\"orientation\":\"v\",\"showlegend\":true,\"x\":[1,2,3,4,5,6,7,8,9,10,11,12],\"xaxis\":\"x\",\"y\":[1.1393285230583559,0.7866475446906847,0.42045829905413185,0.253560989875224,0.0011236818038544254,-0.009856241599570175,-0.028137455143081226,-0.16289763169045865,0.3394467725362494,0.6016210567605214,0.6474878763904706,0.7478619457865271],\"yaxis\":\"y\",\"type\":\"scatter\"},{\"hovertemplate\":\"Pollutant=EBE\\u003cbr\\u003eyear=2002\\u003cbr\\u003eMonth=%{x}\\u003cbr\\u003eAverage Value=%{y}\\u003cextra\\u003e\\u003c\\u002fextra\\u003e\",\"legendgroup\":\"EBE\",\"line\":{\"color\":\"#00cc96\",\"dash\":\"solid\"},\"marker\":{\"symbol\":\"circle\"},\"mode\":\"lines\",\"name\":\"EBE\",\"orientation\":\"v\",\"showlegend\":true,\"x\":[1,2,3,4,5,6,7,8,9,10,11,12],\"xaxis\":\"x\",\"y\":[1.3687067710938523,0.8090297230404414,0.5401881608566366,0.32474364914301646,0.2561834706851243,0.19943010125056634,0.36067857282580423,0.2415996542963415,0.6995392575059038,0.5842250353660172,0.3363630792331005,0.5277837286654156],\"yaxis\":\"y\",\"type\":\"scatter\"},{\"hovertemplate\":\"Pollutant=NMHC\\u003cbr\\u003eyear=2002\\u003cbr\\u003eMonth=%{x}\\u003cbr\\u003eAverage Value=%{y}\\u003cextra\\u003e\\u003c\\u002fextra\\u003e\",\"legendgroup\":\"NMHC\",\"line\":{\"color\":\"#ab63fa\",\"dash\":\"solid\"},\"marker\":{\"symbol\":\"circle\"},\"mode\":\"lines\",\"name\":\"NMHC\",\"orientation\":\"v\",\"showlegend\":true,\"x\":[1,2,3,4,5,6,7,8,9,10,11,12],\"xaxis\":\"x\",\"y\":[0.269690817393207,0.030874131451877073,-0.011833267885851269,-0.12941660583676468,-0.2886877935594723,-0.1500238613876092,-0.20354009984669053,-0.5498855378774556,-0.14260248841758053,0.021010318401641335,0.019354953109524148,0.1477703258081273],\"yaxis\":\"y\",\"type\":\"scatter\"},{\"hovertemplate\":\"Pollutant=NOx\\u003cbr\\u003eyear=2002\\u003cbr\\u003eMonth=%{x}\\u003cbr\\u003eAverage Value=%{y}\\u003cextra\\u003e\\u003c\\u002fextra\\u003e\",\"legendgroup\":\"NOx\",\"line\":{\"color\":\"#FFA15A\",\"dash\":\"solid\"},\"marker\":{\"symbol\":\"circle\"},\"mode\":\"lines\",\"name\":\"NOx\",\"orientation\":\"v\",\"showlegend\":true,\"x\":[1,2,3,4,5,6,7,8,9,10,11,12],\"xaxis\":\"x\",\"y\":[0.8224861408317764,0.5274156386499629,0.15922818352041637,0.07283653792806126,-0.18129234191835453,-0.1849820895159144,-0.1848063374150166,-0.2687829567740602,0.08074546143081175,0.2264550597666477,0.222874872086216,0.2364385312516068],\"yaxis\":\"y\",\"type\":\"scatter\"},{\"hovertemplate\":\"Pollutant=NO_2\\u003cbr\\u003eyear=2002\\u003cbr\\u003eMonth=%{x}\\u003cbr\\u003eAverage Value=%{y}\\u003cextra\\u003e\\u003c\\u002fextra\\u003e\",\"legendgroup\":\"NO_2\",\"line\":{\"color\":\"#19d3f3\",\"dash\":\"solid\"},\"marker\":{\"symbol\":\"circle\"},\"mode\":\"lines\",\"name\":\"NO_2\",\"orientation\":\"v\",\"showlegend\":true,\"x\":[1,2,3,4,5,6,7,8,9,10,11,12],\"xaxis\":\"x\",\"y\":[0.67783551474017,0.5579997996088292,0.432877629388118,0.5345307015724319,0.07496919440087932,0.18472379030023922,0.15360752168917513,0.059640771739795116,0.3971264197846717,0.35263080063073815,0.29975059374199803,0.1845230019434443],\"yaxis\":\"y\",\"type\":\"scatter\"},{\"hovertemplate\":\"Pollutant=O_3\\u003cbr\\u003eyear=2002\\u003cbr\\u003eMonth=%{x}\\u003cbr\\u003eAverage Value=%{y}\\u003cextra\\u003e\\u003c\\u002fextra\\u003e\",\"legendgroup\":\"O_3\",\"line\":{\"color\":\"#FF6692\",\"dash\":\"solid\"},\"marker\":{\"symbol\":\"circle\"},\"mode\":\"lines\",\"name\":\"O_3\",\"orientation\":\"v\",\"showlegend\":true,\"x\":[1,2,3,4,5,6,7,8,9,10,11,12],\"xaxis\":\"x\",\"y\":[-0.9351223440500365,-0.6811092557635792,-0.2797029805193121,0.09872751687716573,0.17648174239700234,0.2898892402407016,0.40368158687847566,0.35147552073365484,-0.17929987060237149,-0.5847749302307673,-0.6948152049469021,-0.7309125730976954],\"yaxis\":\"y\",\"type\":\"scatter\"},{\"hovertemplate\":\"Pollutant=PM10\\u003cbr\\u003eyear=2002\\u003cbr\\u003eMonth=%{x}\\u003cbr\\u003eAverage Value=%{y}\\u003cextra\\u003e\\u003c\\u002fextra\\u003e\",\"legendgroup\":\"PM10\",\"line\":{\"color\":\"#B6E880\",\"dash\":\"solid\"},\"marker\":{\"symbol\":\"circle\"},\"mode\":\"lines\",\"name\":\"PM10\",\"orientation\":\"v\",\"showlegend\":true,\"x\":[1,2,3,4,5,6,7,8,9,10,11,12],\"xaxis\":\"x\",\"y\":[0.2935858055439732,0.3321806821123267,0.09944451056360824,0.12913845086325088,-0.11549617802875727,0.5654674111878512,0.3644185602969049,0.19661846791447193,0.20418772174776406,0.06955892306678774,-0.05467578877480746,-0.058624063813075465],\"yaxis\":\"y\",\"type\":\"scatter\"},{\"hovertemplate\":\"Pollutant=SO_2\\u003cbr\\u003eyear=2002\\u003cbr\\u003eMonth=%{x}\\u003cbr\\u003eAverage Value=%{y}\\u003cextra\\u003e\\u003c\\u002fextra\\u003e\",\"legendgroup\":\"SO_2\",\"line\":{\"color\":\"#FF97FF\",\"dash\":\"solid\"},\"marker\":{\"symbol\":\"circle\"},\"mode\":\"lines\",\"name\":\"SO_2\",\"orientation\":\"v\",\"showlegend\":true,\"x\":[1,2,3,4,5,6,7,8,9,10,11,12],\"xaxis\":\"x\",\"y\":[1.4724112222469623,1.1402357498850193,0.48107140229722745,0.12890343597007506,-0.19206765045487276,-0.2579349170751468,-0.2971279741732557,-0.3290492418625829,-0.13165060634887543,0.02587865025640807,0.42360802484139576,0.7253218949247382],\"yaxis\":\"y\",\"type\":\"scatter\"},{\"hovertemplate\":\"Pollutant=TCH\\u003cbr\\u003eyear=2002\\u003cbr\\u003eMonth=%{x}\\u003cbr\\u003eAverage Value=%{y}\\u003cextra\\u003e\\u003c\\u002fextra\\u003e\",\"legendgroup\":\"TCH\",\"line\":{\"color\":\"#FECB52\",\"dash\":\"solid\"},\"marker\":{\"symbol\":\"circle\"},\"mode\":\"lines\",\"name\":\"TCH\",\"orientation\":\"v\",\"showlegend\":true,\"x\":[1,2,3,4,5,6,7,8,9,10,11,12],\"xaxis\":\"x\",\"y\":[0.5257453544900875,0.19666401842948653,0.09346529131999953,-0.02560418871697504,-0.2496817182573284,-0.3069410791372831,-0.3920412926622237,-0.48810022568157097,-0.10859993496016397,0.031769215795963486,0.10042399302830468,0.27260423253490434],\"yaxis\":\"y\",\"type\":\"scatter\"},{\"hovertemplate\":\"Pollutant=TOL\\u003cbr\\u003eyear=2002\\u003cbr\\u003eMonth=%{x}\\u003cbr\\u003eAverage Value=%{y}\\u003cextra\\u003e\\u003c\\u002fextra\\u003e\",\"legendgroup\":\"TOL\",\"line\":{\"color\":\"#636efa\",\"dash\":\"solid\"},\"marker\":{\"symbol\":\"circle\"},\"mode\":\"lines\",\"name\":\"TOL\",\"orientation\":\"v\",\"showlegend\":true,\"x\":[1,2,3,4,5,6,7,8,9,10,11,12],\"xaxis\":\"x\",\"y\":[1.6385825103118175,0.9510318055803557,0.5667067097141028,0.37618191933341844,0.24108489816431058,0.3292132581345665,0.30816753367208566,0.18326004235239993,0.8020716874944368,0.8014890364397035,0.5889099844244738,0.5552817280183601],\"yaxis\":\"y\",\"type\":\"scatter\"},{\"hovertemplate\":\"Pollutant=MXY\\u003cbr\\u003eyear=2002\\u003cbr\\u003eMonth=%{x}\\u003cbr\\u003eAverage Value=%{y}\\u003cextra\\u003e\\u003c\\u002fextra\\u003e\",\"legendgroup\":\"MXY\",\"line\":{\"color\":\"#EF553B\",\"dash\":\"solid\"},\"marker\":{\"symbol\":\"circle\"},\"mode\":\"lines\",\"name\":\"MXY\",\"orientation\":\"v\",\"showlegend\":true,\"x\":[1,2,3,4,5,6,7,8,9,10,11,12],\"xaxis\":\"x\",\"y\":[1.196627945819205,0.5844796054598904,0.35809390998780705,0.18934050295994376,0.09579935361889332,0.025901044972187644,0.14308890639004423,-0.014204456483294237,0.4339185056491347,0.4988088955667871,0.19435937639074602,0.19185107614988872],\"yaxis\":\"y\",\"type\":\"scatter\"},{\"hovertemplate\":\"Pollutant=OXY\\u003cbr\\u003eyear=2002\\u003cbr\\u003eMonth=%{x}\\u003cbr\\u003eAverage Value=%{y}\\u003cextra\\u003e\\u003c\\u002fextra\\u003e\",\"legendgroup\":\"OXY\",\"line\":{\"color\":\"#00cc96\",\"dash\":\"solid\"},\"marker\":{\"symbol\":\"circle\"},\"mode\":\"lines\",\"name\":\"OXY\",\"orientation\":\"v\",\"showlegend\":true,\"x\":[1,2,3,4,5,6,7,8,9,10,11,12],\"xaxis\":\"x\",\"y\":[0.9238874067545884,0.4034102340450074,0.1945379003376136,0.08394301411231239,0.2092388038737984,0.023460368802525944,0.1143444814945094,-0.09877923683946828,0.16233559004106565,0.32563292598812543,0.019700899780861765,0.0613606078060118],\"yaxis\":\"y\",\"type\":\"scatter\"},{\"hovertemplate\":\"Pollutant=PXY\\u003cbr\\u003eyear=2002\\u003cbr\\u003eMonth=%{x}\\u003cbr\\u003eAverage Value=%{y}\\u003cextra\\u003e\\u003c\\u002fextra\\u003e\",\"legendgroup\":\"PXY\",\"line\":{\"color\":\"#ab63fa\",\"dash\":\"solid\"},\"marker\":{\"symbol\":\"circle\"},\"mode\":\"lines\",\"name\":\"PXY\",\"orientation\":\"v\",\"showlegend\":true,\"x\":[1,2,3,4,5,6,7,8,9,10,11,12],\"xaxis\":\"x\",\"y\":[0.9990802222796195,0.45677597369233575,0.21734775333357548,0.1150539713164617,0.16224267153712915,0.013166255162862663,0.28742360130019207,-0.014319004043855471,0.3277298198705041,0.45371188139863194,0.15040272455343087,0.11781992845158978],\"yaxis\":\"y\",\"type\":\"scatter\"},{\"hovertemplate\":\"Pollutant=PM25\\u003cbr\\u003eyear=2002\\u003cbr\\u003eMonth=%{x}\\u003cbr\\u003eAverage Value=%{y}\\u003cextra\\u003e\\u003c\\u002fextra\\u003e\",\"legendgroup\":\"PM25\",\"line\":{\"color\":\"#FFA15A\",\"dash\":\"solid\"},\"marker\":{\"symbol\":\"circle\"},\"mode\":\"lines\",\"name\":\"PM25\",\"orientation\":\"v\",\"showlegend\":true,\"x\":[1,2,3,4,5,6,7,8,9,10,11,12],\"xaxis\":\"x\",\"y\":[null,null,null,null,null,null,null,null,null,null,null,null],\"yaxis\":\"y\",\"type\":\"scatter\"},{\"hovertemplate\":\"Pollutant=CH4\\u003cbr\\u003eyear=2002\\u003cbr\\u003eMonth=%{x}\\u003cbr\\u003eAverage Value=%{y}\\u003cextra\\u003e\\u003c\\u002fextra\\u003e\",\"legendgroup\":\"CH4\",\"line\":{\"color\":\"#19d3f3\",\"dash\":\"solid\"},\"marker\":{\"symbol\":\"circle\"},\"mode\":\"lines\",\"name\":\"CH4\",\"orientation\":\"v\",\"showlegend\":true,\"x\":[1,2,3,4,5,6,7,8,9,10,11,12],\"xaxis\":\"x\",\"y\":[null,null,null,null,null,null,null,null,null,null,null,null],\"yaxis\":\"y\",\"type\":\"scatter\"},{\"hovertemplate\":\"Pollutant=NO\\u003cbr\\u003eyear=2002\\u003cbr\\u003eMonth=%{x}\\u003cbr\\u003eAverage Value=%{y}\\u003cextra\\u003e\\u003c\\u002fextra\\u003e\",\"legendgroup\":\"NO\",\"line\":{\"color\":\"#FF6692\",\"dash\":\"solid\"},\"marker\":{\"symbol\":\"circle\"},\"mode\":\"lines\",\"name\":\"NO\",\"orientation\":\"v\",\"showlegend\":true,\"x\":[1,2,3,4,5,6,7,8,9,10,11,12],\"xaxis\":\"x\",\"y\":[null,null,null,null,null,null,null,null,null,null,null,null],\"yaxis\":\"y\",\"type\":\"scatter\"}],\"name\":\"2002\"},{\"data\":[{\"hovertemplate\":\"Pollutant=BEN\\u003cbr\\u003eyear=2003\\u003cbr\\u003eMonth=%{x}\\u003cbr\\u003eAverage Value=%{y}\\u003cextra\\u003e\\u003c\\u002fextra\\u003e\",\"legendgroup\":\"BEN\",\"line\":{\"color\":\"#636efa\",\"dash\":\"solid\"},\"marker\":{\"symbol\":\"circle\"},\"mode\":\"lines\",\"name\":\"BEN\",\"orientation\":\"v\",\"showlegend\":true,\"x\":[1,2,3,4,5,6,7,8,9,10,11,12],\"xaxis\":\"x\",\"y\":[0.7106168020639271,0.7017002061200079,0.5001942531626826,0.17316240090475032,0.3871020239933627,0.2577321262930617,0.2633999831282699,0.18271112611024104,0.34463799378340243,0.35616361468427044,0.6317030888328394,0.9382886610404821],\"yaxis\":\"y\",\"type\":\"scatter\"},{\"hovertemplate\":\"Pollutant=CO\\u003cbr\\u003eyear=2003\\u003cbr\\u003eMonth=%{x}\\u003cbr\\u003eAverage Value=%{y}\\u003cextra\\u003e\\u003c\\u002fextra\\u003e\",\"legendgroup\":\"CO\",\"line\":{\"color\":\"#EF553B\",\"dash\":\"solid\"},\"marker\":{\"symbol\":\"circle\"},\"mode\":\"lines\",\"name\":\"CO\",\"orientation\":\"v\",\"showlegend\":true,\"x\":[1,2,3,4,5,6,7,8,9,10,11,12],\"xaxis\":\"x\",\"y\":[0.7585540977113934,0.5932368093512896,0.4700772739523352,0.10917473849048386,-0.007102219193820847,-0.04546889746440663,-0.05161224423125295,-0.18238962367382178,0.06049677642386427,0.2396520679919369,0.5662678931896798,0.9265077866812748],\"yaxis\":\"y\",\"type\":\"scatter\"},{\"hovertemplate\":\"Pollutant=EBE\\u003cbr\\u003eyear=2003\\u003cbr\\u003eMonth=%{x}\\u003cbr\\u003eAverage Value=%{y}\\u003cextra\\u003e\\u003c\\u002fextra\\u003e\",\"legendgroup\":\"EBE\",\"line\":{\"color\":\"#00cc96\",\"dash\":\"solid\"},\"marker\":{\"symbol\":\"circle\"},\"mode\":\"lines\",\"name\":\"EBE\",\"orientation\":\"v\",\"showlegend\":true,\"x\":[1,2,3,4,5,6,7,8,9,10,11,12],\"xaxis\":\"x\",\"y\":[0.24574370792122374,0.49466710451162604,0.42148543964187124,0.21123645708432096,0.40616114946771403,0.23004747497899475,0.36809686906246064,0.3199968636087893,0.4737781597595472,0.6120613061702149,0.9881308680668088,1.0724391196825265],\"yaxis\":\"y\",\"type\":\"scatter\"},{\"hovertemplate\":\"Pollutant=NMHC\\u003cbr\\u003eyear=2003\\u003cbr\\u003eMonth=%{x}\\u003cbr\\u003eAverage Value=%{y}\\u003cextra\\u003e\\u003c\\u002fextra\\u003e\",\"legendgroup\":\"NMHC\",\"line\":{\"color\":\"#ab63fa\",\"dash\":\"solid\"},\"marker\":{\"symbol\":\"circle\"},\"mode\":\"lines\",\"name\":\"NMHC\",\"orientation\":\"v\",\"showlegend\":true,\"x\":[1,2,3,4,5,6,7,8,9,10,11,12],\"xaxis\":\"x\",\"y\":[0.0018682878835001196,-0.1816880101314546,-0.1921069367716735,-0.4722898993463118,-0.5068311082987966,-0.3342457913427656,-0.34643928332261453,-0.3017100427075205,-0.2539964188604659,-0.3429567562174841,-0.07004736571951156,0.3622997958432294],\"yaxis\":\"y\",\"type\":\"scatter\"},{\"hovertemplate\":\"Pollutant=NOx\\u003cbr\\u003eyear=2003\\u003cbr\\u003eMonth=%{x}\\u003cbr\\u003eAverage Value=%{y}\\u003cextra\\u003e\\u003c\\u002fextra\\u003e\",\"legendgroup\":\"NOx\",\"line\":{\"color\":\"#FFA15A\",\"dash\":\"solid\"},\"marker\":{\"symbol\":\"circle\"},\"mode\":\"lines\",\"name\":\"NOx\",\"orientation\":\"v\",\"showlegend\":true,\"x\":[1,2,3,4,5,6,7,8,9,10,11,12],\"xaxis\":\"x\",\"y\":[0.2628380980762328,0.15573371279217454,0.10481273882923464,-0.20667778031904407,-0.17812659210975207,-0.1441422550332493,-0.10906254990772106,-0.2254071960566097,-0.06095467133413347,-0.007976427800313839,0.32819061829363194,0.7002192411591978],\"yaxis\":\"y\",\"type\":\"scatter\"},{\"hovertemplate\":\"Pollutant=NO_2\\u003cbr\\u003eyear=2003\\u003cbr\\u003eMonth=%{x}\\u003cbr\\u003eAverage Value=%{y}\\u003cextra\\u003e\\u003c\\u002fextra\\u003e\",\"legendgroup\":\"NO_2\",\"line\":{\"color\":\"#19d3f3\",\"dash\":\"solid\"},\"marker\":{\"symbol\":\"circle\"},\"mode\":\"lines\",\"name\":\"NO_2\",\"orientation\":\"v\",\"showlegend\":true,\"x\":[1,2,3,4,5,6,7,8,9,10,11,12],\"xaxis\":\"x\",\"y\":[0.27512952597916956,0.2943173913515083,0.3432009165029919,0.02367116501149064,0.09919907223172712,0.21730790216725387,0.2817645967955402,0.12407611856646927,0.21384909912488612,0.10643122940256303,0.28532129445736465,0.48914340346711654],\"yaxis\":\"y\",\"type\":\"scatter\"},{\"hovertemplate\":\"Pollutant=O_3\\u003cbr\\u003eyear=2003\\u003cbr\\u003eMonth=%{x}\\u003cbr\\u003eAverage Value=%{y}\\u003cextra\\u003e\\u003c\\u002fextra\\u003e\",\"legendgroup\":\"O_3\",\"line\":{\"color\":\"#FF6692\",\"dash\":\"solid\"},\"marker\":{\"symbol\":\"circle\"},\"mode\":\"lines\",\"name\":\"O_3\",\"orientation\":\"v\",\"showlegend\":true,\"x\":[1,2,3,4,5,6,7,8,9,10,11,12],\"xaxis\":\"x\",\"y\":[-0.5798577937705081,-0.5614288847647008,-0.2409495679700203,0.20062044269290064,0.3038552421066444,0.4016009682392808,0.5037864825952595,0.6783260201773507,0.09079231217385951,-0.45256710255486116,-0.7079855941901412,-0.8368976753415075],\"yaxis\":\"y\",\"type\":\"scatter\"},{\"hovertemplate\":\"Pollutant=PM10\\u003cbr\\u003eyear=2003\\u003cbr\\u003eMonth=%{x}\\u003cbr\\u003eAverage Value=%{y}\\u003cextra\\u003e\\u003c\\u002fextra\\u003e\",\"legendgroup\":\"PM10\",\"line\":{\"color\":\"#B6E880\",\"dash\":\"solid\"},\"marker\":{\"symbol\":\"circle\"},\"mode\":\"lines\",\"name\":\"PM10\",\"orientation\":\"v\",\"showlegend\":true,\"x\":[1,2,3,4,5,6,7,8,9,10,11,12],\"xaxis\":\"x\",\"y\":[-0.05703073093834392,-0.07736570180007522,0.442824718185252,-0.03222081331756007,0.18833895939544992,0.7236855007242191,0.5174730690999118,0.5512060924661523,0.4073604123713287,-0.1827085535389401,0.19491606440945294,0.3420029526370706],\"yaxis\":\"y\",\"type\":\"scatter\"},{\"hovertemplate\":\"Pollutant=SO_2\\u003cbr\\u003eyear=2003\\u003cbr\\u003eMonth=%{x}\\u003cbr\\u003eAverage Value=%{y}\\u003cextra\\u003e\\u003c\\u002fextra\\u003e\",\"legendgroup\":\"SO_2\",\"line\":{\"color\":\"#FF97FF\",\"dash\":\"solid\"},\"marker\":{\"symbol\":\"circle\"},\"mode\":\"lines\",\"name\":\"SO_2\",\"orientation\":\"v\",\"showlegend\":true,\"x\":[1,2,3,4,5,6,7,8,9,10,11,12],\"xaxis\":\"x\",\"y\":[0.7981010996191799,0.6772328240801792,0.42295595629441013,-0.04911932324184836,-0.16789551227722257,-0.1468173230066344,-0.11512557168457659,-0.14061416770425572,-0.10491018943393414,-0.17160917985242757,0.39895696723891777,0.8845527350714968],\"yaxis\":\"y\",\"type\":\"scatter\"},{\"hovertemplate\":\"Pollutant=TCH\\u003cbr\\u003eyear=2003\\u003cbr\\u003eMonth=%{x}\\u003cbr\\u003eAverage Value=%{y}\\u003cextra\\u003e\\u003c\\u002fextra\\u003e\",\"legendgroup\":\"TCH\",\"line\":{\"color\":\"#FECB52\",\"dash\":\"solid\"},\"marker\":{\"symbol\":\"circle\"},\"mode\":\"lines\",\"name\":\"TCH\",\"orientation\":\"v\",\"showlegend\":true,\"x\":[1,2,3,4,5,6,7,8,9,10,11,12],\"xaxis\":\"x\",\"y\":[0.1287855039213618,0.004474781658724504,-0.11085057763266441,-0.17252576732137814,-0.3546855266172465,-0.17559989316080268,-0.10959938736993906,-0.024608397086067685,-0.030022660745199232,-0.030760556232825968,0.3886428074890231,0.7740756231293029],\"yaxis\":\"y\",\"type\":\"scatter\"},{\"hovertemplate\":\"Pollutant=TOL\\u003cbr\\u003eyear=2003\\u003cbr\\u003eMonth=%{x}\\u003cbr\\u003eAverage Value=%{y}\\u003cextra\\u003e\\u003c\\u002fextra\\u003e\",\"legendgroup\":\"TOL\",\"line\":{\"color\":\"#636efa\",\"dash\":\"solid\"},\"marker\":{\"symbol\":\"circle\"},\"mode\":\"lines\",\"name\":\"TOL\",\"orientation\":\"v\",\"showlegend\":true,\"x\":[1,2,3,4,5,6,7,8,9,10,11,12],\"xaxis\":\"x\",\"y\":[0.3315688110775418,0.48511003536611624,0.4604181882998887,0.07515324044706895,0.2959885732252656,0.2604845426079835,0.37837970423684847,0.1342350163921952,0.48980876109065413,0.4935244917051046,0.8369915132475139,1.0482455266991526],\"yaxis\":\"y\",\"type\":\"scatter\"},{\"hovertemplate\":\"Pollutant=MXY\\u003cbr\\u003eyear=2003\\u003cbr\\u003eMonth=%{x}\\u003cbr\\u003eAverage Value=%{y}\\u003cextra\\u003e\\u003c\\u002fextra\\u003e\",\"legendgroup\":\"MXY\",\"line\":{\"color\":\"#EF553B\",\"dash\":\"solid\"},\"marker\":{\"symbol\":\"circle\"},\"mode\":\"lines\",\"name\":\"MXY\",\"orientation\":\"v\",\"showlegend\":true,\"x\":[1,2,3,4,5,6,7,8,9,10,11,12],\"xaxis\":\"x\",\"y\":[-0.07883892703748427,0.026187871906565133,0.1389990459061367,-0.1757785417052226,-0.1476033111505542,-0.0012238525630641004,0.015102868516462722,-0.11698629851081487,0.189292203303847,0.2620496831951708,0.6614968369162453,0.6767588793368196],\"yaxis\":\"y\",\"type\":\"scatter\"},{\"hovertemplate\":\"Pollutant=OXY\\u003cbr\\u003eyear=2003\\u003cbr\\u003eMonth=%{x}\\u003cbr\\u003eAverage Value=%{y}\\u003cextra\\u003e\\u003c\\u002fextra\\u003e\",\"legendgroup\":\"OXY\",\"line\":{\"color\":\"#00cc96\",\"dash\":\"solid\"},\"marker\":{\"symbol\":\"circle\"},\"mode\":\"lines\",\"name\":\"OXY\",\"orientation\":\"v\",\"showlegend\":true,\"x\":[1,2,3,4,5,6,7,8,9,10,11,12],\"xaxis\":\"x\",\"y\":[-0.21771275373406715,-0.14563068575485472,0.014087542100285209,-0.257491679113647,-0.2102862979742,-0.020630732877560315,0.14672118626388356,-0.1280487380698139,-0.058883904226885234,0.05121115099253357,0.5425412679158998,1.3859480773914956],\"yaxis\":\"y\",\"type\":\"scatter\"},{\"hovertemplate\":\"Pollutant=PXY\\u003cbr\\u003eyear=2003\\u003cbr\\u003eMonth=%{x}\\u003cbr\\u003eAverage Value=%{y}\\u003cextra\\u003e\\u003c\\u002fextra\\u003e\",\"legendgroup\":\"PXY\",\"line\":{\"color\":\"#ab63fa\",\"dash\":\"solid\"},\"marker\":{\"symbol\":\"circle\"},\"mode\":\"lines\",\"name\":\"PXY\",\"orientation\":\"v\",\"showlegend\":true,\"x\":[1,2,3,4,5,6,7,8,9,10,11,12],\"xaxis\":\"x\",\"y\":[-0.13262659354046494,0.03385623298795015,0.14849987813993323,-0.21718352456471307,-0.1973095504488563,0.020650197493748884,0.052560476842389174,-0.08494463922612908,0.08186313602536976,0.11566306562981053,0.43734745692070404,0.5140435905432504],\"yaxis\":\"y\",\"type\":\"scatter\"},{\"hovertemplate\":\"Pollutant=PM25\\u003cbr\\u003eyear=2003\\u003cbr\\u003eMonth=%{x}\\u003cbr\\u003eAverage Value=%{y}\\u003cextra\\u003e\\u003c\\u002fextra\\u003e\",\"legendgroup\":\"PM25\",\"line\":{\"color\":\"#FFA15A\",\"dash\":\"solid\"},\"marker\":{\"symbol\":\"circle\"},\"mode\":\"lines\",\"name\":\"PM25\",\"orientation\":\"v\",\"showlegend\":true,\"x\":[1,2,3,4,5,6,7,8,9,10,11,12],\"xaxis\":\"x\",\"y\":[null,null,null,null,null,null,null,null,null,null,null,null],\"yaxis\":\"y\",\"type\":\"scatter\"},{\"hovertemplate\":\"Pollutant=CH4\\u003cbr\\u003eyear=2003\\u003cbr\\u003eMonth=%{x}\\u003cbr\\u003eAverage Value=%{y}\\u003cextra\\u003e\\u003c\\u002fextra\\u003e\",\"legendgroup\":\"CH4\",\"line\":{\"color\":\"#19d3f3\",\"dash\":\"solid\"},\"marker\":{\"symbol\":\"circle\"},\"mode\":\"lines\",\"name\":\"CH4\",\"orientation\":\"v\",\"showlegend\":true,\"x\":[1,2,3,4,5,6,7,8,9,10,11,12],\"xaxis\":\"x\",\"y\":[null,null,null,null,null,null,null,null,null,null,null,null],\"yaxis\":\"y\",\"type\":\"scatter\"},{\"hovertemplate\":\"Pollutant=NO\\u003cbr\\u003eyear=2003\\u003cbr\\u003eMonth=%{x}\\u003cbr\\u003eAverage Value=%{y}\\u003cextra\\u003e\\u003c\\u002fextra\\u003e\",\"legendgroup\":\"NO\",\"line\":{\"color\":\"#FF6692\",\"dash\":\"solid\"},\"marker\":{\"symbol\":\"circle\"},\"mode\":\"lines\",\"name\":\"NO\",\"orientation\":\"v\",\"showlegend\":true,\"x\":[1,2,3,4,5,6,7,8,9,10,11,12],\"xaxis\":\"x\",\"y\":[null,null,null,null,null,null,null,null,null,null,null,null],\"yaxis\":\"y\",\"type\":\"scatter\"}],\"name\":\"2003\"},{\"data\":[{\"hovertemplate\":\"Pollutant=BEN\\u003cbr\\u003eyear=2004\\u003cbr\\u003eMonth=%{x}\\u003cbr\\u003eAverage Value=%{y}\\u003cextra\\u003e\\u003c\\u002fextra\\u003e\",\"legendgroup\":\"BEN\",\"line\":{\"color\":\"#636efa\",\"dash\":\"solid\"},\"marker\":{\"symbol\":\"circle\"},\"mode\":\"lines\",\"name\":\"BEN\",\"orientation\":\"v\",\"showlegend\":true,\"x\":[1,2,3,4,5,6,7,8,9,10,11,12],\"xaxis\":\"x\",\"y\":[0.7420113626597289,0.5756212562606224,0.3142445992839977,0.14126077473028845,0.23373200454306162,0.44322191710087555,0.24639108145302,0.08713664459384765,0.41963679603499937,0.6405593449801714,1.1850264603697098,0.5855742028901048],\"yaxis\":\"y\",\"type\":\"scatter\"},{\"hovertemplate\":\"Pollutant=CO\\u003cbr\\u003eyear=2004\\u003cbr\\u003eMonth=%{x}\\u003cbr\\u003eAverage Value=%{y}\\u003cextra\\u003e\\u003c\\u002fextra\\u003e\",\"legendgroup\":\"CO\",\"line\":{\"color\":\"#EF553B\",\"dash\":\"solid\"},\"marker\":{\"symbol\":\"circle\"},\"mode\":\"lines\",\"name\":\"CO\",\"orientation\":\"v\",\"showlegend\":true,\"x\":[1,2,3,4,5,6,7,8,9,10,11,12],\"xaxis\":\"x\",\"y\":[0.6924210406920857,0.6087597778502268,0.11620852554493354,-0.0631034360072355,-0.12811822107250628,-0.21026189457568084,-0.1973019298684792,-0.2837819780016153,0.07410407780233645,0.2391079883701461,0.926161716022164,0.568889662012154],\"yaxis\":\"y\",\"type\":\"scatter\"},{\"hovertemplate\":\"Pollutant=EBE\\u003cbr\\u003eyear=2004\\u003cbr\\u003eMonth=%{x}\\u003cbr\\u003eAverage Value=%{y}\\u003cextra\\u003e\\u003c\\u002fextra\\u003e\",\"legendgroup\":\"EBE\",\"line\":{\"color\":\"#00cc96\",\"dash\":\"solid\"},\"marker\":{\"symbol\":\"circle\"},\"mode\":\"lines\",\"name\":\"EBE\",\"orientation\":\"v\",\"showlegend\":true,\"x\":[1,2,3,4,5,6,7,8,9,10,11,12],\"xaxis\":\"x\",\"y\":[0.8975328376341949,0.8717409772324088,0.3379428341868415,0.18524917519622136,0.29668405247443197,0.39960825655482346,0.311846456882682,0.15139559276677036,0.9496833981912342,1.1748229479116743,1.599929486357074,0.6313492580932666],\"yaxis\":\"y\",\"type\":\"scatter\"},{\"hovertemplate\":\"Pollutant=NMHC\\u003cbr\\u003eyear=2004\\u003cbr\\u003eMonth=%{x}\\u003cbr\\u003eAverage Value=%{y}\\u003cextra\\u003e\\u003c\\u002fextra\\u003e\",\"legendgroup\":\"NMHC\",\"line\":{\"color\":\"#ab63fa\",\"dash\":\"solid\"},\"marker\":{\"symbol\":\"circle\"},\"mode\":\"lines\",\"name\":\"NMHC\",\"orientation\":\"v\",\"showlegend\":true,\"x\":[1,2,3,4,5,6,7,8,9,10,11,12],\"xaxis\":\"x\",\"y\":[0.33910325000296704,0.07421136538984578,-0.23750788460306269,-0.4009789100149522,-0.5644196170229596,-0.37566035608708237,-0.22478506681849458,-0.19420976985778343,0.0844789343920641,0.027399315760531825,0.1462128638206997,-0.11848283052228041],\"yaxis\":\"y\",\"type\":\"scatter\"},{\"hovertemplate\":\"Pollutant=NOx\\u003cbr\\u003eyear=2004\\u003cbr\\u003eMonth=%{x}\\u003cbr\\u003eAverage Value=%{y}\\u003cextra\\u003e\\u003c\\u002fextra\\u003e\",\"legendgroup\":\"NOx\",\"line\":{\"color\":\"#FFA15A\",\"dash\":\"solid\"},\"marker\":{\"symbol\":\"circle\"},\"mode\":\"lines\",\"name\":\"NOx\",\"orientation\":\"v\",\"showlegend\":true,\"x\":[1,2,3,4,5,6,7,8,9,10,11,12],\"xaxis\":\"x\",\"y\":[0.5697407031324844,0.4634015599380385,-0.020737579647990587,-0.20053563918641729,-0.17928180131272112,-0.17121526000635764,-0.16640981199434624,-0.27166277045142717,0.07083008770867952,0.15283354462239496,0.816696293143681,0.41900563064307533],\"yaxis\":\"y\",\"type\":\"scatter\"},{\"hovertemplate\":\"Pollutant=NO_2\\u003cbr\\u003eyear=2004\\u003cbr\\u003eMonth=%{x}\\u003cbr\\u003eAverage Value=%{y}\\u003cextra\\u003e\\u003c\\u002fextra\\u003e\",\"legendgroup\":\"NO_2\",\"line\":{\"color\":\"#19d3f3\",\"dash\":\"solid\"},\"marker\":{\"symbol\":\"circle\"},\"mode\":\"lines\",\"name\":\"NO_2\",\"orientation\":\"v\",\"showlegend\":true,\"x\":[1,2,3,4,5,6,7,8,9,10,11,12],\"xaxis\":\"x\",\"y\":[0.35176447217533563,0.44040934756700956,0.18261715192640848,0.004846725681828943,0.18714063263274447,0.237648984047032,0.2740435519473688,0.05727830508870873,0.4132782805813256,0.3502790885696394,0.7078117894663946,0.37940530938984396],\"yaxis\":\"y\",\"type\":\"scatter\"},{\"hovertemplate\":\"Pollutant=O_3\\u003cbr\\u003eyear=2004\\u003cbr\\u003eMonth=%{x}\\u003cbr\\u003eAverage Value=%{y}\\u003cextra\\u003e\\u003c\\u002fextra\\u003e\",\"legendgroup\":\"O_3\",\"line\":{\"color\":\"#FF6692\",\"dash\":\"solid\"},\"marker\":{\"symbol\":\"circle\"},\"mode\":\"lines\",\"name\":\"O_3\",\"orientation\":\"v\",\"showlegend\":true,\"x\":[1,2,3,4,5,6,7,8,9,10,11,12],\"xaxis\":\"x\",\"y\":[-0.8302438177039584,-0.7032017146705954,-0.18566203763020192,0.26099027752252185,0.13492533823719105,0.3404682720264805,0.38613940754087533,0.22571532296017677,-0.18657057160752755,-0.4844731019626719,-0.89014675351091,-0.7205722689094501],\"yaxis\":\"y\",\"type\":\"scatter\"},{\"hovertemplate\":\"Pollutant=PM10\\u003cbr\\u003eyear=2004\\u003cbr\\u003eMonth=%{x}\\u003cbr\\u003eAverage Value=%{y}\\u003cextra\\u003e\\u003c\\u002fextra\\u003e\",\"legendgroup\":\"PM10\",\"line\":{\"color\":\"#B6E880\",\"dash\":\"solid\"},\"marker\":{\"symbol\":\"circle\"},\"mode\":\"lines\",\"name\":\"PM10\",\"orientation\":\"v\",\"showlegend\":true,\"x\":[1,2,3,4,5,6,7,8,9,10,11,12],\"xaxis\":\"x\",\"y\":[0.18152332189795228,0.247460764548234,0.09897393624848264,-0.18395624284767353,-0.21010487610791947,0.23700755802849252,0.5115038792731936,0.11056949063647298,0.6094370810956924,0.15996261495721845,0.4452863941433008,-0.06799160956639096],\"yaxis\":\"y\",\"type\":\"scatter\"},{\"hovertemplate\":\"Pollutant=SO_2\\u003cbr\\u003eyear=2004\\u003cbr\\u003eMonth=%{x}\\u003cbr\\u003eAverage Value=%{y}\\u003cextra\\u003e\\u003c\\u002fextra\\u003e\",\"legendgroup\":\"SO_2\",\"line\":{\"color\":\"#FF97FF\",\"dash\":\"solid\"},\"marker\":{\"symbol\":\"circle\"},\"mode\":\"lines\",\"name\":\"SO_2\",\"orientation\":\"v\",\"showlegend\":true,\"x\":[1,2,3,4,5,6,7,8,9,10,11,12],\"xaxis\":\"x\",\"y\":[0.7360197578569824,0.602093100932997,0.21833991242436945,-0.15683356790310563,-0.3450325215206425,-0.4086990847666705,-0.36946469968871504,-0.4305117156508824,-0.22808842395726647,-0.19334258404498386,0.7895195286428468,0.7271601320069553],\"yaxis\":\"y\",\"type\":\"scatter\"},{\"hovertemplate\":\"Pollutant=TCH\\u003cbr\\u003eyear=2004\\u003cbr\\u003eMonth=%{x}\\u003cbr\\u003eAverage Value=%{y}\\u003cextra\\u003e\\u003c\\u002fextra\\u003e\",\"legendgroup\":\"TCH\",\"line\":{\"color\":\"#FECB52\",\"dash\":\"solid\"},\"marker\":{\"symbol\":\"circle\"},\"mode\":\"lines\",\"name\":\"TCH\",\"orientation\":\"v\",\"showlegend\":true,\"x\":[1,2,3,4,5,6,7,8,9,10,11,12],\"xaxis\":\"x\",\"y\":[0.6319675275233694,0.23441950492693076,-0.1043690030793674,-0.14970413179925338,-0.23482527415851737,-0.14645710215884367,-0.1576575511002176,-0.0965412670220468,0.04775482730706053,0.10649770195958182,0.4438371753267932,0.18224985318319264],\"yaxis\":\"y\",\"type\":\"scatter\"},{\"hovertemplate\":\"Pollutant=TOL\\u003cbr\\u003eyear=2004\\u003cbr\\u003eMonth=%{x}\\u003cbr\\u003eAverage Value=%{y}\\u003cextra\\u003e\\u003c\\u002fextra\\u003e\",\"legendgroup\":\"TOL\",\"line\":{\"color\":\"#636efa\",\"dash\":\"solid\"},\"marker\":{\"symbol\":\"circle\"},\"mode\":\"lines\",\"name\":\"TOL\",\"orientation\":\"v\",\"showlegend\":true,\"x\":[1,2,3,4,5,6,7,8,9,10,11,12],\"xaxis\":\"x\",\"y\":[0.8493685105848064,0.8494662723581566,0.2273609636702502,0.14431012548604585,0.27320350577191216,0.31100884873585577,0.24239598337005736,0.12909057346059905,0.5977327184572802,0.7738964881730669,1.1475791959790913,0.5129069240954464],\"yaxis\":\"y\",\"type\":\"scatter\"},{\"hovertemplate\":\"Pollutant=MXY\\u003cbr\\u003eyear=2004\\u003cbr\\u003eMonth=%{x}\\u003cbr\\u003eAverage Value=%{y}\\u003cextra\\u003e\\u003c\\u002fextra\\u003e\",\"legendgroup\":\"MXY\",\"line\":{\"color\":\"#EF553B\",\"dash\":\"solid\"},\"marker\":{\"symbol\":\"circle\"},\"mode\":\"lines\",\"name\":\"MXY\",\"orientation\":\"v\",\"showlegend\":true,\"x\":[1,2,3,4,5,6,7,8,9,10,11,12],\"xaxis\":\"x\",\"y\":[0.3689625114946142,0.4008345900141306,-0.04778036424383131,-0.13215388468839778,-0.056566055778264665,-0.06751530260438196,-0.0950754312717631,-0.20271364314932094,0.06828554720957107,0.3656699913467082,0.6336902783164822,0.2146234507169055],\"yaxis\":\"y\",\"type\":\"scatter\"},{\"hovertemplate\":\"Pollutant=OXY\\u003cbr\\u003eyear=2004\\u003cbr\\u003eMonth=%{x}\\u003cbr\\u003eAverage Value=%{y}\\u003cextra\\u003e\\u003c\\u002fextra\\u003e\",\"legendgroup\":\"OXY\",\"line\":{\"color\":\"#00cc96\",\"dash\":\"solid\"},\"marker\":{\"symbol\":\"circle\"},\"mode\":\"lines\",\"name\":\"OXY\",\"orientation\":\"v\",\"showlegend\":true,\"x\":[1,2,3,4,5,6,7,8,9,10,11,12],\"xaxis\":\"x\",\"y\":[0.7066004671281739,0.4658557670005415,0.022199814485497026,-0.132953024709753,-0.05644092440480209,0.046335238814063165,-0.002129293433391248,-0.08664737578154828,0.07295003726462877,0.35006940628184274,0.5078344843169706,0.16857682667604854],\"yaxis\":\"y\",\"type\":\"scatter\"},{\"hovertemplate\":\"Pollutant=PXY\\u003cbr\\u003eyear=2004\\u003cbr\\u003eMonth=%{x}\\u003cbr\\u003eAverage Value=%{y}\\u003cextra\\u003e\\u003c\\u002fextra\\u003e\",\"legendgroup\":\"PXY\",\"line\":{\"color\":\"#ab63fa\",\"dash\":\"solid\"},\"marker\":{\"symbol\":\"circle\"},\"mode\":\"lines\",\"name\":\"PXY\",\"orientation\":\"v\",\"showlegend\":true,\"x\":[1,2,3,4,5,6,7,8,9,10,11,12],\"xaxis\":\"x\",\"y\":[0.614907811378472,0.38516830133452074,-0.10635032874899762,-0.17241330266107782,-0.09892880247090288,0.06222046842101566,-0.035975847112982566,-0.07134981056218319,0.13260016113436582,0.2654011415142615,0.40263134556265817,0.06735917082088587],\"yaxis\":\"y\",\"type\":\"scatter\"},{\"hovertemplate\":\"Pollutant=PM25\\u003cbr\\u003eyear=2004\\u003cbr\\u003eMonth=%{x}\\u003cbr\\u003eAverage Value=%{y}\\u003cextra\\u003e\\u003c\\u002fextra\\u003e\",\"legendgroup\":\"PM25\",\"line\":{\"color\":\"#FFA15A\",\"dash\":\"solid\"},\"marker\":{\"symbol\":\"circle\"},\"mode\":\"lines\",\"name\":\"PM25\",\"orientation\":\"v\",\"showlegend\":true,\"x\":[1,2,3,4,5,6,7,8,9,10,11,12],\"xaxis\":\"x\",\"y\":[2.499898274775836,0.4147736843690053,0.314796533391649,0.03629970258887884,0.09412724635888671,0.48331347945007297,0.9357724963733435,0.3001478809623054,0.7880271697875644,0.45516999193209856,1.2806931496622693,0.3428502863841656],\"yaxis\":\"y\",\"type\":\"scatter\"},{\"hovertemplate\":\"Pollutant=CH4\\u003cbr\\u003eyear=2004\\u003cbr\\u003eMonth=%{x}\\u003cbr\\u003eAverage Value=%{y}\\u003cextra\\u003e\\u003c\\u002fextra\\u003e\",\"legendgroup\":\"CH4\",\"line\":{\"color\":\"#19d3f3\",\"dash\":\"solid\"},\"marker\":{\"symbol\":\"circle\"},\"mode\":\"lines\",\"name\":\"CH4\",\"orientation\":\"v\",\"showlegend\":true,\"x\":[1,2,3,4,5,6,7,8,9,10,11,12],\"xaxis\":\"x\",\"y\":[null,null,null,null,null,null,null,null,null,null,null,null],\"yaxis\":\"y\",\"type\":\"scatter\"},{\"hovertemplate\":\"Pollutant=NO\\u003cbr\\u003eyear=2004\\u003cbr\\u003eMonth=%{x}\\u003cbr\\u003eAverage Value=%{y}\\u003cextra\\u003e\\u003c\\u002fextra\\u003e\",\"legendgroup\":\"NO\",\"line\":{\"color\":\"#FF6692\",\"dash\":\"solid\"},\"marker\":{\"symbol\":\"circle\"},\"mode\":\"lines\",\"name\":\"NO\",\"orientation\":\"v\",\"showlegend\":true,\"x\":[1,2,3,4,5,6,7,8,9,10,11,12],\"xaxis\":\"x\",\"y\":[null,null,null,null,null,null,null,null,null,null,null,null],\"yaxis\":\"y\",\"type\":\"scatter\"}],\"name\":\"2004\"},{\"data\":[{\"hovertemplate\":\"Pollutant=BEN\\u003cbr\\u003eyear=2005\\u003cbr\\u003eMonth=%{x}\\u003cbr\\u003eAverage Value=%{y}\\u003cextra\\u003e\\u003c\\u002fextra\\u003e\",\"legendgroup\":\"BEN\",\"line\":{\"color\":\"#636efa\",\"dash\":\"solid\"},\"marker\":{\"symbol\":\"circle\"},\"mode\":\"lines\",\"name\":\"BEN\",\"orientation\":\"v\",\"showlegend\":true,\"x\":[1,2,3,4,5,6,7,8,9,10,11,12],\"xaxis\":\"x\",\"y\":[1.032133223674706,0.3238525186594332,0.14777132735541226,-0.11321102182129021,-0.21767341589626457,-0.2530217341092119,-0.2564486290797249,-0.22835966536233096,-0.11767686315723316,-0.039879691121117646,0.06456724361169863,0.08472472249060152],\"yaxis\":\"y\",\"type\":\"scatter\"},{\"hovertemplate\":\"Pollutant=CO\\u003cbr\\u003eyear=2005\\u003cbr\\u003eMonth=%{x}\\u003cbr\\u003eAverage Value=%{y}\\u003cextra\\u003e\\u003c\\u002fextra\\u003e\",\"legendgroup\":\"CO\",\"line\":{\"color\":\"#EF553B\",\"dash\":\"solid\"},\"marker\":{\"symbol\":\"circle\"},\"mode\":\"lines\",\"name\":\"CO\",\"orientation\":\"v\",\"showlegend\":true,\"x\":[1,2,3,4,5,6,7,8,9,10,11,12],\"xaxis\":\"x\",\"y\":[1.0364222776916292,0.3458057658416695,0.13841649668841877,-0.03784208112485406,-0.1529473389328316,-0.2352679235334764,-0.16221206996156345,-0.1607533445231138,0.13274035086007147,0.26223499473416856,0.5078542806702965,0.5793581068861962],\"yaxis\":\"y\",\"type\":\"scatter\"},{\"hovertemplate\":\"Pollutant=EBE\\u003cbr\\u003eyear=2005\\u003cbr\\u003eMonth=%{x}\\u003cbr\\u003eAverage Value=%{y}\\u003cextra\\u003e\\u003c\\u002fextra\\u003e\",\"legendgroup\":\"EBE\",\"line\":{\"color\":\"#00cc96\",\"dash\":\"solid\"},\"marker\":{\"symbol\":\"circle\"},\"mode\":\"lines\",\"name\":\"EBE\",\"orientation\":\"v\",\"showlegend\":true,\"x\":[1,2,3,4,5,6,7,8,9,10,11,12],\"xaxis\":\"x\",\"y\":[1.1244025350909526,0.11219757960192181,0.08599036166591237,-0.05929392978318938,-0.139546385836544,-0.07443616336327531,-0.1361915784381854,-0.09153956679927719,0.06888327490460748,0.13778366150685575,0.21443928921914907,0.2743948058754366],\"yaxis\":\"y\",\"type\":\"scatter\"},{\"hovertemplate\":\"Pollutant=NMHC\\u003cbr\\u003eyear=2005\\u003cbr\\u003eMonth=%{x}\\u003cbr\\u003eAverage Value=%{y}\\u003cextra\\u003e\\u003c\\u002fextra\\u003e\",\"legendgroup\":\"NMHC\",\"line\":{\"color\":\"#ab63fa\",\"dash\":\"solid\"},\"marker\":{\"symbol\":\"circle\"},\"mode\":\"lines\",\"name\":\"NMHC\",\"orientation\":\"v\",\"showlegend\":true,\"x\":[1,2,3,4,5,6,7,8,9,10,11,12],\"xaxis\":\"x\",\"y\":[0.307962630451705,-0.19833861203009093,-0.2240433121564463,-0.4128596508410749,-0.40964379691154007,-0.4309770148768633,-0.3025395558690989,-0.2287389208300641,0.04575517518990592,0.12528616456494374,0.4570334390233704,0.3902586552218175],\"yaxis\":\"y\",\"type\":\"scatter\"},{\"hovertemplate\":\"Pollutant=NOx\\u003cbr\\u003eyear=2005\\u003cbr\\u003eMonth=%{x}\\u003cbr\\u003eAverage Value=%{y}\\u003cextra\\u003e\\u003c\\u002fextra\\u003e\",\"legendgroup\":\"NOx\",\"line\":{\"color\":\"#FFA15A\",\"dash\":\"solid\"},\"marker\":{\"symbol\":\"circle\"},\"mode\":\"lines\",\"name\":\"NOx\",\"orientation\":\"v\",\"showlegend\":true,\"x\":[1,2,3,4,5,6,7,8,9,10,11,12],\"xaxis\":\"x\",\"y\":[0.933635774349207,0.15635254664104178,-0.0010180451969606884,-0.2136733763215057,-0.26345629300460316,-0.2550443917632978,-0.27761835544008406,-0.24200009094480907,0.07023816173285667,0.20252857828669116,0.43731870305792814,0.5261880921041644],\"yaxis\":\"y\",\"type\":\"scatter\"},{\"hovertemplate\":\"Pollutant=NO_2\\u003cbr\\u003eyear=2005\\u003cbr\\u003eMonth=%{x}\\u003cbr\\u003eAverage Value=%{y}\\u003cextra\\u003e\\u003c\\u002fextra\\u003e\",\"legendgroup\":\"NO_2\",\"line\":{\"color\":\"#19d3f3\",\"dash\":\"solid\"},\"marker\":{\"symbol\":\"circle\"},\"mode\":\"lines\",\"name\":\"NO_2\",\"orientation\":\"v\",\"showlegend\":true,\"x\":[1,2,3,4,5,6,7,8,9,10,11,12],\"xaxis\":\"x\",\"y\":[0.8755743877292635,0.48777169633994394,0.3168847120624826,0.07023118699695585,0.038800990487783224,0.12962063460398673,0.06462220523286233,0.01853958642663583,0.3543953682294503,0.3831908460694589,0.5301214054664101,0.6689456329543796],\"yaxis\":\"y\",\"type\":\"scatter\"},{\"hovertemplate\":\"Pollutant=O_3\\u003cbr\\u003eyear=2005\\u003cbr\\u003eMonth=%{x}\\u003cbr\\u003eAverage Value=%{y}\\u003cextra\\u003e\\u003c\\u002fextra\\u003e\",\"legendgroup\":\"O_3\",\"line\":{\"color\":\"#FF6692\",\"dash\":\"solid\"},\"marker\":{\"symbol\":\"circle\"},\"mode\":\"lines\",\"name\":\"O_3\",\"orientation\":\"v\",\"showlegend\":true,\"x\":[1,2,3,4,5,6,7,8,9,10,11,12],\"xaxis\":\"x\",\"y\":[-0.786203065076701,-0.36214594841858955,-0.1937389337019237,0.2617634352773764,0.26019625645367533,0.3442696024558578,0.5613727975923627,0.21125635570493137,-0.20460560544267758,-0.6413283974988333,-0.7395623558370173,-0.772322206969159],\"yaxis\":\"y\",\"type\":\"scatter\"},{\"hovertemplate\":\"Pollutant=PM10\\u003cbr\\u003eyear=2005\\u003cbr\\u003eMonth=%{x}\\u003cbr\\u003eAverage Value=%{y}\\u003cextra\\u003e\\u003c\\u002fextra\\u003e\",\"legendgroup\":\"PM10\",\"line\":{\"color\":\"#B6E880\",\"dash\":\"solid\"},\"marker\":{\"symbol\":\"circle\"},\"mode\":\"lines\",\"name\":\"PM10\",\"orientation\":\"v\",\"showlegend\":true,\"x\":[1,2,3,4,5,6,7,8,9,10,11,12],\"xaxis\":\"x\",\"y\":[0.49331100939976286,-0.11964672399944931,0.3200092888427068,-0.17232500950980054,0.04235700781805828,0.2097672606830944,0.2974546612911204,0.4369652423797274,0.4245391515434735,0.22411131749168198,0.1736851737620886,0.08915759278146797],\"yaxis\":\"y\",\"type\":\"scatter\"},{\"hovertemplate\":\"Pollutant=SO_2\\u003cbr\\u003eyear=2005\\u003cbr\\u003eMonth=%{x}\\u003cbr\\u003eAverage Value=%{y}\\u003cextra\\u003e\\u003c\\u002fextra\\u003e\",\"legendgroup\":\"SO_2\",\"line\":{\"color\":\"#FF97FF\",\"dash\":\"solid\"},\"marker\":{\"symbol\":\"circle\"},\"mode\":\"lines\",\"name\":\"SO_2\",\"orientation\":\"v\",\"showlegend\":true,\"x\":[1,2,3,4,5,6,7,8,9,10,11,12],\"xaxis\":\"x\",\"y\":[1.3207895960376455,0.5432620561407794,0.3040757905550436,-0.18549147669103083,-0.2910090974531889,-0.2886322354655854,-0.26613729412809906,-0.26629008369604357,-0.16473082295040306,-0.22669750653916917,0.31875820977987995,0.6803896809835123],\"yaxis\":\"y\",\"type\":\"scatter\"},{\"hovertemplate\":\"Pollutant=TCH\\u003cbr\\u003eyear=2005\\u003cbr\\u003eMonth=%{x}\\u003cbr\\u003eAverage Value=%{y}\\u003cextra\\u003e\\u003c\\u002fextra\\u003e\",\"legendgroup\":\"TCH\",\"line\":{\"color\":\"#FECB52\",\"dash\":\"solid\"},\"marker\":{\"symbol\":\"circle\"},\"mode\":\"lines\",\"name\":\"TCH\",\"orientation\":\"v\",\"showlegend\":true,\"x\":[1,2,3,4,5,6,7,8,9,10,11,12],\"xaxis\":\"x\",\"y\":[0.5318828823380661,-0.03535545381153634,-0.15139081441809144,-0.3606996892554774,-0.26961128014007396,-0.29392655005319945,-0.21963625554577265,-0.2644032429116688,-0.04889867204407916,0.11920001530186078,0.3705396354092218,0.26378991930923246],\"yaxis\":\"y\",\"type\":\"scatter\"},{\"hovertemplate\":\"Pollutant=TOL\\u003cbr\\u003eyear=2005\\u003cbr\\u003eMonth=%{x}\\u003cbr\\u003eAverage Value=%{y}\\u003cextra\\u003e\\u003c\\u002fextra\\u003e\",\"legendgroup\":\"TOL\",\"line\":{\"color\":\"#636efa\",\"dash\":\"solid\"},\"marker\":{\"symbol\":\"circle\"},\"mode\":\"lines\",\"name\":\"TOL\",\"orientation\":\"v\",\"showlegend\":true,\"x\":[1,2,3,4,5,6,7,8,9,10,11,12],\"xaxis\":\"x\",\"y\":[0.770362427358338,0.13618801056097493,0.07941119494960364,-0.05812411247111642,-0.10555466308524601,-0.09999943582855615,-0.1669253107717837,-0.08937782353493096,0.16522801073492766,0.2388853375892136,0.30677584195758023,0.15092600394188113],\"yaxis\":\"y\",\"type\":\"scatter\"},{\"hovertemplate\":\"Pollutant=MXY\\u003cbr\\u003eyear=2005\\u003cbr\\u003eMonth=%{x}\\u003cbr\\u003eAverage Value=%{y}\\u003cextra\\u003e\\u003c\\u002fextra\\u003e\",\"legendgroup\":\"MXY\",\"line\":{\"color\":\"#EF553B\",\"dash\":\"solid\"},\"marker\":{\"symbol\":\"circle\"},\"mode\":\"lines\",\"name\":\"MXY\",\"orientation\":\"v\",\"showlegend\":true,\"x\":[1,2,3,4,5,6,7,8,9,10,11,12],\"xaxis\":\"x\",\"y\":[0.3987486178192418,-0.08833646747253422,-0.070334834415861,-0.14504963425915737,-0.0642623897956773,0.09513969800241248,-0.17851439972008754,-0.1089377199172522,0.11714492363493853,0.15126543407095042,0.2541164204921298,0.05929750519635474],\"yaxis\":\"y\",\"type\":\"scatter\"},{\"hovertemplate\":\"Pollutant=OXY\\u003cbr\\u003eyear=2005\\u003cbr\\u003eMonth=%{x}\\u003cbr\\u003eAverage Value=%{y}\\u003cextra\\u003e\\u003c\\u002fextra\\u003e\",\"legendgroup\":\"OXY\",\"line\":{\"color\":\"#00cc96\",\"dash\":\"solid\"},\"marker\":{\"symbol\":\"circle\"},\"mode\":\"lines\",\"name\":\"OXY\",\"orientation\":\"v\",\"showlegend\":true,\"x\":[1,2,3,4,5,6,7,8,9,10,11,12],\"xaxis\":\"x\",\"y\":[0.3886005578362637,-0.06773427812243653,-0.16891724612487252,-0.14272220129456933,0.021114801751751514,0.17275071098321793,-0.002795675744416691,-0.10689507689229599,0.1385563553668241,0.12725031606015383,0.27248851656450823,0.3031039770571977],\"yaxis\":\"y\",\"type\":\"scatter\"},{\"hovertemplate\":\"Pollutant=PXY\\u003cbr\\u003eyear=2005\\u003cbr\\u003eMonth=%{x}\\u003cbr\\u003eAverage Value=%{y}\\u003cextra\\u003e\\u003c\\u002fextra\\u003e\",\"legendgroup\":\"PXY\",\"line\":{\"color\":\"#ab63fa\",\"dash\":\"solid\"},\"marker\":{\"symbol\":\"circle\"},\"mode\":\"lines\",\"name\":\"PXY\",\"orientation\":\"v\",\"showlegend\":true,\"x\":[1,2,3,4,5,6,7,8,9,10,11,12],\"xaxis\":\"x\",\"y\":[0.28327944325823956,-0.01809791068662112,-0.06508662562840391,-0.18661172011675548,-0.07729874071360285,0.2574761157449571,0.3107897515182157,-0.10433781239426361,0.16912834484396602,0.32893490479827275,0.2123180252331144,0.10758068577864192],\"yaxis\":\"y\",\"type\":\"scatter\"},{\"hovertemplate\":\"Pollutant=PM25\\u003cbr\\u003eyear=2005\\u003cbr\\u003eMonth=%{x}\\u003cbr\\u003eAverage Value=%{y}\\u003cextra\\u003e\\u003c\\u002fextra\\u003e\",\"legendgroup\":\"PM25\",\"line\":{\"color\":\"#FFA15A\",\"dash\":\"solid\"},\"marker\":{\"symbol\":\"circle\"},\"mode\":\"lines\",\"name\":\"PM25\",\"orientation\":\"v\",\"showlegend\":true,\"x\":[1,2,3,4,5,6,7,8,9,10,11,12],\"xaxis\":\"x\",\"y\":[0.9799426910168197,0.2191297438454008,0.5663728894236592,0.04567386622427959,0.17508826094429641,0.4240900262217331,0.5659150630919535,0.6464471989272885,0.4990575884156627,0.4206678304782178,0.4353014924213584,0.34282834628482656],\"yaxis\":\"y\",\"type\":\"scatter\"},{\"hovertemplate\":\"Pollutant=CH4\\u003cbr\\u003eyear=2005\\u003cbr\\u003eMonth=%{x}\\u003cbr\\u003eAverage Value=%{y}\\u003cextra\\u003e\\u003c\\u002fextra\\u003e\",\"legendgroup\":\"CH4\",\"line\":{\"color\":\"#19d3f3\",\"dash\":\"solid\"},\"marker\":{\"symbol\":\"circle\"},\"mode\":\"lines\",\"name\":\"CH4\",\"orientation\":\"v\",\"showlegend\":true,\"x\":[1,2,3,4,5,6,7,8,9,10,11,12],\"xaxis\":\"x\",\"y\":[null,null,null,null,null,null,null,null,null,null,null,null],\"yaxis\":\"y\",\"type\":\"scatter\"},{\"hovertemplate\":\"Pollutant=NO\\u003cbr\\u003eyear=2005\\u003cbr\\u003eMonth=%{x}\\u003cbr\\u003eAverage Value=%{y}\\u003cextra\\u003e\\u003c\\u002fextra\\u003e\",\"legendgroup\":\"NO\",\"line\":{\"color\":\"#FF6692\",\"dash\":\"solid\"},\"marker\":{\"symbol\":\"circle\"},\"mode\":\"lines\",\"name\":\"NO\",\"orientation\":\"v\",\"showlegend\":true,\"x\":[1,2,3,4,5,6,7,8,9,10,11,12],\"xaxis\":\"x\",\"y\":[null,null,null,null,null,null,null,null,null,null,null,null],\"yaxis\":\"y\",\"type\":\"scatter\"}],\"name\":\"2005\"},{\"data\":[{\"hovertemplate\":\"Pollutant=BEN\\u003cbr\\u003eyear=2006\\u003cbr\\u003eMonth=%{x}\\u003cbr\\u003eAverage Value=%{y}\\u003cextra\\u003e\\u003c\\u002fextra\\u003e\",\"legendgroup\":\"BEN\",\"line\":{\"color\":\"#636efa\",\"dash\":\"solid\"},\"marker\":{\"symbol\":\"circle\"},\"mode\":\"lines\",\"name\":\"BEN\",\"orientation\":\"v\",\"showlegend\":true,\"x\":[1,2,3,4,5,6,7,8,9,10,11,12],\"xaxis\":\"x\",\"y\":[-0.029472351464755648,-0.037790421258210236,-0.2729440208322348,-0.3989665567418981,-0.3158735334738242,-0.2046384601990201,-0.27462699911579663,-0.39165757742672597,-0.21317843381092674,0.0072860522825712514,-0.005174240742995365,0.010701691713992188],\"yaxis\":\"y\",\"type\":\"scatter\"},{\"hovertemplate\":\"Pollutant=CO\\u003cbr\\u003eyear=2006\\u003cbr\\u003eMonth=%{x}\\u003cbr\\u003eAverage Value=%{y}\\u003cextra\\u003e\\u003c\\u002fextra\\u003e\",\"legendgroup\":\"CO\",\"line\":{\"color\":\"#EF553B\",\"dash\":\"solid\"},\"marker\":{\"symbol\":\"circle\"},\"mode\":\"lines\",\"name\":\"CO\",\"orientation\":\"v\",\"showlegend\":true,\"x\":[1,2,3,4,5,6,7,8,9,10,11,12],\"xaxis\":\"x\",\"y\":[0.48128211347318073,0.6495827938386753,0.08548536257441826,-0.09635925863372424,-0.14640355838316385,-0.265375656285776,-0.24801294680475403,-0.32529418538752825,-0.14746004149926192,0.040670866015434494,0.22692980046190098,0.429098417113315],\"yaxis\":\"y\",\"type\":\"scatter\"},{\"hovertemplate\":\"Pollutant=EBE\\u003cbr\\u003eyear=2006\\u003cbr\\u003eMonth=%{x}\\u003cbr\\u003eAverage Value=%{y}\\u003cextra\\u003e\\u003c\\u002fextra\\u003e\",\"legendgroup\":\"EBE\",\"line\":{\"color\":\"#00cc96\",\"dash\":\"solid\"},\"marker\":{\"symbol\":\"circle\"},\"mode\":\"lines\",\"name\":\"EBE\",\"orientation\":\"v\",\"showlegend\":true,\"x\":[1,2,3,4,5,6,7,8,9,10,11,12],\"xaxis\":\"x\",\"y\":[0.17157191442362302,0.041810632926723525,-0.16850003679316572,-0.26702636084414144,-0.16024896292436808,0.006582904289040042,-0.032140547520060236,-0.20692271209145852,0.018808557298334413,0.22848774419631554,0.1842815113435668,0.08339824927194296],\"yaxis\":\"y\",\"type\":\"scatter\"},{\"hovertemplate\":\"Pollutant=NMHC\\u003cbr\\u003eyear=2006\\u003cbr\\u003eMonth=%{x}\\u003cbr\\u003eAverage Value=%{y}\\u003cextra\\u003e\\u003c\\u002fextra\\u003e\",\"legendgroup\":\"NMHC\",\"line\":{\"color\":\"#ab63fa\",\"dash\":\"solid\"},\"marker\":{\"symbol\":\"circle\"},\"mode\":\"lines\",\"name\":\"NMHC\",\"orientation\":\"v\",\"showlegend\":true,\"x\":[1,2,3,4,5,6,7,8,9,10,11,12],\"xaxis\":\"x\",\"y\":[0.07158519995013375,0.15274252461713236,-0.17866769662666238,-0.28296026018683434,-0.18439558861629737,-0.17449241740438326,-0.3146550207754214,-0.2813263537788907,0.1690524477592708,0.17815826869345314,0.5107775173895845,0.7530678011231006],\"yaxis\":\"y\",\"type\":\"scatter\"},{\"hovertemplate\":\"Pollutant=NOx\\u003cbr\\u003eyear=2006\\u003cbr\\u003eMonth=%{x}\\u003cbr\\u003eAverage Value=%{y}\\u003cextra\\u003e\\u003c\\u002fextra\\u003e\",\"legendgroup\":\"NOx\",\"line\":{\"color\":\"#FFA15A\",\"dash\":\"solid\"},\"marker\":{\"symbol\":\"circle\"},\"mode\":\"lines\",\"name\":\"NOx\",\"orientation\":\"v\",\"showlegend\":true,\"x\":[1,2,3,4,5,6,7,8,9,10,11,12],\"xaxis\":\"x\",\"y\":[0.41948141576244335,0.5593069558024885,-0.10983222597981859,-0.23821525794469853,-0.1920978533152298,-0.19297723905153752,-0.19673655139004773,-0.3593526078964224,-0.0408402695672009,0.10842840293211263,0.2736051527427956,0.5065176939267358],\"yaxis\":\"y\",\"type\":\"scatter\"},{\"hovertemplate\":\"Pollutant=NO_2\\u003cbr\\u003eyear=2006\\u003cbr\\u003eMonth=%{x}\\u003cbr\\u003eAverage Value=%{y}\\u003cextra\\u003e\\u003c\\u002fextra\\u003e\",\"legendgroup\":\"NO_2\",\"line\":{\"color\":\"#19d3f3\",\"dash\":\"solid\"},\"marker\":{\"symbol\":\"circle\"},\"mode\":\"lines\",\"name\":\"NO_2\",\"orientation\":\"v\",\"showlegend\":true,\"x\":[1,2,3,4,5,6,7,8,9,10,11,12],\"xaxis\":\"x\",\"y\":[0.5848173010461981,0.7248415425010715,0.02598649717295052,0.06714085064659343,0.20334484475576445,0.2550879505135864,0.26115473010149887,-0.11692779905882351,0.3006099566869157,0.27038970990430994,0.4150365627214284,0.5920899419373793],\"yaxis\":\"y\",\"type\":\"scatter\"},{\"hovertemplate\":\"Pollutant=O_3\\u003cbr\\u003eyear=2006\\u003cbr\\u003eMonth=%{x}\\u003cbr\\u003eAverage Value=%{y}\\u003cextra\\u003e\\u003c\\u002fextra\\u003e\",\"legendgroup\":\"O_3\",\"line\":{\"color\":\"#FF6692\",\"dash\":\"solid\"},\"marker\":{\"symbol\":\"circle\"},\"mode\":\"lines\",\"name\":\"O_3\",\"orientation\":\"v\",\"showlegend\":true,\"x\":[1,2,3,4,5,6,7,8,9,10,11,12],\"xaxis\":\"x\",\"y\":[-0.7601058116123826,-0.6697454912865639,-0.3151992990847252,-0.018200756895762657,0.10787088832464956,0.496175397036969,0.5510256912598896,0.571312149029391,-0.10403123982325989,-0.4963002929944606,-0.7361182078587454,-0.7716701573655725],\"yaxis\":\"y\",\"type\":\"scatter\"},{\"hovertemplate\":\"Pollutant=PM10\\u003cbr\\u003eyear=2006\\u003cbr\\u003eMonth=%{x}\\u003cbr\\u003eAverage Value=%{y}\\u003cextra\\u003e\\u003c\\u002fextra\\u003e\",\"legendgroup\":\"PM10\",\"line\":{\"color\":\"#B6E880\",\"dash\":\"solid\"},\"marker\":{\"symbol\":\"circle\"},\"mode\":\"lines\",\"name\":\"PM10\",\"orientation\":\"v\",\"showlegend\":true,\"x\":[1,2,3,4,5,6,7,8,9,10,11,12],\"xaxis\":\"x\",\"y\":[0.02357122442478946,0.4791477112575918,0.08333781980823192,0.004810147227812783,0.486996911013625,0.5542218739236434,0.6395782054688218,0.20041782299579444,0.4647502544976961,0.34944938406060294,0.14573344914572134,0.2445983054388457],\"yaxis\":\"y\",\"type\":\"scatter\"},{\"hovertemplate\":\"Pollutant=SO_2\\u003cbr\\u003eyear=2006\\u003cbr\\u003eMonth=%{x}\\u003cbr\\u003eAverage Value=%{y}\\u003cextra\\u003e\\u003c\\u002fextra\\u003e\",\"legendgroup\":\"SO_2\",\"line\":{\"color\":\"#FF97FF\",\"dash\":\"solid\"},\"marker\":{\"symbol\":\"circle\"},\"mode\":\"lines\",\"name\":\"SO_2\",\"orientation\":\"v\",\"showlegend\":true,\"x\":[1,2,3,4,5,6,7,8,9,10,11,12],\"xaxis\":\"x\",\"y\":[0.4946790830621954,0.777512218033872,0.1073098607100783,-0.22708502772729477,-0.29383776831991454,-0.2712230601013478,-0.21757632826586296,-0.269726498563444,-0.17097946674408138,-0.21131172005677257,-0.021520138209023695,0.568621198035969],\"yaxis\":\"y\",\"type\":\"scatter\"},{\"hovertemplate\":\"Pollutant=TCH\\u003cbr\\u003eyear=2006\\u003cbr\\u003eMonth=%{x}\\u003cbr\\u003eAverage Value=%{y}\\u003cextra\\u003e\\u003c\\u002fextra\\u003e\",\"legendgroup\":\"TCH\",\"line\":{\"color\":\"#FECB52\",\"dash\":\"solid\"},\"marker\":{\"symbol\":\"circle\"},\"mode\":\"lines\",\"name\":\"TCH\",\"orientation\":\"v\",\"showlegend\":true,\"x\":[1,2,3,4,5,6,7,8,9,10,11,12],\"xaxis\":\"x\",\"y\":[0.30893382561600585,0.4310693158049402,-0.027965319759654172,-0.17029601404454905,-0.1804362526565268,-0.20801835476548827,-0.37299510319361157,-0.406039314015389,0.09152302460654221,-0.09432125840579722,0.1534879409869264,0.3195895201034409],\"yaxis\":\"y\",\"type\":\"scatter\"},{\"hovertemplate\":\"Pollutant=TOL\\u003cbr\\u003eyear=2006\\u003cbr\\u003eMonth=%{x}\\u003cbr\\u003eAverage Value=%{y}\\u003cextra\\u003e\\u003c\\u002fextra\\u003e\",\"legendgroup\":\"TOL\",\"line\":{\"color\":\"#636efa\",\"dash\":\"solid\"},\"marker\":{\"symbol\":\"circle\"},\"mode\":\"lines\",\"name\":\"TOL\",\"orientation\":\"v\",\"showlegend\":true,\"x\":[1,2,3,4,5,6,7,8,9,10,11,12],\"xaxis\":\"x\",\"y\":[0.00581822324909886,0.06943784286236797,-0.26546541140240265,-0.3713476707014184,-0.15768500741749494,-0.09778070875193343,-0.07095002812144435,-0.25530891201664335,0.036835524824505736,0.14372307123502603,0.24515322385379146,0.13607660280663073],\"yaxis\":\"y\",\"type\":\"scatter\"},{\"hovertemplate\":\"Pollutant=MXY\\u003cbr\\u003eyear=2006\\u003cbr\\u003eMonth=%{x}\\u003cbr\\u003eAverage Value=%{y}\\u003cextra\\u003e\\u003c\\u002fextra\\u003e\",\"legendgroup\":\"MXY\",\"line\":{\"color\":\"#EF553B\",\"dash\":\"solid\"},\"marker\":{\"symbol\":\"circle\"},\"mode\":\"lines\",\"name\":\"MXY\",\"orientation\":\"v\",\"showlegend\":true,\"x\":[1,2,3,4,5,6,7,8,9,10,11,12],\"xaxis\":\"x\",\"y\":[-0.048372487582601556,0.1413674671868863,-0.200783566197988,-0.48735038301699485,-0.30274617255585984,-0.19154910258239738,-0.19615627412820055,-0.4222775265715889,-0.09078199181758344,0.014341543217142769,0.02554413324929107,-0.12336196934100903],\"yaxis\":\"y\",\"type\":\"scatter\"},{\"hovertemplate\":\"Pollutant=OXY\\u003cbr\\u003eyear=2006\\u003cbr\\u003eMonth=%{x}\\u003cbr\\u003eAverage Value=%{y}\\u003cextra\\u003e\\u003c\\u002fextra\\u003e\",\"legendgroup\":\"OXY\",\"line\":{\"color\":\"#00cc96\",\"dash\":\"solid\"},\"marker\":{\"symbol\":\"circle\"},\"mode\":\"lines\",\"name\":\"OXY\",\"orientation\":\"v\",\"showlegend\":true,\"x\":[1,2,3,4,5,6,7,8,9,10,11,12],\"xaxis\":\"x\",\"y\":[0.027996924709461305,0.17034752610319112,-0.1371513934737487,-0.40212400758717953,-0.27147660516806876,-0.18906149891482085,-0.18801078799304552,-0.3841010874865661,-0.06330065992777473,0.02605061274487982,0.020905708877978872,-0.1271190147435682],\"yaxis\":\"y\",\"type\":\"scatter\"},{\"hovertemplate\":\"Pollutant=PXY\\u003cbr\\u003eyear=2006\\u003cbr\\u003eMonth=%{x}\\u003cbr\\u003eAverage Value=%{y}\\u003cextra\\u003e\\u003c\\u002fextra\\u003e\",\"legendgroup\":\"PXY\",\"line\":{\"color\":\"#ab63fa\",\"dash\":\"solid\"},\"marker\":{\"symbol\":\"circle\"},\"mode\":\"lines\",\"name\":\"PXY\",\"orientation\":\"v\",\"showlegend\":true,\"x\":[1,2,3,4,5,6,7,8,9,10,11,12],\"xaxis\":\"x\",\"y\":[-0.06518200535881935,0.09151386150207318,-0.17233500409647023,-0.3330872189520306,-0.2986419497869522,-0.06189148842986127,-0.21251962422055592,-0.40337904633126287,-0.11610579089478022,-0.01573086675960632,-0.03808117370344026,-0.1470925852437681],\"yaxis\":\"y\",\"type\":\"scatter\"},{\"hovertemplate\":\"Pollutant=PM25\\u003cbr\\u003eyear=2006\\u003cbr\\u003eMonth=%{x}\\u003cbr\\u003eAverage Value=%{y}\\u003cextra\\u003e\\u003c\\u002fextra\\u003e\",\"legendgroup\":\"PM25\",\"line\":{\"color\":\"#FFA15A\",\"dash\":\"solid\"},\"marker\":{\"symbol\":\"circle\"},\"mode\":\"lines\",\"name\":\"PM25\",\"orientation\":\"v\",\"showlegend\":true,\"x\":[1,2,3,4,5,6,7,8,9,10,11,12],\"xaxis\":\"x\",\"y\":[0.3249680745504088,0.691722349417919,0.1865905726578046,0.09565893707513771,0.5154441550535336,0.7404211690515005,0.8076102913283754,0.19851784011207227,0.5613840866573145,0.41643164409917016,0.3416085772834157,0.4260397317381553],\"yaxis\":\"y\",\"type\":\"scatter\"},{\"hovertemplate\":\"Pollutant=CH4\\u003cbr\\u003eyear=2006\\u003cbr\\u003eMonth=%{x}\\u003cbr\\u003eAverage Value=%{y}\\u003cextra\\u003e\\u003c\\u002fextra\\u003e\",\"legendgroup\":\"CH4\",\"line\":{\"color\":\"#19d3f3\",\"dash\":\"solid\"},\"marker\":{\"symbol\":\"circle\"},\"mode\":\"lines\",\"name\":\"CH4\",\"orientation\":\"v\",\"showlegend\":true,\"x\":[1,2,3,4,5,6,7,8,9,10,11,12],\"xaxis\":\"x\",\"y\":[null,null,null,null,null,null,null,null,null,null,null,null],\"yaxis\":\"y\",\"type\":\"scatter\"},{\"hovertemplate\":\"Pollutant=NO\\u003cbr\\u003eyear=2006\\u003cbr\\u003eMonth=%{x}\\u003cbr\\u003eAverage Value=%{y}\\u003cextra\\u003e\\u003c\\u002fextra\\u003e\",\"legendgroup\":\"NO\",\"line\":{\"color\":\"#FF6692\",\"dash\":\"solid\"},\"marker\":{\"symbol\":\"circle\"},\"mode\":\"lines\",\"name\":\"NO\",\"orientation\":\"v\",\"showlegend\":true,\"x\":[1,2,3,4,5,6,7,8,9,10,11,12],\"xaxis\":\"x\",\"y\":[null,null,null,null,null,null,null,null,null,null,null,null],\"yaxis\":\"y\",\"type\":\"scatter\"}],\"name\":\"2006\"},{\"data\":[{\"hovertemplate\":\"Pollutant=BEN\\u003cbr\\u003eyear=2007\\u003cbr\\u003eMonth=%{x}\\u003cbr\\u003eAverage Value=%{y}\\u003cextra\\u003e\\u003c\\u002fextra\\u003e\",\"legendgroup\":\"BEN\",\"line\":{\"color\":\"#636efa\",\"dash\":\"solid\"},\"marker\":{\"symbol\":\"circle\"},\"mode\":\"lines\",\"name\":\"BEN\",\"orientation\":\"v\",\"showlegend\":true,\"x\":[1,2,3,4,5,6,7,8,9,10,11,12],\"xaxis\":\"x\",\"y\":[0.12262682004079008,-0.1897311977402995,-0.19858930680292694,-0.28118287134369396,-0.3390011676514671,-0.32780429685547346,-0.345931705153103,-0.36030363921891845,-0.2522555047825908,-0.11214981507517761,0.13592009128876947,0.08370567365266743],\"yaxis\":\"y\",\"type\":\"scatter\"},{\"hovertemplate\":\"Pollutant=CO\\u003cbr\\u003eyear=2007\\u003cbr\\u003eMonth=%{x}\\u003cbr\\u003eAverage Value=%{y}\\u003cextra\\u003e\\u003c\\u002fextra\\u003e\",\"legendgroup\":\"CO\",\"line\":{\"color\":\"#EF553B\",\"dash\":\"solid\"},\"marker\":{\"symbol\":\"circle\"},\"mode\":\"lines\",\"name\":\"CO\",\"orientation\":\"v\",\"showlegend\":true,\"x\":[1,2,3,4,5,6,7,8,9,10,11,12],\"xaxis\":\"x\",\"y\":[0.5531033733690237,0.144917614190343,-0.07745932760327777,-0.1640986739973388,-0.26715586374015704,-0.3389749772774707,-0.43739016089372473,-0.5139693686274583,-0.37559129822376414,-0.19267420197305377,0.27424308462284097,0.2521507469494793],\"yaxis\":\"y\",\"type\":\"scatter\"},{\"hovertemplate\":\"Pollutant=EBE\\u003cbr\\u003eyear=2007\\u003cbr\\u003eMonth=%{x}\\u003cbr\\u003eAverage Value=%{y}\\u003cextra\\u003e\\u003c\\u002fextra\\u003e\",\"legendgroup\":\"EBE\",\"line\":{\"color\":\"#00cc96\",\"dash\":\"solid\"},\"marker\":{\"symbol\":\"circle\"},\"mode\":\"lines\",\"name\":\"EBE\",\"orientation\":\"v\",\"showlegend\":true,\"x\":[1,2,3,4,5,6,7,8,9,10,11,12],\"xaxis\":\"x\",\"y\":[0.20113196495017557,-0.07854458763404107,-0.08100810538754029,-0.11017783653773044,-0.10734955839245937,-0.10810912583931769,-0.15916608058194723,-0.094011011751219,-0.0016973194452080502,0.04883550292010707,0.24293516563832054,0.07693814234987939],\"yaxis\":\"y\",\"type\":\"scatter\"},{\"hovertemplate\":\"Pollutant=NMHC\\u003cbr\\u003eyear=2007\\u003cbr\\u003eMonth=%{x}\\u003cbr\\u003eAverage Value=%{y}\\u003cextra\\u003e\\u003c\\u002fextra\\u003e\",\"legendgroup\":\"NMHC\",\"line\":{\"color\":\"#ab63fa\",\"dash\":\"solid\"},\"marker\":{\"symbol\":\"circle\"},\"mode\":\"lines\",\"name\":\"NMHC\",\"orientation\":\"v\",\"showlegend\":true,\"x\":[1,2,3,4,5,6,7,8,9,10,11,12],\"xaxis\":\"x\",\"y\":[0.6404839579916365,-0.04586586815538223,0.14695686103649847,-0.1208573247146605,-0.3208271819986731,-0.2543804343806648,0.0222293575868972,0.1772437998886359,0.3561782576639534,0.5876683022720842,1.002612148585689,0.8210499799646007],\"yaxis\":\"y\",\"type\":\"scatter\"},{\"hovertemplate\":\"Pollutant=NOx\\u003cbr\\u003eyear=2007\\u003cbr\\u003eMonth=%{x}\\u003cbr\\u003eAverage Value=%{y}\\u003cextra\\u003e\\u003c\\u002fextra\\u003e\",\"legendgroup\":\"NOx\",\"line\":{\"color\":\"#FFA15A\",\"dash\":\"solid\"},\"marker\":{\"symbol\":\"circle\"},\"mode\":\"lines\",\"name\":\"NOx\",\"orientation\":\"v\",\"showlegend\":true,\"x\":[1,2,3,4,5,6,7,8,9,10,11,12],\"xaxis\":\"x\",\"y\":[0.6265917852882354,0.03328042587744911,-0.10700118977382438,-0.15463692960369904,-0.16553682851422913,-0.22401101959385963,-0.34873518005968085,-0.4434946492798355,-0.2270165930790929,0.013277856139466566,0.6569045708367621,0.5932027155199633],\"yaxis\":\"y\",\"type\":\"scatter\"},{\"hovertemplate\":\"Pollutant=NO_2\\u003cbr\\u003eyear=2007\\u003cbr\\u003eMonth=%{x}\\u003cbr\\u003eAverage Value=%{y}\\u003cextra\\u003e\\u003c\\u002fextra\\u003e\",\"legendgroup\":\"NO_2\",\"line\":{\"color\":\"#19d3f3\",\"dash\":\"solid\"},\"marker\":{\"symbol\":\"circle\"},\"mode\":\"lines\",\"name\":\"NO_2\",\"orientation\":\"v\",\"showlegend\":true,\"x\":[1,2,3,4,5,6,7,8,9,10,11,12],\"xaxis\":\"x\",\"y\":[0.5381447586053567,0.1260846128104779,0.170339583831303,0.2569311186017941,0.21090218040994174,0.18212257489625092,-0.06956825585304266,-0.24419897209754277,0.1424163391912665,0.363655518208782,0.9316684700500867,0.7117943939246579],\"yaxis\":\"y\",\"type\":\"scatter\"},{\"hovertemplate\":\"Pollutant=O_3\\u003cbr\\u003eyear=2007\\u003cbr\\u003eMonth=%{x}\\u003cbr\\u003eAverage Value=%{y}\\u003cextra\\u003e\\u003c\\u002fextra\\u003e\",\"legendgroup\":\"O_3\",\"line\":{\"color\":\"#FF6692\",\"dash\":\"solid\"},\"marker\":{\"symbol\":\"circle\"},\"mode\":\"lines\",\"name\":\"O_3\",\"orientation\":\"v\",\"showlegend\":true,\"x\":[1,2,3,4,5,6,7,8,9,10,11,12],\"xaxis\":\"x\",\"y\":[-0.8665009150650768,-0.5036355387152684,-0.012680549126872722,0.12057299943293968,0.09222444993169829,0.16808466744858086,0.3919923942085585,0.49657688225087754,0.06636826668554979,-0.48739047028600613,-0.767714639304845,-0.8799011183222282],\"yaxis\":\"y\",\"type\":\"scatter\"},{\"hovertemplate\":\"Pollutant=PM10\\u003cbr\\u003eyear=2007\\u003cbr\\u003eMonth=%{x}\\u003cbr\\u003eAverage Value=%{y}\\u003cextra\\u003e\\u003c\\u002fextra\\u003e\",\"legendgroup\":\"PM10\",\"line\":{\"color\":\"#B6E880\",\"dash\":\"solid\"},\"marker\":{\"symbol\":\"circle\"},\"mode\":\"lines\",\"name\":\"PM10\",\"orientation\":\"v\",\"showlegend\":true,\"x\":[1,2,3,4,5,6,7,8,9,10,11,12],\"xaxis\":\"x\",\"y\":[0.5462716918415755,0.06907303175460602,-0.01667017859141855,0.02083797059808133,-0.05070115718450013,-0.08385865513336249,0.15309552344461505,0.2708295414867318,0.23086000779120275,0.0762062461920415,0.4789731255376596,0.25336822969193373],\"yaxis\":\"y\",\"type\":\"scatter\"},{\"hovertemplate\":\"Pollutant=SO_2\\u003cbr\\u003eyear=2007\\u003cbr\\u003eMonth=%{x}\\u003cbr\\u003eAverage Value=%{y}\\u003cextra\\u003e\\u003c\\u002fextra\\u003e\",\"legendgroup\":\"SO_2\",\"line\":{\"color\":\"#FF97FF\",\"dash\":\"solid\"},\"marker\":{\"symbol\":\"circle\"},\"mode\":\"lines\",\"name\":\"SO_2\",\"orientation\":\"v\",\"showlegend\":true,\"x\":[1,2,3,4,5,6,7,8,9,10,11,12],\"xaxis\":\"x\",\"y\":[0.6494743578187376,0.31650815788366726,0.18206022987082038,-0.2146093300439168,-0.4162654896821324,-0.38816493117914946,-0.35059204034682234,-0.38579395082191364,-0.4416420253260755,-0.2745080408958716,0.8210262439579313,0.9196536874010391],\"yaxis\":\"y\",\"type\":\"scatter\"},{\"hovertemplate\":\"Pollutant=TCH\\u003cbr\\u003eyear=2007\\u003cbr\\u003eMonth=%{x}\\u003cbr\\u003eAverage Value=%{y}\\u003cextra\\u003e\\u003c\\u002fextra\\u003e\",\"legendgroup\":\"TCH\",\"line\":{\"color\":\"#FECB52\",\"dash\":\"solid\"},\"marker\":{\"symbol\":\"circle\"},\"mode\":\"lines\",\"name\":\"TCH\",\"orientation\":\"v\",\"showlegend\":true,\"x\":[1,2,3,4,5,6,7,8,9,10,11,12],\"xaxis\":\"x\",\"y\":[0.5482623814279936,0.06486661548671108,-0.12754570952298874,-0.187755783161127,-0.3558786964616932,-0.34400494443931534,-0.4431991594751048,-0.41112330576133527,-0.18788287207212953,0.10608729161047764,0.4541795674980729,0.6251902523614357],\"yaxis\":\"y\",\"type\":\"scatter\"},{\"hovertemplate\":\"Pollutant=TOL\\u003cbr\\u003eyear=2007\\u003cbr\\u003eMonth=%{x}\\u003cbr\\u003eAverage Value=%{y}\\u003cextra\\u003e\\u003c\\u002fextra\\u003e\",\"legendgroup\":\"TOL\",\"line\":{\"color\":\"#636efa\",\"dash\":\"solid\"},\"marker\":{\"symbol\":\"circle\"},\"mode\":\"lines\",\"name\":\"TOL\",\"orientation\":\"v\",\"showlegend\":true,\"x\":[1,2,3,4,5,6,7,8,9,10,11,12],\"xaxis\":\"x\",\"y\":[0.21784515228469364,-0.2214737775249469,-0.24863829526799994,-0.2835449364075193,-0.31088886656390846,-0.3251594430561009,-0.3399638986196765,-0.3473823750328052,-0.1920463019849379,0.10435427898466304,0.3070375286292044,0.21980440199196427],\"yaxis\":\"y\",\"type\":\"scatter\"},{\"hovertemplate\":\"Pollutant=MXY\\u003cbr\\u003eyear=2007\\u003cbr\\u003eMonth=%{x}\\u003cbr\\u003eAverage Value=%{y}\\u003cextra\\u003e\\u003c\\u002fextra\\u003e\",\"legendgroup\":\"MXY\",\"line\":{\"color\":\"#EF553B\",\"dash\":\"solid\"},\"marker\":{\"symbol\":\"circle\"},\"mode\":\"lines\",\"name\":\"MXY\",\"orientation\":\"v\",\"showlegend\":true,\"x\":[1,2,3,4,5,6,7,8,9,10,11,12],\"xaxis\":\"x\",\"y\":[0.039067693108633665,-0.4218336345096456,-0.3713168855208101,-0.4622505542646746,-0.5836204032599833,-0.5740995387131259,-0.5834970622899325,-0.5698620009687554,-0.5025937251578857,-0.3891184525634566,-0.14570427847262304,-0.30110461990811066],\"yaxis\":\"y\",\"type\":\"scatter\"},{\"hovertemplate\":\"Pollutant=OXY\\u003cbr\\u003eyear=2007\\u003cbr\\u003eMonth=%{x}\\u003cbr\\u003eAverage Value=%{y}\\u003cextra\\u003e\\u003c\\u002fextra\\u003e\",\"legendgroup\":\"OXY\",\"line\":{\"color\":\"#00cc96\",\"dash\":\"solid\"},\"marker\":{\"symbol\":\"circle\"},\"mode\":\"lines\",\"name\":\"OXY\",\"orientation\":\"v\",\"showlegend\":true,\"x\":[1,2,3,4,5,6,7,8,9,10,11,12],\"xaxis\":\"x\",\"y\":[-0.0026847396480384703,-0.39925001031332374,-0.3074162963861673,-0.4214387625832629,-0.5337792102535323,-0.5031481668725919,-0.5227180241640943,-0.4612002953769901,-0.45107568817158805,-0.3881780211974369,-0.2583599017831117,-0.3653032879150449],\"yaxis\":\"y\",\"type\":\"scatter\"},{\"hovertemplate\":\"Pollutant=PXY\\u003cbr\\u003eyear=2007\\u003cbr\\u003eMonth=%{x}\\u003cbr\\u003eAverage Value=%{y}\\u003cextra\\u003e\\u003c\\u002fextra\\u003e\",\"legendgroup\":\"PXY\",\"line\":{\"color\":\"#ab63fa\",\"dash\":\"solid\"},\"marker\":{\"symbol\":\"circle\"},\"mode\":\"lines\",\"name\":\"PXY\",\"orientation\":\"v\",\"showlegend\":true,\"x\":[1,2,3,4,5,6,7,8,9,10,11,12],\"xaxis\":\"x\",\"y\":[-0.04477632883957909,-0.3957060752430974,-0.3184648922385773,-0.4178944508496536,-0.5050569490257782,-0.43531379297118694,-0.49883010132672256,-0.5191096446330211,-0.48826626826479813,-0.3668410879946332,-0.21068913240382384,-0.3381522672427158],\"yaxis\":\"y\",\"type\":\"scatter\"},{\"hovertemplate\":\"Pollutant=PM25\\u003cbr\\u003eyear=2007\\u003cbr\\u003eMonth=%{x}\\u003cbr\\u003eAverage Value=%{y}\\u003cextra\\u003e\\u003c\\u002fextra\\u003e\",\"legendgroup\":\"PM25\",\"line\":{\"color\":\"#FFA15A\",\"dash\":\"solid\"},\"marker\":{\"symbol\":\"circle\"},\"mode\":\"lines\",\"name\":\"PM25\",\"orientation\":\"v\",\"showlegend\":true,\"x\":[1,2,3,4,5,6,7,8,9,10,11,12],\"xaxis\":\"x\",\"y\":[0.7739388590674728,0.18332279887649902,0.05333609455512074,0.2672100722279422,0.15891592546423394,0.10038963457842867,0.10650673092661665,0.2610509945928691,0.37823824109835524,0.39628307747837266,0.7433645626302343,0.533574912152344],\"yaxis\":\"y\",\"type\":\"scatter\"},{\"hovertemplate\":\"Pollutant=CH4\\u003cbr\\u003eyear=2007\\u003cbr\\u003eMonth=%{x}\\u003cbr\\u003eAverage Value=%{y}\\u003cextra\\u003e\\u003c\\u002fextra\\u003e\",\"legendgroup\":\"CH4\",\"line\":{\"color\":\"#19d3f3\",\"dash\":\"solid\"},\"marker\":{\"symbol\":\"circle\"},\"mode\":\"lines\",\"name\":\"CH4\",\"orientation\":\"v\",\"showlegend\":true,\"x\":[1,2,3,4,5,6,7,8,9,10,11,12],\"xaxis\":\"x\",\"y\":[null,null,null,null,null,null,null,null,null,null,null,null],\"yaxis\":\"y\",\"type\":\"scatter\"},{\"hovertemplate\":\"Pollutant=NO\\u003cbr\\u003eyear=2007\\u003cbr\\u003eMonth=%{x}\\u003cbr\\u003eAverage Value=%{y}\\u003cextra\\u003e\\u003c\\u002fextra\\u003e\",\"legendgroup\":\"NO\",\"line\":{\"color\":\"#FF6692\",\"dash\":\"solid\"},\"marker\":{\"symbol\":\"circle\"},\"mode\":\"lines\",\"name\":\"NO\",\"orientation\":\"v\",\"showlegend\":true,\"x\":[1,2,3,4,5,6,7,8,9,10,11,12],\"xaxis\":\"x\",\"y\":[null,null,null,null,null,null,null,null,null,null,null,null],\"yaxis\":\"y\",\"type\":\"scatter\"}],\"name\":\"2007\"},{\"data\":[{\"hovertemplate\":\"Pollutant=BEN\\u003cbr\\u003eyear=2008\\u003cbr\\u003eMonth=%{x}\\u003cbr\\u003eAverage Value=%{y}\\u003cextra\\u003e\\u003c\\u002fextra\\u003e\",\"legendgroup\":\"BEN\",\"line\":{\"color\":\"#636efa\",\"dash\":\"solid\"},\"marker\":{\"symbol\":\"circle\"},\"mode\":\"lines\",\"name\":\"BEN\",\"orientation\":\"v\",\"showlegend\":true,\"x\":[1,2,3,4,5,6,7,8,9,10,11,12],\"xaxis\":\"x\",\"y\":[0.01062211374261426,-0.06886594654549252,-0.22295827321618397,-0.2450088199196545,-0.2855461865871188,-0.26856647561560176,-0.27680251865597083,-0.2832048267693788,-0.22484422016853103,-0.16555463052241293,-0.18326620333916022,-0.05938731169762929],\"yaxis\":\"y\",\"type\":\"scatter\"},{\"hovertemplate\":\"Pollutant=CO\\u003cbr\\u003eyear=2008\\u003cbr\\u003eMonth=%{x}\\u003cbr\\u003eAverage Value=%{y}\\u003cextra\\u003e\\u003c\\u002fextra\\u003e\",\"legendgroup\":\"CO\",\"line\":{\"color\":\"#EF553B\",\"dash\":\"solid\"},\"marker\":{\"symbol\":\"circle\"},\"mode\":\"lines\",\"name\":\"CO\",\"orientation\":\"v\",\"showlegend\":true,\"x\":[1,2,3,4,5,6,7,8,9,10,11,12],\"xaxis\":\"x\",\"y\":[0.057702193384181304,-0.05624525252531531,-0.2796486612649722,-0.3436717129722945,-0.4074404151389002,-0.4225763475617837,-0.45254009542421236,-0.48838719264379077,-0.38755369068779827,-0.27381956728046114,-0.09221050844972146,0.07239955222340234],\"yaxis\":\"y\",\"type\":\"scatter\"},{\"hovertemplate\":\"Pollutant=EBE\\u003cbr\\u003eyear=2008\\u003cbr\\u003eMonth=%{x}\\u003cbr\\u003eAverage Value=%{y}\\u003cextra\\u003e\\u003c\\u002fextra\\u003e\",\"legendgroup\":\"EBE\",\"line\":{\"color\":\"#00cc96\",\"dash\":\"solid\"},\"marker\":{\"symbol\":\"circle\"},\"mode\":\"lines\",\"name\":\"EBE\",\"orientation\":\"v\",\"showlegend\":true,\"x\":[1,2,3,4,5,6,7,8,9,10,11,12],\"xaxis\":\"x\",\"y\":[0.04520867802823238,-0.023436995927131516,-0.10296947996780566,-0.12402955266456141,-0.16261263376544982,-0.15698479975085036,-0.14713881495961045,-0.14349680046511887,0.019419719578051005,0.048850010834778086,-0.03410185527994637,0.04727453304179985],\"yaxis\":\"y\",\"type\":\"scatter\"},{\"hovertemplate\":\"Pollutant=NMHC\\u003cbr\\u003eyear=2008\\u003cbr\\u003eMonth=%{x}\\u003cbr\\u003eAverage Value=%{y}\\u003cextra\\u003e\\u003c\\u002fextra\\u003e\",\"legendgroup\":\"NMHC\",\"line\":{\"color\":\"#ab63fa\",\"dash\":\"solid\"},\"marker\":{\"symbol\":\"circle\"},\"mode\":\"lines\",\"name\":\"NMHC\",\"orientation\":\"v\",\"showlegend\":true,\"x\":[1,2,3,4,5,6,7,8,9,10,11,12],\"xaxis\":\"x\",\"y\":[0.6946012639850012,0.5760812999852539,-0.32937854442811937,-0.28838100845982517,-0.08139718330360125,-0.13880813942495146,-0.21085748635068938,-0.28802617586684126,-0.009885251871842998,-0.02432058348886021,0.3153088406625255,0.24115661497722402],\"yaxis\":\"y\",\"type\":\"scatter\"},{\"hovertemplate\":\"Pollutant=NOx\\u003cbr\\u003eyear=2008\\u003cbr\\u003eMonth=%{x}\\u003cbr\\u003eAverage Value=%{y}\\u003cextra\\u003e\\u003c\\u002fextra\\u003e\",\"legendgroup\":\"NOx\",\"line\":{\"color\":\"#FFA15A\",\"dash\":\"solid\"},\"marker\":{\"symbol\":\"circle\"},\"mode\":\"lines\",\"name\":\"NOx\",\"orientation\":\"v\",\"showlegend\":true,\"x\":[1,2,3,4,5,6,7,8,9,10,11,12],\"xaxis\":\"x\",\"y\":[0.31421335144442386,0.11906865362696169,-0.27104707914038445,-0.3003839164611377,-0.34279986351811925,-0.3522396793931526,-0.36502619974406747,-0.41775829149439025,-0.24553328069141891,-0.06623213192808797,0.08602019353911633,0.3580528153608121],\"yaxis\":\"y\",\"type\":\"scatter\"},{\"hovertemplate\":\"Pollutant=NO_2\\u003cbr\\u003eyear=2008\\u003cbr\\u003eMonth=%{x}\\u003cbr\\u003eAverage Value=%{y}\\u003cextra\\u003e\\u003c\\u002fextra\\u003e\",\"legendgroup\":\"NO_2\",\"line\":{\"color\":\"#19d3f3\",\"dash\":\"solid\"},\"marker\":{\"symbol\":\"circle\"},\"mode\":\"lines\",\"name\":\"NO_2\",\"orientation\":\"v\",\"showlegend\":true,\"x\":[1,2,3,4,5,6,7,8,9,10,11,12],\"xaxis\":\"x\",\"y\":[0.4499879914456425,0.4067968050574118,-0.08685890232907824,0.013368764733080081,-0.04970467919257222,-0.03403752759610658,-0.043765916535563824,-0.14344195971439333,0.10283670685679895,0.2695714542285306,0.2841463658321426,0.5611823459461953],\"yaxis\":\"y\",\"type\":\"scatter\"},{\"hovertemplate\":\"Pollutant=O_3\\u003cbr\\u003eyear=2008\\u003cbr\\u003eMonth=%{x}\\u003cbr\\u003eAverage Value=%{y}\\u003cextra\\u003e\\u003c\\u002fextra\\u003e\",\"legendgroup\":\"O_3\",\"line\":{\"color\":\"#FF6692\",\"dash\":\"solid\"},\"marker\":{\"symbol\":\"circle\"},\"mode\":\"lines\",\"name\":\"O_3\",\"orientation\":\"v\",\"showlegend\":true,\"x\":[1,2,3,4,5,6,7,8,9,10,11,12],\"xaxis\":\"x\",\"y\":[-0.7526630955399942,-0.5705027497888315,0.0928715714646722,0.26282781108508596,0.2822571182812281,0.6059819259668062,0.6020222793636995,0.6265080173070764,0.0521593197121068,-0.37799211560136725,-0.5426973624059049,-0.6864267771732935],\"yaxis\":\"y\",\"type\":\"scatter\"},{\"hovertemplate\":\"Pollutant=PM10\\u003cbr\\u003eyear=2008\\u003cbr\\u003eMonth=%{x}\\u003cbr\\u003eAverage Value=%{y}\\u003cextra\\u003e\\u003c\\u002fextra\\u003e\",\"legendgroup\":\"PM10\",\"line\":{\"color\":\"#B6E880\",\"dash\":\"solid\"},\"marker\":{\"symbol\":\"circle\"},\"mode\":\"lines\",\"name\":\"PM10\",\"orientation\":\"v\",\"showlegend\":true,\"x\":[1,2,3,4,5,6,7,8,9,10,11,12],\"xaxis\":\"x\",\"y\":[0.15213084077262998,0.03172290146117341,-0.27519866421950084,-0.24679244695717137,-0.2750484899852313,-0.16300212470813438,0.05420945708211545,0.00573038378562947,-0.07412853423369324,0.19484543297391352,-0.3098825532165295,-0.18398880983216997],\"yaxis\":\"y\",\"type\":\"scatter\"},{\"hovertemplate\":\"Pollutant=SO_2\\u003cbr\\u003eyear=2008\\u003cbr\\u003eMonth=%{x}\\u003cbr\\u003eAverage Value=%{y}\\u003cextra\\u003e\\u003c\\u002fextra\\u003e\",\"legendgroup\":\"SO_2\",\"line\":{\"color\":\"#FF97FF\",\"dash\":\"solid\"},\"marker\":{\"symbol\":\"circle\"},\"mode\":\"lines\",\"name\":\"SO_2\",\"orientation\":\"v\",\"showlegend\":true,\"x\":[1,2,3,4,5,6,7,8,9,10,11,12],\"xaxis\":\"x\",\"y\":[0.6373388161094878,0.4302344756098439,0.01852482266770779,-0.3001902946479218,-0.3935433161785373,-0.38807893993008863,-0.35051123664944833,-0.3197644291845364,-0.28221708185296507,-0.18843572717770576,0.35535016157007404,0.717252769175626],\"yaxis\":\"y\",\"type\":\"scatter\"},{\"hovertemplate\":\"Pollutant=TCH\\u003cbr\\u003eyear=2008\\u003cbr\\u003eMonth=%{x}\\u003cbr\\u003eAverage Value=%{y}\\u003cextra\\u003e\\u003c\\u002fextra\\u003e\",\"legendgroup\":\"TCH\",\"line\":{\"color\":\"#FECB52\",\"dash\":\"solid\"},\"marker\":{\"symbol\":\"circle\"},\"mode\":\"lines\",\"name\":\"TCH\",\"orientation\":\"v\",\"showlegend\":true,\"x\":[1,2,3,4,5,6,7,8,9,10,11,12],\"xaxis\":\"x\",\"y\":[0.2915509188635328,0.11028028480944442,-0.24713923749986627,-0.23267091036312673,-0.2654853241429613,-0.32168234266085405,-0.15749910169490455,-0.22279945559256925,0.029771767764234312,0.09483306168759667,0.39520883233576454,0.5069784765559776],\"yaxis\":\"y\",\"type\":\"scatter\"},{\"hovertemplate\":\"Pollutant=TOL\\u003cbr\\u003eyear=2008\\u003cbr\\u003eMonth=%{x}\\u003cbr\\u003eAverage Value=%{y}\\u003cextra\\u003e\\u003c\\u002fextra\\u003e\",\"legendgroup\":\"TOL\",\"line\":{\"color\":\"#636efa\",\"dash\":\"solid\"},\"marker\":{\"symbol\":\"circle\"},\"mode\":\"lines\",\"name\":\"TOL\",\"orientation\":\"v\",\"showlegend\":true,\"x\":[1,2,3,4,5,6,7,8,9,10,11,12],\"xaxis\":\"x\",\"y\":[0.013178296785980169,-0.04741251315385466,-0.28024889464457087,-0.26243752451083463,-0.282296289327457,-0.2722694658941492,-0.22027479529612387,-0.200402672217511,-0.1357499666153311,-0.04819025449127506,-0.14125668743776995,-0.1298490250964943],\"yaxis\":\"y\",\"type\":\"scatter\"},{\"hovertemplate\":\"Pollutant=MXY\\u003cbr\\u003eyear=2008\\u003cbr\\u003eMonth=%{x}\\u003cbr\\u003eAverage Value=%{y}\\u003cextra\\u003e\\u003c\\u002fextra\\u003e\",\"legendgroup\":\"MXY\",\"line\":{\"color\":\"#EF553B\",\"dash\":\"solid\"},\"marker\":{\"symbol\":\"circle\"},\"mode\":\"lines\",\"name\":\"MXY\",\"orientation\":\"v\",\"showlegend\":true,\"x\":[1,2,3,4,5,6,7,8,9,10,11,12],\"xaxis\":\"x\",\"y\":[-0.29641595659409953,-0.4411191336112423,-0.5114987881121219,-0.47080929536345845,-0.45657183067081053,-0.4382313017633761,-0.441331177409705,-0.47164603630853186,-0.35622642289038114,-0.26378478035815783,-0.35410122078708695,-0.23957889301603333],\"yaxis\":\"y\",\"type\":\"scatter\"},{\"hovertemplate\":\"Pollutant=OXY\\u003cbr\\u003eyear=2008\\u003cbr\\u003eMonth=%{x}\\u003cbr\\u003eAverage Value=%{y}\\u003cextra\\u003e\\u003c\\u002fextra\\u003e\",\"legendgroup\":\"OXY\",\"line\":{\"color\":\"#00cc96\",\"dash\":\"solid\"},\"marker\":{\"symbol\":\"circle\"},\"mode\":\"lines\",\"name\":\"OXY\",\"orientation\":\"v\",\"showlegend\":true,\"x\":[1,2,3,4,5,6,7,8,9,10,11,12],\"xaxis\":\"x\",\"y\":[-0.22680102948642536,-0.4259650131838936,-0.4290720871651359,-0.36180187280373877,-0.3494125203531947,-0.31936729327571334,-0.33567407434428925,-0.3578970357955925,-0.2459892381125089,0.007764146533620827,-0.30728770253834714,-0.3023237590396139],\"yaxis\":\"y\",\"type\":\"scatter\"},{\"hovertemplate\":\"Pollutant=PXY\\u003cbr\\u003eyear=2008\\u003cbr\\u003eMonth=%{x}\\u003cbr\\u003eAverage Value=%{y}\\u003cextra\\u003e\\u003c\\u002fextra\\u003e\",\"legendgroup\":\"PXY\",\"line\":{\"color\":\"#ab63fa\",\"dash\":\"solid\"},\"marker\":{\"symbol\":\"circle\"},\"mode\":\"lines\",\"name\":\"PXY\",\"orientation\":\"v\",\"showlegend\":true,\"x\":[1,2,3,4,5,6,7,8,9,10,11,12],\"xaxis\":\"x\",\"y\":[-0.2685420297405941,-0.4374323314182055,-0.4144334857278371,-0.35458162392815823,-0.3598370586593994,-0.3583828397170078,-0.3506503620720195,-0.3820290064922225,-0.25082782143686827,-0.10014455474505868,-0.2286166977878519,-0.19996794572010132],\"yaxis\":\"y\",\"type\":\"scatter\"},{\"hovertemplate\":\"Pollutant=PM25\\u003cbr\\u003eyear=2008\\u003cbr\\u003eMonth=%{x}\\u003cbr\\u003eAverage Value=%{y}\\u003cextra\\u003e\\u003c\\u002fextra\\u003e\",\"legendgroup\":\"PM25\",\"line\":{\"color\":\"#FFA15A\",\"dash\":\"solid\"},\"marker\":{\"symbol\":\"circle\"},\"mode\":\"lines\",\"name\":\"PM25\",\"orientation\":\"v\",\"showlegend\":true,\"x\":[1,2,3,4,5,6,7,8,9,10,11,12],\"xaxis\":\"x\",\"y\":[0.3703353196616913,0.21071279200618565,-0.20301054604922786,-0.1884363250956703,-0.17503383161319042,0.0886661337557006,0.08642945482428684,-0.042718749944532876,0.03463972775167499,0.31258851687368727,0.005433131054469293,0.238203225093374],\"yaxis\":\"y\",\"type\":\"scatter\"},{\"hovertemplate\":\"Pollutant=CH4\\u003cbr\\u003eyear=2008\\u003cbr\\u003eMonth=%{x}\\u003cbr\\u003eAverage Value=%{y}\\u003cextra\\u003e\\u003c\\u002fextra\\u003e\",\"legendgroup\":\"CH4\",\"line\":{\"color\":\"#19d3f3\",\"dash\":\"solid\"},\"marker\":{\"symbol\":\"circle\"},\"mode\":\"lines\",\"name\":\"CH4\",\"orientation\":\"v\",\"showlegend\":true,\"x\":[1,2,3,4,5,6,7,8,9,10,11,12],\"xaxis\":\"x\",\"y\":[null,null,null,null,null,null,null,null,null,null,null,null],\"yaxis\":\"y\",\"type\":\"scatter\"},{\"hovertemplate\":\"Pollutant=NO\\u003cbr\\u003eyear=2008\\u003cbr\\u003eMonth=%{x}\\u003cbr\\u003eAverage Value=%{y}\\u003cextra\\u003e\\u003c\\u002fextra\\u003e\",\"legendgroup\":\"NO\",\"line\":{\"color\":\"#FF6692\",\"dash\":\"solid\"},\"marker\":{\"symbol\":\"circle\"},\"mode\":\"lines\",\"name\":\"NO\",\"orientation\":\"v\",\"showlegend\":true,\"x\":[1,2,3,4,5,6,7,8,9,10,11,12],\"xaxis\":\"x\",\"y\":[null,null,null,null,null,null,null,null,null,null,null,null],\"yaxis\":\"y\",\"type\":\"scatter\"}],\"name\":\"2008\"},{\"data\":[{\"hovertemplate\":\"Pollutant=BEN\\u003cbr\\u003eyear=2009\\u003cbr\\u003eMonth=%{x}\\u003cbr\\u003eAverage Value=%{y}\\u003cextra\\u003e\\u003c\\u002fextra\\u003e\",\"legendgroup\":\"BEN\",\"line\":{\"color\":\"#636efa\",\"dash\":\"solid\"},\"marker\":{\"symbol\":\"circle\"},\"mode\":\"lines\",\"name\":\"BEN\",\"orientation\":\"v\",\"showlegend\":true,\"x\":[1,2,3,4,5,6,7,8,9,10,11,12],\"xaxis\":\"x\",\"y\":[-0.18409805278790742,-0.16660573638118087,-0.23686152210968472,-0.3238972222985846,-0.3268972617965174,-0.3655907334354119,-0.36359549085581977,-0.4004491903879285,-0.3696573375445281,-0.1746120443033232,-0.1520082265251898,-0.05857005314521212],\"yaxis\":\"y\",\"type\":\"scatter\"},{\"hovertemplate\":\"Pollutant=CO\\u003cbr\\u003eyear=2009\\u003cbr\\u003eMonth=%{x}\\u003cbr\\u003eAverage Value=%{y}\\u003cextra\\u003e\\u003c\\u002fextra\\u003e\",\"legendgroup\":\"CO\",\"line\":{\"color\":\"#EF553B\",\"dash\":\"solid\"},\"marker\":{\"symbol\":\"circle\"},\"mode\":\"lines\",\"name\":\"CO\",\"orientation\":\"v\",\"showlegend\":true,\"x\":[1,2,3,4,5,6,7,8,9,10,11,12],\"xaxis\":\"x\",\"y\":[-0.15782203703134273,-0.0862211542152661,-0.2157893379495586,-0.3305819265906873,-0.41834159649537855,-0.4708493444767493,-0.4826392395169713,-0.48175363658511466,-0.4090342077298143,-0.17168132313362194,-0.11405233536395588,-0.1342152641325686],\"yaxis\":\"y\",\"type\":\"scatter\"},{\"hovertemplate\":\"Pollutant=EBE\\u003cbr\\u003eyear=2009\\u003cbr\\u003eMonth=%{x}\\u003cbr\\u003eAverage Value=%{y}\\u003cextra\\u003e\\u003c\\u002fextra\\u003e\",\"legendgroup\":\"EBE\",\"line\":{\"color\":\"#00cc96\",\"dash\":\"solid\"},\"marker\":{\"symbol\":\"circle\"},\"mode\":\"lines\",\"name\":\"EBE\",\"orientation\":\"v\",\"showlegend\":true,\"x\":[1,2,3,4,5,6,7,8,9,10,11,12],\"xaxis\":\"x\",\"y\":[-0.049473549033638285,-0.016452516426640904,-0.10762292094201908,-0.1346403372123492,-0.0797530221764611,-0.11353351222803955,-0.10262536980193235,-0.203387228744518,-0.2459339335061219,-0.04763588864874744,0.015059010931545474,0.04927734358353544],\"yaxis\":\"y\",\"type\":\"scatter\"},{\"hovertemplate\":\"Pollutant=NMHC\\u003cbr\\u003eyear=2009\\u003cbr\\u003eMonth=%{x}\\u003cbr\\u003eAverage Value=%{y}\\u003cextra\\u003e\\u003c\\u002fextra\\u003e\",\"legendgroup\":\"NMHC\",\"line\":{\"color\":\"#ab63fa\",\"dash\":\"solid\"},\"marker\":{\"symbol\":\"circle\"},\"mode\":\"lines\",\"name\":\"NMHC\",\"orientation\":\"v\",\"showlegend\":true,\"x\":[1,2,3,4,5,6,7,8,9,10,11,12],\"xaxis\":\"x\",\"y\":[0.03684764008069797,0.30012807506780437,0.12494865337063897,-0.05550244624899561,-0.11932938250508723,-0.1187795403257264,0.12058328944151105,0.00888971487605163,0.09411126348626352,0.47696144771877974,0.5227551767691246,0.13648004115092283],\"yaxis\":\"y\",\"type\":\"scatter\"},{\"hovertemplate\":\"Pollutant=NOx\\u003cbr\\u003eyear=2009\\u003cbr\\u003eMonth=%{x}\\u003cbr\\u003eAverage Value=%{y}\\u003cextra\\u003e\\u003c\\u002fextra\\u003e\",\"legendgroup\":\"NOx\",\"line\":{\"color\":\"#FFA15A\",\"dash\":\"solid\"},\"marker\":{\"symbol\":\"circle\"},\"mode\":\"lines\",\"name\":\"NOx\",\"orientation\":\"v\",\"showlegend\":true,\"x\":[1,2,3,4,5,6,7,8,9,10,11,12],\"xaxis\":\"x\",\"y\":[-0.012333925425643209,0.0921085375607529,-0.15055010399183477,-0.313152331961366,-0.3894954597980649,-0.3917254188149124,-0.37530240659099706,-0.3857712793213164,-0.3479258985829391,0.06797663487404103,0.12714690878236454,-0.08602455043740824],\"yaxis\":\"y\",\"type\":\"scatter\"},{\"hovertemplate\":\"Pollutant=NO_2\\u003cbr\\u003eyear=2009\\u003cbr\\u003eMonth=%{x}\\u003cbr\\u003eAverage Value=%{y}\\u003cextra\\u003e\\u003c\\u002fextra\\u003e\",\"legendgroup\":\"NO_2\",\"line\":{\"color\":\"#19d3f3\",\"dash\":\"solid\"},\"marker\":{\"symbol\":\"circle\"},\"mode\":\"lines\",\"name\":\"NO_2\",\"orientation\":\"v\",\"showlegend\":true,\"x\":[1,2,3,4,5,6,7,8,9,10,11,12],\"xaxis\":\"x\",\"y\":[0.1968472851986598,0.43155052603279626,0.2516579840635266,0.027915116418868055,-0.12009609481468912,-0.1502125422791602,-0.0993152450925343,-0.05573047930189177,-0.005390472085896666,0.4310935957577243,0.3558640127226323,0.09672904501396529],\"yaxis\":\"y\",\"type\":\"scatter\"},{\"hovertemplate\":\"Pollutant=O_3\\u003cbr\\u003eyear=2009\\u003cbr\\u003eMonth=%{x}\\u003cbr\\u003eAverage Value=%{y}\\u003cextra\\u003e\\u003c\\u002fextra\\u003e\",\"legendgroup\":\"O_3\",\"line\":{\"color\":\"#FF6692\",\"dash\":\"solid\"},\"marker\":{\"symbol\":\"circle\"},\"mode\":\"lines\",\"name\":\"O_3\",\"orientation\":\"v\",\"showlegend\":true,\"x\":[1,2,3,4,5,6,7,8,9,10,11,12],\"xaxis\":\"x\",\"y\":[-0.4975692532763901,-0.40896172870160336,0.1046964883488436,0.4448948079770652,0.4930274355851019,0.7039914325346264,0.7201807298155161,0.8541334752208883,0.5839717342939494,-0.3301458255650532,-0.40279791663855885,-0.4669325132305846],\"yaxis\":\"y\",\"type\":\"scatter\"},{\"hovertemplate\":\"Pollutant=PM10\\u003cbr\\u003eyear=2009\\u003cbr\\u003eMonth=%{x}\\u003cbr\\u003eAverage Value=%{y}\\u003cextra\\u003e\\u003c\\u002fextra\\u003e\",\"legendgroup\":\"PM10\",\"line\":{\"color\":\"#B6E880\",\"dash\":\"solid\"},\"marker\":{\"symbol\":\"circle\"},\"mode\":\"lines\",\"name\":\"PM10\",\"orientation\":\"v\",\"showlegend\":true,\"x\":[1,2,3,4,5,6,7,8,9,10,11,12],\"xaxis\":\"x\",\"y\":[-0.3714444567007646,-0.20294556264585623,-0.14030487895297555,-0.3557619228124056,-0.1467889332031513,-0.13230250246707526,0.006822572821505647,0.0024954986974007995,-0.11380923245403429,-0.08234303965202398,-0.09761812459432541,-0.4588309380260524],\"yaxis\":\"y\",\"type\":\"scatter\"},{\"hovertemplate\":\"Pollutant=SO_2\\u003cbr\\u003eyear=2009\\u003cbr\\u003eMonth=%{x}\\u003cbr\\u003eAverage Value=%{y}\\u003cextra\\u003e\\u003c\\u002fextra\\u003e\",\"legendgroup\":\"SO_2\",\"line\":{\"color\":\"#FF97FF\",\"dash\":\"solid\"},\"marker\":{\"symbol\":\"circle\"},\"mode\":\"lines\",\"name\":\"SO_2\",\"orientation\":\"v\",\"showlegend\":true,\"x\":[1,2,3,4,5,6,7,8,9,10,11,12],\"xaxis\":\"x\",\"y\":[0.4524418285186791,0.5471975303924713,0.2386891889240486,-0.09354518556587678,-0.29489118040195245,-0.3621703511549596,-0.3228855722420582,-0.322951897053,-0.32547302024930425,-0.2020312532297068,0.11910393972272677,0.1321990876332564],\"yaxis\":\"y\",\"type\":\"scatter\"},{\"hovertemplate\":\"Pollutant=TCH\\u003cbr\\u003eyear=2009\\u003cbr\\u003eMonth=%{x}\\u003cbr\\u003eAverage Value=%{y}\\u003cextra\\u003e\\u003c\\u002fextra\\u003e\",\"legendgroup\":\"TCH\",\"line\":{\"color\":\"#FECB52\",\"dash\":\"solid\"},\"marker\":{\"symbol\":\"circle\"},\"mode\":\"lines\",\"name\":\"TCH\",\"orientation\":\"v\",\"showlegend\":true,\"x\":[1,2,3,4,5,6,7,8,9,10,11,12],\"xaxis\":\"x\",\"y\":[0.44523774446505754,0.3709401514943672,0.21499261672218728,0.010924860414496185,-0.0028705722600501147,-0.26570866302974677,0.035158370038093995,-0.05020563216149408,-0.05326085994028068,0.29370199194141744,0.4544349753293401,0.10545352989000138],\"yaxis\":\"y\",\"type\":\"scatter\"},{\"hovertemplate\":\"Pollutant=TOL\\u003cbr\\u003eyear=2009\\u003cbr\\u003eMonth=%{x}\\u003cbr\\u003eAverage Value=%{y}\\u003cextra\\u003e\\u003c\\u002fextra\\u003e\",\"legendgroup\":\"TOL\",\"line\":{\"color\":\"#636efa\",\"dash\":\"solid\"},\"marker\":{\"symbol\":\"circle\"},\"mode\":\"lines\",\"name\":\"TOL\",\"orientation\":\"v\",\"showlegend\":true,\"x\":[1,2,3,4,5,6,7,8,9,10,11,12],\"xaxis\":\"x\",\"y\":[-0.2726684615600518,-0.18871581833053364,-0.25839276577132303,-0.35777879299693105,-0.31513171941550544,-0.3281983482594041,-0.2931872002086471,-0.2925120547324392,-0.3090047066234615,-0.05004381374736397,-0.0034125315573440874,-0.14300528716753322],\"yaxis\":\"y\",\"type\":\"scatter\"},{\"hovertemplate\":\"Pollutant=MXY\\u003cbr\\u003eyear=2009\\u003cbr\\u003eMonth=%{x}\\u003cbr\\u003eAverage Value=%{y}\\u003cextra\\u003e\\u003c\\u002fextra\\u003e\",\"legendgroup\":\"MXY\",\"line\":{\"color\":\"#EF553B\",\"dash\":\"solid\"},\"marker\":{\"symbol\":\"circle\"},\"mode\":\"lines\",\"name\":\"MXY\",\"orientation\":\"v\",\"showlegend\":true,\"x\":[1,2,3,4,5,6,7,8,9,10,11,12],\"xaxis\":\"x\",\"y\":[-0.4273791221769187,-0.3893887189432007,-0.4273008624953087,-0.5251945422733415,-0.44742901488360837,-0.4654819441739353,-0.45647235096170463,-0.4903895542438406,-0.44736110484568853,-0.2302972935580568,-0.29035218360661535,-0.5969880004653508],\"yaxis\":\"y\",\"type\":\"scatter\"},{\"hovertemplate\":\"Pollutant=OXY\\u003cbr\\u003eyear=2009\\u003cbr\\u003eMonth=%{x}\\u003cbr\\u003eAverage Value=%{y}\\u003cextra\\u003e\\u003c\\u002fextra\\u003e\",\"legendgroup\":\"OXY\",\"line\":{\"color\":\"#00cc96\",\"dash\":\"solid\"},\"marker\":{\"symbol\":\"circle\"},\"mode\":\"lines\",\"name\":\"OXY\",\"orientation\":\"v\",\"showlegend\":true,\"x\":[1,2,3,4,5,6,7,8,9,10,11,12],\"xaxis\":\"x\",\"y\":[-0.42354348594867813,-0.32395411745244496,-0.37978228179517254,-0.4315944482501351,-0.3343962248171132,-0.33969515565757763,-0.33522788277795323,-0.3979847694437619,-0.352783986218831,-0.175174337603876,-0.22213444877092475,-0.5027968025227444],\"yaxis\":\"y\",\"type\":\"scatter\"},{\"hovertemplate\":\"Pollutant=PXY\\u003cbr\\u003eyear=2009\\u003cbr\\u003eMonth=%{x}\\u003cbr\\u003eAverage Value=%{y}\\u003cextra\\u003e\\u003c\\u002fextra\\u003e\",\"legendgroup\":\"PXY\",\"line\":{\"color\":\"#ab63fa\",\"dash\":\"solid\"},\"marker\":{\"symbol\":\"circle\"},\"mode\":\"lines\",\"name\":\"PXY\",\"orientation\":\"v\",\"showlegend\":true,\"x\":[1,2,3,4,5,6,7,8,9,10,11,12],\"xaxis\":\"x\",\"y\":[-0.36387465825203696,-0.31969736536948584,-0.38566375065401426,-0.45670844271099387,-0.35824140215962536,-0.34306026966144537,-0.35138320539237716,-0.3916599530888804,-0.3805864749211085,-0.17002767035242902,-0.20455382828891727,-0.3765679235839496],\"yaxis\":\"y\",\"type\":\"scatter\"},{\"hovertemplate\":\"Pollutant=PM25\\u003cbr\\u003eyear=2009\\u003cbr\\u003eMonth=%{x}\\u003cbr\\u003eAverage Value=%{y}\\u003cextra\\u003e\\u003c\\u002fextra\\u003e\",\"legendgroup\":\"PM25\",\"line\":{\"color\":\"#FFA15A\",\"dash\":\"solid\"},\"marker\":{\"symbol\":\"circle\"},\"mode\":\"lines\",\"name\":\"PM25\",\"orientation\":\"v\",\"showlegend\":true,\"x\":[1,2,3,4,5,6,7,8,9,10,11,12],\"xaxis\":\"x\",\"y\":[-0.10797653775632826,0.01801725360771275,-0.021219197827505584,-0.2350599476892623,-0.21087298326220386,-0.1295785768778404,-0.07955462039969594,-0.00897140291918951,-0.04039928796701323,0.003013587690934403,0.057363796064242314,-0.27480717715948383],\"yaxis\":\"y\",\"type\":\"scatter\"},{\"hovertemplate\":\"Pollutant=CH4\\u003cbr\\u003eyear=2009\\u003cbr\\u003eMonth=%{x}\\u003cbr\\u003eAverage Value=%{y}\\u003cextra\\u003e\\u003c\\u002fextra\\u003e\",\"legendgroup\":\"CH4\",\"line\":{\"color\":\"#19d3f3\",\"dash\":\"solid\"},\"marker\":{\"symbol\":\"circle\"},\"mode\":\"lines\",\"name\":\"CH4\",\"orientation\":\"v\",\"showlegend\":true,\"x\":[1,2,3,4,5,6,7,8,9,10,11,12],\"xaxis\":\"x\",\"y\":[null,null,null,null,null,null,null,null,null,null,null,null],\"yaxis\":\"y\",\"type\":\"scatter\"},{\"hovertemplate\":\"Pollutant=NO\\u003cbr\\u003eyear=2009\\u003cbr\\u003eMonth=%{x}\\u003cbr\\u003eAverage Value=%{y}\\u003cextra\\u003e\\u003c\\u002fextra\\u003e\",\"legendgroup\":\"NO\",\"line\":{\"color\":\"#FF6692\",\"dash\":\"solid\"},\"marker\":{\"symbol\":\"circle\"},\"mode\":\"lines\",\"name\":\"NO\",\"orientation\":\"v\",\"showlegend\":true,\"x\":[1,2,3,4,5,6,7,8,9,10,11,12],\"xaxis\":\"x\",\"y\":[null,null,null,null,null,null,null,null,null,null,null,null],\"yaxis\":\"y\",\"type\":\"scatter\"}],\"name\":\"2009\"},{\"data\":[{\"hovertemplate\":\"Pollutant=BEN\\u003cbr\\u003eyear=2010\\u003cbr\\u003eMonth=%{x}\\u003cbr\\u003eAverage Value=%{y}\\u003cextra\\u003e\\u003c\\u002fextra\\u003e\",\"legendgroup\":\"BEN\",\"line\":{\"color\":\"#636efa\",\"dash\":\"solid\"},\"marker\":{\"symbol\":\"circle\"},\"mode\":\"lines\",\"name\":\"BEN\",\"orientation\":\"v\",\"showlegend\":true,\"x\":[1,2,3,4,5,6,7,8,9,10,11,12],\"xaxis\":\"x\",\"y\":[-0.12532704701104438,-0.1754136995184806,-0.23403870214648678,-0.33858337873269134,-0.3974742774230856,-0.387681766198387,-0.33394745383782665,-0.3870725512343126,-0.2589327576571431,-0.16737514441505907,-0.1468982284387458,-0.07580351732131804],\"yaxis\":\"y\",\"type\":\"scatter\"},{\"hovertemplate\":\"Pollutant=CO\\u003cbr\\u003eyear=2010\\u003cbr\\u003eMonth=%{x}\\u003cbr\\u003eAverage Value=%{y}\\u003cextra\\u003e\\u003c\\u002fextra\\u003e\",\"legendgroup\":\"CO\",\"line\":{\"color\":\"#EF553B\",\"dash\":\"solid\"},\"marker\":{\"symbol\":\"circle\"},\"mode\":\"lines\",\"name\":\"CO\",\"orientation\":\"v\",\"showlegend\":true,\"x\":[1,2,3,4,5,6,7,8,9,10,11,12],\"xaxis\":\"x\",\"y\":[-0.2407947034356429,-0.31015059033429687,-0.36213185722094504,-0.41345720408562886,-0.517965909340544,-0.5298094127357839,-0.501142262016119,-0.5226173733204937,-0.40476569073602103,-0.2195342910169066,-0.2122084125357628,-0.09406211642149713],\"yaxis\":\"y\",\"type\":\"scatter\"},{\"hovertemplate\":\"Pollutant=EBE\\u003cbr\\u003eyear=2010\\u003cbr\\u003eMonth=%{x}\\u003cbr\\u003eAverage Value=%{y}\\u003cextra\\u003e\\u003c\\u002fextra\\u003e\",\"legendgroup\":\"EBE\",\"line\":{\"color\":\"#00cc96\",\"dash\":\"solid\"},\"marker\":{\"symbol\":\"circle\"},\"mode\":\"lines\",\"name\":\"EBE\",\"orientation\":\"v\",\"showlegend\":true,\"x\":[1,2,3,4,5,6,7,8,9,10,11,12],\"xaxis\":\"x\",\"y\":[0.046810652754549,-0.045759617641009775,-0.14075572525703325,-0.27618683134570793,-0.367203945473837,-0.2934487890415644,-0.2639007794506896,-0.26755423097135045,-0.08425309877597566,0.014783994794944147,0.0012767674808656026,-0.1584186291647342],\"yaxis\":\"y\",\"type\":\"scatter\"},{\"hovertemplate\":\"Pollutant=NMHC\\u003cbr\\u003eyear=2010\\u003cbr\\u003eMonth=%{x}\\u003cbr\\u003eAverage Value=%{y}\\u003cextra\\u003e\\u003c\\u002fextra\\u003e\",\"legendgroup\":\"NMHC\",\"line\":{\"color\":\"#ab63fa\",\"dash\":\"solid\"},\"marker\":{\"symbol\":\"circle\"},\"mode\":\"lines\",\"name\":\"NMHC\",\"orientation\":\"v\",\"showlegend\":true,\"x\":[1,2,3,4,5,6,7,8,9,10,11,12],\"xaxis\":\"x\",\"y\":[0.18062383169081195,0.15311403892571707,0.1659011292900762,0.0334970926022874,0.13491626598564158,0.06133141377898745,0.01332681256737526,0.008636755125492834,0.17724749517365748,0.3072119020525748,0.28961416013871405,0.2032484414955922],\"yaxis\":\"y\",\"type\":\"scatter\"},{\"hovertemplate\":\"Pollutant=NOx\\u003cbr\\u003eyear=2010\\u003cbr\\u003eMonth=%{x}\\u003cbr\\u003eAverage Value=%{y}\\u003cextra\\u003e\\u003c\\u002fextra\\u003e\",\"legendgroup\":\"NOx\",\"line\":{\"color\":\"#FFA15A\",\"dash\":\"solid\"},\"marker\":{\"symbol\":\"circle\"},\"mode\":\"lines\",\"name\":\"NOx\",\"orientation\":\"v\",\"showlegend\":true,\"x\":[1,2,3,4,5,6,7,8,9,10,11,12],\"xaxis\":\"x\",\"y\":[-0.2604476513211404,-0.36383252211669703,-0.44086819544978245,-0.5260788099173479,-0.6337321666439627,-0.5709007712007,-0.5076949186974408,-0.5834086711710004,-0.3699938979568391,-0.10620826977970442,-0.14594342414691172,-0.004277195073785926],\"yaxis\":\"y\",\"type\":\"scatter\"},{\"hovertemplate\":\"Pollutant=NO_2\\u003cbr\\u003eyear=2010\\u003cbr\\u003eMonth=%{x}\\u003cbr\\u003eAverage Value=%{y}\\u003cextra\\u003e\\u003c\\u002fextra\\u003e\",\"legendgroup\":\"NO_2\",\"line\":{\"color\":\"#19d3f3\",\"dash\":\"solid\"},\"marker\":{\"symbol\":\"circle\"},\"mode\":\"lines\",\"name\":\"NO_2\",\"orientation\":\"v\",\"showlegend\":true,\"x\":[1,2,3,4,5,6,7,8,9,10,11,12],\"xaxis\":\"x\",\"y\":[-0.09735753496269735,-0.144356569798698,-0.26382055617289873,-0.36735054951817925,-0.6437311941277426,-0.4501195775660503,-0.25907229709771046,-0.44897511402613477,-0.05393496263614376,0.2460302033802139,0.0831329317392332,0.23008115840943125],\"yaxis\":\"y\",\"type\":\"scatter\"},{\"hovertemplate\":\"Pollutant=O_3\\u003cbr\\u003eyear=2010\\u003cbr\\u003eMonth=%{x}\\u003cbr\\u003eAverage Value=%{y}\\u003cextra\\u003e\\u003c\\u002fextra\\u003e\",\"legendgroup\":\"O_3\",\"line\":{\"color\":\"#FF6692\",\"dash\":\"solid\"},\"marker\":{\"symbol\":\"circle\"},\"mode\":\"lines\",\"name\":\"O_3\",\"orientation\":\"v\",\"showlegend\":true,\"x\":[1,2,3,4,5,6,7,8,9,10,11,12],\"xaxis\":\"x\",\"y\":[-0.28610931786622856,0.025984767856206,0.36776030910078394,0.7510323225816862,0.8659486934697029,0.6644326177046564,0.9294296284312572,0.783406961730123,0.20731242124377633,-0.2352051387551702,-0.3520341715378616,-0.6626526501567896],\"yaxis\":\"y\",\"type\":\"scatter\"},{\"hovertemplate\":\"Pollutant=PM10\\u003cbr\\u003eyear=2010\\u003cbr\\u003eMonth=%{x}\\u003cbr\\u003eAverage Value=%{y}\\u003cextra\\u003e\\u003c\\u002fextra\\u003e\",\"legendgroup\":\"PM10\",\"line\":{\"color\":\"#B6E880\",\"dash\":\"solid\"},\"marker\":{\"symbol\":\"circle\"},\"mode\":\"lines\",\"name\":\"PM10\",\"orientation\":\"v\",\"showlegend\":true,\"x\":[1,2,3,4,5,6,7,8,9,10,11,12],\"xaxis\":\"x\",\"y\":[-0.48318368507853376,-0.5316661650082705,-0.14135534289413873,-0.39201878125454137,-0.3529074773220908,-0.385340456038171,-0.05533787610917581,0.05152702384426314,-0.11444215149803429,-0.13732415382088548,-0.4207507669884077,-0.36949529411986365],\"yaxis\":\"y\",\"type\":\"scatter\"},{\"hovertemplate\":\"Pollutant=SO_2\\u003cbr\\u003eyear=2010\\u003cbr\\u003eMonth=%{x}\\u003cbr\\u003eAverage Value=%{y}\\u003cextra\\u003e\\u003c\\u002fextra\\u003e\",\"legendgroup\":\"SO_2\",\"line\":{\"color\":\"#FF97FF\",\"dash\":\"solid\"},\"marker\":{\"symbol\":\"circle\"},\"mode\":\"lines\",\"name\":\"SO_2\",\"orientation\":\"v\",\"showlegend\":true,\"x\":[1,2,3,4,5,6,7,8,9,10,11,12],\"xaxis\":\"x\",\"y\":[0.15537150312596706,0.15021441969010538,0.1815549197868143,-0.046184940846019984,-0.11788818516612988,-0.3894091035547253,-0.411066065813741,-0.4094405494584763,-0.3731317289404382,-0.1467845651897712,-0.03491916474957975,0.14409679241112924],\"yaxis\":\"y\",\"type\":\"scatter\"},{\"hovertemplate\":\"Pollutant=TCH\\u003cbr\\u003eyear=2010\\u003cbr\\u003eMonth=%{x}\\u003cbr\\u003eAverage Value=%{y}\\u003cextra\\u003e\\u003c\\u002fextra\\u003e\",\"legendgroup\":\"TCH\",\"line\":{\"color\":\"#FECB52\",\"dash\":\"solid\"},\"marker\":{\"symbol\":\"circle\"},\"mode\":\"lines\",\"name\":\"TCH\",\"orientation\":\"v\",\"showlegend\":true,\"x\":[1,2,3,4,5,6,7,8,9,10,11,12],\"xaxis\":\"x\",\"y\":[0.09625024686043446,0.14216869907987564,0.1826997023057417,0.08294274760752943,-0.20008161937802166,-0.3565760753431548,-0.29667164708213717,-0.260194977291892,-0.1478999792417268,-0.02215063141518454,-0.0031763803013209295,0.2857523728014648],\"yaxis\":\"y\",\"type\":\"scatter\"},{\"hovertemplate\":\"Pollutant=TOL\\u003cbr\\u003eyear=2010\\u003cbr\\u003eMonth=%{x}\\u003cbr\\u003eAverage Value=%{y}\\u003cextra\\u003e\\u003c\\u002fextra\\u003e\",\"legendgroup\":\"TOL\",\"line\":{\"color\":\"#636efa\",\"dash\":\"solid\"},\"marker\":{\"symbol\":\"circle\"},\"mode\":\"lines\",\"name\":\"TOL\",\"orientation\":\"v\",\"showlegend\":true,\"x\":[1,2,3,4,5,6,7,8,9,10,11,12],\"xaxis\":\"x\",\"y\":[-0.18772737893504093,-0.30614067809498197,-0.35421007220284645,-0.380223773242968,-0.42226319656211037,-0.38047997152941143,-0.3487392824411892,-0.3938789009202114,-0.2807241961260414,-0.20053347519004894,-0.2402450830348378,-0.26700168821861686],\"yaxis\":\"y\",\"type\":\"scatter\"},{\"hovertemplate\":\"Pollutant=MXY\\u003cbr\\u003eyear=2010\\u003cbr\\u003eMonth=%{x}\\u003cbr\\u003eAverage Value=%{y}\\u003cextra\\u003e\\u003c\\u002fextra\\u003e\",\"legendgroup\":\"MXY\",\"line\":{\"color\":\"#EF553B\",\"dash\":\"solid\"},\"marker\":{\"symbol\":\"circle\"},\"mode\":\"lines\",\"name\":\"MXY\",\"orientation\":\"v\",\"showlegend\":true,\"x\":[1,2,3,4,5,6,7,8,9,10,11,12],\"xaxis\":\"x\",\"y\":[-0.6363189738714108,-0.6792074657402528,-0.6849707154120996,-0.682301290116041,-0.7156219088403013,-0.669360721778361,null,null,null,null,null,null],\"yaxis\":\"y\",\"type\":\"scatter\"},{\"hovertemplate\":\"Pollutant=OXY\\u003cbr\\u003eyear=2010\\u003cbr\\u003eMonth=%{x}\\u003cbr\\u003eAverage Value=%{y}\\u003cextra\\u003e\\u003c\\u002fextra\\u003e\",\"legendgroup\":\"OXY\",\"line\":{\"color\":\"#00cc96\",\"dash\":\"solid\"},\"marker\":{\"symbol\":\"circle\"},\"mode\":\"lines\",\"name\":\"OXY\",\"orientation\":\"v\",\"showlegend\":true,\"x\":[1,2,3,4,5,6,7,8,9,10,11,12],\"xaxis\":\"x\",\"y\":[-0.5171004068111282,-0.5122741564833829,-0.5107868667374772,-0.5355749469832572,-0.5094766444538451,-0.5023147766948464,null,null,null,null,null,null],\"yaxis\":\"y\",\"type\":\"scatter\"},{\"hovertemplate\":\"Pollutant=PXY\\u003cbr\\u003eyear=2010\\u003cbr\\u003eMonth=%{x}\\u003cbr\\u003eAverage Value=%{y}\\u003cextra\\u003e\\u003c\\u002fextra\\u003e\",\"legendgroup\":\"PXY\",\"line\":{\"color\":\"#ab63fa\",\"dash\":\"solid\"},\"marker\":{\"symbol\":\"circle\"},\"mode\":\"lines\",\"name\":\"PXY\",\"orientation\":\"v\",\"showlegend\":true,\"x\":[1,2,3,4,5,6,7,8,9,10,11,12],\"xaxis\":\"x\",\"y\":[-0.45310248365802247,-0.504057185160469,-0.5856647878462246,-0.5977948739179099,-0.4808031579120664,-0.44096969271504133,null,null,null,null,null,null],\"yaxis\":\"y\",\"type\":\"scatter\"},{\"hovertemplate\":\"Pollutant=PM25\\u003cbr\\u003eyear=2010\\u003cbr\\u003eMonth=%{x}\\u003cbr\\u003eAverage Value=%{y}\\u003cextra\\u003e\\u003c\\u002fextra\\u003e\",\"legendgroup\":\"PM25\",\"line\":{\"color\":\"#FFA15A\",\"dash\":\"solid\"},\"marker\":{\"symbol\":\"circle\"},\"mode\":\"lines\",\"name\":\"PM25\",\"orientation\":\"v\",\"showlegend\":true,\"x\":[1,2,3,4,5,6,7,8,9,10,11,12],\"xaxis\":\"x\",\"y\":[-0.28016767016673,-0.38315925710633086,0.014460929413848658,-0.3152087453643187,-0.18871298006485093,-0.2899960205746529,0.036585063299204634,0.07189236985524826,-0.13844610902787807,-0.05446703983712579,-0.2256412039421562,-0.1890647059423588],\"yaxis\":\"y\",\"type\":\"scatter\"},{\"hovertemplate\":\"Pollutant=CH4\\u003cbr\\u003eyear=2010\\u003cbr\\u003eMonth=%{x}\\u003cbr\\u003eAverage Value=%{y}\\u003cextra\\u003e\\u003c\\u002fextra\\u003e\",\"legendgroup\":\"CH4\",\"line\":{\"color\":\"#19d3f3\",\"dash\":\"solid\"},\"marker\":{\"symbol\":\"circle\"},\"mode\":\"lines\",\"name\":\"CH4\",\"orientation\":\"v\",\"showlegend\":true,\"x\":[1,2,3,4,5,6,7,8,9,10,11,12],\"xaxis\":\"x\",\"y\":[null,null,null,null,null,null,null,null,null,null,null,null],\"yaxis\":\"y\",\"type\":\"scatter\"},{\"hovertemplate\":\"Pollutant=NO\\u003cbr\\u003eyear=2010\\u003cbr\\u003eMonth=%{x}\\u003cbr\\u003eAverage Value=%{y}\\u003cextra\\u003e\\u003c\\u002fextra\\u003e\",\"legendgroup\":\"NO\",\"line\":{\"color\":\"#FF6692\",\"dash\":\"solid\"},\"marker\":{\"symbol\":\"circle\"},\"mode\":\"lines\",\"name\":\"NO\",\"orientation\":\"v\",\"showlegend\":true,\"x\":[1,2,3,4,5,6,7,8,9,10,11,12],\"xaxis\":\"x\",\"y\":[null,null,null,null,null,null,null,null,null,null,null,null],\"yaxis\":\"y\",\"type\":\"scatter\"}],\"name\":\"2010\"},{\"data\":[{\"hovertemplate\":\"Pollutant=BEN\\u003cbr\\u003eyear=2011\\u003cbr\\u003eMonth=%{x}\\u003cbr\\u003eAverage Value=%{y}\\u003cextra\\u003e\\u003c\\u002fextra\\u003e\",\"legendgroup\":\"BEN\",\"line\":{\"color\":\"#636efa\",\"dash\":\"solid\"},\"marker\":{\"symbol\":\"circle\"},\"mode\":\"lines\",\"name\":\"BEN\",\"orientation\":\"v\",\"showlegend\":true,\"x\":[1,2,3,4,5,6,7,8,9,10,11,12],\"xaxis\":\"x\",\"y\":[-0.04212492461646614,-0.06149335022640187,-0.24771485120077225,-0.3245842460304869,-0.3914535530762671,-0.3543071256630806,-0.4066125131622175,-0.39947808276191854,-0.23352297621894103,-0.17746830806868283,-0.1517941326745401,0.027588737470907426],\"yaxis\":\"y\",\"type\":\"scatter\"},{\"hovertemplate\":\"Pollutant=CO\\u003cbr\\u003eyear=2011\\u003cbr\\u003eMonth=%{x}\\u003cbr\\u003eAverage Value=%{y}\\u003cextra\\u003e\\u003c\\u002fextra\\u003e\",\"legendgroup\":\"CO\",\"line\":{\"color\":\"#EF553B\",\"dash\":\"solid\"},\"marker\":{\"symbol\":\"circle\"},\"mode\":\"lines\",\"name\":\"CO\",\"orientation\":\"v\",\"showlegend\":true,\"x\":[1,2,3,4,5,6,7,8,9,10,11,12],\"xaxis\":\"x\",\"y\":[-0.1228711624640063,-0.11325411977034244,-0.3819844666098258,-0.45009116684301276,-0.5668416414166607,-0.5199631535715106,-0.585695948273613,-0.59565736387705,-0.3973418708153091,-0.25286959851663654,-0.16723264741534558,0.07109930772783639],\"yaxis\":\"y\",\"type\":\"scatter\"},{\"hovertemplate\":\"Pollutant=EBE\\u003cbr\\u003eyear=2011\\u003cbr\\u003eMonth=%{x}\\u003cbr\\u003eAverage Value=%{y}\\u003cextra\\u003e\\u003c\\u002fextra\\u003e\",\"legendgroup\":\"EBE\",\"line\":{\"color\":\"#00cc96\",\"dash\":\"solid\"},\"marker\":{\"symbol\":\"circle\"},\"mode\":\"lines\",\"name\":\"EBE\",\"orientation\":\"v\",\"showlegend\":true,\"x\":[1,2,3,4,5,6,7,8,9,10,11,12],\"xaxis\":\"x\",\"y\":[-0.11194480149661008,-0.08138160805499633,-0.2814830198396968,-0.20569657526238203,-0.27890666523516283,-0.27038659529149406,-0.34765959932446017,-0.3319775029627046,-0.1744280865736293,-0.060360564069745076,-0.1516444450171673,-0.14087620048140329],\"yaxis\":\"y\",\"type\":\"scatter\"},{\"hovertemplate\":\"Pollutant=NMHC\\u003cbr\\u003eyear=2011\\u003cbr\\u003eMonth=%{x}\\u003cbr\\u003eAverage Value=%{y}\\u003cextra\\u003e\\u003c\\u002fextra\\u003e\",\"legendgroup\":\"NMHC\",\"line\":{\"color\":\"#ab63fa\",\"dash\":\"solid\"},\"marker\":{\"symbol\":\"circle\"},\"mode\":\"lines\",\"name\":\"NMHC\",\"orientation\":\"v\",\"showlegend\":true,\"x\":[1,2,3,4,5,6,7,8,9,10,11,12],\"xaxis\":\"x\",\"y\":[0.2000881507767614,0.2342619186691646,0.02443558241420972,0.07658192855259051,-0.027861159124258558,-0.11082222520800727,-0.20867000793131119,-0.1549296927904059,-0.05927868076126505,-0.046771280350406126,0.08479208489587928,0.5038387500560342],\"yaxis\":\"y\",\"type\":\"scatter\"},{\"hovertemplate\":\"Pollutant=NOx\\u003cbr\\u003eyear=2011\\u003cbr\\u003eMonth=%{x}\\u003cbr\\u003eAverage Value=%{y}\\u003cextra\\u003e\\u003c\\u002fextra\\u003e\",\"legendgroup\":\"NOx\",\"line\":{\"color\":\"#FFA15A\",\"dash\":\"solid\"},\"marker\":{\"symbol\":\"circle\"},\"mode\":\"lines\",\"name\":\"NOx\",\"orientation\":\"v\",\"showlegend\":true,\"x\":[1,2,3,4,5,6,7,8,9,10,11,12],\"xaxis\":\"x\",\"y\":[null,null,null,null,null,null,null,null,null,null,null,null],\"yaxis\":\"y\",\"type\":\"scatter\"},{\"hovertemplate\":\"Pollutant=NO_2\\u003cbr\\u003eyear=2011\\u003cbr\\u003eMonth=%{x}\\u003cbr\\u003eAverage Value=%{y}\\u003cextra\\u003e\\u003c\\u002fextra\\u003e\",\"legendgroup\":\"NO_2\",\"line\":{\"color\":\"#19d3f3\",\"dash\":\"solid\"},\"marker\":{\"symbol\":\"circle\"},\"mode\":\"lines\",\"name\":\"NO_2\",\"orientation\":\"v\",\"showlegend\":true,\"x\":[1,2,3,4,5,6,7,8,9,10,11,12],\"xaxis\":\"x\",\"y\":[0.14924683105211906,0.32103259285611335,-0.281245853491382,-0.2996678094439613,-0.40303946397416196,-0.3884135699964199,-0.5811415308287898,-0.4764389684236437,-0.01092676760045022,-0.006161478364188772,-0.08214290139151542,0.15023306438867995],\"yaxis\":\"y\",\"type\":\"scatter\"},{\"hovertemplate\":\"Pollutant=O_3\\u003cbr\\u003eyear=2011\\u003cbr\\u003eMonth=%{x}\\u003cbr\\u003eAverage Value=%{y}\\u003cextra\\u003e\\u003c\\u002fextra\\u003e\",\"legendgroup\":\"O_3\",\"line\":{\"color\":\"#FF6692\",\"dash\":\"solid\"},\"marker\":{\"symbol\":\"circle\"},\"mode\":\"lines\",\"name\":\"O_3\",\"orientation\":\"v\",\"showlegend\":true,\"x\":[1,2,3,4,5,6,7,8,9,10,11,12],\"xaxis\":\"x\",\"y\":[-0.6109012241920613,-0.3438035497462203,0.31977985155990407,0.6600206196660278,0.6448418028568984,0.8482464744199053,0.9592888469740535,0.7684505115264182,0.3479141180755003,-0.19157425036217704,-0.6066627490151748,-0.7694680448809109],\"yaxis\":\"y\",\"type\":\"scatter\"},{\"hovertemplate\":\"Pollutant=PM10\\u003cbr\\u003eyear=2011\\u003cbr\\u003eMonth=%{x}\\u003cbr\\u003eAverage Value=%{y}\\u003cextra\\u003e\\u003c\\u002fextra\\u003e\",\"legendgroup\":\"PM10\",\"line\":{\"color\":\"#B6E880\",\"dash\":\"solid\"},\"marker\":{\"symbol\":\"circle\"},\"mode\":\"lines\",\"name\":\"PM10\",\"orientation\":\"v\",\"showlegend\":true,\"x\":[1,2,3,4,5,6,7,8,9,10,11,12],\"xaxis\":\"x\",\"y\":[-0.3401946064596027,-0.2018536439572489,-0.3900540518752679,-0.06418271134229851,-0.33840465523818347,-0.19599147976175244,-0.2696283691789535,-0.13965288562063236,-0.06694838759173473,-0.008823529591715094,-0.3483250679524719,-0.23469967004067097],\"yaxis\":\"y\",\"type\":\"scatter\"},{\"hovertemplate\":\"Pollutant=SO_2\\u003cbr\\u003eyear=2011\\u003cbr\\u003eMonth=%{x}\\u003cbr\\u003eAverage Value=%{y}\\u003cextra\\u003e\\u003c\\u002fextra\\u003e\",\"legendgroup\":\"SO_2\",\"line\":{\"color\":\"#FF97FF\",\"dash\":\"solid\"},\"marker\":{\"symbol\":\"circle\"},\"mode\":\"lines\",\"name\":\"SO_2\",\"orientation\":\"v\",\"showlegend\":true,\"x\":[1,2,3,4,5,6,7,8,9,10,11,12],\"xaxis\":\"x\",\"y\":[0.12447869133403512,0.03596560210333798,-0.2639384254034702,-0.4384081484540445,-0.49426145707557223,-0.48391719000511424,-0.5452508802326989,-0.5540906668717305,-0.5983461173611728,-0.7444461814639989,-0.5520306938528873,-0.3654987367445783],\"yaxis\":\"y\",\"type\":\"scatter\"},{\"hovertemplate\":\"Pollutant=TCH\\u003cbr\\u003eyear=2011\\u003cbr\\u003eMonth=%{x}\\u003cbr\\u003eAverage Value=%{y}\\u003cextra\\u003e\\u003c\\u002fextra\\u003e\",\"legendgroup\":\"TCH\",\"line\":{\"color\":\"#FECB52\",\"dash\":\"solid\"},\"marker\":{\"symbol\":\"circle\"},\"mode\":\"lines\",\"name\":\"TCH\",\"orientation\":\"v\",\"showlegend\":true,\"x\":[1,2,3,4,5,6,7,8,9,10,11,12],\"xaxis\":\"x\",\"y\":[0.21789446607902432,-0.13571071133687262,-0.21167685228323066,-0.052106012261086666,-0.08171538470817671,-0.2273139825572056,-0.3159766024569752,-0.1663643891998091,0.005643896035182885,-0.18605409023210784,0.16772839502173978,0.8126005029093355],\"yaxis\":\"y\",\"type\":\"scatter\"},{\"hovertemplate\":\"Pollutant=TOL\\u003cbr\\u003eyear=2011\\u003cbr\\u003eMonth=%{x}\\u003cbr\\u003eAverage Value=%{y}\\u003cextra\\u003e\\u003c\\u002fextra\\u003e\",\"legendgroup\":\"TOL\",\"line\":{\"color\":\"#636efa\",\"dash\":\"solid\"},\"marker\":{\"symbol\":\"circle\"},\"mode\":\"lines\",\"name\":\"TOL\",\"orientation\":\"v\",\"showlegend\":true,\"x\":[1,2,3,4,5,6,7,8,9,10,11,12],\"xaxis\":\"x\",\"y\":[-0.23826618322819815,-0.2273388751047009,-0.40922827423823815,-0.34001246650170375,-0.3680448090190396,-0.3546391774650895,-0.41905094882391886,-0.3745831919711485,-0.1958702586724799,-0.10499388819534552,-0.18302759312852698,-0.05153735119023252],\"yaxis\":\"y\",\"type\":\"scatter\"},{\"hovertemplate\":\"Pollutant=MXY\\u003cbr\\u003eyear=2011\\u003cbr\\u003eMonth=%{x}\\u003cbr\\u003eAverage Value=%{y}\\u003cextra\\u003e\\u003c\\u002fextra\\u003e\",\"legendgroup\":\"MXY\",\"line\":{\"color\":\"#EF553B\",\"dash\":\"solid\"},\"marker\":{\"symbol\":\"circle\"},\"mode\":\"lines\",\"name\":\"MXY\",\"orientation\":\"v\",\"showlegend\":true,\"x\":[1,2,3,4,5,6,7,8,9,10,11,12],\"xaxis\":\"x\",\"y\":[null,null,null,null,null,null,null,null,null,null,null,null],\"yaxis\":\"y\",\"type\":\"scatter\"},{\"hovertemplate\":\"Pollutant=OXY\\u003cbr\\u003eyear=2011\\u003cbr\\u003eMonth=%{x}\\u003cbr\\u003eAverage Value=%{y}\\u003cextra\\u003e\\u003c\\u002fextra\\u003e\",\"legendgroup\":\"OXY\",\"line\":{\"color\":\"#00cc96\",\"dash\":\"solid\"},\"marker\":{\"symbol\":\"circle\"},\"mode\":\"lines\",\"name\":\"OXY\",\"orientation\":\"v\",\"showlegend\":true,\"x\":[1,2,3,4,5,6,7,8,9,10,11,12],\"xaxis\":\"x\",\"y\":[null,null,null,null,null,null,null,null,null,null,null,null],\"yaxis\":\"y\",\"type\":\"scatter\"},{\"hovertemplate\":\"Pollutant=PXY\\u003cbr\\u003eyear=2011\\u003cbr\\u003eMonth=%{x}\\u003cbr\\u003eAverage Value=%{y}\\u003cextra\\u003e\\u003c\\u002fextra\\u003e\",\"legendgroup\":\"PXY\",\"line\":{\"color\":\"#ab63fa\",\"dash\":\"solid\"},\"marker\":{\"symbol\":\"circle\"},\"mode\":\"lines\",\"name\":\"PXY\",\"orientation\":\"v\",\"showlegend\":true,\"x\":[1,2,3,4,5,6,7,8,9,10,11,12],\"xaxis\":\"x\",\"y\":[null,null,null,null,null,null,null,null,null,null,null,null],\"yaxis\":\"y\",\"type\":\"scatter\"},{\"hovertemplate\":\"Pollutant=PM25\\u003cbr\\u003eyear=2011\\u003cbr\\u003eMonth=%{x}\\u003cbr\\u003eAverage Value=%{y}\\u003cextra\\u003e\\u003c\\u002fextra\\u003e\",\"legendgroup\":\"PM25\",\"line\":{\"color\":\"#FFA15A\",\"dash\":\"solid\"},\"marker\":{\"symbol\":\"circle\"},\"mode\":\"lines\",\"name\":\"PM25\",\"orientation\":\"v\",\"showlegend\":true,\"x\":[1,2,3,4,5,6,7,8,9,10,11,12],\"xaxis\":\"x\",\"y\":[-0.1413238517395598,-0.048742617760845854,-0.3030057701469842,-0.02388303796091309,-0.23401621506818981,-0.12802451494547346,-0.24714191646885475,-0.10028587292716394,-0.0926046303453783,-0.05241509435099586,-0.15626926177395267,-0.017696318268504593],\"yaxis\":\"y\",\"type\":\"scatter\"},{\"hovertemplate\":\"Pollutant=CH4\\u003cbr\\u003eyear=2011\\u003cbr\\u003eMonth=%{x}\\u003cbr\\u003eAverage Value=%{y}\\u003cextra\\u003e\\u003c\\u002fextra\\u003e\",\"legendgroup\":\"CH4\",\"line\":{\"color\":\"#19d3f3\",\"dash\":\"solid\"},\"marker\":{\"symbol\":\"circle\"},\"mode\":\"lines\",\"name\":\"CH4\",\"orientation\":\"v\",\"showlegend\":true,\"x\":[1,2,3,4,5,6,7,8,9,10,11,12],\"xaxis\":\"x\",\"y\":[null,null,null,null,null,null,null,null,null,null,null,null],\"yaxis\":\"y\",\"type\":\"scatter\"},{\"hovertemplate\":\"Pollutant=NO\\u003cbr\\u003eyear=2011\\u003cbr\\u003eMonth=%{x}\\u003cbr\\u003eAverage Value=%{y}\\u003cextra\\u003e\\u003c\\u002fextra\\u003e\",\"legendgroup\":\"NO\",\"line\":{\"color\":\"#FF6692\",\"dash\":\"solid\"},\"marker\":{\"symbol\":\"circle\"},\"mode\":\"lines\",\"name\":\"NO\",\"orientation\":\"v\",\"showlegend\":true,\"x\":[1,2,3,4,5,6,7,8,9,10,11,12],\"xaxis\":\"x\",\"y\":[0.5210161775426244,0.6043110348591844,-0.15428170596332494,-0.16188053959736293,-0.249429206003589,-0.2510914638495903,-0.3031149273451401,-0.2735721841125502,-0.03423315080861058,0.17562172007643062,0.32413372092032416,0.9479581681013075],\"yaxis\":\"y\",\"type\":\"scatter\"}],\"name\":\"2011\"},{\"data\":[{\"hovertemplate\":\"Pollutant=BEN\\u003cbr\\u003eyear=2012\\u003cbr\\u003eMonth=%{x}\\u003cbr\\u003eAverage Value=%{y}\\u003cextra\\u003e\\u003c\\u002fextra\\u003e\",\"legendgroup\":\"BEN\",\"line\":{\"color\":\"#636efa\",\"dash\":\"solid\"},\"marker\":{\"symbol\":\"circle\"},\"mode\":\"lines\",\"name\":\"BEN\",\"orientation\":\"v\",\"showlegend\":true,\"x\":[1,2,3,4,5,6,7,8,9,10,11,12],\"xaxis\":\"x\",\"y\":[0.08017644909917429,-0.1585429297169265,-0.28158778986158844,-0.40535626351979465,-0.3692112201562338,-0.36347763834804325,-0.353371606360991,-0.3254578247468408,-0.28382270060827264,-0.09977368889928753,-0.15444250859217276,0.02038945957313964],\"yaxis\":\"y\",\"type\":\"scatter\"},{\"hovertemplate\":\"Pollutant=CO\\u003cbr\\u003eyear=2012\\u003cbr\\u003eMonth=%{x}\\u003cbr\\u003eAverage Value=%{y}\\u003cextra\\u003e\\u003c\\u002fextra\\u003e\",\"legendgroup\":\"CO\",\"line\":{\"color\":\"#EF553B\",\"dash\":\"solid\"},\"marker\":{\"symbol\":\"circle\"},\"mode\":\"lines\",\"name\":\"CO\",\"orientation\":\"v\",\"showlegend\":true,\"x\":[1,2,3,4,5,6,7,8,9,10,11,12],\"xaxis\":\"x\",\"y\":[0.12800197123550347,-0.17374385324537994,-0.3128314293922175,-0.4881078673738913,-0.4868464750941551,-0.5854913376369759,-0.574860297182995,-0.542582470987972,-0.4765534105535571,-0.35685093444445143,-0.3583481128606246,-0.15547803216309083],\"yaxis\":\"y\",\"type\":\"scatter\"},{\"hovertemplate\":\"Pollutant=EBE\\u003cbr\\u003eyear=2012\\u003cbr\\u003eMonth=%{x}\\u003cbr\\u003eAverage Value=%{y}\\u003cextra\\u003e\\u003c\\u002fextra\\u003e\",\"legendgroup\":\"EBE\",\"line\":{\"color\":\"#00cc96\",\"dash\":\"solid\"},\"marker\":{\"symbol\":\"circle\"},\"mode\":\"lines\",\"name\":\"EBE\",\"orientation\":\"v\",\"showlegend\":true,\"x\":[1,2,3,4,5,6,7,8,9,10,11,12],\"xaxis\":\"x\",\"y\":[-0.11625344323108087,-0.2193980247551166,-0.2311870991680959,-0.2549852320288219,-0.2574779778090166,-0.29781820684846455,-0.24030866467786932,-0.18437875221297775,-0.19195009066057525,-0.09714999708320526,-0.23538988325634164,-0.22876811633058394],\"yaxis\":\"y\",\"type\":\"scatter\"},{\"hovertemplate\":\"Pollutant=NMHC\\u003cbr\\u003eyear=2012\\u003cbr\\u003eMonth=%{x}\\u003cbr\\u003eAverage Value=%{y}\\u003cextra\\u003e\\u003c\\u002fextra\\u003e\",\"legendgroup\":\"NMHC\",\"line\":{\"color\":\"#ab63fa\",\"dash\":\"solid\"},\"marker\":{\"symbol\":\"circle\"},\"mode\":\"lines\",\"name\":\"NMHC\",\"orientation\":\"v\",\"showlegend\":true,\"x\":[1,2,3,4,5,6,7,8,9,10,11,12],\"xaxis\":\"x\",\"y\":[0.44825742256236406,0.10459146985643472,-0.06878569346636368,-0.46305244301431636,-0.4460901875067203,-0.18315885774358728,-0.07812464858528922,0.0013019959727573595,-0.06281972438909786,0.10512080973662154,0.06112937531957072,0.263577291428068],\"yaxis\":\"y\",\"type\":\"scatter\"},{\"hovertemplate\":\"Pollutant=NOx\\u003cbr\\u003eyear=2012\\u003cbr\\u003eMonth=%{x}\\u003cbr\\u003eAverage Value=%{y}\\u003cextra\\u003e\\u003c\\u002fextra\\u003e\",\"legendgroup\":\"NOx\",\"line\":{\"color\":\"#FFA15A\",\"dash\":\"solid\"},\"marker\":{\"symbol\":\"circle\"},\"mode\":\"lines\",\"name\":\"NOx\",\"orientation\":\"v\",\"showlegend\":true,\"x\":[1,2,3,4,5,6,7,8,9,10,11,12],\"xaxis\":\"x\",\"y\":[null,null,null,null,null,null,null,null,null,null,null,null],\"yaxis\":\"y\",\"type\":\"scatter\"},{\"hovertemplate\":\"Pollutant=NO_2\\u003cbr\\u003eyear=2012\\u003cbr\\u003eMonth=%{x}\\u003cbr\\u003eAverage Value=%{y}\\u003cextra\\u003e\\u003c\\u002fextra\\u003e\",\"legendgroup\":\"NO_2\",\"line\":{\"color\":\"#19d3f3\",\"dash\":\"solid\"},\"marker\":{\"symbol\":\"circle\"},\"mode\":\"lines\",\"name\":\"NO_2\",\"orientation\":\"v\",\"showlegend\":true,\"x\":[1,2,3,4,5,6,7,8,9,10,11,12],\"xaxis\":\"x\",\"y\":[0.24340042450796082,-0.07037700202231947,-0.21577361989481275,-0.6954269013738222,-0.5218368617499491,-0.6862648230837354,-0.6292424757144172,-0.6199906988309734,-0.48787758617238647,-0.1265845357122529,-0.29079264500282226,-0.012574929207187646],\"yaxis\":\"y\",\"type\":\"scatter\"},{\"hovertemplate\":\"Pollutant=O_3\\u003cbr\\u003eyear=2012\\u003cbr\\u003eMonth=%{x}\\u003cbr\\u003eAverage Value=%{y}\\u003cextra\\u003e\\u003c\\u002fextra\\u003e\",\"legendgroup\":\"O_3\",\"line\":{\"color\":\"#FF6692\",\"dash\":\"solid\"},\"marker\":{\"symbol\":\"circle\"},\"mode\":\"lines\",\"name\":\"O_3\",\"orientation\":\"v\",\"showlegend\":true,\"x\":[1,2,3,4,5,6,7,8,9,10,11,12],\"xaxis\":\"x\",\"y\":[-0.8124878313716747,-0.18881492728221597,0.10717971640062526,0.5443739091960964,0.4506948619503429,0.5787928768592637,0.820002322933677,0.45597332525159423,0.27529025764798754,-0.4457236767325884,-0.5177141257903866,-0.7277883172542352],\"yaxis\":\"y\",\"type\":\"scatter\"},{\"hovertemplate\":\"Pollutant=PM10\\u003cbr\\u003eyear=2012\\u003cbr\\u003eMonth=%{x}\\u003cbr\\u003eAverage Value=%{y}\\u003cextra\\u003e\\u003c\\u002fextra\\u003e\",\"legendgroup\":\"PM10\",\"line\":{\"color\":\"#B6E880\",\"dash\":\"solid\"},\"marker\":{\"symbol\":\"circle\"},\"mode\":\"lines\",\"name\":\"PM10\",\"orientation\":\"v\",\"showlegend\":true,\"x\":[1,2,3,4,5,6,7,8,9,10,11,12],\"xaxis\":\"x\",\"y\":[-0.30768932704581015,-0.49304894269990496,-0.25821841266683204,-0.5867069734787844,-0.253714910319608,0.3847835432926923,0.07219218422480533,0.5115176604004225,-0.23874617299335402,-0.34113029857376553,-0.47151248190900374,-0.507973229944101],\"yaxis\":\"y\",\"type\":\"scatter\"},{\"hovertemplate\":\"Pollutant=SO_2\\u003cbr\\u003eyear=2012\\u003cbr\\u003eMonth=%{x}\\u003cbr\\u003eAverage Value=%{y}\\u003cextra\\u003e\\u003c\\u002fextra\\u003e\",\"legendgroup\":\"SO_2\",\"line\":{\"color\":\"#FF97FF\",\"dash\":\"solid\"},\"marker\":{\"symbol\":\"circle\"},\"mode\":\"lines\",\"name\":\"SO_2\",\"orientation\":\"v\",\"showlegend\":true,\"x\":[1,2,3,4,5,6,7,8,9,10,11,12],\"xaxis\":\"x\",\"y\":[-0.1461572703254234,-0.2354269867533654,-0.5155097451432719,-0.8658504485347952,-0.8767572180887953,-0.8757066381958339,-0.8675592771340486,-0.9040202435502388,-0.9157971093938486,-0.8377254859985361,-0.6644155297185445,-0.5473019413774405],\"yaxis\":\"y\",\"type\":\"scatter\"},{\"hovertemplate\":\"Pollutant=TCH\\u003cbr\\u003eyear=2012\\u003cbr\\u003eMonth=%{x}\\u003cbr\\u003eAverage Value=%{y}\\u003cextra\\u003e\\u003c\\u002fextra\\u003e\",\"legendgroup\":\"TCH\",\"line\":{\"color\":\"#FECB52\",\"dash\":\"solid\"},\"marker\":{\"symbol\":\"circle\"},\"mode\":\"lines\",\"name\":\"TCH\",\"orientation\":\"v\",\"showlegend\":true,\"x\":[1,2,3,4,5,6,7,8,9,10,11,12],\"xaxis\":\"x\",\"y\":[0.6999733985754257,-0.19350279382916064,-0.5016247063688966,-0.677947283520389,-0.6338816488348131,-0.6296197131365734,-0.5266382081296029,-0.3586929210643559,-0.34621307911498284,-0.08261512579504128,-0.05327109999023228,0.3452866195259739],\"yaxis\":\"y\",\"type\":\"scatter\"},{\"hovertemplate\":\"Pollutant=TOL\\u003cbr\\u003eyear=2012\\u003cbr\\u003eMonth=%{x}\\u003cbr\\u003eAverage Value=%{y}\\u003cextra\\u003e\\u003c\\u002fextra\\u003e\",\"legendgroup\":\"TOL\",\"line\":{\"color\":\"#636efa\",\"dash\":\"solid\"},\"marker\":{\"symbol\":\"circle\"},\"mode\":\"lines\",\"name\":\"TOL\",\"orientation\":\"v\",\"showlegend\":true,\"x\":[1,2,3,4,5,6,7,8,9,10,11,12],\"xaxis\":\"x\",\"y\":[-0.03732237885780317,-0.31760510936317277,-0.3548251156331952,-0.4702813246644486,-0.37517256178665953,-0.38441040598975407,-0.3596190759439048,-0.3212027058762148,-0.32450583327957067,-0.10394488847387814,-0.25648184897439363,-0.1778188751680601],\"yaxis\":\"y\",\"type\":\"scatter\"},{\"hovertemplate\":\"Pollutant=MXY\\u003cbr\\u003eyear=2012\\u003cbr\\u003eMonth=%{x}\\u003cbr\\u003eAverage Value=%{y}\\u003cextra\\u003e\\u003c\\u002fextra\\u003e\",\"legendgroup\":\"MXY\",\"line\":{\"color\":\"#EF553B\",\"dash\":\"solid\"},\"marker\":{\"symbol\":\"circle\"},\"mode\":\"lines\",\"name\":\"MXY\",\"orientation\":\"v\",\"showlegend\":true,\"x\":[1,2,3,4,5,6,7,8,9,10,11,12],\"xaxis\":\"x\",\"y\":[null,null,null,null,null,null,null,null,null,null,null,null],\"yaxis\":\"y\",\"type\":\"scatter\"},{\"hovertemplate\":\"Pollutant=OXY\\u003cbr\\u003eyear=2012\\u003cbr\\u003eMonth=%{x}\\u003cbr\\u003eAverage Value=%{y}\\u003cextra\\u003e\\u003c\\u002fextra\\u003e\",\"legendgroup\":\"OXY\",\"line\":{\"color\":\"#00cc96\",\"dash\":\"solid\"},\"marker\":{\"symbol\":\"circle\"},\"mode\":\"lines\",\"name\":\"OXY\",\"orientation\":\"v\",\"showlegend\":true,\"x\":[1,2,3,4,5,6,7,8,9,10,11,12],\"xaxis\":\"x\",\"y\":[null,null,null,null,null,null,null,null,null,null,null,null],\"yaxis\":\"y\",\"type\":\"scatter\"},{\"hovertemplate\":\"Pollutant=PXY\\u003cbr\\u003eyear=2012\\u003cbr\\u003eMonth=%{x}\\u003cbr\\u003eAverage Value=%{y}\\u003cextra\\u003e\\u003c\\u002fextra\\u003e\",\"legendgroup\":\"PXY\",\"line\":{\"color\":\"#ab63fa\",\"dash\":\"solid\"},\"marker\":{\"symbol\":\"circle\"},\"mode\":\"lines\",\"name\":\"PXY\",\"orientation\":\"v\",\"showlegend\":true,\"x\":[1,2,3,4,5,6,7,8,9,10,11,12],\"xaxis\":\"x\",\"y\":[null,null,null,null,null,null,null,null,null,null,null,null],\"yaxis\":\"y\",\"type\":\"scatter\"},{\"hovertemplate\":\"Pollutant=PM25\\u003cbr\\u003eyear=2012\\u003cbr\\u003eMonth=%{x}\\u003cbr\\u003eAverage Value=%{y}\\u003cextra\\u003e\\u003c\\u002fextra\\u003e\",\"legendgroup\":\"PM25\",\"line\":{\"color\":\"#FFA15A\",\"dash\":\"solid\"},\"marker\":{\"symbol\":\"circle\"},\"mode\":\"lines\",\"name\":\"PM25\",\"orientation\":\"v\",\"showlegend\":true,\"x\":[1,2,3,4,5,6,7,8,9,10,11,12],\"xaxis\":\"x\",\"y\":[0.0536766559515616,-0.28798527617515723,-0.26064511506273036,-0.5373322109823484,-0.2643874063410806,-0.023006901947917033,-0.10516123563515922,0.1381522743993198,-0.15633235466573336,-0.19689025291746254,-0.3320549434189626,-0.11036241376256284],\"yaxis\":\"y\",\"type\":\"scatter\"},{\"hovertemplate\":\"Pollutant=CH4\\u003cbr\\u003eyear=2012\\u003cbr\\u003eMonth=%{x}\\u003cbr\\u003eAverage Value=%{y}\\u003cextra\\u003e\\u003c\\u002fextra\\u003e\",\"legendgroup\":\"CH4\",\"line\":{\"color\":\"#19d3f3\",\"dash\":\"solid\"},\"marker\":{\"symbol\":\"circle\"},\"mode\":\"lines\",\"name\":\"CH4\",\"orientation\":\"v\",\"showlegend\":true,\"x\":[1,2,3,4,5,6,7,8,9,10,11,12],\"xaxis\":\"x\",\"y\":[null,null,null,null,null,null,null,null,null,null,null,null],\"yaxis\":\"y\",\"type\":\"scatter\"},{\"hovertemplate\":\"Pollutant=NO\\u003cbr\\u003eyear=2012\\u003cbr\\u003eMonth=%{x}\\u003cbr\\u003eAverage Value=%{y}\\u003cextra\\u003e\\u003c\\u002fextra\\u003e\",\"legendgroup\":\"NO\",\"line\":{\"color\":\"#FF6692\",\"dash\":\"solid\"},\"marker\":{\"symbol\":\"circle\"},\"mode\":\"lines\",\"name\":\"NO\",\"orientation\":\"v\",\"showlegend\":true,\"x\":[1,2,3,4,5,6,7,8,9,10,11,12],\"xaxis\":\"x\",\"y\":[1.0363077377674894,0.21815367043020964,-0.06738002325892198,-0.2904769870448841,-0.23496979497241832,-0.29952138662901506,-0.29927562851901757,-0.2546242890963551,-0.1874643142499035,0.1084341532124641,0.03621556738765927,0.5307949094183088],\"yaxis\":\"y\",\"type\":\"scatter\"}],\"name\":\"2012\"},{\"data\":[{\"hovertemplate\":\"Pollutant=BEN\\u003cbr\\u003eyear=2013\\u003cbr\\u003eMonth=%{x}\\u003cbr\\u003eAverage Value=%{y}\\u003cextra\\u003e\\u003c\\u002fextra\\u003e\",\"legendgroup\":\"BEN\",\"line\":{\"color\":\"#636efa\",\"dash\":\"solid\"},\"marker\":{\"symbol\":\"circle\"},\"mode\":\"lines\",\"name\":\"BEN\",\"orientation\":\"v\",\"showlegend\":true,\"x\":[1,2,3,4,5,6,7,8,9,10,11,12],\"xaxis\":\"x\",\"y\":[-0.04183549129159024,-0.19095131232593568,-0.3462711732696433,-0.38467804288854,-0.41060162566912967,-0.4195826709599057,-0.38200122808932874,-0.4132662517183652,-0.30599678034390687,-0.22641962803630494,-0.1938584497238183,-0.06950372340777668],\"yaxis\":\"y\",\"type\":\"scatter\"},{\"hovertemplate\":\"Pollutant=CO\\u003cbr\\u003eyear=2013\\u003cbr\\u003eMonth=%{x}\\u003cbr\\u003eAverage Value=%{y}\\u003cextra\\u003e\\u003c\\u002fextra\\u003e\",\"legendgroup\":\"CO\",\"line\":{\"color\":\"#EF553B\",\"dash\":\"solid\"},\"marker\":{\"symbol\":\"circle\"},\"mode\":\"lines\",\"name\":\"CO\",\"orientation\":\"v\",\"showlegend\":true,\"x\":[1,2,3,4,5,6,7,8,9,10,11,12],\"xaxis\":\"x\",\"y\":[-0.213112377118661,-0.32021034795668846,-0.4553423931323981,-0.49104464619599947,-0.5363936308062233,-0.5896293626379431,-0.572629785916761,-0.596668875958082,-0.48530036153720196,-0.3744994800678568,-0.3167230618586249,-0.00820722544401855],\"yaxis\":\"y\",\"type\":\"scatter\"},{\"hovertemplate\":\"Pollutant=EBE\\u003cbr\\u003eyear=2013\\u003cbr\\u003eMonth=%{x}\\u003cbr\\u003eAverage Value=%{y}\\u003cextra\\u003e\\u003c\\u002fextra\\u003e\",\"legendgroup\":\"EBE\",\"line\":{\"color\":\"#00cc96\",\"dash\":\"solid\"},\"marker\":{\"symbol\":\"circle\"},\"mode\":\"lines\",\"name\":\"EBE\",\"orientation\":\"v\",\"showlegend\":true,\"x\":[1,2,3,4,5,6,7,8,9,10,11,12],\"xaxis\":\"x\",\"y\":[-0.2230077649432703,-0.2950003744058305,-0.3228927350117712,-0.3191537303150659,-0.31180527735014935,-0.309440144221432,-0.26995012879469116,-0.27707560520017693,-0.2025490503512321,-0.22413407007857525,-0.3055543779935986,-0.27758142151143017],\"yaxis\":\"y\",\"type\":\"scatter\"},{\"hovertemplate\":\"Pollutant=NMHC\\u003cbr\\u003eyear=2013\\u003cbr\\u003eMonth=%{x}\\u003cbr\\u003eAverage Value=%{y}\\u003cextra\\u003e\\u003c\\u002fextra\\u003e\",\"legendgroup\":\"NMHC\",\"line\":{\"color\":\"#ab63fa\",\"dash\":\"solid\"},\"marker\":{\"symbol\":\"circle\"},\"mode\":\"lines\",\"name\":\"NMHC\",\"orientation\":\"v\",\"showlegend\":true,\"x\":[1,2,3,4,5,6,7,8,9,10,11,12],\"xaxis\":\"x\",\"y\":[0.2327151272479051,0.13353856976172188,-0.02723684585287812,-0.01799979973045289,-0.035252545032596574,-0.20415526423260028,-0.16771819808765911,-0.20009506125901516,-0.0695200547978486,0.12327131432568156,0.17916208347802606,0.4565096074047869],\"yaxis\":\"y\",\"type\":\"scatter\"},{\"hovertemplate\":\"Pollutant=NOx\\u003cbr\\u003eyear=2013\\u003cbr\\u003eMonth=%{x}\\u003cbr\\u003eAverage Value=%{y}\\u003cextra\\u003e\\u003c\\u002fextra\\u003e\",\"legendgroup\":\"NOx\",\"line\":{\"color\":\"#FFA15A\",\"dash\":\"solid\"},\"marker\":{\"symbol\":\"circle\"},\"mode\":\"lines\",\"name\":\"NOx\",\"orientation\":\"v\",\"showlegend\":true,\"x\":[1,2,3,4,5,6,7,8,9,10,11,12],\"xaxis\":\"x\",\"y\":[null,null,null,null,null,null,null,null,null,null,null,null],\"yaxis\":\"y\",\"type\":\"scatter\"},{\"hovertemplate\":\"Pollutant=NO_2\\u003cbr\\u003eyear=2013\\u003cbr\\u003eMonth=%{x}\\u003cbr\\u003eAverage Value=%{y}\\u003cextra\\u003e\\u003c\\u002fextra\\u003e\",\"legendgroup\":\"NO_2\",\"line\":{\"color\":\"#19d3f3\",\"dash\":\"solid\"},\"marker\":{\"symbol\":\"circle\"},\"mode\":\"lines\",\"name\":\"NO_2\",\"orientation\":\"v\",\"showlegend\":true,\"x\":[1,2,3,4,5,6,7,8,9,10,11,12],\"xaxis\":\"x\",\"y\":[-0.1797388764131828,-0.35109209138084635,-0.6343950149783174,-0.6902062310444682,-0.7175261707085652,-0.765735795567039,-0.6261797578928413,-0.7219815114656347,-0.3791755054903702,-0.2652892623599249,-0.3199457464973651,0.17908754672986207],\"yaxis\":\"y\",\"type\":\"scatter\"},{\"hovertemplate\":\"Pollutant=O_3\\u003cbr\\u003eyear=2013\\u003cbr\\u003eMonth=%{x}\\u003cbr\\u003eAverage Value=%{y}\\u003cextra\\u003e\\u003c\\u002fextra\\u003e\",\"legendgroup\":\"O_3\",\"line\":{\"color\":\"#FF6692\",\"dash\":\"solid\"},\"marker\":{\"symbol\":\"circle\"},\"mode\":\"lines\",\"name\":\"O_3\",\"orientation\":\"v\",\"showlegend\":true,\"x\":[1,2,3,4,5,6,7,8,9,10,11,12],\"xaxis\":\"x\",\"y\":[-0.4297509152355803,-0.13906771188872322,0.27797686560586443,0.6250628339488242,0.8264818039762185,1.1296526057785732,1.4139777757898442,1.1235056225725684,0.4504304742156345,-0.35293367094625827,-0.34302320332943004,-0.5996640191461032],\"yaxis\":\"y\",\"type\":\"scatter\"},{\"hovertemplate\":\"Pollutant=PM10\\u003cbr\\u003eyear=2013\\u003cbr\\u003eMonth=%{x}\\u003cbr\\u003eAverage Value=%{y}\\u003cextra\\u003e\\u003c\\u002fextra\\u003e\",\"legendgroup\":\"PM10\",\"line\":{\"color\":\"#B6E880\",\"dash\":\"solid\"},\"marker\":{\"symbol\":\"circle\"},\"mode\":\"lines\",\"name\":\"PM10\",\"orientation\":\"v\",\"showlegend\":true,\"x\":[1,2,3,4,5,6,7,8,9,10,11,12],\"xaxis\":\"x\",\"y\":[-0.5683070191350091,-0.6696776272564242,-0.6614421857480065,-0.4771202331930348,-0.5690045460918833,-0.27654339787791066,0.0529606919124907,-0.021873846911223023,-0.26712626568503345,-0.3777951441192784,-0.5723788224504952,-0.5028794350828382],\"yaxis\":\"y\",\"type\":\"scatter\"},{\"hovertemplate\":\"Pollutant=SO_2\\u003cbr\\u003eyear=2013\\u003cbr\\u003eMonth=%{x}\\u003cbr\\u003eAverage Value=%{y}\\u003cextra\\u003e\\u003c\\u002fextra\\u003e\",\"legendgroup\":\"SO_2\",\"line\":{\"color\":\"#FF97FF\",\"dash\":\"solid\"},\"marker\":{\"symbol\":\"circle\"},\"mode\":\"lines\",\"name\":\"SO_2\",\"orientation\":\"v\",\"showlegend\":true,\"x\":[1,2,3,4,5,6,7,8,9,10,11,12],\"xaxis\":\"x\",\"y\":[-0.5830540488830598,-0.5984757339061065,-0.7310739734577008,-0.7905860983089757,-0.8491560776798208,-0.8524793662279163,-0.8141567419270117,-0.8010482223569845,-0.7735862063030573,-0.7398513610986682,-0.4865436985575619,-0.17844297315034047],\"yaxis\":\"y\",\"type\":\"scatter\"},{\"hovertemplate\":\"Pollutant=TCH\\u003cbr\\u003eyear=2013\\u003cbr\\u003eMonth=%{x}\\u003cbr\\u003eAverage Value=%{y}\\u003cextra\\u003e\\u003c\\u002fextra\\u003e\",\"legendgroup\":\"TCH\",\"line\":{\"color\":\"#FECB52\",\"dash\":\"solid\"},\"marker\":{\"symbol\":\"circle\"},\"mode\":\"lines\",\"name\":\"TCH\",\"orientation\":\"v\",\"showlegend\":true,\"x\":[1,2,3,4,5,6,7,8,9,10,11,12],\"xaxis\":\"x\",\"y\":[0.3331377242570995,0.03448749149976263,-0.14668699280535158,-0.21753915035842233,-0.24073288555525268,-0.43149552551561665,-0.35501040955728047,-0.3186400924654643,-0.12147048513777309,0.14947373373531142,0.12756017524424382,0.5179465587269141],\"yaxis\":\"y\",\"type\":\"scatter\"},{\"hovertemplate\":\"Pollutant=TOL\\u003cbr\\u003eyear=2013\\u003cbr\\u003eMonth=%{x}\\u003cbr\\u003eAverage Value=%{y}\\u003cextra\\u003e\\u003c\\u002fextra\\u003e\",\"legendgroup\":\"TOL\",\"line\":{\"color\":\"#636efa\",\"dash\":\"solid\"},\"marker\":{\"symbol\":\"circle\"},\"mode\":\"lines\",\"name\":\"TOL\",\"orientation\":\"v\",\"showlegend\":true,\"x\":[1,2,3,4,5,6,7,8,9,10,11,12],\"xaxis\":\"x\",\"y\":[-0.27837790031780457,-0.40699416798009275,-0.5148426484672987,-0.49270271501925966,-0.4781990448158712,-0.46852456097454476,-0.4229122595016542,-0.46104706585449406,-0.3236813714894305,-0.2545451525307081,-0.3100557714750542,-0.23113602756469195],\"yaxis\":\"y\",\"type\":\"scatter\"},{\"hovertemplate\":\"Pollutant=MXY\\u003cbr\\u003eyear=2013\\u003cbr\\u003eMonth=%{x}\\u003cbr\\u003eAverage Value=%{y}\\u003cextra\\u003e\\u003c\\u002fextra\\u003e\",\"legendgroup\":\"MXY\",\"line\":{\"color\":\"#EF553B\",\"dash\":\"solid\"},\"marker\":{\"symbol\":\"circle\"},\"mode\":\"lines\",\"name\":\"MXY\",\"orientation\":\"v\",\"showlegend\":true,\"x\":[1,2,3,4,5,6,7,8,9,10,11,12],\"xaxis\":\"x\",\"y\":[null,null,null,null,null,null,null,null,null,null,null,null],\"yaxis\":\"y\",\"type\":\"scatter\"},{\"hovertemplate\":\"Pollutant=OXY\\u003cbr\\u003eyear=2013\\u003cbr\\u003eMonth=%{x}\\u003cbr\\u003eAverage Value=%{y}\\u003cextra\\u003e\\u003c\\u002fextra\\u003e\",\"legendgroup\":\"OXY\",\"line\":{\"color\":\"#00cc96\",\"dash\":\"solid\"},\"marker\":{\"symbol\":\"circle\"},\"mode\":\"lines\",\"name\":\"OXY\",\"orientation\":\"v\",\"showlegend\":true,\"x\":[1,2,3,4,5,6,7,8,9,10,11,12],\"xaxis\":\"x\",\"y\":[null,null,null,null,null,null,null,null,null,null,null,null],\"yaxis\":\"y\",\"type\":\"scatter\"},{\"hovertemplate\":\"Pollutant=PXY\\u003cbr\\u003eyear=2013\\u003cbr\\u003eMonth=%{x}\\u003cbr\\u003eAverage Value=%{y}\\u003cextra\\u003e\\u003c\\u002fextra\\u003e\",\"legendgroup\":\"PXY\",\"line\":{\"color\":\"#ab63fa\",\"dash\":\"solid\"},\"marker\":{\"symbol\":\"circle\"},\"mode\":\"lines\",\"name\":\"PXY\",\"orientation\":\"v\",\"showlegend\":true,\"x\":[1,2,3,4,5,6,7,8,9,10,11,12],\"xaxis\":\"x\",\"y\":[null,null,null,null,null,null,null,null,null,null,null,null],\"yaxis\":\"y\",\"type\":\"scatter\"},{\"hovertemplate\":\"Pollutant=PM25\\u003cbr\\u003eyear=2013\\u003cbr\\u003eMonth=%{x}\\u003cbr\\u003eAverage Value=%{y}\\u003cextra\\u003e\\u003c\\u002fextra\\u003e\",\"legendgroup\":\"PM25\",\"line\":{\"color\":\"#FFA15A\",\"dash\":\"solid\"},\"marker\":{\"symbol\":\"circle\"},\"mode\":\"lines\",\"name\":\"PM25\",\"orientation\":\"v\",\"showlegend\":true,\"x\":[1,2,3,4,5,6,7,8,9,10,11,12],\"xaxis\":\"x\",\"y\":[-0.2844779738647593,-0.42491551857671006,-0.5529853428846413,-0.4231497623805229,-0.5170422701421369,-0.3788208920120816,-0.08448310429024238,-0.20059610161131183,-0.24716348337944796,-0.31792022490075994,-0.48760624962882737,-0.16053204802729848],\"yaxis\":\"y\",\"type\":\"scatter\"},{\"hovertemplate\":\"Pollutant=CH4\\u003cbr\\u003eyear=2013\\u003cbr\\u003eMonth=%{x}\\u003cbr\\u003eAverage Value=%{y}\\u003cextra\\u003e\\u003c\\u002fextra\\u003e\",\"legendgroup\":\"CH4\",\"line\":{\"color\":\"#19d3f3\",\"dash\":\"solid\"},\"marker\":{\"symbol\":\"circle\"},\"mode\":\"lines\",\"name\":\"CH4\",\"orientation\":\"v\",\"showlegend\":true,\"x\":[1,2,3,4,5,6,7,8,9,10,11,12],\"xaxis\":\"x\",\"y\":[null,null,null,null,null,null,null,null,null,null,null,null],\"yaxis\":\"y\",\"type\":\"scatter\"},{\"hovertemplate\":\"Pollutant=NO\\u003cbr\\u003eyear=2013\\u003cbr\\u003eMonth=%{x}\\u003cbr\\u003eAverage Value=%{y}\\u003cextra\\u003e\\u003c\\u002fextra\\u003e\",\"legendgroup\":\"NO\",\"line\":{\"color\":\"#FF6692\",\"dash\":\"solid\"},\"marker\":{\"symbol\":\"circle\"},\"mode\":\"lines\",\"name\":\"NO\",\"orientation\":\"v\",\"showlegend\":true,\"x\":[1,2,3,4,5,6,7,8,9,10,11,12],\"xaxis\":\"x\",\"y\":[0.38439158735558393,0.06718169899435152,-0.26041601288219685,-0.2821889930556761,-0.29519646076980094,-0.3202348060320002,-0.32234241621098714,-0.3394943627976128,-0.15889805148309474,0.05359035370945667,0.05611433530991759,0.6394320456939299],\"yaxis\":\"y\",\"type\":\"scatter\"}],\"name\":\"2013\"},{\"data\":[{\"hovertemplate\":\"Pollutant=BEN\\u003cbr\\u003eyear=2014\\u003cbr\\u003eMonth=%{x}\\u003cbr\\u003eAverage Value=%{y}\\u003cextra\\u003e\\u003c\\u002fextra\\u003e\",\"legendgroup\":\"BEN\",\"line\":{\"color\":\"#636efa\",\"dash\":\"solid\"},\"marker\":{\"symbol\":\"circle\"},\"mode\":\"lines\",\"name\":\"BEN\",\"orientation\":\"v\",\"showlegend\":true,\"x\":[1,2,3,4,5,6,7,8,9,10,11,12],\"xaxis\":\"x\",\"y\":[-0.22955303897734275,-0.2829288836985049,-0.28535038659711726,-0.4025504718274979,-0.4302543020901635,-0.42819102733690795,-0.4344043391736332,-0.45652992937300724,-0.3622968183984458,-0.16126888250003654,-0.1902122410843572,-0.024582681225832907],\"yaxis\":\"y\",\"type\":\"scatter\"},{\"hovertemplate\":\"Pollutant=CO\\u003cbr\\u003eyear=2014\\u003cbr\\u003eMonth=%{x}\\u003cbr\\u003eAverage Value=%{y}\\u003cextra\\u003e\\u003c\\u002fextra\\u003e\",\"legendgroup\":\"CO\",\"line\":{\"color\":\"#EF553B\",\"dash\":\"solid\"},\"marker\":{\"symbol\":\"circle\"},\"mode\":\"lines\",\"name\":\"CO\",\"orientation\":\"v\",\"showlegend\":true,\"x\":[1,2,3,4,5,6,7,8,9,10,11,12],\"xaxis\":\"x\",\"y\":[-0.23967264116529202,-0.30631548068913983,-0.26192857365768374,-0.39664984202010706,-0.47648229217116084,-0.5057724087372115,-0.5414898166838862,-0.5492986865795048,-0.4224105578289739,-0.2215115253087223,-0.1764419244243862,0.02277378982859219],\"yaxis\":\"y\",\"type\":\"scatter\"},{\"hovertemplate\":\"Pollutant=EBE\\u003cbr\\u003eyear=2014\\u003cbr\\u003eMonth=%{x}\\u003cbr\\u003eAverage Value=%{y}\\u003cextra\\u003e\\u003c\\u002fextra\\u003e\",\"legendgroup\":\"EBE\",\"line\":{\"color\":\"#00cc96\",\"dash\":\"solid\"},\"marker\":{\"symbol\":\"circle\"},\"mode\":\"lines\",\"name\":\"EBE\",\"orientation\":\"v\",\"showlegend\":true,\"x\":[1,2,3,4,5,6,7,8,9,10,11,12],\"xaxis\":\"x\",\"y\":[-0.32073014577584,-0.5166511337266998,-0.49710981667013326,-0.5220709283274834,-0.5363055072569779,-0.5249827181083958,-0.517906500370272,-0.5377274897685044,-0.4673733768023913,-0.25590046959483587,-0.3282991653717541,-0.26049368254253275],\"yaxis\":\"y\",\"type\":\"scatter\"},{\"hovertemplate\":\"Pollutant=NMHC\\u003cbr\\u003eyear=2014\\u003cbr\\u003eMonth=%{x}\\u003cbr\\u003eAverage Value=%{y}\\u003cextra\\u003e\\u003c\\u002fextra\\u003e\",\"legendgroup\":\"NMHC\",\"line\":{\"color\":\"#ab63fa\",\"dash\":\"solid\"},\"marker\":{\"symbol\":\"circle\"},\"mode\":\"lines\",\"name\":\"NMHC\",\"orientation\":\"v\",\"showlegend\":true,\"x\":[1,2,3,4,5,6,7,8,9,10,11,12],\"xaxis\":\"x\",\"y\":[0.19510422929536425,0.1837540146880052,0.15870685067628845,0.352571503093465,0.5076126551718568,0.33579641172855995,0.30857330369277064,0.5623858292114814,0.6242443284672801,1.0775063623358112,0.8843949681318061,1.5563820368954857],\"yaxis\":\"y\",\"type\":\"scatter\"},{\"hovertemplate\":\"Pollutant=NOx\\u003cbr\\u003eyear=2014\\u003cbr\\u003eMonth=%{x}\\u003cbr\\u003eAverage Value=%{y}\\u003cextra\\u003e\\u003c\\u002fextra\\u003e\",\"legendgroup\":\"NOx\",\"line\":{\"color\":\"#FFA15A\",\"dash\":\"solid\"},\"marker\":{\"symbol\":\"circle\"},\"mode\":\"lines\",\"name\":\"NOx\",\"orientation\":\"v\",\"showlegend\":true,\"x\":[1,2,3,4,5,6,7,8,9,10,11,12],\"xaxis\":\"x\",\"y\":[null,null,null,null,null,null,null,null,null,null,null,null],\"yaxis\":\"y\",\"type\":\"scatter\"},{\"hovertemplate\":\"Pollutant=NO_2\\u003cbr\\u003eyear=2014\\u003cbr\\u003eMonth=%{x}\\u003cbr\\u003eAverage Value=%{y}\\u003cextra\\u003e\\u003c\\u002fextra\\u003e\",\"legendgroup\":\"NO_2\",\"line\":{\"color\":\"#19d3f3\",\"dash\":\"solid\"},\"marker\":{\"symbol\":\"circle\"},\"mode\":\"lines\",\"name\":\"NO_2\",\"orientation\":\"v\",\"showlegend\":true,\"x\":[1,2,3,4,5,6,7,8,9,10,11,12],\"xaxis\":\"x\",\"y\":[-0.3490173413845568,-0.43669386443266484,-0.35204124314999546,-0.6039135023084442,-0.7447174398716168,-0.717947265891039,-0.666098438320907,-0.7930054354299598,-0.5058286314203282,-0.17769864944221295,-0.2587130495096749,0.25362835954411084],\"yaxis\":\"y\",\"type\":\"scatter\"},{\"hovertemplate\":\"Pollutant=O_3\\u003cbr\\u003eyear=2014\\u003cbr\\u003eMonth=%{x}\\u003cbr\\u003eAverage Value=%{y}\\u003cextra\\u003e\\u003c\\u002fextra\\u003e\",\"legendgroup\":\"O_3\",\"line\":{\"color\":\"#FF6692\",\"dash\":\"solid\"},\"marker\":{\"symbol\":\"circle\"},\"mode\":\"lines\",\"name\":\"O_3\",\"orientation\":\"v\",\"showlegend\":true,\"x\":[1,2,3,4,5,6,7,8,9,10,11,12],\"xaxis\":\"x\",\"y\":[-0.1811619006029074,0.03820485536459949,0.35327668275355,0.4521122252766644,1.0656311373714498,1.195088343797484,1.199049713220592,1.0491278121127838,0.42317321855145645,-0.16143937196103827,-0.2161956895000547,-0.590755306260917],\"yaxis\":\"y\",\"type\":\"scatter\"},{\"hovertemplate\":\"Pollutant=PM10\\u003cbr\\u003eyear=2014\\u003cbr\\u003eMonth=%{x}\\u003cbr\\u003eAverage Value=%{y}\\u003cextra\\u003e\\u003c\\u002fextra\\u003e\",\"legendgroup\":\"PM10\",\"line\":{\"color\":\"#B6E880\",\"dash\":\"solid\"},\"marker\":{\"symbol\":\"circle\"},\"mode\":\"lines\",\"name\":\"PM10\",\"orientation\":\"v\",\"showlegend\":true,\"x\":[1,2,3,4,5,6,7,8,9,10,11,12],\"xaxis\":\"x\",\"y\":[-0.610988243108407,-0.6368114815237877,-0.383448845054102,-0.44980833422973504,-0.45369160055839597,-0.3359983191600235,-0.29185565295831534,-0.2580443173514242,-0.3368173272087338,-0.08050096909224452,-0.2933665469620167,-0.34980786630809924],\"yaxis\":\"y\",\"type\":\"scatter\"},{\"hovertemplate\":\"Pollutant=SO_2\\u003cbr\\u003eyear=2014\\u003cbr\\u003eMonth=%{x}\\u003cbr\\u003eAverage Value=%{y}\\u003cextra\\u003e\\u003c\\u002fextra\\u003e\",\"legendgroup\":\"SO_2\",\"line\":{\"color\":\"#FF97FF\",\"dash\":\"solid\"},\"marker\":{\"symbol\":\"circle\"},\"mode\":\"lines\",\"name\":\"SO_2\",\"orientation\":\"v\",\"showlegend\":true,\"x\":[1,2,3,4,5,6,7,8,9,10,11,12],\"xaxis\":\"x\",\"y\":[-0.5248396687841421,-0.6014037550103849,-0.4623257116205595,-0.6519989369836009,-0.7683149623473131,-0.7486466720721399,-0.7133955148967299,-0.7089066671290521,-0.751383881449371,-0.7497873996281392,-0.5720067415071737,-0.16410446856980315],\"yaxis\":\"y\",\"type\":\"scatter\"},{\"hovertemplate\":\"Pollutant=TCH\\u003cbr\\u003eyear=2014\\u003cbr\\u003eMonth=%{x}\\u003cbr\\u003eAverage Value=%{y}\\u003cextra\\u003e\\u003c\\u002fextra\\u003e\",\"legendgroup\":\"TCH\",\"line\":{\"color\":\"#FECB52\",\"dash\":\"solid\"},\"marker\":{\"symbol\":\"circle\"},\"mode\":\"lines\",\"name\":\"TCH\",\"orientation\":\"v\",\"showlegend\":true,\"x\":[1,2,3,4,5,6,7,8,9,10,11,12],\"xaxis\":\"x\",\"y\":[0.14193326971770934,0.10586295848787636,-0.4076259531837926,-0.1621070449106698,-0.37135110317111214,-0.5246061101580565,-0.538343402256996,-0.7448821463616515,-0.6257252851331074,-0.009298959793587837,0.4727747511947212,1.1760020175820949],\"yaxis\":\"y\",\"type\":\"scatter\"},{\"hovertemplate\":\"Pollutant=TOL\\u003cbr\\u003eyear=2014\\u003cbr\\u003eMonth=%{x}\\u003cbr\\u003eAverage Value=%{y}\\u003cextra\\u003e\\u003c\\u002fextra\\u003e\",\"legendgroup\":\"TOL\",\"line\":{\"color\":\"#636efa\",\"dash\":\"solid\"},\"marker\":{\"symbol\":\"circle\"},\"mode\":\"lines\",\"name\":\"TOL\",\"orientation\":\"v\",\"showlegend\":true,\"x\":[1,2,3,4,5,6,7,8,9,10,11,12],\"xaxis\":\"x\",\"y\":[-0.3974306573564265,-0.4650056297891127,-0.4361040826908599,-0.4648055468815224,-0.4739530500658629,-0.44974700500849396,-0.4313772860458787,-0.43893092608418904,-0.37274210491718307,-0.08914811943230024,-0.2958961142205965,-0.14480292254498064],\"yaxis\":\"y\",\"type\":\"scatter\"},{\"hovertemplate\":\"Pollutant=MXY\\u003cbr\\u003eyear=2014\\u003cbr\\u003eMonth=%{x}\\u003cbr\\u003eAverage Value=%{y}\\u003cextra\\u003e\\u003c\\u002fextra\\u003e\",\"legendgroup\":\"MXY\",\"line\":{\"color\":\"#EF553B\",\"dash\":\"solid\"},\"marker\":{\"symbol\":\"circle\"},\"mode\":\"lines\",\"name\":\"MXY\",\"orientation\":\"v\",\"showlegend\":true,\"x\":[1,2,3,4,5,6,7,8,9,10,11,12],\"xaxis\":\"x\",\"y\":[null,null,null,null,null,null,null,null,null,null,null,null],\"yaxis\":\"y\",\"type\":\"scatter\"},{\"hovertemplate\":\"Pollutant=OXY\\u003cbr\\u003eyear=2014\\u003cbr\\u003eMonth=%{x}\\u003cbr\\u003eAverage Value=%{y}\\u003cextra\\u003e\\u003c\\u002fextra\\u003e\",\"legendgroup\":\"OXY\",\"line\":{\"color\":\"#00cc96\",\"dash\":\"solid\"},\"marker\":{\"symbol\":\"circle\"},\"mode\":\"lines\",\"name\":\"OXY\",\"orientation\":\"v\",\"showlegend\":true,\"x\":[1,2,3,4,5,6,7,8,9,10,11,12],\"xaxis\":\"x\",\"y\":[null,null,null,null,null,null,null,null,null,null,null,null],\"yaxis\":\"y\",\"type\":\"scatter\"},{\"hovertemplate\":\"Pollutant=PXY\\u003cbr\\u003eyear=2014\\u003cbr\\u003eMonth=%{x}\\u003cbr\\u003eAverage Value=%{y}\\u003cextra\\u003e\\u003c\\u002fextra\\u003e\",\"legendgroup\":\"PXY\",\"line\":{\"color\":\"#ab63fa\",\"dash\":\"solid\"},\"marker\":{\"symbol\":\"circle\"},\"mode\":\"lines\",\"name\":\"PXY\",\"orientation\":\"v\",\"showlegend\":true,\"x\":[1,2,3,4,5,6,7,8,9,10,11,12],\"xaxis\":\"x\",\"y\":[null,null,null,null,null,null,null,null,null,null,null,null],\"yaxis\":\"y\",\"type\":\"scatter\"},{\"hovertemplate\":\"Pollutant=PM25\\u003cbr\\u003eyear=2014\\u003cbr\\u003eMonth=%{x}\\u003cbr\\u003eAverage Value=%{y}\\u003cextra\\u003e\\u003c\\u002fextra\\u003e\",\"legendgroup\":\"PM25\",\"line\":{\"color\":\"#FFA15A\",\"dash\":\"solid\"},\"marker\":{\"symbol\":\"circle\"},\"mode\":\"lines\",\"name\":\"PM25\",\"orientation\":\"v\",\"showlegend\":true,\"x\":[1,2,3,4,5,6,7,8,9,10,11,12],\"xaxis\":\"x\",\"y\":[-0.45590812925543484,-0.5284006556667974,-0.2532690101299526,-0.3657855610286901,-0.33947790689127755,-0.284235467173144,-0.22585115061234123,-0.29491293784427497,-0.2486813489448797,-0.010085004751688414,-0.22323846537680575,-0.12006156023631687],\"yaxis\":\"y\",\"type\":\"scatter\"},{\"hovertemplate\":\"Pollutant=CH4\\u003cbr\\u003eyear=2014\\u003cbr\\u003eMonth=%{x}\\u003cbr\\u003eAverage Value=%{y}\\u003cextra\\u003e\\u003c\\u002fextra\\u003e\",\"legendgroup\":\"CH4\",\"line\":{\"color\":\"#19d3f3\",\"dash\":\"solid\"},\"marker\":{\"symbol\":\"circle\"},\"mode\":\"lines\",\"name\":\"CH4\",\"orientation\":\"v\",\"showlegend\":true,\"x\":[1,2,3,4,5,6,7,8,9,10,11,12],\"xaxis\":\"x\",\"y\":[null,null,null,null,null,null,null,null,null,null,null,null],\"yaxis\":\"y\",\"type\":\"scatter\"},{\"hovertemplate\":\"Pollutant=NO\\u003cbr\\u003eyear=2014\\u003cbr\\u003eMonth=%{x}\\u003cbr\\u003eAverage Value=%{y}\\u003cextra\\u003e\\u003c\\u002fextra\\u003e\",\"legendgroup\":\"NO\",\"line\":{\"color\":\"#FF6692\",\"dash\":\"solid\"},\"marker\":{\"symbol\":\"circle\"},\"mode\":\"lines\",\"name\":\"NO\",\"orientation\":\"v\",\"showlegend\":true,\"x\":[1,2,3,4,5,6,7,8,9,10,11,12],\"xaxis\":\"x\",\"y\":[0.06518891573305453,-0.11932817415333796,-0.11863338670188252,-0.22785311131962957,-0.32035028567530155,-0.32675895870347077,-0.31856127399068435,-0.33873108065983987,-0.2094892688865938,0.1798619098814405,0.01934412001700292,0.8826745755003069],\"yaxis\":\"y\",\"type\":\"scatter\"}],\"name\":\"2014\"},{\"data\":[{\"hovertemplate\":\"Pollutant=BEN\\u003cbr\\u003eyear=2015\\u003cbr\\u003eMonth=%{x}\\u003cbr\\u003eAverage Value=%{y}\\u003cextra\\u003e\\u003c\\u002fextra\\u003e\",\"legendgroup\":\"BEN\",\"line\":{\"color\":\"#636efa\",\"dash\":\"solid\"},\"marker\":{\"symbol\":\"circle\"},\"mode\":\"lines\",\"name\":\"BEN\",\"orientation\":\"v\",\"showlegend\":true,\"x\":[1,2,3,4,5,6,7,8,9,10,11,12],\"xaxis\":\"x\",\"y\":[0.02989965758207178,-0.28968013315947944,-0.2790917424800045,-0.4213019719460338,-0.44245213677389367,-0.44012064812580415,-0.3796825662186815,-0.4424086683868743,-0.38495358220930864,-0.2108007784421735,0.038179052813096005,0.06769781865393457],\"yaxis\":\"y\",\"type\":\"scatter\"},{\"hovertemplate\":\"Pollutant=CO\\u003cbr\\u003eyear=2015\\u003cbr\\u003eMonth=%{x}\\u003cbr\\u003eAverage Value=%{y}\\u003cextra\\u003e\\u003c\\u002fextra\\u003e\",\"legendgroup\":\"CO\",\"line\":{\"color\":\"#EF553B\",\"dash\":\"solid\"},\"marker\":{\"symbol\":\"circle\"},\"mode\":\"lines\",\"name\":\"CO\",\"orientation\":\"v\",\"showlegend\":true,\"x\":[1,2,3,4,5,6,7,8,9,10,11,12],\"xaxis\":\"x\",\"y\":[0.08292514347958935,-0.3340078990693587,-0.31617507327348054,-0.48075536003314046,-0.5417597769676146,-0.5681639818603137,-0.5590386827707997,-0.5843052002599697,-0.5080724631983067,-0.3668469160017948,-0.05815397482025457,0.10239816956275573],\"yaxis\":\"y\",\"type\":\"scatter\"},{\"hovertemplate\":\"Pollutant=EBE\\u003cbr\\u003eyear=2015\\u003cbr\\u003eMonth=%{x}\\u003cbr\\u003eAverage Value=%{y}\\u003cextra\\u003e\\u003c\\u002fextra\\u003e\",\"legendgroup\":\"EBE\",\"line\":{\"color\":\"#00cc96\",\"dash\":\"solid\"},\"marker\":{\"symbol\":\"circle\"},\"mode\":\"lines\",\"name\":\"EBE\",\"orientation\":\"v\",\"showlegend\":true,\"x\":[1,2,3,4,5,6,7,8,9,10,11,12],\"xaxis\":\"x\",\"y\":[-0.20330861053377572,-0.46771811484349646,-0.41726508283601577,-0.5192571967389085,-0.5142709586580224,-0.5223044667587018,-0.5505644527617081,-0.5546017254103341,-0.4982441922310604,-0.3990549472681422,-0.20370181217040925,-0.26206513701480966],\"yaxis\":\"y\",\"type\":\"scatter\"},{\"hovertemplate\":\"Pollutant=NMHC\\u003cbr\\u003eyear=2015\\u003cbr\\u003eMonth=%{x}\\u003cbr\\u003eAverage Value=%{y}\\u003cextra\\u003e\\u003c\\u002fextra\\u003e\",\"legendgroup\":\"NMHC\",\"line\":{\"color\":\"#ab63fa\",\"dash\":\"solid\"},\"marker\":{\"symbol\":\"circle\"},\"mode\":\"lines\",\"name\":\"NMHC\",\"orientation\":\"v\",\"showlegend\":true,\"x\":[1,2,3,4,5,6,7,8,9,10,11,12],\"xaxis\":\"x\",\"y\":[2.2295652705330915,1.1646566964069043,1.2736891989234627,1.2538673012509938,-0.24689999307569904,0.28701831005546175,0.47166083360370464,0.18533714171611504,-0.14965306491967875,-0.09804142711411423,-0.30402283942255337,-0.284062013589819],\"yaxis\":\"y\",\"type\":\"scatter\"},{\"hovertemplate\":\"Pollutant=NOx\\u003cbr\\u003eyear=2015\\u003cbr\\u003eMonth=%{x}\\u003cbr\\u003eAverage Value=%{y}\\u003cextra\\u003e\\u003c\\u002fextra\\u003e\",\"legendgroup\":\"NOx\",\"line\":{\"color\":\"#FFA15A\",\"dash\":\"solid\"},\"marker\":{\"symbol\":\"circle\"},\"mode\":\"lines\",\"name\":\"NOx\",\"orientation\":\"v\",\"showlegend\":true,\"x\":[1,2,3,4,5,6,7,8,9,10,11,12],\"xaxis\":\"x\",\"y\":[null,null,null,null,null,null,null,null,null,null,null,null],\"yaxis\":\"y\",\"type\":\"scatter\"},{\"hovertemplate\":\"Pollutant=NO_2\\u003cbr\\u003eyear=2015\\u003cbr\\u003eMonth=%{x}\\u003cbr\\u003eAverage Value=%{y}\\u003cextra\\u003e\\u003c\\u002fextra\\u003e\",\"legendgroup\":\"NO_2\",\"line\":{\"color\":\"#19d3f3\",\"dash\":\"solid\"},\"marker\":{\"symbol\":\"circle\"},\"mode\":\"lines\",\"name\":\"NO_2\",\"orientation\":\"v\",\"showlegend\":true,\"x\":[1,2,3,4,5,6,7,8,9,10,11,12],\"xaxis\":\"x\",\"y\":[0.452502870424277,-0.4156605967251359,-0.25655008220182424,-0.6139443905544664,-0.63833358246066,-0.5719072601955061,-0.49724855585410566,-0.6998492823494014,-0.4298211301186035,-0.23936511636192923,0.1734156739225364,0.41093213980541476],\"yaxis\":\"y\",\"type\":\"scatter\"},{\"hovertemplate\":\"Pollutant=O_3\\u003cbr\\u003eyear=2015\\u003cbr\\u003eMonth=%{x}\\u003cbr\\u003eAverage Value=%{y}\\u003cextra\\u003e\\u003c\\u002fextra\\u003e\",\"legendgroup\":\"O_3\",\"line\":{\"color\":\"#FF6692\",\"dash\":\"solid\"},\"marker\":{\"symbol\":\"circle\"},\"mode\":\"lines\",\"name\":\"O_3\",\"orientation\":\"v\",\"showlegend\":true,\"x\":[1,2,3,4,5,6,7,8,9,10,11,12],\"xaxis\":\"x\",\"y\":[-0.5630367677782827,0.2624704124949843,0.18302835564605424,0.81737164425411,1.006476239259388,1.3953608705082998,1.2477519815170002,0.9691949623415755,0.5524122704200516,-0.2517329330329312,-0.5168382273919959,-0.8335511274071159],\"yaxis\":\"y\",\"type\":\"scatter\"},{\"hovertemplate\":\"Pollutant=PM10\\u003cbr\\u003eyear=2015\\u003cbr\\u003eMonth=%{x}\\u003cbr\\u003eAverage Value=%{y}\\u003cextra\\u003e\\u003c\\u002fextra\\u003e\",\"legendgroup\":\"PM10\",\"line\":{\"color\":\"#B6E880\",\"dash\":\"solid\"},\"marker\":{\"symbol\":\"circle\"},\"mode\":\"lines\",\"name\":\"PM10\",\"orientation\":\"v\",\"showlegend\":true,\"x\":[1,2,3,4,5,6,7,8,9,10,11,12],\"xaxis\":\"x\",\"y\":[-0.41459390572870225,-0.651333884732138,-0.4602978202335905,-0.4210201486666593,-0.31326299341282887,-0.24289784203552267,-0.007402985804419582,-0.12202650058138907,-0.48523238548569275,-0.4281239262037012,-0.26877946263415664,0.12265685042525674],\"yaxis\":\"y\",\"type\":\"scatter\"},{\"hovertemplate\":\"Pollutant=SO_2\\u003cbr\\u003eyear=2015\\u003cbr\\u003eMonth=%{x}\\u003cbr\\u003eAverage Value=%{y}\\u003cextra\\u003e\\u003c\\u002fextra\\u003e\",\"legendgroup\":\"SO_2\",\"line\":{\"color\":\"#FF97FF\",\"dash\":\"solid\"},\"marker\":{\"symbol\":\"circle\"},\"mode\":\"lines\",\"name\":\"SO_2\",\"orientation\":\"v\",\"showlegend\":true,\"x\":[1,2,3,4,5,6,7,8,9,10,11,12],\"xaxis\":\"x\",\"y\":[-0.10457868192731362,-0.46347053407778654,-0.3828408977817026,-0.5836397889288406,-0.5966148947139531,-0.585509695266035,-0.6296198099032946,-0.55461216409981,-0.5015680489717455,-0.4379538950619204,-0.1918402641011633,0.050833120759452045],\"yaxis\":\"y\",\"type\":\"scatter\"},{\"hovertemplate\":\"Pollutant=TCH\\u003cbr\\u003eyear=2015\\u003cbr\\u003eMonth=%{x}\\u003cbr\\u003eAverage Value=%{y}\\u003cextra\\u003e\\u003c\\u002fextra\\u003e\",\"legendgroup\":\"TCH\",\"line\":{\"color\":\"#FECB52\",\"dash\":\"solid\"},\"marker\":{\"symbol\":\"circle\"},\"mode\":\"lines\",\"name\":\"TCH\",\"orientation\":\"v\",\"showlegend\":true,\"x\":[1,2,3,4,5,6,7,8,9,10,11,12],\"xaxis\":\"x\",\"y\":[1.3726857457853272,0.36798274989314844,0.3692877093141369,0.12624567770722564,0.10192902747027983,0.1887052413287356,0.2802587944068401,0.2790904984370564,0.38076694122013965,0.497007515255719,-0.15067654407462935,0.11591651421900524],\"yaxis\":\"y\",\"type\":\"scatter\"},{\"hovertemplate\":\"Pollutant=TOL\\u003cbr\\u003eyear=2015\\u003cbr\\u003eMonth=%{x}\\u003cbr\\u003eAverage Value=%{y}\\u003cextra\\u003e\\u003c\\u002fextra\\u003e\",\"legendgroup\":\"TOL\",\"line\":{\"color\":\"#636efa\",\"dash\":\"solid\"},\"marker\":{\"symbol\":\"circle\"},\"mode\":\"lines\",\"name\":\"TOL\",\"orientation\":\"v\",\"showlegend\":true,\"x\":[1,2,3,4,5,6,7,8,9,10,11,12],\"xaxis\":\"x\",\"y\":[-0.060110049090679483,-0.40574565868715823,-0.42180862399177604,-0.49310229647483517,-0.4526503049284322,-0.43726503454002036,-0.41110853865875746,-0.4886238165239,-0.41403297654966326,-0.27510393142338085,0.02568697318161563,-0.03845898715738527],\"yaxis\":\"y\",\"type\":\"scatter\"},{\"hovertemplate\":\"Pollutant=MXY\\u003cbr\\u003eyear=2015\\u003cbr\\u003eMonth=%{x}\\u003cbr\\u003eAverage Value=%{y}\\u003cextra\\u003e\\u003c\\u002fextra\\u003e\",\"legendgroup\":\"MXY\",\"line\":{\"color\":\"#EF553B\",\"dash\":\"solid\"},\"marker\":{\"symbol\":\"circle\"},\"mode\":\"lines\",\"name\":\"MXY\",\"orientation\":\"v\",\"showlegend\":true,\"x\":[1,2,3,4,5,6,7,8,9,10,11,12],\"xaxis\":\"x\",\"y\":[null,null,null,null,null,null,null,null,null,null,null,null],\"yaxis\":\"y\",\"type\":\"scatter\"},{\"hovertemplate\":\"Pollutant=OXY\\u003cbr\\u003eyear=2015\\u003cbr\\u003eMonth=%{x}\\u003cbr\\u003eAverage Value=%{y}\\u003cextra\\u003e\\u003c\\u002fextra\\u003e\",\"legendgroup\":\"OXY\",\"line\":{\"color\":\"#00cc96\",\"dash\":\"solid\"},\"marker\":{\"symbol\":\"circle\"},\"mode\":\"lines\",\"name\":\"OXY\",\"orientation\":\"v\",\"showlegend\":true,\"x\":[1,2,3,4,5,6,7,8,9,10,11,12],\"xaxis\":\"x\",\"y\":[null,null,null,null,null,null,null,null,null,null,null,null],\"yaxis\":\"y\",\"type\":\"scatter\"},{\"hovertemplate\":\"Pollutant=PXY\\u003cbr\\u003eyear=2015\\u003cbr\\u003eMonth=%{x}\\u003cbr\\u003eAverage Value=%{y}\\u003cextra\\u003e\\u003c\\u002fextra\\u003e\",\"legendgroup\":\"PXY\",\"line\":{\"color\":\"#ab63fa\",\"dash\":\"solid\"},\"marker\":{\"symbol\":\"circle\"},\"mode\":\"lines\",\"name\":\"PXY\",\"orientation\":\"v\",\"showlegend\":true,\"x\":[1,2,3,4,5,6,7,8,9,10,11,12],\"xaxis\":\"x\",\"y\":[null,null,null,null,null,null,null,null,null,null,null,null],\"yaxis\":\"y\",\"type\":\"scatter\"},{\"hovertemplate\":\"Pollutant=PM25\\u003cbr\\u003eyear=2015\\u003cbr\\u003eMonth=%{x}\\u003cbr\\u003eAverage Value=%{y}\\u003cextra\\u003e\\u003c\\u002fextra\\u003e\",\"legendgroup\":\"PM25\",\"line\":{\"color\":\"#FFA15A\",\"dash\":\"solid\"},\"marker\":{\"symbol\":\"circle\"},\"mode\":\"lines\",\"name\":\"PM25\",\"orientation\":\"v\",\"showlegend\":true,\"x\":[1,2,3,4,5,6,7,8,9,10,11,12],\"xaxis\":\"x\",\"y\":[-0.15001082932070922,-0.4835216374481765,-0.31574460474976,-0.4641867799467674,-0.452279914654837,-0.20652191215772805,-0.13347956093321225,-0.3084281417758571,-0.49983386258149043,-0.2883735326125606,0.0707960772676655,0.7782402856934316],\"yaxis\":\"y\",\"type\":\"scatter\"},{\"hovertemplate\":\"Pollutant=CH4\\u003cbr\\u003eyear=2015\\u003cbr\\u003eMonth=%{x}\\u003cbr\\u003eAverage Value=%{y}\\u003cextra\\u003e\\u003c\\u002fextra\\u003e\",\"legendgroup\":\"CH4\",\"line\":{\"color\":\"#19d3f3\",\"dash\":\"solid\"},\"marker\":{\"symbol\":\"circle\"},\"mode\":\"lines\",\"name\":\"CH4\",\"orientation\":\"v\",\"showlegend\":true,\"x\":[1,2,3,4,5,6,7,8,9,10,11,12],\"xaxis\":\"x\",\"y\":[null,null,null,null,null,null,null,null,null,null,null,null],\"yaxis\":\"y\",\"type\":\"scatter\"},{\"hovertemplate\":\"Pollutant=NO\\u003cbr\\u003eyear=2015\\u003cbr\\u003eMonth=%{x}\\u003cbr\\u003eAverage Value=%{y}\\u003cextra\\u003e\\u003c\\u002fextra\\u003e\",\"legendgroup\":\"NO\",\"line\":{\"color\":\"#FF6692\",\"dash\":\"solid\"},\"marker\":{\"symbol\":\"circle\"},\"mode\":\"lines\",\"name\":\"NO\",\"orientation\":\"v\",\"showlegend\":true,\"x\":[1,2,3,4,5,6,7,8,9,10,11,12],\"xaxis\":\"x\",\"y\":[0.9002884681629135,-0.15405937536116043,-0.014452279656055727,-0.29597108685275947,-0.30078367204200995,-0.3404297040368554,-0.32319698224968224,-0.3333803663887594,-0.22365836291240837,0.03992711712169499,0.7667803909847597,1.0290813874766849],\"yaxis\":\"y\",\"type\":\"scatter\"}],\"name\":\"2015\"},{\"data\":[{\"hovertemplate\":\"Pollutant=BEN\\u003cbr\\u003eyear=2016\\u003cbr\\u003eMonth=%{x}\\u003cbr\\u003eAverage Value=%{y}\\u003cextra\\u003e\\u003c\\u002fextra\\u003e\",\"legendgroup\":\"BEN\",\"line\":{\"color\":\"#636efa\",\"dash\":\"solid\"},\"marker\":{\"symbol\":\"circle\"},\"mode\":\"lines\",\"name\":\"BEN\",\"orientation\":\"v\",\"showlegend\":true,\"x\":[1,2,3,4,5,6,7,8,9,10,11,12],\"xaxis\":\"x\",\"y\":[-0.21946507657939418,-0.2864148634730113,-0.3644740907016762,-0.4662562599816866,-0.4986756040897126,-0.44403639766194436,-0.4490800268486209,-0.4626050289229107,-0.3451032519274691,-0.20607561234481622,-0.1819293824740263,0.07177801157239364],\"yaxis\":\"y\",\"type\":\"scatter\"},{\"hovertemplate\":\"Pollutant=CO\\u003cbr\\u003eyear=2016\\u003cbr\\u003eMonth=%{x}\\u003cbr\\u003eAverage Value=%{y}\\u003cextra\\u003e\\u003c\\u002fextra\\u003e\",\"legendgroup\":\"CO\",\"line\":{\"color\":\"#EF553B\",\"dash\":\"solid\"},\"marker\":{\"symbol\":\"circle\"},\"mode\":\"lines\",\"name\":\"CO\",\"orientation\":\"v\",\"showlegend\":true,\"x\":[1,2,3,4,5,6,7,8,9,10,11,12],\"xaxis\":\"x\",\"y\":[-0.2763118506155273,-0.33236181834813183,-0.369217340028606,-0.4543106053657941,-0.49490239531830676,-0.5431199182563252,-0.5601867515710474,-0.5573621053943418,-0.4315261466422899,-0.2510038387803875,-0.12097685422154154,0.08848957709850591],\"yaxis\":\"y\",\"type\":\"scatter\"},{\"hovertemplate\":\"Pollutant=EBE\\u003cbr\\u003eyear=2016\\u003cbr\\u003eMonth=%{x}\\u003cbr\\u003eAverage Value=%{y}\\u003cextra\\u003e\\u003c\\u002fextra\\u003e\",\"legendgroup\":\"EBE\",\"line\":{\"color\":\"#00cc96\",\"dash\":\"solid\"},\"marker\":{\"symbol\":\"circle\"},\"mode\":\"lines\",\"name\":\"EBE\",\"orientation\":\"v\",\"showlegend\":true,\"x\":[1,2,3,4,5,6,7,8,9,10,11,12],\"xaxis\":\"x\",\"y\":[-0.4635272228469834,-0.5020059280055246,-0.5379173729817048,-0.5608635768787538,-0.546474240827923,-0.5308180947727505,-0.5266487994403029,-0.5196811790525941,-0.4478155128957453,-0.34643254164642007,-0.39281541952206067,-0.36969107019386604],\"yaxis\":\"y\",\"type\":\"scatter\"},{\"hovertemplate\":\"Pollutant=NMHC\\u003cbr\\u003eyear=2016\\u003cbr\\u003eMonth=%{x}\\u003cbr\\u003eAverage Value=%{y}\\u003cextra\\u003e\\u003c\\u002fextra\\u003e\",\"legendgroup\":\"NMHC\",\"line\":{\"color\":\"#ab63fa\",\"dash\":\"solid\"},\"marker\":{\"symbol\":\"circle\"},\"mode\":\"lines\",\"name\":\"NMHC\",\"orientation\":\"v\",\"showlegend\":true,\"x\":[1,2,3,4,5,6,7,8,9,10,11,12],\"xaxis\":\"x\",\"y\":[-0.5910108207682505,-0.5901239468631772,-0.49107110023870854,-0.11541943829759264,-0.5256748396447699,-0.49199916704346314,-0.5940490313252295,-0.5457724911043852,-0.34839956788511256,-0.2834628637044382,-0.2637708742079517,-0.07591503242848076],\"yaxis\":\"y\",\"type\":\"scatter\"},{\"hovertemplate\":\"Pollutant=NOx\\u003cbr\\u003eyear=2016\\u003cbr\\u003eMonth=%{x}\\u003cbr\\u003eAverage Value=%{y}\\u003cextra\\u003e\\u003c\\u002fextra\\u003e\",\"legendgroup\":\"NOx\",\"line\":{\"color\":\"#FFA15A\",\"dash\":\"solid\"},\"marker\":{\"symbol\":\"circle\"},\"mode\":\"lines\",\"name\":\"NOx\",\"orientation\":\"v\",\"showlegend\":true,\"x\":[1,2,3,4,5,6,7,8,9,10,11,12],\"xaxis\":\"x\",\"y\":[null,null,null,null,null,null,null,null,null,null,null,null],\"yaxis\":\"y\",\"type\":\"scatter\"},{\"hovertemplate\":\"Pollutant=NO_2\\u003cbr\\u003eyear=2016\\u003cbr\\u003eMonth=%{x}\\u003cbr\\u003eAverage Value=%{y}\\u003cextra\\u003e\\u003c\\u002fextra\\u003e\",\"legendgroup\":\"NO_2\",\"line\":{\"color\":\"#19d3f3\",\"dash\":\"solid\"},\"marker\":{\"symbol\":\"circle\"},\"mode\":\"lines\",\"name\":\"NO_2\",\"orientation\":\"v\",\"showlegend\":true,\"x\":[1,2,3,4,5,6,7,8,9,10,11,12],\"xaxis\":\"x\",\"y\":[-0.24394232683534103,-0.43057334274743564,-0.41309320651662046,-0.5234403146690494,-0.5675453928523092,-0.5903287728536211,-0.5656839921321843,-0.6336907549383504,-0.20494734876094198,-0.03967773200212192,-0.045787669607350215,0.15093798841760747],\"yaxis\":\"y\",\"type\":\"scatter\"},{\"hovertemplate\":\"Pollutant=O_3\\u003cbr\\u003eyear=2016\\u003cbr\\u003eMonth=%{x}\\u003cbr\\u003eAverage Value=%{y}\\u003cextra\\u003e\\u003c\\u002fextra\\u003e\",\"legendgroup\":\"O_3\",\"line\":{\"color\":\"#FF6692\",\"dash\":\"solid\"},\"marker\":{\"symbol\":\"circle\"},\"mode\":\"lines\",\"name\":\"O_3\",\"orientation\":\"v\",\"showlegend\":true,\"x\":[1,2,3,4,5,6,7,8,9,10,11,12],\"xaxis\":\"x\",\"y\":[-0.3032994208099378,0.10461775634573023,0.4196759467162285,0.46867877610768804,0.6951505029291165,0.8851879274940649,1.2763091665378679,1.0353669995740076,0.4048014634126133,-0.2405505258047931,-0.5136372846536736,-0.6924059731391509],\"yaxis\":\"y\",\"type\":\"scatter\"},{\"hovertemplate\":\"Pollutant=PM10\\u003cbr\\u003eyear=2016\\u003cbr\\u003eMonth=%{x}\\u003cbr\\u003eAverage Value=%{y}\\u003cextra\\u003e\\u003c\\u002fextra\\u003e\",\"legendgroup\":\"PM10\",\"line\":{\"color\":\"#B6E880\",\"dash\":\"solid\"},\"marker\":{\"symbol\":\"circle\"},\"mode\":\"lines\",\"name\":\"PM10\",\"orientation\":\"v\",\"showlegend\":true,\"x\":[1,2,3,4,5,6,7,8,9,10,11,12],\"xaxis\":\"x\",\"y\":[-0.5509260528633291,-0.2965450936957225,-0.5858459793969156,-0.7054970556114659,-0.6165875286704514,-0.3002277676826082,-0.1256726678526065,-0.17141463313062533,-0.20172424787432086,-0.19580578300241686,-0.42531443636351257,-0.3413455106090571],\"yaxis\":\"y\",\"type\":\"scatter\"},{\"hovertemplate\":\"Pollutant=SO_2\\u003cbr\\u003eyear=2016\\u003cbr\\u003eMonth=%{x}\\u003cbr\\u003eAverage Value=%{y}\\u003cextra\\u003e\\u003c\\u002fextra\\u003e\",\"legendgroup\":\"SO_2\",\"line\":{\"color\":\"#FF97FF\",\"dash\":\"solid\"},\"marker\":{\"symbol\":\"circle\"},\"mode\":\"lines\",\"name\":\"SO_2\",\"orientation\":\"v\",\"showlegend\":true,\"x\":[1,2,3,4,5,6,7,8,9,10,11,12],\"xaxis\":\"x\",\"y\":[-0.20409621926016022,-0.24093575990022476,-0.23102270122686802,-0.31940291689804967,-0.3720075415198814,-0.2969225123264125,-0.5331493691871068,-0.5188787314136706,-0.414602397740805,-0.3498259003497275,-0.30663546436923783,-0.06928298665987419],\"yaxis\":\"y\",\"type\":\"scatter\"},{\"hovertemplate\":\"Pollutant=TCH\\u003cbr\\u003eyear=2016\\u003cbr\\u003eMonth=%{x}\\u003cbr\\u003eAverage Value=%{y}\\u003cextra\\u003e\\u003c\\u002fextra\\u003e\",\"legendgroup\":\"TCH\",\"line\":{\"color\":\"#FECB52\",\"dash\":\"solid\"},\"marker\":{\"symbol\":\"circle\"},\"mode\":\"lines\",\"name\":\"TCH\",\"orientation\":\"v\",\"showlegend\":true,\"x\":[1,2,3,4,5,6,7,8,9,10,11,12],\"xaxis\":\"x\",\"y\":[-0.3068407267052848,-0.5582362986335282,-0.43121270198573913,-0.43820857379709244,-0.6555191524310696,-0.6001860038322507,-0.5527388231083392,-0.4046010567119624,-0.18168819074554265,0.0018449683319486589,0.16428984643946523,0.6126167433716213],\"yaxis\":\"y\",\"type\":\"scatter\"},{\"hovertemplate\":\"Pollutant=TOL\\u003cbr\\u003eyear=2016\\u003cbr\\u003eMonth=%{x}\\u003cbr\\u003eAverage Value=%{y}\\u003cextra\\u003e\\u003c\\u002fextra\\u003e\",\"legendgroup\":\"TOL\",\"line\":{\"color\":\"#636efa\",\"dash\":\"solid\"},\"marker\":{\"symbol\":\"circle\"},\"mode\":\"lines\",\"name\":\"TOL\",\"orientation\":\"v\",\"showlegend\":true,\"x\":[1,2,3,4,5,6,7,8,9,10,11,12],\"xaxis\":\"x\",\"y\":[-0.3869907052023187,-0.4540147683804261,-0.49401335796149265,-0.5260933206727216,-0.5106586095615978,-0.45057234023694737,-0.4434109421566086,-0.4479717235900001,-0.3385235886327993,-0.19359022384865462,-0.26602911307881455,-0.09848381238095524],\"yaxis\":\"y\",\"type\":\"scatter\"},{\"hovertemplate\":\"Pollutant=MXY\\u003cbr\\u003eyear=2016\\u003cbr\\u003eMonth=%{x}\\u003cbr\\u003eAverage Value=%{y}\\u003cextra\\u003e\\u003c\\u002fextra\\u003e\",\"legendgroup\":\"MXY\",\"line\":{\"color\":\"#EF553B\",\"dash\":\"solid\"},\"marker\":{\"symbol\":\"circle\"},\"mode\":\"lines\",\"name\":\"MXY\",\"orientation\":\"v\",\"showlegend\":true,\"x\":[1,2,3,4,5,6,7,8,9,10,11,12],\"xaxis\":\"x\",\"y\":[null,null,null,null,null,null,null,null,null,null,null,null],\"yaxis\":\"y\",\"type\":\"scatter\"},{\"hovertemplate\":\"Pollutant=OXY\\u003cbr\\u003eyear=2016\\u003cbr\\u003eMonth=%{x}\\u003cbr\\u003eAverage Value=%{y}\\u003cextra\\u003e\\u003c\\u002fextra\\u003e\",\"legendgroup\":\"OXY\",\"line\":{\"color\":\"#00cc96\",\"dash\":\"solid\"},\"marker\":{\"symbol\":\"circle\"},\"mode\":\"lines\",\"name\":\"OXY\",\"orientation\":\"v\",\"showlegend\":true,\"x\":[1,2,3,4,5,6,7,8,9,10,11,12],\"xaxis\":\"x\",\"y\":[null,null,null,null,null,null,null,null,null,null,null,null],\"yaxis\":\"y\",\"type\":\"scatter\"},{\"hovertemplate\":\"Pollutant=PXY\\u003cbr\\u003eyear=2016\\u003cbr\\u003eMonth=%{x}\\u003cbr\\u003eAverage Value=%{y}\\u003cextra\\u003e\\u003c\\u002fextra\\u003e\",\"legendgroup\":\"PXY\",\"line\":{\"color\":\"#ab63fa\",\"dash\":\"solid\"},\"marker\":{\"symbol\":\"circle\"},\"mode\":\"lines\",\"name\":\"PXY\",\"orientation\":\"v\",\"showlegend\":true,\"x\":[1,2,3,4,5,6,7,8,9,10,11,12],\"xaxis\":\"x\",\"y\":[null,null,null,null,null,null,null,null,null,null,null,null],\"yaxis\":\"y\",\"type\":\"scatter\"},{\"hovertemplate\":\"Pollutant=PM25\\u003cbr\\u003eyear=2016\\u003cbr\\u003eMonth=%{x}\\u003cbr\\u003eAverage Value=%{y}\\u003cextra\\u003e\\u003c\\u002fextra\\u003e\",\"legendgroup\":\"PM25\",\"line\":{\"color\":\"#FFA15A\",\"dash\":\"solid\"},\"marker\":{\"symbol\":\"circle\"},\"mode\":\"lines\",\"name\":\"PM25\",\"orientation\":\"v\",\"showlegend\":true,\"x\":[1,2,3,4,5,6,7,8,9,10,11,12],\"xaxis\":\"x\",\"y\":[-0.14732367352113987,-0.3244658101452196,-0.4379648716785147,-0.6680504698395519,-0.5943841701168412,-0.40412085473982534,-0.24438282362880817,-0.3451721178183353,-0.19753189141529362,-0.12299445132388481,-0.23463385794392705,0.12322655769333841],\"yaxis\":\"y\",\"type\":\"scatter\"},{\"hovertemplate\":\"Pollutant=CH4\\u003cbr\\u003eyear=2016\\u003cbr\\u003eMonth=%{x}\\u003cbr\\u003eAverage Value=%{y}\\u003cextra\\u003e\\u003c\\u002fextra\\u003e\",\"legendgroup\":\"CH4\",\"line\":{\"color\":\"#19d3f3\",\"dash\":\"solid\"},\"marker\":{\"symbol\":\"circle\"},\"mode\":\"lines\",\"name\":\"CH4\",\"orientation\":\"v\",\"showlegend\":true,\"x\":[1,2,3,4,5,6,7,8,9,10,11,12],\"xaxis\":\"x\",\"y\":[null,null,null,null,null,null,null,null,null,null,null,null],\"yaxis\":\"y\",\"type\":\"scatter\"},{\"hovertemplate\":\"Pollutant=NO\\u003cbr\\u003eyear=2016\\u003cbr\\u003eMonth=%{x}\\u003cbr\\u003eAverage Value=%{y}\\u003cextra\\u003e\\u003c\\u002fextra\\u003e\",\"legendgroup\":\"NO\",\"line\":{\"color\":\"#FF6692\",\"dash\":\"solid\"},\"marker\":{\"symbol\":\"circle\"},\"mode\":\"lines\",\"name\":\"NO\",\"orientation\":\"v\",\"showlegend\":true,\"x\":[1,2,3,4,5,6,7,8,9,10,11,12],\"xaxis\":\"x\",\"y\":[0.1604628617040544,-0.017836422459438166,-0.16623876042767852,-0.24816702764568355,-0.27202494555826545,-0.291964700432086,-0.3211452721321201,-0.329445065036764,-0.1478967760211444,0.17302973304882568,0.31858540656625683,0.8638521642721236],\"yaxis\":\"y\",\"type\":\"scatter\"}],\"name\":\"2016\"},{\"data\":[{\"hovertemplate\":\"Pollutant=BEN\\u003cbr\\u003eyear=2017\\u003cbr\\u003eMonth=%{x}\\u003cbr\\u003eAverage Value=%{y}\\u003cextra\\u003e\\u003c\\u002fextra\\u003e\",\"legendgroup\":\"BEN\",\"line\":{\"color\":\"#636efa\",\"dash\":\"solid\"},\"marker\":{\"symbol\":\"circle\"},\"mode\":\"lines\",\"name\":\"BEN\",\"orientation\":\"v\",\"showlegend\":true,\"x\":[1,2,3,4,5,6,7,8,9,10,11,12],\"xaxis\":\"x\",\"y\":[-0.062387371013479534,-0.31746912953295514,-0.36136285805025886,-0.45643063406199785,-0.47108476342932215,-0.4905857628774952,-0.4831029950662196,-0.5050149094997849,-0.39960204653619347,-0.2762910160443073,-0.10582302265040157,-0.17813067576157454],\"yaxis\":\"y\",\"type\":\"scatter\"},{\"hovertemplate\":\"Pollutant=CO\\u003cbr\\u003eyear=2017\\u003cbr\\u003eMonth=%{x}\\u003cbr\\u003eAverage Value=%{y}\\u003cextra\\u003e\\u003c\\u002fextra\\u003e\",\"legendgroup\":\"CO\",\"line\":{\"color\":\"#EF553B\",\"dash\":\"solid\"},\"marker\":{\"symbol\":\"circle\"},\"mode\":\"lines\",\"name\":\"CO\",\"orientation\":\"v\",\"showlegend\":true,\"x\":[1,2,3,4,5,6,7,8,9,10,11,12],\"xaxis\":\"x\",\"y\":[-0.04628664610536257,-0.2745014286886837,-0.3358223679150594,-0.40322984533820194,-0.48242464081959135,-0.5268460154439596,-0.567274127429562,-0.5762291294648632,-0.41985481631887295,-0.30452319683124035,-0.07144158618625124,-0.1688605158956084],\"yaxis\":\"y\",\"type\":\"scatter\"},{\"hovertemplate\":\"Pollutant=EBE\\u003cbr\\u003eyear=2017\\u003cbr\\u003eMonth=%{x}\\u003cbr\\u003eAverage Value=%{y}\\u003cextra\\u003e\\u003c\\u002fextra\\u003e\",\"legendgroup\":\"EBE\",\"line\":{\"color\":\"#00cc96\",\"dash\":\"solid\"},\"marker\":{\"symbol\":\"circle\"},\"mode\":\"lines\",\"name\":\"EBE\",\"orientation\":\"v\",\"showlegend\":true,\"x\":[1,2,3,4,5,6,7,8,9,10,11,12],\"xaxis\":\"x\",\"y\":[-0.44455054563362684,-0.4933495068515607,-0.48512626749361365,-0.537393728272252,-0.5420905848364966,-0.5122130146117072,-0.5282187529148078,-0.5329321421733617,-0.472823504531098,-0.36345905819588975,-0.31196177897564276,-0.43221268849100525],\"yaxis\":\"y\",\"type\":\"scatter\"},{\"hovertemplate\":\"Pollutant=NMHC\\u003cbr\\u003eyear=2017\\u003cbr\\u003eMonth=%{x}\\u003cbr\\u003eAverage Value=%{y}\\u003cextra\\u003e\\u003c\\u002fextra\\u003e\",\"legendgroup\":\"NMHC\",\"line\":{\"color\":\"#ab63fa\",\"dash\":\"solid\"},\"marker\":{\"symbol\":\"circle\"},\"mode\":\"lines\",\"name\":\"NMHC\",\"orientation\":\"v\",\"showlegend\":true,\"x\":[1,2,3,4,5,6,7,8,9,10,11,12],\"xaxis\":\"x\",\"y\":[-0.048095733947050114,-0.24662303644793185,-0.255096127092016,-0.3200250197306072,-0.3098454638985594,-0.4568833256532777,-0.5978125453283826,-0.44779323362668383,-0.424616706945988,-0.3466342962701008,-0.47187808460812536,-0.7222721118364789],\"yaxis\":\"y\",\"type\":\"scatter\"},{\"hovertemplate\":\"Pollutant=NOx\\u003cbr\\u003eyear=2017\\u003cbr\\u003eMonth=%{x}\\u003cbr\\u003eAverage Value=%{y}\\u003cextra\\u003e\\u003c\\u002fextra\\u003e\",\"legendgroup\":\"NOx\",\"line\":{\"color\":\"#FFA15A\",\"dash\":\"solid\"},\"marker\":{\"symbol\":\"circle\"},\"mode\":\"lines\",\"name\":\"NOx\",\"orientation\":\"v\",\"showlegend\":true,\"x\":[1,2,3,4,5,6,7,8,9,10,11,12],\"xaxis\":\"x\",\"y\":[-0.8786354559870663,null,null,null,null,null,null,null,null,-0.08630612887870254,0.3699621177120963,0.15814107409965203],\"yaxis\":\"y\",\"type\":\"scatter\"},{\"hovertemplate\":\"Pollutant=NO_2\\u003cbr\\u003eyear=2017\\u003cbr\\u003eMonth=%{x}\\u003cbr\\u003eAverage Value=%{y}\\u003cextra\\u003e\\u003c\\u002fextra\\u003e\",\"legendgroup\":\"NO_2\",\"line\":{\"color\":\"#19d3f3\",\"dash\":\"solid\"},\"marker\":{\"symbol\":\"circle\"},\"mode\":\"lines\",\"name\":\"NO_2\",\"orientation\":\"v\",\"showlegend\":true,\"x\":[1,2,3,4,5,6,7,8,9,10,11,12],\"xaxis\":\"x\",\"y\":[0.07662622773690446,-0.23017769966522805,-0.27538763357510604,-0.5735696543996119,-0.5807764345450498,-0.5508314262667945,-0.5078073714113142,-0.651429619693312,-0.3052210667473888,0.07417348750884764,0.34680172444566915,0.08381942835091238],\"yaxis\":\"y\",\"type\":\"scatter\"},{\"hovertemplate\":\"Pollutant=O_3\\u003cbr\\u003eyear=2017\\u003cbr\\u003eMonth=%{x}\\u003cbr\\u003eAverage Value=%{y}\\u003cextra\\u003e\\u003c\\u002fextra\\u003e\",\"legendgroup\":\"O_3\",\"line\":{\"color\":\"#FF6692\",\"dash\":\"solid\"},\"marker\":{\"symbol\":\"circle\"},\"mode\":\"lines\",\"name\":\"O_3\",\"orientation\":\"v\",\"showlegend\":true,\"x\":[1,2,3,4,5,6,7,8,9,10,11,12],\"xaxis\":\"x\",\"y\":[-0.45630221347134925,-0.09225815611882075,0.285808504774996,0.9532894705562059,0.8881975791412687,1.0691516739815237,0.8149064368094457,0.8523522262965149,0.3911326493935342,-0.2053948919498014,-0.6041251085903381,-0.5439473381248628],\"yaxis\":\"y\",\"type\":\"scatter\"},{\"hovertemplate\":\"Pollutant=PM10\\u003cbr\\u003eyear=2017\\u003cbr\\u003eMonth=%{x}\\u003cbr\\u003eAverage Value=%{y}\\u003cextra\\u003e\\u003c\\u002fextra\\u003e\",\"legendgroup\":\"PM10\",\"line\":{\"color\":\"#B6E880\",\"dash\":\"solid\"},\"marker\":{\"symbol\":\"circle\"},\"mode\":\"lines\",\"name\":\"PM10\",\"orientation\":\"v\",\"showlegend\":true,\"x\":[1,2,3,4,5,6,7,8,9,10,11,12],\"xaxis\":\"x\",\"y\":[-0.35882774073848295,-0.11713589500766373,-0.4580355491044229,-0.4506027583473365,-0.47550533996995675,-0.19393927689452897,-0.2325066965848489,-0.2145842325110254,-0.46588628994894504,-0.3365845994054802,-0.332170881230564,-0.5010363674539989],\"yaxis\":\"y\",\"type\":\"scatter\"},{\"hovertemplate\":\"Pollutant=SO_2\\u003cbr\\u003eyear=2017\\u003cbr\\u003eMonth=%{x}\\u003cbr\\u003eAverage Value=%{y}\\u003cextra\\u003e\\u003c\\u002fextra\\u003e\",\"legendgroup\":\"SO_2\",\"line\":{\"color\":\"#FF97FF\",\"dash\":\"solid\"},\"marker\":{\"symbol\":\"circle\"},\"mode\":\"lines\",\"name\":\"SO_2\",\"orientation\":\"v\",\"showlegend\":true,\"x\":[1,2,3,4,5,6,7,8,9,10,11,12],\"xaxis\":\"x\",\"y\":[-0.03216183951256519,-0.20537206690136064,-0.2683764821279537,-0.5781958379702816,-0.6081472241153885,-0.5608541246646142,-0.5845621947547853,-0.48610087989361245,-0.40947630800099005,-0.6130652703047104,-0.28386082041247973,-0.3632640132598953],\"yaxis\":\"y\",\"type\":\"scatter\"},{\"hovertemplate\":\"Pollutant=TCH\\u003cbr\\u003eyear=2017\\u003cbr\\u003eMonth=%{x}\\u003cbr\\u003eAverage Value=%{y}\\u003cextra\\u003e\\u003c\\u002fextra\\u003e\",\"legendgroup\":\"TCH\",\"line\":{\"color\":\"#FECB52\",\"dash\":\"solid\"},\"marker\":{\"symbol\":\"circle\"},\"mode\":\"lines\",\"name\":\"TCH\",\"orientation\":\"v\",\"showlegend\":true,\"x\":[1,2,3,4,5,6,7,8,9,10,11,12],\"xaxis\":\"x\",\"y\":[0.5244243321183966,0.012454845702321088,0.04620839755087504,-0.2779324434016468,-0.9656661928273815,-0.5540636693118651,-0.283718564471376,-0.2613400331122331,-0.2008007843487412,-0.06633994759703468,0.04564530379643825,-0.06618570200784159],\"yaxis\":\"y\",\"type\":\"scatter\"},{\"hovertemplate\":\"Pollutant=TOL\\u003cbr\\u003eyear=2017\\u003cbr\\u003eMonth=%{x}\\u003cbr\\u003eAverage Value=%{y}\\u003cextra\\u003e\\u003c\\u002fextra\\u003e\",\"legendgroup\":\"TOL\",\"line\":{\"color\":\"#636efa\",\"dash\":\"solid\"},\"marker\":{\"symbol\":\"circle\"},\"mode\":\"lines\",\"name\":\"TOL\",\"orientation\":\"v\",\"showlegend\":true,\"x\":[1,2,3,4,5,6,7,8,9,10,11,12],\"xaxis\":\"x\",\"y\":[-0.28781352076945926,-0.4409460880019055,-0.42916901178456385,-0.511335663711419,-0.503874908203806,-0.502687237608486,-0.48916061099580194,-0.5023601852563954,-0.3829433290733754,-0.21559538419305993,-0.048661299825774836,-0.2969035471318667],\"yaxis\":\"y\",\"type\":\"scatter\"},{\"hovertemplate\":\"Pollutant=MXY\\u003cbr\\u003eyear=2017\\u003cbr\\u003eMonth=%{x}\\u003cbr\\u003eAverage Value=%{y}\\u003cextra\\u003e\\u003c\\u002fextra\\u003e\",\"legendgroup\":\"MXY\",\"line\":{\"color\":\"#EF553B\",\"dash\":\"solid\"},\"marker\":{\"symbol\":\"circle\"},\"mode\":\"lines\",\"name\":\"MXY\",\"orientation\":\"v\",\"showlegend\":true,\"x\":[1,2,3,4,5,6,7,8,9,10,11,12],\"xaxis\":\"x\",\"y\":[null,null,null,null,null,null,null,null,null,null,null,null],\"yaxis\":\"y\",\"type\":\"scatter\"},{\"hovertemplate\":\"Pollutant=OXY\\u003cbr\\u003eyear=2017\\u003cbr\\u003eMonth=%{x}\\u003cbr\\u003eAverage Value=%{y}\\u003cextra\\u003e\\u003c\\u002fextra\\u003e\",\"legendgroup\":\"OXY\",\"line\":{\"color\":\"#00cc96\",\"dash\":\"solid\"},\"marker\":{\"symbol\":\"circle\"},\"mode\":\"lines\",\"name\":\"OXY\",\"orientation\":\"v\",\"showlegend\":true,\"x\":[1,2,3,4,5,6,7,8,9,10,11,12],\"xaxis\":\"x\",\"y\":[null,null,null,null,null,null,null,null,null,null,null,null],\"yaxis\":\"y\",\"type\":\"scatter\"},{\"hovertemplate\":\"Pollutant=PXY\\u003cbr\\u003eyear=2017\\u003cbr\\u003eMonth=%{x}\\u003cbr\\u003eAverage Value=%{y}\\u003cextra\\u003e\\u003c\\u002fextra\\u003e\",\"legendgroup\":\"PXY\",\"line\":{\"color\":\"#ab63fa\",\"dash\":\"solid\"},\"marker\":{\"symbol\":\"circle\"},\"mode\":\"lines\",\"name\":\"PXY\",\"orientation\":\"v\",\"showlegend\":true,\"x\":[1,2,3,4,5,6,7,8,9,10,11,12],\"xaxis\":\"x\",\"y\":[null,null,null,null,null,null,null,null,null,null,null,null],\"yaxis\":\"y\",\"type\":\"scatter\"},{\"hovertemplate\":\"Pollutant=PM25\\u003cbr\\u003eyear=2017\\u003cbr\\u003eMonth=%{x}\\u003cbr\\u003eAverage Value=%{y}\\u003cextra\\u003e\\u003c\\u002fextra\\u003e\",\"legendgroup\":\"PM25\",\"line\":{\"color\":\"#FFA15A\",\"dash\":\"solid\"},\"marker\":{\"symbol\":\"circle\"},\"mode\":\"lines\",\"name\":\"PM25\",\"orientation\":\"v\",\"showlegend\":true,\"x\":[1,2,3,4,5,6,7,8,9,10,11,12],\"xaxis\":\"x\",\"y\":[-0.03412175736271186,-0.1681114730525076,-0.4065089794491679,-0.5241466624874153,-0.5263515001337853,-0.2933979650614294,-0.4076222762714243,-0.37985764679924006,-0.4858226393151155,-0.3862409214256509,-0.19805516641481613,-0.23556796071430638],\"yaxis\":\"y\",\"type\":\"scatter\"},{\"hovertemplate\":\"Pollutant=CH4\\u003cbr\\u003eyear=2017\\u003cbr\\u003eMonth=%{x}\\u003cbr\\u003eAverage Value=%{y}\\u003cextra\\u003e\\u003c\\u002fextra\\u003e\",\"legendgroup\":\"CH4\",\"line\":{\"color\":\"#19d3f3\",\"dash\":\"solid\"},\"marker\":{\"symbol\":\"circle\"},\"mode\":\"lines\",\"name\":\"CH4\",\"orientation\":\"v\",\"showlegend\":true,\"x\":[1,2,3,4,5,6,7,8,9,10,11,12],\"xaxis\":\"x\",\"y\":[-0.4816456120966608,null,null,null,null,null,null,null,null,-0.06975317090430459,0.1616991748789254,0.22571288996655337],\"yaxis\":\"y\",\"type\":\"scatter\"},{\"hovertemplate\":\"Pollutant=NO\\u003cbr\\u003eyear=2017\\u003cbr\\u003eMonth=%{x}\\u003cbr\\u003eAverage Value=%{y}\\u003cextra\\u003e\\u003c\\u002fextra\\u003e\",\"legendgroup\":\"NO\",\"line\":{\"color\":\"#FF6692\",\"dash\":\"solid\"},\"marker\":{\"symbol\":\"circle\"},\"mode\":\"lines\",\"name\":\"NO\",\"orientation\":\"v\",\"showlegend\":true,\"x\":[1,2,3,4,5,6,7,8,9,10,11,12],\"xaxis\":\"x\",\"y\":[0.44604811014399975,0.015531895544786258,-0.04307012227640734,-0.29038710105056337,-0.30889331326343844,-0.31841728459230173,-0.3027395671266186,-0.34604460010652793,-0.1678803688797265,0.14002461558120813,0.6719495033913347,0.48655400844097957],\"yaxis\":\"y\",\"type\":\"scatter\"}],\"name\":\"2017\"},{\"data\":[{\"hovertemplate\":\"Pollutant=BEN\\u003cbr\\u003eyear=2018\\u003cbr\\u003eMonth=%{x}\\u003cbr\\u003eAverage Value=%{y}\\u003cextra\\u003e\\u003c\\u002fextra\\u003e\",\"legendgroup\":\"BEN\",\"line\":{\"color\":\"#636efa\",\"dash\":\"solid\"},\"marker\":{\"symbol\":\"circle\"},\"mode\":\"lines\",\"name\":\"BEN\",\"orientation\":\"v\",\"showlegend\":true,\"x\":[1,2,3,4,5],\"xaxis\":\"x\",\"y\":[-0.27611365771128266,-0.31091550692532915,-0.43111087031007755,-0.44691064842686923,-0.45744387082175564],\"yaxis\":\"y\",\"type\":\"scatter\"},{\"hovertemplate\":\"Pollutant=CO\\u003cbr\\u003eyear=2018\\u003cbr\\u003eMonth=%{x}\\u003cbr\\u003eAverage Value=%{y}\\u003cextra\\u003e\\u003c\\u002fextra\\u003e\",\"legendgroup\":\"CO\",\"line\":{\"color\":\"#EF553B\",\"dash\":\"solid\"},\"marker\":{\"symbol\":\"circle\"},\"mode\":\"lines\",\"name\":\"CO\",\"orientation\":\"v\",\"showlegend\":true,\"x\":[1,2,3,4,5],\"xaxis\":\"x\",\"y\":[-0.2547206674783085,-0.2994035184942848,-0.4835258399207729,-0.49707179315963657,-0.560995011132411],\"yaxis\":\"y\",\"type\":\"scatter\"},{\"hovertemplate\":\"Pollutant=EBE\\u003cbr\\u003eyear=2018\\u003cbr\\u003eMonth=%{x}\\u003cbr\\u003eAverage Value=%{y}\\u003cextra\\u003e\\u003c\\u002fextra\\u003e\",\"legendgroup\":\"EBE\",\"line\":{\"color\":\"#00cc96\",\"dash\":\"solid\"},\"marker\":{\"symbol\":\"circle\"},\"mode\":\"lines\",\"name\":\"EBE\",\"orientation\":\"v\",\"showlegend\":true,\"x\":[1,2,3,4,5],\"xaxis\":\"x\",\"y\":[-0.4682226826177031,-0.5063645365077235,-0.5566451187634784,-0.5316781529577689,-0.5628452185973242],\"yaxis\":\"y\",\"type\":\"scatter\"},{\"hovertemplate\":\"Pollutant=NMHC\\u003cbr\\u003eyear=2018\\u003cbr\\u003eMonth=%{x}\\u003cbr\\u003eAverage Value=%{y}\\u003cextra\\u003e\\u003c\\u002fextra\\u003e\",\"legendgroup\":\"NMHC\",\"line\":{\"color\":\"#ab63fa\",\"dash\":\"solid\"},\"marker\":{\"symbol\":\"circle\"},\"mode\":\"lines\",\"name\":\"NMHC\",\"orientation\":\"v\",\"showlegend\":true,\"x\":[1,2,3,4,5],\"xaxis\":\"x\",\"y\":[-0.8064285037431068,-0.6748399582042686,-0.8444967847092721,-0.8386527122229659,-0.8274387934675982],\"yaxis\":\"y\",\"type\":\"scatter\"},{\"hovertemplate\":\"Pollutant=NOx\\u003cbr\\u003eyear=2018\\u003cbr\\u003eMonth=%{x}\\u003cbr\\u003eAverage Value=%{y}\\u003cextra\\u003e\\u003c\\u002fextra\\u003e\",\"legendgroup\":\"NOx\",\"line\":{\"color\":\"#FFA15A\",\"dash\":\"solid\"},\"marker\":{\"symbol\":\"circle\"},\"mode\":\"lines\",\"name\":\"NOx\",\"orientation\":\"v\",\"showlegend\":true,\"x\":[1,2,3,4,5],\"xaxis\":\"x\",\"y\":[-0.01764604500699079,-0.24614753895973032,-0.599301911030426,-0.5900783866629128,-0.6852008553590667],\"yaxis\":\"y\",\"type\":\"scatter\"},{\"hovertemplate\":\"Pollutant=NO_2\\u003cbr\\u003eyear=2018\\u003cbr\\u003eMonth=%{x}\\u003cbr\\u003eAverage Value=%{y}\\u003cextra\\u003e\\u003c\\u002fextra\\u003e\",\"legendgroup\":\"NO_2\",\"line\":{\"color\":\"#19d3f3\",\"dash\":\"solid\"},\"marker\":{\"symbol\":\"circle\"},\"mode\":\"lines\",\"name\":\"NO_2\",\"orientation\":\"v\",\"showlegend\":true,\"x\":[1,2,3,4,5],\"xaxis\":\"x\",\"y\":[-0.054631424251669024,-0.13212388776054654,-0.6075554880798141,-0.5632180623188437,-0.6177925824870281],\"yaxis\":\"y\",\"type\":\"scatter\"},{\"hovertemplate\":\"Pollutant=O_3\\u003cbr\\u003eyear=2018\\u003cbr\\u003eMonth=%{x}\\u003cbr\\u003eAverage Value=%{y}\\u003cextra\\u003e\\u003c\\u002fextra\\u003e\",\"legendgroup\":\"O_3\",\"line\":{\"color\":\"#FF6692\",\"dash\":\"solid\"},\"marker\":{\"symbol\":\"circle\"},\"mode\":\"lines\",\"name\":\"O_3\",\"orientation\":\"v\",\"showlegend\":true,\"x\":[1,2,3,4,5],\"xaxis\":\"x\",\"y\":[-0.4742056701454328,-0.14164381890932262,0.6298191039188966,0.6363101587537027,0.5439166443477828],\"yaxis\":\"y\",\"type\":\"scatter\"},{\"hovertemplate\":\"Pollutant=PM10\\u003cbr\\u003eyear=2018\\u003cbr\\u003eMonth=%{x}\\u003cbr\\u003eAverage Value=%{y}\\u003cextra\\u003e\\u003c\\u002fextra\\u003e\",\"legendgroup\":\"PM10\",\"line\":{\"color\":\"#B6E880\",\"dash\":\"solid\"},\"marker\":{\"symbol\":\"circle\"},\"mode\":\"lines\",\"name\":\"PM10\",\"orientation\":\"v\",\"showlegend\":true,\"x\":[1,2,3,4,5],\"xaxis\":\"x\",\"y\":[-0.5306259518941167,-0.5855552744065833,-0.8056949075360212,-0.4482565771826397,-0.9432113918501963],\"yaxis\":\"y\",\"type\":\"scatter\"},{\"hovertemplate\":\"Pollutant=SO_2\\u003cbr\\u003eyear=2018\\u003cbr\\u003eMonth=%{x}\\u003cbr\\u003eAverage Value=%{y}\\u003cextra\\u003e\\u003c\\u002fextra\\u003e\",\"legendgroup\":\"SO_2\",\"line\":{\"color\":\"#FF97FF\",\"dash\":\"solid\"},\"marker\":{\"symbol\":\"circle\"},\"mode\":\"lines\",\"name\":\"SO_2\",\"orientation\":\"v\",\"showlegend\":true,\"x\":[1,2,3,4,5],\"xaxis\":\"x\",\"y\":[-0.46832015524303006,-0.4879347042991094,-0.6813018888275768,-0.6661718620016752,-0.6748393359651635],\"yaxis\":\"y\",\"type\":\"scatter\"},{\"hovertemplate\":\"Pollutant=TCH\\u003cbr\\u003eyear=2018\\u003cbr\\u003eMonth=%{x}\\u003cbr\\u003eAverage Value=%{y}\\u003cextra\\u003e\\u003c\\u002fextra\\u003e\",\"legendgroup\":\"TCH\",\"line\":{\"color\":\"#FECB52\",\"dash\":\"solid\"},\"marker\":{\"symbol\":\"circle\"},\"mode\":\"lines\",\"name\":\"TCH\",\"orientation\":\"v\",\"showlegend\":true,\"x\":[1,2,3,4,5],\"xaxis\":\"x\",\"y\":[-0.31178025535338755,-0.24668968527650764,-0.4957908941419081,-0.4057578275036591,-0.48257974983328156],\"yaxis\":\"y\",\"type\":\"scatter\"},{\"hovertemplate\":\"Pollutant=TOL\\u003cbr\\u003eyear=2018\\u003cbr\\u003eMonth=%{x}\\u003cbr\\u003eAverage Value=%{y}\\u003cextra\\u003e\\u003c\\u002fextra\\u003e\",\"legendgroup\":\"TOL\",\"line\":{\"color\":\"#636efa\",\"dash\":\"solid\"},\"marker\":{\"symbol\":\"circle\"},\"mode\":\"lines\",\"name\":\"TOL\",\"orientation\":\"v\",\"showlegend\":true,\"x\":[1,2,3,4,5],\"xaxis\":\"x\",\"y\":[-0.3846539694070821,-0.46952997535066293,-0.5759598004280739,-0.5425822444695371,-0.5896965229701471],\"yaxis\":\"y\",\"type\":\"scatter\"},{\"hovertemplate\":\"Pollutant=MXY\\u003cbr\\u003eyear=2018\\u003cbr\\u003eMonth=%{x}\\u003cbr\\u003eAverage Value=%{y}\\u003cextra\\u003e\\u003c\\u002fextra\\u003e\",\"legendgroup\":\"MXY\",\"line\":{\"color\":\"#EF553B\",\"dash\":\"solid\"},\"marker\":{\"symbol\":\"circle\"},\"mode\":\"lines\",\"name\":\"MXY\",\"orientation\":\"v\",\"showlegend\":true,\"x\":[1,2,3,4,5],\"xaxis\":\"x\",\"y\":[null,null,null,null,null],\"yaxis\":\"y\",\"type\":\"scatter\"},{\"hovertemplate\":\"Pollutant=OXY\\u003cbr\\u003eyear=2018\\u003cbr\\u003eMonth=%{x}\\u003cbr\\u003eAverage Value=%{y}\\u003cextra\\u003e\\u003c\\u002fextra\\u003e\",\"legendgroup\":\"OXY\",\"line\":{\"color\":\"#00cc96\",\"dash\":\"solid\"},\"marker\":{\"symbol\":\"circle\"},\"mode\":\"lines\",\"name\":\"OXY\",\"orientation\":\"v\",\"showlegend\":true,\"x\":[1,2,3,4,5],\"xaxis\":\"x\",\"y\":[null,null,null,null,null],\"yaxis\":\"y\",\"type\":\"scatter\"},{\"hovertemplate\":\"Pollutant=PXY\\u003cbr\\u003eyear=2018\\u003cbr\\u003eMonth=%{x}\\u003cbr\\u003eAverage Value=%{y}\\u003cextra\\u003e\\u003c\\u002fextra\\u003e\",\"legendgroup\":\"PXY\",\"line\":{\"color\":\"#ab63fa\",\"dash\":\"solid\"},\"marker\":{\"symbol\":\"circle\"},\"mode\":\"lines\",\"name\":\"PXY\",\"orientation\":\"v\",\"showlegend\":true,\"x\":[1,2,3,4,5],\"xaxis\":\"x\",\"y\":[null,null,null,null,null],\"yaxis\":\"y\",\"type\":\"scatter\"},{\"hovertemplate\":\"Pollutant=PM25\\u003cbr\\u003eyear=2018\\u003cbr\\u003eMonth=%{x}\\u003cbr\\u003eAverage Value=%{y}\\u003cextra\\u003e\\u003c\\u002fextra\\u003e\",\"legendgroup\":\"PM25\",\"line\":{\"color\":\"#FFA15A\",\"dash\":\"solid\"},\"marker\":{\"symbol\":\"circle\"},\"mode\":\"lines\",\"name\":\"PM25\",\"orientation\":\"v\",\"showlegend\":true,\"x\":[1,2,3,4,5],\"xaxis\":\"x\",\"y\":[-0.36305030398048427,-0.4372917311889276,-0.8121753862223897,-0.5376031688446439,-0.9872915450575356],\"yaxis\":\"y\",\"type\":\"scatter\"},{\"hovertemplate\":\"Pollutant=CH4\\u003cbr\\u003eyear=2018\\u003cbr\\u003eMonth=%{x}\\u003cbr\\u003eAverage Value=%{y}\\u003cextra\\u003e\\u003c\\u002fextra\\u003e\",\"legendgroup\":\"CH4\",\"line\":{\"color\":\"#19d3f3\",\"dash\":\"solid\"},\"marker\":{\"symbol\":\"circle\"},\"mode\":\"lines\",\"name\":\"CH4\",\"orientation\":\"v\",\"showlegend\":true,\"x\":[1,2,3,4,5],\"xaxis\":\"x\",\"y\":[-0.0011661852033950635,-0.027513601171546696,-0.19010371016307742,-0.0884575565022566,-0.19185454478901118],\"yaxis\":\"y\",\"type\":\"scatter\"},{\"hovertemplate\":\"Pollutant=NO\\u003cbr\\u003eyear=2018\\u003cbr\\u003eMonth=%{x}\\u003cbr\\u003eAverage Value=%{y}\\u003cextra\\u003e\\u003c\\u002fextra\\u003e\",\"legendgroup\":\"NO\",\"line\":{\"color\":\"#FF6692\",\"dash\":\"solid\"},\"marker\":{\"symbol\":\"circle\"},\"mode\":\"lines\",\"name\":\"NO\",\"orientation\":\"v\",\"showlegend\":true,\"x\":[1,2,3,4,5],\"xaxis\":\"x\",\"y\":[0.2968017182909044,0.004203088621736744,-0.2882850808831452,-0.2949880189408531,-0.409516143076446],\"yaxis\":\"y\",\"type\":\"scatter\"}],\"name\":\"2018\"}]);\n",
       "                        }).then(function(){\n",
       "                            \n",
       "var gd = document.getElementById('56cea037-3da1-407f-8ef6-b837502bab36');\n",
       "var x = new MutationObserver(function (mutations, observer) {{\n",
       "        var display = window.getComputedStyle(gd).display;\n",
       "        if (!display || display === 'none') {{\n",
       "            console.log([gd, 'removed!']);\n",
       "            Plotly.purge(gd);\n",
       "            observer.disconnect();\n",
       "        }}\n",
       "}});\n",
       "\n",
       "// Listen for the removal of the full notebook cells\n",
       "var notebookContainer = gd.closest('#notebook-container');\n",
       "if (notebookContainer) {{\n",
       "    x.observe(notebookContainer, {childList: true});\n",
       "}}\n",
       "\n",
       "// Listen for the clearing of the current output cell\n",
       "var outputEl = gd.closest('.output');\n",
       "if (outputEl) {{\n",
       "    x.observe(outputEl, {childList: true});\n",
       "}}\n",
       "\n",
       "                        })                };                });            </script>        </div>"
      ]
     },
     "metadata": {},
     "output_type": "display_data"
    }
   ],
   "source": [
    "# --- MONTHLY AVERAGE PLOT (across all years) ---\n",
    "scaled_data['month'] = scaled_data['date'].dt.month\n",
    "\n",
    "monthly_avg = scaled_data.groupby(['month', 'year'])[pollutants].mean().reset_index()\n",
    "melted_monthly = monthly_avg.melt(id_vars=['month', 'year'], var_name='Pollutant', value_name='Average')\n",
    "\n",
    "fig_monthly = px.line(melted_monthly, x='month', y='Average', color='Pollutant', \n",
    "                      animation_frame='year', \n",
    "                      title='Monthly Average of Pollutants Over Years (Animated)',\n",
    "                      labels={\"month\": \"Month\", \"Average\": \"Average Value\"})\n",
    "fig_monthly.update_layout(template=\"plotly_white\")\n",
    "fig_monthly.show()"
   ]
  },
  {
   "cell_type": "code",
   "execution_count": 10,
   "id": "f479ce8f",
   "metadata": {
    "ExecuteTime": {
     "end_time": "2025-05-17T08:19:30.557982Z",
     "start_time": "2025-05-17T08:19:29.769581Z"
    },
    "scrolled": false
   },
   "outputs": [
    {
     "data": {
      "text/html": [
       "\n",
       "        <iframe\n",
       "            width=\"100%\"\n",
       "            height=\"650\"\n",
       "            src=\"http://127.0.0.1:8050/\"\n",
       "            frameborder=\"0\"\n",
       "            allowfullscreen\n",
       "            \n",
       "        ></iframe>\n",
       "        "
      ],
      "text/plain": [
       "<IPython.lib.display.IFrame at 0x7fca00ad6430>"
      ]
     },
     "metadata": {},
     "output_type": "display_data"
    }
   ],
   "source": [
    "# Step 3: Calculate yearly averages across all stations\n",
    "yearly_avg_not_scaled = data.groupby('year')[pollutants].mean().reset_index()\n",
    "\n",
    "# Melt the data for easier plotting with seaborn and plotly\n",
    "melted_not_scaled = yearly_avg_not_scaled.melt(id_vars='year', var_name='Pollutant', value_name='Average')\n",
    "# Calculate % change relative to the first year per pollutant\n",
    "melted_not_scaled['Percentage Change'] = melted_not_scaled.groupby('Pollutant')['Average'].transform(\n",
    "    lambda x: (x - x.iloc[0]) / x.iloc[0] * 100\n",
    ")\n",
    "\n",
    "# --- Dash App ---\n",
    "app = Dash(__name__)\n",
    "app.title = \"Madrid Pollutants - Percent Change\"\n",
    "\n",
    "app.layout = html.Div([\n",
    "    html.H2(\"Madrid Pollutants - % Change Over Time\"),\n",
    "    html.Label(\"Select Pollutant:\"),\n",
    "    dcc.Dropdown(\n",
    "        id='pollutant-dropdown',\n",
    "        options=[{'label': p, 'value': p} for p in melted_not_scaled['Pollutant'].unique()],\n",
    "        value=melted_not_scaled['Pollutant'].unique()[0]\n",
    "    ),\n",
    "    dcc.Graph(id='pollutant-graph')\n",
    "])\n",
    "\n",
    "@app.callback(\n",
    "    Output('pollutant-graph', 'figure'),\n",
    "    Input('pollutant-dropdown', 'value')\n",
    ")\n",
    "def update_graph(selected_pollutant):\n",
    "    filtered = melted_not_scaled[melted_not_scaled['Pollutant'] == selected_pollutant]\n",
    "    fig = px.line(\n",
    "        filtered,\n",
    "        x='year',\n",
    "        y='Percentage Change',\n",
    "        title=f'% Change of {selected_pollutant} Compared to {filtered[\"year\"].min()}',\n",
    "        markers=True\n",
    "    )\n",
    "    fig.update_layout(yaxis_title='% Change', template='plotly_white')\n",
    "    return fig\n",
    "\n",
    "if __name__ == '__main__':\n",
    "    app.run(debug=True)"
   ]
  },
  {
   "cell_type": "markdown",
   "id": "70443dfe",
   "metadata": {},
   "source": [
    "### 2018 "
   ]
  },
  {
   "cell_type": "code",
   "execution_count": 11,
   "id": "54829a3c",
   "metadata": {
    "ExecuteTime": {
     "end_time": "2025-05-17T08:19:30.606417Z",
     "start_time": "2025-05-17T08:19:30.559519Z"
    }
   },
   "outputs": [],
   "source": [
    "# Filter for 2018 only\n",
    "data_2018 = scaled_data[scaled_data['year'] == 2018]\n",
    "\n",
    "# Group and calculate average by pollutant\n",
    "avg_2018 = data_2018[pollutants].mean().reset_index()\n",
    "avg_2018.columns = ['Pollutant', 'Average']\n",
    "\n",
    "# Calculate percentage contribution\n",
    "avg_2018['Percentage'] = 100 * avg_2018['Average'] / avg_2018['Average'].sum()\n",
    "\n",
    "\n",
    "station_pollution = data_2018.groupby('station')[pollutants].mean()\n",
    "station_pollution['Pollution Index 2018'] = station_pollution.mean(axis=1)\n",
    "station_pollution = station_pollution.reset_index()\n",
    "stations.rename(columns={'id': 'station'}, inplace=True)\n"
   ]
  },
  {
   "cell_type": "code",
   "execution_count": 12,
   "id": "0c0cc8ee",
   "metadata": {
    "ExecuteTime": {
     "end_time": "2025-05-17T08:19:30.621055Z",
     "start_time": "2025-05-17T08:19:30.607904Z"
    }
   },
   "outputs": [],
   "source": [
    "# First, we will calculate the average pollutant values per station for 2018\n",
    "station_pollution_2018 = data_2018.groupby('station')[pollutants].mean().reset_index()\n",
    "\n",
    "station_pollution_2018 = pd.merge(station_pollution_2018, stations, on = 'station', how = 'left')"
   ]
  },
  {
   "cell_type": "code",
   "execution_count": 13,
   "id": "60e66428",
   "metadata": {
    "ExecuteTime": {
     "end_time": "2025-05-17T08:19:30.727258Z",
     "start_time": "2025-05-17T08:19:30.622475Z"
    }
   },
   "outputs": [
    {
     "data": {
      "application/vnd.plotly.v1+json": {
       "config": {
        "plotlyServerURL": "https://plot.ly"
       },
       "data": [
        {
         "alignmentgroup": "True",
         "hovertemplate": "variable=BEN<br>name=%{x}<br>Pollutant Contribution=%{y}<extra></extra>",
         "legendgroup": "BEN",
         "marker": {
          "color": "rgb(228,26,28)",
          "pattern": {
           "shape": ""
          }
         },
         "name": "BEN",
         "offsetgroup": "BEN",
         "orientation": "v",
         "showlegend": true,
         "textposition": "auto",
         "type": "bar",
         "x": [
          "Pza. de España",
          "Escuelas Aguirre",
          "Avda. Ramón y Cajal",
          "Arturo Soria",
          "Villaverde",
          "Farolillo",
          "Casa de Campo",
          "Barajas Pueblo",
          "Pza. del Carmen",
          "Moratalaz",
          "Cuatro Caminos",
          "Barrio del Pilar",
          "Vallecas",
          "Mendez Alvaro",
          "Castellana",
          "Parque del Retiro",
          "Plaza Castilla",
          "Ensanche de Vallecas",
          "Urb. Embajada",
          "Pza. Fernández Ladreda",
          "Sanchinarro",
          "El Pardo",
          "Juan Carlos I",
          "Tres Olivos"
         ],
         "xaxis": "x",
         "y": [
          null,
          -0.23027485674522893,
          -0.4206003605141171,
          null,
          null,
          -0.42956159432163976,
          -0.43632984793286117,
          null,
          null,
          null,
          -0.3149403709174225,
          null,
          null,
          null,
          null,
          null,
          null,
          null,
          -0.37015736191346893,
          null,
          null,
          null,
          null,
          null
         ],
         "yaxis": "y"
        },
        {
         "alignmentgroup": "True",
         "hovertemplate": "variable=CO<br>name=%{x}<br>Pollutant Contribution=%{y}<extra></extra>",
         "legendgroup": "CO",
         "marker": {
          "color": "rgb(55,126,184)",
          "pattern": {
           "shape": ""
          }
         },
         "name": "CO",
         "offsetgroup": "CO",
         "orientation": "v",
         "showlegend": true,
         "textposition": "auto",
         "type": "bar",
         "x": [
          "Pza. de España",
          "Escuelas Aguirre",
          "Avda. Ramón y Cajal",
          "Arturo Soria",
          "Villaverde",
          "Farolillo",
          "Casa de Campo",
          "Barajas Pueblo",
          "Pza. del Carmen",
          "Moratalaz",
          "Cuatro Caminos",
          "Barrio del Pilar",
          "Vallecas",
          "Mendez Alvaro",
          "Castellana",
          "Parque del Retiro",
          "Plaza Castilla",
          "Ensanche de Vallecas",
          "Urb. Embajada",
          "Pza. Fernández Ladreda",
          "Sanchinarro",
          "El Pardo",
          "Juan Carlos I",
          "Tres Olivos"
         ],
         "xaxis": "x",
         "y": [
          -0.2216742908317096,
          -0.2898328159598601,
          null,
          -0.38537619248108024,
          null,
          -0.4855500311736707,
          -0.6071467086345542,
          null,
          -0.3267460829809855,
          -0.37635267356411206,
          null,
          -0.3894598277690102,
          null,
          null,
          null,
          null,
          null,
          null,
          null,
          -0.36969812394297047,
          -0.3968740744011898,
          null,
          null,
          null
         ],
         "yaxis": "y"
        },
        {
         "alignmentgroup": "True",
         "hovertemplate": "variable=EBE<br>name=%{x}<br>Pollutant Contribution=%{y}<extra></extra>",
         "legendgroup": "EBE",
         "marker": {
          "color": "rgb(77,175,74)",
          "pattern": {
           "shape": ""
          }
         },
         "name": "EBE",
         "offsetgroup": "EBE",
         "orientation": "v",
         "showlegend": true,
         "textposition": "auto",
         "type": "bar",
         "x": [
          "Pza. de España",
          "Escuelas Aguirre",
          "Avda. Ramón y Cajal",
          "Arturo Soria",
          "Villaverde",
          "Farolillo",
          "Casa de Campo",
          "Barajas Pueblo",
          "Pza. del Carmen",
          "Moratalaz",
          "Cuatro Caminos",
          "Barrio del Pilar",
          "Vallecas",
          "Mendez Alvaro",
          "Castellana",
          "Parque del Retiro",
          "Plaza Castilla",
          "Ensanche de Vallecas",
          "Urb. Embajada",
          "Pza. Fernández Ladreda",
          "Sanchinarro",
          "El Pardo",
          "Juan Carlos I",
          "Tres Olivos"
         ],
         "xaxis": "x",
         "y": [
          null,
          -0.4938128994233997,
          -0.5792638173764489,
          null,
          null,
          -0.508519494304653,
          -0.5746009358246003,
          null,
          null,
          null,
          -0.43270907221489235,
          null,
          null,
          null,
          null,
          null,
          null,
          null,
          -0.5071593391423881,
          null,
          null,
          null,
          null,
          null
         ],
         "yaxis": "y"
        },
        {
         "alignmentgroup": "True",
         "hovertemplate": "variable=NMHC<br>name=%{x}<br>Pollutant Contribution=%{y}<extra></extra>",
         "legendgroup": "NMHC",
         "marker": {
          "color": "rgb(152,78,163)",
          "pattern": {
           "shape": ""
          }
         },
         "name": "NMHC",
         "offsetgroup": "NMHC",
         "orientation": "v",
         "showlegend": true,
         "textposition": "auto",
         "type": "bar",
         "x": [
          "Pza. de España",
          "Escuelas Aguirre",
          "Avda. Ramón y Cajal",
          "Arturo Soria",
          "Villaverde",
          "Farolillo",
          "Casa de Campo",
          "Barajas Pueblo",
          "Pza. del Carmen",
          "Moratalaz",
          "Cuatro Caminos",
          "Barrio del Pilar",
          "Vallecas",
          "Mendez Alvaro",
          "Castellana",
          "Parque del Retiro",
          "Plaza Castilla",
          "Ensanche de Vallecas",
          "Urb. Embajada",
          "Pza. Fernández Ladreda",
          "Sanchinarro",
          "El Pardo",
          "Juan Carlos I",
          "Tres Olivos"
         ],
         "xaxis": "x",
         "y": [
          null,
          -0.8594291148714582,
          null,
          null,
          null,
          null,
          -0.8572348615224585,
          null,
          null,
          null,
          null,
          null,
          null,
          null,
          null,
          null,
          null,
          null,
          -0.6643857174576537,
          null,
          null,
          null,
          null,
          null
         ],
         "yaxis": "y"
        },
        {
         "alignmentgroup": "True",
         "hovertemplate": "variable=NOx<br>name=%{x}<br>Pollutant Contribution=%{y}<extra></extra>",
         "legendgroup": "NOx",
         "marker": {
          "color": "rgb(255,127,0)",
          "pattern": {
           "shape": ""
          }
         },
         "name": "NOx",
         "offsetgroup": "NOx",
         "orientation": "v",
         "showlegend": true,
         "textposition": "auto",
         "type": "bar",
         "x": [
          "Pza. de España",
          "Escuelas Aguirre",
          "Avda. Ramón y Cajal",
          "Arturo Soria",
          "Villaverde",
          "Farolillo",
          "Casa de Campo",
          "Barajas Pueblo",
          "Pza. del Carmen",
          "Moratalaz",
          "Cuatro Caminos",
          "Barrio del Pilar",
          "Vallecas",
          "Mendez Alvaro",
          "Castellana",
          "Parque del Retiro",
          "Plaza Castilla",
          "Ensanche de Vallecas",
          "Urb. Embajada",
          "Pza. Fernández Ladreda",
          "Sanchinarro",
          "El Pardo",
          "Juan Carlos I",
          "Tres Olivos"
         ],
         "xaxis": "x",
         "y": [
          -0.2589708908255061,
          -0.05075421590545245,
          -0.3202315433734472,
          -0.3873121589012505,
          -0.21423952097999116,
          -0.3978105769239293,
          -0.6942768055545993,
          -0.3986671801600643,
          -0.2790032269976137,
          -0.3263522953875924,
          -0.27003988770935056,
          -0.31300311825796023,
          -0.41769025483797756,
          -0.38159478795082746,
          -0.3930532773341367,
          -0.5527704985367802,
          -0.15173550682484524,
          -0.3725498607480948,
          -0.2774769336225198,
          0.06449885497857484,
          -0.4754032498354983,
          -0.7875167807347665,
          -0.5751902896199287,
          -0.5089349627373021
         ],
         "yaxis": "y"
        },
        {
         "alignmentgroup": "True",
         "hovertemplate": "variable=NO_2<br>name=%{x}<br>Pollutant Contribution=%{y}<extra></extra>",
         "legendgroup": "NO_2",
         "marker": {
          "color": "rgb(255,255,51)",
          "pattern": {
           "shape": ""
          }
         },
         "name": "NO_2",
         "offsetgroup": "NO_2",
         "orientation": "v",
         "showlegend": true,
         "textposition": "auto",
         "type": "bar",
         "x": [
          "Pza. de España",
          "Escuelas Aguirre",
          "Avda. Ramón y Cajal",
          "Arturo Soria",
          "Villaverde",
          "Farolillo",
          "Casa de Campo",
          "Barajas Pueblo",
          "Pza. del Carmen",
          "Moratalaz",
          "Cuatro Caminos",
          "Barrio del Pilar",
          "Vallecas",
          "Mendez Alvaro",
          "Castellana",
          "Parque del Retiro",
          "Plaza Castilla",
          "Ensanche de Vallecas",
          "Urb. Embajada",
          "Pza. Fernández Ladreda",
          "Sanchinarro",
          "El Pardo",
          "Juan Carlos I",
          "Tres Olivos"
         ],
         "xaxis": "x",
         "y": [
          -0.28961337350973476,
          0.19786646553295592,
          -0.206170639429086,
          -0.2950675132189166,
          -0.30282559340522264,
          -0.4150583586028956,
          -0.8654755799573662,
          -0.35717496851898145,
          -0.06603300524058642,
          -0.2738032210198981,
          -0.19526834053212072,
          -0.290921569075024,
          -0.33863480480267255,
          -0.3670019699252507,
          -0.24472238228711443,
          -0.5282772692342105,
          -0.18128797236574487,
          -0.3645902526535176,
          -0.2238194047938059,
          0.09416565401034013,
          -0.4873081544191948,
          -1.0389710290274627,
          -0.6737439709188081,
          -0.5064607103974831
         ],
         "yaxis": "y"
        },
        {
         "alignmentgroup": "True",
         "hovertemplate": "variable=O_3<br>name=%{x}<br>Pollutant Contribution=%{y}<extra></extra>",
         "legendgroup": "O_3",
         "marker": {
          "color": "rgb(166,86,40)",
          "pattern": {
           "shape": ""
          }
         },
         "name": "O_3",
         "offsetgroup": "O_3",
         "orientation": "v",
         "showlegend": true,
         "textposition": "auto",
         "type": "bar",
         "x": [
          "Pza. de España",
          "Escuelas Aguirre",
          "Avda. Ramón y Cajal",
          "Arturo Soria",
          "Villaverde",
          "Farolillo",
          "Casa de Campo",
          "Barajas Pueblo",
          "Pza. del Carmen",
          "Moratalaz",
          "Cuatro Caminos",
          "Barrio del Pilar",
          "Vallecas",
          "Mendez Alvaro",
          "Castellana",
          "Parque del Retiro",
          "Plaza Castilla",
          "Ensanche de Vallecas",
          "Urb. Embajada",
          "Pza. Fernández Ladreda",
          "Sanchinarro",
          "El Pardo",
          "Juan Carlos I",
          "Tres Olivos"
         ],
         "xaxis": "x",
         "y": [
          null,
          -0.05059176352544359,
          null,
          0.10809818149221524,
          0.019197264553887927,
          0.1908099786620766,
          0.47951413144432853,
          0.21533464944585046,
          -0.3802052705401295,
          null,
          null,
          0.21964034667116583,
          null,
          null,
          null,
          0.1872693399860945,
          null,
          0.14041401490024247,
          null,
          -0.024159501617819296,
          null,
          0.4121702771992613,
          0.33073137867412067,
          0.46672660942556293
         ],
         "yaxis": "y"
        },
        {
         "alignmentgroup": "True",
         "hovertemplate": "variable=PM10<br>name=%{x}<br>Pollutant Contribution=%{y}<extra></extra>",
         "legendgroup": "PM10",
         "marker": {
          "color": "rgb(247,129,191)",
          "pattern": {
           "shape": ""
          }
         },
         "name": "PM10",
         "offsetgroup": "PM10",
         "orientation": "v",
         "showlegend": true,
         "textposition": "auto",
         "type": "bar",
         "x": [
          "Pza. de España",
          "Escuelas Aguirre",
          "Avda. Ramón y Cajal",
          "Arturo Soria",
          "Villaverde",
          "Farolillo",
          "Casa de Campo",
          "Barajas Pueblo",
          "Pza. del Carmen",
          "Moratalaz",
          "Cuatro Caminos",
          "Barrio del Pilar",
          "Vallecas",
          "Mendez Alvaro",
          "Castellana",
          "Parque del Retiro",
          "Plaza Castilla",
          "Ensanche de Vallecas",
          "Urb. Embajada",
          "Pza. Fernández Ladreda",
          "Sanchinarro",
          "El Pardo",
          "Juan Carlos I",
          "Tres Olivos"
         ],
         "xaxis": "x",
         "y": [
          null,
          -0.6866904398537259,
          null,
          null,
          null,
          -0.5858168575795121,
          -0.6393088001537369,
          null,
          null,
          -0.4802688246691526,
          -0.7073102207578111,
          null,
          -0.44749892117539986,
          -0.6495954482362342,
          -0.7354937651837162,
          null,
          -0.7642955015966048,
          null,
          -0.4796866932699393,
          -0.40898250134458447,
          -0.5970586559334898,
          null,
          null,
          -0.5336098158777638
         ],
         "yaxis": "y"
        },
        {
         "alignmentgroup": "True",
         "hovertemplate": "variable=SO_2<br>name=%{x}<br>Pollutant Contribution=%{y}<extra></extra>",
         "legendgroup": "SO_2",
         "marker": {
          "color": "rgb(153,153,153)",
          "pattern": {
           "shape": ""
          }
         },
         "name": "SO_2",
         "offsetgroup": "SO_2",
         "orientation": "v",
         "showlegend": true,
         "textposition": "auto",
         "type": "bar",
         "x": [
          "Pza. de España",
          "Escuelas Aguirre",
          "Avda. Ramón y Cajal",
          "Arturo Soria",
          "Villaverde",
          "Farolillo",
          "Casa de Campo",
          "Barajas Pueblo",
          "Pza. del Carmen",
          "Moratalaz",
          "Cuatro Caminos",
          "Barrio del Pilar",
          "Vallecas",
          "Mendez Alvaro",
          "Castellana",
          "Parque del Retiro",
          "Plaza Castilla",
          "Ensanche de Vallecas",
          "Urb. Embajada",
          "Pza. Fernández Ladreda",
          "Sanchinarro",
          "El Pardo",
          "Juan Carlos I",
          "Tres Olivos"
         ],
         "xaxis": "x",
         "y": [
          -0.8901426574358721,
          -0.6969005213352363,
          null,
          null,
          -0.682250130227056,
          -0.6325319888509097,
          -0.7580353274963062,
          null,
          -0.4577932971734918,
          0.1829885494772033,
          -0.6726085241272426,
          null,
          -0.8290419040457802,
          null,
          null,
          null,
          null,
          null,
          null,
          null,
          -0.3390544874384429,
          null,
          null,
          null
         ],
         "yaxis": "y"
        },
        {
         "alignmentgroup": "True",
         "hovertemplate": "variable=TCH<br>name=%{x}<br>Pollutant Contribution=%{y}<extra></extra>",
         "legendgroup": "TCH",
         "marker": {
          "color": "rgb(228,26,28)",
          "pattern": {
           "shape": ""
          }
         },
         "name": "TCH",
         "offsetgroup": "TCH",
         "orientation": "v",
         "showlegend": true,
         "textposition": "auto",
         "type": "bar",
         "x": [
          "Pza. de España",
          "Escuelas Aguirre",
          "Avda. Ramón y Cajal",
          "Arturo Soria",
          "Villaverde",
          "Farolillo",
          "Casa de Campo",
          "Barajas Pueblo",
          "Pza. del Carmen",
          "Moratalaz",
          "Cuatro Caminos",
          "Barrio del Pilar",
          "Vallecas",
          "Mendez Alvaro",
          "Castellana",
          "Parque del Retiro",
          "Plaza Castilla",
          "Ensanche de Vallecas",
          "Urb. Embajada",
          "Pza. Fernández Ladreda",
          "Sanchinarro",
          "El Pardo",
          "Juan Carlos I",
          "Tres Olivos"
         ],
         "xaxis": "x",
         "y": [
          null,
          0.31695733615734434,
          null,
          null,
          null,
          null,
          -1.0566447735487399,
          null,
          null,
          null,
          null,
          null,
          null,
          null,
          null,
          null,
          null,
          null,
          -0.3630887102012929,
          null,
          null,
          null,
          null,
          null
         ],
         "yaxis": "y"
        },
        {
         "alignmentgroup": "True",
         "hovertemplate": "variable=TOL<br>name=%{x}<br>Pollutant Contribution=%{y}<extra></extra>",
         "legendgroup": "TOL",
         "marker": {
          "color": "rgb(55,126,184)",
          "pattern": {
           "shape": ""
          }
         },
         "name": "TOL",
         "offsetgroup": "TOL",
         "orientation": "v",
         "showlegend": true,
         "textposition": "auto",
         "type": "bar",
         "x": [
          "Pza. de España",
          "Escuelas Aguirre",
          "Avda. Ramón y Cajal",
          "Arturo Soria",
          "Villaverde",
          "Farolillo",
          "Casa de Campo",
          "Barajas Pueblo",
          "Pza. del Carmen",
          "Moratalaz",
          "Cuatro Caminos",
          "Barrio del Pilar",
          "Vallecas",
          "Mendez Alvaro",
          "Castellana",
          "Parque del Retiro",
          "Plaza Castilla",
          "Ensanche de Vallecas",
          "Urb. Embajada",
          "Pza. Fernández Ladreda",
          "Sanchinarro",
          "El Pardo",
          "Juan Carlos I",
          "Tres Olivos"
         ],
         "xaxis": "x",
         "y": [
          null,
          -0.43287031213027316,
          -0.5621052212661088,
          null,
          null,
          -0.49515834307876294,
          -0.5545160631085049,
          null,
          null,
          null,
          -0.45627642333306057,
          null,
          null,
          null,
          null,
          null,
          null,
          null,
          -0.4606086153757555,
          null,
          null,
          null,
          null,
          null
         ],
         "yaxis": "y"
        },
        {
         "alignmentgroup": "True",
         "hovertemplate": "variable=MXY<br>name=%{x}<br>Pollutant Contribution=%{y}<extra></extra>",
         "legendgroup": "MXY",
         "marker": {
          "color": "rgb(77,175,74)",
          "pattern": {
           "shape": ""
          }
         },
         "name": "MXY",
         "offsetgroup": "MXY",
         "orientation": "v",
         "showlegend": true,
         "textposition": "auto",
         "type": "bar",
         "x": [
          "Pza. de España",
          "Escuelas Aguirre",
          "Avda. Ramón y Cajal",
          "Arturo Soria",
          "Villaverde",
          "Farolillo",
          "Casa de Campo",
          "Barajas Pueblo",
          "Pza. del Carmen",
          "Moratalaz",
          "Cuatro Caminos",
          "Barrio del Pilar",
          "Vallecas",
          "Mendez Alvaro",
          "Castellana",
          "Parque del Retiro",
          "Plaza Castilla",
          "Ensanche de Vallecas",
          "Urb. Embajada",
          "Pza. Fernández Ladreda",
          "Sanchinarro",
          "El Pardo",
          "Juan Carlos I",
          "Tres Olivos"
         ],
         "xaxis": "x",
         "y": [
          null,
          null,
          null,
          null,
          null,
          null,
          null,
          null,
          null,
          null,
          null,
          null,
          null,
          null,
          null,
          null,
          null,
          null,
          null,
          null,
          null,
          null,
          null,
          null
         ],
         "yaxis": "y"
        },
        {
         "alignmentgroup": "True",
         "hovertemplate": "variable=OXY<br>name=%{x}<br>Pollutant Contribution=%{y}<extra></extra>",
         "legendgroup": "OXY",
         "marker": {
          "color": "rgb(152,78,163)",
          "pattern": {
           "shape": ""
          }
         },
         "name": "OXY",
         "offsetgroup": "OXY",
         "orientation": "v",
         "showlegend": true,
         "textposition": "auto",
         "type": "bar",
         "x": [
          "Pza. de España",
          "Escuelas Aguirre",
          "Avda. Ramón y Cajal",
          "Arturo Soria",
          "Villaverde",
          "Farolillo",
          "Casa de Campo",
          "Barajas Pueblo",
          "Pza. del Carmen",
          "Moratalaz",
          "Cuatro Caminos",
          "Barrio del Pilar",
          "Vallecas",
          "Mendez Alvaro",
          "Castellana",
          "Parque del Retiro",
          "Plaza Castilla",
          "Ensanche de Vallecas",
          "Urb. Embajada",
          "Pza. Fernández Ladreda",
          "Sanchinarro",
          "El Pardo",
          "Juan Carlos I",
          "Tres Olivos"
         ],
         "xaxis": "x",
         "y": [
          null,
          null,
          null,
          null,
          null,
          null,
          null,
          null,
          null,
          null,
          null,
          null,
          null,
          null,
          null,
          null,
          null,
          null,
          null,
          null,
          null,
          null,
          null,
          null
         ],
         "yaxis": "y"
        },
        {
         "alignmentgroup": "True",
         "hovertemplate": "variable=PXY<br>name=%{x}<br>Pollutant Contribution=%{y}<extra></extra>",
         "legendgroup": "PXY",
         "marker": {
          "color": "rgb(255,127,0)",
          "pattern": {
           "shape": ""
          }
         },
         "name": "PXY",
         "offsetgroup": "PXY",
         "orientation": "v",
         "showlegend": true,
         "textposition": "auto",
         "type": "bar",
         "x": [
          "Pza. de España",
          "Escuelas Aguirre",
          "Avda. Ramón y Cajal",
          "Arturo Soria",
          "Villaverde",
          "Farolillo",
          "Casa de Campo",
          "Barajas Pueblo",
          "Pza. del Carmen",
          "Moratalaz",
          "Cuatro Caminos",
          "Barrio del Pilar",
          "Vallecas",
          "Mendez Alvaro",
          "Castellana",
          "Parque del Retiro",
          "Plaza Castilla",
          "Ensanche de Vallecas",
          "Urb. Embajada",
          "Pza. Fernández Ladreda",
          "Sanchinarro",
          "El Pardo",
          "Juan Carlos I",
          "Tres Olivos"
         ],
         "xaxis": "x",
         "y": [
          null,
          null,
          null,
          null,
          null,
          null,
          null,
          null,
          null,
          null,
          null,
          null,
          null,
          null,
          null,
          null,
          null,
          null,
          null,
          null,
          null,
          null,
          null,
          null
         ],
         "yaxis": "y"
        },
        {
         "alignmentgroup": "True",
         "hovertemplate": "variable=PM25<br>name=%{x}<br>Pollutant Contribution=%{y}<extra></extra>",
         "legendgroup": "PM25",
         "marker": {
          "color": "rgb(255,255,51)",
          "pattern": {
           "shape": ""
          }
         },
         "name": "PM25",
         "offsetgroup": "PM25",
         "orientation": "v",
         "showlegend": true,
         "textposition": "auto",
         "type": "bar",
         "x": [
          "Pza. de España",
          "Escuelas Aguirre",
          "Avda. Ramón y Cajal",
          "Arturo Soria",
          "Villaverde",
          "Farolillo",
          "Casa de Campo",
          "Barajas Pueblo",
          "Pza. del Carmen",
          "Moratalaz",
          "Cuatro Caminos",
          "Barrio del Pilar",
          "Vallecas",
          "Mendez Alvaro",
          "Castellana",
          "Parque del Retiro",
          "Plaza Castilla",
          "Ensanche de Vallecas",
          "Urb. Embajada",
          "Pza. Fernández Ladreda",
          "Sanchinarro",
          "El Pardo",
          "Juan Carlos I",
          "Tres Olivos"
         ],
         "xaxis": "x",
         "y": [
          null,
          -0.5664743795940791,
          null,
          null,
          null,
          null,
          -0.6054415651505319,
          null,
          null,
          null,
          -0.5815351182060597,
          null,
          null,
          -0.5016381568078577,
          -0.6324004762926817,
          null,
          -0.6047326205626965,
          null,
          null,
          -0.2790759097073241,
          null,
          null,
          null,
          null
         ],
         "yaxis": "y"
        },
        {
         "alignmentgroup": "True",
         "hovertemplate": "variable=CH4<br>name=%{x}<br>Pollutant Contribution=%{y}<extra></extra>",
         "legendgroup": "CH4",
         "marker": {
          "color": "rgb(166,86,40)",
          "pattern": {
           "shape": ""
          }
         },
         "name": "CH4",
         "offsetgroup": "CH4",
         "orientation": "v",
         "showlegend": true,
         "textposition": "auto",
         "type": "bar",
         "x": [
          "Pza. de España",
          "Escuelas Aguirre",
          "Avda. Ramón y Cajal",
          "Arturo Soria",
          "Villaverde",
          "Farolillo",
          "Casa de Campo",
          "Barajas Pueblo",
          "Pza. del Carmen",
          "Moratalaz",
          "Cuatro Caminos",
          "Barrio del Pilar",
          "Vallecas",
          "Mendez Alvaro",
          "Castellana",
          "Parque del Retiro",
          "Plaza Castilla",
          "Ensanche de Vallecas",
          "Urb. Embajada",
          "Pza. Fernández Ladreda",
          "Sanchinarro",
          "El Pardo",
          "Juan Carlos I",
          "Tres Olivos"
         ],
         "xaxis": "x",
         "y": [
          null,
          0.7901295488128366,
          null,
          null,
          null,
          null,
          -0.849929632105912,
          null,
          null,
          null,
          null,
          null,
          null,
          null,
          null,
          null,
          null,
          null,
          -0.17377186318657184,
          null,
          null,
          null,
          null,
          null
         ],
         "yaxis": "y"
        },
        {
         "alignmentgroup": "True",
         "hovertemplate": "variable=NO<br>name=%{x}<br>Pollutant Contribution=%{y}<extra></extra>",
         "legendgroup": "NO",
         "marker": {
          "color": "rgb(247,129,191)",
          "pattern": {
           "shape": ""
          }
         },
         "name": "NO",
         "offsetgroup": "NO",
         "orientation": "v",
         "showlegend": true,
         "textposition": "auto",
         "type": "bar",
         "x": [
          "Pza. de España",
          "Escuelas Aguirre",
          "Avda. Ramón y Cajal",
          "Arturo Soria",
          "Villaverde",
          "Farolillo",
          "Casa de Campo",
          "Barajas Pueblo",
          "Pza. del Carmen",
          "Moratalaz",
          "Cuatro Caminos",
          "Barrio del Pilar",
          "Vallecas",
          "Mendez Alvaro",
          "Castellana",
          "Parque del Retiro",
          "Plaza Castilla",
          "Ensanche de Vallecas",
          "Urb. Embajada",
          "Pza. Fernández Ladreda",
          "Sanchinarro",
          "El Pardo",
          "Juan Carlos I",
          "Tres Olivos"
         ],
         "xaxis": "x",
         "y": [
          0.056452820061771485,
          0.1358163358299667,
          -0.06874616814746949,
          -0.1250060309290246,
          0.1265391594813312,
          -0.08589195410817121,
          -0.30858805869647704,
          -0.11302166276516705,
          -0.07231967146430625,
          -0.04742846218307287,
          -0.0017343324423309543,
          -0.019967334056517436,
          -0.14897169667042362,
          -0.08419113673026463,
          -0.15599238360336684,
          -0.2568243987192934,
          0.16167508472871314,
          -0.0725003345804558,
          0.00045154573727354736,
          0.34753395487585725,
          -0.16484636378165524,
          -0.3648891216423333,
          -0.22326597024817363,
          -0.20435879107382057
         ],
         "yaxis": "y"
        }
       ],
       "layout": {
        "barmode": "stack",
        "legend": {
         "title": {
          "text": "variable"
         },
         "tracegroupgap": 0
        },
        "template": {
         "data": {
          "bar": [
           {
            "error_x": {
             "color": "#2a3f5f"
            },
            "error_y": {
             "color": "#2a3f5f"
            },
            "marker": {
             "line": {
              "color": "white",
              "width": 0.5
             },
             "pattern": {
              "fillmode": "overlay",
              "size": 10,
              "solidity": 0.2
             }
            },
            "type": "bar"
           }
          ],
          "barpolar": [
           {
            "marker": {
             "line": {
              "color": "white",
              "width": 0.5
             },
             "pattern": {
              "fillmode": "overlay",
              "size": 10,
              "solidity": 0.2
             }
            },
            "type": "barpolar"
           }
          ],
          "carpet": [
           {
            "aaxis": {
             "endlinecolor": "#2a3f5f",
             "gridcolor": "#C8D4E3",
             "linecolor": "#C8D4E3",
             "minorgridcolor": "#C8D4E3",
             "startlinecolor": "#2a3f5f"
            },
            "baxis": {
             "endlinecolor": "#2a3f5f",
             "gridcolor": "#C8D4E3",
             "linecolor": "#C8D4E3",
             "minorgridcolor": "#C8D4E3",
             "startlinecolor": "#2a3f5f"
            },
            "type": "carpet"
           }
          ],
          "choropleth": [
           {
            "colorbar": {
             "outlinewidth": 0,
             "ticks": ""
            },
            "type": "choropleth"
           }
          ],
          "contour": [
           {
            "colorbar": {
             "outlinewidth": 0,
             "ticks": ""
            },
            "colorscale": [
             [
              0,
              "#0d0887"
             ],
             [
              0.1111111111111111,
              "#46039f"
             ],
             [
              0.2222222222222222,
              "#7201a8"
             ],
             [
              0.3333333333333333,
              "#9c179e"
             ],
             [
              0.4444444444444444,
              "#bd3786"
             ],
             [
              0.5555555555555556,
              "#d8576b"
             ],
             [
              0.6666666666666666,
              "#ed7953"
             ],
             [
              0.7777777777777778,
              "#fb9f3a"
             ],
             [
              0.8888888888888888,
              "#fdca26"
             ],
             [
              1,
              "#f0f921"
             ]
            ],
            "type": "contour"
           }
          ],
          "contourcarpet": [
           {
            "colorbar": {
             "outlinewidth": 0,
             "ticks": ""
            },
            "type": "contourcarpet"
           }
          ],
          "heatmap": [
           {
            "colorbar": {
             "outlinewidth": 0,
             "ticks": ""
            },
            "colorscale": [
             [
              0,
              "#0d0887"
             ],
             [
              0.1111111111111111,
              "#46039f"
             ],
             [
              0.2222222222222222,
              "#7201a8"
             ],
             [
              0.3333333333333333,
              "#9c179e"
             ],
             [
              0.4444444444444444,
              "#bd3786"
             ],
             [
              0.5555555555555556,
              "#d8576b"
             ],
             [
              0.6666666666666666,
              "#ed7953"
             ],
             [
              0.7777777777777778,
              "#fb9f3a"
             ],
             [
              0.8888888888888888,
              "#fdca26"
             ],
             [
              1,
              "#f0f921"
             ]
            ],
            "type": "heatmap"
           }
          ],
          "heatmapgl": [
           {
            "colorbar": {
             "outlinewidth": 0,
             "ticks": ""
            },
            "colorscale": [
             [
              0,
              "#0d0887"
             ],
             [
              0.1111111111111111,
              "#46039f"
             ],
             [
              0.2222222222222222,
              "#7201a8"
             ],
             [
              0.3333333333333333,
              "#9c179e"
             ],
             [
              0.4444444444444444,
              "#bd3786"
             ],
             [
              0.5555555555555556,
              "#d8576b"
             ],
             [
              0.6666666666666666,
              "#ed7953"
             ],
             [
              0.7777777777777778,
              "#fb9f3a"
             ],
             [
              0.8888888888888888,
              "#fdca26"
             ],
             [
              1,
              "#f0f921"
             ]
            ],
            "type": "heatmapgl"
           }
          ],
          "histogram": [
           {
            "marker": {
             "pattern": {
              "fillmode": "overlay",
              "size": 10,
              "solidity": 0.2
             }
            },
            "type": "histogram"
           }
          ],
          "histogram2d": [
           {
            "colorbar": {
             "outlinewidth": 0,
             "ticks": ""
            },
            "colorscale": [
             [
              0,
              "#0d0887"
             ],
             [
              0.1111111111111111,
              "#46039f"
             ],
             [
              0.2222222222222222,
              "#7201a8"
             ],
             [
              0.3333333333333333,
              "#9c179e"
             ],
             [
              0.4444444444444444,
              "#bd3786"
             ],
             [
              0.5555555555555556,
              "#d8576b"
             ],
             [
              0.6666666666666666,
              "#ed7953"
             ],
             [
              0.7777777777777778,
              "#fb9f3a"
             ],
             [
              0.8888888888888888,
              "#fdca26"
             ],
             [
              1,
              "#f0f921"
             ]
            ],
            "type": "histogram2d"
           }
          ],
          "histogram2dcontour": [
           {
            "colorbar": {
             "outlinewidth": 0,
             "ticks": ""
            },
            "colorscale": [
             [
              0,
              "#0d0887"
             ],
             [
              0.1111111111111111,
              "#46039f"
             ],
             [
              0.2222222222222222,
              "#7201a8"
             ],
             [
              0.3333333333333333,
              "#9c179e"
             ],
             [
              0.4444444444444444,
              "#bd3786"
             ],
             [
              0.5555555555555556,
              "#d8576b"
             ],
             [
              0.6666666666666666,
              "#ed7953"
             ],
             [
              0.7777777777777778,
              "#fb9f3a"
             ],
             [
              0.8888888888888888,
              "#fdca26"
             ],
             [
              1,
              "#f0f921"
             ]
            ],
            "type": "histogram2dcontour"
           }
          ],
          "mesh3d": [
           {
            "colorbar": {
             "outlinewidth": 0,
             "ticks": ""
            },
            "type": "mesh3d"
           }
          ],
          "parcoords": [
           {
            "line": {
             "colorbar": {
              "outlinewidth": 0,
              "ticks": ""
             }
            },
            "type": "parcoords"
           }
          ],
          "pie": [
           {
            "automargin": true,
            "type": "pie"
           }
          ],
          "scatter": [
           {
            "fillpattern": {
             "fillmode": "overlay",
             "size": 10,
             "solidity": 0.2
            },
            "type": "scatter"
           }
          ],
          "scatter3d": [
           {
            "line": {
             "colorbar": {
              "outlinewidth": 0,
              "ticks": ""
             }
            },
            "marker": {
             "colorbar": {
              "outlinewidth": 0,
              "ticks": ""
             }
            },
            "type": "scatter3d"
           }
          ],
          "scattercarpet": [
           {
            "marker": {
             "colorbar": {
              "outlinewidth": 0,
              "ticks": ""
             }
            },
            "type": "scattercarpet"
           }
          ],
          "scattergeo": [
           {
            "marker": {
             "colorbar": {
              "outlinewidth": 0,
              "ticks": ""
             }
            },
            "type": "scattergeo"
           }
          ],
          "scattergl": [
           {
            "marker": {
             "colorbar": {
              "outlinewidth": 0,
              "ticks": ""
             }
            },
            "type": "scattergl"
           }
          ],
          "scattermapbox": [
           {
            "marker": {
             "colorbar": {
              "outlinewidth": 0,
              "ticks": ""
             }
            },
            "type": "scattermapbox"
           }
          ],
          "scatterpolar": [
           {
            "marker": {
             "colorbar": {
              "outlinewidth": 0,
              "ticks": ""
             }
            },
            "type": "scatterpolar"
           }
          ],
          "scatterpolargl": [
           {
            "marker": {
             "colorbar": {
              "outlinewidth": 0,
              "ticks": ""
             }
            },
            "type": "scatterpolargl"
           }
          ],
          "scatterternary": [
           {
            "marker": {
             "colorbar": {
              "outlinewidth": 0,
              "ticks": ""
             }
            },
            "type": "scatterternary"
           }
          ],
          "surface": [
           {
            "colorbar": {
             "outlinewidth": 0,
             "ticks": ""
            },
            "colorscale": [
             [
              0,
              "#0d0887"
             ],
             [
              0.1111111111111111,
              "#46039f"
             ],
             [
              0.2222222222222222,
              "#7201a8"
             ],
             [
              0.3333333333333333,
              "#9c179e"
             ],
             [
              0.4444444444444444,
              "#bd3786"
             ],
             [
              0.5555555555555556,
              "#d8576b"
             ],
             [
              0.6666666666666666,
              "#ed7953"
             ],
             [
              0.7777777777777778,
              "#fb9f3a"
             ],
             [
              0.8888888888888888,
              "#fdca26"
             ],
             [
              1,
              "#f0f921"
             ]
            ],
            "type": "surface"
           }
          ],
          "table": [
           {
            "cells": {
             "fill": {
              "color": "#EBF0F8"
             },
             "line": {
              "color": "white"
             }
            },
            "header": {
             "fill": {
              "color": "#C8D4E3"
             },
             "line": {
              "color": "white"
             }
            },
            "type": "table"
           }
          ]
         },
         "layout": {
          "annotationdefaults": {
           "arrowcolor": "#2a3f5f",
           "arrowhead": 0,
           "arrowwidth": 1
          },
          "autotypenumbers": "strict",
          "coloraxis": {
           "colorbar": {
            "outlinewidth": 0,
            "ticks": ""
           }
          },
          "colorscale": {
           "diverging": [
            [
             0,
             "#8e0152"
            ],
            [
             0.1,
             "#c51b7d"
            ],
            [
             0.2,
             "#de77ae"
            ],
            [
             0.3,
             "#f1b6da"
            ],
            [
             0.4,
             "#fde0ef"
            ],
            [
             0.5,
             "#f7f7f7"
            ],
            [
             0.6,
             "#e6f5d0"
            ],
            [
             0.7,
             "#b8e186"
            ],
            [
             0.8,
             "#7fbc41"
            ],
            [
             0.9,
             "#4d9221"
            ],
            [
             1,
             "#276419"
            ]
           ],
           "sequential": [
            [
             0,
             "#0d0887"
            ],
            [
             0.1111111111111111,
             "#46039f"
            ],
            [
             0.2222222222222222,
             "#7201a8"
            ],
            [
             0.3333333333333333,
             "#9c179e"
            ],
            [
             0.4444444444444444,
             "#bd3786"
            ],
            [
             0.5555555555555556,
             "#d8576b"
            ],
            [
             0.6666666666666666,
             "#ed7953"
            ],
            [
             0.7777777777777778,
             "#fb9f3a"
            ],
            [
             0.8888888888888888,
             "#fdca26"
            ],
            [
             1,
             "#f0f921"
            ]
           ],
           "sequentialminus": [
            [
             0,
             "#0d0887"
            ],
            [
             0.1111111111111111,
             "#46039f"
            ],
            [
             0.2222222222222222,
             "#7201a8"
            ],
            [
             0.3333333333333333,
             "#9c179e"
            ],
            [
             0.4444444444444444,
             "#bd3786"
            ],
            [
             0.5555555555555556,
             "#d8576b"
            ],
            [
             0.6666666666666666,
             "#ed7953"
            ],
            [
             0.7777777777777778,
             "#fb9f3a"
            ],
            [
             0.8888888888888888,
             "#fdca26"
            ],
            [
             1,
             "#f0f921"
            ]
           ]
          },
          "colorway": [
           "#636efa",
           "#EF553B",
           "#00cc96",
           "#ab63fa",
           "#FFA15A",
           "#19d3f3",
           "#FF6692",
           "#B6E880",
           "#FF97FF",
           "#FECB52"
          ],
          "font": {
           "color": "#2a3f5f"
          },
          "geo": {
           "bgcolor": "white",
           "lakecolor": "white",
           "landcolor": "white",
           "showlakes": true,
           "showland": true,
           "subunitcolor": "#C8D4E3"
          },
          "hoverlabel": {
           "align": "left"
          },
          "hovermode": "closest",
          "mapbox": {
           "style": "light"
          },
          "paper_bgcolor": "white",
          "plot_bgcolor": "white",
          "polar": {
           "angularaxis": {
            "gridcolor": "#EBF0F8",
            "linecolor": "#EBF0F8",
            "ticks": ""
           },
           "bgcolor": "white",
           "radialaxis": {
            "gridcolor": "#EBF0F8",
            "linecolor": "#EBF0F8",
            "ticks": ""
           }
          },
          "scene": {
           "xaxis": {
            "backgroundcolor": "white",
            "gridcolor": "#DFE8F3",
            "gridwidth": 2,
            "linecolor": "#EBF0F8",
            "showbackground": true,
            "ticks": "",
            "zerolinecolor": "#EBF0F8"
           },
           "yaxis": {
            "backgroundcolor": "white",
            "gridcolor": "#DFE8F3",
            "gridwidth": 2,
            "linecolor": "#EBF0F8",
            "showbackground": true,
            "ticks": "",
            "zerolinecolor": "#EBF0F8"
           },
           "zaxis": {
            "backgroundcolor": "white",
            "gridcolor": "#DFE8F3",
            "gridwidth": 2,
            "linecolor": "#EBF0F8",
            "showbackground": true,
            "ticks": "",
            "zerolinecolor": "#EBF0F8"
           }
          },
          "shapedefaults": {
           "line": {
            "color": "#2a3f5f"
           }
          },
          "ternary": {
           "aaxis": {
            "gridcolor": "#DFE8F3",
            "linecolor": "#A2B1C6",
            "ticks": ""
           },
           "baxis": {
            "gridcolor": "#DFE8F3",
            "linecolor": "#A2B1C6",
            "ticks": ""
           },
           "bgcolor": "white",
           "caxis": {
            "gridcolor": "#DFE8F3",
            "linecolor": "#A2B1C6",
            "ticks": ""
           }
          },
          "title": {
           "x": 0.05
          },
          "xaxis": {
           "automargin": true,
           "gridcolor": "#EBF0F8",
           "linecolor": "#EBF0F8",
           "ticks": "",
           "title": {
            "standoff": 15
           },
           "zerolinecolor": "#EBF0F8",
           "zerolinewidth": 2
          },
          "yaxis": {
           "automargin": true,
           "gridcolor": "#EBF0F8",
           "linecolor": "#EBF0F8",
           "ticks": "",
           "title": {
            "standoff": 15
           },
           "zerolinecolor": "#EBF0F8",
           "zerolinewidth": 2
          }
         }
        },
        "title": {
         "text": "Pollutant Contribution per Station in 2018 (Stacked)"
        },
        "xaxis": {
         "anchor": "y",
         "domain": [
          0,
          1
         ],
         "title": {
          "text": "Station"
         }
        },
        "yaxis": {
         "anchor": "x",
         "domain": [
          0,
          1
         ],
         "title": {
          "text": "Pollutant Contribution"
         }
        }
       }
      },
      "text/html": [
       "<div>                            <div id=\"d2dd6a08-cc34-40a2-97a8-74bcd2c7194b\" class=\"plotly-graph-div\" style=\"height:525px; width:100%;\"></div>            <script type=\"text/javascript\">                require([\"plotly\"], function(Plotly) {                    window.PLOTLYENV=window.PLOTLYENV || {};                                    if (document.getElementById(\"d2dd6a08-cc34-40a2-97a8-74bcd2c7194b\")) {                    Plotly.newPlot(                        \"d2dd6a08-cc34-40a2-97a8-74bcd2c7194b\",                        [{\"alignmentgroup\":\"True\",\"hovertemplate\":\"variable=BEN\\u003cbr\\u003ename=%{x}\\u003cbr\\u003ePollutant Contribution=%{y}\\u003cextra\\u003e\\u003c\\u002fextra\\u003e\",\"legendgroup\":\"BEN\",\"marker\":{\"color\":\"rgb(228,26,28)\",\"pattern\":{\"shape\":\"\"}},\"name\":\"BEN\",\"offsetgroup\":\"BEN\",\"orientation\":\"v\",\"showlegend\":true,\"textposition\":\"auto\",\"x\":[\"Pza. de Espa\\u00f1a\",\"Escuelas Aguirre\",\"Avda. Ram\\u00f3n y Cajal\",\"Arturo Soria\",\"Villaverde\",\"Farolillo\",\"Casa de Campo\",\"Barajas Pueblo\",\"Pza. del Carmen\",\"Moratalaz\",\"Cuatro Caminos\",\"Barrio del Pilar\",\"Vallecas\",\"Mendez Alvaro\",\"Castellana\",\"Parque del Retiro\",\"Plaza Castilla\",\"Ensanche de Vallecas\",\"Urb. Embajada\",\"Pza. Fern\\u00e1ndez Ladreda\",\"Sanchinarro\",\"El Pardo\",\"Juan Carlos I\",\"Tres Olivos\"],\"xaxis\":\"x\",\"y\":[null,-0.23027485674522893,-0.4206003605141171,null,null,-0.42956159432163976,-0.43632984793286117,null,null,null,-0.3149403709174225,null,null,null,null,null,null,null,-0.37015736191346893,null,null,null,null,null],\"yaxis\":\"y\",\"type\":\"bar\"},{\"alignmentgroup\":\"True\",\"hovertemplate\":\"variable=CO\\u003cbr\\u003ename=%{x}\\u003cbr\\u003ePollutant Contribution=%{y}\\u003cextra\\u003e\\u003c\\u002fextra\\u003e\",\"legendgroup\":\"CO\",\"marker\":{\"color\":\"rgb(55,126,184)\",\"pattern\":{\"shape\":\"\"}},\"name\":\"CO\",\"offsetgroup\":\"CO\",\"orientation\":\"v\",\"showlegend\":true,\"textposition\":\"auto\",\"x\":[\"Pza. de Espa\\u00f1a\",\"Escuelas Aguirre\",\"Avda. Ram\\u00f3n y Cajal\",\"Arturo Soria\",\"Villaverde\",\"Farolillo\",\"Casa de Campo\",\"Barajas Pueblo\",\"Pza. del Carmen\",\"Moratalaz\",\"Cuatro Caminos\",\"Barrio del Pilar\",\"Vallecas\",\"Mendez Alvaro\",\"Castellana\",\"Parque del Retiro\",\"Plaza Castilla\",\"Ensanche de Vallecas\",\"Urb. Embajada\",\"Pza. Fern\\u00e1ndez Ladreda\",\"Sanchinarro\",\"El Pardo\",\"Juan Carlos I\",\"Tres Olivos\"],\"xaxis\":\"x\",\"y\":[-0.2216742908317096,-0.2898328159598601,null,-0.38537619248108024,null,-0.4855500311736707,-0.6071467086345542,null,-0.3267460829809855,-0.37635267356411206,null,-0.3894598277690102,null,null,null,null,null,null,null,-0.36969812394297047,-0.3968740744011898,null,null,null],\"yaxis\":\"y\",\"type\":\"bar\"},{\"alignmentgroup\":\"True\",\"hovertemplate\":\"variable=EBE\\u003cbr\\u003ename=%{x}\\u003cbr\\u003ePollutant Contribution=%{y}\\u003cextra\\u003e\\u003c\\u002fextra\\u003e\",\"legendgroup\":\"EBE\",\"marker\":{\"color\":\"rgb(77,175,74)\",\"pattern\":{\"shape\":\"\"}},\"name\":\"EBE\",\"offsetgroup\":\"EBE\",\"orientation\":\"v\",\"showlegend\":true,\"textposition\":\"auto\",\"x\":[\"Pza. de Espa\\u00f1a\",\"Escuelas Aguirre\",\"Avda. Ram\\u00f3n y Cajal\",\"Arturo Soria\",\"Villaverde\",\"Farolillo\",\"Casa de Campo\",\"Barajas Pueblo\",\"Pza. del Carmen\",\"Moratalaz\",\"Cuatro Caminos\",\"Barrio del Pilar\",\"Vallecas\",\"Mendez Alvaro\",\"Castellana\",\"Parque del Retiro\",\"Plaza Castilla\",\"Ensanche de Vallecas\",\"Urb. Embajada\",\"Pza. Fern\\u00e1ndez Ladreda\",\"Sanchinarro\",\"El Pardo\",\"Juan Carlos I\",\"Tres Olivos\"],\"xaxis\":\"x\",\"y\":[null,-0.4938128994233997,-0.5792638173764489,null,null,-0.508519494304653,-0.5746009358246003,null,null,null,-0.43270907221489235,null,null,null,null,null,null,null,-0.5071593391423881,null,null,null,null,null],\"yaxis\":\"y\",\"type\":\"bar\"},{\"alignmentgroup\":\"True\",\"hovertemplate\":\"variable=NMHC\\u003cbr\\u003ename=%{x}\\u003cbr\\u003ePollutant Contribution=%{y}\\u003cextra\\u003e\\u003c\\u002fextra\\u003e\",\"legendgroup\":\"NMHC\",\"marker\":{\"color\":\"rgb(152,78,163)\",\"pattern\":{\"shape\":\"\"}},\"name\":\"NMHC\",\"offsetgroup\":\"NMHC\",\"orientation\":\"v\",\"showlegend\":true,\"textposition\":\"auto\",\"x\":[\"Pza. de Espa\\u00f1a\",\"Escuelas Aguirre\",\"Avda. Ram\\u00f3n y Cajal\",\"Arturo Soria\",\"Villaverde\",\"Farolillo\",\"Casa de Campo\",\"Barajas Pueblo\",\"Pza. del Carmen\",\"Moratalaz\",\"Cuatro Caminos\",\"Barrio del Pilar\",\"Vallecas\",\"Mendez Alvaro\",\"Castellana\",\"Parque del Retiro\",\"Plaza Castilla\",\"Ensanche de Vallecas\",\"Urb. Embajada\",\"Pza. Fern\\u00e1ndez Ladreda\",\"Sanchinarro\",\"El Pardo\",\"Juan Carlos I\",\"Tres Olivos\"],\"xaxis\":\"x\",\"y\":[null,-0.8594291148714582,null,null,null,null,-0.8572348615224585,null,null,null,null,null,null,null,null,null,null,null,-0.6643857174576537,null,null,null,null,null],\"yaxis\":\"y\",\"type\":\"bar\"},{\"alignmentgroup\":\"True\",\"hovertemplate\":\"variable=NOx\\u003cbr\\u003ename=%{x}\\u003cbr\\u003ePollutant Contribution=%{y}\\u003cextra\\u003e\\u003c\\u002fextra\\u003e\",\"legendgroup\":\"NOx\",\"marker\":{\"color\":\"rgb(255,127,0)\",\"pattern\":{\"shape\":\"\"}},\"name\":\"NOx\",\"offsetgroup\":\"NOx\",\"orientation\":\"v\",\"showlegend\":true,\"textposition\":\"auto\",\"x\":[\"Pza. de Espa\\u00f1a\",\"Escuelas Aguirre\",\"Avda. Ram\\u00f3n y Cajal\",\"Arturo Soria\",\"Villaverde\",\"Farolillo\",\"Casa de Campo\",\"Barajas Pueblo\",\"Pza. del Carmen\",\"Moratalaz\",\"Cuatro Caminos\",\"Barrio del Pilar\",\"Vallecas\",\"Mendez Alvaro\",\"Castellana\",\"Parque del Retiro\",\"Plaza Castilla\",\"Ensanche de Vallecas\",\"Urb. Embajada\",\"Pza. Fern\\u00e1ndez Ladreda\",\"Sanchinarro\",\"El Pardo\",\"Juan Carlos I\",\"Tres Olivos\"],\"xaxis\":\"x\",\"y\":[-0.2589708908255061,-0.05075421590545245,-0.3202315433734472,-0.3873121589012505,-0.21423952097999116,-0.3978105769239293,-0.6942768055545993,-0.3986671801600643,-0.2790032269976137,-0.3263522953875924,-0.27003988770935056,-0.31300311825796023,-0.41769025483797756,-0.38159478795082746,-0.3930532773341367,-0.5527704985367802,-0.15173550682484524,-0.3725498607480948,-0.2774769336225198,0.06449885497857484,-0.4754032498354983,-0.7875167807347665,-0.5751902896199287,-0.5089349627373021],\"yaxis\":\"y\",\"type\":\"bar\"},{\"alignmentgroup\":\"True\",\"hovertemplate\":\"variable=NO_2\\u003cbr\\u003ename=%{x}\\u003cbr\\u003ePollutant Contribution=%{y}\\u003cextra\\u003e\\u003c\\u002fextra\\u003e\",\"legendgroup\":\"NO_2\",\"marker\":{\"color\":\"rgb(255,255,51)\",\"pattern\":{\"shape\":\"\"}},\"name\":\"NO_2\",\"offsetgroup\":\"NO_2\",\"orientation\":\"v\",\"showlegend\":true,\"textposition\":\"auto\",\"x\":[\"Pza. de Espa\\u00f1a\",\"Escuelas Aguirre\",\"Avda. Ram\\u00f3n y Cajal\",\"Arturo Soria\",\"Villaverde\",\"Farolillo\",\"Casa de Campo\",\"Barajas Pueblo\",\"Pza. del Carmen\",\"Moratalaz\",\"Cuatro Caminos\",\"Barrio del Pilar\",\"Vallecas\",\"Mendez Alvaro\",\"Castellana\",\"Parque del Retiro\",\"Plaza Castilla\",\"Ensanche de Vallecas\",\"Urb. Embajada\",\"Pza. Fern\\u00e1ndez Ladreda\",\"Sanchinarro\",\"El Pardo\",\"Juan Carlos I\",\"Tres Olivos\"],\"xaxis\":\"x\",\"y\":[-0.28961337350973476,0.19786646553295592,-0.206170639429086,-0.2950675132189166,-0.30282559340522264,-0.4150583586028956,-0.8654755799573662,-0.35717496851898145,-0.06603300524058642,-0.2738032210198981,-0.19526834053212072,-0.290921569075024,-0.33863480480267255,-0.3670019699252507,-0.24472238228711443,-0.5282772692342105,-0.18128797236574487,-0.3645902526535176,-0.2238194047938059,0.09416565401034013,-0.4873081544191948,-1.0389710290274627,-0.6737439709188081,-0.5064607103974831],\"yaxis\":\"y\",\"type\":\"bar\"},{\"alignmentgroup\":\"True\",\"hovertemplate\":\"variable=O_3\\u003cbr\\u003ename=%{x}\\u003cbr\\u003ePollutant Contribution=%{y}\\u003cextra\\u003e\\u003c\\u002fextra\\u003e\",\"legendgroup\":\"O_3\",\"marker\":{\"color\":\"rgb(166,86,40)\",\"pattern\":{\"shape\":\"\"}},\"name\":\"O_3\",\"offsetgroup\":\"O_3\",\"orientation\":\"v\",\"showlegend\":true,\"textposition\":\"auto\",\"x\":[\"Pza. de Espa\\u00f1a\",\"Escuelas Aguirre\",\"Avda. Ram\\u00f3n y Cajal\",\"Arturo Soria\",\"Villaverde\",\"Farolillo\",\"Casa de Campo\",\"Barajas Pueblo\",\"Pza. del Carmen\",\"Moratalaz\",\"Cuatro Caminos\",\"Barrio del Pilar\",\"Vallecas\",\"Mendez Alvaro\",\"Castellana\",\"Parque del Retiro\",\"Plaza Castilla\",\"Ensanche de Vallecas\",\"Urb. Embajada\",\"Pza. Fern\\u00e1ndez Ladreda\",\"Sanchinarro\",\"El Pardo\",\"Juan Carlos I\",\"Tres Olivos\"],\"xaxis\":\"x\",\"y\":[null,-0.05059176352544359,null,0.10809818149221524,0.019197264553887927,0.1908099786620766,0.47951413144432853,0.21533464944585046,-0.3802052705401295,null,null,0.21964034667116583,null,null,null,0.1872693399860945,null,0.14041401490024247,null,-0.024159501617819296,null,0.4121702771992613,0.33073137867412067,0.46672660942556293],\"yaxis\":\"y\",\"type\":\"bar\"},{\"alignmentgroup\":\"True\",\"hovertemplate\":\"variable=PM10\\u003cbr\\u003ename=%{x}\\u003cbr\\u003ePollutant Contribution=%{y}\\u003cextra\\u003e\\u003c\\u002fextra\\u003e\",\"legendgroup\":\"PM10\",\"marker\":{\"color\":\"rgb(247,129,191)\",\"pattern\":{\"shape\":\"\"}},\"name\":\"PM10\",\"offsetgroup\":\"PM10\",\"orientation\":\"v\",\"showlegend\":true,\"textposition\":\"auto\",\"x\":[\"Pza. de Espa\\u00f1a\",\"Escuelas Aguirre\",\"Avda. Ram\\u00f3n y Cajal\",\"Arturo Soria\",\"Villaverde\",\"Farolillo\",\"Casa de Campo\",\"Barajas Pueblo\",\"Pza. del Carmen\",\"Moratalaz\",\"Cuatro Caminos\",\"Barrio del Pilar\",\"Vallecas\",\"Mendez Alvaro\",\"Castellana\",\"Parque del Retiro\",\"Plaza Castilla\",\"Ensanche de Vallecas\",\"Urb. Embajada\",\"Pza. Fern\\u00e1ndez Ladreda\",\"Sanchinarro\",\"El Pardo\",\"Juan Carlos I\",\"Tres Olivos\"],\"xaxis\":\"x\",\"y\":[null,-0.6866904398537259,null,null,null,-0.5858168575795121,-0.6393088001537369,null,null,-0.4802688246691526,-0.7073102207578111,null,-0.44749892117539986,-0.6495954482362342,-0.7354937651837162,null,-0.7642955015966048,null,-0.4796866932699393,-0.40898250134458447,-0.5970586559334898,null,null,-0.5336098158777638],\"yaxis\":\"y\",\"type\":\"bar\"},{\"alignmentgroup\":\"True\",\"hovertemplate\":\"variable=SO_2\\u003cbr\\u003ename=%{x}\\u003cbr\\u003ePollutant Contribution=%{y}\\u003cextra\\u003e\\u003c\\u002fextra\\u003e\",\"legendgroup\":\"SO_2\",\"marker\":{\"color\":\"rgb(153,153,153)\",\"pattern\":{\"shape\":\"\"}},\"name\":\"SO_2\",\"offsetgroup\":\"SO_2\",\"orientation\":\"v\",\"showlegend\":true,\"textposition\":\"auto\",\"x\":[\"Pza. de Espa\\u00f1a\",\"Escuelas Aguirre\",\"Avda. Ram\\u00f3n y Cajal\",\"Arturo Soria\",\"Villaverde\",\"Farolillo\",\"Casa de Campo\",\"Barajas Pueblo\",\"Pza. del Carmen\",\"Moratalaz\",\"Cuatro Caminos\",\"Barrio del Pilar\",\"Vallecas\",\"Mendez Alvaro\",\"Castellana\",\"Parque del Retiro\",\"Plaza Castilla\",\"Ensanche de Vallecas\",\"Urb. Embajada\",\"Pza. Fern\\u00e1ndez Ladreda\",\"Sanchinarro\",\"El Pardo\",\"Juan Carlos I\",\"Tres Olivos\"],\"xaxis\":\"x\",\"y\":[-0.8901426574358721,-0.6969005213352363,null,null,-0.682250130227056,-0.6325319888509097,-0.7580353274963062,null,-0.4577932971734918,0.1829885494772033,-0.6726085241272426,null,-0.8290419040457802,null,null,null,null,null,null,null,-0.3390544874384429,null,null,null],\"yaxis\":\"y\",\"type\":\"bar\"},{\"alignmentgroup\":\"True\",\"hovertemplate\":\"variable=TCH\\u003cbr\\u003ename=%{x}\\u003cbr\\u003ePollutant Contribution=%{y}\\u003cextra\\u003e\\u003c\\u002fextra\\u003e\",\"legendgroup\":\"TCH\",\"marker\":{\"color\":\"rgb(228,26,28)\",\"pattern\":{\"shape\":\"\"}},\"name\":\"TCH\",\"offsetgroup\":\"TCH\",\"orientation\":\"v\",\"showlegend\":true,\"textposition\":\"auto\",\"x\":[\"Pza. de Espa\\u00f1a\",\"Escuelas Aguirre\",\"Avda. Ram\\u00f3n y Cajal\",\"Arturo Soria\",\"Villaverde\",\"Farolillo\",\"Casa de Campo\",\"Barajas Pueblo\",\"Pza. del Carmen\",\"Moratalaz\",\"Cuatro Caminos\",\"Barrio del Pilar\",\"Vallecas\",\"Mendez Alvaro\",\"Castellana\",\"Parque del Retiro\",\"Plaza Castilla\",\"Ensanche de Vallecas\",\"Urb. Embajada\",\"Pza. Fern\\u00e1ndez Ladreda\",\"Sanchinarro\",\"El Pardo\",\"Juan Carlos I\",\"Tres Olivos\"],\"xaxis\":\"x\",\"y\":[null,0.31695733615734434,null,null,null,null,-1.0566447735487399,null,null,null,null,null,null,null,null,null,null,null,-0.3630887102012929,null,null,null,null,null],\"yaxis\":\"y\",\"type\":\"bar\"},{\"alignmentgroup\":\"True\",\"hovertemplate\":\"variable=TOL\\u003cbr\\u003ename=%{x}\\u003cbr\\u003ePollutant Contribution=%{y}\\u003cextra\\u003e\\u003c\\u002fextra\\u003e\",\"legendgroup\":\"TOL\",\"marker\":{\"color\":\"rgb(55,126,184)\",\"pattern\":{\"shape\":\"\"}},\"name\":\"TOL\",\"offsetgroup\":\"TOL\",\"orientation\":\"v\",\"showlegend\":true,\"textposition\":\"auto\",\"x\":[\"Pza. de Espa\\u00f1a\",\"Escuelas Aguirre\",\"Avda. Ram\\u00f3n y Cajal\",\"Arturo Soria\",\"Villaverde\",\"Farolillo\",\"Casa de Campo\",\"Barajas Pueblo\",\"Pza. del Carmen\",\"Moratalaz\",\"Cuatro Caminos\",\"Barrio del Pilar\",\"Vallecas\",\"Mendez Alvaro\",\"Castellana\",\"Parque del Retiro\",\"Plaza Castilla\",\"Ensanche de Vallecas\",\"Urb. Embajada\",\"Pza. Fern\\u00e1ndez Ladreda\",\"Sanchinarro\",\"El Pardo\",\"Juan Carlos I\",\"Tres Olivos\"],\"xaxis\":\"x\",\"y\":[null,-0.43287031213027316,-0.5621052212661088,null,null,-0.49515834307876294,-0.5545160631085049,null,null,null,-0.45627642333306057,null,null,null,null,null,null,null,-0.4606086153757555,null,null,null,null,null],\"yaxis\":\"y\",\"type\":\"bar\"},{\"alignmentgroup\":\"True\",\"hovertemplate\":\"variable=MXY\\u003cbr\\u003ename=%{x}\\u003cbr\\u003ePollutant Contribution=%{y}\\u003cextra\\u003e\\u003c\\u002fextra\\u003e\",\"legendgroup\":\"MXY\",\"marker\":{\"color\":\"rgb(77,175,74)\",\"pattern\":{\"shape\":\"\"}},\"name\":\"MXY\",\"offsetgroup\":\"MXY\",\"orientation\":\"v\",\"showlegend\":true,\"textposition\":\"auto\",\"x\":[\"Pza. de Espa\\u00f1a\",\"Escuelas Aguirre\",\"Avda. Ram\\u00f3n y Cajal\",\"Arturo Soria\",\"Villaverde\",\"Farolillo\",\"Casa de Campo\",\"Barajas Pueblo\",\"Pza. del Carmen\",\"Moratalaz\",\"Cuatro Caminos\",\"Barrio del Pilar\",\"Vallecas\",\"Mendez Alvaro\",\"Castellana\",\"Parque del Retiro\",\"Plaza Castilla\",\"Ensanche de Vallecas\",\"Urb. Embajada\",\"Pza. Fern\\u00e1ndez Ladreda\",\"Sanchinarro\",\"El Pardo\",\"Juan Carlos I\",\"Tres Olivos\"],\"xaxis\":\"x\",\"y\":[null,null,null,null,null,null,null,null,null,null,null,null,null,null,null,null,null,null,null,null,null,null,null,null],\"yaxis\":\"y\",\"type\":\"bar\"},{\"alignmentgroup\":\"True\",\"hovertemplate\":\"variable=OXY\\u003cbr\\u003ename=%{x}\\u003cbr\\u003ePollutant Contribution=%{y}\\u003cextra\\u003e\\u003c\\u002fextra\\u003e\",\"legendgroup\":\"OXY\",\"marker\":{\"color\":\"rgb(152,78,163)\",\"pattern\":{\"shape\":\"\"}},\"name\":\"OXY\",\"offsetgroup\":\"OXY\",\"orientation\":\"v\",\"showlegend\":true,\"textposition\":\"auto\",\"x\":[\"Pza. de Espa\\u00f1a\",\"Escuelas Aguirre\",\"Avda. Ram\\u00f3n y Cajal\",\"Arturo Soria\",\"Villaverde\",\"Farolillo\",\"Casa de Campo\",\"Barajas Pueblo\",\"Pza. del Carmen\",\"Moratalaz\",\"Cuatro Caminos\",\"Barrio del Pilar\",\"Vallecas\",\"Mendez Alvaro\",\"Castellana\",\"Parque del Retiro\",\"Plaza Castilla\",\"Ensanche de Vallecas\",\"Urb. Embajada\",\"Pza. Fern\\u00e1ndez Ladreda\",\"Sanchinarro\",\"El Pardo\",\"Juan Carlos I\",\"Tres Olivos\"],\"xaxis\":\"x\",\"y\":[null,null,null,null,null,null,null,null,null,null,null,null,null,null,null,null,null,null,null,null,null,null,null,null],\"yaxis\":\"y\",\"type\":\"bar\"},{\"alignmentgroup\":\"True\",\"hovertemplate\":\"variable=PXY\\u003cbr\\u003ename=%{x}\\u003cbr\\u003ePollutant Contribution=%{y}\\u003cextra\\u003e\\u003c\\u002fextra\\u003e\",\"legendgroup\":\"PXY\",\"marker\":{\"color\":\"rgb(255,127,0)\",\"pattern\":{\"shape\":\"\"}},\"name\":\"PXY\",\"offsetgroup\":\"PXY\",\"orientation\":\"v\",\"showlegend\":true,\"textposition\":\"auto\",\"x\":[\"Pza. de Espa\\u00f1a\",\"Escuelas Aguirre\",\"Avda. Ram\\u00f3n y Cajal\",\"Arturo Soria\",\"Villaverde\",\"Farolillo\",\"Casa de Campo\",\"Barajas Pueblo\",\"Pza. del Carmen\",\"Moratalaz\",\"Cuatro Caminos\",\"Barrio del Pilar\",\"Vallecas\",\"Mendez Alvaro\",\"Castellana\",\"Parque del Retiro\",\"Plaza Castilla\",\"Ensanche de Vallecas\",\"Urb. Embajada\",\"Pza. Fern\\u00e1ndez Ladreda\",\"Sanchinarro\",\"El Pardo\",\"Juan Carlos I\",\"Tres Olivos\"],\"xaxis\":\"x\",\"y\":[null,null,null,null,null,null,null,null,null,null,null,null,null,null,null,null,null,null,null,null,null,null,null,null],\"yaxis\":\"y\",\"type\":\"bar\"},{\"alignmentgroup\":\"True\",\"hovertemplate\":\"variable=PM25\\u003cbr\\u003ename=%{x}\\u003cbr\\u003ePollutant Contribution=%{y}\\u003cextra\\u003e\\u003c\\u002fextra\\u003e\",\"legendgroup\":\"PM25\",\"marker\":{\"color\":\"rgb(255,255,51)\",\"pattern\":{\"shape\":\"\"}},\"name\":\"PM25\",\"offsetgroup\":\"PM25\",\"orientation\":\"v\",\"showlegend\":true,\"textposition\":\"auto\",\"x\":[\"Pza. de Espa\\u00f1a\",\"Escuelas Aguirre\",\"Avda. Ram\\u00f3n y Cajal\",\"Arturo Soria\",\"Villaverde\",\"Farolillo\",\"Casa de Campo\",\"Barajas Pueblo\",\"Pza. del Carmen\",\"Moratalaz\",\"Cuatro Caminos\",\"Barrio del Pilar\",\"Vallecas\",\"Mendez Alvaro\",\"Castellana\",\"Parque del Retiro\",\"Plaza Castilla\",\"Ensanche de Vallecas\",\"Urb. Embajada\",\"Pza. Fern\\u00e1ndez Ladreda\",\"Sanchinarro\",\"El Pardo\",\"Juan Carlos I\",\"Tres Olivos\"],\"xaxis\":\"x\",\"y\":[null,-0.5664743795940791,null,null,null,null,-0.6054415651505319,null,null,null,-0.5815351182060597,null,null,-0.5016381568078577,-0.6324004762926817,null,-0.6047326205626965,null,null,-0.2790759097073241,null,null,null,null],\"yaxis\":\"y\",\"type\":\"bar\"},{\"alignmentgroup\":\"True\",\"hovertemplate\":\"variable=CH4\\u003cbr\\u003ename=%{x}\\u003cbr\\u003ePollutant Contribution=%{y}\\u003cextra\\u003e\\u003c\\u002fextra\\u003e\",\"legendgroup\":\"CH4\",\"marker\":{\"color\":\"rgb(166,86,40)\",\"pattern\":{\"shape\":\"\"}},\"name\":\"CH4\",\"offsetgroup\":\"CH4\",\"orientation\":\"v\",\"showlegend\":true,\"textposition\":\"auto\",\"x\":[\"Pza. de Espa\\u00f1a\",\"Escuelas Aguirre\",\"Avda. Ram\\u00f3n y Cajal\",\"Arturo Soria\",\"Villaverde\",\"Farolillo\",\"Casa de Campo\",\"Barajas Pueblo\",\"Pza. del Carmen\",\"Moratalaz\",\"Cuatro Caminos\",\"Barrio del Pilar\",\"Vallecas\",\"Mendez Alvaro\",\"Castellana\",\"Parque del Retiro\",\"Plaza Castilla\",\"Ensanche de Vallecas\",\"Urb. Embajada\",\"Pza. Fern\\u00e1ndez Ladreda\",\"Sanchinarro\",\"El Pardo\",\"Juan Carlos I\",\"Tres Olivos\"],\"xaxis\":\"x\",\"y\":[null,0.7901295488128366,null,null,null,null,-0.849929632105912,null,null,null,null,null,null,null,null,null,null,null,-0.17377186318657184,null,null,null,null,null],\"yaxis\":\"y\",\"type\":\"bar\"},{\"alignmentgroup\":\"True\",\"hovertemplate\":\"variable=NO\\u003cbr\\u003ename=%{x}\\u003cbr\\u003ePollutant Contribution=%{y}\\u003cextra\\u003e\\u003c\\u002fextra\\u003e\",\"legendgroup\":\"NO\",\"marker\":{\"color\":\"rgb(247,129,191)\",\"pattern\":{\"shape\":\"\"}},\"name\":\"NO\",\"offsetgroup\":\"NO\",\"orientation\":\"v\",\"showlegend\":true,\"textposition\":\"auto\",\"x\":[\"Pza. de Espa\\u00f1a\",\"Escuelas Aguirre\",\"Avda. Ram\\u00f3n y Cajal\",\"Arturo Soria\",\"Villaverde\",\"Farolillo\",\"Casa de Campo\",\"Barajas Pueblo\",\"Pza. del Carmen\",\"Moratalaz\",\"Cuatro Caminos\",\"Barrio del Pilar\",\"Vallecas\",\"Mendez Alvaro\",\"Castellana\",\"Parque del Retiro\",\"Plaza Castilla\",\"Ensanche de Vallecas\",\"Urb. Embajada\",\"Pza. Fern\\u00e1ndez Ladreda\",\"Sanchinarro\",\"El Pardo\",\"Juan Carlos I\",\"Tres Olivos\"],\"xaxis\":\"x\",\"y\":[0.056452820061771485,0.1358163358299667,-0.06874616814746949,-0.1250060309290246,0.1265391594813312,-0.08589195410817121,-0.30858805869647704,-0.11302166276516705,-0.07231967146430625,-0.04742846218307287,-0.0017343324423309543,-0.019967334056517436,-0.14897169667042362,-0.08419113673026463,-0.15599238360336684,-0.2568243987192934,0.16167508472871314,-0.0725003345804558,0.00045154573727354736,0.34753395487585725,-0.16484636378165524,-0.3648891216423333,-0.22326597024817363,-0.20435879107382057],\"yaxis\":\"y\",\"type\":\"bar\"}],                        {\"template\":{\"data\":{\"barpolar\":[{\"marker\":{\"line\":{\"color\":\"white\",\"width\":0.5},\"pattern\":{\"fillmode\":\"overlay\",\"size\":10,\"solidity\":0.2}},\"type\":\"barpolar\"}],\"bar\":[{\"error_x\":{\"color\":\"#2a3f5f\"},\"error_y\":{\"color\":\"#2a3f5f\"},\"marker\":{\"line\":{\"color\":\"white\",\"width\":0.5},\"pattern\":{\"fillmode\":\"overlay\",\"size\":10,\"solidity\":0.2}},\"type\":\"bar\"}],\"carpet\":[{\"aaxis\":{\"endlinecolor\":\"#2a3f5f\",\"gridcolor\":\"#C8D4E3\",\"linecolor\":\"#C8D4E3\",\"minorgridcolor\":\"#C8D4E3\",\"startlinecolor\":\"#2a3f5f\"},\"baxis\":{\"endlinecolor\":\"#2a3f5f\",\"gridcolor\":\"#C8D4E3\",\"linecolor\":\"#C8D4E3\",\"minorgridcolor\":\"#C8D4E3\",\"startlinecolor\":\"#2a3f5f\"},\"type\":\"carpet\"}],\"choropleth\":[{\"colorbar\":{\"outlinewidth\":0,\"ticks\":\"\"},\"type\":\"choropleth\"}],\"contourcarpet\":[{\"colorbar\":{\"outlinewidth\":0,\"ticks\":\"\"},\"type\":\"contourcarpet\"}],\"contour\":[{\"colorbar\":{\"outlinewidth\":0,\"ticks\":\"\"},\"colorscale\":[[0.0,\"#0d0887\"],[0.1111111111111111,\"#46039f\"],[0.2222222222222222,\"#7201a8\"],[0.3333333333333333,\"#9c179e\"],[0.4444444444444444,\"#bd3786\"],[0.5555555555555556,\"#d8576b\"],[0.6666666666666666,\"#ed7953\"],[0.7777777777777778,\"#fb9f3a\"],[0.8888888888888888,\"#fdca26\"],[1.0,\"#f0f921\"]],\"type\":\"contour\"}],\"heatmapgl\":[{\"colorbar\":{\"outlinewidth\":0,\"ticks\":\"\"},\"colorscale\":[[0.0,\"#0d0887\"],[0.1111111111111111,\"#46039f\"],[0.2222222222222222,\"#7201a8\"],[0.3333333333333333,\"#9c179e\"],[0.4444444444444444,\"#bd3786\"],[0.5555555555555556,\"#d8576b\"],[0.6666666666666666,\"#ed7953\"],[0.7777777777777778,\"#fb9f3a\"],[0.8888888888888888,\"#fdca26\"],[1.0,\"#f0f921\"]],\"type\":\"heatmapgl\"}],\"heatmap\":[{\"colorbar\":{\"outlinewidth\":0,\"ticks\":\"\"},\"colorscale\":[[0.0,\"#0d0887\"],[0.1111111111111111,\"#46039f\"],[0.2222222222222222,\"#7201a8\"],[0.3333333333333333,\"#9c179e\"],[0.4444444444444444,\"#bd3786\"],[0.5555555555555556,\"#d8576b\"],[0.6666666666666666,\"#ed7953\"],[0.7777777777777778,\"#fb9f3a\"],[0.8888888888888888,\"#fdca26\"],[1.0,\"#f0f921\"]],\"type\":\"heatmap\"}],\"histogram2dcontour\":[{\"colorbar\":{\"outlinewidth\":0,\"ticks\":\"\"},\"colorscale\":[[0.0,\"#0d0887\"],[0.1111111111111111,\"#46039f\"],[0.2222222222222222,\"#7201a8\"],[0.3333333333333333,\"#9c179e\"],[0.4444444444444444,\"#bd3786\"],[0.5555555555555556,\"#d8576b\"],[0.6666666666666666,\"#ed7953\"],[0.7777777777777778,\"#fb9f3a\"],[0.8888888888888888,\"#fdca26\"],[1.0,\"#f0f921\"]],\"type\":\"histogram2dcontour\"}],\"histogram2d\":[{\"colorbar\":{\"outlinewidth\":0,\"ticks\":\"\"},\"colorscale\":[[0.0,\"#0d0887\"],[0.1111111111111111,\"#46039f\"],[0.2222222222222222,\"#7201a8\"],[0.3333333333333333,\"#9c179e\"],[0.4444444444444444,\"#bd3786\"],[0.5555555555555556,\"#d8576b\"],[0.6666666666666666,\"#ed7953\"],[0.7777777777777778,\"#fb9f3a\"],[0.8888888888888888,\"#fdca26\"],[1.0,\"#f0f921\"]],\"type\":\"histogram2d\"}],\"histogram\":[{\"marker\":{\"pattern\":{\"fillmode\":\"overlay\",\"size\":10,\"solidity\":0.2}},\"type\":\"histogram\"}],\"mesh3d\":[{\"colorbar\":{\"outlinewidth\":0,\"ticks\":\"\"},\"type\":\"mesh3d\"}],\"parcoords\":[{\"line\":{\"colorbar\":{\"outlinewidth\":0,\"ticks\":\"\"}},\"type\":\"parcoords\"}],\"pie\":[{\"automargin\":true,\"type\":\"pie\"}],\"scatter3d\":[{\"line\":{\"colorbar\":{\"outlinewidth\":0,\"ticks\":\"\"}},\"marker\":{\"colorbar\":{\"outlinewidth\":0,\"ticks\":\"\"}},\"type\":\"scatter3d\"}],\"scattercarpet\":[{\"marker\":{\"colorbar\":{\"outlinewidth\":0,\"ticks\":\"\"}},\"type\":\"scattercarpet\"}],\"scattergeo\":[{\"marker\":{\"colorbar\":{\"outlinewidth\":0,\"ticks\":\"\"}},\"type\":\"scattergeo\"}],\"scattergl\":[{\"marker\":{\"colorbar\":{\"outlinewidth\":0,\"ticks\":\"\"}},\"type\":\"scattergl\"}],\"scattermapbox\":[{\"marker\":{\"colorbar\":{\"outlinewidth\":0,\"ticks\":\"\"}},\"type\":\"scattermapbox\"}],\"scatterpolargl\":[{\"marker\":{\"colorbar\":{\"outlinewidth\":0,\"ticks\":\"\"}},\"type\":\"scatterpolargl\"}],\"scatterpolar\":[{\"marker\":{\"colorbar\":{\"outlinewidth\":0,\"ticks\":\"\"}},\"type\":\"scatterpolar\"}],\"scatter\":[{\"fillpattern\":{\"fillmode\":\"overlay\",\"size\":10,\"solidity\":0.2},\"type\":\"scatter\"}],\"scatterternary\":[{\"marker\":{\"colorbar\":{\"outlinewidth\":0,\"ticks\":\"\"}},\"type\":\"scatterternary\"}],\"surface\":[{\"colorbar\":{\"outlinewidth\":0,\"ticks\":\"\"},\"colorscale\":[[0.0,\"#0d0887\"],[0.1111111111111111,\"#46039f\"],[0.2222222222222222,\"#7201a8\"],[0.3333333333333333,\"#9c179e\"],[0.4444444444444444,\"#bd3786\"],[0.5555555555555556,\"#d8576b\"],[0.6666666666666666,\"#ed7953\"],[0.7777777777777778,\"#fb9f3a\"],[0.8888888888888888,\"#fdca26\"],[1.0,\"#f0f921\"]],\"type\":\"surface\"}],\"table\":[{\"cells\":{\"fill\":{\"color\":\"#EBF0F8\"},\"line\":{\"color\":\"white\"}},\"header\":{\"fill\":{\"color\":\"#C8D4E3\"},\"line\":{\"color\":\"white\"}},\"type\":\"table\"}]},\"layout\":{\"annotationdefaults\":{\"arrowcolor\":\"#2a3f5f\",\"arrowhead\":0,\"arrowwidth\":1},\"autotypenumbers\":\"strict\",\"coloraxis\":{\"colorbar\":{\"outlinewidth\":0,\"ticks\":\"\"}},\"colorscale\":{\"diverging\":[[0,\"#8e0152\"],[0.1,\"#c51b7d\"],[0.2,\"#de77ae\"],[0.3,\"#f1b6da\"],[0.4,\"#fde0ef\"],[0.5,\"#f7f7f7\"],[0.6,\"#e6f5d0\"],[0.7,\"#b8e186\"],[0.8,\"#7fbc41\"],[0.9,\"#4d9221\"],[1,\"#276419\"]],\"sequential\":[[0.0,\"#0d0887\"],[0.1111111111111111,\"#46039f\"],[0.2222222222222222,\"#7201a8\"],[0.3333333333333333,\"#9c179e\"],[0.4444444444444444,\"#bd3786\"],[0.5555555555555556,\"#d8576b\"],[0.6666666666666666,\"#ed7953\"],[0.7777777777777778,\"#fb9f3a\"],[0.8888888888888888,\"#fdca26\"],[1.0,\"#f0f921\"]],\"sequentialminus\":[[0.0,\"#0d0887\"],[0.1111111111111111,\"#46039f\"],[0.2222222222222222,\"#7201a8\"],[0.3333333333333333,\"#9c179e\"],[0.4444444444444444,\"#bd3786\"],[0.5555555555555556,\"#d8576b\"],[0.6666666666666666,\"#ed7953\"],[0.7777777777777778,\"#fb9f3a\"],[0.8888888888888888,\"#fdca26\"],[1.0,\"#f0f921\"]]},\"colorway\":[\"#636efa\",\"#EF553B\",\"#00cc96\",\"#ab63fa\",\"#FFA15A\",\"#19d3f3\",\"#FF6692\",\"#B6E880\",\"#FF97FF\",\"#FECB52\"],\"font\":{\"color\":\"#2a3f5f\"},\"geo\":{\"bgcolor\":\"white\",\"lakecolor\":\"white\",\"landcolor\":\"white\",\"showlakes\":true,\"showland\":true,\"subunitcolor\":\"#C8D4E3\"},\"hoverlabel\":{\"align\":\"left\"},\"hovermode\":\"closest\",\"mapbox\":{\"style\":\"light\"},\"paper_bgcolor\":\"white\",\"plot_bgcolor\":\"white\",\"polar\":{\"angularaxis\":{\"gridcolor\":\"#EBF0F8\",\"linecolor\":\"#EBF0F8\",\"ticks\":\"\"},\"bgcolor\":\"white\",\"radialaxis\":{\"gridcolor\":\"#EBF0F8\",\"linecolor\":\"#EBF0F8\",\"ticks\":\"\"}},\"scene\":{\"xaxis\":{\"backgroundcolor\":\"white\",\"gridcolor\":\"#DFE8F3\",\"gridwidth\":2,\"linecolor\":\"#EBF0F8\",\"showbackground\":true,\"ticks\":\"\",\"zerolinecolor\":\"#EBF0F8\"},\"yaxis\":{\"backgroundcolor\":\"white\",\"gridcolor\":\"#DFE8F3\",\"gridwidth\":2,\"linecolor\":\"#EBF0F8\",\"showbackground\":true,\"ticks\":\"\",\"zerolinecolor\":\"#EBF0F8\"},\"zaxis\":{\"backgroundcolor\":\"white\",\"gridcolor\":\"#DFE8F3\",\"gridwidth\":2,\"linecolor\":\"#EBF0F8\",\"showbackground\":true,\"ticks\":\"\",\"zerolinecolor\":\"#EBF0F8\"}},\"shapedefaults\":{\"line\":{\"color\":\"#2a3f5f\"}},\"ternary\":{\"aaxis\":{\"gridcolor\":\"#DFE8F3\",\"linecolor\":\"#A2B1C6\",\"ticks\":\"\"},\"baxis\":{\"gridcolor\":\"#DFE8F3\",\"linecolor\":\"#A2B1C6\",\"ticks\":\"\"},\"bgcolor\":\"white\",\"caxis\":{\"gridcolor\":\"#DFE8F3\",\"linecolor\":\"#A2B1C6\",\"ticks\":\"\"}},\"title\":{\"x\":0.05},\"xaxis\":{\"automargin\":true,\"gridcolor\":\"#EBF0F8\",\"linecolor\":\"#EBF0F8\",\"ticks\":\"\",\"title\":{\"standoff\":15},\"zerolinecolor\":\"#EBF0F8\",\"zerolinewidth\":2},\"yaxis\":{\"automargin\":true,\"gridcolor\":\"#EBF0F8\",\"linecolor\":\"#EBF0F8\",\"ticks\":\"\",\"title\":{\"standoff\":15},\"zerolinecolor\":\"#EBF0F8\",\"zerolinewidth\":2}}},\"xaxis\":{\"anchor\":\"y\",\"domain\":[0.0,1.0],\"title\":{\"text\":\"Station\"}},\"yaxis\":{\"anchor\":\"x\",\"domain\":[0.0,1.0],\"title\":{\"text\":\"Pollutant Contribution\"}},\"legend\":{\"title\":{\"text\":\"variable\"},\"tracegroupgap\":0},\"title\":{\"text\":\"Pollutant Contribution per Station in 2018 (Stacked)\"},\"barmode\":\"stack\"},                        {\"responsive\": true}                    ).then(function(){\n",
       "                            \n",
       "var gd = document.getElementById('d2dd6a08-cc34-40a2-97a8-74bcd2c7194b');\n",
       "var x = new MutationObserver(function (mutations, observer) {{\n",
       "        var display = window.getComputedStyle(gd).display;\n",
       "        if (!display || display === 'none') {{\n",
       "            console.log([gd, 'removed!']);\n",
       "            Plotly.purge(gd);\n",
       "            observer.disconnect();\n",
       "        }}\n",
       "}});\n",
       "\n",
       "// Listen for the removal of the full notebook cells\n",
       "var notebookContainer = gd.closest('#notebook-container');\n",
       "if (notebookContainer) {{\n",
       "    x.observe(notebookContainer, {childList: true});\n",
       "}}\n",
       "\n",
       "// Listen for the clearing of the current output cell\n",
       "var outputEl = gd.closest('.output');\n",
       "if (outputEl) {{\n",
       "    x.observe(outputEl, {childList: true});\n",
       "}}\n",
       "\n",
       "                        })                };                });            </script>        </div>"
      ]
     },
     "metadata": {},
     "output_type": "display_data"
    }
   ],
   "source": [
    "\n",
    "# Plot the Stacked Bar chart\n",
    "fig_bar = px.bar(\n",
    "    station_pollution_2018,\n",
    "    x='name',\n",
    "    y=pollutants,\n",
    "    title=\"Pollutant Contribution per Station in 2018 (Stacked)\",\n",
    "    labels={\"station\": \"Station\", \"value\": \"Pollutant Contribution\"},\n",
    "    color_discrete_sequence=px.colors.qualitative.Set1,  # Use a color scale for better distinction\n",
    ")\n",
    "\n",
    "# Update the layout to stack the bars\n",
    "fig_bar.update_layout(\n",
    "    barmode='stack',  # Stack the bars\n",
    "    xaxis_title=\"Station\",\n",
    "    yaxis_title=\"Pollutant Contribution\",\n",
    "    template=\"plotly_white\",\n",
    ")\n",
    "\n",
    "fig_bar.show()\n"
   ]
  },
  {
   "cell_type": "markdown",
   "id": "27db2dff",
   "metadata": {},
   "source": [
    "Question # 3"
   ]
  },
  {
   "cell_type": "markdown",
   "id": "5777ef64",
   "metadata": {},
   "source": [
    "Area got improved or worst"
   ]
  },
  {
   "cell_type": "code",
   "execution_count": 14,
   "id": "2e8d3e1b",
   "metadata": {
    "ExecuteTime": {
     "end_time": "2025-05-17T08:19:31.187236Z",
     "start_time": "2025-05-17T08:19:30.728905Z"
    }
   },
   "outputs": [
    {
     "name": "stderr",
     "output_type": "stream",
     "text": [
      "/var/folders/6d/gtg4zywx03dgp5dnsx4rpx4r0000gn/T/ipykernel_17217/643382650.py:30: SettingWithCopyWarning:\n",
      "\n",
      "\n",
      "A value is trying to be set on a copy of a slice from a DataFrame.\n",
      "Try using .loc[row_indexer,col_indexer] = value instead\n",
      "\n",
      "See the caveats in the documentation: https://pandas.pydata.org/pandas-docs/stable/user_guide/indexing.html#returning-a-view-versus-a-copy\n",
      "\n"
     ]
    },
    {
     "data": {
      "application/vnd.plotly.v1+json": {
       "config": {
        "plotlyServerURL": "https://plot.ly"
       },
       "data": [
        {
         "hovertemplate": "<b>%{hovertext}</b><br><br>marker_size=%{marker.size}<br>lat=%{lat}<br>lon=%{lon}<br>composite_change=%{marker.color}<extra></extra>",
         "hovertext": [
          28079038,
          28079004,
          28079024,
          28079011,
          28079040,
          28079018,
          28079008,
          28079036,
          28079039,
          28079016,
          28079027
         ],
         "lat": [
          40.44554444444445,
          40.423852777777775,
          40.41935555555556,
          40.451475,
          40.38815277777777,
          40.39478055555556,
          40.42156388888888,
          40.40794722222222,
          40.47822777777778,
          40.44004722222222,
          40.47692777777778
         ],
         "legendgroup": "",
         "lon": [
          -3.7071277777777785,
          -3.712247222222224,
          -3.7473472222222224,
          -3.6773555555555553,
          -3.6515222222222223,
          -3.7318527777777777,
          -3.682319444444445,
          -3.6453055555555554,
          -3.7115416666666654,
          -3.639233333333333,
          -3.580030555555555
         ],
         "marker": {
          "color": [
           -0.41831742009316514,
           -0.30886402470903757,
           -0.2967848121142692,
           -0.25969568063319537,
           -0.2354753599871986,
           -0.1875141307463928,
           -0.15436425069354803,
           -0.09877434154126312,
           0.005827041816354739,
           0.07464169472680782,
           0.1329951595838214
          ],
          "coloraxis": "coloraxis",
          "size": [
           30,
           23.366306152317293,
           22.63421558542761,
           20.38633700241589,
           18.9184045413499,
           16.01159557278892,
           14.00246506947092,
           10.633301079239606,
           5,
           9.170682307665462,
           12.707338429244999
          ],
          "sizemode": "area",
          "sizeref": 0.075
         },
         "mode": "markers",
         "name": "",
         "showlegend": false,
         "subplot": "mapbox",
         "type": "scattermapbox"
        }
       ],
       "layout": {
        "coloraxis": {
         "colorbar": {
          "title": {
           "text": "composite_change"
          }
         },
         "colorscale": [
          [
           0,
           "rgb(0,104,55)"
          ],
          [
           0.1,
           "rgb(26,152,80)"
          ],
          [
           0.2,
           "rgb(102,189,99)"
          ],
          [
           0.3,
           "rgb(166,217,106)"
          ],
          [
           0.4,
           "rgb(217,239,139)"
          ],
          [
           0.5,
           "rgb(255,255,191)"
          ],
          [
           0.6,
           "rgb(254,224,139)"
          ],
          [
           0.7,
           "rgb(253,174,97)"
          ],
          [
           0.8,
           "rgb(244,109,67)"
          ],
          [
           0.9,
           "rgb(215,48,39)"
          ],
          [
           1,
           "rgb(165,0,38)"
          ]
         ]
        },
        "height": 550,
        "legend": {
         "itemsizing": "constant",
         "tracegroupgap": 0
        },
        "mapbox": {
         "center": {
          "lat": 40.431625000000004,
          "lon": -3.680534848484848
         },
         "domain": {
          "x": [
           0,
           1
          ],
          "y": [
           0,
           1
          ]
         },
         "style": "carto-positron",
         "zoom": 10
        },
        "margin": {
         "b": 0,
         "l": 0,
         "r": 0,
         "t": 40
        },
        "template": {
         "data": {
          "bar": [
           {
            "error_x": {
             "color": "#2a3f5f"
            },
            "error_y": {
             "color": "#2a3f5f"
            },
            "marker": {
             "line": {
              "color": "#E5ECF6",
              "width": 0.5
             },
             "pattern": {
              "fillmode": "overlay",
              "size": 10,
              "solidity": 0.2
             }
            },
            "type": "bar"
           }
          ],
          "barpolar": [
           {
            "marker": {
             "line": {
              "color": "#E5ECF6",
              "width": 0.5
             },
             "pattern": {
              "fillmode": "overlay",
              "size": 10,
              "solidity": 0.2
             }
            },
            "type": "barpolar"
           }
          ],
          "carpet": [
           {
            "aaxis": {
             "endlinecolor": "#2a3f5f",
             "gridcolor": "white",
             "linecolor": "white",
             "minorgridcolor": "white",
             "startlinecolor": "#2a3f5f"
            },
            "baxis": {
             "endlinecolor": "#2a3f5f",
             "gridcolor": "white",
             "linecolor": "white",
             "minorgridcolor": "white",
             "startlinecolor": "#2a3f5f"
            },
            "type": "carpet"
           }
          ],
          "choropleth": [
           {
            "colorbar": {
             "outlinewidth": 0,
             "ticks": ""
            },
            "type": "choropleth"
           }
          ],
          "contour": [
           {
            "colorbar": {
             "outlinewidth": 0,
             "ticks": ""
            },
            "colorscale": [
             [
              0,
              "#0d0887"
             ],
             [
              0.1111111111111111,
              "#46039f"
             ],
             [
              0.2222222222222222,
              "#7201a8"
             ],
             [
              0.3333333333333333,
              "#9c179e"
             ],
             [
              0.4444444444444444,
              "#bd3786"
             ],
             [
              0.5555555555555556,
              "#d8576b"
             ],
             [
              0.6666666666666666,
              "#ed7953"
             ],
             [
              0.7777777777777778,
              "#fb9f3a"
             ],
             [
              0.8888888888888888,
              "#fdca26"
             ],
             [
              1,
              "#f0f921"
             ]
            ],
            "type": "contour"
           }
          ],
          "contourcarpet": [
           {
            "colorbar": {
             "outlinewidth": 0,
             "ticks": ""
            },
            "type": "contourcarpet"
           }
          ],
          "heatmap": [
           {
            "colorbar": {
             "outlinewidth": 0,
             "ticks": ""
            },
            "colorscale": [
             [
              0,
              "#0d0887"
             ],
             [
              0.1111111111111111,
              "#46039f"
             ],
             [
              0.2222222222222222,
              "#7201a8"
             ],
             [
              0.3333333333333333,
              "#9c179e"
             ],
             [
              0.4444444444444444,
              "#bd3786"
             ],
             [
              0.5555555555555556,
              "#d8576b"
             ],
             [
              0.6666666666666666,
              "#ed7953"
             ],
             [
              0.7777777777777778,
              "#fb9f3a"
             ],
             [
              0.8888888888888888,
              "#fdca26"
             ],
             [
              1,
              "#f0f921"
             ]
            ],
            "type": "heatmap"
           }
          ],
          "heatmapgl": [
           {
            "colorbar": {
             "outlinewidth": 0,
             "ticks": ""
            },
            "colorscale": [
             [
              0,
              "#0d0887"
             ],
             [
              0.1111111111111111,
              "#46039f"
             ],
             [
              0.2222222222222222,
              "#7201a8"
             ],
             [
              0.3333333333333333,
              "#9c179e"
             ],
             [
              0.4444444444444444,
              "#bd3786"
             ],
             [
              0.5555555555555556,
              "#d8576b"
             ],
             [
              0.6666666666666666,
              "#ed7953"
             ],
             [
              0.7777777777777778,
              "#fb9f3a"
             ],
             [
              0.8888888888888888,
              "#fdca26"
             ],
             [
              1,
              "#f0f921"
             ]
            ],
            "type": "heatmapgl"
           }
          ],
          "histogram": [
           {
            "marker": {
             "pattern": {
              "fillmode": "overlay",
              "size": 10,
              "solidity": 0.2
             }
            },
            "type": "histogram"
           }
          ],
          "histogram2d": [
           {
            "colorbar": {
             "outlinewidth": 0,
             "ticks": ""
            },
            "colorscale": [
             [
              0,
              "#0d0887"
             ],
             [
              0.1111111111111111,
              "#46039f"
             ],
             [
              0.2222222222222222,
              "#7201a8"
             ],
             [
              0.3333333333333333,
              "#9c179e"
             ],
             [
              0.4444444444444444,
              "#bd3786"
             ],
             [
              0.5555555555555556,
              "#d8576b"
             ],
             [
              0.6666666666666666,
              "#ed7953"
             ],
             [
              0.7777777777777778,
              "#fb9f3a"
             ],
             [
              0.8888888888888888,
              "#fdca26"
             ],
             [
              1,
              "#f0f921"
             ]
            ],
            "type": "histogram2d"
           }
          ],
          "histogram2dcontour": [
           {
            "colorbar": {
             "outlinewidth": 0,
             "ticks": ""
            },
            "colorscale": [
             [
              0,
              "#0d0887"
             ],
             [
              0.1111111111111111,
              "#46039f"
             ],
             [
              0.2222222222222222,
              "#7201a8"
             ],
             [
              0.3333333333333333,
              "#9c179e"
             ],
             [
              0.4444444444444444,
              "#bd3786"
             ],
             [
              0.5555555555555556,
              "#d8576b"
             ],
             [
              0.6666666666666666,
              "#ed7953"
             ],
             [
              0.7777777777777778,
              "#fb9f3a"
             ],
             [
              0.8888888888888888,
              "#fdca26"
             ],
             [
              1,
              "#f0f921"
             ]
            ],
            "type": "histogram2dcontour"
           }
          ],
          "mesh3d": [
           {
            "colorbar": {
             "outlinewidth": 0,
             "ticks": ""
            },
            "type": "mesh3d"
           }
          ],
          "parcoords": [
           {
            "line": {
             "colorbar": {
              "outlinewidth": 0,
              "ticks": ""
             }
            },
            "type": "parcoords"
           }
          ],
          "pie": [
           {
            "automargin": true,
            "type": "pie"
           }
          ],
          "scatter": [
           {
            "fillpattern": {
             "fillmode": "overlay",
             "size": 10,
             "solidity": 0.2
            },
            "type": "scatter"
           }
          ],
          "scatter3d": [
           {
            "line": {
             "colorbar": {
              "outlinewidth": 0,
              "ticks": ""
             }
            },
            "marker": {
             "colorbar": {
              "outlinewidth": 0,
              "ticks": ""
             }
            },
            "type": "scatter3d"
           }
          ],
          "scattercarpet": [
           {
            "marker": {
             "colorbar": {
              "outlinewidth": 0,
              "ticks": ""
             }
            },
            "type": "scattercarpet"
           }
          ],
          "scattergeo": [
           {
            "marker": {
             "colorbar": {
              "outlinewidth": 0,
              "ticks": ""
             }
            },
            "type": "scattergeo"
           }
          ],
          "scattergl": [
           {
            "marker": {
             "colorbar": {
              "outlinewidth": 0,
              "ticks": ""
             }
            },
            "type": "scattergl"
           }
          ],
          "scattermapbox": [
           {
            "marker": {
             "colorbar": {
              "outlinewidth": 0,
              "ticks": ""
             }
            },
            "type": "scattermapbox"
           }
          ],
          "scatterpolar": [
           {
            "marker": {
             "colorbar": {
              "outlinewidth": 0,
              "ticks": ""
             }
            },
            "type": "scatterpolar"
           }
          ],
          "scatterpolargl": [
           {
            "marker": {
             "colorbar": {
              "outlinewidth": 0,
              "ticks": ""
             }
            },
            "type": "scatterpolargl"
           }
          ],
          "scatterternary": [
           {
            "marker": {
             "colorbar": {
              "outlinewidth": 0,
              "ticks": ""
             }
            },
            "type": "scatterternary"
           }
          ],
          "surface": [
           {
            "colorbar": {
             "outlinewidth": 0,
             "ticks": ""
            },
            "colorscale": [
             [
              0,
              "#0d0887"
             ],
             [
              0.1111111111111111,
              "#46039f"
             ],
             [
              0.2222222222222222,
              "#7201a8"
             ],
             [
              0.3333333333333333,
              "#9c179e"
             ],
             [
              0.4444444444444444,
              "#bd3786"
             ],
             [
              0.5555555555555556,
              "#d8576b"
             ],
             [
              0.6666666666666666,
              "#ed7953"
             ],
             [
              0.7777777777777778,
              "#fb9f3a"
             ],
             [
              0.8888888888888888,
              "#fdca26"
             ],
             [
              1,
              "#f0f921"
             ]
            ],
            "type": "surface"
           }
          ],
          "table": [
           {
            "cells": {
             "fill": {
              "color": "#EBF0F8"
             },
             "line": {
              "color": "white"
             }
            },
            "header": {
             "fill": {
              "color": "#C8D4E3"
             },
             "line": {
              "color": "white"
             }
            },
            "type": "table"
           }
          ]
         },
         "layout": {
          "annotationdefaults": {
           "arrowcolor": "#2a3f5f",
           "arrowhead": 0,
           "arrowwidth": 1
          },
          "autotypenumbers": "strict",
          "coloraxis": {
           "colorbar": {
            "outlinewidth": 0,
            "ticks": ""
           }
          },
          "colorscale": {
           "diverging": [
            [
             0,
             "#8e0152"
            ],
            [
             0.1,
             "#c51b7d"
            ],
            [
             0.2,
             "#de77ae"
            ],
            [
             0.3,
             "#f1b6da"
            ],
            [
             0.4,
             "#fde0ef"
            ],
            [
             0.5,
             "#f7f7f7"
            ],
            [
             0.6,
             "#e6f5d0"
            ],
            [
             0.7,
             "#b8e186"
            ],
            [
             0.8,
             "#7fbc41"
            ],
            [
             0.9,
             "#4d9221"
            ],
            [
             1,
             "#276419"
            ]
           ],
           "sequential": [
            [
             0,
             "#0d0887"
            ],
            [
             0.1111111111111111,
             "#46039f"
            ],
            [
             0.2222222222222222,
             "#7201a8"
            ],
            [
             0.3333333333333333,
             "#9c179e"
            ],
            [
             0.4444444444444444,
             "#bd3786"
            ],
            [
             0.5555555555555556,
             "#d8576b"
            ],
            [
             0.6666666666666666,
             "#ed7953"
            ],
            [
             0.7777777777777778,
             "#fb9f3a"
            ],
            [
             0.8888888888888888,
             "#fdca26"
            ],
            [
             1,
             "#f0f921"
            ]
           ],
           "sequentialminus": [
            [
             0,
             "#0d0887"
            ],
            [
             0.1111111111111111,
             "#46039f"
            ],
            [
             0.2222222222222222,
             "#7201a8"
            ],
            [
             0.3333333333333333,
             "#9c179e"
            ],
            [
             0.4444444444444444,
             "#bd3786"
            ],
            [
             0.5555555555555556,
             "#d8576b"
            ],
            [
             0.6666666666666666,
             "#ed7953"
            ],
            [
             0.7777777777777778,
             "#fb9f3a"
            ],
            [
             0.8888888888888888,
             "#fdca26"
            ],
            [
             1,
             "#f0f921"
            ]
           ]
          },
          "colorway": [
           "#636efa",
           "#EF553B",
           "#00cc96",
           "#ab63fa",
           "#FFA15A",
           "#19d3f3",
           "#FF6692",
           "#B6E880",
           "#FF97FF",
           "#FECB52"
          ],
          "font": {
           "color": "#2a3f5f"
          },
          "geo": {
           "bgcolor": "white",
           "lakecolor": "white",
           "landcolor": "#E5ECF6",
           "showlakes": true,
           "showland": true,
           "subunitcolor": "white"
          },
          "hoverlabel": {
           "align": "left"
          },
          "hovermode": "closest",
          "mapbox": {
           "style": "light"
          },
          "paper_bgcolor": "white",
          "plot_bgcolor": "#E5ECF6",
          "polar": {
           "angularaxis": {
            "gridcolor": "white",
            "linecolor": "white",
            "ticks": ""
           },
           "bgcolor": "#E5ECF6",
           "radialaxis": {
            "gridcolor": "white",
            "linecolor": "white",
            "ticks": ""
           }
          },
          "scene": {
           "xaxis": {
            "backgroundcolor": "#E5ECF6",
            "gridcolor": "white",
            "gridwidth": 2,
            "linecolor": "white",
            "showbackground": true,
            "ticks": "",
            "zerolinecolor": "white"
           },
           "yaxis": {
            "backgroundcolor": "#E5ECF6",
            "gridcolor": "white",
            "gridwidth": 2,
            "linecolor": "white",
            "showbackground": true,
            "ticks": "",
            "zerolinecolor": "white"
           },
           "zaxis": {
            "backgroundcolor": "#E5ECF6",
            "gridcolor": "white",
            "gridwidth": 2,
            "linecolor": "white",
            "showbackground": true,
            "ticks": "",
            "zerolinecolor": "white"
           }
          },
          "shapedefaults": {
           "line": {
            "color": "#2a3f5f"
           }
          },
          "ternary": {
           "aaxis": {
            "gridcolor": "white",
            "linecolor": "white",
            "ticks": ""
           },
           "baxis": {
            "gridcolor": "white",
            "linecolor": "white",
            "ticks": ""
           },
           "bgcolor": "#E5ECF6",
           "caxis": {
            "gridcolor": "white",
            "linecolor": "white",
            "ticks": ""
           }
          },
          "title": {
           "x": 0.05
          },
          "xaxis": {
           "automargin": true,
           "gridcolor": "white",
           "linecolor": "white",
           "ticks": "",
           "title": {
            "standoff": 15
           },
           "zerolinecolor": "white",
           "zerolinewidth": 2
          },
          "yaxis": {
           "automargin": true,
           "gridcolor": "white",
           "linecolor": "white",
           "ticks": "",
           "title": {
            "standoff": 15
           },
           "zerolinecolor": "white",
           "zerolinewidth": 2
          }
         }
        },
        "title": {
         "text": "🗺️ Composite Pollution Change (2008 → 2018)"
        }
       }
      },
      "text/html": [
       "<div>                            <div id=\"85c8878b-7d79-4bdf-8da3-279932f3092f\" class=\"plotly-graph-div\" style=\"height:550px; width:100%;\"></div>            <script type=\"text/javascript\">                require([\"plotly\"], function(Plotly) {                    window.PLOTLYENV=window.PLOTLYENV || {};                                    if (document.getElementById(\"85c8878b-7d79-4bdf-8da3-279932f3092f\")) {                    Plotly.newPlot(                        \"85c8878b-7d79-4bdf-8da3-279932f3092f\",                        [{\"hovertemplate\":\"\\u003cb\\u003e%{hovertext}\\u003c\\u002fb\\u003e\\u003cbr\\u003e\\u003cbr\\u003emarker_size=%{marker.size}\\u003cbr\\u003elat=%{lat}\\u003cbr\\u003elon=%{lon}\\u003cbr\\u003ecomposite_change=%{marker.color}\\u003cextra\\u003e\\u003c\\u002fextra\\u003e\",\"hovertext\":[28079038.0,28079004.0,28079024.0,28079011.0,28079040.0,28079018.0,28079008.0,28079036.0,28079039.0,28079016.0,28079027.0],\"lat\":[40.44554444444445,40.423852777777775,40.41935555555556,40.451475,40.38815277777777,40.39478055555556,40.42156388888888,40.40794722222222,40.47822777777778,40.44004722222222,40.47692777777778],\"legendgroup\":\"\",\"lon\":[-3.7071277777777785,-3.712247222222224,-3.7473472222222224,-3.6773555555555553,-3.6515222222222223,-3.7318527777777777,-3.682319444444445,-3.6453055555555554,-3.7115416666666654,-3.639233333333333,-3.580030555555555],\"marker\":{\"color\":[-0.41831742009316514,-0.30886402470903757,-0.2967848121142692,-0.25969568063319537,-0.2354753599871986,-0.1875141307463928,-0.15436425069354803,-0.09877434154126312,0.005827041816354739,0.07464169472680782,0.1329951595838214],\"coloraxis\":\"coloraxis\",\"size\":[30.0,23.366306152317293,22.63421558542761,20.38633700241589,18.9184045413499,16.01159557278892,14.00246506947092,10.633301079239606,5.0,9.170682307665462,12.707338429244999],\"sizemode\":\"area\",\"sizeref\":0.075},\"mode\":\"markers\",\"name\":\"\",\"showlegend\":false,\"subplot\":\"mapbox\",\"type\":\"scattermapbox\"}],                        {\"template\":{\"data\":{\"histogram2dcontour\":[{\"type\":\"histogram2dcontour\",\"colorbar\":{\"outlinewidth\":0,\"ticks\":\"\"},\"colorscale\":[[0.0,\"#0d0887\"],[0.1111111111111111,\"#46039f\"],[0.2222222222222222,\"#7201a8\"],[0.3333333333333333,\"#9c179e\"],[0.4444444444444444,\"#bd3786\"],[0.5555555555555556,\"#d8576b\"],[0.6666666666666666,\"#ed7953\"],[0.7777777777777778,\"#fb9f3a\"],[0.8888888888888888,\"#fdca26\"],[1.0,\"#f0f921\"]]}],\"choropleth\":[{\"type\":\"choropleth\",\"colorbar\":{\"outlinewidth\":0,\"ticks\":\"\"}}],\"histogram2d\":[{\"type\":\"histogram2d\",\"colorbar\":{\"outlinewidth\":0,\"ticks\":\"\"},\"colorscale\":[[0.0,\"#0d0887\"],[0.1111111111111111,\"#46039f\"],[0.2222222222222222,\"#7201a8\"],[0.3333333333333333,\"#9c179e\"],[0.4444444444444444,\"#bd3786\"],[0.5555555555555556,\"#d8576b\"],[0.6666666666666666,\"#ed7953\"],[0.7777777777777778,\"#fb9f3a\"],[0.8888888888888888,\"#fdca26\"],[1.0,\"#f0f921\"]]}],\"heatmap\":[{\"type\":\"heatmap\",\"colorbar\":{\"outlinewidth\":0,\"ticks\":\"\"},\"colorscale\":[[0.0,\"#0d0887\"],[0.1111111111111111,\"#46039f\"],[0.2222222222222222,\"#7201a8\"],[0.3333333333333333,\"#9c179e\"],[0.4444444444444444,\"#bd3786\"],[0.5555555555555556,\"#d8576b\"],[0.6666666666666666,\"#ed7953\"],[0.7777777777777778,\"#fb9f3a\"],[0.8888888888888888,\"#fdca26\"],[1.0,\"#f0f921\"]]}],\"heatmapgl\":[{\"type\":\"heatmapgl\",\"colorbar\":{\"outlinewidth\":0,\"ticks\":\"\"},\"colorscale\":[[0.0,\"#0d0887\"],[0.1111111111111111,\"#46039f\"],[0.2222222222222222,\"#7201a8\"],[0.3333333333333333,\"#9c179e\"],[0.4444444444444444,\"#bd3786\"],[0.5555555555555556,\"#d8576b\"],[0.6666666666666666,\"#ed7953\"],[0.7777777777777778,\"#fb9f3a\"],[0.8888888888888888,\"#fdca26\"],[1.0,\"#f0f921\"]]}],\"contourcarpet\":[{\"type\":\"contourcarpet\",\"colorbar\":{\"outlinewidth\":0,\"ticks\":\"\"}}],\"contour\":[{\"type\":\"contour\",\"colorbar\":{\"outlinewidth\":0,\"ticks\":\"\"},\"colorscale\":[[0.0,\"#0d0887\"],[0.1111111111111111,\"#46039f\"],[0.2222222222222222,\"#7201a8\"],[0.3333333333333333,\"#9c179e\"],[0.4444444444444444,\"#bd3786\"],[0.5555555555555556,\"#d8576b\"],[0.6666666666666666,\"#ed7953\"],[0.7777777777777778,\"#fb9f3a\"],[0.8888888888888888,\"#fdca26\"],[1.0,\"#f0f921\"]]}],\"surface\":[{\"type\":\"surface\",\"colorbar\":{\"outlinewidth\":0,\"ticks\":\"\"},\"colorscale\":[[0.0,\"#0d0887\"],[0.1111111111111111,\"#46039f\"],[0.2222222222222222,\"#7201a8\"],[0.3333333333333333,\"#9c179e\"],[0.4444444444444444,\"#bd3786\"],[0.5555555555555556,\"#d8576b\"],[0.6666666666666666,\"#ed7953\"],[0.7777777777777778,\"#fb9f3a\"],[0.8888888888888888,\"#fdca26\"],[1.0,\"#f0f921\"]]}],\"mesh3d\":[{\"type\":\"mesh3d\",\"colorbar\":{\"outlinewidth\":0,\"ticks\":\"\"}}],\"scatter\":[{\"fillpattern\":{\"fillmode\":\"overlay\",\"size\":10,\"solidity\":0.2},\"type\":\"scatter\"}],\"parcoords\":[{\"type\":\"parcoords\",\"line\":{\"colorbar\":{\"outlinewidth\":0,\"ticks\":\"\"}}}],\"scatterpolargl\":[{\"type\":\"scatterpolargl\",\"marker\":{\"colorbar\":{\"outlinewidth\":0,\"ticks\":\"\"}}}],\"bar\":[{\"error_x\":{\"color\":\"#2a3f5f\"},\"error_y\":{\"color\":\"#2a3f5f\"},\"marker\":{\"line\":{\"color\":\"#E5ECF6\",\"width\":0.5},\"pattern\":{\"fillmode\":\"overlay\",\"size\":10,\"solidity\":0.2}},\"type\":\"bar\"}],\"scattergeo\":[{\"type\":\"scattergeo\",\"marker\":{\"colorbar\":{\"outlinewidth\":0,\"ticks\":\"\"}}}],\"scatterpolar\":[{\"type\":\"scatterpolar\",\"marker\":{\"colorbar\":{\"outlinewidth\":0,\"ticks\":\"\"}}}],\"histogram\":[{\"marker\":{\"pattern\":{\"fillmode\":\"overlay\",\"size\":10,\"solidity\":0.2}},\"type\":\"histogram\"}],\"scattergl\":[{\"type\":\"scattergl\",\"marker\":{\"colorbar\":{\"outlinewidth\":0,\"ticks\":\"\"}}}],\"scatter3d\":[{\"type\":\"scatter3d\",\"line\":{\"colorbar\":{\"outlinewidth\":0,\"ticks\":\"\"}},\"marker\":{\"colorbar\":{\"outlinewidth\":0,\"ticks\":\"\"}}}],\"scattermapbox\":[{\"type\":\"scattermapbox\",\"marker\":{\"colorbar\":{\"outlinewidth\":0,\"ticks\":\"\"}}}],\"scatterternary\":[{\"type\":\"scatterternary\",\"marker\":{\"colorbar\":{\"outlinewidth\":0,\"ticks\":\"\"}}}],\"scattercarpet\":[{\"type\":\"scattercarpet\",\"marker\":{\"colorbar\":{\"outlinewidth\":0,\"ticks\":\"\"}}}],\"carpet\":[{\"aaxis\":{\"endlinecolor\":\"#2a3f5f\",\"gridcolor\":\"white\",\"linecolor\":\"white\",\"minorgridcolor\":\"white\",\"startlinecolor\":\"#2a3f5f\"},\"baxis\":{\"endlinecolor\":\"#2a3f5f\",\"gridcolor\":\"white\",\"linecolor\":\"white\",\"minorgridcolor\":\"white\",\"startlinecolor\":\"#2a3f5f\"},\"type\":\"carpet\"}],\"table\":[{\"cells\":{\"fill\":{\"color\":\"#EBF0F8\"},\"line\":{\"color\":\"white\"}},\"header\":{\"fill\":{\"color\":\"#C8D4E3\"},\"line\":{\"color\":\"white\"}},\"type\":\"table\"}],\"barpolar\":[{\"marker\":{\"line\":{\"color\":\"#E5ECF6\",\"width\":0.5},\"pattern\":{\"fillmode\":\"overlay\",\"size\":10,\"solidity\":0.2}},\"type\":\"barpolar\"}],\"pie\":[{\"automargin\":true,\"type\":\"pie\"}]},\"layout\":{\"autotypenumbers\":\"strict\",\"colorway\":[\"#636efa\",\"#EF553B\",\"#00cc96\",\"#ab63fa\",\"#FFA15A\",\"#19d3f3\",\"#FF6692\",\"#B6E880\",\"#FF97FF\",\"#FECB52\"],\"font\":{\"color\":\"#2a3f5f\"},\"hovermode\":\"closest\",\"hoverlabel\":{\"align\":\"left\"},\"paper_bgcolor\":\"white\",\"plot_bgcolor\":\"#E5ECF6\",\"polar\":{\"bgcolor\":\"#E5ECF6\",\"angularaxis\":{\"gridcolor\":\"white\",\"linecolor\":\"white\",\"ticks\":\"\"},\"radialaxis\":{\"gridcolor\":\"white\",\"linecolor\":\"white\",\"ticks\":\"\"}},\"ternary\":{\"bgcolor\":\"#E5ECF6\",\"aaxis\":{\"gridcolor\":\"white\",\"linecolor\":\"white\",\"ticks\":\"\"},\"baxis\":{\"gridcolor\":\"white\",\"linecolor\":\"white\",\"ticks\":\"\"},\"caxis\":{\"gridcolor\":\"white\",\"linecolor\":\"white\",\"ticks\":\"\"}},\"coloraxis\":{\"colorbar\":{\"outlinewidth\":0,\"ticks\":\"\"}},\"colorscale\":{\"sequential\":[[0.0,\"#0d0887\"],[0.1111111111111111,\"#46039f\"],[0.2222222222222222,\"#7201a8\"],[0.3333333333333333,\"#9c179e\"],[0.4444444444444444,\"#bd3786\"],[0.5555555555555556,\"#d8576b\"],[0.6666666666666666,\"#ed7953\"],[0.7777777777777778,\"#fb9f3a\"],[0.8888888888888888,\"#fdca26\"],[1.0,\"#f0f921\"]],\"sequentialminus\":[[0.0,\"#0d0887\"],[0.1111111111111111,\"#46039f\"],[0.2222222222222222,\"#7201a8\"],[0.3333333333333333,\"#9c179e\"],[0.4444444444444444,\"#bd3786\"],[0.5555555555555556,\"#d8576b\"],[0.6666666666666666,\"#ed7953\"],[0.7777777777777778,\"#fb9f3a\"],[0.8888888888888888,\"#fdca26\"],[1.0,\"#f0f921\"]],\"diverging\":[[0,\"#8e0152\"],[0.1,\"#c51b7d\"],[0.2,\"#de77ae\"],[0.3,\"#f1b6da\"],[0.4,\"#fde0ef\"],[0.5,\"#f7f7f7\"],[0.6,\"#e6f5d0\"],[0.7,\"#b8e186\"],[0.8,\"#7fbc41\"],[0.9,\"#4d9221\"],[1,\"#276419\"]]},\"xaxis\":{\"gridcolor\":\"white\",\"linecolor\":\"white\",\"ticks\":\"\",\"title\":{\"standoff\":15},\"zerolinecolor\":\"white\",\"automargin\":true,\"zerolinewidth\":2},\"yaxis\":{\"gridcolor\":\"white\",\"linecolor\":\"white\",\"ticks\":\"\",\"title\":{\"standoff\":15},\"zerolinecolor\":\"white\",\"automargin\":true,\"zerolinewidth\":2},\"scene\":{\"xaxis\":{\"backgroundcolor\":\"#E5ECF6\",\"gridcolor\":\"white\",\"linecolor\":\"white\",\"showbackground\":true,\"ticks\":\"\",\"zerolinecolor\":\"white\",\"gridwidth\":2},\"yaxis\":{\"backgroundcolor\":\"#E5ECF6\",\"gridcolor\":\"white\",\"linecolor\":\"white\",\"showbackground\":true,\"ticks\":\"\",\"zerolinecolor\":\"white\",\"gridwidth\":2},\"zaxis\":{\"backgroundcolor\":\"#E5ECF6\",\"gridcolor\":\"white\",\"linecolor\":\"white\",\"showbackground\":true,\"ticks\":\"\",\"zerolinecolor\":\"white\",\"gridwidth\":2}},\"shapedefaults\":{\"line\":{\"color\":\"#2a3f5f\"}},\"annotationdefaults\":{\"arrowcolor\":\"#2a3f5f\",\"arrowhead\":0,\"arrowwidth\":1},\"geo\":{\"bgcolor\":\"white\",\"landcolor\":\"#E5ECF6\",\"subunitcolor\":\"white\",\"showland\":true,\"showlakes\":true,\"lakecolor\":\"white\"},\"title\":{\"x\":0.05},\"mapbox\":{\"style\":\"light\"}}},\"mapbox\":{\"domain\":{\"x\":[0.0,1.0],\"y\":[0.0,1.0]},\"center\":{\"lat\":40.431625000000004,\"lon\":-3.680534848484848},\"zoom\":10,\"style\":\"carto-positron\"},\"coloraxis\":{\"colorbar\":{\"title\":{\"text\":\"composite_change\"}},\"colorscale\":[[0.0,\"rgb(0,104,55)\"],[0.1,\"rgb(26,152,80)\"],[0.2,\"rgb(102,189,99)\"],[0.3,\"rgb(166,217,106)\"],[0.4,\"rgb(217,239,139)\"],[0.5,\"rgb(255,255,191)\"],[0.6,\"rgb(254,224,139)\"],[0.7,\"rgb(253,174,97)\"],[0.8,\"rgb(244,109,67)\"],[0.9,\"rgb(215,48,39)\"],[1.0,\"rgb(165,0,38)\"]]},\"legend\":{\"tracegroupgap\":0,\"itemsizing\":\"constant\"},\"title\":{\"text\":\"\\ud83d\\uddfa\\ufe0f Composite Pollution Change (2008 \\u2192 2018)\"},\"height\":550,\"margin\":{\"r\":0,\"t\":40,\"l\":0,\"b\":0}},                        {\"responsive\": true}                    ).then(function(){\n",
       "                            \n",
       "var gd = document.getElementById('85c8878b-7d79-4bdf-8da3-279932f3092f');\n",
       "var x = new MutationObserver(function (mutations, observer) {{\n",
       "        var display = window.getComputedStyle(gd).display;\n",
       "        if (!display || display === 'none') {{\n",
       "            console.log([gd, 'removed!']);\n",
       "            Plotly.purge(gd);\n",
       "            observer.disconnect();\n",
       "        }}\n",
       "}});\n",
       "\n",
       "// Listen for the removal of the full notebook cells\n",
       "var notebookContainer = gd.closest('#notebook-container');\n",
       "if (notebookContainer) {{\n",
       "    x.observe(notebookContainer, {childList: true});\n",
       "}}\n",
       "\n",
       "// Listen for the clearing of the current output cell\n",
       "var outputEl = gd.closest('.output');\n",
       "if (outputEl) {{\n",
       "    x.observe(outputEl, {childList: true});\n",
       "}}\n",
       "\n",
       "                        })                };                });            </script>        </div>"
      ]
     },
     "metadata": {},
     "output_type": "display_data"
    }
   ],
   "source": [
    "# Step 1: Filter data for just 2008 and 2018\n",
    "subset = scaled_data[scaled_data['year'].isin([2008, 2018])]\n",
    "\n",
    "# Step 2: Compute average Z-score (normalized) for each pollutant per station per year\n",
    "station_pollution = subset.groupby(['station', 'year'])[pollutants].mean().reset_index()\n",
    "\n",
    "# Step 3: Compute composite index (mean of all pollutants)\n",
    "station_pollution['composite'] = station_pollution[pollutants].mean(axis=1)\n",
    "\n",
    "# Step 4: Pivot to get composite index for 2008 and 2018 side-by-side\n",
    "pivot = station_pollution.pivot(index='station', columns='year', values='composite').reset_index()\n",
    "pivot.columns = ['station', '2008', '2018']\n",
    "\n",
    "# Step 5: Compute change\n",
    "pivot['composite_change'] = pivot['2018'] - pivot['2008']\n",
    "pivot = pivot.sort_values('composite_change')\n",
    "\n",
    "# Step 6: Merge with station coordinates\n",
    "merged = pivot.merge(stations, on='station', how='left')\n",
    "\n",
    "# Step 7: Clean missing coordinates or changes\n",
    "merged_clean = merged.dropna(subset=['composite_change', 'lat', 'lon'])\n",
    "\n",
    "\n",
    "# Normalize marker size manually to range [5, 30]\n",
    "min_size, max_size = 5, 30\n",
    "norm_size = merged_clean['composite_change'].abs()\n",
    "norm_size = (norm_size - norm_size.min()) / (norm_size.max() - norm_size.min())\n",
    "merged_clean['marker_size'] = norm_size * (max_size - min_size) + min_size\n",
    "\n",
    "# # Optional: marker size for visual scaling\n",
    "# merged_clean['marker_size'] = merged_clean['composite_change'].abs() * 10\n",
    "# merged_clean['marker_size'] = merged_clean['marker_size'].clip(lower=5, upper=30)\n",
    "\n",
    "fig_map = px.scatter_mapbox(\n",
    "    merged_clean,\n",
    "    lat='lat',\n",
    "    lon='lon',\n",
    "    size='marker_size',\n",
    "    color='composite_change',\n",
    "    color_continuous_scale='RdYlGn_r',\n",
    "    hover_name='station',\n",
    "    title='🗺️ Composite Pollution Change (2008 → 2018)',\n",
    "    zoom=10,\n",
    "    height=550\n",
    ")\n",
    "\n",
    "fig_map.update_layout(mapbox_style='carto-positron')\n",
    "fig_map.update_layout(margin={\"r\":0,\"t\":40,\"l\":0,\"b\":0})\n",
    "fig_map.show()"
   ]
  },
  {
   "cell_type": "markdown",
   "id": "7d7def82",
   "metadata": {},
   "source": [
    "Location: Position of each marker = Station's geographic location.\n",
    "\n",
    "Green = Pollution improved (negative change).\n",
    "\n",
    "Red = Pollution worsened (positive change).\n",
    "\n",
    "Size: Magnitude of change (absolute change), larger means bigger change, regardless of direction.\n",
    "\n",
    "Hover info: Useful for seeing station name + specific values."
   ]
  },
  {
   "cell_type": "code",
   "execution_count": 15,
   "id": "126aae4f",
   "metadata": {
    "ExecuteTime": {
     "end_time": "2025-05-17T08:19:31.226227Z",
     "start_time": "2025-05-17T08:19:31.189479Z"
    }
   },
   "outputs": [
    {
     "data": {
      "application/vnd.plotly.v1+json": {
       "config": {
        "plotlyServerURL": "https://plot.ly"
       },
       "data": [
        {
         "marker": {
          "color": [
           -0.41831742009316514,
           -0.30886402470903757,
           -0.2967848121142692,
           -0.25969568063319537,
           -0.2354753599871986,
           -0.1875141307463928,
           -0.15436425069354803,
           -0.09877434154126312,
           0.005827041816354739,
           0.07464169472680782,
           0.1329951595838214
          ],
          "colorscale": [
           [
            0,
            "rgb(0,104,55)"
           ],
           [
            0.1,
            "rgb(26,152,80)"
           ],
           [
            0.2,
            "rgb(102,189,99)"
           ],
           [
            0.3,
            "rgb(166,217,106)"
           ],
           [
            0.4,
            "rgb(217,239,139)"
           ],
           [
            0.5,
            "rgb(255,255,191)"
           ],
           [
            0.6,
            "rgb(254,224,139)"
           ],
           [
            0.7,
            "rgb(253,174,97)"
           ],
           [
            0.8,
            "rgb(244,109,67)"
           ],
           [
            0.9,
            "rgb(215,48,39)"
           ],
           [
            1,
            "rgb(165,0,38)"
           ]
          ],
          "size": 10
         },
         "mode": "markers",
         "name": "Change",
         "type": "scatter",
         "x": [
          -0.41831742009316514,
          -0.30886402470903757,
          -0.2967848121142692,
          -0.25969568063319537,
          -0.2354753599871986,
          -0.1875141307463928,
          -0.15436425069354803,
          -0.09877434154126312,
          0.005827041816354739,
          0.07464169472680782,
          0.1329951595838214
         ],
         "y": [
          "Cuatro Caminos",
          "Pza. de España",
          "Casa de Campo",
          "Avda. Ramón y Cajal",
          "Vallecas",
          "Farolillo",
          "Escuelas Aguirre",
          "Moratalaz",
          "Barrio del Pilar",
          "Arturo Soria",
          "Barajas Pueblo"
         ]
        },
        {
         "line": {
          "color": "gray",
          "width": 2
         },
         "mode": "lines",
         "showlegend": false,
         "type": "scatter",
         "x": [
          0,
          -0.41831742009316514
         ],
         "y": [
          "Cuatro Caminos",
          "Cuatro Caminos"
         ]
        },
        {
         "line": {
          "color": "gray",
          "width": 2
         },
         "mode": "lines",
         "showlegend": false,
         "type": "scatter",
         "x": [
          0,
          -0.30886402470903757
         ],
         "y": [
          "Pza. de España",
          "Pza. de España"
         ]
        },
        {
         "line": {
          "color": "gray",
          "width": 2
         },
         "mode": "lines",
         "showlegend": false,
         "type": "scatter",
         "x": [
          0,
          -0.2967848121142692
         ],
         "y": [
          "Casa de Campo",
          "Casa de Campo"
         ]
        },
        {
         "line": {
          "color": "gray",
          "width": 2
         },
         "mode": "lines",
         "showlegend": false,
         "type": "scatter",
         "x": [
          0,
          -0.25969568063319537
         ],
         "y": [
          "Avda. Ramón y Cajal",
          "Avda. Ramón y Cajal"
         ]
        },
        {
         "line": {
          "color": "gray",
          "width": 2
         },
         "mode": "lines",
         "showlegend": false,
         "type": "scatter",
         "x": [
          0,
          -0.2354753599871986
         ],
         "y": [
          "Vallecas",
          "Vallecas"
         ]
        },
        {
         "line": {
          "color": "gray",
          "width": 2
         },
         "mode": "lines",
         "showlegend": false,
         "type": "scatter",
         "x": [
          0,
          -0.1875141307463928
         ],
         "y": [
          "Farolillo",
          "Farolillo"
         ]
        },
        {
         "line": {
          "color": "gray",
          "width": 2
         },
         "mode": "lines",
         "showlegend": false,
         "type": "scatter",
         "x": [
          0,
          -0.15436425069354803
         ],
         "y": [
          "Escuelas Aguirre",
          "Escuelas Aguirre"
         ]
        },
        {
         "line": {
          "color": "gray",
          "width": 2
         },
         "mode": "lines",
         "showlegend": false,
         "type": "scatter",
         "x": [
          0,
          -0.09877434154126312
         ],
         "y": [
          "Moratalaz",
          "Moratalaz"
         ]
        },
        {
         "line": {
          "color": "gray",
          "width": 2
         },
         "mode": "lines",
         "showlegend": false,
         "type": "scatter",
         "x": [
          0,
          0.005827041816354739
         ],
         "y": [
          "Barrio del Pilar",
          "Barrio del Pilar"
         ]
        },
        {
         "line": {
          "color": "gray",
          "width": 2
         },
         "mode": "lines",
         "showlegend": false,
         "type": "scatter",
         "x": [
          0,
          0.07464169472680782
         ],
         "y": [
          "Arturo Soria",
          "Arturo Soria"
         ]
        },
        {
         "line": {
          "color": "gray",
          "width": 2
         },
         "mode": "lines",
         "showlegend": false,
         "type": "scatter",
         "x": [
          0,
          0.1329951595838214
         ],
         "y": [
          "Barajas Pueblo",
          "Barajas Pueblo"
         ]
        }
       ],
       "layout": {
        "height": 800,
        "template": {
         "data": {
          "bar": [
           {
            "error_x": {
             "color": "#2a3f5f"
            },
            "error_y": {
             "color": "#2a3f5f"
            },
            "marker": {
             "line": {
              "color": "white",
              "width": 0.5
             },
             "pattern": {
              "fillmode": "overlay",
              "size": 10,
              "solidity": 0.2
             }
            },
            "type": "bar"
           }
          ],
          "barpolar": [
           {
            "marker": {
             "line": {
              "color": "white",
              "width": 0.5
             },
             "pattern": {
              "fillmode": "overlay",
              "size": 10,
              "solidity": 0.2
             }
            },
            "type": "barpolar"
           }
          ],
          "carpet": [
           {
            "aaxis": {
             "endlinecolor": "#2a3f5f",
             "gridcolor": "#C8D4E3",
             "linecolor": "#C8D4E3",
             "minorgridcolor": "#C8D4E3",
             "startlinecolor": "#2a3f5f"
            },
            "baxis": {
             "endlinecolor": "#2a3f5f",
             "gridcolor": "#C8D4E3",
             "linecolor": "#C8D4E3",
             "minorgridcolor": "#C8D4E3",
             "startlinecolor": "#2a3f5f"
            },
            "type": "carpet"
           }
          ],
          "choropleth": [
           {
            "colorbar": {
             "outlinewidth": 0,
             "ticks": ""
            },
            "type": "choropleth"
           }
          ],
          "contour": [
           {
            "colorbar": {
             "outlinewidth": 0,
             "ticks": ""
            },
            "colorscale": [
             [
              0,
              "#0d0887"
             ],
             [
              0.1111111111111111,
              "#46039f"
             ],
             [
              0.2222222222222222,
              "#7201a8"
             ],
             [
              0.3333333333333333,
              "#9c179e"
             ],
             [
              0.4444444444444444,
              "#bd3786"
             ],
             [
              0.5555555555555556,
              "#d8576b"
             ],
             [
              0.6666666666666666,
              "#ed7953"
             ],
             [
              0.7777777777777778,
              "#fb9f3a"
             ],
             [
              0.8888888888888888,
              "#fdca26"
             ],
             [
              1,
              "#f0f921"
             ]
            ],
            "type": "contour"
           }
          ],
          "contourcarpet": [
           {
            "colorbar": {
             "outlinewidth": 0,
             "ticks": ""
            },
            "type": "contourcarpet"
           }
          ],
          "heatmap": [
           {
            "colorbar": {
             "outlinewidth": 0,
             "ticks": ""
            },
            "colorscale": [
             [
              0,
              "#0d0887"
             ],
             [
              0.1111111111111111,
              "#46039f"
             ],
             [
              0.2222222222222222,
              "#7201a8"
             ],
             [
              0.3333333333333333,
              "#9c179e"
             ],
             [
              0.4444444444444444,
              "#bd3786"
             ],
             [
              0.5555555555555556,
              "#d8576b"
             ],
             [
              0.6666666666666666,
              "#ed7953"
             ],
             [
              0.7777777777777778,
              "#fb9f3a"
             ],
             [
              0.8888888888888888,
              "#fdca26"
             ],
             [
              1,
              "#f0f921"
             ]
            ],
            "type": "heatmap"
           }
          ],
          "heatmapgl": [
           {
            "colorbar": {
             "outlinewidth": 0,
             "ticks": ""
            },
            "colorscale": [
             [
              0,
              "#0d0887"
             ],
             [
              0.1111111111111111,
              "#46039f"
             ],
             [
              0.2222222222222222,
              "#7201a8"
             ],
             [
              0.3333333333333333,
              "#9c179e"
             ],
             [
              0.4444444444444444,
              "#bd3786"
             ],
             [
              0.5555555555555556,
              "#d8576b"
             ],
             [
              0.6666666666666666,
              "#ed7953"
             ],
             [
              0.7777777777777778,
              "#fb9f3a"
             ],
             [
              0.8888888888888888,
              "#fdca26"
             ],
             [
              1,
              "#f0f921"
             ]
            ],
            "type": "heatmapgl"
           }
          ],
          "histogram": [
           {
            "marker": {
             "pattern": {
              "fillmode": "overlay",
              "size": 10,
              "solidity": 0.2
             }
            },
            "type": "histogram"
           }
          ],
          "histogram2d": [
           {
            "colorbar": {
             "outlinewidth": 0,
             "ticks": ""
            },
            "colorscale": [
             [
              0,
              "#0d0887"
             ],
             [
              0.1111111111111111,
              "#46039f"
             ],
             [
              0.2222222222222222,
              "#7201a8"
             ],
             [
              0.3333333333333333,
              "#9c179e"
             ],
             [
              0.4444444444444444,
              "#bd3786"
             ],
             [
              0.5555555555555556,
              "#d8576b"
             ],
             [
              0.6666666666666666,
              "#ed7953"
             ],
             [
              0.7777777777777778,
              "#fb9f3a"
             ],
             [
              0.8888888888888888,
              "#fdca26"
             ],
             [
              1,
              "#f0f921"
             ]
            ],
            "type": "histogram2d"
           }
          ],
          "histogram2dcontour": [
           {
            "colorbar": {
             "outlinewidth": 0,
             "ticks": ""
            },
            "colorscale": [
             [
              0,
              "#0d0887"
             ],
             [
              0.1111111111111111,
              "#46039f"
             ],
             [
              0.2222222222222222,
              "#7201a8"
             ],
             [
              0.3333333333333333,
              "#9c179e"
             ],
             [
              0.4444444444444444,
              "#bd3786"
             ],
             [
              0.5555555555555556,
              "#d8576b"
             ],
             [
              0.6666666666666666,
              "#ed7953"
             ],
             [
              0.7777777777777778,
              "#fb9f3a"
             ],
             [
              0.8888888888888888,
              "#fdca26"
             ],
             [
              1,
              "#f0f921"
             ]
            ],
            "type": "histogram2dcontour"
           }
          ],
          "mesh3d": [
           {
            "colorbar": {
             "outlinewidth": 0,
             "ticks": ""
            },
            "type": "mesh3d"
           }
          ],
          "parcoords": [
           {
            "line": {
             "colorbar": {
              "outlinewidth": 0,
              "ticks": ""
             }
            },
            "type": "parcoords"
           }
          ],
          "pie": [
           {
            "automargin": true,
            "type": "pie"
           }
          ],
          "scatter": [
           {
            "fillpattern": {
             "fillmode": "overlay",
             "size": 10,
             "solidity": 0.2
            },
            "type": "scatter"
           }
          ],
          "scatter3d": [
           {
            "line": {
             "colorbar": {
              "outlinewidth": 0,
              "ticks": ""
             }
            },
            "marker": {
             "colorbar": {
              "outlinewidth": 0,
              "ticks": ""
             }
            },
            "type": "scatter3d"
           }
          ],
          "scattercarpet": [
           {
            "marker": {
             "colorbar": {
              "outlinewidth": 0,
              "ticks": ""
             }
            },
            "type": "scattercarpet"
           }
          ],
          "scattergeo": [
           {
            "marker": {
             "colorbar": {
              "outlinewidth": 0,
              "ticks": ""
             }
            },
            "type": "scattergeo"
           }
          ],
          "scattergl": [
           {
            "marker": {
             "colorbar": {
              "outlinewidth": 0,
              "ticks": ""
             }
            },
            "type": "scattergl"
           }
          ],
          "scattermapbox": [
           {
            "marker": {
             "colorbar": {
              "outlinewidth": 0,
              "ticks": ""
             }
            },
            "type": "scattermapbox"
           }
          ],
          "scatterpolar": [
           {
            "marker": {
             "colorbar": {
              "outlinewidth": 0,
              "ticks": ""
             }
            },
            "type": "scatterpolar"
           }
          ],
          "scatterpolargl": [
           {
            "marker": {
             "colorbar": {
              "outlinewidth": 0,
              "ticks": ""
             }
            },
            "type": "scatterpolargl"
           }
          ],
          "scatterternary": [
           {
            "marker": {
             "colorbar": {
              "outlinewidth": 0,
              "ticks": ""
             }
            },
            "type": "scatterternary"
           }
          ],
          "surface": [
           {
            "colorbar": {
             "outlinewidth": 0,
             "ticks": ""
            },
            "colorscale": [
             [
              0,
              "#0d0887"
             ],
             [
              0.1111111111111111,
              "#46039f"
             ],
             [
              0.2222222222222222,
              "#7201a8"
             ],
             [
              0.3333333333333333,
              "#9c179e"
             ],
             [
              0.4444444444444444,
              "#bd3786"
             ],
             [
              0.5555555555555556,
              "#d8576b"
             ],
             [
              0.6666666666666666,
              "#ed7953"
             ],
             [
              0.7777777777777778,
              "#fb9f3a"
             ],
             [
              0.8888888888888888,
              "#fdca26"
             ],
             [
              1,
              "#f0f921"
             ]
            ],
            "type": "surface"
           }
          ],
          "table": [
           {
            "cells": {
             "fill": {
              "color": "#EBF0F8"
             },
             "line": {
              "color": "white"
             }
            },
            "header": {
             "fill": {
              "color": "#C8D4E3"
             },
             "line": {
              "color": "white"
             }
            },
            "type": "table"
           }
          ]
         },
         "layout": {
          "annotationdefaults": {
           "arrowcolor": "#2a3f5f",
           "arrowhead": 0,
           "arrowwidth": 1
          },
          "autotypenumbers": "strict",
          "coloraxis": {
           "colorbar": {
            "outlinewidth": 0,
            "ticks": ""
           }
          },
          "colorscale": {
           "diverging": [
            [
             0,
             "#8e0152"
            ],
            [
             0.1,
             "#c51b7d"
            ],
            [
             0.2,
             "#de77ae"
            ],
            [
             0.3,
             "#f1b6da"
            ],
            [
             0.4,
             "#fde0ef"
            ],
            [
             0.5,
             "#f7f7f7"
            ],
            [
             0.6,
             "#e6f5d0"
            ],
            [
             0.7,
             "#b8e186"
            ],
            [
             0.8,
             "#7fbc41"
            ],
            [
             0.9,
             "#4d9221"
            ],
            [
             1,
             "#276419"
            ]
           ],
           "sequential": [
            [
             0,
             "#0d0887"
            ],
            [
             0.1111111111111111,
             "#46039f"
            ],
            [
             0.2222222222222222,
             "#7201a8"
            ],
            [
             0.3333333333333333,
             "#9c179e"
            ],
            [
             0.4444444444444444,
             "#bd3786"
            ],
            [
             0.5555555555555556,
             "#d8576b"
            ],
            [
             0.6666666666666666,
             "#ed7953"
            ],
            [
             0.7777777777777778,
             "#fb9f3a"
            ],
            [
             0.8888888888888888,
             "#fdca26"
            ],
            [
             1,
             "#f0f921"
            ]
           ],
           "sequentialminus": [
            [
             0,
             "#0d0887"
            ],
            [
             0.1111111111111111,
             "#46039f"
            ],
            [
             0.2222222222222222,
             "#7201a8"
            ],
            [
             0.3333333333333333,
             "#9c179e"
            ],
            [
             0.4444444444444444,
             "#bd3786"
            ],
            [
             0.5555555555555556,
             "#d8576b"
            ],
            [
             0.6666666666666666,
             "#ed7953"
            ],
            [
             0.7777777777777778,
             "#fb9f3a"
            ],
            [
             0.8888888888888888,
             "#fdca26"
            ],
            [
             1,
             "#f0f921"
            ]
           ]
          },
          "colorway": [
           "#636efa",
           "#EF553B",
           "#00cc96",
           "#ab63fa",
           "#FFA15A",
           "#19d3f3",
           "#FF6692",
           "#B6E880",
           "#FF97FF",
           "#FECB52"
          ],
          "font": {
           "color": "#2a3f5f"
          },
          "geo": {
           "bgcolor": "white",
           "lakecolor": "white",
           "landcolor": "white",
           "showlakes": true,
           "showland": true,
           "subunitcolor": "#C8D4E3"
          },
          "hoverlabel": {
           "align": "left"
          },
          "hovermode": "closest",
          "mapbox": {
           "style": "light"
          },
          "paper_bgcolor": "white",
          "plot_bgcolor": "white",
          "polar": {
           "angularaxis": {
            "gridcolor": "#EBF0F8",
            "linecolor": "#EBF0F8",
            "ticks": ""
           },
           "bgcolor": "white",
           "radialaxis": {
            "gridcolor": "#EBF0F8",
            "linecolor": "#EBF0F8",
            "ticks": ""
           }
          },
          "scene": {
           "xaxis": {
            "backgroundcolor": "white",
            "gridcolor": "#DFE8F3",
            "gridwidth": 2,
            "linecolor": "#EBF0F8",
            "showbackground": true,
            "ticks": "",
            "zerolinecolor": "#EBF0F8"
           },
           "yaxis": {
            "backgroundcolor": "white",
            "gridcolor": "#DFE8F3",
            "gridwidth": 2,
            "linecolor": "#EBF0F8",
            "showbackground": true,
            "ticks": "",
            "zerolinecolor": "#EBF0F8"
           },
           "zaxis": {
            "backgroundcolor": "white",
            "gridcolor": "#DFE8F3",
            "gridwidth": 2,
            "linecolor": "#EBF0F8",
            "showbackground": true,
            "ticks": "",
            "zerolinecolor": "#EBF0F8"
           }
          },
          "shapedefaults": {
           "line": {
            "color": "#2a3f5f"
           }
          },
          "ternary": {
           "aaxis": {
            "gridcolor": "#DFE8F3",
            "linecolor": "#A2B1C6",
            "ticks": ""
           },
           "baxis": {
            "gridcolor": "#DFE8F3",
            "linecolor": "#A2B1C6",
            "ticks": ""
           },
           "bgcolor": "white",
           "caxis": {
            "gridcolor": "#DFE8F3",
            "linecolor": "#A2B1C6",
            "ticks": ""
           }
          },
          "title": {
           "x": 0.05
          },
          "xaxis": {
           "automargin": true,
           "gridcolor": "#EBF0F8",
           "linecolor": "#EBF0F8",
           "ticks": "",
           "title": {
            "standoff": 15
           },
           "zerolinecolor": "#EBF0F8",
           "zerolinewidth": 2
          },
          "yaxis": {
           "automargin": true,
           "gridcolor": "#EBF0F8",
           "linecolor": "#EBF0F8",
           "ticks": "",
           "title": {
            "standoff": 15
           },
           "zerolinecolor": "#EBF0F8",
           "zerolinewidth": 2
          }
         }
        },
        "title": {
         "text": "🍭 Lollipop Chart: Composite Pollution Change per Station (2008 → 2018)"
        },
        "xaxis": {
         "title": {
          "text": "Composite Index Change (Z-score)"
         }
        },
        "yaxis": {
         "title": {
          "text": "Station"
         }
        }
       }
      },
      "text/html": [
       "<div>                            <div id=\"3acacf98-23d1-4f29-af8e-3382fcccc672\" class=\"plotly-graph-div\" style=\"height:800px; width:100%;\"></div>            <script type=\"text/javascript\">                require([\"plotly\"], function(Plotly) {                    window.PLOTLYENV=window.PLOTLYENV || {};                                    if (document.getElementById(\"3acacf98-23d1-4f29-af8e-3382fcccc672\")) {                    Plotly.newPlot(                        \"3acacf98-23d1-4f29-af8e-3382fcccc672\",                        [{\"marker\":{\"color\":[-0.41831742009316514,-0.30886402470903757,-0.2967848121142692,-0.25969568063319537,-0.2354753599871986,-0.1875141307463928,-0.15436425069354803,-0.09877434154126312,0.005827041816354739,0.07464169472680782,0.1329951595838214],\"colorscale\":[[0.0,\"rgb(0,104,55)\"],[0.1,\"rgb(26,152,80)\"],[0.2,\"rgb(102,189,99)\"],[0.3,\"rgb(166,217,106)\"],[0.4,\"rgb(217,239,139)\"],[0.5,\"rgb(255,255,191)\"],[0.6,\"rgb(254,224,139)\"],[0.7,\"rgb(253,174,97)\"],[0.8,\"rgb(244,109,67)\"],[0.9,\"rgb(215,48,39)\"],[1.0,\"rgb(165,0,38)\"]],\"size\":10},\"mode\":\"markers\",\"name\":\"Change\",\"x\":[-0.41831742009316514,-0.30886402470903757,-0.2967848121142692,-0.25969568063319537,-0.2354753599871986,-0.1875141307463928,-0.15436425069354803,-0.09877434154126312,0.005827041816354739,0.07464169472680782,0.1329951595838214],\"y\":[\"Cuatro Caminos\",\"Pza. de Espa\\u00f1a\",\"Casa de Campo\",\"Avda. Ram\\u00f3n y Cajal\",\"Vallecas\",\"Farolillo\",\"Escuelas Aguirre\",\"Moratalaz\",\"Barrio del Pilar\",\"Arturo Soria\",\"Barajas Pueblo\"],\"type\":\"scatter\"},{\"line\":{\"color\":\"gray\",\"width\":2},\"mode\":\"lines\",\"showlegend\":false,\"x\":[0,-0.41831742009316514],\"y\":[\"Cuatro Caminos\",\"Cuatro Caminos\"],\"type\":\"scatter\"},{\"line\":{\"color\":\"gray\",\"width\":2},\"mode\":\"lines\",\"showlegend\":false,\"x\":[0,-0.30886402470903757],\"y\":[\"Pza. de Espa\\u00f1a\",\"Pza. de Espa\\u00f1a\"],\"type\":\"scatter\"},{\"line\":{\"color\":\"gray\",\"width\":2},\"mode\":\"lines\",\"showlegend\":false,\"x\":[0,-0.2967848121142692],\"y\":[\"Casa de Campo\",\"Casa de Campo\"],\"type\":\"scatter\"},{\"line\":{\"color\":\"gray\",\"width\":2},\"mode\":\"lines\",\"showlegend\":false,\"x\":[0,-0.25969568063319537],\"y\":[\"Avda. Ram\\u00f3n y Cajal\",\"Avda. Ram\\u00f3n y Cajal\"],\"type\":\"scatter\"},{\"line\":{\"color\":\"gray\",\"width\":2},\"mode\":\"lines\",\"showlegend\":false,\"x\":[0,-0.2354753599871986],\"y\":[\"Vallecas\",\"Vallecas\"],\"type\":\"scatter\"},{\"line\":{\"color\":\"gray\",\"width\":2},\"mode\":\"lines\",\"showlegend\":false,\"x\":[0,-0.1875141307463928],\"y\":[\"Farolillo\",\"Farolillo\"],\"type\":\"scatter\"},{\"line\":{\"color\":\"gray\",\"width\":2},\"mode\":\"lines\",\"showlegend\":false,\"x\":[0,-0.15436425069354803],\"y\":[\"Escuelas Aguirre\",\"Escuelas Aguirre\"],\"type\":\"scatter\"},{\"line\":{\"color\":\"gray\",\"width\":2},\"mode\":\"lines\",\"showlegend\":false,\"x\":[0,-0.09877434154126312],\"y\":[\"Moratalaz\",\"Moratalaz\"],\"type\":\"scatter\"},{\"line\":{\"color\":\"gray\",\"width\":2},\"mode\":\"lines\",\"showlegend\":false,\"x\":[0,0.005827041816354739],\"y\":[\"Barrio del Pilar\",\"Barrio del Pilar\"],\"type\":\"scatter\"},{\"line\":{\"color\":\"gray\",\"width\":2},\"mode\":\"lines\",\"showlegend\":false,\"x\":[0,0.07464169472680782],\"y\":[\"Arturo Soria\",\"Arturo Soria\"],\"type\":\"scatter\"},{\"line\":{\"color\":\"gray\",\"width\":2},\"mode\":\"lines\",\"showlegend\":false,\"x\":[0,0.1329951595838214],\"y\":[\"Barajas Pueblo\",\"Barajas Pueblo\"],\"type\":\"scatter\"}],                        {\"template\":{\"data\":{\"barpolar\":[{\"marker\":{\"line\":{\"color\":\"white\",\"width\":0.5},\"pattern\":{\"fillmode\":\"overlay\",\"size\":10,\"solidity\":0.2}},\"type\":\"barpolar\"}],\"bar\":[{\"error_x\":{\"color\":\"#2a3f5f\"},\"error_y\":{\"color\":\"#2a3f5f\"},\"marker\":{\"line\":{\"color\":\"white\",\"width\":0.5},\"pattern\":{\"fillmode\":\"overlay\",\"size\":10,\"solidity\":0.2}},\"type\":\"bar\"}],\"carpet\":[{\"aaxis\":{\"endlinecolor\":\"#2a3f5f\",\"gridcolor\":\"#C8D4E3\",\"linecolor\":\"#C8D4E3\",\"minorgridcolor\":\"#C8D4E3\",\"startlinecolor\":\"#2a3f5f\"},\"baxis\":{\"endlinecolor\":\"#2a3f5f\",\"gridcolor\":\"#C8D4E3\",\"linecolor\":\"#C8D4E3\",\"minorgridcolor\":\"#C8D4E3\",\"startlinecolor\":\"#2a3f5f\"},\"type\":\"carpet\"}],\"choropleth\":[{\"colorbar\":{\"outlinewidth\":0,\"ticks\":\"\"},\"type\":\"choropleth\"}],\"contourcarpet\":[{\"colorbar\":{\"outlinewidth\":0,\"ticks\":\"\"},\"type\":\"contourcarpet\"}],\"contour\":[{\"colorbar\":{\"outlinewidth\":0,\"ticks\":\"\"},\"colorscale\":[[0.0,\"#0d0887\"],[0.1111111111111111,\"#46039f\"],[0.2222222222222222,\"#7201a8\"],[0.3333333333333333,\"#9c179e\"],[0.4444444444444444,\"#bd3786\"],[0.5555555555555556,\"#d8576b\"],[0.6666666666666666,\"#ed7953\"],[0.7777777777777778,\"#fb9f3a\"],[0.8888888888888888,\"#fdca26\"],[1.0,\"#f0f921\"]],\"type\":\"contour\"}],\"heatmapgl\":[{\"colorbar\":{\"outlinewidth\":0,\"ticks\":\"\"},\"colorscale\":[[0.0,\"#0d0887\"],[0.1111111111111111,\"#46039f\"],[0.2222222222222222,\"#7201a8\"],[0.3333333333333333,\"#9c179e\"],[0.4444444444444444,\"#bd3786\"],[0.5555555555555556,\"#d8576b\"],[0.6666666666666666,\"#ed7953\"],[0.7777777777777778,\"#fb9f3a\"],[0.8888888888888888,\"#fdca26\"],[1.0,\"#f0f921\"]],\"type\":\"heatmapgl\"}],\"heatmap\":[{\"colorbar\":{\"outlinewidth\":0,\"ticks\":\"\"},\"colorscale\":[[0.0,\"#0d0887\"],[0.1111111111111111,\"#46039f\"],[0.2222222222222222,\"#7201a8\"],[0.3333333333333333,\"#9c179e\"],[0.4444444444444444,\"#bd3786\"],[0.5555555555555556,\"#d8576b\"],[0.6666666666666666,\"#ed7953\"],[0.7777777777777778,\"#fb9f3a\"],[0.8888888888888888,\"#fdca26\"],[1.0,\"#f0f921\"]],\"type\":\"heatmap\"}],\"histogram2dcontour\":[{\"colorbar\":{\"outlinewidth\":0,\"ticks\":\"\"},\"colorscale\":[[0.0,\"#0d0887\"],[0.1111111111111111,\"#46039f\"],[0.2222222222222222,\"#7201a8\"],[0.3333333333333333,\"#9c179e\"],[0.4444444444444444,\"#bd3786\"],[0.5555555555555556,\"#d8576b\"],[0.6666666666666666,\"#ed7953\"],[0.7777777777777778,\"#fb9f3a\"],[0.8888888888888888,\"#fdca26\"],[1.0,\"#f0f921\"]],\"type\":\"histogram2dcontour\"}],\"histogram2d\":[{\"colorbar\":{\"outlinewidth\":0,\"ticks\":\"\"},\"colorscale\":[[0.0,\"#0d0887\"],[0.1111111111111111,\"#46039f\"],[0.2222222222222222,\"#7201a8\"],[0.3333333333333333,\"#9c179e\"],[0.4444444444444444,\"#bd3786\"],[0.5555555555555556,\"#d8576b\"],[0.6666666666666666,\"#ed7953\"],[0.7777777777777778,\"#fb9f3a\"],[0.8888888888888888,\"#fdca26\"],[1.0,\"#f0f921\"]],\"type\":\"histogram2d\"}],\"histogram\":[{\"marker\":{\"pattern\":{\"fillmode\":\"overlay\",\"size\":10,\"solidity\":0.2}},\"type\":\"histogram\"}],\"mesh3d\":[{\"colorbar\":{\"outlinewidth\":0,\"ticks\":\"\"},\"type\":\"mesh3d\"}],\"parcoords\":[{\"line\":{\"colorbar\":{\"outlinewidth\":0,\"ticks\":\"\"}},\"type\":\"parcoords\"}],\"pie\":[{\"automargin\":true,\"type\":\"pie\"}],\"scatter3d\":[{\"line\":{\"colorbar\":{\"outlinewidth\":0,\"ticks\":\"\"}},\"marker\":{\"colorbar\":{\"outlinewidth\":0,\"ticks\":\"\"}},\"type\":\"scatter3d\"}],\"scattercarpet\":[{\"marker\":{\"colorbar\":{\"outlinewidth\":0,\"ticks\":\"\"}},\"type\":\"scattercarpet\"}],\"scattergeo\":[{\"marker\":{\"colorbar\":{\"outlinewidth\":0,\"ticks\":\"\"}},\"type\":\"scattergeo\"}],\"scattergl\":[{\"marker\":{\"colorbar\":{\"outlinewidth\":0,\"ticks\":\"\"}},\"type\":\"scattergl\"}],\"scattermapbox\":[{\"marker\":{\"colorbar\":{\"outlinewidth\":0,\"ticks\":\"\"}},\"type\":\"scattermapbox\"}],\"scatterpolargl\":[{\"marker\":{\"colorbar\":{\"outlinewidth\":0,\"ticks\":\"\"}},\"type\":\"scatterpolargl\"}],\"scatterpolar\":[{\"marker\":{\"colorbar\":{\"outlinewidth\":0,\"ticks\":\"\"}},\"type\":\"scatterpolar\"}],\"scatter\":[{\"fillpattern\":{\"fillmode\":\"overlay\",\"size\":10,\"solidity\":0.2},\"type\":\"scatter\"}],\"scatterternary\":[{\"marker\":{\"colorbar\":{\"outlinewidth\":0,\"ticks\":\"\"}},\"type\":\"scatterternary\"}],\"surface\":[{\"colorbar\":{\"outlinewidth\":0,\"ticks\":\"\"},\"colorscale\":[[0.0,\"#0d0887\"],[0.1111111111111111,\"#46039f\"],[0.2222222222222222,\"#7201a8\"],[0.3333333333333333,\"#9c179e\"],[0.4444444444444444,\"#bd3786\"],[0.5555555555555556,\"#d8576b\"],[0.6666666666666666,\"#ed7953\"],[0.7777777777777778,\"#fb9f3a\"],[0.8888888888888888,\"#fdca26\"],[1.0,\"#f0f921\"]],\"type\":\"surface\"}],\"table\":[{\"cells\":{\"fill\":{\"color\":\"#EBF0F8\"},\"line\":{\"color\":\"white\"}},\"header\":{\"fill\":{\"color\":\"#C8D4E3\"},\"line\":{\"color\":\"white\"}},\"type\":\"table\"}]},\"layout\":{\"annotationdefaults\":{\"arrowcolor\":\"#2a3f5f\",\"arrowhead\":0,\"arrowwidth\":1},\"autotypenumbers\":\"strict\",\"coloraxis\":{\"colorbar\":{\"outlinewidth\":0,\"ticks\":\"\"}},\"colorscale\":{\"diverging\":[[0,\"#8e0152\"],[0.1,\"#c51b7d\"],[0.2,\"#de77ae\"],[0.3,\"#f1b6da\"],[0.4,\"#fde0ef\"],[0.5,\"#f7f7f7\"],[0.6,\"#e6f5d0\"],[0.7,\"#b8e186\"],[0.8,\"#7fbc41\"],[0.9,\"#4d9221\"],[1,\"#276419\"]],\"sequential\":[[0.0,\"#0d0887\"],[0.1111111111111111,\"#46039f\"],[0.2222222222222222,\"#7201a8\"],[0.3333333333333333,\"#9c179e\"],[0.4444444444444444,\"#bd3786\"],[0.5555555555555556,\"#d8576b\"],[0.6666666666666666,\"#ed7953\"],[0.7777777777777778,\"#fb9f3a\"],[0.8888888888888888,\"#fdca26\"],[1.0,\"#f0f921\"]],\"sequentialminus\":[[0.0,\"#0d0887\"],[0.1111111111111111,\"#46039f\"],[0.2222222222222222,\"#7201a8\"],[0.3333333333333333,\"#9c179e\"],[0.4444444444444444,\"#bd3786\"],[0.5555555555555556,\"#d8576b\"],[0.6666666666666666,\"#ed7953\"],[0.7777777777777778,\"#fb9f3a\"],[0.8888888888888888,\"#fdca26\"],[1.0,\"#f0f921\"]]},\"colorway\":[\"#636efa\",\"#EF553B\",\"#00cc96\",\"#ab63fa\",\"#FFA15A\",\"#19d3f3\",\"#FF6692\",\"#B6E880\",\"#FF97FF\",\"#FECB52\"],\"font\":{\"color\":\"#2a3f5f\"},\"geo\":{\"bgcolor\":\"white\",\"lakecolor\":\"white\",\"landcolor\":\"white\",\"showlakes\":true,\"showland\":true,\"subunitcolor\":\"#C8D4E3\"},\"hoverlabel\":{\"align\":\"left\"},\"hovermode\":\"closest\",\"mapbox\":{\"style\":\"light\"},\"paper_bgcolor\":\"white\",\"plot_bgcolor\":\"white\",\"polar\":{\"angularaxis\":{\"gridcolor\":\"#EBF0F8\",\"linecolor\":\"#EBF0F8\",\"ticks\":\"\"},\"bgcolor\":\"white\",\"radialaxis\":{\"gridcolor\":\"#EBF0F8\",\"linecolor\":\"#EBF0F8\",\"ticks\":\"\"}},\"scene\":{\"xaxis\":{\"backgroundcolor\":\"white\",\"gridcolor\":\"#DFE8F3\",\"gridwidth\":2,\"linecolor\":\"#EBF0F8\",\"showbackground\":true,\"ticks\":\"\",\"zerolinecolor\":\"#EBF0F8\"},\"yaxis\":{\"backgroundcolor\":\"white\",\"gridcolor\":\"#DFE8F3\",\"gridwidth\":2,\"linecolor\":\"#EBF0F8\",\"showbackground\":true,\"ticks\":\"\",\"zerolinecolor\":\"#EBF0F8\"},\"zaxis\":{\"backgroundcolor\":\"white\",\"gridcolor\":\"#DFE8F3\",\"gridwidth\":2,\"linecolor\":\"#EBF0F8\",\"showbackground\":true,\"ticks\":\"\",\"zerolinecolor\":\"#EBF0F8\"}},\"shapedefaults\":{\"line\":{\"color\":\"#2a3f5f\"}},\"ternary\":{\"aaxis\":{\"gridcolor\":\"#DFE8F3\",\"linecolor\":\"#A2B1C6\",\"ticks\":\"\"},\"baxis\":{\"gridcolor\":\"#DFE8F3\",\"linecolor\":\"#A2B1C6\",\"ticks\":\"\"},\"bgcolor\":\"white\",\"caxis\":{\"gridcolor\":\"#DFE8F3\",\"linecolor\":\"#A2B1C6\",\"ticks\":\"\"}},\"title\":{\"x\":0.05},\"xaxis\":{\"automargin\":true,\"gridcolor\":\"#EBF0F8\",\"linecolor\":\"#EBF0F8\",\"ticks\":\"\",\"title\":{\"standoff\":15},\"zerolinecolor\":\"#EBF0F8\",\"zerolinewidth\":2},\"yaxis\":{\"automargin\":true,\"gridcolor\":\"#EBF0F8\",\"linecolor\":\"#EBF0F8\",\"ticks\":\"\",\"title\":{\"standoff\":15},\"zerolinecolor\":\"#EBF0F8\",\"zerolinewidth\":2}}},\"title\":{\"text\":\"\\ud83c\\udf6d Lollipop Chart: Composite Pollution Change per Station (2008 \\u2192 2018)\"},\"xaxis\":{\"title\":{\"text\":\"Composite Index Change (Z-score)\"}},\"yaxis\":{\"title\":{\"text\":\"Station\"}},\"height\":800},                        {\"responsive\": true}                    ).then(function(){\n",
       "                            \n",
       "var gd = document.getElementById('3acacf98-23d1-4f29-af8e-3382fcccc672');\n",
       "var x = new MutationObserver(function (mutations, observer) {{\n",
       "        var display = window.getComputedStyle(gd).display;\n",
       "        if (!display || display === 'none') {{\n",
       "            console.log([gd, 'removed!']);\n",
       "            Plotly.purge(gd);\n",
       "            observer.disconnect();\n",
       "        }}\n",
       "}});\n",
       "\n",
       "// Listen for the removal of the full notebook cells\n",
       "var notebookContainer = gd.closest('#notebook-container');\n",
       "if (notebookContainer) {{\n",
       "    x.observe(notebookContainer, {childList: true});\n",
       "}}\n",
       "\n",
       "// Listen for the clearing of the current output cell\n",
       "var outputEl = gd.closest('.output');\n",
       "if (outputEl) {{\n",
       "    x.observe(outputEl, {childList: true});\n",
       "}}\n",
       "\n",
       "                        })                };                });            </script>        </div>"
      ]
     },
     "metadata": {},
     "output_type": "display_data"
    }
   ],
   "source": [
    "fig_lollipop = go.Figure()\n",
    "\n",
    "fig_lollipop.add_trace(go.Scatter(\n",
    "    x=merged_clean['composite_change'],\n",
    "    y=merged_clean['name'],\n",
    "    mode='markers',\n",
    "    marker=dict(size=10, color=merged_clean['composite_change'], colorscale='RdYlGn_r'),\n",
    "    name='Change'\n",
    "))\n",
    "\n",
    "# Add lines (lollipop stems)\n",
    "for i, row in merged_clean.iterrows():\n",
    "    fig_lollipop.add_trace(go.Scatter(\n",
    "        x=[0, row['composite_change']],\n",
    "        y=[row['name'], row['name']],\n",
    "        mode='lines',\n",
    "        line=dict(color='gray', width=2),\n",
    "        showlegend=False\n",
    "    ))\n",
    "\n",
    "fig_lollipop.update_layout(\n",
    "    title='🍭 Lollipop Chart: Composite Pollution Change per Station (2008 → 2018)',\n",
    "    xaxis_title='Composite Index Change (Z-score)',\n",
    "    yaxis_title='Station',\n",
    "    template='plotly_white',\n",
    "    height=800\n",
    ")\n",
    "\n",
    "fig_lollipop.show()"
   ]
  },
  {
   "cell_type": "markdown",
   "id": "a714fb62",
   "metadata": {},
   "source": [
    "Right side of 0 (positive values) → Pollution has worsened at that station.\n",
    "\n",
    "Left side of 0 (negative values) → Pollution has improved at that station.\n",
    "\n",
    "Longer line = larger change (good or bad)."
   ]
  },
  {
   "cell_type": "markdown",
   "id": "502f954a",
   "metadata": {},
   "source": [
    "## Question 4 "
   ]
  },
  {
   "cell_type": "code",
   "execution_count": 16,
   "id": "7c674f8f",
   "metadata": {
    "ExecuteTime": {
     "end_time": "2025-05-17T08:19:32.183243Z",
     "start_time": "2025-05-17T08:19:31.231310Z"
    }
   },
   "outputs": [
    {
     "data": {
      "application/vnd.plotly.v1+json": {
       "config": {
        "plotlyServerURL": "https://plot.ly"
       },
       "data": [
        {
         "hovertemplate": "Pollutant=BEN<br>year=%{x}<br>Normalized Value=%{y}<extra></extra>",
         "legendgroup": "BEN",
         "line": {
          "color": "#636efa",
          "dash": "solid"
         },
         "marker": {
          "symbol": "circle"
         },
         "mode": "lines+markers",
         "name": "BEN",
         "orientation": "v",
         "showlegend": true,
         "type": "scatter",
         "x": [
          2008,
          2009,
          2010,
          2011,
          2012,
          2013,
          2014,
          2015,
          2016,
          2017,
          2018
         ],
         "xaxis": "x",
         "y": [
          -0.19082640595720426,
          -0.26149984608784893,
          -0.2533875396642318,
          -0.23137558156804883,
          -0.2241927907502329,
          -0.28487915577231804,
          -0.30099105957710703,
          -0.26192080683575825,
          -0.32707295511155576,
          -0.34639233420460397,
          -0.36715276012471315
         ],
         "yaxis": "y"
        },
        {
         "hovertemplate": "Pollutant=CO<br>year=%{x}<br>Normalized Value=%{y}<extra></extra>",
         "legendgroup": "CO",
         "line": {
          "color": "#EF553B",
          "dash": "solid"
         },
         "marker": {
          "symbol": "circle"
         },
         "mode": "lines+markers",
         "name": "CO",
         "orientation": "v",
         "showlegend": true,
         "type": "scatter",
         "x": [
          2008,
          2009,
          2010,
          2011,
          2012,
          2013,
          2014,
          2015,
          2016,
          2017,
          2018
         ],
         "xaxis": "x",
         "y": [
          -0.2583471907418869,
          -0.2927810218353028,
          -0.360797777822003,
          -0.3408661706467021,
          -0.3648469061743011,
          -0.41391912309678935,
          -0.3401481255746772,
          -0.3433104901132923,
          -0.3649832884075275,
          -0.34833965322337385,
          -0.38463215455833694
         ],
         "yaxis": "y"
        },
        {
         "hovertemplate": "Pollutant=EBE<br>year=%{x}<br>Normalized Value=%{y}<extra></extra>",
         "legendgroup": "EBE",
         "line": {
          "color": "#00cc96",
          "dash": "solid"
         },
         "marker": {
          "symbol": "circle"
         },
         "mode": "lines+markers",
         "name": "EBE",
         "orientation": "v",
         "showlegend": true,
         "type": "scatter",
         "x": [
          2008,
          2009,
          2010,
          2011,
          2012,
          2013,
          2014,
          2015,
          2016,
          2017,
          2018
         ],
         "xaxis": "x",
         "y": [
          -0.06273763155690908,
          -0.08725314231670028,
          -0.15490563186677583,
          -0.2039373071918046,
          -0.21244946603240047,
          -0.27778268493719066,
          -0.43668442687242637,
          -0.42526172661369005,
          -0.48157835107895214,
          -0.47206730444617234,
          -0.5160018133440003
         ],
         "yaxis": "y"
        },
        {
         "hovertemplate": "Pollutant=NMHC<br>year=%{x}<br>Normalized Value=%{y}<extra></extra>",
         "legendgroup": "NMHC",
         "line": {
          "color": "#ab63fa",
          "dash": "solid"
         },
         "marker": {
          "symbol": "circle"
         },
         "mode": "lines+markers",
         "name": "NMHC",
         "orientation": "v",
         "showlegend": true,
         "type": "scatter",
         "x": [
          2008,
          2009,
          2010,
          2011,
          2012,
          2013,
          2014,
          2015,
          2016,
          2017,
          2018
         ],
         "xaxis": "x",
         "y": [
          0.03261710918219011,
          0.12021500417714791,
          0.14359341292098693,
          0.04179848198495127,
          -0.0009280737526648196,
          0.033560961166424076,
          0.5725654777474956,
          0.4816779614172293,
          -0.40951588694693325,
          -0.3866236627973055,
          -0.7932989411046625
         ],
         "yaxis": "y"
        },
        {
         "hovertemplate": "Pollutant=NOx<br>year=%{x}<br>Normalized Value=%{y}<extra></extra>",
         "legendgroup": "NOx",
         "line": {
          "color": "#FFA15A",
          "dash": "solid"
         },
         "marker": {
          "symbol": "circle"
         },
         "mode": "lines+markers",
         "name": "NOx",
         "orientation": "v",
         "showlegend": true,
         "type": "scatter",
         "x": [
          2008,
          2009,
          2010,
          2011,
          2012,
          2013,
          2014,
          2015,
          2016,
          2017,
          2018
         ],
         "xaxis": "x",
         "y": [
          -0.12648542918853425,
          -0.18256545200999894,
          -0.37470648479583035,
          null,
          null,
          null,
          null,
          null,
          null,
          0.14472081354456345,
          -0.36434387538239027
         ],
         "yaxis": "y"
        },
        {
         "hovertemplate": "Pollutant=NO_2<br>year=%{x}<br>Normalized Value=%{y}<extra></extra>",
         "legendgroup": "NO_2",
         "line": {
          "color": "#19d3f3",
          "dash": "solid"
         },
         "marker": {
          "symbol": "circle"
         },
         "mode": "lines+markers",
         "name": "NO_2",
         "orientation": "v",
         "showlegend": true,
         "type": "scatter",
         "x": [
          2008,
          2009,
          2010,
          2011,
          2012,
          2013,
          2014,
          2015,
          2016,
          2017,
          2018
         ],
         "xaxis": "x",
         "y": [
          0.14139717983272734,
          0.11211418315168252,
          -0.17936344476358687,
          -0.1617597718037634,
          -0.34202104747730466,
          -0.45614470220876113,
          -0.4462187856409109,
          -0.2746864485801971,
          -0.34475454716910964,
          -0.2573073421364773,
          -0.3426431520144851
         ],
         "yaxis": "y"
        },
        {
         "hovertemplate": "Pollutant=O_3<br>year=%{x}<br>Normalized Value=%{y}<extra></extra>",
         "legendgroup": "O_3",
         "line": {
          "color": "#FF6692",
          "dash": "solid"
         },
         "marker": {
          "symbol": "circle"
         },
         "mode": "lines+markers",
         "name": "O_3",
         "orientation": "v",
         "showlegend": true,
         "type": "scatter",
         "x": [
          2008,
          2009,
          2010,
          2011,
          2012,
          2013,
          2014,
          2015,
          2016,
          2017,
          2018
         ],
         "xaxis": "x",
         "y": [
          -0.02589388336778916,
          0.16032195481810885,
          0.25752254291817933,
          0.16989030892228493,
          0.04417175821450228,
          0.3353969539901644,
          0.38875997826644804,
          0.3539316729792081,
          0.30420633097273464,
          0.2796983231691134,
          0.16574499967063971
         ],
         "yaxis": "y"
        },
        {
         "hovertemplate": "Pollutant=PM10<br>year=%{x}<br>Normalized Value=%{y}<extra></extra>",
         "legendgroup": "PM10",
         "line": {
          "color": "#B6E880",
          "dash": "solid"
         },
         "marker": {
          "symbol": "circle"
         },
         "mode": "lines+markers",
         "name": "PM10",
         "orientation": "v",
         "showlegend": true,
         "type": "scatter",
         "x": [
          2008,
          2009,
          2010,
          2011,
          2012,
          2013,
          2014,
          2015,
          2016,
          2017,
          2018
         ],
         "xaxis": "x",
         "y": [
          -0.08961571954561784,
          -0.17012783760955666,
          -0.27341674564255275,
          -0.21771048005656463,
          -0.2057789685712654,
          -0.4071039640806354,
          -0.3718005895013603,
          -0.30514585513249043,
          -0.37709521888726144,
          -0.3465188595263041,
          -0.5941308824295014
         ],
         "yaxis": "y"
        },
        {
         "hovertemplate": "Pollutant=SO_2<br>year=%{x}<br>Normalized Value=%{y}<extra></extra>",
         "legendgroup": "SO_2",
         "line": {
          "color": "#FF97FF",
          "dash": "solid"
         },
         "marker": {
          "symbol": "circle"
         },
         "mode": "lines+markers",
         "name": "SO_2",
         "orientation": "v",
         "showlegend": true,
         "type": "scatter",
         "x": [
          2008,
          2009,
          2010,
          2011,
          2012,
          2013,
          2014,
          2015,
          2016,
          2017,
          2018
         ],
         "xaxis": "x",
         "y": [
          -0.009978204264504078,
          -0.04113077874395135,
          -0.10445057373723414,
          -0.40880996272938463,
          -0.6887543180687605,
          -0.6835929050870937,
          -0.6174155518626552,
          -0.41375573918302805,
          -0.3249680636171051,
          -0.41700203599206703,
          -0.5774052908588988
         ],
         "yaxis": "y"
        },
        {
         "hovertemplate": "Pollutant=TCH<br>year=%{x}<br>Normalized Value=%{y}<extra></extra>",
         "legendgroup": "TCH",
         "line": {
          "color": "#FECB52",
          "dash": "solid"
         },
         "marker": {
          "symbol": "circle"
         },
         "mode": "lines+markers",
         "name": "TCH",
         "orientation": "v",
         "showlegend": true,
         "type": "scatter",
         "x": [
          2008,
          2009,
          2010,
          2011,
          2012,
          2013,
          2014,
          2015,
          2016,
          2017,
          2018
         ],
         "xaxis": "x",
         "y": [
          -0.009423874607025554,
          0.12544524275535587,
          -0.04324484870928465,
          -0.013424715473326099,
          -0.2107082728219859,
          -0.05498232461069806,
          -0.11795661671695624,
          0.32897010081341876,
          -0.2773503620513937,
          -0.16927689384270847,
          -0.3683924552489401
         ],
         "yaxis": "y"
        },
        {
         "hovertemplate": "Pollutant=TOL<br>year=%{x}<br>Normalized Value=%{y}<extra></extra>",
         "legendgroup": "TOL",
         "line": {
          "color": "#636efa",
          "dash": "solid"
         },
         "marker": {
          "symbol": "circle"
         },
         "mode": "lines+markers",
         "name": "TOL",
         "orientation": "v",
         "showlegend": true,
         "type": "scatter",
         "x": [
          2008,
          2009,
          2010,
          2011,
          2012,
          2013,
          2014,
          2015,
          2016,
          2017,
          2018
         ],
         "xaxis": "x",
         "y": [
          -0.16834311935976473,
          -0.23548500019919433,
          -0.3141786500884963,
          -0.2720203516464532,
          -0.28916222522877294,
          -0.3882780063841427,
          -0.3702926773888574,
          -0.32130780259672564,
          -0.38848943591927443,
          -0.3855805760496668,
          -0.4937165602823191
         ],
         "yaxis": "y"
        },
        {
         "hovertemplate": "Pollutant=MXY<br>year=%{x}<br>Normalized Value=%{y}<extra></extra>",
         "legendgroup": "MXY",
         "line": {
          "color": "#EF553B",
          "dash": "solid"
         },
         "marker": {
          "symbol": "circle"
         },
         "mode": "lines+markers",
         "name": "MXY",
         "orientation": "v",
         "showlegend": true,
         "type": "scatter",
         "x": [
          2008,
          2009,
          2010,
          2011,
          2012,
          2013,
          2014,
          2015,
          2016,
          2017,
          2018
         ],
         "xaxis": "x",
         "y": [
          -0.3939354839770968,
          -0.4289122950754431,
          -0.6805566040773091,
          null,
          null,
          null,
          null,
          null,
          null,
          null,
          null
         ],
         "yaxis": "y"
        },
        {
         "hovertemplate": "Pollutant=OXY<br>year=%{x}<br>Normalized Value=%{y}<extra></extra>",
         "legendgroup": "OXY",
         "line": {
          "color": "#00cc96",
          "dash": "solid"
         },
         "marker": {
          "symbol": "circle"
         },
         "mode": "lines+markers",
         "name": "OXY",
         "orientation": "v",
         "showlegend": true,
         "type": "scatter",
         "x": [
          2008,
          2009,
          2010,
          2011,
          2012,
          2013,
          2014,
          2015,
          2016,
          2017,
          2018
         ],
         "xaxis": "x",
         "y": [
          -0.30288613782797297,
          -0.3481489268428381,
          -0.5170942084229943,
          null,
          null,
          null,
          null,
          null,
          null,
          null,
          null
         ],
         "yaxis": "y"
        },
        {
         "hovertemplate": "Pollutant=PXY<br>year=%{x}<br>Normalized Value=%{y}<extra></extra>",
         "legendgroup": "PXY",
         "line": {
          "color": "#ab63fa",
          "dash": "solid"
         },
         "marker": {
          "symbol": "circle"
         },
         "mode": "lines+markers",
         "name": "PXY",
         "orientation": "v",
         "showlegend": true,
         "type": "scatter",
         "x": [
          2008,
          2009,
          2010,
          2011,
          2012,
          2013,
          2014,
          2015,
          2016,
          2017,
          2018
         ],
         "xaxis": "x",
         "y": [
          -0.30738777252148747,
          -0.34150751646065003,
          -0.5252258724183957,
          null,
          null,
          null,
          null,
          null,
          null,
          null,
          null
         ],
         "yaxis": "y"
        },
        {
         "hovertemplate": "Pollutant=PM25<br>year=%{x}<br>Normalized Value=%{y}<extra></extra>",
         "legendgroup": "PM25",
         "line": {
          "color": "#FFA15A",
          "dash": "solid"
         },
         "marker": {
          "symbol": "circle"
         },
         "mode": "lines+markers",
         "name": "PM25",
         "orientation": "v",
         "showlegend": true,
         "type": "scatter",
         "x": [
          2008,
          2009,
          2010,
          2011,
          2012,
          2013,
          2014,
          2015,
          2016,
          2017,
          2018
         ],
         "xaxis": "x",
         "y": [
          0.05924542707305177,
          -0.08326814059953024,
          -0.15564934398371508,
          -0.12988529316030833,
          -0.17151051456399055,
          -0.3390764955376329,
          -0.2779674226254587,
          -0.20194187832798596,
          -0.29881418851711133,
          -0.33804501476811777,
          -0.5368474402848896
         ],
         "yaxis": "y"
        },
        {
         "hovertemplate": "Pollutant=CH4<br>year=%{x}<br>Normalized Value=%{y}<extra></extra>",
         "legendgroup": "CH4",
         "line": {
          "color": "#19d3f3",
          "dash": "solid"
         },
         "marker": {
          "symbol": "circle"
         },
         "mode": "lines+markers",
         "name": "CH4",
         "orientation": "v",
         "showlegend": true,
         "type": "scatter",
         "x": [
          2008,
          2009,
          2010,
          2011,
          2012,
          2013,
          2014,
          2015,
          2016,
          2017,
          2018
         ],
         "xaxis": "x",
         "y": [
          null,
          null,
          null,
          null,
          null,
          null,
          null,
          null,
          null,
          0.10416753546952608,
          -0.07911302160659577
         ],
         "yaxis": "y"
        },
        {
         "hovertemplate": "Pollutant=NO<br>year=%{x}<br>Normalized Value=%{y}<extra></extra>",
         "legendgroup": "NO",
         "line": {
          "color": "#FF6692",
          "dash": "solid"
         },
         "marker": {
          "symbol": "circle"
         },
         "mode": "lines+markers",
         "name": "NO",
         "orientation": "v",
         "showlegend": true,
         "type": "scatter",
         "x": [
          2008,
          2009,
          2010,
          2011,
          2012,
          2013,
          2014,
          2015,
          2016,
          2017,
          2018
         ],
         "xaxis": "x",
         "y": [
          null,
          null,
          null,
          0.09375423791142719,
          0.025985342728900893,
          -0.06505907815981457,
          -0.0690131102013947,
          0.065676702160223,
          -0.02749344736428881,
          -0.000590969522415288,
          -0.0706085759510126
         ],
         "yaxis": "y"
        }
       ],
       "layout": {
        "legend": {
         "title": {
          "text": "Pollutant"
         },
         "tracegroupgap": 0
        },
        "template": {
         "data": {
          "bar": [
           {
            "error_x": {
             "color": "#2a3f5f"
            },
            "error_y": {
             "color": "#2a3f5f"
            },
            "marker": {
             "line": {
              "color": "white",
              "width": 0.5
             },
             "pattern": {
              "fillmode": "overlay",
              "size": 10,
              "solidity": 0.2
             }
            },
            "type": "bar"
           }
          ],
          "barpolar": [
           {
            "marker": {
             "line": {
              "color": "white",
              "width": 0.5
             },
             "pattern": {
              "fillmode": "overlay",
              "size": 10,
              "solidity": 0.2
             }
            },
            "type": "barpolar"
           }
          ],
          "carpet": [
           {
            "aaxis": {
             "endlinecolor": "#2a3f5f",
             "gridcolor": "#C8D4E3",
             "linecolor": "#C8D4E3",
             "minorgridcolor": "#C8D4E3",
             "startlinecolor": "#2a3f5f"
            },
            "baxis": {
             "endlinecolor": "#2a3f5f",
             "gridcolor": "#C8D4E3",
             "linecolor": "#C8D4E3",
             "minorgridcolor": "#C8D4E3",
             "startlinecolor": "#2a3f5f"
            },
            "type": "carpet"
           }
          ],
          "choropleth": [
           {
            "colorbar": {
             "outlinewidth": 0,
             "ticks": ""
            },
            "type": "choropleth"
           }
          ],
          "contour": [
           {
            "colorbar": {
             "outlinewidth": 0,
             "ticks": ""
            },
            "colorscale": [
             [
              0,
              "#0d0887"
             ],
             [
              0.1111111111111111,
              "#46039f"
             ],
             [
              0.2222222222222222,
              "#7201a8"
             ],
             [
              0.3333333333333333,
              "#9c179e"
             ],
             [
              0.4444444444444444,
              "#bd3786"
             ],
             [
              0.5555555555555556,
              "#d8576b"
             ],
             [
              0.6666666666666666,
              "#ed7953"
             ],
             [
              0.7777777777777778,
              "#fb9f3a"
             ],
             [
              0.8888888888888888,
              "#fdca26"
             ],
             [
              1,
              "#f0f921"
             ]
            ],
            "type": "contour"
           }
          ],
          "contourcarpet": [
           {
            "colorbar": {
             "outlinewidth": 0,
             "ticks": ""
            },
            "type": "contourcarpet"
           }
          ],
          "heatmap": [
           {
            "colorbar": {
             "outlinewidth": 0,
             "ticks": ""
            },
            "colorscale": [
             [
              0,
              "#0d0887"
             ],
             [
              0.1111111111111111,
              "#46039f"
             ],
             [
              0.2222222222222222,
              "#7201a8"
             ],
             [
              0.3333333333333333,
              "#9c179e"
             ],
             [
              0.4444444444444444,
              "#bd3786"
             ],
             [
              0.5555555555555556,
              "#d8576b"
             ],
             [
              0.6666666666666666,
              "#ed7953"
             ],
             [
              0.7777777777777778,
              "#fb9f3a"
             ],
             [
              0.8888888888888888,
              "#fdca26"
             ],
             [
              1,
              "#f0f921"
             ]
            ],
            "type": "heatmap"
           }
          ],
          "heatmapgl": [
           {
            "colorbar": {
             "outlinewidth": 0,
             "ticks": ""
            },
            "colorscale": [
             [
              0,
              "#0d0887"
             ],
             [
              0.1111111111111111,
              "#46039f"
             ],
             [
              0.2222222222222222,
              "#7201a8"
             ],
             [
              0.3333333333333333,
              "#9c179e"
             ],
             [
              0.4444444444444444,
              "#bd3786"
             ],
             [
              0.5555555555555556,
              "#d8576b"
             ],
             [
              0.6666666666666666,
              "#ed7953"
             ],
             [
              0.7777777777777778,
              "#fb9f3a"
             ],
             [
              0.8888888888888888,
              "#fdca26"
             ],
             [
              1,
              "#f0f921"
             ]
            ],
            "type": "heatmapgl"
           }
          ],
          "histogram": [
           {
            "marker": {
             "pattern": {
              "fillmode": "overlay",
              "size": 10,
              "solidity": 0.2
             }
            },
            "type": "histogram"
           }
          ],
          "histogram2d": [
           {
            "colorbar": {
             "outlinewidth": 0,
             "ticks": ""
            },
            "colorscale": [
             [
              0,
              "#0d0887"
             ],
             [
              0.1111111111111111,
              "#46039f"
             ],
             [
              0.2222222222222222,
              "#7201a8"
             ],
             [
              0.3333333333333333,
              "#9c179e"
             ],
             [
              0.4444444444444444,
              "#bd3786"
             ],
             [
              0.5555555555555556,
              "#d8576b"
             ],
             [
              0.6666666666666666,
              "#ed7953"
             ],
             [
              0.7777777777777778,
              "#fb9f3a"
             ],
             [
              0.8888888888888888,
              "#fdca26"
             ],
             [
              1,
              "#f0f921"
             ]
            ],
            "type": "histogram2d"
           }
          ],
          "histogram2dcontour": [
           {
            "colorbar": {
             "outlinewidth": 0,
             "ticks": ""
            },
            "colorscale": [
             [
              0,
              "#0d0887"
             ],
             [
              0.1111111111111111,
              "#46039f"
             ],
             [
              0.2222222222222222,
              "#7201a8"
             ],
             [
              0.3333333333333333,
              "#9c179e"
             ],
             [
              0.4444444444444444,
              "#bd3786"
             ],
             [
              0.5555555555555556,
              "#d8576b"
             ],
             [
              0.6666666666666666,
              "#ed7953"
             ],
             [
              0.7777777777777778,
              "#fb9f3a"
             ],
             [
              0.8888888888888888,
              "#fdca26"
             ],
             [
              1,
              "#f0f921"
             ]
            ],
            "type": "histogram2dcontour"
           }
          ],
          "mesh3d": [
           {
            "colorbar": {
             "outlinewidth": 0,
             "ticks": ""
            },
            "type": "mesh3d"
           }
          ],
          "parcoords": [
           {
            "line": {
             "colorbar": {
              "outlinewidth": 0,
              "ticks": ""
             }
            },
            "type": "parcoords"
           }
          ],
          "pie": [
           {
            "automargin": true,
            "type": "pie"
           }
          ],
          "scatter": [
           {
            "fillpattern": {
             "fillmode": "overlay",
             "size": 10,
             "solidity": 0.2
            },
            "type": "scatter"
           }
          ],
          "scatter3d": [
           {
            "line": {
             "colorbar": {
              "outlinewidth": 0,
              "ticks": ""
             }
            },
            "marker": {
             "colorbar": {
              "outlinewidth": 0,
              "ticks": ""
             }
            },
            "type": "scatter3d"
           }
          ],
          "scattercarpet": [
           {
            "marker": {
             "colorbar": {
              "outlinewidth": 0,
              "ticks": ""
             }
            },
            "type": "scattercarpet"
           }
          ],
          "scattergeo": [
           {
            "marker": {
             "colorbar": {
              "outlinewidth": 0,
              "ticks": ""
             }
            },
            "type": "scattergeo"
           }
          ],
          "scattergl": [
           {
            "marker": {
             "colorbar": {
              "outlinewidth": 0,
              "ticks": ""
             }
            },
            "type": "scattergl"
           }
          ],
          "scattermapbox": [
           {
            "marker": {
             "colorbar": {
              "outlinewidth": 0,
              "ticks": ""
             }
            },
            "type": "scattermapbox"
           }
          ],
          "scatterpolar": [
           {
            "marker": {
             "colorbar": {
              "outlinewidth": 0,
              "ticks": ""
             }
            },
            "type": "scatterpolar"
           }
          ],
          "scatterpolargl": [
           {
            "marker": {
             "colorbar": {
              "outlinewidth": 0,
              "ticks": ""
             }
            },
            "type": "scatterpolargl"
           }
          ],
          "scatterternary": [
           {
            "marker": {
             "colorbar": {
              "outlinewidth": 0,
              "ticks": ""
             }
            },
            "type": "scatterternary"
           }
          ],
          "surface": [
           {
            "colorbar": {
             "outlinewidth": 0,
             "ticks": ""
            },
            "colorscale": [
             [
              0,
              "#0d0887"
             ],
             [
              0.1111111111111111,
              "#46039f"
             ],
             [
              0.2222222222222222,
              "#7201a8"
             ],
             [
              0.3333333333333333,
              "#9c179e"
             ],
             [
              0.4444444444444444,
              "#bd3786"
             ],
             [
              0.5555555555555556,
              "#d8576b"
             ],
             [
              0.6666666666666666,
              "#ed7953"
             ],
             [
              0.7777777777777778,
              "#fb9f3a"
             ],
             [
              0.8888888888888888,
              "#fdca26"
             ],
             [
              1,
              "#f0f921"
             ]
            ],
            "type": "surface"
           }
          ],
          "table": [
           {
            "cells": {
             "fill": {
              "color": "#EBF0F8"
             },
             "line": {
              "color": "white"
             }
            },
            "header": {
             "fill": {
              "color": "#C8D4E3"
             },
             "line": {
              "color": "white"
             }
            },
            "type": "table"
           }
          ]
         },
         "layout": {
          "annotationdefaults": {
           "arrowcolor": "#2a3f5f",
           "arrowhead": 0,
           "arrowwidth": 1
          },
          "autotypenumbers": "strict",
          "coloraxis": {
           "colorbar": {
            "outlinewidth": 0,
            "ticks": ""
           }
          },
          "colorscale": {
           "diverging": [
            [
             0,
             "#8e0152"
            ],
            [
             0.1,
             "#c51b7d"
            ],
            [
             0.2,
             "#de77ae"
            ],
            [
             0.3,
             "#f1b6da"
            ],
            [
             0.4,
             "#fde0ef"
            ],
            [
             0.5,
             "#f7f7f7"
            ],
            [
             0.6,
             "#e6f5d0"
            ],
            [
             0.7,
             "#b8e186"
            ],
            [
             0.8,
             "#7fbc41"
            ],
            [
             0.9,
             "#4d9221"
            ],
            [
             1,
             "#276419"
            ]
           ],
           "sequential": [
            [
             0,
             "#0d0887"
            ],
            [
             0.1111111111111111,
             "#46039f"
            ],
            [
             0.2222222222222222,
             "#7201a8"
            ],
            [
             0.3333333333333333,
             "#9c179e"
            ],
            [
             0.4444444444444444,
             "#bd3786"
            ],
            [
             0.5555555555555556,
             "#d8576b"
            ],
            [
             0.6666666666666666,
             "#ed7953"
            ],
            [
             0.7777777777777778,
             "#fb9f3a"
            ],
            [
             0.8888888888888888,
             "#fdca26"
            ],
            [
             1,
             "#f0f921"
            ]
           ],
           "sequentialminus": [
            [
             0,
             "#0d0887"
            ],
            [
             0.1111111111111111,
             "#46039f"
            ],
            [
             0.2222222222222222,
             "#7201a8"
            ],
            [
             0.3333333333333333,
             "#9c179e"
            ],
            [
             0.4444444444444444,
             "#bd3786"
            ],
            [
             0.5555555555555556,
             "#d8576b"
            ],
            [
             0.6666666666666666,
             "#ed7953"
            ],
            [
             0.7777777777777778,
             "#fb9f3a"
            ],
            [
             0.8888888888888888,
             "#fdca26"
            ],
            [
             1,
             "#f0f921"
            ]
           ]
          },
          "colorway": [
           "#636efa",
           "#EF553B",
           "#00cc96",
           "#ab63fa",
           "#FFA15A",
           "#19d3f3",
           "#FF6692",
           "#B6E880",
           "#FF97FF",
           "#FECB52"
          ],
          "font": {
           "color": "#2a3f5f"
          },
          "geo": {
           "bgcolor": "white",
           "lakecolor": "white",
           "landcolor": "white",
           "showlakes": true,
           "showland": true,
           "subunitcolor": "#C8D4E3"
          },
          "hoverlabel": {
           "align": "left"
          },
          "hovermode": "closest",
          "mapbox": {
           "style": "light"
          },
          "paper_bgcolor": "white",
          "plot_bgcolor": "white",
          "polar": {
           "angularaxis": {
            "gridcolor": "#EBF0F8",
            "linecolor": "#EBF0F8",
            "ticks": ""
           },
           "bgcolor": "white",
           "radialaxis": {
            "gridcolor": "#EBF0F8",
            "linecolor": "#EBF0F8",
            "ticks": ""
           }
          },
          "scene": {
           "xaxis": {
            "backgroundcolor": "white",
            "gridcolor": "#DFE8F3",
            "gridwidth": 2,
            "linecolor": "#EBF0F8",
            "showbackground": true,
            "ticks": "",
            "zerolinecolor": "#EBF0F8"
           },
           "yaxis": {
            "backgroundcolor": "white",
            "gridcolor": "#DFE8F3",
            "gridwidth": 2,
            "linecolor": "#EBF0F8",
            "showbackground": true,
            "ticks": "",
            "zerolinecolor": "#EBF0F8"
           },
           "zaxis": {
            "backgroundcolor": "white",
            "gridcolor": "#DFE8F3",
            "gridwidth": 2,
            "linecolor": "#EBF0F8",
            "showbackground": true,
            "ticks": "",
            "zerolinecolor": "#EBF0F8"
           }
          },
          "shapedefaults": {
           "line": {
            "color": "#2a3f5f"
           }
          },
          "ternary": {
           "aaxis": {
            "gridcolor": "#DFE8F3",
            "linecolor": "#A2B1C6",
            "ticks": ""
           },
           "baxis": {
            "gridcolor": "#DFE8F3",
            "linecolor": "#A2B1C6",
            "ticks": ""
           },
           "bgcolor": "white",
           "caxis": {
            "gridcolor": "#DFE8F3",
            "linecolor": "#A2B1C6",
            "ticks": ""
           }
          },
          "title": {
           "x": 0.05
          },
          "xaxis": {
           "automargin": true,
           "gridcolor": "#EBF0F8",
           "linecolor": "#EBF0F8",
           "ticks": "",
           "title": {
            "standoff": 15
           },
           "zerolinecolor": "#EBF0F8",
           "zerolinewidth": 2
          },
          "yaxis": {
           "automargin": true,
           "gridcolor": "#EBF0F8",
           "linecolor": "#EBF0F8",
           "ticks": "",
           "title": {
            "standoff": 15
           },
           "zerolinecolor": "#EBF0F8",
           "zerolinewidth": 2
          }
         }
        },
        "title": {
         "text": "📈 Normalized Trend of Pollutants (2008–2018)"
        },
        "xaxis": {
         "anchor": "y",
         "domain": [
          0,
          1
         ],
         "title": {
          "text": "year"
         }
        },
        "yaxis": {
         "anchor": "x",
         "domain": [
          0,
          1
         ],
         "title": {
          "text": "Normalized Value"
         }
        }
       }
      },
      "text/html": [
       "<div>                            <div id=\"bb0db34b-dc53-4371-8d7d-82705c92bb51\" class=\"plotly-graph-div\" style=\"height:525px; width:100%;\"></div>            <script type=\"text/javascript\">                require([\"plotly\"], function(Plotly) {                    window.PLOTLYENV=window.PLOTLYENV || {};                                    if (document.getElementById(\"bb0db34b-dc53-4371-8d7d-82705c92bb51\")) {                    Plotly.newPlot(                        \"bb0db34b-dc53-4371-8d7d-82705c92bb51\",                        [{\"hovertemplate\":\"Pollutant=BEN\\u003cbr\\u003eyear=%{x}\\u003cbr\\u003eNormalized Value=%{y}\\u003cextra\\u003e\\u003c\\u002fextra\\u003e\",\"legendgroup\":\"BEN\",\"line\":{\"color\":\"#636efa\",\"dash\":\"solid\"},\"marker\":{\"symbol\":\"circle\"},\"mode\":\"lines+markers\",\"name\":\"BEN\",\"orientation\":\"v\",\"showlegend\":true,\"x\":[2008,2009,2010,2011,2012,2013,2014,2015,2016,2017,2018],\"xaxis\":\"x\",\"y\":[-0.19082640595720426,-0.26149984608784893,-0.2533875396642318,-0.23137558156804883,-0.2241927907502329,-0.28487915577231804,-0.30099105957710703,-0.26192080683575825,-0.32707295511155576,-0.34639233420460397,-0.36715276012471315],\"yaxis\":\"y\",\"type\":\"scatter\"},{\"hovertemplate\":\"Pollutant=CO\\u003cbr\\u003eyear=%{x}\\u003cbr\\u003eNormalized Value=%{y}\\u003cextra\\u003e\\u003c\\u002fextra\\u003e\",\"legendgroup\":\"CO\",\"line\":{\"color\":\"#EF553B\",\"dash\":\"solid\"},\"marker\":{\"symbol\":\"circle\"},\"mode\":\"lines+markers\",\"name\":\"CO\",\"orientation\":\"v\",\"showlegend\":true,\"x\":[2008,2009,2010,2011,2012,2013,2014,2015,2016,2017,2018],\"xaxis\":\"x\",\"y\":[-0.2583471907418869,-0.2927810218353028,-0.360797777822003,-0.3408661706467021,-0.3648469061743011,-0.41391912309678935,-0.3401481255746772,-0.3433104901132923,-0.3649832884075275,-0.34833965322337385,-0.38463215455833694],\"yaxis\":\"y\",\"type\":\"scatter\"},{\"hovertemplate\":\"Pollutant=EBE\\u003cbr\\u003eyear=%{x}\\u003cbr\\u003eNormalized Value=%{y}\\u003cextra\\u003e\\u003c\\u002fextra\\u003e\",\"legendgroup\":\"EBE\",\"line\":{\"color\":\"#00cc96\",\"dash\":\"solid\"},\"marker\":{\"symbol\":\"circle\"},\"mode\":\"lines+markers\",\"name\":\"EBE\",\"orientation\":\"v\",\"showlegend\":true,\"x\":[2008,2009,2010,2011,2012,2013,2014,2015,2016,2017,2018],\"xaxis\":\"x\",\"y\":[-0.06273763155690908,-0.08725314231670028,-0.15490563186677583,-0.2039373071918046,-0.21244946603240047,-0.27778268493719066,-0.43668442687242637,-0.42526172661369005,-0.48157835107895214,-0.47206730444617234,-0.5160018133440003],\"yaxis\":\"y\",\"type\":\"scatter\"},{\"hovertemplate\":\"Pollutant=NMHC\\u003cbr\\u003eyear=%{x}\\u003cbr\\u003eNormalized Value=%{y}\\u003cextra\\u003e\\u003c\\u002fextra\\u003e\",\"legendgroup\":\"NMHC\",\"line\":{\"color\":\"#ab63fa\",\"dash\":\"solid\"},\"marker\":{\"symbol\":\"circle\"},\"mode\":\"lines+markers\",\"name\":\"NMHC\",\"orientation\":\"v\",\"showlegend\":true,\"x\":[2008,2009,2010,2011,2012,2013,2014,2015,2016,2017,2018],\"xaxis\":\"x\",\"y\":[0.03261710918219011,0.12021500417714791,0.14359341292098693,0.04179848198495127,-0.0009280737526648196,0.033560961166424076,0.5725654777474956,0.4816779614172293,-0.40951588694693325,-0.3866236627973055,-0.7932989411046625],\"yaxis\":\"y\",\"type\":\"scatter\"},{\"hovertemplate\":\"Pollutant=NOx\\u003cbr\\u003eyear=%{x}\\u003cbr\\u003eNormalized Value=%{y}\\u003cextra\\u003e\\u003c\\u002fextra\\u003e\",\"legendgroup\":\"NOx\",\"line\":{\"color\":\"#FFA15A\",\"dash\":\"solid\"},\"marker\":{\"symbol\":\"circle\"},\"mode\":\"lines+markers\",\"name\":\"NOx\",\"orientation\":\"v\",\"showlegend\":true,\"x\":[2008,2009,2010,2011,2012,2013,2014,2015,2016,2017,2018],\"xaxis\":\"x\",\"y\":[-0.12648542918853425,-0.18256545200999894,-0.37470648479583035,null,null,null,null,null,null,0.14472081354456345,-0.36434387538239027],\"yaxis\":\"y\",\"type\":\"scatter\"},{\"hovertemplate\":\"Pollutant=NO_2\\u003cbr\\u003eyear=%{x}\\u003cbr\\u003eNormalized Value=%{y}\\u003cextra\\u003e\\u003c\\u002fextra\\u003e\",\"legendgroup\":\"NO_2\",\"line\":{\"color\":\"#19d3f3\",\"dash\":\"solid\"},\"marker\":{\"symbol\":\"circle\"},\"mode\":\"lines+markers\",\"name\":\"NO_2\",\"orientation\":\"v\",\"showlegend\":true,\"x\":[2008,2009,2010,2011,2012,2013,2014,2015,2016,2017,2018],\"xaxis\":\"x\",\"y\":[0.14139717983272734,0.11211418315168252,-0.17936344476358687,-0.1617597718037634,-0.34202104747730466,-0.45614470220876113,-0.4462187856409109,-0.2746864485801971,-0.34475454716910964,-0.2573073421364773,-0.3426431520144851],\"yaxis\":\"y\",\"type\":\"scatter\"},{\"hovertemplate\":\"Pollutant=O_3\\u003cbr\\u003eyear=%{x}\\u003cbr\\u003eNormalized Value=%{y}\\u003cextra\\u003e\\u003c\\u002fextra\\u003e\",\"legendgroup\":\"O_3\",\"line\":{\"color\":\"#FF6692\",\"dash\":\"solid\"},\"marker\":{\"symbol\":\"circle\"},\"mode\":\"lines+markers\",\"name\":\"O_3\",\"orientation\":\"v\",\"showlegend\":true,\"x\":[2008,2009,2010,2011,2012,2013,2014,2015,2016,2017,2018],\"xaxis\":\"x\",\"y\":[-0.02589388336778916,0.16032195481810885,0.25752254291817933,0.16989030892228493,0.04417175821450228,0.3353969539901644,0.38875997826644804,0.3539316729792081,0.30420633097273464,0.2796983231691134,0.16574499967063971],\"yaxis\":\"y\",\"type\":\"scatter\"},{\"hovertemplate\":\"Pollutant=PM10\\u003cbr\\u003eyear=%{x}\\u003cbr\\u003eNormalized Value=%{y}\\u003cextra\\u003e\\u003c\\u002fextra\\u003e\",\"legendgroup\":\"PM10\",\"line\":{\"color\":\"#B6E880\",\"dash\":\"solid\"},\"marker\":{\"symbol\":\"circle\"},\"mode\":\"lines+markers\",\"name\":\"PM10\",\"orientation\":\"v\",\"showlegend\":true,\"x\":[2008,2009,2010,2011,2012,2013,2014,2015,2016,2017,2018],\"xaxis\":\"x\",\"y\":[-0.08961571954561784,-0.17012783760955666,-0.27341674564255275,-0.21771048005656463,-0.2057789685712654,-0.4071039640806354,-0.3718005895013603,-0.30514585513249043,-0.37709521888726144,-0.3465188595263041,-0.5941308824295014],\"yaxis\":\"y\",\"type\":\"scatter\"},{\"hovertemplate\":\"Pollutant=SO_2\\u003cbr\\u003eyear=%{x}\\u003cbr\\u003eNormalized Value=%{y}\\u003cextra\\u003e\\u003c\\u002fextra\\u003e\",\"legendgroup\":\"SO_2\",\"line\":{\"color\":\"#FF97FF\",\"dash\":\"solid\"},\"marker\":{\"symbol\":\"circle\"},\"mode\":\"lines+markers\",\"name\":\"SO_2\",\"orientation\":\"v\",\"showlegend\":true,\"x\":[2008,2009,2010,2011,2012,2013,2014,2015,2016,2017,2018],\"xaxis\":\"x\",\"y\":[-0.009978204264504078,-0.04113077874395135,-0.10445057373723414,-0.40880996272938463,-0.6887543180687605,-0.6835929050870937,-0.6174155518626552,-0.41375573918302805,-0.3249680636171051,-0.41700203599206703,-0.5774052908588988],\"yaxis\":\"y\",\"type\":\"scatter\"},{\"hovertemplate\":\"Pollutant=TCH\\u003cbr\\u003eyear=%{x}\\u003cbr\\u003eNormalized Value=%{y}\\u003cextra\\u003e\\u003c\\u002fextra\\u003e\",\"legendgroup\":\"TCH\",\"line\":{\"color\":\"#FECB52\",\"dash\":\"solid\"},\"marker\":{\"symbol\":\"circle\"},\"mode\":\"lines+markers\",\"name\":\"TCH\",\"orientation\":\"v\",\"showlegend\":true,\"x\":[2008,2009,2010,2011,2012,2013,2014,2015,2016,2017,2018],\"xaxis\":\"x\",\"y\":[-0.009423874607025554,0.12544524275535587,-0.04324484870928465,-0.013424715473326099,-0.2107082728219859,-0.05498232461069806,-0.11795661671695624,0.32897010081341876,-0.2773503620513937,-0.16927689384270847,-0.3683924552489401],\"yaxis\":\"y\",\"type\":\"scatter\"},{\"hovertemplate\":\"Pollutant=TOL\\u003cbr\\u003eyear=%{x}\\u003cbr\\u003eNormalized Value=%{y}\\u003cextra\\u003e\\u003c\\u002fextra\\u003e\",\"legendgroup\":\"TOL\",\"line\":{\"color\":\"#636efa\",\"dash\":\"solid\"},\"marker\":{\"symbol\":\"circle\"},\"mode\":\"lines+markers\",\"name\":\"TOL\",\"orientation\":\"v\",\"showlegend\":true,\"x\":[2008,2009,2010,2011,2012,2013,2014,2015,2016,2017,2018],\"xaxis\":\"x\",\"y\":[-0.16834311935976473,-0.23548500019919433,-0.3141786500884963,-0.2720203516464532,-0.28916222522877294,-0.3882780063841427,-0.3702926773888574,-0.32130780259672564,-0.38848943591927443,-0.3855805760496668,-0.4937165602823191],\"yaxis\":\"y\",\"type\":\"scatter\"},{\"hovertemplate\":\"Pollutant=MXY\\u003cbr\\u003eyear=%{x}\\u003cbr\\u003eNormalized Value=%{y}\\u003cextra\\u003e\\u003c\\u002fextra\\u003e\",\"legendgroup\":\"MXY\",\"line\":{\"color\":\"#EF553B\",\"dash\":\"solid\"},\"marker\":{\"symbol\":\"circle\"},\"mode\":\"lines+markers\",\"name\":\"MXY\",\"orientation\":\"v\",\"showlegend\":true,\"x\":[2008,2009,2010,2011,2012,2013,2014,2015,2016,2017,2018],\"xaxis\":\"x\",\"y\":[-0.3939354839770968,-0.4289122950754431,-0.6805566040773091,null,null,null,null,null,null,null,null],\"yaxis\":\"y\",\"type\":\"scatter\"},{\"hovertemplate\":\"Pollutant=OXY\\u003cbr\\u003eyear=%{x}\\u003cbr\\u003eNormalized Value=%{y}\\u003cextra\\u003e\\u003c\\u002fextra\\u003e\",\"legendgroup\":\"OXY\",\"line\":{\"color\":\"#00cc96\",\"dash\":\"solid\"},\"marker\":{\"symbol\":\"circle\"},\"mode\":\"lines+markers\",\"name\":\"OXY\",\"orientation\":\"v\",\"showlegend\":true,\"x\":[2008,2009,2010,2011,2012,2013,2014,2015,2016,2017,2018],\"xaxis\":\"x\",\"y\":[-0.30288613782797297,-0.3481489268428381,-0.5170942084229943,null,null,null,null,null,null,null,null],\"yaxis\":\"y\",\"type\":\"scatter\"},{\"hovertemplate\":\"Pollutant=PXY\\u003cbr\\u003eyear=%{x}\\u003cbr\\u003eNormalized Value=%{y}\\u003cextra\\u003e\\u003c\\u002fextra\\u003e\",\"legendgroup\":\"PXY\",\"line\":{\"color\":\"#ab63fa\",\"dash\":\"solid\"},\"marker\":{\"symbol\":\"circle\"},\"mode\":\"lines+markers\",\"name\":\"PXY\",\"orientation\":\"v\",\"showlegend\":true,\"x\":[2008,2009,2010,2011,2012,2013,2014,2015,2016,2017,2018],\"xaxis\":\"x\",\"y\":[-0.30738777252148747,-0.34150751646065003,-0.5252258724183957,null,null,null,null,null,null,null,null],\"yaxis\":\"y\",\"type\":\"scatter\"},{\"hovertemplate\":\"Pollutant=PM25\\u003cbr\\u003eyear=%{x}\\u003cbr\\u003eNormalized Value=%{y}\\u003cextra\\u003e\\u003c\\u002fextra\\u003e\",\"legendgroup\":\"PM25\",\"line\":{\"color\":\"#FFA15A\",\"dash\":\"solid\"},\"marker\":{\"symbol\":\"circle\"},\"mode\":\"lines+markers\",\"name\":\"PM25\",\"orientation\":\"v\",\"showlegend\":true,\"x\":[2008,2009,2010,2011,2012,2013,2014,2015,2016,2017,2018],\"xaxis\":\"x\",\"y\":[0.05924542707305177,-0.08326814059953024,-0.15564934398371508,-0.12988529316030833,-0.17151051456399055,-0.3390764955376329,-0.2779674226254587,-0.20194187832798596,-0.29881418851711133,-0.33804501476811777,-0.5368474402848896],\"yaxis\":\"y\",\"type\":\"scatter\"},{\"hovertemplate\":\"Pollutant=CH4\\u003cbr\\u003eyear=%{x}\\u003cbr\\u003eNormalized Value=%{y}\\u003cextra\\u003e\\u003c\\u002fextra\\u003e\",\"legendgroup\":\"CH4\",\"line\":{\"color\":\"#19d3f3\",\"dash\":\"solid\"},\"marker\":{\"symbol\":\"circle\"},\"mode\":\"lines+markers\",\"name\":\"CH4\",\"orientation\":\"v\",\"showlegend\":true,\"x\":[2008,2009,2010,2011,2012,2013,2014,2015,2016,2017,2018],\"xaxis\":\"x\",\"y\":[null,null,null,null,null,null,null,null,null,0.10416753546952608,-0.07911302160659577],\"yaxis\":\"y\",\"type\":\"scatter\"},{\"hovertemplate\":\"Pollutant=NO\\u003cbr\\u003eyear=%{x}\\u003cbr\\u003eNormalized Value=%{y}\\u003cextra\\u003e\\u003c\\u002fextra\\u003e\",\"legendgroup\":\"NO\",\"line\":{\"color\":\"#FF6692\",\"dash\":\"solid\"},\"marker\":{\"symbol\":\"circle\"},\"mode\":\"lines+markers\",\"name\":\"NO\",\"orientation\":\"v\",\"showlegend\":true,\"x\":[2008,2009,2010,2011,2012,2013,2014,2015,2016,2017,2018],\"xaxis\":\"x\",\"y\":[null,null,null,0.09375423791142719,0.025985342728900893,-0.06505907815981457,-0.0690131102013947,0.065676702160223,-0.02749344736428881,-0.000590969522415288,-0.0706085759510126],\"yaxis\":\"y\",\"type\":\"scatter\"}],                        {\"template\":{\"data\":{\"barpolar\":[{\"marker\":{\"line\":{\"color\":\"white\",\"width\":0.5},\"pattern\":{\"fillmode\":\"overlay\",\"size\":10,\"solidity\":0.2}},\"type\":\"barpolar\"}],\"bar\":[{\"error_x\":{\"color\":\"#2a3f5f\"},\"error_y\":{\"color\":\"#2a3f5f\"},\"marker\":{\"line\":{\"color\":\"white\",\"width\":0.5},\"pattern\":{\"fillmode\":\"overlay\",\"size\":10,\"solidity\":0.2}},\"type\":\"bar\"}],\"carpet\":[{\"aaxis\":{\"endlinecolor\":\"#2a3f5f\",\"gridcolor\":\"#C8D4E3\",\"linecolor\":\"#C8D4E3\",\"minorgridcolor\":\"#C8D4E3\",\"startlinecolor\":\"#2a3f5f\"},\"baxis\":{\"endlinecolor\":\"#2a3f5f\",\"gridcolor\":\"#C8D4E3\",\"linecolor\":\"#C8D4E3\",\"minorgridcolor\":\"#C8D4E3\",\"startlinecolor\":\"#2a3f5f\"},\"type\":\"carpet\"}],\"choropleth\":[{\"colorbar\":{\"outlinewidth\":0,\"ticks\":\"\"},\"type\":\"choropleth\"}],\"contourcarpet\":[{\"colorbar\":{\"outlinewidth\":0,\"ticks\":\"\"},\"type\":\"contourcarpet\"}],\"contour\":[{\"colorbar\":{\"outlinewidth\":0,\"ticks\":\"\"},\"colorscale\":[[0.0,\"#0d0887\"],[0.1111111111111111,\"#46039f\"],[0.2222222222222222,\"#7201a8\"],[0.3333333333333333,\"#9c179e\"],[0.4444444444444444,\"#bd3786\"],[0.5555555555555556,\"#d8576b\"],[0.6666666666666666,\"#ed7953\"],[0.7777777777777778,\"#fb9f3a\"],[0.8888888888888888,\"#fdca26\"],[1.0,\"#f0f921\"]],\"type\":\"contour\"}],\"heatmapgl\":[{\"colorbar\":{\"outlinewidth\":0,\"ticks\":\"\"},\"colorscale\":[[0.0,\"#0d0887\"],[0.1111111111111111,\"#46039f\"],[0.2222222222222222,\"#7201a8\"],[0.3333333333333333,\"#9c179e\"],[0.4444444444444444,\"#bd3786\"],[0.5555555555555556,\"#d8576b\"],[0.6666666666666666,\"#ed7953\"],[0.7777777777777778,\"#fb9f3a\"],[0.8888888888888888,\"#fdca26\"],[1.0,\"#f0f921\"]],\"type\":\"heatmapgl\"}],\"heatmap\":[{\"colorbar\":{\"outlinewidth\":0,\"ticks\":\"\"},\"colorscale\":[[0.0,\"#0d0887\"],[0.1111111111111111,\"#46039f\"],[0.2222222222222222,\"#7201a8\"],[0.3333333333333333,\"#9c179e\"],[0.4444444444444444,\"#bd3786\"],[0.5555555555555556,\"#d8576b\"],[0.6666666666666666,\"#ed7953\"],[0.7777777777777778,\"#fb9f3a\"],[0.8888888888888888,\"#fdca26\"],[1.0,\"#f0f921\"]],\"type\":\"heatmap\"}],\"histogram2dcontour\":[{\"colorbar\":{\"outlinewidth\":0,\"ticks\":\"\"},\"colorscale\":[[0.0,\"#0d0887\"],[0.1111111111111111,\"#46039f\"],[0.2222222222222222,\"#7201a8\"],[0.3333333333333333,\"#9c179e\"],[0.4444444444444444,\"#bd3786\"],[0.5555555555555556,\"#d8576b\"],[0.6666666666666666,\"#ed7953\"],[0.7777777777777778,\"#fb9f3a\"],[0.8888888888888888,\"#fdca26\"],[1.0,\"#f0f921\"]],\"type\":\"histogram2dcontour\"}],\"histogram2d\":[{\"colorbar\":{\"outlinewidth\":0,\"ticks\":\"\"},\"colorscale\":[[0.0,\"#0d0887\"],[0.1111111111111111,\"#46039f\"],[0.2222222222222222,\"#7201a8\"],[0.3333333333333333,\"#9c179e\"],[0.4444444444444444,\"#bd3786\"],[0.5555555555555556,\"#d8576b\"],[0.6666666666666666,\"#ed7953\"],[0.7777777777777778,\"#fb9f3a\"],[0.8888888888888888,\"#fdca26\"],[1.0,\"#f0f921\"]],\"type\":\"histogram2d\"}],\"histogram\":[{\"marker\":{\"pattern\":{\"fillmode\":\"overlay\",\"size\":10,\"solidity\":0.2}},\"type\":\"histogram\"}],\"mesh3d\":[{\"colorbar\":{\"outlinewidth\":0,\"ticks\":\"\"},\"type\":\"mesh3d\"}],\"parcoords\":[{\"line\":{\"colorbar\":{\"outlinewidth\":0,\"ticks\":\"\"}},\"type\":\"parcoords\"}],\"pie\":[{\"automargin\":true,\"type\":\"pie\"}],\"scatter3d\":[{\"line\":{\"colorbar\":{\"outlinewidth\":0,\"ticks\":\"\"}},\"marker\":{\"colorbar\":{\"outlinewidth\":0,\"ticks\":\"\"}},\"type\":\"scatter3d\"}],\"scattercarpet\":[{\"marker\":{\"colorbar\":{\"outlinewidth\":0,\"ticks\":\"\"}},\"type\":\"scattercarpet\"}],\"scattergeo\":[{\"marker\":{\"colorbar\":{\"outlinewidth\":0,\"ticks\":\"\"}},\"type\":\"scattergeo\"}],\"scattergl\":[{\"marker\":{\"colorbar\":{\"outlinewidth\":0,\"ticks\":\"\"}},\"type\":\"scattergl\"}],\"scattermapbox\":[{\"marker\":{\"colorbar\":{\"outlinewidth\":0,\"ticks\":\"\"}},\"type\":\"scattermapbox\"}],\"scatterpolargl\":[{\"marker\":{\"colorbar\":{\"outlinewidth\":0,\"ticks\":\"\"}},\"type\":\"scatterpolargl\"}],\"scatterpolar\":[{\"marker\":{\"colorbar\":{\"outlinewidth\":0,\"ticks\":\"\"}},\"type\":\"scatterpolar\"}],\"scatter\":[{\"fillpattern\":{\"fillmode\":\"overlay\",\"size\":10,\"solidity\":0.2},\"type\":\"scatter\"}],\"scatterternary\":[{\"marker\":{\"colorbar\":{\"outlinewidth\":0,\"ticks\":\"\"}},\"type\":\"scatterternary\"}],\"surface\":[{\"colorbar\":{\"outlinewidth\":0,\"ticks\":\"\"},\"colorscale\":[[0.0,\"#0d0887\"],[0.1111111111111111,\"#46039f\"],[0.2222222222222222,\"#7201a8\"],[0.3333333333333333,\"#9c179e\"],[0.4444444444444444,\"#bd3786\"],[0.5555555555555556,\"#d8576b\"],[0.6666666666666666,\"#ed7953\"],[0.7777777777777778,\"#fb9f3a\"],[0.8888888888888888,\"#fdca26\"],[1.0,\"#f0f921\"]],\"type\":\"surface\"}],\"table\":[{\"cells\":{\"fill\":{\"color\":\"#EBF0F8\"},\"line\":{\"color\":\"white\"}},\"header\":{\"fill\":{\"color\":\"#C8D4E3\"},\"line\":{\"color\":\"white\"}},\"type\":\"table\"}]},\"layout\":{\"annotationdefaults\":{\"arrowcolor\":\"#2a3f5f\",\"arrowhead\":0,\"arrowwidth\":1},\"autotypenumbers\":\"strict\",\"coloraxis\":{\"colorbar\":{\"outlinewidth\":0,\"ticks\":\"\"}},\"colorscale\":{\"diverging\":[[0,\"#8e0152\"],[0.1,\"#c51b7d\"],[0.2,\"#de77ae\"],[0.3,\"#f1b6da\"],[0.4,\"#fde0ef\"],[0.5,\"#f7f7f7\"],[0.6,\"#e6f5d0\"],[0.7,\"#b8e186\"],[0.8,\"#7fbc41\"],[0.9,\"#4d9221\"],[1,\"#276419\"]],\"sequential\":[[0.0,\"#0d0887\"],[0.1111111111111111,\"#46039f\"],[0.2222222222222222,\"#7201a8\"],[0.3333333333333333,\"#9c179e\"],[0.4444444444444444,\"#bd3786\"],[0.5555555555555556,\"#d8576b\"],[0.6666666666666666,\"#ed7953\"],[0.7777777777777778,\"#fb9f3a\"],[0.8888888888888888,\"#fdca26\"],[1.0,\"#f0f921\"]],\"sequentialminus\":[[0.0,\"#0d0887\"],[0.1111111111111111,\"#46039f\"],[0.2222222222222222,\"#7201a8\"],[0.3333333333333333,\"#9c179e\"],[0.4444444444444444,\"#bd3786\"],[0.5555555555555556,\"#d8576b\"],[0.6666666666666666,\"#ed7953\"],[0.7777777777777778,\"#fb9f3a\"],[0.8888888888888888,\"#fdca26\"],[1.0,\"#f0f921\"]]},\"colorway\":[\"#636efa\",\"#EF553B\",\"#00cc96\",\"#ab63fa\",\"#FFA15A\",\"#19d3f3\",\"#FF6692\",\"#B6E880\",\"#FF97FF\",\"#FECB52\"],\"font\":{\"color\":\"#2a3f5f\"},\"geo\":{\"bgcolor\":\"white\",\"lakecolor\":\"white\",\"landcolor\":\"white\",\"showlakes\":true,\"showland\":true,\"subunitcolor\":\"#C8D4E3\"},\"hoverlabel\":{\"align\":\"left\"},\"hovermode\":\"closest\",\"mapbox\":{\"style\":\"light\"},\"paper_bgcolor\":\"white\",\"plot_bgcolor\":\"white\",\"polar\":{\"angularaxis\":{\"gridcolor\":\"#EBF0F8\",\"linecolor\":\"#EBF0F8\",\"ticks\":\"\"},\"bgcolor\":\"white\",\"radialaxis\":{\"gridcolor\":\"#EBF0F8\",\"linecolor\":\"#EBF0F8\",\"ticks\":\"\"}},\"scene\":{\"xaxis\":{\"backgroundcolor\":\"white\",\"gridcolor\":\"#DFE8F3\",\"gridwidth\":2,\"linecolor\":\"#EBF0F8\",\"showbackground\":true,\"ticks\":\"\",\"zerolinecolor\":\"#EBF0F8\"},\"yaxis\":{\"backgroundcolor\":\"white\",\"gridcolor\":\"#DFE8F3\",\"gridwidth\":2,\"linecolor\":\"#EBF0F8\",\"showbackground\":true,\"ticks\":\"\",\"zerolinecolor\":\"#EBF0F8\"},\"zaxis\":{\"backgroundcolor\":\"white\",\"gridcolor\":\"#DFE8F3\",\"gridwidth\":2,\"linecolor\":\"#EBF0F8\",\"showbackground\":true,\"ticks\":\"\",\"zerolinecolor\":\"#EBF0F8\"}},\"shapedefaults\":{\"line\":{\"color\":\"#2a3f5f\"}},\"ternary\":{\"aaxis\":{\"gridcolor\":\"#DFE8F3\",\"linecolor\":\"#A2B1C6\",\"ticks\":\"\"},\"baxis\":{\"gridcolor\":\"#DFE8F3\",\"linecolor\":\"#A2B1C6\",\"ticks\":\"\"},\"bgcolor\":\"white\",\"caxis\":{\"gridcolor\":\"#DFE8F3\",\"linecolor\":\"#A2B1C6\",\"ticks\":\"\"}},\"title\":{\"x\":0.05},\"xaxis\":{\"automargin\":true,\"gridcolor\":\"#EBF0F8\",\"linecolor\":\"#EBF0F8\",\"ticks\":\"\",\"title\":{\"standoff\":15},\"zerolinecolor\":\"#EBF0F8\",\"zerolinewidth\":2},\"yaxis\":{\"automargin\":true,\"gridcolor\":\"#EBF0F8\",\"linecolor\":\"#EBF0F8\",\"ticks\":\"\",\"title\":{\"standoff\":15},\"zerolinecolor\":\"#EBF0F8\",\"zerolinewidth\":2}}},\"xaxis\":{\"anchor\":\"y\",\"domain\":[0.0,1.0],\"title\":{\"text\":\"year\"}},\"yaxis\":{\"anchor\":\"x\",\"domain\":[0.0,1.0],\"title\":{\"text\":\"Normalized Value\"}},\"legend\":{\"title\":{\"text\":\"Pollutant\"},\"tracegroupgap\":0},\"title\":{\"text\":\"\\ud83d\\udcc8 Normalized Trend of Pollutants (2008\\u20132018)\"}},                        {\"responsive\": true}                    ).then(function(){\n",
       "                            \n",
       "var gd = document.getElementById('bb0db34b-dc53-4371-8d7d-82705c92bb51');\n",
       "var x = new MutationObserver(function (mutations, observer) {{\n",
       "        var display = window.getComputedStyle(gd).display;\n",
       "        if (!display || display === 'none') {{\n",
       "            console.log([gd, 'removed!']);\n",
       "            Plotly.purge(gd);\n",
       "            observer.disconnect();\n",
       "        }}\n",
       "}});\n",
       "\n",
       "// Listen for the removal of the full notebook cells\n",
       "var notebookContainer = gd.closest('#notebook-container');\n",
       "if (notebookContainer) {{\n",
       "    x.observe(notebookContainer, {childList: true});\n",
       "}}\n",
       "\n",
       "// Listen for the clearing of the current output cell\n",
       "var outputEl = gd.closest('.output');\n",
       "if (outputEl) {{\n",
       "    x.observe(outputEl, {childList: true});\n",
       "}}\n",
       "\n",
       "                        })                };                });            </script>        </div>"
      ]
     },
     "metadata": {},
     "output_type": "display_data"
    }
   ],
   "source": [
    "# Filter for 2008–2018\n",
    "data_decade = scaled_data[scaled_data['year'].between(2008, 2018)]\n",
    "\n",
    "# Compute yearly averages per pollutant\n",
    "yearly_avg = data_decade.groupby('year')[pollutants].mean().reset_index()\n",
    "\n",
    "# Melt for Plotly\n",
    "melted = yearly_avg.melt(id_vars='year', var_name='Pollutant', value_name='Average')\n",
    "\n",
    "\n",
    "fig = px.line(\n",
    "    melted,\n",
    "    x='year',\n",
    "    y='Average',\n",
    "    color='Pollutant',\n",
    "    title='📈 Normalized Trend of Pollutants (2008–2018)',\n",
    "    markers=True,\n",
    "    labels={'Average': 'Normalized Value'}\n",
    ")\n",
    "\n",
    "fig.update_layout(template='plotly_white')\n",
    "fig.show()\n"
   ]
  }
 ],
 "metadata": {
  "kernelspec": {
   "display_name": "Python 3 (ipykernel)",
   "language": "python",
   "name": "python3"
  },
  "language_info": {
   "codemirror_mode": {
    "name": "ipython",
    "version": 3
   },
   "file_extension": ".py",
   "mimetype": "text/x-python",
   "name": "python",
   "nbconvert_exporter": "python",
   "pygments_lexer": "ipython3",
   "version": "3.9.18"
  },
  "toc": {
   "base_numbering": 1,
   "nav_menu": {},
   "number_sections": true,
   "sideBar": true,
   "skip_h1_title": false,
   "title_cell": "Table of Contents",
   "title_sidebar": "Contents",
   "toc_cell": false,
   "toc_position": {},
   "toc_section_display": true,
   "toc_window_display": false
  }
 },
 "nbformat": 4,
 "nbformat_minor": 5
}
